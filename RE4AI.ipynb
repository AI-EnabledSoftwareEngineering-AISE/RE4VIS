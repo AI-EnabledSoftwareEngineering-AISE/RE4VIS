{
 "cells": [
  {
   "cell_type": "code",
   "execution_count": 1,
   "id": "579b8914",
   "metadata": {
    "scrolled": true
   },
   "outputs": [],
   "source": [
    "import glob\n",
    "import pandas as pd\n",
    "import json\n",
    "# https://www.machinelearningplus.com/nlp/lemmatization-examples-python/\n",
    "# import these modules\n",
    "import nltk\n",
    "from nltk.stem import WordNetLemmatizer\n",
    "from nltk.corpus import wordnet\n",
    "\n",
    "# from bertopic import BERTopic\n",
    "import numpy as np\n",
    "\n",
    "lemmatizer = WordNetLemmatizer()"
   ]
  },
  {
   "cell_type": "code",
   "execution_count": 2,
   "id": "862674cc",
   "metadata": {},
   "outputs": [],
   "source": [
    "import pickle"
   ]
  },
  {
   "cell_type": "code",
   "execution_count": 3,
   "id": "3f8eb656",
   "metadata": {
    "scrolled": true
   },
   "outputs": [],
   "source": [
    "from bertopic import BERTopic"
   ]
  },
  {
   "cell_type": "code",
   "execution_count": 4,
   "id": "61e940f4",
   "metadata": {},
   "outputs": [],
   "source": [
    "from sentence_transformers import SentenceTransformer\n"
   ]
  },
  {
   "cell_type": "code",
   "execution_count": 5,
   "id": "0fdaa082",
   "metadata": {},
   "outputs": [],
   "source": [
    "import os\n",
    "from tqdm.notebook import tqdm, trange"
   ]
  },
  {
   "cell_type": "code",
   "execution_count": 6,
   "id": "be4118d5",
   "metadata": {},
   "outputs": [],
   "source": [
    "def get_avg(file_names):\n",
    "    count_f = 0\n",
    "    sum_length = 0\n",
    "    for fn in file_names:\n",
    "        ln = get_length(fn)\n",
    "        sum_length = sum_length + ln\n",
    "        if ln > 0:\n",
    "            count_f = count_f + 1\n",
    "    print(f\"your avg is: {sum_length/count_f}\")"
   ]
  },
  {
   "cell_type": "code",
   "execution_count": 7,
   "id": "6b5f9f9f",
   "metadata": {},
   "outputs": [],
   "source": [
    "def get_length(fn):\n",
    "    ln = 0\n",
    "    with open(fn, \"r\") as rf:\n",
    "        r_text = rf.readlines()\n",
    "        ln = len(r_text)\n",
    "    return ln"
   ]
  },
  {
   "cell_type": "code",
   "execution_count": 8,
   "id": "d5e18234",
   "metadata": {},
   "outputs": [
    {
     "name": "stdout",
     "output_type": "stream",
     "text": [
      "13615\r\n"
     ]
    }
   ],
   "source": [
    "! ls -1 ~/text_processing/data/wiki_texts/ped_pt | wc -l"
   ]
  },
  {
   "cell_type": "code",
   "execution_count": 9,
   "id": "8d581891",
   "metadata": {},
   "outputs": [
    {
     "name": "stdout",
     "output_type": "stream",
     "text": [
      "1003\r\n"
     ]
    }
   ],
   "source": [
    "! ls -1 ~/text_processing/data/britanica_texts/ped_pt | wc -l"
   ]
  },
  {
   "cell_type": "code",
   "execution_count": 10,
   "id": "929ce3f5",
   "metadata": {},
   "outputs": [
    {
     "name": "stdout",
     "output_type": "stream",
     "text": [
      "13615\n"
     ]
    }
   ],
   "source": [
    "file_names_wi_p = [f for f in glob.glob(\"../text_processing/data/wiki_texts/ped_pt/*.txt\")]\n",
    "print(len(file_names_wi_p))"
   ]
  },
  {
   "cell_type": "code",
   "execution_count": 11,
   "id": "cf8fbfbc",
   "metadata": {},
   "outputs": [
    {
     "name": "stdout",
     "output_type": "stream",
     "text": [
      "1003\n"
     ]
    }
   ],
   "source": [
    "file_names_br_p = [f for f in glob.glob(\"../text_processing/data/britanica_texts/ped_pt/*.txt\")]\n",
    "print(len(file_names_br_p))"
   ]
  },
  {
   "cell_type": "code",
   "execution_count": 12,
   "id": "ab019740",
   "metadata": {},
   "outputs": [],
   "source": [
    "edit_line = \"Our editors will review what you’ve submitted and determine whether to revise the article\""
   ]
  },
  {
   "cell_type": "code",
   "execution_count": null,
   "id": "9347cd21",
   "metadata": {},
   "outputs": [],
   "source": [
    "# list comprehension joining every two elements together in a list\n",
    "# [ ''.join(x) for x in zip(lst[0::2], lst[1::2]) ]"
   ]
  },
  {
   "cell_type": "code",
   "execution_count": 114,
   "id": "323d52b0",
   "metadata": {},
   "outputs": [],
   "source": [
    "not_stemmed_word = pd.read_csv(\"../text_processing/ped_not_stemmed_word_based_wiki_score.csv\")\n",
    "check_for = not_stemmed_word[\"word\"].tolist()"
   ]
  },
  {
   "cell_type": "code",
   "execution_count": 117,
   "id": "975bf878",
   "metadata": {},
   "outputs": [],
   "source": [
    "def check_sentence(lines):\n",
    "    fl = []\n",
    "    fl.extend(lines[0:25])\n",
    "    for l in lines[25:]:\n",
    "        if any(ele in l for ele in check_for):\n",
    "            fl.append(l)\n",
    "    return fl"
   ]
  },
  {
   "cell_type": "code",
   "execution_count": 160,
   "id": "0b53b5b2",
   "metadata": {},
   "outputs": [],
   "source": [
    "def concatenate_chunks(string_list, chunk_size):\n",
    "    if chunk_size > len(string_list):\n",
    "        return [\" \".join(string_list)]\n",
    "    else:\n",
    "        chunks = []\n",
    "        for i in range(0, len(string_list), chunk_size):\n",
    "            chunk = \"\".join(string_list[i:i + chunk_size])\n",
    "            chunks.append(chunk)\n",
    "        return chunks"
   ]
  },
  {
   "cell_type": "code",
   "execution_count": 193,
   "id": "abab081b",
   "metadata": {},
   "outputs": [],
   "source": [
    "docs_p = []\n",
    "for fn in file_names_wi_p:\n",
    "    with open(fn, \"r\") as rf:\n",
    "        fl = rf.read().splitlines()\n",
    "        fl = [l.replace(edit_line, \" \").strip() if edit_line in l else l for l in fl]\n",
    "        fl = [l.strip() for l in fl  if l != '']\n",
    "    docs_p.extend(fl)"
   ]
  },
  {
   "cell_type": "code",
   "execution_count": 194,
   "id": "e244bbab",
   "metadata": {},
   "outputs": [
    {
     "data": {
      "text/plain": [
       "490129"
      ]
     },
     "execution_count": 194,
     "metadata": {},
     "output_type": "execute_result"
    }
   ],
   "source": [
    "len(docs_p)"
   ]
  },
  {
   "cell_type": "code",
   "execution_count": 195,
   "id": "2832e2b3",
   "metadata": {},
   "outputs": [],
   "source": [
    "for fn in file_names_br_p:\n",
    "    with open(fn, \"r\") as rf:\n",
    "        fl = rf.read().splitlines()\n",
    "        fl = [l.replace(edit_line, \" \") if edit_line in l else l for l in fl]\n",
    "        fl = [l.strip() for l in fl  if l != '']\n",
    "        nl = concatenate_chunks(fl, 75)\n",
    "        docs_p.extend(nl)"
   ]
  },
  {
   "cell_type": "code",
   "execution_count": 196,
   "id": "8aba7bba",
   "metadata": {},
   "outputs": [
    {
     "data": {
      "text/plain": [
       "869061"
      ]
     },
     "execution_count": 196,
     "metadata": {},
     "output_type": "execute_result"
    }
   ],
   "source": [
    "len(docs_p)"
   ]
  },
  {
   "cell_type": "code",
   "execution_count": 198,
   "id": "6d2a61e0",
   "metadata": {},
   "outputs": [
    {
     "data": {
      "text/plain": [
       "'The hands on experience at Safetyville includes pushing buttons, and learning to look both ways before crossing the street while using the working street lights and crosswalk lights. Before watching a video at the \"fire station\" the tour guide engages the children by asking questions and there is a \"quiz\" after the video. There are many opportunities for questions and answers and for children volunteers to help throughout the tour. Additionally, the children are taught how to make a real 911 call, and they practice dialing the correct number and how they would talk to a 911 operator. They are taught how to \"stop, drop, and roll\" during the fire safety portion of the session, and they practice the technique on the spot.[8]'"
      ]
     },
     "execution_count": 198,
     "metadata": {},
     "output_type": "execute_result"
    }
   ],
   "source": [
    "docs_p[490120]"
   ]
  },
  {
   "cell_type": "code",
   "execution_count": 192,
   "id": "3b2cf66f",
   "metadata": {},
   "outputs": [
    {
     "data": {
      "text/plain": [
       "490129"
      ]
     },
     "execution_count": 192,
     "metadata": {},
     "output_type": "execute_result"
    }
   ],
   "source": [
    "len(docs_p)"
   ]
  },
  {
   "cell_type": "code",
   "execution_count": 199,
   "id": "7db027cb",
   "metadata": {},
   "outputs": [],
   "source": [
    "from sklearn.feature_extraction.text import CountVectorizer\n"
   ]
  },
  {
   "cell_type": "code",
   "execution_count": 200,
   "id": "771daf75",
   "metadata": {},
   "outputs": [],
   "source": [
    "vectorizer_model = CountVectorizer(stop_words=\"english\")"
   ]
  },
  {
   "cell_type": "code",
   "execution_count": 201,
   "id": "c829a65e",
   "metadata": {},
   "outputs": [],
   "source": [
    "sentence_model = SentenceTransformer(\"all-MiniLM-L6-v2\")"
   ]
  },
  {
   "cell_type": "code",
   "execution_count": 202,
   "id": "0a17952c",
   "metadata": {},
   "outputs": [],
   "source": [
    "embeddings = sentence_model.encode(docs_p)"
   ]
  },
  {
   "cell_type": "code",
   "execution_count": 203,
   "id": "0ad2b10c",
   "metadata": {},
   "outputs": [
    {
     "data": {
      "text/plain": [
       "numpy.ndarray"
      ]
     },
     "execution_count": 203,
     "metadata": {},
     "output_type": "execute_result"
    }
   ],
   "source": [
    "type(embeddings)"
   ]
  },
  {
   "cell_type": "code",
   "execution_count": 204,
   "id": "90d84b16",
   "metadata": {},
   "outputs": [],
   "source": [
    "with open('/raid/AISSEL/xtest/datasets/ped_wiki_embeddings.pkl', \"wb\") as fOut:\n",
    "    pickle.dump({'sentences': docs_p, 'embeddings': embeddings}, fOut, protocol=pickle.HIGHEST_PROTOCOL)"
   ]
  },
  {
   "cell_type": "code",
   "execution_count": 206,
   "id": "bf622542",
   "metadata": {},
   "outputs": [
    {
     "name": "stdout",
     "output_type": "stream",
     "text": [
      "huggingface/tokenizers: The current process just got forked, after parallelism has already been used. Disabling parallelism to avoid deadlocks...\n",
      "To disable this warning, you can either:\n",
      "\t- Avoid using `tokenizers` before the fork if possible\n",
      "\t- Explicitly set the environment variable TOKENIZERS_PARALLELISM=(true | false)\n",
      "3.0G\t/raid/AISSEL/xtest/datasets/ped_wiki_embeddings.pkl\r\n"
     ]
    }
   ],
   "source": [
    "!du -sh /raid/AISSEL/xtest/datasets/ped_wiki_embeddings.pkl"
   ]
  },
  {
   "cell_type": "code",
   "execution_count": 219,
   "id": "b6bb2e81",
   "metadata": {},
   "outputs": [],
   "source": [
    "topic_model = BERTopic(vectorizer_model=vectorizer_model, diversity=0.8, nr_topics=20)"
   ]
  },
  {
   "cell_type": "code",
   "execution_count": null,
   "id": "721e6ee3",
   "metadata": {},
   "outputs": [],
   "source": [
    "topics, probs = topic_model.fit_transform(docs_p, embeddings)"
   ]
  },
  {
   "cell_type": "code",
   "execution_count": 221,
   "id": "133ff492",
   "metadata": {},
   "outputs": [
    {
     "name": "stderr",
     "output_type": "stream",
     "text": [
      "100%|███████████████████████████████████████████████████████████| 19/19 [00:00<00:00, 43.50it/s]\n"
     ]
    }
   ],
   "source": [
    "hierarchical_topics = topic_model.hierarchical_topics(docs_p)\n"
   ]
  },
  {
   "cell_type": "code",
   "execution_count": 222,
   "id": "a7e831ce",
   "metadata": {},
   "outputs": [
    {
     "data": {
      "text/html": [
       "<div>\n",
       "<style scoped>\n",
       "    .dataframe tbody tr th:only-of-type {\n",
       "        vertical-align: middle;\n",
       "    }\n",
       "\n",
       "    .dataframe tbody tr th {\n",
       "        vertical-align: top;\n",
       "    }\n",
       "\n",
       "    .dataframe thead th {\n",
       "        text-align: right;\n",
       "    }\n",
       "</style>\n",
       "<table border=\"1\" class=\"dataframe\">\n",
       "  <thead>\n",
       "    <tr style=\"text-align: right;\">\n",
       "      <th></th>\n",
       "      <th>Parent_ID</th>\n",
       "      <th>Parent_Name</th>\n",
       "      <th>Topics</th>\n",
       "      <th>Child_Left_ID</th>\n",
       "      <th>Child_Left_Name</th>\n",
       "      <th>Child_Right_ID</th>\n",
       "      <th>Child_Right_Name</th>\n",
       "      <th>Distance</th>\n",
       "    </tr>\n",
       "  </thead>\n",
       "  <tbody>\n",
       "    <tr>\n",
       "      <th>18</th>\n",
       "      <td>38</td>\n",
       "      <td>said_mr_little_did_man</td>\n",
       "      <td>[0, 1, 2, 3, 4, 5, 6, 7, 8, 9, 10, 11, 12, 13,...</td>\n",
       "      <td>36</td>\n",
       "      <td>utcreplyreply_bridge_talk_new_film</td>\n",
       "      <td>37</td>\n",
       "      <td>said_mr_little_did_man</td>\n",
       "      <td>1.591881</td>\n",
       "    </tr>\n",
       "    <tr>\n",
       "      <th>17</th>\n",
       "      <td>37</td>\n",
       "      <td>said_mr_little_did_man</td>\n",
       "      <td>[0, 1, 2, 3, 4, 6, 7, 8, 9, 10, 11, 14, 15]</td>\n",
       "      <td>35</td>\n",
       "      <td>said_mr_did_little_man</td>\n",
       "      <td>23</td>\n",
       "      <td>winchelsea_miss_fanny_snooks_rome</td>\n",
       "      <td>1.080854</td>\n",
       "    </tr>\n",
       "    <tr>\n",
       "      <th>16</th>\n",
       "      <td>36</td>\n",
       "      <td>utcreplyreply_bridge_talk_new_film</td>\n",
       "      <td>[5, 12, 13, 16, 17, 18, 19]</td>\n",
       "      <td>33</td>\n",
       "      <td>bridge_film_new_team_city</td>\n",
       "      <td>32</td>\n",
       "      <td>utcreplyreply_talk_promoted_file_modified</td>\n",
       "      <td>1.056480</td>\n",
       "    </tr>\n",
       "    <tr>\n",
       "      <th>15</th>\n",
       "      <td>35</td>\n",
       "      <td>said_mr_did_little_man</td>\n",
       "      <td>[0, 1, 2, 3, 4, 7, 8, 9, 10, 11, 14]</td>\n",
       "      <td>31</td>\n",
       "      <td>heathcliff_linton_catherine_said_ill</td>\n",
       "      <td>34</td>\n",
       "      <td>said_man_little_like_christian</td>\n",
       "      <td>1.018936</td>\n",
       "    </tr>\n",
       "    <tr>\n",
       "      <th>14</th>\n",
       "      <td>34</td>\n",
       "      <td>said_man_little_like_christian</td>\n",
       "      <td>[1, 2, 3, 7, 9, 10, 11]</td>\n",
       "      <td>30</td>\n",
       "      <td>said_man_little_like_christian</td>\n",
       "      <td>9</td>\n",
       "      <td>evesham_lady_man_said_went</td>\n",
       "      <td>0.888457</td>\n",
       "    </tr>\n",
       "    <tr>\n",
       "      <th>13</th>\n",
       "      <td>33</td>\n",
       "      <td>bridge_film_new_team_city</td>\n",
       "      <td>[12, 13, 17, 18, 19]</td>\n",
       "      <td>29</td>\n",
       "      <td>bridge_bicycle_bike_new_city</td>\n",
       "      <td>28</td>\n",
       "      <td>film_team_league_cape_season</td>\n",
       "      <td>0.853451</td>\n",
       "    </tr>\n",
       "    <tr>\n",
       "      <th>12</th>\n",
       "      <td>32</td>\n",
       "      <td>utcreplyreply_talk_promoted_file_modified</td>\n",
       "      <td>[5, 16]</td>\n",
       "      <td>5</td>\n",
       "      <td>utcreplyreply_promoted_talk_voting_comments</td>\n",
       "      <td>16</td>\n",
       "      <td>file_modified_page_links_external</td>\n",
       "      <td>0.819635</td>\n",
       "    </tr>\n",
       "    <tr>\n",
       "      <th>11</th>\n",
       "      <td>31</td>\n",
       "      <td>heathcliff_linton_catherine_said_ill</td>\n",
       "      <td>[0, 4, 8, 14]</td>\n",
       "      <td>14</td>\n",
       "      <td>ay_linton_yah_talk_asked</td>\n",
       "      <td>27</td>\n",
       "      <td>heathcliff_linton_catherine_said_ill</td>\n",
       "      <td>0.817342</td>\n",
       "    </tr>\n",
       "    <tr>\n",
       "      <th>10</th>\n",
       "      <td>30</td>\n",
       "      <td>said_man_little_like_christian</td>\n",
       "      <td>[1, 2, 3, 7, 10, 11]</td>\n",
       "      <td>21</td>\n",
       "      <td>went_like_ulrich_old_did</td>\n",
       "      <td>26</td>\n",
       "      <td>said_man_little_christian_mr</td>\n",
       "      <td>0.768460</td>\n",
       "    </tr>\n",
       "    <tr>\n",
       "      <th>9</th>\n",
       "      <td>29</td>\n",
       "      <td>bridge_bicycle_bike_new_city</td>\n",
       "      <td>[13, 17, 19]</td>\n",
       "      <td>19</td>\n",
       "      <td>bridge_bridges_new_construction_span</td>\n",
       "      <td>25</td>\n",
       "      <td>bicycle_bike_border_bicycles_city</td>\n",
       "      <td>0.746237</td>\n",
       "    </tr>\n",
       "    <tr>\n",
       "      <th>8</th>\n",
       "      <td>28</td>\n",
       "      <td>film_team_league_cape_season</td>\n",
       "      <td>[12, 18]</td>\n",
       "      <td>12</td>\n",
       "      <td>team_league_cape_stadium_teams</td>\n",
       "      <td>18</td>\n",
       "      <td>film_series_episode_films_batman</td>\n",
       "      <td>0.740571</td>\n",
       "    </tr>\n",
       "    <tr>\n",
       "      <th>7</th>\n",
       "      <td>27</td>\n",
       "      <td>heathcliff_linton_catherine_said_ill</td>\n",
       "      <td>[0, 4, 8]</td>\n",
       "      <td>20</td>\n",
       "      <td>heathcliff_linton_catherine_said_ill</td>\n",
       "      <td>8</td>\n",
       "      <td>discussion_pyecraft_ill_article_pity</td>\n",
       "      <td>0.729367</td>\n",
       "    </tr>\n",
       "    <tr>\n",
       "      <th>6</th>\n",
       "      <td>26</td>\n",
       "      <td>said_man_little_christian_mr</td>\n",
       "      <td>[1, 2, 7, 11]</td>\n",
       "      <td>24</td>\n",
       "      <td>said_man_little_christian_mr</td>\n",
       "      <td>11</td>\n",
       "      <td>man_beauty_nature_power_men</td>\n",
       "      <td>0.710094</td>\n",
       "    </tr>\n",
       "    <tr>\n",
       "      <th>5</th>\n",
       "      <td>25</td>\n",
       "      <td>bicycle_bike_border_bicycles_city</td>\n",
       "      <td>[13, 17]</td>\n",
       "      <td>13</td>\n",
       "      <td>border_visa_countries_entry_russian</td>\n",
       "      <td>17</td>\n",
       "      <td>bicycle_bike_bicycles_bikes_cycling</td>\n",
       "      <td>0.690318</td>\n",
       "    </tr>\n",
       "    <tr>\n",
       "      <th>4</th>\n",
       "      <td>24</td>\n",
       "      <td>said_man_little_christian_mr</td>\n",
       "      <td>[1, 2, 7]</td>\n",
       "      <td>7</td>\n",
       "      <td>stream_path_way_time_yejiro</td>\n",
       "      <td>22</td>\n",
       "      <td>said_man_christian_little_mr</td>\n",
       "      <td>0.619088</td>\n",
       "    </tr>\n",
       "    <tr>\n",
       "      <th>3</th>\n",
       "      <td>23</td>\n",
       "      <td>winchelsea_miss_fanny_snooks_rome</td>\n",
       "      <td>[6, 15]</td>\n",
       "      <td>6</td>\n",
       "      <td>winchelsea_fanny_miss_snooks_brisher</td>\n",
       "      <td>15</td>\n",
       "      <td>winchelsea_miss_helen_fanny_rome</td>\n",
       "      <td>0.529555</td>\n",
       "    </tr>\n",
       "    <tr>\n",
       "      <th>2</th>\n",
       "      <td>22</td>\n",
       "      <td>said_man_christian_little_mr</td>\n",
       "      <td>[1, 2]</td>\n",
       "      <td>1</td>\n",
       "      <td>said_christian_man_vellacott_little</td>\n",
       "      <td>2</td>\n",
       "      <td>mr_said_know_little_dream</td>\n",
       "      <td>0.505036</td>\n",
       "    </tr>\n",
       "    <tr>\n",
       "      <th>1</th>\n",
       "      <td>21</td>\n",
       "      <td>went_like_ulrich_old_did</td>\n",
       "      <td>[3, 10]</td>\n",
       "      <td>10</td>\n",
       "      <td>hauser_ulrich_old_went_door</td>\n",
       "      <td>3</td>\n",
       "      <td>like_went_time_did_long</td>\n",
       "      <td>0.393483</td>\n",
       "    </tr>\n",
       "    <tr>\n",
       "      <th>0</th>\n",
       "      <td>20</td>\n",
       "      <td>heathcliff_linton_catherine_said_ill</td>\n",
       "      <td>[0, 4]</td>\n",
       "      <td>4</td>\n",
       "      <td>heathcliff_linton_said_catherine_mr</td>\n",
       "      <td>0</td>\n",
       "      <td>linton_catherine_heathcliff_ill_said</td>\n",
       "      <td>0.286064</td>\n",
       "    </tr>\n",
       "  </tbody>\n",
       "</table>\n",
       "</div>"
      ],
      "text/plain": [
       "   Parent_ID                                Parent_Name  \\\n",
       "18        38                     said_mr_little_did_man   \n",
       "17        37                     said_mr_little_did_man   \n",
       "16        36         utcreplyreply_bridge_talk_new_film   \n",
       "15        35                     said_mr_did_little_man   \n",
       "14        34             said_man_little_like_christian   \n",
       "13        33                  bridge_film_new_team_city   \n",
       "12        32  utcreplyreply_talk_promoted_file_modified   \n",
       "11        31       heathcliff_linton_catherine_said_ill   \n",
       "10        30             said_man_little_like_christian   \n",
       "9         29               bridge_bicycle_bike_new_city   \n",
       "8         28               film_team_league_cape_season   \n",
       "7         27       heathcliff_linton_catherine_said_ill   \n",
       "6         26               said_man_little_christian_mr   \n",
       "5         25          bicycle_bike_border_bicycles_city   \n",
       "4         24               said_man_little_christian_mr   \n",
       "3         23          winchelsea_miss_fanny_snooks_rome   \n",
       "2         22               said_man_christian_little_mr   \n",
       "1         21                   went_like_ulrich_old_did   \n",
       "0         20       heathcliff_linton_catherine_said_ill   \n",
       "\n",
       "                                               Topics Child_Left_ID  \\\n",
       "18  [0, 1, 2, 3, 4, 5, 6, 7, 8, 9, 10, 11, 12, 13,...            36   \n",
       "17        [0, 1, 2, 3, 4, 6, 7, 8, 9, 10, 11, 14, 15]            35   \n",
       "16                        [5, 12, 13, 16, 17, 18, 19]            33   \n",
       "15               [0, 1, 2, 3, 4, 7, 8, 9, 10, 11, 14]            31   \n",
       "14                            [1, 2, 3, 7, 9, 10, 11]            30   \n",
       "13                               [12, 13, 17, 18, 19]            29   \n",
       "12                                            [5, 16]             5   \n",
       "11                                      [0, 4, 8, 14]            14   \n",
       "10                               [1, 2, 3, 7, 10, 11]            21   \n",
       "9                                        [13, 17, 19]            19   \n",
       "8                                            [12, 18]            12   \n",
       "7                                           [0, 4, 8]            20   \n",
       "6                                       [1, 2, 7, 11]            24   \n",
       "5                                            [13, 17]            13   \n",
       "4                                           [1, 2, 7]             7   \n",
       "3                                             [6, 15]             6   \n",
       "2                                              [1, 2]             1   \n",
       "1                                             [3, 10]            10   \n",
       "0                                              [0, 4]             4   \n",
       "\n",
       "                                Child_Left_Name Child_Right_ID  \\\n",
       "18           utcreplyreply_bridge_talk_new_film             37   \n",
       "17                       said_mr_did_little_man             23   \n",
       "16                    bridge_film_new_team_city             32   \n",
       "15         heathcliff_linton_catherine_said_ill             34   \n",
       "14               said_man_little_like_christian              9   \n",
       "13                 bridge_bicycle_bike_new_city             28   \n",
       "12  utcreplyreply_promoted_talk_voting_comments             16   \n",
       "11                     ay_linton_yah_talk_asked             27   \n",
       "10                     went_like_ulrich_old_did             26   \n",
       "9          bridge_bridges_new_construction_span             25   \n",
       "8                team_league_cape_stadium_teams             18   \n",
       "7          heathcliff_linton_catherine_said_ill              8   \n",
       "6                  said_man_little_christian_mr             11   \n",
       "5           border_visa_countries_entry_russian             17   \n",
       "4                   stream_path_way_time_yejiro             22   \n",
       "3          winchelsea_fanny_miss_snooks_brisher             15   \n",
       "2           said_christian_man_vellacott_little              2   \n",
       "1                   hauser_ulrich_old_went_door              3   \n",
       "0           heathcliff_linton_said_catherine_mr              0   \n",
       "\n",
       "                             Child_Right_Name  Distance  \n",
       "18                     said_mr_little_did_man  1.591881  \n",
       "17          winchelsea_miss_fanny_snooks_rome  1.080854  \n",
       "16  utcreplyreply_talk_promoted_file_modified  1.056480  \n",
       "15             said_man_little_like_christian  1.018936  \n",
       "14                 evesham_lady_man_said_went  0.888457  \n",
       "13               film_team_league_cape_season  0.853451  \n",
       "12          file_modified_page_links_external  0.819635  \n",
       "11       heathcliff_linton_catherine_said_ill  0.817342  \n",
       "10               said_man_little_christian_mr  0.768460  \n",
       "9           bicycle_bike_border_bicycles_city  0.746237  \n",
       "8            film_series_episode_films_batman  0.740571  \n",
       "7        discussion_pyecraft_ill_article_pity  0.729367  \n",
       "6                 man_beauty_nature_power_men  0.710094  \n",
       "5         bicycle_bike_bicycles_bikes_cycling  0.690318  \n",
       "4                said_man_christian_little_mr  0.619088  \n",
       "3            winchelsea_miss_helen_fanny_rome  0.529555  \n",
       "2                   mr_said_know_little_dream  0.505036  \n",
       "1                     like_went_time_did_long  0.393483  \n",
       "0        linton_catherine_heathcliff_ill_said  0.286064  "
      ]
     },
     "execution_count": 222,
     "metadata": {},
     "output_type": "execute_result"
    }
   ],
   "source": [
    "hierarchical_topics"
   ]
  },
  {
   "cell_type": "code",
   "execution_count": 223,
   "id": "cee72d6f",
   "metadata": {},
   "outputs": [
    {
     "name": "stdout",
     "output_type": "stream",
     "text": [
      ".\n",
      "├─utcreplyreply_bridge_talk_new_film\n",
      "│    ├─bridge_film_new_team_city\n",
      "│    │    ├─bridge_bicycle_bike_new_city\n",
      "│    │    │    ├─■──bridge_bridges_new_construction_span ── Topic: 19\n",
      "│    │    │    └─bicycle_bike_border_bicycles_city\n",
      "│    │    │         ├─■──border_visa_countries_entry_russian ── Topic: 13\n",
      "│    │    │         └─■──bicycle_bike_bicycles_bikes_cycling ── Topic: 17\n",
      "│    │    └─film_team_league_cape_season\n",
      "│    │         ├─■──team_league_cape_stadium_teams ── Topic: 12\n",
      "│    │         └─■──film_series_episode_films_batman ── Topic: 18\n",
      "│    └─utcreplyreply_talk_promoted_file_modified\n",
      "│         ├─■──utcreplyreply_promoted_talk_voting_comments ── Topic: 5\n",
      "│         └─■──file_modified_page_links_external ── Topic: 16\n",
      "└─said_mr_little_did_man\n",
      "     ├─said_mr_did_little_man\n",
      "     │    ├─heathcliff_linton_catherine_said_ill\n",
      "     │    │    ├─■──ay_linton_yah_talk_asked ── Topic: 14\n",
      "     │    │    └─heathcliff_linton_catherine_said_ill\n",
      "     │    │         ├─heathcliff_linton_catherine_said_ill\n",
      "     │    │         │    ├─■──heathcliff_linton_said_catherine_mr ── Topic: 4\n",
      "     │    │         │    └─■──linton_catherine_heathcliff_ill_said ── Topic: 0\n",
      "     │    │         └─■──discussion_pyecraft_ill_article_pity ── Topic: 8\n",
      "     │    └─said_man_little_like_christian\n",
      "     │         ├─said_man_little_like_christian\n",
      "     │         │    ├─went_like_ulrich_old_did\n",
      "     │         │    │    ├─■──hauser_ulrich_old_went_door ── Topic: 10\n",
      "     │         │    │    └─■──like_went_time_did_long ── Topic: 3\n",
      "     │         │    └─said_man_little_christian_mr\n",
      "     │         │         ├─said_man_little_christian_mr\n",
      "     │         │         │    ├─■──stream_path_way_time_yejiro ── Topic: 7\n",
      "     │         │         │    └─said_man_christian_little_mr\n",
      "     │         │         │         ├─■──said_christian_man_vellacott_little ── Topic: 1\n",
      "     │         │         │         └─■──mr_said_know_little_dream ── Topic: 2\n",
      "     │         │         └─■──man_beauty_nature_power_men ── Topic: 11\n",
      "     │         └─■──evesham_lady_man_said_went ── Topic: 9\n",
      "     └─winchelsea_miss_fanny_snooks_rome\n",
      "          ├─■──winchelsea_fanny_miss_snooks_brisher ── Topic: 6\n",
      "          └─■──winchelsea_miss_helen_fanny_rome ── Topic: 15\n",
      "\n"
     ]
    }
   ],
   "source": [
    "tree = topic_model.get_topic_tree(hierarchical_topics)\n",
    "print(tree)"
   ]
  },
  {
   "cell_type": "code",
   "execution_count": 212,
   "id": "f5dc3c32",
   "metadata": {},
   "outputs": [
    {
     "name": "stderr",
     "output_type": "stream",
     "text": [
      "IOPub data rate exceeded.\n",
      "The notebook server will temporarily stop sending output\n",
      "to the client in order to avoid crashing it.\n",
      "To change this limit, set the config variable\n",
      "`--NotebookApp.iopub_data_rate_limit`.\n",
      "\n",
      "Current values:\n",
      "NotebookApp.iopub_data_rate_limit=1000000.0 (bytes/sec)\n",
      "NotebookApp.rate_limit_window=3.0 (secs)\n",
      "\n"
     ]
    }
   ],
   "source": [
    "print(tree)"
   ]
  },
  {
   "cell_type": "code",
   "execution_count": null,
   "id": "cd671490",
   "metadata": {},
   "outputs": [],
   "source": []
  }
 ],
 "metadata": {
  "kernelspec": {
   "display_name": "Python 3 (ipykernel)",
   "language": "python",
   "name": "python3"
  },
  "language_info": {
   "codemirror_mode": {
    "name": "ipython",
    "version": 3
   },
   "file_extension": ".py",
   "mimetype": "text/x-python",
   "name": "python",
   "nbconvert_exporter": "python",
   "pygments_lexer": "ipython3",
   "version": "3.9.16"
  }
 },
 "nbformat": 4,
 "nbformat_minor": 5
}
