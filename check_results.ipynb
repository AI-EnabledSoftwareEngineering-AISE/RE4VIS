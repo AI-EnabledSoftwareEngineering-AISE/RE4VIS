{
 "cells": [
  {
   "cell_type": "code",
   "execution_count": null,
   "metadata": {},
   "outputs": [],
   "source": [
    "# check cooc result\n",
    "# /home/xtest/projects/lavis_test/LAVIS/lavis/output/BLIP/Caption_coco/20230922191/result/val_epoch0.json"
   ]
  },
  {
   "cell_type": "code",
   "execution_count": 6,
   "metadata": {},
   "outputs": [],
   "source": [
    "from pycocoevalcap.eval import COCOEvalCap\n",
    "from pycocotools.coco import COCO\n",
    "# load json file\n",
    "import json"
   ]
  },
  {
   "cell_type": "code",
   "execution_count": 5,
   "metadata": {},
   "outputs": [],
   "source": [
    "annotation_file = '/home/xtest/projects/lavis_test/.cache/lavis/coco_gt/coco_karpathy_val_gt.json'\n",
    "results_file = '/home/xtest/projects/lavis_test/LAVIS/lavis/output/BLIP/Caption_coco/20230922194/result/val_epoch0.json'\n"
   ]
  },
  {
   "cell_type": "code",
   "execution_count": 8,
   "metadata": {},
   "outputs": [
    {
     "data": {
      "text/plain": [
       "dict_keys(['annotations', 'images'])"
      ]
     },
     "execution_count": 8,
     "metadata": {},
     "output_type": "execute_result"
    }
   ],
   "source": [
    "with open(annotation_file) as f:\n",
    "    gt = json.load(f)\n",
    "gt.keys()"
   ]
  },
  {
   "cell_type": "code",
   "execution_count": 10,
   "metadata": {},
   "outputs": [
    {
     "data": {
      "text/plain": [
       "dict_keys(['caption', 'image_id', 'id'])"
      ]
     },
     "execution_count": 10,
     "metadata": {},
     "output_type": "execute_result"
    }
   ],
   "source": [
    "gt['annotations'][0].keys()"
   ]
  },
  {
   "cell_type": "code",
   "execution_count": 15,
   "metadata": {},
   "outputs": [
    {
     "data": {
      "text/plain": [
       "42"
      ]
     },
     "execution_count": 15,
     "metadata": {},
     "output_type": "execute_result"
    }
   ],
   "source": [
    "len(gt['annotations'])"
   ]
  },
  {
   "cell_type": "code",
   "execution_count": 16,
   "metadata": {},
   "outputs": [
    {
     "data": {
      "text/plain": [
       "dict_keys(['caption', 'image_id'])"
      ]
     },
     "execution_count": 16,
     "metadata": {},
     "output_type": "execute_result"
    }
   ],
   "source": [
    "with open(results_file) as f:\n",
    "    anns = json.load(f)\n",
    "anns[0].keys()"
   ]
  },
  {
   "cell_type": "code",
   "execution_count": 17,
   "metadata": {},
   "outputs": [
    {
     "data": {
      "text/plain": [
       "42"
      ]
     },
     "execution_count": 17,
     "metadata": {},
     "output_type": "execute_result"
    }
   ],
   "source": [
    "len(anns)"
   ]
  },
  {
   "cell_type": "code",
   "execution_count": 20,
   "metadata": {},
   "outputs": [
    {
     "data": {
      "text/plain": [
       "42"
      ]
     },
     "execution_count": 20,
     "metadata": {},
     "output_type": "execute_result"
    }
   ],
   "source": [
    "annsImgIds = [ann['image_id'] for ann in anns]\n",
    "len(annsImgIds)"
   ]
  },
  {
   "cell_type": "code",
   "execution_count": 21,
   "metadata": {},
   "outputs": [
    {
     "name": "stdout",
     "output_type": "stream",
     "text": [
      "42\n"
     ]
    }
   ],
   "source": [
    "print(len(list(set(annsImgIds))))"
   ]
  },
  {
   "cell_type": "code",
   "execution_count": 7,
   "metadata": {},
   "outputs": [
    {
     "name": "stdout",
     "output_type": "stream",
     "text": [
      "Loading annotations from /home/xtest/projects/lavis_test/.cache/lavis/coco_gt/coco_karpathy_val_gt.json\n",
      "loading annotations into memory...\n",
      "Done (t=0.00s)\n",
      "creating index...\n",
      "index created!\n"
     ]
    }
   ],
   "source": [
    "# create coco object and coco_result object\n",
    "print(f\"Loading annotations from {annotation_file}\")\n",
    "coco = COCO(annotation_file)\n",
    "\n"
   ]
  },
  {
   "cell_type": "code",
   "execution_count": 12,
   "metadata": {},
   "outputs": [
    {
     "name": "stdout",
     "output_type": "stream",
     "text": [
      "Loading results from /home/xtest/projects/lavis_test/LAVIS/lavis/output/BLIP/Caption_coco/20230922194/result/val_epoch0.json\n",
      "Loading and preparing results...\n"
     ]
    },
    {
     "ename": "AssertionError",
     "evalue": "Results do not correspond to current coco set",
     "output_type": "error",
     "traceback": [
      "\u001b[0;31m---------------------------------------------------------------------------\u001b[0m",
      "\u001b[0;31mAssertionError\u001b[0m                            Traceback (most recent call last)",
      "\u001b[1;32m/home/xtest/projects/lavis_test/check_results.ipynb Cell 8\u001b[0m line \u001b[0;36m2\n\u001b[1;32m      <a href='vscode-notebook-cell://ssh-remote%2B10.158.56.159/home/xtest/projects/lavis_test/check_results.ipynb#W5sdnNjb2RlLXJlbW90ZQ%3D%3D?line=0'>1</a>\u001b[0m \u001b[39mprint\u001b[39m(\u001b[39mf\u001b[39m\u001b[39m\"\u001b[39m\u001b[39mLoading results from \u001b[39m\u001b[39m{\u001b[39;00mresults_file\u001b[39m}\u001b[39;00m\u001b[39m\"\u001b[39m)\n\u001b[0;32m----> <a href='vscode-notebook-cell://ssh-remote%2B10.158.56.159/home/xtest/projects/lavis_test/check_results.ipynb#W5sdnNjb2RlLXJlbW90ZQ%3D%3D?line=1'>2</a>\u001b[0m coco_result \u001b[39m=\u001b[39m coco\u001b[39m.\u001b[39;49mloadRes(results_file)\n",
      "File \u001b[0;32m~/miniconda3/envs/lavistest/lib/python3.8/site-packages/pycocotools/coco.py:327\u001b[0m, in \u001b[0;36mCOCO.loadRes\u001b[0;34m(self, resFile)\u001b[0m\n\u001b[1;32m    325\u001b[0m \u001b[39massert\u001b[39;00m \u001b[39mtype\u001b[39m(anns) \u001b[39m==\u001b[39m \u001b[39mlist\u001b[39m, \u001b[39m'\u001b[39m\u001b[39mresults in not an array of objects\u001b[39m\u001b[39m'\u001b[39m\n\u001b[1;32m    326\u001b[0m annsImgIds \u001b[39m=\u001b[39m [ann[\u001b[39m'\u001b[39m\u001b[39mimage_id\u001b[39m\u001b[39m'\u001b[39m] \u001b[39mfor\u001b[39;00m ann \u001b[39min\u001b[39;00m anns]\n\u001b[0;32m--> 327\u001b[0m \u001b[39massert\u001b[39;00m \u001b[39mset\u001b[39m(annsImgIds) \u001b[39m==\u001b[39m (\u001b[39mset\u001b[39m(annsImgIds) \u001b[39m&\u001b[39m \u001b[39mset\u001b[39m(\u001b[39mself\u001b[39m\u001b[39m.\u001b[39mgetImgIds())), \\\n\u001b[1;32m    328\u001b[0m        \u001b[39m'\u001b[39m\u001b[39mResults do not correspond to current coco set\u001b[39m\u001b[39m'\u001b[39m\n\u001b[1;32m    329\u001b[0m \u001b[39mif\u001b[39;00m \u001b[39m'\u001b[39m\u001b[39mcaption\u001b[39m\u001b[39m'\u001b[39m \u001b[39min\u001b[39;00m anns[\u001b[39m0\u001b[39m]:\n\u001b[1;32m    330\u001b[0m     imgIds \u001b[39m=\u001b[39m \u001b[39mset\u001b[39m([img[\u001b[39m'\u001b[39m\u001b[39mid\u001b[39m\u001b[39m'\u001b[39m] \u001b[39mfor\u001b[39;00m img \u001b[39min\u001b[39;00m res\u001b[39m.\u001b[39mdataset[\u001b[39m'\u001b[39m\u001b[39mimages\u001b[39m\u001b[39m'\u001b[39m]]) \u001b[39m&\u001b[39m \u001b[39mset\u001b[39m([ann[\u001b[39m'\u001b[39m\u001b[39mimage_id\u001b[39m\u001b[39m'\u001b[39m] \u001b[39mfor\u001b[39;00m ann \u001b[39min\u001b[39;00m anns])\n",
      "\u001b[0;31mAssertionError\u001b[0m: Results do not correspond to current coco set"
     ]
    }
   ],
   "source": [
    "print(f\"Loading results from {results_file}\")\n",
    "coco_result = coco.loadRes(results_file)"
   ]
  },
  {
   "cell_type": "code",
   "execution_count": 27,
   "metadata": {},
   "outputs": [],
   "source": [
    "coco_ids = coco.getImgIds()\n",
    "len(coco_ids)\n",
    "# convert coco_ids to int\n",
    "coco_ids = [int(i) for i in coco_ids]"
   ]
  },
  {
   "cell_type": "code",
   "execution_count": 28,
   "metadata": {},
   "outputs": [
    {
     "data": {
      "text/plain": [
       "set()"
      ]
     },
     "execution_count": 28,
     "metadata": {},
     "output_type": "execute_result"
    }
   ],
   "source": [
    "# find differences between coco_ids and annsImgIds\n",
    "set(coco_ids) - set(annsImgIds)"
   ]
  },
  {
   "cell_type": "code",
   "execution_count": 26,
   "metadata": {},
   "outputs": [
    {
     "data": {
      "text/plain": [
       "0"
      ]
     },
     "execution_count": 26,
     "metadata": {},
     "output_type": "execute_result"
    }
   ],
   "source": [
    "# find common ids between coco_ids and annsImgIds\n",
    "common_ids = set(coco_ids) & set(annsImgIds)\n",
    "len(common_ids)\n"
   ]
  }
 ],
 "metadata": {
  "kernelspec": {
   "display_name": "lavistest",
   "language": "python",
   "name": "python3"
  },
  "language_info": {
   "codemirror_mode": {
    "name": "ipython",
    "version": 3
   },
   "file_extension": ".py",
   "mimetype": "text/x-python",
   "name": "python",
   "nbconvert_exporter": "python",
   "pygments_lexer": "ipython3",
   "version": "3.8.18"
  },
  "orig_nbformat": 4
 },
 "nbformat": 4,
 "nbformat_minor": 2
}
