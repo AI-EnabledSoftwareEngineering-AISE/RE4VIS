{
 "cells": [
  {
   "cell_type": "code",
   "execution_count": 40,
   "id": "2b4b738e",
   "metadata": {},
   "outputs": [],
   "source": [
    "from sentence_transformers import SentenceTransformer, util\n",
    "from sklearn.cluster import AgglomerativeClustering\n",
    "import numpy as np"
   ]
  },
  {
   "cell_type": "code",
   "execution_count": null,
   "id": "6864e613",
   "metadata": {},
   "outputs": [],
   "source": [
    "from bertopic.vectorizers import ClassTfidfTransformer\n",
    "from bertopic.dimensionality import BaseDimensionalityReduction\n",
    "from sklearn.linear_model import LogisticRegression"
   ]
  },
  {
   "cell_type": "code",
   "execution_count": 203,
   "id": "d7f51f59",
   "metadata": {},
   "outputs": [],
   "source": [
    "import glob\n",
    "import json\n",
    "import os.path"
   ]
  },
  {
   "cell_type": "code",
   "execution_count": 44,
   "id": "641215f9",
   "metadata": {},
   "outputs": [],
   "source": [
    "from nltk.stem import WordNetLemmatizer"
   ]
  },
  {
   "cell_type": "code",
   "execution_count": 52,
   "id": "764a3b3e",
   "metadata": {},
   "outputs": [],
   "source": [
    "from nltk import pos_tag\n",
    "from nltk.corpus import wordnet"
   ]
  },
  {
   "cell_type": "code",
   "execution_count": 45,
   "id": "a2086987",
   "metadata": {},
   "outputs": [],
   "source": [
    "lemmatizer = WordNetLemmatizer()"
   ]
  },
  {
   "cell_type": "code",
   "execution_count": 2,
   "id": "dd1aa2ed",
   "metadata": {},
   "outputs": [],
   "source": [
    "import pandas as pd"
   ]
  },
  {
   "cell_type": "code",
   "execution_count": 229,
   "id": "e4114b52",
   "metadata": {},
   "outputs": [],
   "source": [
    "from sklearn.feature_extraction.text import CountVectorizer\n"
   ]
  },
  {
   "cell_type": "code",
   "execution_count": 6,
   "id": "fb24ae72",
   "metadata": {},
   "outputs": [],
   "source": [
    "not_stemmed_word = pd.read_csv(\"../text_processing/ped_not_stemmed_word_based_wiki_score.csv\")\n",
    "corpus = not_stemmed_word[\"word\"].tolist()"
   ]
  },
  {
   "cell_type": "code",
   "execution_count": null,
   "id": "4680052b",
   "metadata": {},
   "outputs": [],
   "source": [
    "with open('../text_processing/data/wiki_l1_ped_link_pt.json', 'r') as fp:\n",
    "    all_links = json.load(fp)"
   ]
  },
  {
   "cell_type": "code",
   "execution_count": 136,
   "id": "4bef27cb",
   "metadata": {},
   "outputs": [],
   "source": [
    "corpus = list(all_links.keys())"
   ]
  },
  {
   "cell_type": "code",
   "execution_count": 177,
   "id": "be4ddd66",
   "metadata": {},
   "outputs": [
    {
     "data": {
      "text/plain": [
       "737"
      ]
     },
     "execution_count": 177,
     "metadata": {},
     "output_type": "execute_result"
    }
   ],
   "source": [
    "len(set(list(all_links.keys())))"
   ]
  },
  {
   "cell_type": "code",
   "execution_count": 137,
   "id": "cba0472c",
   "metadata": {},
   "outputs": [
    {
     "data": {
      "text/plain": [
       "737"
      ]
     },
     "execution_count": 137,
     "metadata": {},
     "output_type": "execute_result"
    }
   ],
   "source": [
    "len(corpus)"
   ]
  },
  {
   "cell_type": "code",
   "execution_count": 138,
   "id": "fb8e88a5",
   "metadata": {},
   "outputs": [],
   "source": [
    "def get_sim(u,v):\n",
    "\n",
    "    emb1 = embedder.encode(u)\n",
    "    if isinstance(v, list):\n",
    "        v = ' '.join(v)\n",
    "    emb2 = embedder.encode(v)\n",
    "    \n",
    "    return float(util.cos_sim(emb1, emb2)[0][0])"
   ]
  },
  {
   "cell_type": "code",
   "execution_count": 139,
   "id": "ddc77b19",
   "metadata": {},
   "outputs": [],
   "source": [
    "def get_wordnet_pos(word):\n",
    "    \"\"\"Map POS tag to first character lemmatize() accepts\"\"\"\n",
    "    tag = pos_tag([word])[0][1][0].upper()\n",
    "    tag_dict = {\"J\": wordnet.ADJ,\n",
    "                \"N\": wordnet.NOUN,\n",
    "                \"V\": wordnet.VERB,\n",
    "                \"R\": wordnet.ADV}\n",
    "\n",
    "    return tag_dict.get(tag, wordnet.NOUN)"
   ]
  },
  {
   "cell_type": "code",
   "execution_count": 140,
   "id": "660b4346",
   "metadata": {},
   "outputs": [],
   "source": [
    "lem_words = []\n",
    "for el in corpus:\n",
    "    w = lemmatizer.lemmatize(el, get_wordnet_pos(el))\n",
    "    lem_words.append(w)\n",
    "lem_words = list(set(lem_words))"
   ]
  },
  {
   "cell_type": "code",
   "execution_count": 141,
   "id": "79cc705e",
   "metadata": {},
   "outputs": [],
   "source": [
    "sim_s = []\n",
    "for el in lem_words:\n",
    "    sim_s.append(get_sim(el, 'pedestrian'))"
   ]
  },
  {
   "cell_type": "code",
   "execution_count": 142,
   "id": "4d39497c",
   "metadata": {},
   "outputs": [
    {
     "data": {
      "text/html": [
       "<div>\n",
       "<style scoped>\n",
       "    .dataframe tbody tr th:only-of-type {\n",
       "        vertical-align: middle;\n",
       "    }\n",
       "\n",
       "    .dataframe tbody tr th {\n",
       "        vertical-align: top;\n",
       "    }\n",
       "\n",
       "    .dataframe thead th {\n",
       "        text-align: right;\n",
       "    }\n",
       "</style>\n",
       "<table border=\"1\" class=\"dataframe\">\n",
       "  <thead>\n",
       "    <tr style=\"text-align: right;\">\n",
       "      <th></th>\n",
       "      <th>words</th>\n",
       "      <th>score</th>\n",
       "    </tr>\n",
       "  </thead>\n",
       "  <tbody>\n",
       "    <tr>\n",
       "      <th>547</th>\n",
       "      <td>pedestrian</td>\n",
       "      <td>1.000000</td>\n",
       "    </tr>\n",
       "    <tr>\n",
       "      <th>132</th>\n",
       "      <td>pedestrianize</td>\n",
       "      <td>0.807013</td>\n",
       "    </tr>\n",
       "    <tr>\n",
       "      <th>625</th>\n",
       "      <td>pedestrianism</td>\n",
       "      <td>0.792180</td>\n",
       "    </tr>\n",
       "    <tr>\n",
       "      <th>413</th>\n",
       "      <td>pedestriantraffic</td>\n",
       "      <td>0.781348</td>\n",
       "    </tr>\n",
       "    <tr>\n",
       "      <th>262</th>\n",
       "      <td>pedestrian crossing</td>\n",
       "      <td>0.756751</td>\n",
       "    </tr>\n",
       "    <tr>\n",
       "      <th>...</th>\n",
       "      <td>...</td>\n",
       "      <td>...</td>\n",
       "    </tr>\n",
       "    <tr>\n",
       "      <th>54</th>\n",
       "      <td>prose</td>\n",
       "      <td>0.079213</td>\n",
       "    </tr>\n",
       "    <tr>\n",
       "      <th>494</th>\n",
       "      <td>fundraise</td>\n",
       "      <td>0.065307</td>\n",
       "    </tr>\n",
       "    <tr>\n",
       "      <th>338</th>\n",
       "      <td>auto-free zones</td>\n",
       "      <td>0.052380</td>\n",
       "    </tr>\n",
       "    <tr>\n",
       "      <th>259</th>\n",
       "      <td>shared use path</td>\n",
       "      <td>0.052221</td>\n",
       "    </tr>\n",
       "    <tr>\n",
       "      <th>546</th>\n",
       "      <td>internal combustion engine</td>\n",
       "      <td>0.008942</td>\n",
       "    </tr>\n",
       "  </tbody>\n",
       "</table>\n",
       "<p>670 rows × 2 columns</p>\n",
       "</div>"
      ],
      "text/plain": [
       "                          words     score\n",
       "547                  pedestrian  1.000000\n",
       "132               pedestrianize  0.807013\n",
       "625               pedestrianism  0.792180\n",
       "413           pedestriantraffic  0.781348\n",
       "262         pedestrian crossing  0.756751\n",
       "..                          ...       ...\n",
       "54                        prose  0.079213\n",
       "494                   fundraise  0.065307\n",
       "338             auto-free zones  0.052380\n",
       "259             shared use path  0.052221\n",
       "546  internal combustion engine  0.008942\n",
       "\n",
       "[670 rows x 2 columns]"
      ]
     },
     "execution_count": 142,
     "metadata": {},
     "output_type": "execute_result"
    }
   ],
   "source": [
    "df = pd.DataFrame({'words':lem_words, 'score':sim_s})\n",
    "df = df.sort_values(by=['score'], ascending=False)\n",
    "df"
   ]
  },
  {
   "cell_type": "code",
   "execution_count": 143,
   "id": "584e7208",
   "metadata": {},
   "outputs": [
    {
     "data": {
      "text/html": [
       "<div>\n",
       "<style scoped>\n",
       "    .dataframe tbody tr th:only-of-type {\n",
       "        vertical-align: middle;\n",
       "    }\n",
       "\n",
       "    .dataframe tbody tr th {\n",
       "        vertical-align: top;\n",
       "    }\n",
       "\n",
       "    .dataframe thead th {\n",
       "        text-align: right;\n",
       "    }\n",
       "</style>\n",
       "<table border=\"1\" class=\"dataframe\">\n",
       "  <thead>\n",
       "    <tr style=\"text-align: right;\">\n",
       "      <th></th>\n",
       "      <th>words</th>\n",
       "      <th>score</th>\n",
       "    </tr>\n",
       "  </thead>\n",
       "  <tbody>\n",
       "    <tr>\n",
       "      <th>547</th>\n",
       "      <td>pedestrian</td>\n",
       "      <td>1.000000</td>\n",
       "    </tr>\n",
       "    <tr>\n",
       "      <th>132</th>\n",
       "      <td>pedestrianize</td>\n",
       "      <td>0.807013</td>\n",
       "    </tr>\n",
       "    <tr>\n",
       "      <th>625</th>\n",
       "      <td>pedestrianism</td>\n",
       "      <td>0.792180</td>\n",
       "    </tr>\n",
       "    <tr>\n",
       "      <th>413</th>\n",
       "      <td>pedestriantraffic</td>\n",
       "      <td>0.781348</td>\n",
       "    </tr>\n",
       "    <tr>\n",
       "      <th>262</th>\n",
       "      <td>pedestrian crossing</td>\n",
       "      <td>0.756751</td>\n",
       "    </tr>\n",
       "    <tr>\n",
       "      <th>...</th>\n",
       "      <td>...</td>\n",
       "      <td>...</td>\n",
       "    </tr>\n",
       "    <tr>\n",
       "      <th>79</th>\n",
       "      <td>british english</td>\n",
       "      <td>0.194685</td>\n",
       "    </tr>\n",
       "    <tr>\n",
       "      <th>336</th>\n",
       "      <td>unbelted</td>\n",
       "      <td>0.194659</td>\n",
       "    </tr>\n",
       "    <tr>\n",
       "      <th>204</th>\n",
       "      <td>gateless</td>\n",
       "      <td>0.194155</td>\n",
       "    </tr>\n",
       "    <tr>\n",
       "      <th>123</th>\n",
       "      <td>auto</td>\n",
       "      <td>0.194069</td>\n",
       "    </tr>\n",
       "    <tr>\n",
       "      <th>569</th>\n",
       "      <td>ambler</td>\n",
       "      <td>0.193218</td>\n",
       "    </tr>\n",
       "  </tbody>\n",
       "</table>\n",
       "<p>502 rows × 2 columns</p>\n",
       "</div>"
      ],
      "text/plain": [
       "                   words     score\n",
       "547           pedestrian  1.000000\n",
       "132        pedestrianize  0.807013\n",
       "625        pedestrianism  0.792180\n",
       "413    pedestriantraffic  0.781348\n",
       "262  pedestrian crossing  0.756751\n",
       "..                   ...       ...\n",
       "79       british english  0.194685\n",
       "336             unbelted  0.194659\n",
       "204             gateless  0.194155\n",
       "123                 auto  0.194069\n",
       "569               ambler  0.193218\n",
       "\n",
       "[502 rows x 2 columns]"
      ]
     },
     "execution_count": 143,
     "metadata": {},
     "output_type": "execute_result"
    }
   ],
   "source": [
    "df = df[df['score'] > df['score'].quantile(0.25)]\n",
    "df"
   ]
  },
  {
   "cell_type": "code",
   "execution_count": 144,
   "id": "9527aafc",
   "metadata": {},
   "outputs": [],
   "source": [
    "corpus = lem_words"
   ]
  },
  {
   "cell_type": "code",
   "execution_count": 145,
   "id": "fdb86d46",
   "metadata": {},
   "outputs": [],
   "source": [
    "embedder = SentenceTransformer('all-MiniLM-L6-v2')"
   ]
  },
  {
   "cell_type": "code",
   "execution_count": 146,
   "id": "1832e35e",
   "metadata": {},
   "outputs": [],
   "source": [
    "\"\"\"\n",
    "This is a simple application for sentence embeddings: clustering\n",
    "Sentences are mapped to sentence embeddings and then agglomerative clustering with a threshold is applied.\n",
    "\"\"\"\n",
    "\n",
    "corpus_embeddings = embedder.encode(corpus)\n",
    "\n",
    "# Normalize the embeddings to unit length\n",
    "corpus_embeddings = corpus_embeddings /  np.linalg.norm(corpus_embeddings, axis=1, keepdims=True)\n",
    "\n",
    "# Perform clustering\n",
    "# clustering_model = AgglomerativeClustering(n_clusters=None, distance_threshold=2) #, affinity='cosine', linkage='average', distance_threshold=0.4)\n",
    "\n",
    "clustering_model = AgglomerativeClustering(n_clusters=None, metric='cosine', linkage='average', distance_threshold=0.75) #, affinity='cosine', linkage='average', distance_threshold=0.4)\n",
    "\n",
    "\n",
    "clustering_model.fit(corpus_embeddings)\n",
    "cluster_assignment = clustering_model.labels_\n",
    "\n",
    "clustered_sentences = {}\n",
    "for sentence_id, cluster_id in enumerate(cluster_assignment):\n",
    "    if cluster_id not in clustered_sentences:\n",
    "        clustered_sentences[cluster_id] = []\n",
    "\n",
    "    clustered_sentences[cluster_id].append(corpus[sentence_id])\n",
    "\n"
   ]
  },
  {
   "cell_type": "code",
   "execution_count": 147,
   "id": "feaef6b2",
   "metadata": {
    "scrolled": true
   },
   "outputs": [
    {
     "name": "stdout",
     "output_type": "stream",
     "text": [
      "Cluster  12\n",
      "['fact', 'way', 'legwork', 'man', 'story', 'right', 'link', 'prosaic']\n",
      "\n",
      "Cluster  5\n",
      "['treadle', 'trample', 'handicapped', 'walk frame', 'underfoot', 'routine', 'horse gait', 'duck foot', 'feetless', 'footstep', 'footbreadth', 'stairfoot', 'by foot', 'clubfoot', 'clawfooted', 'roller shoe', 'footfall', 'exercise', 'hindfoot', 'footwrap', 'stroll', 'knucklewalk', 'forwalk', 'walk around', 'run', 'footwalk', 'firewalk', 'jaywalker', 'intentional walk', 'catwalk', 'ramp', 'have leg', 'whistle walk', 'footboy', 'gait', 'big toe', 'put on shoe', 'runway', 'quadrupedally', \"hit one's stride\", 'flatfoot', 'escalator', 'walk beat', 'bumblefoot', 'park', 'five toe', 'racewalking', 'activity', 'little toe', 'walkman', 'walk', 'foot', 'stop walk', 'walkabout', 'footmeal', 'random walk', 'parking', 'movement', 'treader', 'wheelchair', 'stride', 'jaywalk', 'roller skates', 'footway', 'webfoot', 'wheelaround', 'stroller', 'by walk', 'tramper', 'your foot', 'footprint', 'foot soldier', 'walkable', 'palmigrade', 'ten toe', 'tram', 'two foot', 'acre foot', 'stair', 'taligrade', 'leg', 'walkathon', \"on one's foot\", 'footly', 'use your leg', 'footsore', 'drivearound', 'megafoot', 'tread', 'footsie', 'bushwalk', 'skateboard', 'cleave foot', 'foothalt', 'feat', 'dry foot', 'on foot', 'walk through', 'flat foot', 'walk in park', 'tube foot', 'walk cane', 'locomotion', 'footpath', 'clawfoot', 'footstrike', 'warwalking', 'footpeg', 'baby walker', 'splayfoot', 'quadrupedal', 'spacewalk', 'walker', 'trampler', 'footswitch', 'kilofoot', 'move your leg', 'foothold', 'rail', 'footer', 'footrail', 'midfoot']\n",
      "\n",
      "Cluster  6\n",
      "['motorist', 'rightofway', 'trafficwarden', 'dual carriageway', 'travel', 'travel to destination', 'pelican crossing', 'landscape', 'freeway', 'urbanist', 'excursion', 'europe', 'three-lane', 'multilane', 'promenade', 'alley', 'subway', 'cross', 'interstate', 'underpass', 'york', 'british english', 'trolleycar', 'queensboro bridge', 'roadway', 'town', 'south', 'scenic', 'four-lane', 'island', 'driver', 'trafficcop', 'fence', 'concourse', 'one-lane', 'crossstreet', 'precinct', 'pavementartist', 'pedestrianize', 'edge', 'district', 'permanentway', 'passenger', 'neighborhood', 'car', 'bus', 'city', 'vehicular traffic', 'trail', 'localroad', 'trek', 'dartford crossing', 'hike', 'streetsign', 'cross street', 'pavement', 'gateless', 'multistorey', 'residential', 'carpooler', 'mall', 'interior', 'southbound', 'road surface', 'entrance', 'commuter train', 'curbless', 'busdepot', 'bosporus bridge', 'street', 'roundabout', 'eastbound', 'journey', 'trafficisland', 'roadhog', 'vehicle', 'route', 'bus-only', 'pedestrian crossing', 'truss bridge', 'tollbridge', 'cantileverbridge', 'stonehaven', 'reach your destination', 'vehiculartraffic', 'zone', 'walkway', 'trafficlane', 'trackless trolley', 'traffic', 'bascule bridge', 'thoroughfare', 'trekker', 'london', 'go somewhere else', 'pedestrian bridge', 'corridor', 'gate', 'overpass', 'side', 'transportationsystem', 'shopping', 'traveller', 'west', 'pedestrianisation', 'sidewalk', 'east-west', 'change location', 'railwayline', 'carriageway', 'motor', 'railroadtrack', 'north-south', 'boardwalk', 'tollbar', 'subway station', 'one-way', 'oneway', 'vehicular', 'road rage', 'roadsurface', 'maze', 'pedestriantraffic', 'area', 'bridle path', 'trestle bridge', 'subwaystation', 'path', 'door', 'canoe', 'travel by car', 'public transportation', 'tollcollector', 'transportation', 'cobblestone', 'tacoma narrows bridge', 'tunnel', 'tour', 'traveler', 'go place', 'motorize', 'road', 'bridge', 'carriage', 'blackwall tunnel', 'northbound', 'country', 'toll plaza', 'junction', 'commuter', 'mobility scooter', 'crosswalk', 'westbound', 'footbridge', 'alleyway', 'tappan zee bridge', 'overbridge', 'scenicroute', 'hiker', 'traverse', 'urban', 'pedestrian', 'two-lane', 'vehiculation', 'streetcorner', 'pathway', 'go someplace', 'automobile', 'facility', 'trafficcircle', 'public transport', 'motor scooter', 'peterborough', 'get somewhere', 'urban renewal', 'crossing', 'downtown', 'spaghetti junction', 'urban sprawl', 'pound pavement', 'traversable', 'floating bridge', 'pedestrianism', 'asphalt', 'enjoy scenery', 'transit', 'lane', 'highway', 'the highway code', 'subwaytrain', 'zebra crossing', 'undergroundrailway', 'trip']\n",
      "\n",
      "Cluster  31\n",
      "['protect', 'warning', 'safetyisland', 'warn', 'safety']\n",
      "\n",
      "Cluster  38\n",
      "['olympic games']\n",
      "\n",
      "Cluster  7\n",
      "['passage', 'step forward', 'elevate', 'prose', 'verse', 'step in', 'boot', 'approach', 'step', 'loop', 'series', 'end', 'guide', 'egress', 'enclose', 'mode', 'pattern', 'take step', 'stepwise']\n",
      "\n",
      "Cluster  3\n",
      "['rush hour', 'emphasis', 'time', 'percent', 'duty', 'power', 'night', 'value', 'status', 'childhood', 'character', 'sensation', 'pace', 'bed', 'recreational', 'study', 'morning', 'number', 'speed', 'violation', 'energy', 'dress', 'adult', 'merit', 'design', 'chance', 'busy', 'comparison', 'light', 'year', 'behavior', 'at-grade', 'space', 'air', 'quality', 'fatality', 'soul', 'quick time', 'sense', 'score', 'day', 'death', 'fashion', 'purpose', 'analysis', 'part', 'form', 'accident', 'style', 'attention', 'wind', 'variety', 'heart', 'experience', 'nightrider', 'support', 'kind', 'level', 'task', 'shadow', 'distance', 'lack', 'lameness', 'type', 'effect', 'force', 'skill', 'hour', 'student', 'majority', 'portion', 'drunk', 'amount', 'negligence', 'account', 'control', 'mile', 'injury', 'sound', 'last mile', 'problem', 'lot', 'child', 'pawn', 'system', 'toddle', 'survey']\n",
      "\n",
      "Cluster  22\n",
      "['pointduty', 'oncoming', 'look both way', 'realism', 'directional', 'line', 'sight', 'unobservant', 'manner', 'yellowline', 'view']\n",
      "\n",
      "Cluster  4\n",
      "['passer', 'bystander', 'waddle', 'stomper', 'staggerer', 'saunterer', 'slink', 'wayfarer', 'stamper', 'shank nag', 'hardshoulder', 'passersby', 'waddler', 'slogger', 'stomp', 'passometer', 'totterer', 'raik', 'stumbler', 'shuffler', 'saunter', 'waulk', 'marcher', 'shank mare', 'parader', 'passerby', 'slouch', 'passable', 'passer-by', 'hov', 'slog', 'jimmy savile', 'reeler', 'blindcurve', 'tripper', 'swaggerer', 'hobbler', 'strider', 'skulk', 'limper']\n",
      "\n",
      "Cluster  1\n",
      "['signal', 'network', 'connection', 'interference', 'connect', 'congest', 'flow', 'ft', 'plaza', 'stream', 'bedroomcommunity']\n",
      "\n",
      "Cluster  40\n",
      "['non', 'uninteresting', 'unlighted', 'unpaved', 'deambulatory', 'nondriver', 'unmotorized']\n",
      "\n",
      "Cluster  13\n",
      "['pedestrial', 'prosy', 'tetrapous', 'pave', 'snow plow', 'plod', 'paviage', 'betread', 'pedate', 'prowl', 'tiptoe', 'protg', 'tittup', 'gradatory', 'plodder', 'patten', 'pedigerous', 'fosse way', 'crusoe']\n",
      "\n",
      "Cluster  11\n",
      "['servicearea', 'businessdistrict', 'charitable organization', 'fundraise', 'protégé']\n",
      "\n",
      "Cluster  43\n",
      "['traipse', 'trudge', 'reverie', 'checkpoint', 'trudger']\n",
      "\n",
      "Cluster  21\n",
      "['advocacy', 'constitutionalize', 'case', 'plaintiff']\n",
      "\n",
      "Cluster  39\n",
      "['bipedal', 'bicycle', 'bimble', 'bipedally', 'bipedalism', 'bike', 'bicyclerack', 'bicyclist', 'cyclist', 'cycle']\n",
      "\n",
      "Cluster  8\n",
      "['at bat', 'base on ball']\n",
      "\n",
      "Cluster  19\n",
      "['enjoy nature', 'solace', 'naturestrip', 'world', 'natural environment', 'provision', 'creation', 'earthbound', 'construction', 'refuge', 'development', 'environment', 'life', 'building', 'shelter', 'nature', 'mankind']\n",
      "\n",
      "Cluster  15\n",
      "['crowd', 'sage', 'robinson', 'carson', 'person', 'sashay', 'ward', 'stalker', 'woman', 'wade']\n",
      "\n",
      "Cluster  27\n",
      "['maindrag', 'frontage', 'frontage road', 'mountain lion', 'frontageroad']\n",
      "\n",
      "Cluster  42\n",
      "['density', 'volume', 'scale', 'twelve inch']\n",
      "\n",
      "Cluster  28\n",
      "['exercise your dog', 'dog']\n",
      "\n",
      "Cluster  9\n",
      "['interchange', 'taxistand', 'demarch', 'interurban', 'overstride', 'viatecture', 'intoxicate']\n",
      "\n",
      "Cluster  45\n",
      "['perambulate', 'perambulation', 'ambulatory', 'amenity', 'peripatetic', 'somnambulate', 'ambulation', 'ambulate']\n",
      "\n",
      "Cluster  23\n",
      "['pasture', 'seat belt', 'unbelted', 'equestrianism']\n",
      "\n",
      "Cluster  14\n",
      "['limited-access', 'shared use path', 'access', 'accessroad', 'accessible']\n",
      "\n",
      "Cluster  30\n",
      "['auto', 'auto-free zones']\n",
      "\n",
      "Cluster  24\n",
      "['have meal', 'obesity']\n",
      "\n",
      "Cluster  18\n",
      "['playmate', 'rekick', 'lockstep', 'secret agent', 'roundhouse kick']\n",
      "\n",
      "Cluster  2\n",
      "['floozie', 'fire hydrant', 'tree', 'treelawn', 'gibe', 'headon', 'bark', 'flounce', 'swamp rabbit', 'belishabeacon', 'bunion', 'plantarflex', 'gumwood', 'tree-lined']\n",
      "\n",
      "Cluster  33\n",
      "['vagrant']\n",
      "\n",
      "Cluster  37\n",
      "['arterialroad', 'circulation', 'arterial']\n",
      "\n",
      "Cluster  25\n",
      "['dave kunst', 'ian botham', 'robert barclay allardice']\n",
      "\n",
      "Cluster  44\n",
      "['gephyrophobia']\n",
      "\n",
      "Cluster  41\n",
      "['hamble', 'block', 'rambler', 'obstruction', 'shamble', 'ambler', 'ramble', 'amble', 'bustling']\n",
      "\n",
      "Cluster  26\n",
      "['copenhagenization', 'copenhagen']\n",
      "\n",
      "Cluster  10\n",
      "['inclined plane', 'retaining wall']\n",
      "\n",
      "Cluster  29\n",
      "['take photo', 'statue']\n",
      "\n",
      "Cluster  20\n",
      "['collision', 'intersection', 'factor', 'reduction', 'separation', 'property', 'relation']\n",
      "\n",
      "Cluster  32\n",
      "[\"land's end to john o' groats\"]\n",
      "\n",
      "Cluster  36\n",
      "['geometrid']\n",
      "\n",
      "Cluster  34\n",
      "['internal combustion engine']\n",
      "\n",
      "Cluster  16\n",
      "['fertile crescent']\n",
      "\n",
      "Cluster  35\n",
      "['crashbarrier']\n",
      "\n",
      "Cluster  17\n",
      "['waseca, minnesota']\n",
      "\n"
     ]
    }
   ],
   "source": [
    "for i, cluster in clustered_sentences.items():\n",
    "    print(\"Cluster \", i+1)\n",
    "    print(cluster)\n",
    "    print(\"\")"
   ]
  },
  {
   "cell_type": "code",
   "execution_count": 148,
   "id": "bd2a7607",
   "metadata": {},
   "outputs": [
    {
     "data": {
      "text/plain": [
       "45"
      ]
     },
     "execution_count": 148,
     "metadata": {},
     "output_type": "execute_result"
    }
   ],
   "source": [
    "len(clustered_sentences.items())"
   ]
  },
  {
   "cell_type": "code",
   "execution_count": 149,
   "id": "971fa11a",
   "metadata": {},
   "outputs": [
    {
     "data": {
      "text/plain": [
       "670"
      ]
     },
     "execution_count": 149,
     "metadata": {},
     "output_type": "execute_result"
    }
   ],
   "source": [
    "len(corpus)"
   ]
  },
  {
   "cell_type": "code",
   "execution_count": 150,
   "id": "74e5647d",
   "metadata": {},
   "outputs": [],
   "source": [
    "from sklearn.cluster import KMeans\n"
   ]
  },
  {
   "cell_type": "code",
   "execution_count": 151,
   "id": "3bb4ae85",
   "metadata": {},
   "outputs": [
    {
     "name": "stdout",
     "output_type": "stream",
     "text": [
      "s-id: 0, c-id: 18\n",
      "s-id: 1, c-id: 15\n",
      "s-id: 2, c-id: 12\n",
      "s-id: 3, c-id: 3\n",
      "s-id: 4, c-id: 19\n",
      "s-id: 5, c-id: 29\n",
      "s-id: 6, c-id: 19\n",
      "s-id: 7, c-id: 28\n",
      "s-id: 8, c-id: 17\n",
      "s-id: 9, c-id: 26\n",
      "s-id: 10, c-id: 26\n",
      "s-id: 11, c-id: 16\n",
      "s-id: 12, c-id: 11\n",
      "s-id: 13, c-id: 1\n",
      "s-id: 14, c-id: 3\n",
      "s-id: 15, c-id: 24\n",
      "s-id: 16, c-id: 26\n",
      "s-id: 17, c-id: 24\n",
      "s-id: 18, c-id: 18\n",
      "s-id: 19, c-id: 6\n",
      "s-id: 20, c-id: 22\n",
      "s-id: 21, c-id: 18\n",
      "s-id: 22, c-id: 15\n",
      "s-id: 23, c-id: 25\n",
      "s-id: 24, c-id: 15\n",
      "s-id: 25, c-id: 9\n",
      "s-id: 26, c-id: 18\n",
      "s-id: 27, c-id: 6\n",
      "s-id: 28, c-id: 3\n",
      "s-id: 29, c-id: 2\n",
      "s-id: 30, c-id: 20\n",
      "s-id: 31, c-id: 9\n",
      "s-id: 32, c-id: 17\n",
      "s-id: 33, c-id: 15\n",
      "s-id: 34, c-id: 6\n",
      "s-id: 35, c-id: 21\n",
      "s-id: 36, c-id: 20\n",
      "s-id: 37, c-id: 15\n",
      "s-id: 38, c-id: 15\n",
      "s-id: 39, c-id: 5\n",
      "s-id: 40, c-id: 8\n",
      "s-id: 41, c-id: 0\n",
      "s-id: 42, c-id: 26\n",
      "s-id: 43, c-id: 19\n",
      "s-id: 44, c-id: 27\n",
      "s-id: 45, c-id: 27\n",
      "s-id: 46, c-id: 23\n",
      "s-id: 47, c-id: 0\n",
      "s-id: 48, c-id: 18\n",
      "s-id: 49, c-id: 19\n",
      "s-id: 50, c-id: 5\n",
      "s-id: 51, c-id: 29\n",
      "s-id: 52, c-id: 6\n",
      "s-id: 53, c-id: 24\n",
      "s-id: 54, c-id: 11\n",
      "s-id: 55, c-id: 5\n",
      "s-id: 56, c-id: 1\n",
      "s-id: 57, c-id: 4\n",
      "s-id: 58, c-id: 5\n",
      "s-id: 59, c-id: 9\n",
      "s-id: 60, c-id: 25\n",
      "s-id: 61, c-id: 2\n",
      "s-id: 62, c-id: 1\n",
      "s-id: 63, c-id: 8\n",
      "s-id: 64, c-id: 20\n",
      "s-id: 65, c-id: 6\n",
      "s-id: 66, c-id: 1\n",
      "s-id: 67, c-id: 11\n",
      "s-id: 68, c-id: 2\n",
      "s-id: 69, c-id: 1\n",
      "s-id: 70, c-id: 1\n",
      "s-id: 71, c-id: 1\n",
      "s-id: 72, c-id: 21\n",
      "s-id: 73, c-id: 15\n",
      "s-id: 74, c-id: 26\n",
      "s-id: 75, c-id: 18\n",
      "s-id: 76, c-id: 14\n",
      "s-id: 77, c-id: 3\n",
      "s-id: 78, c-id: 19\n",
      "s-id: 79, c-id: 25\n",
      "s-id: 80, c-id: 1\n",
      "s-id: 81, c-id: 1\n",
      "s-id: 82, c-id: 10\n",
      "s-id: 83, c-id: 21\n",
      "s-id: 84, c-id: 14\n",
      "s-id: 85, c-id: 15\n",
      "s-id: 86, c-id: 1\n",
      "s-id: 87, c-id: 18\n",
      "s-id: 88, c-id: 29\n",
      "s-id: 89, c-id: 26\n",
      "s-id: 90, c-id: 19\n",
      "s-id: 91, c-id: 13\n",
      "s-id: 92, c-id: 7\n",
      "s-id: 93, c-id: 27\n",
      "s-id: 94, c-id: 5\n",
      "s-id: 95, c-id: 23\n",
      "s-id: 96, c-id: 25\n",
      "s-id: 97, c-id: 27\n",
      "s-id: 98, c-id: 15\n",
      "s-id: 99, c-id: 15\n",
      "s-id: 100, c-id: 18\n",
      "s-id: 101, c-id: 13\n",
      "s-id: 102, c-id: 2\n",
      "s-id: 103, c-id: 3\n",
      "s-id: 104, c-id: 7\n",
      "s-id: 105, c-id: 1\n",
      "s-id: 106, c-id: 5\n",
      "s-id: 107, c-id: 2\n",
      "s-id: 108, c-id: 27\n",
      "s-id: 109, c-id: 11\n",
      "s-id: 110, c-id: 19\n",
      "s-id: 111, c-id: 29\n",
      "s-id: 112, c-id: 12\n",
      "s-id: 113, c-id: 2\n",
      "s-id: 114, c-id: 1\n",
      "s-id: 115, c-id: 26\n",
      "s-id: 116, c-id: 5\n",
      "s-id: 117, c-id: 29\n",
      "s-id: 118, c-id: 1\n",
      "s-id: 119, c-id: 26\n",
      "s-id: 120, c-id: 5\n",
      "s-id: 121, c-id: 16\n",
      "s-id: 122, c-id: 3\n",
      "s-id: 123, c-id: 12\n",
      "s-id: 124, c-id: 8\n",
      "s-id: 125, c-id: 2\n",
      "s-id: 126, c-id: 19\n",
      "s-id: 127, c-id: 26\n",
      "s-id: 128, c-id: 7\n",
      "s-id: 129, c-id: 8\n",
      "s-id: 130, c-id: 6\n",
      "s-id: 131, c-id: 13\n",
      "s-id: 132, c-id: 4\n",
      "s-id: 133, c-id: 22\n",
      "s-id: 134, c-id: 5\n",
      "s-id: 135, c-id: 19\n",
      "s-id: 136, c-id: 26\n",
      "s-id: 137, c-id: 24\n",
      "s-id: 138, c-id: 16\n",
      "s-id: 139, c-id: 12\n",
      "s-id: 140, c-id: 19\n",
      "s-id: 141, c-id: 10\n",
      "s-id: 142, c-id: 0\n",
      "s-id: 143, c-id: 9\n",
      "s-id: 144, c-id: 19\n",
      "s-id: 145, c-id: 16\n",
      "s-id: 146, c-id: 3\n",
      "s-id: 147, c-id: 27\n",
      "s-id: 148, c-id: 15\n",
      "s-id: 149, c-id: 10\n",
      "s-id: 150, c-id: 28\n",
      "s-id: 151, c-id: 6\n",
      "s-id: 152, c-id: 29\n",
      "s-id: 153, c-id: 25\n",
      "s-id: 154, c-id: 21\n",
      "s-id: 155, c-id: 15\n",
      "s-id: 156, c-id: 27\n",
      "s-id: 157, c-id: 22\n",
      "s-id: 158, c-id: 29\n",
      "s-id: 159, c-id: 7\n",
      "s-id: 160, c-id: 13\n",
      "s-id: 161, c-id: 15\n",
      "s-id: 162, c-id: 19\n",
      "s-id: 163, c-id: 15\n",
      "s-id: 164, c-id: 6\n",
      "s-id: 165, c-id: 13\n",
      "s-id: 166, c-id: 6\n",
      "s-id: 167, c-id: 20\n",
      "s-id: 168, c-id: 18\n",
      "s-id: 169, c-id: 6\n",
      "s-id: 170, c-id: 6\n",
      "s-id: 171, c-id: 2\n",
      "s-id: 172, c-id: 6\n",
      "s-id: 173, c-id: 5\n",
      "s-id: 174, c-id: 22\n",
      "s-id: 175, c-id: 16\n",
      "s-id: 176, c-id: 8\n",
      "s-id: 177, c-id: 16\n",
      "s-id: 178, c-id: 25\n",
      "s-id: 179, c-id: 16\n",
      "s-id: 180, c-id: 22\n",
      "s-id: 181, c-id: 22\n",
      "s-id: 182, c-id: 11\n",
      "s-id: 183, c-id: 2\n",
      "s-id: 184, c-id: 2\n",
      "s-id: 185, c-id: 16\n",
      "s-id: 186, c-id: 10\n",
      "s-id: 187, c-id: 13\n",
      "s-id: 188, c-id: 23\n",
      "s-id: 189, c-id: 16\n",
      "s-id: 190, c-id: 3\n",
      "s-id: 191, c-id: 18\n",
      "s-id: 192, c-id: 26\n",
      "s-id: 193, c-id: 3\n",
      "s-id: 194, c-id: 25\n",
      "s-id: 195, c-id: 25\n",
      "s-id: 196, c-id: 18\n",
      "s-id: 197, c-id: 8\n",
      "s-id: 198, c-id: 2\n",
      "s-id: 199, c-id: 26\n",
      "s-id: 200, c-id: 26\n",
      "s-id: 201, c-id: 18\n",
      "s-id: 202, c-id: 22\n",
      "s-id: 203, c-id: 6\n",
      "s-id: 204, c-id: 29\n",
      "s-id: 205, c-id: 19\n",
      "s-id: 206, c-id: 20\n",
      "s-id: 207, c-id: 6\n",
      "s-id: 208, c-id: 21\n",
      "s-id: 209, c-id: 25\n",
      "s-id: 210, c-id: 19\n",
      "s-id: 211, c-id: 2\n",
      "s-id: 212, c-id: 16\n",
      "s-id: 213, c-id: 12\n",
      "s-id: 214, c-id: 19\n",
      "s-id: 215, c-id: 3\n",
      "s-id: 216, c-id: 2\n",
      "s-id: 217, c-id: 1\n",
      "s-id: 218, c-id: 7\n",
      "s-id: 219, c-id: 26\n",
      "s-id: 220, c-id: 11\n",
      "s-id: 221, c-id: 22\n",
      "s-id: 222, c-id: 3\n",
      "s-id: 223, c-id: 1\n",
      "s-id: 224, c-id: 29\n",
      "s-id: 225, c-id: 6\n",
      "s-id: 226, c-id: 21\n",
      "s-id: 227, c-id: 9\n",
      "s-id: 228, c-id: 26\n",
      "s-id: 229, c-id: 1\n",
      "s-id: 230, c-id: 26\n",
      "s-id: 231, c-id: 15\n",
      "s-id: 232, c-id: 28\n",
      "s-id: 233, c-id: 24\n",
      "s-id: 234, c-id: 3\n",
      "s-id: 235, c-id: 9\n",
      "s-id: 236, c-id: 21\n",
      "s-id: 237, c-id: 14\n",
      "s-id: 238, c-id: 26\n",
      "s-id: 239, c-id: 26\n",
      "s-id: 240, c-id: 3\n",
      "s-id: 241, c-id: 3\n",
      "s-id: 242, c-id: 28\n",
      "s-id: 243, c-id: 7\n",
      "s-id: 244, c-id: 29\n",
      "s-id: 245, c-id: 11\n",
      "s-id: 246, c-id: 22\n",
      "s-id: 247, c-id: 26\n",
      "s-id: 248, c-id: 6\n",
      "s-id: 249, c-id: 17\n",
      "s-id: 250, c-id: 26\n",
      "s-id: 251, c-id: 10\n",
      "s-id: 252, c-id: 1\n",
      "s-id: 253, c-id: 18\n",
      "s-id: 254, c-id: 21\n",
      "s-id: 255, c-id: 28\n",
      "s-id: 256, c-id: 0\n",
      "s-id: 257, c-id: 29\n",
      "s-id: 258, c-id: 24\n",
      "s-id: 259, c-id: 29\n",
      "s-id: 260, c-id: 9\n",
      "s-id: 261, c-id: 21\n",
      "s-id: 262, c-id: 8\n",
      "s-id: 263, c-id: 21\n",
      "s-id: 264, c-id: 18\n",
      "s-id: 265, c-id: 11\n",
      "s-id: 266, c-id: 25\n",
      "s-id: 267, c-id: 16\n",
      "s-id: 268, c-id: 14\n",
      "s-id: 269, c-id: 14\n",
      "s-id: 270, c-id: 25\n",
      "s-id: 271, c-id: 18\n",
      "s-id: 272, c-id: 14\n",
      "s-id: 273, c-id: 19\n",
      "s-id: 274, c-id: 9\n",
      "s-id: 275, c-id: 10\n",
      "s-id: 276, c-id: 18\n",
      "s-id: 277, c-id: 6\n",
      "s-id: 278, c-id: 7\n",
      "s-id: 279, c-id: 26\n",
      "s-id: 280, c-id: 1\n",
      "s-id: 281, c-id: 0\n",
      "s-id: 282, c-id: 26\n",
      "s-id: 283, c-id: 3\n",
      "s-id: 284, c-id: 19\n",
      "s-id: 285, c-id: 11\n",
      "s-id: 286, c-id: 1\n",
      "s-id: 287, c-id: 16\n",
      "s-id: 288, c-id: 25\n",
      "s-id: 289, c-id: 2\n",
      "s-id: 290, c-id: 1\n",
      "s-id: 291, c-id: 29\n",
      "s-id: 292, c-id: 16\n",
      "s-id: 293, c-id: 9\n",
      "s-id: 294, c-id: 16\n",
      "s-id: 295, c-id: 26\n",
      "s-id: 296, c-id: 21\n",
      "s-id: 297, c-id: 3\n",
      "s-id: 298, c-id: 21\n",
      "s-id: 299, c-id: 3\n",
      "s-id: 300, c-id: 27\n",
      "s-id: 301, c-id: 1\n",
      "s-id: 302, c-id: 11\n",
      "s-id: 303, c-id: 14\n",
      "s-id: 304, c-id: 4\n",
      "s-id: 305, c-id: 27\n",
      "s-id: 306, c-id: 6\n",
      "s-id: 307, c-id: 19\n",
      "s-id: 308, c-id: 23\n",
      "s-id: 309, c-id: 14\n",
      "s-id: 310, c-id: 16\n",
      "s-id: 311, c-id: 5\n",
      "s-id: 312, c-id: 29\n",
      "s-id: 313, c-id: 14\n",
      "s-id: 314, c-id: 22\n",
      "s-id: 315, c-id: 16\n",
      "s-id: 316, c-id: 7\n",
      "s-id: 317, c-id: 9\n",
      "s-id: 318, c-id: 3\n",
      "s-id: 319, c-id: 11\n",
      "s-id: 320, c-id: 18\n",
      "s-id: 321, c-id: 1\n",
      "s-id: 322, c-id: 2\n",
      "s-id: 323, c-id: 3\n",
      "s-id: 324, c-id: 19\n",
      "s-id: 325, c-id: 11\n",
      "s-id: 326, c-id: 13\n",
      "s-id: 327, c-id: 16\n",
      "s-id: 328, c-id: 9\n",
      "s-id: 329, c-id: 7\n",
      "s-id: 330, c-id: 26\n",
      "s-id: 331, c-id: 3\n",
      "s-id: 332, c-id: 16\n",
      "s-id: 333, c-id: 25\n",
      "s-id: 334, c-id: 25\n",
      "s-id: 335, c-id: 24\n",
      "s-id: 336, c-id: 11\n",
      "s-id: 337, c-id: 3\n",
      "s-id: 338, c-id: 7\n",
      "s-id: 339, c-id: 4\n",
      "s-id: 340, c-id: 26\n",
      "s-id: 341, c-id: 15\n",
      "s-id: 342, c-id: 20\n",
      "s-id: 343, c-id: 7\n",
      "s-id: 344, c-id: 27\n",
      "s-id: 345, c-id: 5\n",
      "s-id: 346, c-id: 13\n",
      "s-id: 347, c-id: 26\n",
      "s-id: 348, c-id: 12\n",
      "s-id: 349, c-id: 0\n",
      "s-id: 350, c-id: 13\n",
      "s-id: 351, c-id: 27\n",
      "s-id: 352, c-id: 18\n",
      "s-id: 353, c-id: 3\n",
      "s-id: 354, c-id: 18\n",
      "s-id: 355, c-id: 27\n",
      "s-id: 356, c-id: 17\n",
      "s-id: 357, c-id: 15\n",
      "s-id: 358, c-id: 13\n",
      "s-id: 359, c-id: 27\n",
      "s-id: 360, c-id: 11\n",
      "s-id: 361, c-id: 22\n",
      "s-id: 362, c-id: 11\n",
      "s-id: 363, c-id: 29\n",
      "s-id: 364, c-id: 29\n",
      "s-id: 365, c-id: 16\n",
      "s-id: 366, c-id: 16\n",
      "s-id: 367, c-id: 11\n",
      "s-id: 368, c-id: 11\n",
      "s-id: 369, c-id: 11\n",
      "s-id: 370, c-id: 19\n",
      "s-id: 371, c-id: 26\n",
      "s-id: 372, c-id: 9\n",
      "s-id: 373, c-id: 24\n",
      "s-id: 374, c-id: 13\n",
      "s-id: 375, c-id: 15\n",
      "s-id: 376, c-id: 1\n",
      "s-id: 377, c-id: 1\n",
      "s-id: 378, c-id: 26\n",
      "s-id: 379, c-id: 27\n",
      "s-id: 380, c-id: 27\n",
      "s-id: 381, c-id: 0\n",
      "s-id: 382, c-id: 11\n",
      "s-id: 383, c-id: 26\n",
      "s-id: 384, c-id: 13\n",
      "s-id: 385, c-id: 21\n",
      "s-id: 386, c-id: 16\n",
      "s-id: 387, c-id: 12\n",
      "s-id: 388, c-id: 9\n",
      "s-id: 389, c-id: 25\n",
      "s-id: 390, c-id: 18\n",
      "s-id: 391, c-id: 7\n",
      "s-id: 392, c-id: 27\n",
      "s-id: 393, c-id: 3\n",
      "s-id: 394, c-id: 2\n",
      "s-id: 395, c-id: 26\n",
      "s-id: 396, c-id: 14\n",
      "s-id: 397, c-id: 9\n",
      "s-id: 398, c-id: 2\n",
      "s-id: 399, c-id: 29\n",
      "s-id: 400, c-id: 6\n",
      "s-id: 401, c-id: 13\n",
      "s-id: 402, c-id: 28\n",
      "s-id: 403, c-id: 21\n",
      "s-id: 404, c-id: 1\n",
      "s-id: 405, c-id: 6\n",
      "s-id: 406, c-id: 29\n",
      "s-id: 407, c-id: 10\n",
      "s-id: 408, c-id: 3\n",
      "s-id: 409, c-id: 26\n",
      "s-id: 410, c-id: 26\n",
      "s-id: 411, c-id: 29\n",
      "s-id: 412, c-id: 1\n",
      "s-id: 413, c-id: 4\n",
      "s-id: 414, c-id: 19\n",
      "s-id: 415, c-id: 0\n",
      "s-id: 416, c-id: 29\n",
      "s-id: 417, c-id: 27\n",
      "s-id: 418, c-id: 14\n",
      "s-id: 419, c-id: 9\n",
      "s-id: 420, c-id: 21\n",
      "s-id: 421, c-id: 6\n",
      "s-id: 422, c-id: 11\n",
      "s-id: 423, c-id: 11\n",
      "s-id: 424, c-id: 6\n",
      "s-id: 425, c-id: 29\n",
      "s-id: 426, c-id: 24\n",
      "s-id: 427, c-id: 16\n",
      "s-id: 428, c-id: 3\n",
      "s-id: 429, c-id: 29\n",
      "s-id: 430, c-id: 13\n",
      "s-id: 431, c-id: 17\n",
      "s-id: 432, c-id: 10\n",
      "s-id: 433, c-id: 5\n",
      "s-id: 434, c-id: 25\n",
      "s-id: 435, c-id: 3\n",
      "s-id: 436, c-id: 10\n",
      "s-id: 437, c-id: 1\n",
      "s-id: 438, c-id: 28\n",
      "s-id: 439, c-id: 11\n",
      "s-id: 440, c-id: 6\n",
      "s-id: 441, c-id: 1\n",
      "s-id: 442, c-id: 11\n",
      "s-id: 443, c-id: 9\n",
      "s-id: 444, c-id: 5\n",
      "s-id: 445, c-id: 15\n",
      "s-id: 446, c-id: 6\n",
      "s-id: 447, c-id: 9\n",
      "s-id: 448, c-id: 1\n",
      "s-id: 449, c-id: 13\n",
      "s-id: 450, c-id: 21\n",
      "s-id: 451, c-id: 22\n",
      "s-id: 452, c-id: 15\n",
      "s-id: 453, c-id: 3\n",
      "s-id: 454, c-id: 6\n",
      "s-id: 455, c-id: 11\n",
      "s-id: 456, c-id: 15\n",
      "s-id: 457, c-id: 14\n",
      "s-id: 458, c-id: 29\n",
      "s-id: 459, c-id: 23\n",
      "s-id: 460, c-id: 5\n",
      "s-id: 461, c-id: 18\n",
      "s-id: 462, c-id: 9\n",
      "s-id: 463, c-id: 6\n",
      "s-id: 464, c-id: 28\n",
      "s-id: 465, c-id: 25\n",
      "s-id: 466, c-id: 15\n",
      "s-id: 467, c-id: 23\n",
      "s-id: 468, c-id: 22\n",
      "s-id: 469, c-id: 12\n",
      "s-id: 470, c-id: 11\n",
      "s-id: 471, c-id: 26\n",
      "s-id: 472, c-id: 11\n",
      "s-id: 473, c-id: 14\n",
      "s-id: 474, c-id: 11\n",
      "s-id: 475, c-id: 24\n",
      "s-id: 476, c-id: 29\n",
      "s-id: 477, c-id: 1\n",
      "s-id: 478, c-id: 7\n",
      "s-id: 479, c-id: 16\n",
      "s-id: 480, c-id: 25\n",
      "s-id: 481, c-id: 25\n",
      "s-id: 482, c-id: 20\n",
      "s-id: 483, c-id: 19\n",
      "s-id: 484, c-id: 21\n",
      "s-id: 485, c-id: 11\n",
      "s-id: 486, c-id: 24\n",
      "s-id: 487, c-id: 1\n",
      "s-id: 488, c-id: 1\n",
      "s-id: 489, c-id: 11\n",
      "s-id: 490, c-id: 18\n",
      "s-id: 491, c-id: 11\n",
      "s-id: 492, c-id: 3\n",
      "s-id: 493, c-id: 6\n",
      "s-id: 494, c-id: 13\n",
      "s-id: 495, c-id: 22\n",
      "s-id: 496, c-id: 11\n",
      "s-id: 497, c-id: 14\n",
      "s-id: 498, c-id: 29\n",
      "s-id: 499, c-id: 13\n",
      "s-id: 500, c-id: 20\n",
      "s-id: 501, c-id: 0\n",
      "s-id: 502, c-id: 9\n",
      "s-id: 503, c-id: 21\n",
      "s-id: 504, c-id: 11\n",
      "s-id: 505, c-id: 1\n",
      "s-id: 506, c-id: 12\n",
      "s-id: 507, c-id: 12\n",
      "s-id: 508, c-id: 8\n",
      "s-id: 509, c-id: 7\n",
      "s-id: 510, c-id: 24\n",
      "s-id: 511, c-id: 18\n",
      "s-id: 512, c-id: 1\n",
      "s-id: 513, c-id: 15\n",
      "s-id: 514, c-id: 21\n",
      "s-id: 515, c-id: 25\n",
      "s-id: 516, c-id: 14\n",
      "s-id: 517, c-id: 26\n",
      "s-id: 518, c-id: 15\n",
      "s-id: 519, c-id: 1\n",
      "s-id: 520, c-id: 25\n",
      "s-id: 521, c-id: 3\n",
      "s-id: 522, c-id: 21\n",
      "s-id: 523, c-id: 14\n",
      "s-id: 524, c-id: 18\n",
      "s-id: 525, c-id: 19\n",
      "s-id: 526, c-id: 16\n",
      "s-id: 527, c-id: 28\n",
      "s-id: 528, c-id: 0\n",
      "s-id: 529, c-id: 14\n",
      "s-id: 530, c-id: 13\n",
      "s-id: 531, c-id: 23\n",
      "s-id: 532, c-id: 27\n",
      "s-id: 533, c-id: 29\n",
      "s-id: 534, c-id: 2\n",
      "s-id: 535, c-id: 3\n",
      "s-id: 536, c-id: 19\n",
      "s-id: 537, c-id: 18\n",
      "s-id: 538, c-id: 0\n",
      "s-id: 539, c-id: 1\n",
      "s-id: 540, c-id: 20\n",
      "s-id: 541, c-id: 1\n",
      "s-id: 542, c-id: 20\n",
      "s-id: 543, c-id: 28\n",
      "s-id: 544, c-id: 3\n",
      "s-id: 545, c-id: 3\n",
      "s-id: 546, c-id: 12\n",
      "s-id: 547, c-id: 4\n",
      "s-id: 548, c-id: 5\n",
      "s-id: 549, c-id: 10\n",
      "s-id: 550, c-id: 2\n",
      "s-id: 551, c-id: 6\n",
      "s-id: 552, c-id: 1\n",
      "s-id: 553, c-id: 1\n",
      "s-id: 554, c-id: 17\n",
      "s-id: 555, c-id: 27\n",
      "s-id: 556, c-id: 22\n",
      "s-id: 557, c-id: 6\n",
      "s-id: 558, c-id: 29\n",
      "s-id: 559, c-id: 0\n",
      "s-id: 560, c-id: 1\n",
      "s-id: 561, c-id: 23\n",
      "s-id: 562, c-id: 6\n",
      "s-id: 563, c-id: 3\n",
      "s-id: 564, c-id: 6\n",
      "s-id: 565, c-id: 27\n",
      "s-id: 566, c-id: 25\n",
      "s-id: 567, c-id: 5\n",
      "s-id: 568, c-id: 27\n",
      "s-id: 569, c-id: 13\n",
      "s-id: 570, c-id: 10\n",
      "s-id: 571, c-id: 17\n",
      "s-id: 572, c-id: 16\n",
      "s-id: 573, c-id: 25\n",
      "s-id: 574, c-id: 1\n",
      "s-id: 575, c-id: 27\n",
      "s-id: 576, c-id: 2\n",
      "s-id: 577, c-id: 19\n",
      "s-id: 578, c-id: 16\n",
      "s-id: 579, c-id: 20\n",
      "s-id: 580, c-id: 11\n",
      "s-id: 581, c-id: 26\n",
      "s-id: 582, c-id: 20\n",
      "s-id: 583, c-id: 15\n",
      "s-id: 584, c-id: 27\n",
      "s-id: 585, c-id: 9\n",
      "s-id: 586, c-id: 12\n",
      "s-id: 587, c-id: 12\n",
      "s-id: 588, c-id: 27\n",
      "s-id: 589, c-id: 19\n",
      "s-id: 590, c-id: 19\n",
      "s-id: 591, c-id: 1\n",
      "s-id: 592, c-id: 23\n",
      "s-id: 593, c-id: 19\n",
      "s-id: 594, c-id: 5\n",
      "s-id: 595, c-id: 28\n",
      "s-id: 596, c-id: 25\n",
      "s-id: 597, c-id: 1\n",
      "s-id: 598, c-id: 1\n",
      "s-id: 599, c-id: 16\n",
      "s-id: 600, c-id: 8\n",
      "s-id: 601, c-id: 27\n",
      "s-id: 602, c-id: 1\n",
      "s-id: 603, c-id: 27\n",
      "s-id: 604, c-id: 21\n",
      "s-id: 605, c-id: 29\n",
      "s-id: 606, c-id: 5\n",
      "s-id: 607, c-id: 3\n",
      "s-id: 608, c-id: 11\n",
      "s-id: 609, c-id: 19\n",
      "s-id: 610, c-id: 27\n",
      "s-id: 611, c-id: 18\n",
      "s-id: 612, c-id: 20\n",
      "s-id: 613, c-id: 20\n",
      "s-id: 614, c-id: 18\n",
      "s-id: 615, c-id: 16\n",
      "s-id: 616, c-id: 15\n",
      "s-id: 617, c-id: 29\n",
      "s-id: 618, c-id: 19\n",
      "s-id: 619, c-id: 21\n",
      "s-id: 620, c-id: 26\n",
      "s-id: 621, c-id: 1\n",
      "s-id: 622, c-id: 29\n",
      "s-id: 623, c-id: 25\n",
      "s-id: 624, c-id: 14\n",
      "s-id: 625, c-id: 4\n",
      "s-id: 626, c-id: 28\n",
      "s-id: 627, c-id: 5\n",
      "s-id: 628, c-id: 11\n",
      "s-id: 629, c-id: 17\n",
      "s-id: 630, c-id: 18\n",
      "s-id: 631, c-id: 25\n",
      "s-id: 632, c-id: 13\n",
      "s-id: 633, c-id: 26\n",
      "s-id: 634, c-id: 21\n",
      "s-id: 635, c-id: 23\n",
      "s-id: 636, c-id: 16\n",
      "s-id: 637, c-id: 16\n",
      "s-id: 638, c-id: 3\n",
      "s-id: 639, c-id: 9\n",
      "s-id: 640, c-id: 5\n",
      "s-id: 641, c-id: 13\n",
      "s-id: 642, c-id: 28\n",
      "s-id: 643, c-id: 1\n",
      "s-id: 644, c-id: 26\n",
      "s-id: 645, c-id: 26\n",
      "s-id: 646, c-id: 11\n",
      "s-id: 647, c-id: 22\n",
      "s-id: 648, c-id: 27\n",
      "s-id: 649, c-id: 1\n",
      "s-id: 650, c-id: 3\n",
      "s-id: 651, c-id: 2\n",
      "s-id: 652, c-id: 6\n",
      "s-id: 653, c-id: 25\n",
      "s-id: 654, c-id: 22\n",
      "s-id: 655, c-id: 1\n",
      "s-id: 656, c-id: 9\n",
      "s-id: 657, c-id: 1\n",
      "s-id: 658, c-id: 12\n",
      "s-id: 659, c-id: 9\n",
      "s-id: 660, c-id: 8\n",
      "s-id: 661, c-id: 1\n",
      "s-id: 662, c-id: 6\n",
      "s-id: 663, c-id: 25\n",
      "s-id: 664, c-id: 26\n",
      "s-id: 665, c-id: 23\n",
      "s-id: 666, c-id: 15\n",
      "s-id: 667, c-id: 3\n",
      "s-id: 668, c-id: 1\n",
      "s-id: 669, c-id: 2\n"
     ]
    }
   ],
   "source": [
    "\n",
    "\"\"\"\n",
    "This is a simple application for sentence embeddings: clustering\n",
    "Sentences are mapped to sentence embeddings and then k-mean clustering is applied.\n",
    "\"\"\"\n",
    "\n",
    "corpus_embeddings = embedder.encode(corpus)\n",
    "\n",
    "# Perform kmean clustering\n",
    "num_clusters = 30\n",
    "clustering_model = KMeans(n_clusters=num_clusters)\n",
    "clustering_model.fit(corpus_embeddings)\n",
    "cluster_assignment = clustering_model.labels_\n",
    "\n",
    "clustered_sentences = [[] for i in range(num_clusters)]\n",
    "for sentence_id, cluster_id in enumerate(cluster_assignment):\n",
    "    print(f's-id: {sentence_id}, c-id: {cluster_id}')\n",
    "    clustered_sentences[cluster_id].append(corpus[sentence_id])\n",
    "\n"
   ]
  },
  {
   "cell_type": "code",
   "execution_count": 152,
   "id": "65b3a1ae",
   "metadata": {},
   "outputs": [
    {
     "data": {
      "text/plain": [
       "670"
      ]
     },
     "execution_count": 152,
     "metadata": {},
     "output_type": "execute_result"
    }
   ],
   "source": [
    "len(corpus_embeddings)"
   ]
  },
  {
   "cell_type": "code",
   "execution_count": 153,
   "id": "bc2ca61e",
   "metadata": {},
   "outputs": [
    {
     "data": {
      "text/plain": [
       "numpy.ndarray"
      ]
     },
     "execution_count": 153,
     "metadata": {},
     "output_type": "execute_result"
    }
   ],
   "source": [
    "type(corpus_embeddings)"
   ]
  },
  {
   "cell_type": "code",
   "execution_count": 154,
   "id": "4d2e0949",
   "metadata": {},
   "outputs": [
    {
     "data": {
      "text/plain": [
       "-0.24702131748199463"
      ]
     },
     "execution_count": 154,
     "metadata": {},
     "output_type": "execute_result"
    }
   ],
   "source": [
    "clustering_model.score(embedder.encode([\"pedestrian\"]))"
   ]
  },
  {
   "cell_type": "code",
   "execution_count": 155,
   "id": "0693e3e7",
   "metadata": {},
   "outputs": [
    {
     "data": {
      "text/plain": [
       "30"
      ]
     },
     "execution_count": 155,
     "metadata": {},
     "output_type": "execute_result"
    }
   ],
   "source": [
    "len(clustering_model.cluster_centers_)"
   ]
  },
  {
   "cell_type": "code",
   "execution_count": 156,
   "id": "d9ad180c",
   "metadata": {
    "scrolled": true
   },
   "outputs": [
    {
     "name": "stdout",
     "output_type": "stream",
     "text": [
      "average sim cluster 0 to pedestrian is: 0.2472480939080318\n",
      "['landscape', 'enjoy nature', 'solace', 'naturestrip', 'natural environment', 'earthbound', 'wind', 'refuge', 'environment', 'shelter', 'nature', 'mankind']\n",
      "\n",
      "average sim cluster 1 to pedestrian is: 0.275070890211142\n",
      "['underfoot', 'duck foot', 'feetless', 'footstep', 'footbreadth', 'stairfoot', 'by foot', 'clubfoot', 'clawfooted', 'roller shoe', 'footfall', 'hindfoot', 'footwrap', 'footboy', 'big toe', 'put on shoe', 'flatfoot', 'bumblefoot', 'five toe', 'little toe', 'foot', 'footmeal', 'footway', 'webfoot', 'your foot', 'foot soldier', 'ten toe', 'two foot', 'acre foot', 'leg', \"on one's foot\", 'footly', 'footsore', 'megafoot', 'footsie', 'cleave foot', 'foothalt', 'dry foot', 'on foot', 'flat foot', 'tube foot', 'footpath', 'clawfoot', 'footstrike', 'footpeg', 'splayfoot', 'footswitch', 'kilofoot', 'foothold', 'footer', 'footrail', 'midfoot']\n",
      "\n",
      "average sim cluster 2 to pedestrian is: 0.2263984622603113\n",
      "['routine', 'reverie', 'childhood', 'constitutionalize', 'recreational', 'exercise', 'have meal', 'perambulation', 'uninteresting', 'adult', 'busy', 'ambulatory', 'behavior', 'activity', 'shopping', 'deambulatory', 'amenity', 'ambulation', 'drunk', 'obesity', 'ambulate', 'unmotorized']\n",
      "\n",
      "average sim cluster 3 to pedestrian is: 0.23496665080656876\n",
      "['protect', 'pointduty', 'elevate', 'density', 'oncoming', 'study', 'legwork', 'merit', 'design', 'interior', 'at-grade', 'space', 'quality', 'realism', 'provision', 'copenhagenization', 'inclined plane', 'frontage', 'purpose', 'creation', 'analysis', 'form', 'construction', 'footprint', 'obstruction', 'base on ball', 'development', 'property', 'building', 'gradatory', 'viatecture', 'geometrid', 'retaining wall', 'bedroomcommunity', 'statue', 'safety', 'survey']\n",
      "\n",
      "average sim cluster 4 to pedestrian is: 0.7081864391054425\n",
      "['promenade', 'pedestrianize', 'thoroughfare', 'pedestrianisation', 'pedestriantraffic', 'pedestrian', 'pedestrianism']\n",
      "\n",
      "average sim cluster 5 to pedestrian is: 0.27120530427921385\n",
      "['at bat', 'three-lane', 'multilane', 'alley', 'interchange', 'four-lane', 'robinson', 'one-lane', 'edge', 'ward', 'corridor', 'collision', 'checkpoint', 'tollcollector', 'wade', 'two-lane', 'mile', 'robert barclay allardice', 'last mile', 'protégé', 'lane']\n",
      "\n",
      "average sim cluster 6 to pedestrian is: 0.20578431292916788\n",
      "['signal', 'duty', 'power', 'value', 'status', 'number', 'boot', 'speed', 'congest', 'energy', 'volume', 'tree', 'light', 'loop', 'series', 'scale', 'score', 'twelve inch', 'support', 'level', 'factor', 'task', 'mode', 'reduction', 'distance', 'pattern', 'force', 'amount', 'relation', 'account', 'control', 'cycle', 'system']\n",
      "\n",
      "average sim cluster 7 to pedestrian is: 0.2385200331253665\n",
      "['south', 'bed', 'morning', 'carson', 'southbound', 'eastbound', 'zone', 'side', 'west', 'auto-free zones', 'east-west', 'north-south', 'northbound', 'westbound']\n",
      "\n",
      "average sim cluster 8 to pedestrian is: 0.40015839636325834\n",
      "['pelican crossing', 'cross', 'crossstreet', 'interference', 'dartford crossing', 'cross street', 'pedestrian crossing', 'crosswalk', 'crossing', 'zebra crossing']\n",
      "\n",
      "average sim cluster 9 to pedestrian is: 0.33867650641047436\n",
      "['travel', 'travel to destination', 'subway', 'bus', 'commuter train', 'busdepot', 'bus-only', 'reach your destination', 'trackless trolley', 'transportationsystem', 'traveller', 'railwayline', 'railroadtrack', 'subway station', 'subwaystation', 'public transportation', 'transportation', 'traveler', 'commuter', 'public transport', 'transit', 'rail', 'subwaytrain']\n",
      "\n",
      "average sim cluster 10 to pedestrian is: 0.3323658731850711\n",
      "['trolleycar', 'car', 'vehicular traffic', 'seat belt', 'vehicle', 'vehiculartraffic', 'vehicular', 'canoe', 'travel by car', 'vehiculation', 'automobile']\n",
      "\n",
      "average sim cluster 11 to pedestrian is: 0.21716470830142498\n",
      "['emphasis', 'prose', 'maindrag', 'verse', 'dress', 'unlighted', 'block', 'flow', 'ft', 'line', 'fashion', 'sight', 'unbelted', 'woman', 'end', 'style', 'attention', 'unobservant', 'variety', 'egress', 'enclose', 'circulation', 'manner', 'yellowline', 'lameness', 'arterial', 'carriage', 'separation', 'type', 'warn', 'view', 'slog', 'stream', 'amble', 'bustling', 'tree-lined']\n",
      "\n",
      "average sim cluster 12 to pedestrian is: 0.2862847276431109\n",
      "['motorist', 'driver', 'auto', 'passenger', 'carpooler', 'wheelchair', 'motor', 'motorize', 'drivearound', 'mobility scooter', 'internal combustion engine', 'motor scooter', 'crashbarrier', 'nondriver']\n",
      "\n",
      "average sim cluster 13 to pedestrian is: 0.21482170018411817\n",
      "['sage', 'shank nag', 'playmate', 'person', 'sashay', 'gibe', 'rekick', 'unpaved', 'raik', 'rambler', 'waulk', 'lockstep', 'shank mare', 'secret agent', 'roundhouse kick', 'fundraise', 'skill', 'skateboard', 'ambler', 'pawn', 'skulk']\n",
      "\n",
      "average sim cluster 14 to pedestrian is: 0.2436027286781205\n",
      "['underpass', 'queensboro bridge', 'bosporus bridge', 'truss bridge', 'tollbridge', 'cantileverbridge', 'bascule bridge', 'pedestrian bridge', 'overpass', 'tollbar', 'trestle bridge', 'tacoma narrows bridge', 'bridge', 'toll plaza', 'footbridge', 'tappan zee bridge', 'overbridge', 'floating bridge']\n",
      "\n",
      "average sim cluster 15 to pedestrian is: 0.19888151823370545\n",
      "['treadle', 'pedestrial', 'traipse', 'waddle', 'prosy', 'trudge', 'pave', 'slink', 'pace', 'pasture', 'snow plow', 'plod', 'run', 'fire hydrant', 'betread', 'pedate', 'prowl', 'interurban', 'shamble', 'taligrade', 'cobblestone', 'tiptoe', 'tread', 'protg', 'patten', 'pedigerous', 'toddle']\n",
      "\n",
      "average sim cluster 16 to pedestrian is: 0.4077511698007584\n",
      "['walk frame', 'stroll', 'knucklewalk', 'forwalk', 'footwalk', 'firewalk', 'jaywalker', 'intentional walk', 'catwalk', 'whistle walk', 'walk beat', 'racewalking', 'walkman', 'walk', 'stop walk', 'walkabout', 'random walk', 'movement', 'jaywalk', 'roller skates', 'by walk', 'walkable', 'walkathon', 'bushwalk', 'walk in park', 'walk cane', 'warwalking', 'baby walker', 'spacewalk', 'walker']\n",
      "\n",
      "average sim cluster 17 to pedestrian is: 0.29737042635679245\n",
      "['handicapped', 'advocacy', 'fatality', 'accident', 'charitable organization', 'negligence', 'injury', 'plaintiff']\n",
      "\n",
      "average sim cluster 18 to pedestrian is: 0.1804334558546543\n",
      "['fact', 'time', 'non', 'percent', 'crowd', 'way', 'sensation', 'warning', 'violation', 'man', 'chance', 'comparison', 'story', 'right', 'quick time', 'sense', 'link', 'part', 'case', 'experience', 'lack', 'effect', 'hour', 'majority', 'portion', 'problem', 'lot', 'prosaic']\n",
      "\n",
      "average sim cluster 19 to pedestrian is: 0.2632942222058773\n",
      "['olympic games', 'rush hour', 'urbanist', 'europe', 'york', 'town', 'island', 'precinct', 'district', 'neighborhood', 'city', 'localroad', 'multistorey', 'residential', 'mall', 'stonehaven', 'park', 'london', 'safetyisland', 'change location', 'area', 'country', 'copenhagen', 'urban', 'facility', 'waseca, minnesota', 'peterborough', 'urban renewal', 'downtown', 'urban sprawl']\n",
      "\n",
      "average sim cluster 20 to pedestrian is: 0.3100683795554297\n",
      "['horse gait', 'bipedal', 'bicycle', 'trek', 'dave kunst', 'bimble', 'bipedally', 'bipedalism', 'equestrianism', 'bike', 'locomotion', 'bicyclerack', 'bicyclist', 'cyclist']\n",
      "\n",
      "average sim cluster 21 to pedestrian is: 0.24427913226511166\n",
      "['night', 'character', 'exercise your dog', 'vagrant', 'year', 'headon', 'air', 'bark', 'soul', 'world', 'day', 'death', 'heart', 'kind', 'bunion', 'shadow', 'mountain lion', 'hov', 'life', 'student', 'sound', 'child', 'dog']\n",
      "\n",
      "average sim cluster 22 to pedestrian is: 0.271569121409865\n",
      "['step forward', 'step in', 'walk around', 'approach', 'step', 'look both way', 'have leg', 'gait', \"hit one's stride\", 'take photo', 'stride', 'stair', 'take step', 'use your leg', 'walk through', 'stepwise', 'move your leg']\n",
      "\n",
      "average sim cluster 23 to pedestrian is: 0.23306117274544455\n",
      "['excursion', 'scenic', 'hike', 'go somewhere else', 'tour', 'go place', 'scenicroute', 'go someplace', 'get somewhere', 'enjoy scenery', 'trip']\n",
      "\n",
      "average sim cluster 24 to pedestrian is: 0.28058406462272006\n",
      "['passer', 'bystander', 'saunterer', 'passersby', 'ian botham', 'passometer', 'demarch', 'saunter', 'passerby', 'passable', 'passer-by', 'jimmy savile']\n",
      "\n",
      "average sim cluster 25 to pedestrian is: 0.15761416724749974\n",
      "['servicearea', 'tetrapous', 'british english', 'perambulate', 'floozie', 'treelawn', 'paviage', 'arterialroad', 'gephyrophobia', 'flounce', 'taxistand', 'swamp rabbit', 'businessdistrict', 'belishabeacon', \"land's end to john o' groats\", 'palmigrade', 'accessroad', 'overstride', 'peripatetic', 'somnambulate', 'plaza', 'plantarflex', 'fertile crescent', 'gumwood', 'intoxicate', 'fosse way', 'crusoe', 'frontageroad']\n",
      "\n"
     ]
    },
    {
     "name": "stdout",
     "output_type": "stream",
     "text": [
      "average sim cluster 26 to pedestrian is: 0.3498621828854084\n",
      "['rightofway', 'trafficwarden', 'dual carriageway', 'freeway', 'interstate', 'roadway', 'trafficcop', 'concourse', 'pavementartist', 'permanentway', 'streetsign', 'pavement', 'ramp', 'road surface', 'curbless', 'runway', 'street', 'roundabout', 'trafficisland', 'roadhog', 'walkway', 'trafficlane', 'traffic', 'parking', 'sidewalk', 'frontage road', 'intersection', 'wheelaround', 'carriageway', 'boardwalk', 'road rage', 'roadsurface', 'road', 'alleyway', 'trafficcircle', 'pound pavement', 'asphalt', 'highway', 'the highway code', 'undergroundrailway']\n",
      "\n",
      "average sim cluster 27 to pedestrian is: 0.28422428614326883\n",
      "['stomper', 'staggerer', 'wayfarer', 'stamper', 'hardshoulder', 'waddler', 'stomp', 'totterer', 'trekker', 'treader', 'stumbler', 'stalker', 'shuffler', 'stroller', 'marcher', 'nightrider', 'parader', 'hiker', 'streetcorner', 'reeler', 'blindcurve', 'plodder', 'tripper', 'swaggerer', 'trudger', 'hobbler', 'strider', 'limper']\n",
      "\n",
      "average sim cluster 28 to pedestrian is: 0.26192106765050155\n",
      "['trample', 'slogger', 'hamble', 'quadrupedally', 'escalator', 'tramper', 'tram', 'slouch', 'tittup', 'feat', 'ramble', 'quadrupedal', 'trampler']\n",
      "\n",
      "average sim cluster 29 to pedestrian is: 0.22765814450879893\n",
      "['passage', 'network', 'connection', 'limited-access', 'fence', 'trail', 'connect', 'gateless', 'entrance', 'journey', 'route', 'shared use path', 'directional', 'gate', 'access', 'guide', 'one-way', 'oneway', 'maze', 'bridle path', 'path', 'door', 'tunnel', 'blackwall tunnel', 'junction', 'traverse', 'pathway', 'accessible', 'spaghetti junction', 'traversable']\n",
      "\n"
     ]
    }
   ],
   "source": [
    "c_id = []\n",
    "labels = []\n",
    "avg_score = []\n",
    "\n",
    "for i, cluster in enumerate(clustered_sentences):\n",
    "    c_sim = 0\n",
    "    for el in cluster:\n",
    "        c_sim += get_sim(el, 'pedestrian')\n",
    "    print(f\"average sim cluster {i} to pedestrian is: {c_sim/len(cluster)}\")\n",
    "    \n",
    "    print(cluster)\n",
    "    c_id.append(i)\n",
    "    labels.append(cluster)\n",
    "    avg_score.append(c_sim/len(cluster))\n",
    "    print(\"\")"
   ]
  },
  {
   "cell_type": "code",
   "execution_count": 159,
   "id": "891ab779",
   "metadata": {},
   "outputs": [
    {
     "data": {
      "text/plain": [
       "['promenade',\n",
       " 'pedestrianize',\n",
       " 'thoroughfare',\n",
       " 'pedestrianisation',\n",
       " 'pedestriantraffic',\n",
       " 'pedestrian',\n",
       " 'pedestrianism']"
      ]
     },
     "execution_count": 159,
     "metadata": {},
     "output_type": "execute_result"
    }
   ],
   "source": [
    "labels[4]"
   ]
  },
  {
   "cell_type": "code",
   "execution_count": 164,
   "id": "0c84d997",
   "metadata": {},
   "outputs": [
    {
     "name": "stdout",
     "output_type": "stream",
     "text": [
      "['walk frame', 'stroll', 'knucklewalk', 'forwalk', 'footwalk', 'firewalk', 'jaywalker', 'intentional walk', 'catwalk', 'whistle walk', 'walk beat', 'racewalking', 'walkman', 'walk', 'stop walk', 'walkabout', 'random walk', 'movement', 'jaywalk', 'roller skates', 'by walk', 'walkable', 'walkathon', 'bushwalk', 'walk in park', 'walk cane', 'warwalking', 'baby walker', 'spacewalk', 'walker']\n"
     ]
    }
   ],
   "source": [
    "for i, cls in enumerate(labels):\n",
    "    if 'walk frame' in cls:\n",
    "        print(cls)"
   ]
  },
  {
   "cell_type": "code",
   "execution_count": 186,
   "id": "4c3c7c68",
   "metadata": {},
   "outputs": [],
   "source": [
    "def find_closest_cluster(word, labels):\n",
    "    sim_score = []\n",
    "    for label in labels:\n",
    "        max_sim = 0\n",
    "        for w in label:\n",
    "            sim = get_sim(w, word)\n",
    "            if sim > max_sim:\n",
    "                max_sim = sim\n",
    "        sim_score.append(max_sim)\n",
    "    max_value = max(sim_score)\n",
    "    max_index = sim_score.index(max_value)\n",
    "    return max_index"
   ]
  },
  {
   "cell_type": "code",
   "execution_count": 173,
   "id": "ba180329",
   "metadata": {},
   "outputs": [
    {
     "data": {
      "text/plain": [
       "670"
      ]
     },
     "execution_count": 173,
     "metadata": {},
     "output_type": "execute_result"
    }
   ],
   "source": [
    "len(corpus)"
   ]
  },
  {
   "cell_type": "code",
   "execution_count": 188,
   "id": "3e9c154e",
   "metadata": {
    "scrolled": true
   },
   "outputs": [
    {
     "name": "stdout",
     "output_type": "stream",
     "text": [
      "dogs\n",
      "21\n",
      "checkpoints\n",
      "5\n",
      "plazas\n",
      "25\n",
      "excursions\n",
      "23\n",
      "mornings\n",
      "7\n",
      "skateboards\n",
      "13\n",
      "connecting\n",
      "29\n",
      "ramps\n",
      "26\n",
      "alleys\n",
      "5\n",
      "levels\n",
      "6\n",
      "lives\n",
      "21\n",
      "corridors\n",
      "5\n",
      "wards\n",
      "5\n",
      "factors\n",
      "6\n",
      "roads\n",
      "26\n",
      "pattens\n",
      "15\n",
      "crowded\n",
      "18\n",
      "connections\n",
      "29\n",
      "walking\n",
      "16\n",
      "speeding\n",
      "6\n",
      "types\n",
      "11\n",
      "footpaths\n",
      "1\n",
      "facilities\n",
      "19\n",
      "zones\n",
      "7\n",
      "underpasses\n",
      "14\n",
      "crosswalks\n",
      "8\n",
      "fatalities\n",
      "17\n",
      "congested\n",
      "2\n",
      "collisions\n",
      "5\n",
      "crossings\n",
      "8\n",
      "vehicles\n",
      "10\n",
      "legs\n",
      "1\n",
      "escalators\n",
      "28\n",
      "asphalted\n",
      "26\n",
      "boots\n",
      "6\n",
      "powers\n",
      "6\n",
      "womens\n",
      "11\n",
      "roadways\n",
      "26\n",
      "chances\n",
      "18\n",
      "lines\n",
      "11\n",
      "overpasses\n",
      "14\n",
      "guides\n",
      "29\n",
      "stairs\n",
      "22\n",
      "childs\n",
      "21\n",
      "neighborhoods\n",
      "19\n",
      "nights\n",
      "21\n",
      "ways\n",
      "18\n",
      "entrances\n",
      "29\n",
      "amenities\n",
      "19\n",
      "landscaped\n",
      "0\n",
      "sidewalks\n",
      "26\n",
      "protected\n",
      "3\n",
      "rails\n",
      "9\n",
      "parks\n",
      "19\n",
      "forces\n",
      "6\n",
      "signals\n",
      "6\n",
      "areas\n",
      "19\n",
      "paths\n",
      "29\n",
      "rights\n",
      "26\n",
      "running\n",
      "15\n",
      "tours\n",
      "23\n",
      "persons\n",
      "13\n",
      "motorized\n",
      "12\n",
      "movements\n",
      "16\n",
      "activities\n",
      "2\n",
      "trips\n",
      "23\n",
      "citys\n",
      "19\n",
      "highways\n",
      "26\n",
      "buildings\n",
      "3\n",
      "intoxicated\n",
      "25\n",
      "miles\n",
      "5\n",
      "exercises\n",
      "2\n",
      "pathways\n",
      "29\n",
      "precincts\n",
      "19\n",
      "thoroughfares\n",
      "4\n",
      "streets\n",
      "26\n",
      "bridges\n",
      "14\n",
      "students\n",
      "21\n",
      "interchanges\n",
      "5\n",
      "spaces\n",
      "3\n",
      "feats\n",
      "28\n",
      "lanes\n",
      "5\n",
      "junctions\n",
      "29\n",
      "enclosed\n",
      "3\n",
      "fundraising\n",
      "13\n",
      "adults\n",
      "2\n",
      "yorks\n",
      "19\n",
      "deaths\n",
      "21\n",
      "purposes\n",
      "3\n",
      "sheltered\n",
      "0\n",
      "hours\n",
      "18\n",
      "volumes\n",
      "6\n",
      "accidents\n",
      "17\n",
      "skills\n",
      "13\n",
      "winding\n",
      "12\n",
      "pastures\n",
      "15\n",
      "patterns\n",
      "6\n",
      "warnings\n",
      "18\n",
      "injuries\n",
      "17\n",
      "commuters\n",
      "9\n",
      "women\n",
      "11\n",
      "pedestrians\n",
      "4\n",
      "intersections\n",
      "26\n",
      "freeways\n",
      "26\n",
      "malls\n",
      "19\n",
      "routes\n",
      "29\n",
      "tunnels\n",
      "29\n",
      "analyses\n",
      "3\n",
      "blocks\n",
      "11\n",
      "elevated\n",
      "3\n",
      "hiking\n",
      "23\n",
      "paved\n",
      "26\n",
      "playmates\n",
      "13\n",
      "times\n",
      "18\n"
     ]
    }
   ],
   "source": [
    "key_cid = dict()\n",
    "for el in all_links:\n",
    "    search_keys_cls = []\n",
    "    for i, cls in enumerate(labels):\n",
    "        if el in cls:\n",
    "            search_keys_cls.append(i)\n",
    "            key_cid[el] = i\n",
    "\n",
    "    if not search_keys_cls:\n",
    "        # find closest cluster\n",
    "        print(el)\n",
    "        key_cid[el] = find_closest_cluster(el, labels)\n",
    "        print(key_cid[el])\n",
    "#         break"
   ]
  },
  {
   "cell_type": "code",
   "execution_count": 189,
   "id": "77c46438",
   "metadata": {},
   "outputs": [
    {
     "data": {
      "text/plain": [
       "{'cross street': 8,\n",
       " 'stop walk': 16,\n",
       " 'pavement': 26,\n",
       " 'boardwalk': 26,\n",
       " 'dogs': 21,\n",
       " 'midfoot': 1,\n",
       " 'roller shoe': 1,\n",
       " 'pattern': 6,\n",
       " 'totterer': 27,\n",
       " 'motor': 12,\n",
       " 'checkpoints': 5,\n",
       " 'merit': 3,\n",
       " 'approach': 22,\n",
       " 'rambler': 13,\n",
       " 'pedestrian crossing': 8,\n",
       " 'plazas': 25,\n",
       " 'europe': 19,\n",
       " 'tour': 23,\n",
       " 'staggerer': 27,\n",
       " 'arterial': 11,\n",
       " 'excursions': 23,\n",
       " 'interstate': 26,\n",
       " 'tread': 15,\n",
       " 'bicycle': 20,\n",
       " 'your foot': 1,\n",
       " 'scenicroute': 23,\n",
       " 'mile': 5,\n",
       " 'unmotorized': 2,\n",
       " 'use your leg': 22,\n",
       " 'blindcurve': 27,\n",
       " 'runway': 26,\n",
       " 'mornings': 7,\n",
       " 'death': 21,\n",
       " 'limited-access': 29,\n",
       " 'footbreadth': 1,\n",
       " 'skateboards': 13,\n",
       " 'canoe': 10,\n",
       " 'obstruction': 3,\n",
       " 'kilofoot': 1,\n",
       " 'five toe': 1,\n",
       " 'vehicular': 10,\n",
       " 'floating bridge': 14,\n",
       " 'deambulatory': 2,\n",
       " 'quadrupedally': 28,\n",
       " 'step in': 22,\n",
       " 'nightrider': 27,\n",
       " 'soul': 21,\n",
       " 'undergroundrailway': 26,\n",
       " 'bicyclerack': 20,\n",
       " 'connecting': 29,\n",
       " 'tube foot': 1,\n",
       " 'obesity': 2,\n",
       " 'trip': 23,\n",
       " 'parader': 27,\n",
       " 'control': 6,\n",
       " 'nondriver': 12,\n",
       " 'downtown': 19,\n",
       " 'tollcollector': 5,\n",
       " 'rail': 9,\n",
       " 'quadrupedal': 28,\n",
       " 'bicyclist': 20,\n",
       " 'series': 6,\n",
       " 'trackless trolley': 9,\n",
       " 'stream': 11,\n",
       " 'gait': 22,\n",
       " 'bike': 20,\n",
       " 'distance': 6,\n",
       " 'volume': 6,\n",
       " 'bed': 7,\n",
       " 'multilane': 5,\n",
       " 'ramps': 26,\n",
       " 'separation': 11,\n",
       " 'ft': 11,\n",
       " 'warning': 18,\n",
       " 'bus-only': 9,\n",
       " 'interchange': 5,\n",
       " 'underfoot': 1,\n",
       " 'have leg': 22,\n",
       " 'alleys': 5,\n",
       " 'pedestrial': 15,\n",
       " 'levels': 6,\n",
       " 'attention': 11,\n",
       " 'copenhagen': 19,\n",
       " 'natural environment': 0,\n",
       " 'urban': 19,\n",
       " 'sensation': 18,\n",
       " 'enjoy scenery': 23,\n",
       " 'shank nag': 13,\n",
       " 'lives': 21,\n",
       " 'corridors': 5,\n",
       " 'twelve inch': 6,\n",
       " 'robert barclay allardice': 5,\n",
       " 'internal combustion engine': 12,\n",
       " 'bushwalk': 16,\n",
       " 'statue': 3,\n",
       " 'activity': 2,\n",
       " 'olympic games': 19,\n",
       " 'eastbound': 7,\n",
       " 'value': 6,\n",
       " 'wards': 5,\n",
       " 'taxistand': 25,\n",
       " 'tappan zee bridge': 14,\n",
       " 'mountain lion': 21,\n",
       " 'bosporus bridge': 14,\n",
       " 'geometrid': 3,\n",
       " 'year': 21,\n",
       " 'area': 19,\n",
       " 'factors': 6,\n",
       " 'pound pavement': 26,\n",
       " 'loop': 6,\n",
       " 'shared use path': 29,\n",
       " 'trampler': 28,\n",
       " 'roads': 26,\n",
       " 'footpeg': 1,\n",
       " 'strider': 27,\n",
       " 'railroadtrack': 9,\n",
       " 'pattens': 15,\n",
       " 'bridge': 14,\n",
       " 'curbless': 26,\n",
       " 'city': 19,\n",
       " 'air': 21,\n",
       " 'crowded': 18,\n",
       " 'unbelted': 11,\n",
       " 'busy': 2,\n",
       " 'connections': 29,\n",
       " 'roadhog': 26,\n",
       " 'side': 7,\n",
       " 'trekker': 27,\n",
       " 'path': 29,\n",
       " 'survey': 3,\n",
       " 'trafficisland': 26,\n",
       " 'overstride': 25,\n",
       " 'sage': 13,\n",
       " 'the highway code': 26,\n",
       " 'violation': 18,\n",
       " 'duck foot': 1,\n",
       " 'flounce': 25,\n",
       " 'reeler': 27,\n",
       " 'sidewalk': 26,\n",
       " 'walking': 16,\n",
       " 'speeding': 6,\n",
       " 'task': 6,\n",
       " 'drivearound': 12,\n",
       " 'trafficlane': 26,\n",
       " 'public transportation': 9,\n",
       " 'protg': 15,\n",
       " 'types': 11,\n",
       " 'footpaths': 1,\n",
       " 'tripper': 27,\n",
       " 'rekick': 13,\n",
       " 'prose': 11,\n",
       " 'by walk': 16,\n",
       " 'study': 3,\n",
       " 'hardshoulder': 27,\n",
       " 'facilities': 19,\n",
       " 'movement': 16,\n",
       " 'day': 21,\n",
       " 'zebra crossing': 8,\n",
       " 'crosswalk': 8,\n",
       " 'zones': 7,\n",
       " 'go somewhere else': 23,\n",
       " 'excursion': 23,\n",
       " 'ambulate': 2,\n",
       " 'underpasses': 14,\n",
       " 'roundabout': 26,\n",
       " 'crosswalks': 8,\n",
       " 'charitable organization': 17,\n",
       " 'traveler': 9,\n",
       " 'lane': 5,\n",
       " 'footwalk': 16,\n",
       " 'fatalities': 17,\n",
       " 'ambulation': 2,\n",
       " 'belishabeacon': 25,\n",
       " 'shank mare': 13,\n",
       " 'congested': 2,\n",
       " 'refuge': 0,\n",
       " 'tiptoe': 15,\n",
       " 'stepwise': 22,\n",
       " 'man': 18,\n",
       " 'stamper': 27,\n",
       " 'precinct': 19,\n",
       " 'walk through': 22,\n",
       " 'gibe': 13,\n",
       " 'collisions': 5,\n",
       " 'relation': 6,\n",
       " 'skulk': 13,\n",
       " 'intersection': 26,\n",
       " 'forwalk': 16,\n",
       " 'passerby': 24,\n",
       " 'on foot': 1,\n",
       " 'crossings': 8,\n",
       " 'passage': 29,\n",
       " 'trestle bridge': 14,\n",
       " 'kind': 21,\n",
       " 'foot soldier': 1,\n",
       " 'vehicles': 10,\n",
       " 'flatfoot': 1,\n",
       " 'yellowline': 11,\n",
       " 'construction': 3,\n",
       " 'bedroomcommunity': 3,\n",
       " 'roadway': 26,\n",
       " 'number': 6,\n",
       " 'bascule bridge': 14,\n",
       " 'walkman': 16,\n",
       " 'country': 19,\n",
       " 'legs': 1,\n",
       " 'toddle': 15,\n",
       " 'multistorey': 19,\n",
       " 'peripatetic': 25,\n",
       " 'trail': 29,\n",
       " 'amble': 11,\n",
       " 'shuffler': 27,\n",
       " 'plaza': 25,\n",
       " 'passer-by': 24,\n",
       " 'paviage': 25,\n",
       " 'heart': 21,\n",
       " 'system': 6,\n",
       " 'prosaic': 18,\n",
       " 'pedigerous': 15,\n",
       " 'mall': 19,\n",
       " 'sashay': 13,\n",
       " 'bus': 9,\n",
       " 'hov': 21,\n",
       " 'analysis': 3,\n",
       " 'footstep': 1,\n",
       " 'escalators': 28,\n",
       " 'change location': 19,\n",
       " 'asphalted': 26,\n",
       " 'wayfarer': 27,\n",
       " 'transportation': 9,\n",
       " 'carson': 7,\n",
       " 'pedestrianize': 4,\n",
       " 'crossing': 8,\n",
       " 'knucklewalk': 16,\n",
       " 'servicearea': 25,\n",
       " 'energy': 6,\n",
       " 'collision': 5,\n",
       " 'trafficcircle': 26,\n",
       " 'interior': 3,\n",
       " 'stonehaven': 19,\n",
       " 'prosy': 15,\n",
       " 'commuter train': 9,\n",
       " 'escalator': 28,\n",
       " 'mankind': 0,\n",
       " 'take photo': 22,\n",
       " 'mobility scooter': 12,\n",
       " 'drunk': 2,\n",
       " 'clawfoot': 1,\n",
       " 'promenade': 4,\n",
       " 'stroller': 27,\n",
       " 'boots': 6,\n",
       " 'stride': 22,\n",
       " 'powers': 6,\n",
       " 'womens': 11,\n",
       " 'gumwood': 25,\n",
       " 'frontageroad': 25,\n",
       " 'saunter': 24,\n",
       " 'footpath': 1,\n",
       " 'roadways': 26,\n",
       " 'treader': 27,\n",
       " 'trek': 20,\n",
       " 'crossstreet': 8,\n",
       " 'trample': 28,\n",
       " 'saunterer': 24,\n",
       " 'chances': 18,\n",
       " 'ian botham': 24,\n",
       " 'thoroughfare': 4,\n",
       " 'waulk': 13,\n",
       " 'have meal': 2,\n",
       " 'variety': 11,\n",
       " 'interference': 8,\n",
       " 'pointduty': 3,\n",
       " 'put on shoe': 1,\n",
       " 'property': 3,\n",
       " 'emphasis': 11,\n",
       " 'lines': 11,\n",
       " 'light': 6,\n",
       " 'stairfoot': 1,\n",
       " 'overpasses': 14,\n",
       " 'trudge': 15,\n",
       " 'non': 18,\n",
       " 'travel by car': 10,\n",
       " 'guides': 29,\n",
       " 'swaggerer': 27,\n",
       " 'wade': 5,\n",
       " 'random walk': 16,\n",
       " 'pedestrian bridge': 14,\n",
       " 'stairs': 22,\n",
       " 'west': 7,\n",
       " 'sight': 11,\n",
       " \"hit one's stride\": 22,\n",
       " 'childs': 21,\n",
       " 'force': 6,\n",
       " 'treadle': 15,\n",
       " 'palmigrade': 25,\n",
       " \"land's end to john o' groats\": 25,\n",
       " 'automobile': 10,\n",
       " 'locomotion': 20,\n",
       " 'negligence': 17,\n",
       " 'roadsurface': 26,\n",
       " 'four-lane': 5,\n",
       " 'transportationsystem': 9,\n",
       " 'south': 7,\n",
       " 'jimmy savile': 24,\n",
       " 'motorist': 12,\n",
       " 'base on ball': 3,\n",
       " 'neighborhoods': 19,\n",
       " 'hindfoot': 1,\n",
       " 'nights': 21,\n",
       " 'interurban': 15,\n",
       " 'fashion': 11,\n",
       " 'queensboro bridge': 14,\n",
       " 'footswitch': 1,\n",
       " 'passable': 24,\n",
       " 'walk cane': 16,\n",
       " 'ways': 18,\n",
       " 'secret agent': 13,\n",
       " 'perambulate': 25,\n",
       " 'fire hydrant': 15,\n",
       " 'world': 21,\n",
       " 'entrance': 29,\n",
       " 'raik': 13,\n",
       " 'style': 11,\n",
       " 'footrail': 1,\n",
       " 'entrances': 29,\n",
       " 'life': 21,\n",
       " 'type': 11,\n",
       " 'two foot': 1,\n",
       " 'freeway': 26,\n",
       " 'amenities': 19,\n",
       " 'gateless': 29,\n",
       " 'public transport': 9,\n",
       " 'landscaped': 0,\n",
       " 'tree': 6,\n",
       " 'by foot': 1,\n",
       " 'time': 18,\n",
       " 'sense': 18,\n",
       " 'amount': 6,\n",
       " 'oneway': 29,\n",
       " 'highway': 26,\n",
       " 'sidewalks': 26,\n",
       " 'hiker': 27,\n",
       " 'mode': 6,\n",
       " 'underpass': 14,\n",
       " 'wheelaround': 26,\n",
       " 'exercise': 2,\n",
       " 'cantileverbridge': 14,\n",
       " 'intentional walk': 16,\n",
       " 'bunion': 21,\n",
       " 'subwaytrain': 9,\n",
       " 'plodder': 27,\n",
       " 'protected': 3,\n",
       " 'rails': 9,\n",
       " 'dave kunst': 20,\n",
       " 'bipedal': 20,\n",
       " 'experience': 18,\n",
       " 'last mile': 5,\n",
       " 'clawfooted': 1,\n",
       " 'auto': 12,\n",
       " 'morning': 7,\n",
       " 'carriage': 11,\n",
       " 'parks': 19,\n",
       " 'forces': 6,\n",
       " 'walk': 16,\n",
       " 'signals': 6,\n",
       " 'chance': 18,\n",
       " 'seat belt': 10,\n",
       " 'footwrap': 1,\n",
       " 'areas': 19,\n",
       " 'traipse': 15,\n",
       " 'splayfoot': 1,\n",
       " 'lot': 18,\n",
       " 'flat foot': 1,\n",
       " 'case': 18,\n",
       " 'paths': 29,\n",
       " 'cleave foot': 1,\n",
       " 'go someplace': 23,\n",
       " 'rights': 26,\n",
       " 'urban renewal': 19,\n",
       " 'story': 18,\n",
       " 'running': 15,\n",
       " 'line': 11,\n",
       " 'earthbound': 0,\n",
       " 'westbound': 7,\n",
       " 'hike': 23,\n",
       " 'frontage': 3,\n",
       " 'tours': 23,\n",
       " 'urban sprawl': 19,\n",
       " 'injury': 17,\n",
       " 'streetsign': 26,\n",
       " 'waseca, minnesota': 19,\n",
       " 'subway': 9,\n",
       " 'space': 3,\n",
       " 'walkable': 16,\n",
       " 'hamble': 28,\n",
       " 'peterborough': 19,\n",
       " 'slog': 11,\n",
       " 'concourse': 26,\n",
       " 'legwork': 3,\n",
       " 'persons': 13,\n",
       " 'motorized': 12,\n",
       " 'trafficcop': 26,\n",
       " 'hour': 18,\n",
       " 'at bat': 5,\n",
       " 'footboy': 1,\n",
       " 'stumbler': 27,\n",
       " 'zone': 7,\n",
       " 'movements': 16,\n",
       " 'traversable': 29,\n",
       " 'percent': 18,\n",
       " 'edge': 5,\n",
       " 'tetrapous': 25,\n",
       " 'vehiculation': 10,\n",
       " 'catwalk': 16,\n",
       " 'lameness': 11,\n",
       " 'travel': 9,\n",
       " 'unobservant': 11,\n",
       " 'directional': 29,\n",
       " 'bustling': 11,\n",
       " 'horse gait': 20,\n",
       " 'footfall': 1,\n",
       " 'street': 26,\n",
       " 'carpooler': 12,\n",
       " 'move your leg': 22,\n",
       " 'jaywalker': 16,\n",
       " 'rightofway': 26,\n",
       " 'accident': 17,\n",
       " 'ambler': 13,\n",
       " 'door': 29,\n",
       " 'stalker': 27,\n",
       " 'retaining wall': 3,\n",
       " 'route': 29,\n",
       " 'network': 29,\n",
       " 'stomp': 27,\n",
       " 'passometer': 24,\n",
       " 'constitutionalize': 2,\n",
       " 'dartford crossing': 8,\n",
       " 'activities': 2,\n",
       " 'way': 18,\n",
       " 'link': 18,\n",
       " 'cobblestone': 15,\n",
       " 'traveller': 9,\n",
       " 'subway station': 9,\n",
       " 'problem': 18,\n",
       " 'stomper': 27,\n",
       " 'one-lane': 5,\n",
       " 'travel to destination': 9,\n",
       " 'snow plow': 15,\n",
       " 'foothalt': 1,\n",
       " 'footly': 1,\n",
       " 'acre foot': 1,\n",
       " 'duty': 6,\n",
       " 'footsie': 1,\n",
       " 'carriageway': 26,\n",
       " 'pelican crossing': 8,\n",
       " 'footstrike': 1,\n",
       " 'prowl': 15,\n",
       " 'trolleycar': 10,\n",
       " 'building': 3,\n",
       " 'tacoma narrows bridge': 14,\n",
       " 'trips': 23,\n",
       " 'citys': 19,\n",
       " 'fosse way': 25,\n",
       " 'adult': 2,\n",
       " 'highways': 26,\n",
       " 'somnambulate': 25,\n",
       " 'vehiculartraffic': 10,\n",
       " 'student': 21,\n",
       " 'roller skates': 16,\n",
       " 'localroad': 19,\n",
       " 'railwayline': 9,\n",
       " 'portion': 18,\n",
       " 'woman': 11,\n",
       " 'walk around': 22,\n",
       " 'walker': 16,\n",
       " 'buildings': 3,\n",
       " 'perambulation': 2,\n",
       " 'gradatory': 3,\n",
       " 'fertile crescent': 25,\n",
       " 'intoxicated': 25,\n",
       " 'floozie': 25,\n",
       " 'miles': 5,\n",
       " 'southbound': 7,\n",
       " 'pedate': 15,\n",
       " 'step forward': 22,\n",
       " 'nature': 0,\n",
       " 'exercises': 2,\n",
       " 'pathways': 29,\n",
       " 'precincts': 19,\n",
       " 'thoroughfares': 4,\n",
       " 'road surface': 26,\n",
       " 'fence': 29,\n",
       " 'jaywalk': 16,\n",
       " 'streets': 26,\n",
       " 'corridor': 5,\n",
       " 'bridges': 14,\n",
       " 'road rage': 26,\n",
       " 'two-lane': 5,\n",
       " 'behavior': 2,\n",
       " 'students': 21,\n",
       " 'bystander': 24,\n",
       " 'parking': 26,\n",
       " 'interchanges': 5,\n",
       " 'enjoy nature': 0,\n",
       " 'spaces': 3,\n",
       " 'foothold': 1,\n",
       " 'maindrag': 11,\n",
       " 'trudger': 27,\n",
       " 'accessroad': 25,\n",
       " 'design': 3,\n",
       " 'waddler': 27,\n",
       " 'step': 22,\n",
       " 'plod': 15,\n",
       " 'environment': 0,\n",
       " 'recreational': 2,\n",
       " 'comparison': 18,\n",
       " 'walkway': 26,\n",
       " 'pathway': 29,\n",
       " 'footmeal': 1,\n",
       " 'auto-free zones': 7,\n",
       " 'foot': 1,\n",
       " 'district': 19,\n",
       " 'reduction': 6,\n",
       " 'protégé': 5,\n",
       " 'tittup': 28,\n",
       " 'quality': 3,\n",
       " 'part': 18,\n",
       " 'alleyway': 26,\n",
       " 'score': 6,\n",
       " 'status': 6,\n",
       " 'toll plaza': 14,\n",
       " 'permanentway': 26,\n",
       " 'bimble': 20,\n",
       " 'slouch': 28,\n",
       " 'traverse': 29,\n",
       " 'footprint': 3,\n",
       " 'east-west': 7,\n",
       " 'character': 21,\n",
       " 'view': 11,\n",
       " 'circulation': 11,\n",
       " 'inclined plane': 3,\n",
       " 'feats': 28,\n",
       " 'equestrianism': 20,\n",
       " 'hobbler': 27,\n",
       " 'manner': 11,\n",
       " 'cyclist': 20,\n",
       " 'night': 21,\n",
       " 'handicapped': 17,\n",
       " 'limper': 27,\n",
       " 'walk beat': 16,\n",
       " 'naturestrip': 0,\n",
       " 'accessible': 29,\n",
       " 'north-south': 7,\n",
       " 'one-way': 29,\n",
       " 'tollbar': 14,\n",
       " 'density': 3,\n",
       " 'access': 29,\n",
       " 'lanes': 5,\n",
       " 'junctions': 29,\n",
       " 'town': 19,\n",
       " 'gate': 29,\n",
       " 'viatecture': 3,\n",
       " 'flow': 11,\n",
       " 'lack': 18,\n",
       " 'verse': 11,\n",
       " 'enclosed': 3,\n",
       " 'take step': 22,\n",
       " 'fundraising': 13,\n",
       " 'truss bridge': 14,\n",
       " 'sound': 21,\n",
       " 'slink': 15,\n",
       " 'uninteresting': 2,\n",
       " 'walkathon': 16,\n",
       " 'shopping': 2,\n",
       " 'adults': 2,\n",
       " 'lockstep': 13,\n",
       " 'pavementartist': 26,\n",
       " 'island': 19,\n",
       " 'unpaved': 13,\n",
       " 'busdepot': 9,\n",
       " 'plaintiff': 17,\n",
       " 'roundhouse kick': 13,\n",
       " 'marcher': 27,\n",
       " 'overpass': 14,\n",
       " 'reverie': 2,\n",
       " 'british english': 25,\n",
       " 'warwalking': 16,\n",
       " 'waddle': 15,\n",
       " 'betread': 15,\n",
       " 'journey': 29,\n",
       " 'tram': 28,\n",
       " 'overbridge': 14,\n",
       " 'northbound': 7,\n",
       " 'effect': 18,\n",
       " 'transit': 9,\n",
       " 'businessdistrict': 25,\n",
       " 'form': 3,\n",
       " 'yorks': 19,\n",
       " 'ramp': 26,\n",
       " 'safety': 3,\n",
       " 'pedestrianisation': 4,\n",
       " 'deaths': 21,\n",
       " 'purposes': 3,\n",
       " 'child': 21,\n",
       " 'footsore': 1,\n",
       " 'exercise your dog': 21,\n",
       " 'sheltered': 0,\n",
       " 'ten toe': 1,\n",
       " 'pedestriantraffic': 4,\n",
       " 'treelawn': 25,\n",
       " 'pawn': 13,\n",
       " 'footway': 1,\n",
       " 'taligrade': 15,\n",
       " 'car': 10,\n",
       " 'gephyrophobia': 25,\n",
       " 'arterialroad': 25,\n",
       " 'plantarflex': 25,\n",
       " 'hours': 18,\n",
       " 'volumes': 6,\n",
       " 'solace': 0,\n",
       " 'wheelchair': 12,\n",
       " 'ramble': 28,\n",
       " 'streetcorner': 27,\n",
       " 'footer': 1,\n",
       " 'bumblefoot': 1,\n",
       " 'scenic': 23,\n",
       " 'block': 11,\n",
       " 'accidents': 17,\n",
       " 'london': 19,\n",
       " 'account': 6,\n",
       " 'big toe': 1,\n",
       " 'motor scooter': 12,\n",
       " 'vagrant': 21,\n",
       " 'egress': 11,\n",
       " 'blackwall tunnel': 29,\n",
       " 'rush hour': 19,\n",
       " 'dry foot': 1,\n",
       " 'shadow': 21,\n",
       " 'spacewalk': 16,\n",
       " 'majority': 18,\n",
       " 'baby walker': 16,\n",
       " 'passer': 24,\n",
       " 'skills': 13,\n",
       " 'go place': 23,\n",
       " 'copenhagenization': 3,\n",
       " 'three-lane': 5,\n",
       " 'winding': 12,\n",
       " 'bark': 21,\n",
       " 'bridle path': 29,\n",
       " 'routine': 2,\n",
       " 'guide': 29,\n",
       " 'little toe': 1,\n",
       " 'feetless': 1,\n",
       " 'pastures': 15,\n",
       " 'racewalking': 16,\n",
       " 'at-grade': 3,\n",
       " 'passenger': 12,\n",
       " 'advocacy': 17,\n",
       " 'fact': 18,\n",
       " 'patterns': 6,\n",
       " 'support': 6,\n",
       " 'clubfoot': 1,\n",
       " 'driver': 12,\n",
       " 'oncoming': 3,\n",
       " 'tollbridge': 14,\n",
       " 'childhood': 2,\n",
       " 'quick time': 18,\n",
       " 'warnings': 18,\n",
       " 'injuries': 17,\n",
       " 'dress': 11,\n",
       " 'traffic': 26,\n",
       " 'bipedalism': 20,\n",
       " 'level': 6,\n",
       " 'trafficwarden': 26,\n",
       " 'webfoot': 1,\n",
       " 'commuters': 9,\n",
       " 'unlighted': 11,\n",
       " 'realism': 3,\n",
       " 'women': 11,\n",
       " 'bipedally': 20,\n",
       " 'pedestrians': 4,\n",
       " 'pace': 15,\n",
       " 'intersections': 26,\n",
       " 'freeways': 26,\n",
       " 'malls': 19,\n",
       " 'firewalk': 16,\n",
       " 'look both way': 22,\n",
       " 'maze': 29,\n",
       " 'routes': 29,\n",
       " 'crashbarrier': 12,\n",
       " 'passersby': 24,\n",
       " 'whistle walk': 16,\n",
       " 'stroll': 16,\n",
       " 'tunnels': 29,\n",
       " 'analyses': 3,\n",
       " 'blocks': 11,\n",
       " 'vehicle': 10,\n",
       " 'walk in park': 16,\n",
       " 'robinson': 5,\n",
       " 'frontage road': 26,\n",
       " 'road': 26,\n",
       " 'safetyisland': 19,\n",
       " 'dual carriageway': 26,\n",
       " 'development': 3,\n",
       " 'elevated': 3,\n",
       " 'swamp rabbit': 25,\n",
       " 'vehicular traffic': 10,\n",
       " 'megafoot': 1,\n",
       " 'hiking': 23,\n",
       " 'walk frame': 16,\n",
       " 'ambulatory': 2,\n",
       " 'tunnel': 29,\n",
       " 'subwaystation': 9,\n",
       " 'pedestrianism': 4,\n",
       " 'scale': 6,\n",
       " 'urbanist': 19,\n",
       " 'tree-lined': 11,\n",
       " 'paved': 26,\n",
       " 'end': 11,\n",
       " 'demarch': 24,\n",
       " 'slogger': 28,\n",
       " 'walkabout': 16,\n",
       " 'tramper': 28,\n",
       " 'creation': 3,\n",
       " 'shamble': 15,\n",
       " 'reach your destination': 9,\n",
       " 'get somewhere': 23,\n",
       " 'spaghetti junction': 29,\n",
       " 'residential': 19,\n",
       " 'headon': 21,\n",
       " 'cycle': 6,\n",
       " \"on one's foot\": 1,\n",
       " 'playmates': 13,\n",
       " 'crusoe': 25,\n",
       " 'footbridge': 14,\n",
       " 'times': 18,\n",
       " 'provision': 3}"
      ]
     },
     "execution_count": 189,
     "metadata": {},
     "output_type": "execute_result"
    }
   ],
   "source": [
    "key_cid"
   ]
  },
  {
   "cell_type": "code",
   "execution_count": 190,
   "id": "acec3feb",
   "metadata": {
    "scrolled": true
   },
   "outputs": [
    {
     "data": {
      "text/plain": [
       "{'alleyway',\n",
       " 'asphalted',\n",
       " 'boardwalk',\n",
       " 'carriageway',\n",
       " 'concourse',\n",
       " 'curbless',\n",
       " 'dual carriageway',\n",
       " 'freeway',\n",
       " 'freeways',\n",
       " 'frontage road',\n",
       " 'highway',\n",
       " 'highways',\n",
       " 'intersection',\n",
       " 'intersections',\n",
       " 'interstate',\n",
       " 'parking',\n",
       " 'paved',\n",
       " 'pavement',\n",
       " 'pavementartist',\n",
       " 'permanentway',\n",
       " 'pound pavement',\n",
       " 'ramp',\n",
       " 'ramps',\n",
       " 'rightofway',\n",
       " 'rights',\n",
       " 'road',\n",
       " 'road rage',\n",
       " 'road surface',\n",
       " 'roadhog',\n",
       " 'roads',\n",
       " 'roadsurface',\n",
       " 'roadway',\n",
       " 'roadways',\n",
       " 'roundabout',\n",
       " 'runway',\n",
       " 'sidewalk',\n",
       " 'sidewalks',\n",
       " 'street',\n",
       " 'streets',\n",
       " 'streetsign',\n",
       " 'the highway code',\n",
       " 'traffic',\n",
       " 'trafficcircle',\n",
       " 'trafficcop',\n",
       " 'trafficisland',\n",
       " 'trafficlane',\n",
       " 'trafficwarden',\n",
       " 'undergroundrailway',\n",
       " 'walkway',\n",
       " 'wheelaround'}"
      ]
     },
     "execution_count": 190,
     "metadata": {},
     "output_type": "execute_result"
    }
   ],
   "source": [
    "values = {i for i in key_cid if key_cid[i]==26}\n",
    "values"
   ]
  },
  {
   "cell_type": "code",
   "execution_count": 192,
   "id": "e4d0bc79",
   "metadata": {},
   "outputs": [],
   "source": [
    "org_keys = []\n",
    "for ids, cls in enumerate(labels):\n",
    "    values = list({i for i in key_cid if key_cid[i]==ids})\n",
    "    org_keys.append(values)"
   ]
  },
  {
   "cell_type": "code",
   "execution_count": 295,
   "id": "ddaf4c68",
   "metadata": {
    "scrolled": true
   },
   "outputs": [
    {
     "data": {
      "text/plain": [
       "['south',\n",
       " 'bed',\n",
       " 'morning',\n",
       " 'carson',\n",
       " 'southbound',\n",
       " 'eastbound',\n",
       " 'zone',\n",
       " 'side',\n",
       " 'west',\n",
       " 'auto-free zones',\n",
       " 'east-west',\n",
       " 'north-south',\n",
       " 'northbound',\n",
       " 'westbound']"
      ]
     },
     "execution_count": 295,
     "metadata": {},
     "output_type": "execute_result"
    }
   ],
   "source": [
    "labels[7]"
   ]
  },
  {
   "cell_type": "code",
   "execution_count": 296,
   "id": "bd793105",
   "metadata": {
    "scrolled": true
   },
   "outputs": [
    {
     "data": {
      "text/plain": [
       "['bed',\n",
       " 'zones',\n",
       " 'west',\n",
       " 'side',\n",
       " 'zone',\n",
       " 'south',\n",
       " 'westbound',\n",
       " 'southbound',\n",
       " 'east-west',\n",
       " 'mornings',\n",
       " 'northbound',\n",
       " 'carson',\n",
       " 'morning',\n",
       " 'auto-free zones',\n",
       " 'eastbound',\n",
       " 'north-south']"
      ]
     },
     "execution_count": 296,
     "metadata": {},
     "output_type": "execute_result"
    }
   ],
   "source": [
    "org_keys[7]"
   ]
  },
  {
   "cell_type": "code",
   "execution_count": 307,
   "id": "b833064e",
   "metadata": {},
   "outputs": [],
   "source": [
    "def df2_df1(df1, df2):\n",
    "    cond = df2['f_name'].isin(df1['f_name'])\n",
    "    df2.drop(df2[cond].index, inplace = True)\n",
    "    return df2"
   ]
  },
  {
   "cell_type": "code",
   "execution_count": 345,
   "id": "9e9f65dd",
   "metadata": {},
   "outputs": [],
   "source": [
    "dict_of_files = dict()\n",
    "dict_of_idx =  dict()\n",
    "root_dir = '/home/xtest/text_processing/data/wiki_texts/ped_pt'\n",
    "for idxx, keys in enumerate(org_keys):\n",
    "#     print(idxx, keys)\n",
    "#     dict_of_files[idx]= []\n",
    "    f_dict = dict()\n",
    "    for k in keys:\n",
    "        f_names = [f.rsplit('/', 1)[1] for f in all_links[k]]\n",
    "        f_names = [f'{root_dir}/{f}.txt' for f in f_names if os.path.isfile(f'{root_dir}/{f}.txt')]\n",
    "        f_dict[k] = pd.DataFrame({'f_name': f_names})\n",
    "    \n",
    "    sorted_key = []\n",
    "    for k in sorted(f_dict, key=lambda k: len(f_dict[k])):\n",
    "#         print(k, len(f_dict[k]))\n",
    "        sorted_key.append(k)\n",
    "    \n",
    "    for idx, k in enumerate(sorted_key):\n",
    "#         print(sorted_key[idx:], k)\n",
    "        for el in sorted_key[idx:]:\n",
    "            if el == k:\n",
    "                continue\n",
    "#             print(f'we are going to calc: {el} - {k}')\n",
    "            f_dict[el] = df2_df1(f_dict[k], f_dict[el])\n",
    "           \n",
    "    \n",
    "    # create id for each catagory\n",
    "    dict_of_idx[idxx] = dict()\n",
    "    # create dict of dict\n",
    "    dict_of_files[idxx] = dict()\n",
    "    for i, el in enumerate(f_dict):\n",
    "        dict_of_idx[idxx][i] = el\n",
    "        dict_of_files[idxx][i] = list(f_dict[el]['f_name'].tolist())      \n",
    "        \n",
    "#     break"
   ]
  },
  {
   "cell_type": "code",
   "execution_count": 346,
   "id": "eea581f3",
   "metadata": {},
   "outputs": [
    {
     "data": {
      "text/plain": [
       "{0: 'solace',\n",
       " 1: 'sheltered',\n",
       " 2: 'mankind',\n",
       " 3: 'enjoy nature',\n",
       " 4: 'environment',\n",
       " 5: 'nature',\n",
       " 6: 'natural environment',\n",
       " 7: 'refuge',\n",
       " 8: 'earthbound',\n",
       " 9: 'landscaped',\n",
       " 10: 'naturestrip'}"
      ]
     },
     "execution_count": 346,
     "metadata": {},
     "output_type": "execute_result"
    }
   ],
   "source": [
    "dict_of_idx[0]"
   ]
  },
  {
   "cell_type": "code",
   "execution_count": 347,
   "id": "ca9ead1e",
   "metadata": {},
   "outputs": [
    {
     "data": {
      "text/plain": [
       "30"
      ]
     },
     "execution_count": 347,
     "metadata": {},
     "output_type": "execute_result"
    }
   ],
   "source": [
    "len(dict_of_files)"
   ]
  },
  {
   "cell_type": "code",
   "execution_count": 348,
   "id": "baaf57d3",
   "metadata": {},
   "outputs": [
    {
     "data": {
      "text/plain": [
       "11"
      ]
     },
     "execution_count": 348,
     "metadata": {},
     "output_type": "execute_result"
    }
   ],
   "source": [
    "len(dict_of_files[0])"
   ]
  },
  {
   "cell_type": "code",
   "execution_count": 349,
   "id": "dd302421",
   "metadata": {},
   "outputs": [
    {
     "data": {
      "text/plain": [
       "10"
      ]
     },
     "execution_count": 349,
     "metadata": {},
     "output_type": "execute_result"
    }
   ],
   "source": [
    "len(dict_of_files[0][10])"
   ]
  },
  {
   "cell_type": "code",
   "execution_count": 350,
   "id": "4a8d0d55",
   "metadata": {},
   "outputs": [
    {
     "data": {
      "text/plain": [
       "['/home/xtest/text_processing/data/wiki_texts/ped_pt/Road_verge.txt',\n",
       " '/home/xtest/text_processing/data/wiki_texts/ped_pt/Median_strip.txt',\n",
       " '/home/xtest/text_processing/data/wiki_texts/ped_pt/Talk%3APedestrian.txt',\n",
       " '/home/xtest/text_processing/data/wiki_texts/ped_pt/School_zone.txt',\n",
       " '/home/xtest/text_processing/data/wiki_texts/ped_pt/Bushy_Creek_Trail.txt',\n",
       " '/home/xtest/text_processing/data/wiki_texts/ped_pt/Road.txt',\n",
       " '/home/xtest/text_processing/data/wiki_texts/ped_pt/Brooker_Highway.txt',\n",
       " '/home/xtest/text_processing/data/wiki_texts/ped_pt/Talk%3ACarriageway.txt',\n",
       " '/home/xtest/text_processing/data/wiki_texts/ped_pt/2007_June_3.txt',\n",
       " '/home/xtest/text_processing/data/wiki_texts/ped_pt/Goodwood_Road,_Adelaide.txt']"
      ]
     },
     "execution_count": 350,
     "metadata": {},
     "output_type": "execute_result"
    }
   ],
   "source": [
    "dict_of_files[0][10]"
   ]
  },
  {
   "cell_type": "code",
   "execution_count": 356,
   "id": "ed255870",
   "metadata": {},
   "outputs": [],
   "source": [
    "edit_line = \"Our editors will review what you’ve submitted and determine whether to revise the article\""
   ]
  },
  {
   "cell_type": "code",
   "execution_count": 439,
   "id": "62d86a36",
   "metadata": {
    "scrolled": true
   },
   "outputs": [],
   "source": [
    "cluster_data = dict()\n",
    "for cluster in dict_of_files:\n",
    "#     if cluster == 10:\n",
    "    cluster_data[cluster] = dict()\n",
    "    docs = []\n",
    "    categories = []\n",
    "\n",
    "    s = 0\n",
    "    for idx in dict_of_files[cluster]:\n",
    "\n",
    "        s += len(dict_of_files[cluster][idx])\n",
    "\n",
    "        for f_path in dict_of_files[cluster][idx]:\n",
    "            with open(f_path, \"r\") as rf:\n",
    "                fl = rf.read().splitlines()\n",
    "                fl = [l.replace(edit_line, \" \") if edit_line in l else l for l in fl]\n",
    "                fl = [l.strip() for l in fl  if l != '']\n",
    "                nl = concatenate_chunks(fl, 5)\n",
    "                docs.extend(nl)\n",
    "                cat = [idx] * len(nl)\n",
    "                categories.extend(cat)\n",
    "    cluster_data[cluster]['data'] = docs\n",
    "    cluster_data[cluster]['target'] = categories\n",
    "#     break"
   ]
  },
  {
   "cell_type": "code",
   "execution_count": null,
   "id": "e38b4eb3",
   "metadata": {},
   "outputs": [],
   "source": []
  },
  {
   "cell_type": "code",
   "execution_count": 440,
   "id": "08f80d40",
   "metadata": {},
   "outputs": [
    {
     "data": {
      "text/plain": [
       "1585"
      ]
     },
     "execution_count": 440,
     "metadata": {},
     "output_type": "execute_result"
    }
   ],
   "source": [
    "s"
   ]
  },
  {
   "cell_type": "code",
   "execution_count": 441,
   "id": "8590a514",
   "metadata": {},
   "outputs": [
    {
     "data": {
      "text/plain": [
       "4634"
      ]
     },
     "execution_count": 441,
     "metadata": {},
     "output_type": "execute_result"
    }
   ],
   "source": [
    "len(cluster_data[10]['data'])"
   ]
  },
  {
   "cell_type": "code",
   "execution_count": 442,
   "id": "aae8d107",
   "metadata": {},
   "outputs": [],
   "source": [
    "new_f = list(set(files[10]))\n",
    "docs_p = []\n",
    "for fn in new_f:\n",
    "    with open(fn, \"r\") as rf:\n",
    "        fl = rf.read().splitlines()\n",
    "        fl = [l.replace(edit_line, \" \") if edit_line in l else l for l in fl]\n",
    "        fl = [l.strip() for l in fl  if l != '']\n",
    "        nl = concatenate_chunks(fl, 5)\n",
    "        docs_p.extend(nl)"
   ]
  },
  {
   "cell_type": "code",
   "execution_count": 443,
   "id": "0ed59132",
   "metadata": {},
   "outputs": [
    {
     "data": {
      "text/plain": [
       "4634"
      ]
     },
     "execution_count": 443,
     "metadata": {},
     "output_type": "execute_result"
    }
   ],
   "source": [
    "len(docs_p)"
   ]
  },
  {
   "cell_type": "code",
   "execution_count": 421,
   "id": "30224d98",
   "metadata": {},
   "outputs": [
    {
     "name": "stdout",
     "output_type": "stream",
     "text": [
      "100\n",
      "52\n",
      "97\n",
      "73\n",
      "100\n",
      "10\n",
      "4\n",
      "0\n",
      "3\n",
      "1\n",
      "10\n",
      "24\n"
     ]
    }
   ],
   "source": [
    "s = 0\n",
    "for el in dict_of_files[10]:\n",
    "    print(len(dict_of_files[10][el]))\n",
    "    s += len(dict_of_files[10][el])"
   ]
  },
  {
   "cell_type": "code",
   "execution_count": 422,
   "id": "759c2c00",
   "metadata": {},
   "outputs": [
    {
     "data": {
      "text/plain": [
       "474"
      ]
     },
     "execution_count": 422,
     "metadata": {},
     "output_type": "execute_result"
    }
   ],
   "source": [
    "s"
   ]
  },
  {
   "cell_type": "code",
   "execution_count": 511,
   "id": "62117df9",
   "metadata": {
    "scrolled": false
   },
   "outputs": [
    {
     "data": {
      "text/plain": [
       "{0: 'style',\n",
       " 1: 'separation',\n",
       " 2: 'attention',\n",
       " 3: 'unobservant',\n",
       " 4: 'fashion',\n",
       " 5: 'unlighted',\n",
       " 6: 'flow',\n",
       " 7: 'type',\n",
       " 8: 'lines',\n",
       " 9: 'stream',\n",
       " 10: 'sight',\n",
       " 11: 'yellowline',\n",
       " 12: 'blocks',\n",
       " 13: 'bustling',\n",
       " 14: 'view',\n",
       " 15: 'egress',\n",
       " 16: 'variety',\n",
       " 17: 'emphasis',\n",
       " 18: 'women',\n",
       " 19: 'unbelted',\n",
       " 20: 'slog',\n",
       " 21: 'ft',\n",
       " 22: 'prose',\n",
       " 23: 'tree-lined',\n",
       " 24: 'lameness',\n",
       " 25: 'amble',\n",
       " 26: 'womens',\n",
       " 27: 'maindrag',\n",
       " 28: 'arterial',\n",
       " 29: 'types',\n",
       " 30: 'carriage',\n",
       " 31: 'block',\n",
       " 32: 'circulation',\n",
       " 33: 'woman',\n",
       " 34: 'line',\n",
       " 35: 'manner',\n",
       " 36: 'verse',\n",
       " 37: 'dress',\n",
       " 38: 'end'}"
      ]
     },
     "execution_count": 511,
     "metadata": {},
     "output_type": "execute_result"
    }
   ],
   "source": [
    "dict_of_idx[11]"
   ]
  },
  {
   "cell_type": "code",
   "execution_count": null,
   "id": "4aa97805",
   "metadata": {},
   "outputs": [],
   "source": []
  },
  {
   "cell_type": "code",
   "execution_count": 451,
   "id": "4573d27f",
   "metadata": {},
   "outputs": [
    {
     "data": {
      "text/plain": [
       "['vehiculartraffic',\n",
       " 'trolleycar',\n",
       " 'seat belt',\n",
       " 'canoe',\n",
       " 'vehicular',\n",
       " 'vehicle',\n",
       " 'vehiculation',\n",
       " 'vehicles',\n",
       " 'vehicular traffic',\n",
       " 'car',\n",
       " 'travel by car',\n",
       " 'automobile']"
      ]
     },
     "execution_count": 451,
     "metadata": {},
     "output_type": "execute_result"
    }
   ],
   "source": [
    "list(set(list(dict_of_idx[10].values())))"
   ]
  },
  {
   "cell_type": "code",
   "execution_count": 470,
   "id": "1d90b19d",
   "metadata": {},
   "outputs": [
    {
     "data": {
      "text/plain": [
       "['vehiculartraffic',\n",
       " 'trolleycar',\n",
       " 'seat belt',\n",
       " 'canoe',\n",
       " 'vehicular',\n",
       " 'vehicle',\n",
       " 'vehiculation',\n",
       " 'vehicles',\n",
       " 'vehicular traffic',\n",
       " 'car',\n",
       " 'travel by car',\n",
       " 'automobile']"
      ]
     },
     "execution_count": 470,
     "metadata": {},
     "output_type": "execute_result"
    }
   ],
   "source": [
    "names = list(set(list(dict_of_idx[10].values())))\n",
    "names"
   ]
  },
  {
   "cell_type": "code",
   "execution_count": 449,
   "id": "4ebc3da2",
   "metadata": {},
   "outputs": [
    {
     "data": {
      "text/plain": [
       "4634"
      ]
     },
     "execution_count": 449,
     "metadata": {},
     "output_type": "execute_result"
    }
   ],
   "source": [
    "len(cluster_data[10]['data'])"
   ]
  },
  {
   "cell_type": "code",
   "execution_count": 450,
   "id": "7282e998",
   "metadata": {},
   "outputs": [
    {
     "data": {
      "text/plain": [
       "4634"
      ]
     },
     "execution_count": 450,
     "metadata": {},
     "output_type": "execute_result"
    }
   ],
   "source": [
    "len(cluster_data[10]['target'])"
   ]
  },
  {
   "cell_type": "code",
   "execution_count": 471,
   "id": "e60a05f6",
   "metadata": {},
   "outputs": [],
   "source": [
    "classes = [names[i] for i in cluster_data[10][\"target\"]]"
   ]
  },
  {
   "cell_type": "code",
   "execution_count": 473,
   "id": "fb7f0d89",
   "metadata": {},
   "outputs": [
    {
     "data": {
      "text/plain": [
       "4634"
      ]
     },
     "execution_count": 473,
     "metadata": {},
     "output_type": "execute_result"
    }
   ],
   "source": [
    "len(classes)"
   ]
  },
  {
   "cell_type": "code",
   "execution_count": 474,
   "id": "6d9a45d3",
   "metadata": {},
   "outputs": [
    {
     "data": {
      "text/plain": [
       "['automobile',\n",
       " 'automobile',\n",
       " 'automobile',\n",
       " 'automobile',\n",
       " 'automobile',\n",
       " 'automobile',\n",
       " 'automobile',\n",
       " 'automobile',\n",
       " 'automobile',\n",
       " 'automobile',\n",
       " 'automobile',\n",
       " 'automobile',\n",
       " 'automobile',\n",
       " 'automobile',\n",
       " 'automobile',\n",
       " 'automobile',\n",
       " 'automobile',\n",
       " 'automobile',\n",
       " 'automobile',\n",
       " 'automobile']"
      ]
     },
     "execution_count": 474,
     "metadata": {},
     "output_type": "execute_result"
    }
   ],
   "source": [
    "classes[-20:]"
   ]
  },
  {
   "cell_type": "markdown",
   "id": "16717211",
   "metadata": {},
   "source": [
    "### Supervised"
   ]
  },
  {
   "cell_type": "code",
   "execution_count": 502,
   "id": "79731c63",
   "metadata": {},
   "outputs": [],
   "source": [
    "empty_dimensionality_model = BaseDimensionalityReduction()\n",
    "clf = LogisticRegression()\n",
    "ctfidf_model = ClassTfidfTransformer(reduce_frequent_words=True)\n",
    "vectorizer_model = CountVectorizer(stop_words=\"english\", ngram_range=(1, 3))"
   ]
  },
  {
   "cell_type": "code",
   "execution_count": 503,
   "id": "aca1622a",
   "metadata": {},
   "outputs": [],
   "source": [
    "topic_model = BERTopic(vectorizer_model=vectorizer_model, diversity=0.8, umap_model=empty_dimensionality_model,\n",
    "        hdbscan_model=clf,\n",
    "        ctfidf_model=ctfidf_model)"
   ]
  },
  {
   "cell_type": "code",
   "execution_count": 504,
   "id": "281210b0",
   "metadata": {},
   "outputs": [],
   "source": [
    "topics, probs = topic_model.fit_transform(cluster_data[11]['data'], y=np.array(cluster_data[11]['target']))"
   ]
  },
  {
   "cell_type": "code",
   "execution_count": 505,
   "id": "ee76d2de",
   "metadata": {},
   "outputs": [
    {
     "data": {
      "text/html": [
       "<div>\n",
       "<style scoped>\n",
       "    .dataframe tbody tr th:only-of-type {\n",
       "        vertical-align: middle;\n",
       "    }\n",
       "\n",
       "    .dataframe tbody tr th {\n",
       "        vertical-align: top;\n",
       "    }\n",
       "\n",
       "    .dataframe thead th {\n",
       "        text-align: right;\n",
       "    }\n",
       "</style>\n",
       "<table border=\"1\" class=\"dataframe\">\n",
       "  <thead>\n",
       "    <tr style=\"text-align: right;\">\n",
       "      <th></th>\n",
       "      <th>Topic</th>\n",
       "      <th>Count</th>\n",
       "      <th>Name</th>\n",
       "    </tr>\n",
       "  </thead>\n",
       "  <tbody>\n",
       "    <tr>\n",
       "      <th>0</th>\n",
       "      <td>0</td>\n",
       "      <td>1627</td>\n",
       "      <td>0_campus_american_population_park</td>\n",
       "    </tr>\n",
       "    <tr>\n",
       "      <th>1</th>\n",
       "      <td>1</td>\n",
       "      <td>1499</td>\n",
       "      <td>1_april 2006_bus_building_myanmar</td>\n",
       "    </tr>\n",
       "    <tr>\n",
       "      <th>2</th>\n",
       "      <td>2</td>\n",
       "      <td>929</td>\n",
       "      <td>2_tesla_parking_rumble_sms</td>\n",
       "    </tr>\n",
       "    <tr>\n",
       "      <th>3</th>\n",
       "      <td>3</td>\n",
       "      <td>868</td>\n",
       "      <td>3_metro_busch_anacostia_service</td>\n",
       "    </tr>\n",
       "    <tr>\n",
       "      <th>4</th>\n",
       "      <td>4</td>\n",
       "      <td>854</td>\n",
       "      <td>4_central park_crossings_frightened rabbit_pre...</td>\n",
       "    </tr>\n",
       "    <tr>\n",
       "      <th>5</th>\n",
       "      <td>5</td>\n",
       "      <td>803</td>\n",
       "      <td>5_lights_2014_motorway_game watch</td>\n",
       "    </tr>\n",
       "    <tr>\n",
       "      <th>6</th>\n",
       "      <td>6</td>\n",
       "      <td>796</td>\n",
       "      <td>6_truss_paris_signs_tactile</td>\n",
       "    </tr>\n",
       "    <tr>\n",
       "      <th>7</th>\n",
       "      <td>7</td>\n",
       "      <td>735</td>\n",
       "      <td>7_ballarat_huntington_istanbul_population</td>\n",
       "    </tr>\n",
       "    <tr>\n",
       "      <th>8</th>\n",
       "      <td>8</td>\n",
       "      <td>626</td>\n",
       "      <td>8_zebra_stop_vehicles_signals</td>\n",
       "    </tr>\n",
       "    <tr>\n",
       "      <th>9</th>\n",
       "      <td>9</td>\n",
       "      <td>612</td>\n",
       "      <td>9_talk_literature_harry potter_holmes</td>\n",
       "    </tr>\n",
       "    <tr>\n",
       "      <th>10</th>\n",
       "      <td>10</td>\n",
       "      <td>567</td>\n",
       "      <td>10_roads_cycle_frontage_rail</td>\n",
       "    </tr>\n",
       "    <tr>\n",
       "      <th>11</th>\n",
       "      <td>11</td>\n",
       "      <td>535</td>\n",
       "      <td>11_thai_costumes_lenfant_dolly</td>\n",
       "    </tr>\n",
       "    <tr>\n",
       "      <th>12</th>\n",
       "      <td>12</td>\n",
       "      <td>482</td>\n",
       "      <td>12_world trade center_trade_pennsylvania_road ...</td>\n",
       "    </tr>\n",
       "    <tr>\n",
       "      <th>13</th>\n",
       "      <td>13</td>\n",
       "      <td>474</td>\n",
       "      <td>13_gibraltar_beatles_october 2010_ellis island</td>\n",
       "    </tr>\n",
       "    <tr>\n",
       "      <th>14</th>\n",
       "      <td>14</td>\n",
       "      <td>417</td>\n",
       "      <td>14_entry drivers_option_rightformerly used_cro...</td>\n",
       "    </tr>\n",
       "    <tr>\n",
       "      <th>15</th>\n",
       "      <td>15</td>\n",
       "      <td>403</td>\n",
       "      <td>15_fashion_le corbusier_sicilian_paris</td>\n",
       "    </tr>\n",
       "    <tr>\n",
       "      <th>16</th>\n",
       "      <td>16</td>\n",
       "      <td>373</td>\n",
       "      <td>16_culdesac_microsimulation_simulation_weir</td>\n",
       "    </tr>\n",
       "    <tr>\n",
       "      <th>17</th>\n",
       "      <td>17</td>\n",
       "      <td>367</td>\n",
       "      <td>17_pedestrian crossing_plate indicating_sound_...</td>\n",
       "    </tr>\n",
       "    <tr>\n",
       "      <th>18</th>\n",
       "      <td>18</td>\n",
       "      <td>361</td>\n",
       "      <td>18_sustainable_urban design_plan_transport</td>\n",
       "    </tr>\n",
       "    <tr>\n",
       "      <th>19</th>\n",
       "      <td>19</td>\n",
       "      <td>356</td>\n",
       "      <td>19_incel_memorial_hemicycle_acid attacks</td>\n",
       "    </tr>\n",
       "    <tr>\n",
       "      <th>20</th>\n",
       "      <td>20</td>\n",
       "      <td>352</td>\n",
       "      <td>20_bradbury_omaha_ame_ullman</td>\n",
       "    </tr>\n",
       "    <tr>\n",
       "      <th>21</th>\n",
       "      <td>21</td>\n",
       "      <td>337</td>\n",
       "      <td>21_carts_used_petit journal_mews</td>\n",
       "    </tr>\n",
       "    <tr>\n",
       "      <th>22</th>\n",
       "      <td>22</td>\n",
       "      <td>305</td>\n",
       "      <td>22_toronto_arterial road_dundas_ring</td>\n",
       "    </tr>\n",
       "    <tr>\n",
       "      <th>23</th>\n",
       "      <td>23</td>\n",
       "      <td>285</td>\n",
       "      <td>23_nogales_new_circulation_urban planning</td>\n",
       "    </tr>\n",
       "    <tr>\n",
       "      <th>24</th>\n",
       "      <td>24</td>\n",
       "      <td>260</td>\n",
       "      <td>24_houston_block_carfree_shopping</td>\n",
       "    </tr>\n",
       "    <tr>\n",
       "      <th>25</th>\n",
       "      <td>25</td>\n",
       "      <td>254</td>\n",
       "      <td>25_creek_bchle_park_channel</td>\n",
       "    </tr>\n",
       "    <tr>\n",
       "      <th>26</th>\n",
       "      <td>26</td>\n",
       "      <td>238</td>\n",
       "      <td>26_alameda_urban forest_ness_obahn</td>\n",
       "    </tr>\n",
       "    <tr>\n",
       "      <th>27</th>\n",
       "      <td>27</td>\n",
       "      <td>228</td>\n",
       "      <td>27_google street view_artists_modified_camera</td>\n",
       "    </tr>\n",
       "    <tr>\n",
       "      <th>28</th>\n",
       "      <td>28</td>\n",
       "      <td>191</td>\n",
       "      <td>28_ieds_file_road rage_consent</td>\n",
       "    </tr>\n",
       "    <tr>\n",
       "      <th>29</th>\n",
       "      <td>29</td>\n",
       "      <td>167</td>\n",
       "      <td>29_bridge_deck_george washington_hudson river</td>\n",
       "    </tr>\n",
       "    <tr>\n",
       "      <th>30</th>\n",
       "      <td>30</td>\n",
       "      <td>162</td>\n",
       "      <td>30_sparks_west end bridge_revere_right</td>\n",
       "    </tr>\n",
       "    <tr>\n",
       "      <th>31</th>\n",
       "      <td>31</td>\n",
       "      <td>159</td>\n",
       "      <td>31_colfax_rottweilers_kyiv_sprague</td>\n",
       "    </tr>\n",
       "    <tr>\n",
       "      <th>32</th>\n",
       "      <td>32</td>\n",
       "      <td>148</td>\n",
       "      <td>32_wellington_aug_talk_article</td>\n",
       "    </tr>\n",
       "    <tr>\n",
       "      <th>33</th>\n",
       "      <td>33</td>\n",
       "      <td>107</td>\n",
       "      <td>33_situations covered_standards addition_cover...</td>\n",
       "    </tr>\n",
       "    <tr>\n",
       "      <th>34</th>\n",
       "      <td>34</td>\n",
       "      <td>98</td>\n",
       "      <td>34_concept_seat belts_occupants_deploy</td>\n",
       "    </tr>\n",
       "    <tr>\n",
       "      <th>35</th>\n",
       "      <td>35</td>\n",
       "      <td>55</td>\n",
       "      <td>35_preddy_manni_ghost shoes_las vegas</td>\n",
       "    </tr>\n",
       "    <tr>\n",
       "      <th>36</th>\n",
       "      <td>36</td>\n",
       "      <td>52</td>\n",
       "      <td>36_marathon_tombstone canyon_van ginkel_womens</td>\n",
       "    </tr>\n",
       "    <tr>\n",
       "      <th>37</th>\n",
       "      <td>37</td>\n",
       "      <td>30</td>\n",
       "      <td>37_west block_37_morningstar_ollie</td>\n",
       "    </tr>\n",
       "    <tr>\n",
       "      <th>38</th>\n",
       "      <td>38</td>\n",
       "      <td>4</td>\n",
       "      <td>38_sholom_experts_road test_shmuel</td>\n",
       "    </tr>\n",
       "  </tbody>\n",
       "</table>\n",
       "</div>"
      ],
      "text/plain": [
       "    Topic  Count                                               Name\n",
       "0       0   1627                  0_campus_american_population_park\n",
       "1       1   1499                  1_april 2006_bus_building_myanmar\n",
       "2       2    929                         2_tesla_parking_rumble_sms\n",
       "3       3    868                    3_metro_busch_anacostia_service\n",
       "4       4    854  4_central park_crossings_frightened rabbit_pre...\n",
       "5       5    803                  5_lights_2014_motorway_game watch\n",
       "6       6    796                        6_truss_paris_signs_tactile\n",
       "7       7    735          7_ballarat_huntington_istanbul_population\n",
       "8       8    626                      8_zebra_stop_vehicles_signals\n",
       "9       9    612              9_talk_literature_harry potter_holmes\n",
       "10     10    567                       10_roads_cycle_frontage_rail\n",
       "11     11    535                     11_thai_costumes_lenfant_dolly\n",
       "12     12    482  12_world trade center_trade_pennsylvania_road ...\n",
       "13     13    474     13_gibraltar_beatles_october 2010_ellis island\n",
       "14     14    417  14_entry drivers_option_rightformerly used_cro...\n",
       "15     15    403             15_fashion_le corbusier_sicilian_paris\n",
       "16     16    373        16_culdesac_microsimulation_simulation_weir\n",
       "17     17    367  17_pedestrian crossing_plate indicating_sound_...\n",
       "18     18    361         18_sustainable_urban design_plan_transport\n",
       "19     19    356           19_incel_memorial_hemicycle_acid attacks\n",
       "20     20    352                       20_bradbury_omaha_ame_ullman\n",
       "21     21    337                   21_carts_used_petit journal_mews\n",
       "22     22    305               22_toronto_arterial road_dundas_ring\n",
       "23     23    285          23_nogales_new_circulation_urban planning\n",
       "24     24    260                  24_houston_block_carfree_shopping\n",
       "25     25    254                        25_creek_bchle_park_channel\n",
       "26     26    238                 26_alameda_urban forest_ness_obahn\n",
       "27     27    228      27_google street view_artists_modified_camera\n",
       "28     28    191                     28_ieds_file_road rage_consent\n",
       "29     29    167      29_bridge_deck_george washington_hudson river\n",
       "30     30    162             30_sparks_west end bridge_revere_right\n",
       "31     31    159                 31_colfax_rottweilers_kyiv_sprague\n",
       "32     32    148                     32_wellington_aug_talk_article\n",
       "33     33    107  33_situations covered_standards addition_cover...\n",
       "34     34     98             34_concept_seat belts_occupants_deploy\n",
       "35     35     55              35_preddy_manni_ghost shoes_las vegas\n",
       "36     36     52     36_marathon_tombstone canyon_van ginkel_womens\n",
       "37     37     30                 37_west block_37_morningstar_ollie\n",
       "38     38      4                 38_sholom_experts_road test_shmuel"
      ]
     },
     "execution_count": 505,
     "metadata": {},
     "output_type": "execute_result"
    }
   ],
   "source": [
    "topic_model.get_topic_info()"
   ]
  },
  {
   "cell_type": "code",
   "execution_count": 508,
   "id": "5679bf45",
   "metadata": {},
   "outputs": [
    {
     "data": {
      "text/plain": [
       "17116"
      ]
     },
     "execution_count": 508,
     "metadata": {},
     "output_type": "execute_result"
    }
   ],
   "source": [
    "len(cluster_data[11]['data'])"
   ]
  },
  {
   "cell_type": "code",
   "execution_count": 516,
   "id": "39c781e4",
   "metadata": {},
   "outputs": [
    {
     "name": "stdout",
     "output_type": "stream",
     "text": [
      "[15, 11, 18, 35, 6, 24, 12, 7, 10, 23, 20, 3, 21, 9, 28, 1, 16, 5, 19, 36, 22, 8, 26, 31, 25, 27, 32, 0, 34, 13, 38, 29, 33, 2, 4, 37, 17, 14]\n"
     ]
    }
   ],
   "source": [
    "ped_similar_topics_a, ped_similarity_a = topic_model.find_topics(\"fashion\", top_n=38)\n",
    "print(ped_similar_topics_a)"
   ]
  },
  {
   "cell_type": "code",
   "execution_count": 517,
   "id": "83e49154",
   "metadata": {
    "scrolled": true
   },
   "outputs": [
    {
     "name": "stdout",
     "output_type": "stream",
     "text": [
      "15\n",
      "['fashion', 'le corbusier', 'sicilian', 'paris', 'lolita', 'xiv', 'unicorn', 'clements', 'shopping centers', 'bintang']\n",
      "\n",
      "\n",
      "11\n",
      "['thai', 'costumes', 'lenfant', 'dolly', 'security officers', 'new', 'san andreas', 'colonial williamsburg', 'square', 'onehunga']\n",
      "\n",
      "\n",
      "18\n",
      "['sustainable', 'urban design', 'plan', 'transport', 'psychology', 'rider', 'singapore', 'cpted', 'compact', 'emphasis']\n",
      "\n",
      "\n",
      "35\n",
      "['preddy', 'manni', 'ghost shoes', 'las vegas', 'skipping girl', 'billie', 'arash', 'korean', 'films', 'incident']\n",
      "\n",
      "\n",
      "6\n",
      "['truss', 'paris', 'signs', 'tactile', 'brooklyn bridge', 'roundabouts', 'used new south', 'designed', 'green', 'walking']\n",
      "\n",
      "\n",
      "24\n",
      "['houston', 'block', 'carfree', 'shopping', 'stone', 'zones', 'pedestrian streets', 'historic', 'olvera', 'descriptors']\n",
      "\n",
      "\n",
      "12\n",
      "['world trade center', 'trade', 'pennsylvania', 'road signs', 'inca', 'limousine', 'sight distance', 'excursion', 'impairment', 'design']\n",
      "\n",
      "\n",
      "7\n",
      "['ballarat', 'huntington', 'istanbul', 'population', 'docklands', 'century', 'building', 'including', 'line', 'subway']\n",
      "\n",
      "\n",
      "10\n",
      "['roads', 'cycle', 'frontage', 'rail', 'grid', 'markings', 'used', 'yellow', 'rapid', 'safety']\n",
      "\n",
      "\n",
      "23\n",
      "['nogales', 'new', 'circulation', 'urban planning', 'public', 'restriction', 'trade center', 'viaduct', 'bus', 'barbican']\n",
      "\n",
      "\n",
      "20\n",
      "['bradbury', 'omaha', 'ame', 'ullman', 'tractor', 'variety', 'kensington', 'cycle rickshaws', 'grand theft', 'used']\n",
      "\n",
      "\n",
      "3\n",
      "['metro', 'busch', 'anacostia', 'service', 'light rail', 'wmata', 'blue line', 'extension', 'talk', 'max']\n",
      "\n",
      "\n",
      "21\n",
      "['carts', 'used', 'petit journal', 'mews', 'yatai', 'cslr', 'mumbai', 'guyana', 'speed limits', 'long bridge']\n",
      "\n",
      "\n",
      "9\n",
      "['talk', 'literature', 'harry potter', 'holmes', 'belloc', 'percy', 'page', 'oil', 'yeats', 'su']\n",
      "\n",
      "\n",
      "28\n",
      "['ieds', 'file', 'road rage', 'consent', 'bombs', 'improvised', 'intelligent', 'phones', 'proximate cause', 'gesture']\n",
      "\n",
      "\n",
      "1\n",
      "['april 2006', 'bus', 'building', 'myanmar', 'tunnel', 'ls', 'expedition', 'trade center', 'used', 'line']\n",
      "\n",
      "\n",
      "16\n",
      "['culdesac', 'microsimulation', 'simulation', 'weir', 'pedestrian fatalities', 'crossing', 'countries', 'way', 'street hierarchy', 'permeability']\n",
      "\n",
      "\n",
      "5\n",
      "['lights', '2014', 'motorway', 'game watch', 'turkey', 'christmas tree', 'signal', 'february 2014 utcreplyreplyvoting', 'national', 'period dont']\n",
      "\n",
      "\n",
      "19\n",
      "['incel', 'memorial', 'hemicycle', 'acid attacks', 'feminists', 'rodger', 'said', 'minassian', 'crossing', 'psoe']\n",
      "\n",
      "\n",
      "36\n",
      "['marathon', 'tombstone canyon', 'van ginkel', 'womens', 'bisbee', 'wang', 'brewery avenue', 'diego', 'rupp', 'bowring']\n",
      "\n",
      "\n",
      "22\n",
      "['toronto', 'arterial road', 'dundas', 'ring', 'begins', 'finch', 'intersection', 'don', 'yonge', 'major']\n",
      "\n",
      "\n",
      "8\n",
      "['zebra', 'stop', 'vehicles', 'signals', 'pedestrian crossing', 'markings', 'smart', 'tunnel', 'countdown', 'intersections']\n",
      "\n",
      "\n",
      "26\n",
      "['alameda', 'urban forest', 'ness', 'obahn', 'concourse', 'rail', 'treelined', 'walk', 'lake union', 'built']\n",
      "\n",
      "\n",
      "31\n",
      "['colfax', 'rottweilers', 'kyiv', 'sprague', 'cruising', 'spokane', 'yonge street', 'rd', 'thorntonsmith', 'santiago']\n",
      "\n",
      "\n",
      "25\n",
      "['creek', 'bchle', 'park', 'channel', 'amofahs', 'oxon', 'arroyo seco', 'mouth', 'difficult run', 'dead reckoning']\n",
      "\n",
      "\n",
      "27\n",
      "['google street view', 'artists', 'modified', 'camera', 'villages major rural', 'view file appeared', 'file size', 'pixels file', 'datetime', 'mime type']\n",
      "\n",
      "\n",
      "32\n",
      "['wellington', 'aug', 'talk', 'article', '2014', 'park blocks', 'voting period', 'armbrust homunculus', 'stjrdal', 'dont add']\n",
      "\n",
      "\n",
      "0\n",
      "['campus', 'american', 'population', 'park', 'center', 'san', 'county', 'largest', 'haven', 'orleans']\n",
      "\n",
      "\n",
      "34\n",
      "['concept', 'seat belts', 'occupants', 'deploy', 'injuries', 'occupant', 'hybrid', 'road safety', 'tokyo motor', 'risk compensation']\n",
      "\n",
      "\n",
      "13\n",
      "['gibraltar', 'beatles', 'october 2010', 'ellis island', 'utcreplyreply', 'article', 'san roque', 'selfgoverning', 'im', 'veriss talk']\n",
      "\n",
      "\n",
      "38\n",
      "['sholom', 'experts', 'road test', 'shmuel', 'rehab', 'canadas worst', 'challenge episode', 'graduating', 'jillian admits', 'pollys']\n",
      "\n",
      "\n",
      "29\n",
      "['bridge', 'deck', 'george washington', 'hudson river', 'fort tryon park', 'cables', 'jersey', 'port authority', 'new', 'suspension']\n",
      "\n",
      "\n",
      "33\n",
      "['situations covered', 'standards addition', 'covered states standards', 'signs relating', 'series signs warning', 'mutcd', 'permeability', 'series', 'pers', 'turn']\n",
      "\n",
      "\n",
      "2\n",
      "['tesla', 'parking', 'rumble', 'sms', 'aaa', 'strips', 'highway markerstate', 'left', 'drivers', 'limit']\n",
      "\n",
      "\n",
      "4\n",
      "['central park', 'crossings', 'frightened rabbit', 'presbyterian church', 'released', 'safety', 'billboards', 'darlington', 'verse', 'scott']\n",
      "\n",
      "\n",
      "37\n",
      "['west block', '37', 'morningstar', 'ollie', 'freed associates', 'mills', 'ehrengraf', 'scudder', 'cim', 'rhodenbarr']\n",
      "\n",
      "\n",
      "17\n",
      "['pedestrian crossing', 'plate indicating', 'sound', 'countdown', 'dont walk', 'buttons', 'flashing', 'vehicles', 'warning', 'aps']\n",
      "\n",
      "\n",
      "14\n",
      "['entry drivers', 'option', 'rightformerly used', 'crossing', 'indicated arrow', 'ahead', 'right', 'mandatory', 'road signs', 'limit']\n",
      "\n",
      "\n"
     ]
    }
   ],
   "source": [
    "for t in ped_similar_topics_a:\n",
    "    l = []\n",
    "    print(t)\n",
    "    for el in topic_model.get_topic(t):\n",
    "        l.append(el[0])\n",
    "    print(l)\n",
    "#     print(ped_auto_model_a.get_topic(t))\n",
    "    print('\\n')"
   ]
  },
  {
   "cell_type": "code",
   "execution_count": 486,
   "id": "f7f09018",
   "metadata": {},
   "outputs": [
    {
     "name": "stderr",
     "output_type": "stream",
     "text": [
      "100%|███████████████████████████████████████████████████████████████████████████████████| 10/10 [00:00<00:00, 11.29it/s]\n"
     ]
    }
   ],
   "source": [
    "hierarchical_topics = topic_model.hierarchical_topics(cluster_data[10]['data'])\n"
   ]
  },
  {
   "cell_type": "code",
   "execution_count": 487,
   "id": "a64e2a36",
   "metadata": {},
   "outputs": [
    {
     "data": {
      "application/vnd.plotly.v1+json": {
       "config": {
        "plotlyServerURL": "https://plot.ly"
       },
       "data": [
        {
         "hoverinfo": "text",
         "marker": {
          "color": "rgb(0,116,217)"
         },
         "mode": "lines",
         "text": [
          "toll roads_layer_macadam_tar_scales",
          "",
          "",
          "rights_england_ramblers_definitive_ashanti"
         ],
         "type": "scatter",
         "x": [
          0,
          1.369875551275053,
          1.369875551275053,
          0
         ],
         "xaxis": "x",
         "y": [
          -15,
          -15,
          -25,
          -25
         ],
         "yaxis": "y"
        },
        {
         "hoverinfo": "text",
         "marker": {
          "color": "rgb(0,116,217)"
         },
         "mode": "lines",
         "text": [
          "s1 gard_right wheels_pts_bernoullis principle_object greater",
          "",
          "",
          "rights way_england_toll roads_footpath_ashanti"
         ],
         "type": "scatter",
         "x": [
          0,
          1.4009077427613879,
          1.4009077427613879,
          1.369875551275053
         ],
         "xaxis": "x",
         "y": [
          -5,
          -5,
          -20,
          -20
         ],
         "yaxis": "y"
        },
        {
         "hoverinfo": "text",
         "marker": {
          "color": "rgb(0,116,217)"
         },
         "mode": "lines",
         "text": [
          "water_duluth_trails_built_tanana",
          "",
          "",
          "streetcars_bridge_light rail_new_tram"
         ],
         "type": "scatter",
         "x": [
          0,
          1.2457764537207028,
          1.2457764537207028,
          0
         ],
         "xaxis": "x",
         "y": [
          -35,
          -35,
          -45,
          -45
         ],
         "yaxis": "y"
        },
        {
         "hoverinfo": "text",
         "marker": {
          "color": "rgb(0,116,217)"
         },
         "mode": "lines",
         "text": [
          "transport_prt_ring_cities_frontage roads",
          "",
          "",
          "safety_standard_lights_available_volvo"
         ],
         "type": "scatter",
         "x": [
          0,
          1.222158587472321,
          1.222158587472321,
          0
         ],
         "xaxis": "x",
         "y": [
          -65,
          -65,
          -75,
          -75
         ],
         "yaxis": "y"
        },
        {
         "hoverinfo": "text",
         "marker": {
          "color": "rgb(0,116,217)"
         },
         "mode": "lines",
         "text": [
          "used_pedestrian_sign_roads_limit",
          "",
          "",
          "safety_rear_transport_standard_lights"
         ],
         "type": "scatter",
         "x": [
          0,
          1.2257174134963003,
          1.2257174134963003,
          1.222158587472321
         ],
         "xaxis": "x",
         "y": [
          -55,
          -55,
          -70,
          -70
         ],
         "yaxis": "y"
        },
        {
         "hoverinfo": "text",
         "marker": {
          "color": "rgb(0,116,217)"
         },
         "mode": "lines",
         "text": [
          "used_safety_new_signs_car",
          "",
          "",
          "suv_articles_july 2008_bridges_university"
         ],
         "type": "scatter",
         "x": [
          1.2257174134963003,
          1.3167550014701896,
          1.3167550014701896,
          0
         ],
         "xaxis": "x",
         "y": [
          -62.5,
          -62.5,
          -85,
          -85
         ],
         "yaxis": "y"
        },
        {
         "hoverinfo": "text",
         "marker": {
          "color": "rgb(0,116,217)"
         },
         "mode": "lines",
         "text": [
          "new_transit_station_streetcars_avenue",
          "",
          "",
          "used_safety_drivers_states_signs"
         ],
         "type": "scatter",
         "x": [
          1.2457764537207028,
          1.325332308308247,
          1.325332308308247,
          1.3167550014701896
         ],
         "xaxis": "x",
         "y": [
          -40,
          -40,
          -73.75,
          -73.75
         ],
         "yaxis": "y"
        },
        {
         "hoverinfo": "text",
         "marker": {
          "color": "rgb(0,116,217)"
         },
         "mode": "lines",
         "text": [
          "airbag_pedestrians_coverage_electric_automated",
          "",
          "",
          "acda_selfdriving_vehicles_safe speed_rule"
         ],
         "type": "scatter",
         "x": [
          0,
          1.0643060435917,
          1.0643060435917,
          0
         ],
         "xaxis": "x",
         "y": [
          -95,
          -95,
          -105,
          -105
         ],
         "yaxis": "y"
        },
        {
         "hoverinfo": "text",
         "marker": {
          "color": "rgb(0,116,217)"
         },
         "mode": "lines",
         "text": [
          "used_new_bridge_speed_pedestrian",
          "",
          "",
          "vehicles_airbag_automated_selfdriving_level"
         ],
         "type": "scatter",
         "x": [
          1.325332308308247,
          1.4426456631823201,
          1.4426456631823201,
          1.0643060435917
         ],
         "xaxis": "x",
         "y": [
          -56.875,
          -56.875,
          -100,
          -100
         ],
         "yaxis": "y"
        },
        {
         "hoverinfo": "text",
         "marker": {
          "color": "rgb(0,116,217)"
         },
         "mode": "lines",
         "text": [
          "rights_toll roads_footpath_ashanti_layer",
          "",
          "",
          "used_new_safety_pedestrian_roads"
         ],
         "type": "scatter",
         "x": [
          1.4009077427613879,
          1.5138702937940394,
          1.5138702937940394,
          1.4426456631823201
         ],
         "xaxis": "x",
         "y": [
          -12.5,
          -12.5,
          -78.4375,
          -78.4375
         ],
         "yaxis": "y"
        },
        {
         "hoverinfo": "text",
         "hovertext": [
          "used_safety_new_signs_car",
          "new_transit_station_streetcars_avenue",
          "used_new_bridge_speed_pedestrian",
          "rights_toll roads_footpath_ashanti_layer"
         ],
         "marker": {
          "color": "black"
         },
         "mode": "markers",
         "showlegend": false,
         "type": "scatter",
         "x": [
          1.2257174134963003,
          1.2457764537207028,
          1.325332308308247,
          1.4009077427613879
         ],
         "y": [
          -62.5,
          -40,
          -56.875,
          -12.5
         ]
        },
        {
         "hoverinfo": "text",
         "hovertext": [
          "rights way_england_toll roads_footpath_ashanti",
          "safety_rear_transport_standard_lights",
          "used_safety_drivers_states_signs",
          "vehicles_airbag_automated_selfdriving_level",
          "used_new_safety_pedestrian_roads"
         ],
         "marker": {
          "color": "black"
         },
         "mode": "markers",
         "showlegend": false,
         "type": "scatter",
         "x": [
          1.369875551275053,
          1.222158587472321,
          1.3167550014701896,
          1.0643060435917,
          1.4426456631823201
         ],
         "y": [
          -20,
          -70,
          -73.75,
          -100,
          -78.4375
         ]
        }
       ],
       "layout": {
        "autosize": false,
        "height": 365,
        "hoverlabel": {
         "bgcolor": "white",
         "font": {
          "family": "Rockwell",
          "size": 16
         }
        },
        "hovermode": "closest",
        "plot_bgcolor": "#ECEFF1",
        "showlegend": false,
        "template": {
         "data": {
          "bar": [
           {
            "error_x": {
             "color": "#2a3f5f"
            },
            "error_y": {
             "color": "#2a3f5f"
            },
            "marker": {
             "line": {
              "color": "white",
              "width": 0.5
             },
             "pattern": {
              "fillmode": "overlay",
              "size": 10,
              "solidity": 0.2
             }
            },
            "type": "bar"
           }
          ],
          "barpolar": [
           {
            "marker": {
             "line": {
              "color": "white",
              "width": 0.5
             },
             "pattern": {
              "fillmode": "overlay",
              "size": 10,
              "solidity": 0.2
             }
            },
            "type": "barpolar"
           }
          ],
          "carpet": [
           {
            "aaxis": {
             "endlinecolor": "#2a3f5f",
             "gridcolor": "#C8D4E3",
             "linecolor": "#C8D4E3",
             "minorgridcolor": "#C8D4E3",
             "startlinecolor": "#2a3f5f"
            },
            "baxis": {
             "endlinecolor": "#2a3f5f",
             "gridcolor": "#C8D4E3",
             "linecolor": "#C8D4E3",
             "minorgridcolor": "#C8D4E3",
             "startlinecolor": "#2a3f5f"
            },
            "type": "carpet"
           }
          ],
          "choropleth": [
           {
            "colorbar": {
             "outlinewidth": 0,
             "ticks": ""
            },
            "type": "choropleth"
           }
          ],
          "contour": [
           {
            "colorbar": {
             "outlinewidth": 0,
             "ticks": ""
            },
            "colorscale": [
             [
              0,
              "#0d0887"
             ],
             [
              0.1111111111111111,
              "#46039f"
             ],
             [
              0.2222222222222222,
              "#7201a8"
             ],
             [
              0.3333333333333333,
              "#9c179e"
             ],
             [
              0.4444444444444444,
              "#bd3786"
             ],
             [
              0.5555555555555556,
              "#d8576b"
             ],
             [
              0.6666666666666666,
              "#ed7953"
             ],
             [
              0.7777777777777778,
              "#fb9f3a"
             ],
             [
              0.8888888888888888,
              "#fdca26"
             ],
             [
              1,
              "#f0f921"
             ]
            ],
            "type": "contour"
           }
          ],
          "contourcarpet": [
           {
            "colorbar": {
             "outlinewidth": 0,
             "ticks": ""
            },
            "type": "contourcarpet"
           }
          ],
          "heatmap": [
           {
            "colorbar": {
             "outlinewidth": 0,
             "ticks": ""
            },
            "colorscale": [
             [
              0,
              "#0d0887"
             ],
             [
              0.1111111111111111,
              "#46039f"
             ],
             [
              0.2222222222222222,
              "#7201a8"
             ],
             [
              0.3333333333333333,
              "#9c179e"
             ],
             [
              0.4444444444444444,
              "#bd3786"
             ],
             [
              0.5555555555555556,
              "#d8576b"
             ],
             [
              0.6666666666666666,
              "#ed7953"
             ],
             [
              0.7777777777777778,
              "#fb9f3a"
             ],
             [
              0.8888888888888888,
              "#fdca26"
             ],
             [
              1,
              "#f0f921"
             ]
            ],
            "type": "heatmap"
           }
          ],
          "heatmapgl": [
           {
            "colorbar": {
             "outlinewidth": 0,
             "ticks": ""
            },
            "colorscale": [
             [
              0,
              "#0d0887"
             ],
             [
              0.1111111111111111,
              "#46039f"
             ],
             [
              0.2222222222222222,
              "#7201a8"
             ],
             [
              0.3333333333333333,
              "#9c179e"
             ],
             [
              0.4444444444444444,
              "#bd3786"
             ],
             [
              0.5555555555555556,
              "#d8576b"
             ],
             [
              0.6666666666666666,
              "#ed7953"
             ],
             [
              0.7777777777777778,
              "#fb9f3a"
             ],
             [
              0.8888888888888888,
              "#fdca26"
             ],
             [
              1,
              "#f0f921"
             ]
            ],
            "type": "heatmapgl"
           }
          ],
          "histogram": [
           {
            "marker": {
             "pattern": {
              "fillmode": "overlay",
              "size": 10,
              "solidity": 0.2
             }
            },
            "type": "histogram"
           }
          ],
          "histogram2d": [
           {
            "colorbar": {
             "outlinewidth": 0,
             "ticks": ""
            },
            "colorscale": [
             [
              0,
              "#0d0887"
             ],
             [
              0.1111111111111111,
              "#46039f"
             ],
             [
              0.2222222222222222,
              "#7201a8"
             ],
             [
              0.3333333333333333,
              "#9c179e"
             ],
             [
              0.4444444444444444,
              "#bd3786"
             ],
             [
              0.5555555555555556,
              "#d8576b"
             ],
             [
              0.6666666666666666,
              "#ed7953"
             ],
             [
              0.7777777777777778,
              "#fb9f3a"
             ],
             [
              0.8888888888888888,
              "#fdca26"
             ],
             [
              1,
              "#f0f921"
             ]
            ],
            "type": "histogram2d"
           }
          ],
          "histogram2dcontour": [
           {
            "colorbar": {
             "outlinewidth": 0,
             "ticks": ""
            },
            "colorscale": [
             [
              0,
              "#0d0887"
             ],
             [
              0.1111111111111111,
              "#46039f"
             ],
             [
              0.2222222222222222,
              "#7201a8"
             ],
             [
              0.3333333333333333,
              "#9c179e"
             ],
             [
              0.4444444444444444,
              "#bd3786"
             ],
             [
              0.5555555555555556,
              "#d8576b"
             ],
             [
              0.6666666666666666,
              "#ed7953"
             ],
             [
              0.7777777777777778,
              "#fb9f3a"
             ],
             [
              0.8888888888888888,
              "#fdca26"
             ],
             [
              1,
              "#f0f921"
             ]
            ],
            "type": "histogram2dcontour"
           }
          ],
          "mesh3d": [
           {
            "colorbar": {
             "outlinewidth": 0,
             "ticks": ""
            },
            "type": "mesh3d"
           }
          ],
          "parcoords": [
           {
            "line": {
             "colorbar": {
              "outlinewidth": 0,
              "ticks": ""
             }
            },
            "type": "parcoords"
           }
          ],
          "pie": [
           {
            "automargin": true,
            "type": "pie"
           }
          ],
          "scatter": [
           {
            "fillpattern": {
             "fillmode": "overlay",
             "size": 10,
             "solidity": 0.2
            },
            "type": "scatter"
           }
          ],
          "scatter3d": [
           {
            "line": {
             "colorbar": {
              "outlinewidth": 0,
              "ticks": ""
             }
            },
            "marker": {
             "colorbar": {
              "outlinewidth": 0,
              "ticks": ""
             }
            },
            "type": "scatter3d"
           }
          ],
          "scattercarpet": [
           {
            "marker": {
             "colorbar": {
              "outlinewidth": 0,
              "ticks": ""
             }
            },
            "type": "scattercarpet"
           }
          ],
          "scattergeo": [
           {
            "marker": {
             "colorbar": {
              "outlinewidth": 0,
              "ticks": ""
             }
            },
            "type": "scattergeo"
           }
          ],
          "scattergl": [
           {
            "marker": {
             "colorbar": {
              "outlinewidth": 0,
              "ticks": ""
             }
            },
            "type": "scattergl"
           }
          ],
          "scattermapbox": [
           {
            "marker": {
             "colorbar": {
              "outlinewidth": 0,
              "ticks": ""
             }
            },
            "type": "scattermapbox"
           }
          ],
          "scatterpolar": [
           {
            "marker": {
             "colorbar": {
              "outlinewidth": 0,
              "ticks": ""
             }
            },
            "type": "scatterpolar"
           }
          ],
          "scatterpolargl": [
           {
            "marker": {
             "colorbar": {
              "outlinewidth": 0,
              "ticks": ""
             }
            },
            "type": "scatterpolargl"
           }
          ],
          "scatterternary": [
           {
            "marker": {
             "colorbar": {
              "outlinewidth": 0,
              "ticks": ""
             }
            },
            "type": "scatterternary"
           }
          ],
          "surface": [
           {
            "colorbar": {
             "outlinewidth": 0,
             "ticks": ""
            },
            "colorscale": [
             [
              0,
              "#0d0887"
             ],
             [
              0.1111111111111111,
              "#46039f"
             ],
             [
              0.2222222222222222,
              "#7201a8"
             ],
             [
              0.3333333333333333,
              "#9c179e"
             ],
             [
              0.4444444444444444,
              "#bd3786"
             ],
             [
              0.5555555555555556,
              "#d8576b"
             ],
             [
              0.6666666666666666,
              "#ed7953"
             ],
             [
              0.7777777777777778,
              "#fb9f3a"
             ],
             [
              0.8888888888888888,
              "#fdca26"
             ],
             [
              1,
              "#f0f921"
             ]
            ],
            "type": "surface"
           }
          ],
          "table": [
           {
            "cells": {
             "fill": {
              "color": "#EBF0F8"
             },
             "line": {
              "color": "white"
             }
            },
            "header": {
             "fill": {
              "color": "#C8D4E3"
             },
             "line": {
              "color": "white"
             }
            },
            "type": "table"
           }
          ]
         },
         "layout": {
          "annotationdefaults": {
           "arrowcolor": "#2a3f5f",
           "arrowhead": 0,
           "arrowwidth": 1
          },
          "autotypenumbers": "strict",
          "coloraxis": {
           "colorbar": {
            "outlinewidth": 0,
            "ticks": ""
           }
          },
          "colorscale": {
           "diverging": [
            [
             0,
             "#8e0152"
            ],
            [
             0.1,
             "#c51b7d"
            ],
            [
             0.2,
             "#de77ae"
            ],
            [
             0.3,
             "#f1b6da"
            ],
            [
             0.4,
             "#fde0ef"
            ],
            [
             0.5,
             "#f7f7f7"
            ],
            [
             0.6,
             "#e6f5d0"
            ],
            [
             0.7,
             "#b8e186"
            ],
            [
             0.8,
             "#7fbc41"
            ],
            [
             0.9,
             "#4d9221"
            ],
            [
             1,
             "#276419"
            ]
           ],
           "sequential": [
            [
             0,
             "#0d0887"
            ],
            [
             0.1111111111111111,
             "#46039f"
            ],
            [
             0.2222222222222222,
             "#7201a8"
            ],
            [
             0.3333333333333333,
             "#9c179e"
            ],
            [
             0.4444444444444444,
             "#bd3786"
            ],
            [
             0.5555555555555556,
             "#d8576b"
            ],
            [
             0.6666666666666666,
             "#ed7953"
            ],
            [
             0.7777777777777778,
             "#fb9f3a"
            ],
            [
             0.8888888888888888,
             "#fdca26"
            ],
            [
             1,
             "#f0f921"
            ]
           ],
           "sequentialminus": [
            [
             0,
             "#0d0887"
            ],
            [
             0.1111111111111111,
             "#46039f"
            ],
            [
             0.2222222222222222,
             "#7201a8"
            ],
            [
             0.3333333333333333,
             "#9c179e"
            ],
            [
             0.4444444444444444,
             "#bd3786"
            ],
            [
             0.5555555555555556,
             "#d8576b"
            ],
            [
             0.6666666666666666,
             "#ed7953"
            ],
            [
             0.7777777777777778,
             "#fb9f3a"
            ],
            [
             0.8888888888888888,
             "#fdca26"
            ],
            [
             1,
             "#f0f921"
            ]
           ]
          },
          "colorway": [
           "#636efa",
           "#EF553B",
           "#00cc96",
           "#ab63fa",
           "#FFA15A",
           "#19d3f3",
           "#FF6692",
           "#B6E880",
           "#FF97FF",
           "#FECB52"
          ],
          "font": {
           "color": "#2a3f5f"
          },
          "geo": {
           "bgcolor": "white",
           "lakecolor": "white",
           "landcolor": "white",
           "showlakes": true,
           "showland": true,
           "subunitcolor": "#C8D4E3"
          },
          "hoverlabel": {
           "align": "left"
          },
          "hovermode": "closest",
          "mapbox": {
           "style": "light"
          },
          "paper_bgcolor": "white",
          "plot_bgcolor": "white",
          "polar": {
           "angularaxis": {
            "gridcolor": "#EBF0F8",
            "linecolor": "#EBF0F8",
            "ticks": ""
           },
           "bgcolor": "white",
           "radialaxis": {
            "gridcolor": "#EBF0F8",
            "linecolor": "#EBF0F8",
            "ticks": ""
           }
          },
          "scene": {
           "xaxis": {
            "backgroundcolor": "white",
            "gridcolor": "#DFE8F3",
            "gridwidth": 2,
            "linecolor": "#EBF0F8",
            "showbackground": true,
            "ticks": "",
            "zerolinecolor": "#EBF0F8"
           },
           "yaxis": {
            "backgroundcolor": "white",
            "gridcolor": "#DFE8F3",
            "gridwidth": 2,
            "linecolor": "#EBF0F8",
            "showbackground": true,
            "ticks": "",
            "zerolinecolor": "#EBF0F8"
           },
           "zaxis": {
            "backgroundcolor": "white",
            "gridcolor": "#DFE8F3",
            "gridwidth": 2,
            "linecolor": "#EBF0F8",
            "showbackground": true,
            "ticks": "",
            "zerolinecolor": "#EBF0F8"
           }
          },
          "shapedefaults": {
           "line": {
            "color": "#2a3f5f"
           }
          },
          "ternary": {
           "aaxis": {
            "gridcolor": "#DFE8F3",
            "linecolor": "#A2B1C6",
            "ticks": ""
           },
           "baxis": {
            "gridcolor": "#DFE8F3",
            "linecolor": "#A2B1C6",
            "ticks": ""
           },
           "bgcolor": "white",
           "caxis": {
            "gridcolor": "#DFE8F3",
            "linecolor": "#A2B1C6",
            "ticks": ""
           }
          },
          "title": {
           "x": 0.05
          },
          "xaxis": {
           "automargin": true,
           "gridcolor": "#EBF0F8",
           "linecolor": "#EBF0F8",
           "ticks": "",
           "title": {
            "standoff": 15
           },
           "zerolinecolor": "#EBF0F8",
           "zerolinewidth": 2
          },
          "yaxis": {
           "automargin": true,
           "gridcolor": "#EBF0F8",
           "linecolor": "#EBF0F8",
           "ticks": "",
           "title": {
            "standoff": 15
           },
           "zerolinecolor": "#EBF0F8",
           "zerolinewidth": 2
          }
         }
        },
        "title": {
         "font": {
          "color": "Black",
          "size": 22
         },
         "text": "<b>Hierarchical Clustering",
         "x": 0.5,
         "xanchor": "center",
         "yanchor": "top"
        },
        "width": 1000,
        "xaxis": {
         "mirror": "allticks",
         "rangemode": "tozero",
         "showgrid": false,
         "showline": true,
         "showticklabels": true,
         "ticks": "outside",
         "type": "linear",
         "zeroline": false
        },
        "yaxis": {
         "mirror": "allticks",
         "range": [
          -110,
          0
         ],
         "rangemode": "tozero",
         "showgrid": false,
         "showline": true,
         "showticklabels": true,
         "tickmode": "array",
         "ticks": "outside",
         "ticktext": [
          "10_s1 gard_right wheels_pts",
          "9_rights_england_ramblers",
          "8_toll roads_layer_macadam",
          "2_water_duluth_trails",
          "3_streetcars_bridge_light r...",
          "0_used_pedestrian_sign",
          "5_transport_prt_ring",
          "1_safety_standard_lights",
          "7_suv_articles_july 2008",
          "4_airbag_pedestrians_coverage",
          "6_acda_selfdriving_vehicles"
         ],
         "tickvals": [
          -5,
          -15,
          -25,
          -35,
          -45,
          -55,
          -65,
          -75,
          -85,
          -95,
          -105
         ],
         "type": "linear",
         "zeroline": false
        }
       }
      },
      "text/html": [
       "<div>                            <div id=\"228f0ea6-0b47-42b3-87f8-f398ce82e5f8\" class=\"plotly-graph-div\" style=\"height:365px; width:1000px;\"></div>            <script type=\"text/javascript\">                require([\"plotly\"], function(Plotly) {                    window.PLOTLYENV=window.PLOTLYENV || {};                                    if (document.getElementById(\"228f0ea6-0b47-42b3-87f8-f398ce82e5f8\")) {                    Plotly.newPlot(                        \"228f0ea6-0b47-42b3-87f8-f398ce82e5f8\",                        [{\"hoverinfo\":\"text\",\"marker\":{\"color\":\"rgb(0,116,217)\"},\"mode\":\"lines\",\"text\":[\"toll roads_layer_macadam_tar_scales\",\"\",\"\",\"rights_england_ramblers_definitive_ashanti\"],\"x\":[0.0,1.369875551275053,1.369875551275053,0.0],\"xaxis\":\"x\",\"y\":[-15.0,-15.0,-25.0,-25.0],\"yaxis\":\"y\",\"type\":\"scatter\"},{\"hoverinfo\":\"text\",\"marker\":{\"color\":\"rgb(0,116,217)\"},\"mode\":\"lines\",\"text\":[\"s1 gard_right wheels_pts_bernoullis principle_object greater\",\"\",\"\",\"rights way_england_toll roads_footpath_ashanti\"],\"x\":[0.0,1.4009077427613879,1.4009077427613879,1.369875551275053],\"xaxis\":\"x\",\"y\":[-5.0,-5.0,-20.0,-20.0],\"yaxis\":\"y\",\"type\":\"scatter\"},{\"hoverinfo\":\"text\",\"marker\":{\"color\":\"rgb(0,116,217)\"},\"mode\":\"lines\",\"text\":[\"water_duluth_trails_built_tanana\",\"\",\"\",\"streetcars_bridge_light rail_new_tram\"],\"x\":[0.0,1.2457764537207028,1.2457764537207028,0.0],\"xaxis\":\"x\",\"y\":[-35.0,-35.0,-45.0,-45.0],\"yaxis\":\"y\",\"type\":\"scatter\"},{\"hoverinfo\":\"text\",\"marker\":{\"color\":\"rgb(0,116,217)\"},\"mode\":\"lines\",\"text\":[\"transport_prt_ring_cities_frontage roads\",\"\",\"\",\"safety_standard_lights_available_volvo\"],\"x\":[0.0,1.222158587472321,1.222158587472321,0.0],\"xaxis\":\"x\",\"y\":[-65.0,-65.0,-75.0,-75.0],\"yaxis\":\"y\",\"type\":\"scatter\"},{\"hoverinfo\":\"text\",\"marker\":{\"color\":\"rgb(0,116,217)\"},\"mode\":\"lines\",\"text\":[\"used_pedestrian_sign_roads_limit\",\"\",\"\",\"safety_rear_transport_standard_lights\"],\"x\":[0.0,1.2257174134963003,1.2257174134963003,1.222158587472321],\"xaxis\":\"x\",\"y\":[-55.0,-55.0,-70.0,-70.0],\"yaxis\":\"y\",\"type\":\"scatter\"},{\"hoverinfo\":\"text\",\"marker\":{\"color\":\"rgb(0,116,217)\"},\"mode\":\"lines\",\"text\":[\"used_safety_new_signs_car\",\"\",\"\",\"suv_articles_july 2008_bridges_university\"],\"x\":[1.2257174134963003,1.3167550014701896,1.3167550014701896,0.0],\"xaxis\":\"x\",\"y\":[-62.5,-62.5,-85.0,-85.0],\"yaxis\":\"y\",\"type\":\"scatter\"},{\"hoverinfo\":\"text\",\"marker\":{\"color\":\"rgb(0,116,217)\"},\"mode\":\"lines\",\"text\":[\"new_transit_station_streetcars_avenue\",\"\",\"\",\"used_safety_drivers_states_signs\"],\"x\":[1.2457764537207028,1.325332308308247,1.325332308308247,1.3167550014701896],\"xaxis\":\"x\",\"y\":[-40.0,-40.0,-73.75,-73.75],\"yaxis\":\"y\",\"type\":\"scatter\"},{\"hoverinfo\":\"text\",\"marker\":{\"color\":\"rgb(0,116,217)\"},\"mode\":\"lines\",\"text\":[\"airbag_pedestrians_coverage_electric_automated\",\"\",\"\",\"acda_selfdriving_vehicles_safe speed_rule\"],\"x\":[0.0,1.0643060435917,1.0643060435917,0.0],\"xaxis\":\"x\",\"y\":[-95.0,-95.0,-105.0,-105.0],\"yaxis\":\"y\",\"type\":\"scatter\"},{\"hoverinfo\":\"text\",\"marker\":{\"color\":\"rgb(0,116,217)\"},\"mode\":\"lines\",\"text\":[\"used_new_bridge_speed_pedestrian\",\"\",\"\",\"vehicles_airbag_automated_selfdriving_level\"],\"x\":[1.325332308308247,1.4426456631823201,1.4426456631823201,1.0643060435917],\"xaxis\":\"x\",\"y\":[-56.875,-56.875,-100.0,-100.0],\"yaxis\":\"y\",\"type\":\"scatter\"},{\"hoverinfo\":\"text\",\"marker\":{\"color\":\"rgb(0,116,217)\"},\"mode\":\"lines\",\"text\":[\"rights_toll roads_footpath_ashanti_layer\",\"\",\"\",\"used_new_safety_pedestrian_roads\"],\"x\":[1.4009077427613879,1.5138702937940394,1.5138702937940394,1.4426456631823201],\"xaxis\":\"x\",\"y\":[-12.5,-12.5,-78.4375,-78.4375],\"yaxis\":\"y\",\"type\":\"scatter\"},{\"hoverinfo\":\"text\",\"hovertext\":[\"used_safety_new_signs_car\",\"new_transit_station_streetcars_avenue\",\"used_new_bridge_speed_pedestrian\",\"rights_toll roads_footpath_ashanti_layer\"],\"marker\":{\"color\":\"black\"},\"mode\":\"markers\",\"showlegend\":false,\"x\":[1.2257174134963003,1.2457764537207028,1.325332308308247,1.4009077427613879],\"y\":[-62.5,-40.0,-56.875,-12.5],\"type\":\"scatter\"},{\"hoverinfo\":\"text\",\"hovertext\":[\"rights way_england_toll roads_footpath_ashanti\",\"safety_rear_transport_standard_lights\",\"used_safety_drivers_states_signs\",\"vehicles_airbag_automated_selfdriving_level\",\"used_new_safety_pedestrian_roads\"],\"marker\":{\"color\":\"black\"},\"mode\":\"markers\",\"showlegend\":false,\"x\":[1.369875551275053,1.222158587472321,1.3167550014701896,1.0643060435917,1.4426456631823201],\"y\":[-20.0,-70.0,-73.75,-100.0,-78.4375],\"type\":\"scatter\"}],                        {\"autosize\":false,\"height\":365,\"hovermode\":\"closest\",\"showlegend\":false,\"width\":1000,\"xaxis\":{\"mirror\":\"allticks\",\"rangemode\":\"tozero\",\"showgrid\":false,\"showline\":true,\"showticklabels\":true,\"ticks\":\"outside\",\"type\":\"linear\",\"zeroline\":false},\"yaxis\":{\"mirror\":\"allticks\",\"rangemode\":\"tozero\",\"showgrid\":false,\"showline\":true,\"showticklabels\":true,\"tickmode\":\"array\",\"ticks\":\"outside\",\"ticktext\":[\"10_s1 gard_right wheels_pts\",\"9_rights_england_ramblers\",\"8_toll roads_layer_macadam\",\"2_water_duluth_trails\",\"3_streetcars_bridge_light r...\",\"0_used_pedestrian_sign\",\"5_transport_prt_ring\",\"1_safety_standard_lights\",\"7_suv_articles_july 2008\",\"4_airbag_pedestrians_coverage\",\"6_acda_selfdriving_vehicles\"],\"tickvals\":[-5.0,-15.0,-25.0,-35.0,-45.0,-55.0,-65.0,-75.0,-85.0,-95.0,-105.0],\"type\":\"linear\",\"zeroline\":false,\"range\":[-110.0,0.0]},\"template\":{\"data\":{\"barpolar\":[{\"marker\":{\"line\":{\"color\":\"white\",\"width\":0.5},\"pattern\":{\"fillmode\":\"overlay\",\"size\":10,\"solidity\":0.2}},\"type\":\"barpolar\"}],\"bar\":[{\"error_x\":{\"color\":\"#2a3f5f\"},\"error_y\":{\"color\":\"#2a3f5f\"},\"marker\":{\"line\":{\"color\":\"white\",\"width\":0.5},\"pattern\":{\"fillmode\":\"overlay\",\"size\":10,\"solidity\":0.2}},\"type\":\"bar\"}],\"carpet\":[{\"aaxis\":{\"endlinecolor\":\"#2a3f5f\",\"gridcolor\":\"#C8D4E3\",\"linecolor\":\"#C8D4E3\",\"minorgridcolor\":\"#C8D4E3\",\"startlinecolor\":\"#2a3f5f\"},\"baxis\":{\"endlinecolor\":\"#2a3f5f\",\"gridcolor\":\"#C8D4E3\",\"linecolor\":\"#C8D4E3\",\"minorgridcolor\":\"#C8D4E3\",\"startlinecolor\":\"#2a3f5f\"},\"type\":\"carpet\"}],\"choropleth\":[{\"colorbar\":{\"outlinewidth\":0,\"ticks\":\"\"},\"type\":\"choropleth\"}],\"contourcarpet\":[{\"colorbar\":{\"outlinewidth\":0,\"ticks\":\"\"},\"type\":\"contourcarpet\"}],\"contour\":[{\"colorbar\":{\"outlinewidth\":0,\"ticks\":\"\"},\"colorscale\":[[0.0,\"#0d0887\"],[0.1111111111111111,\"#46039f\"],[0.2222222222222222,\"#7201a8\"],[0.3333333333333333,\"#9c179e\"],[0.4444444444444444,\"#bd3786\"],[0.5555555555555556,\"#d8576b\"],[0.6666666666666666,\"#ed7953\"],[0.7777777777777778,\"#fb9f3a\"],[0.8888888888888888,\"#fdca26\"],[1.0,\"#f0f921\"]],\"type\":\"contour\"}],\"heatmapgl\":[{\"colorbar\":{\"outlinewidth\":0,\"ticks\":\"\"},\"colorscale\":[[0.0,\"#0d0887\"],[0.1111111111111111,\"#46039f\"],[0.2222222222222222,\"#7201a8\"],[0.3333333333333333,\"#9c179e\"],[0.4444444444444444,\"#bd3786\"],[0.5555555555555556,\"#d8576b\"],[0.6666666666666666,\"#ed7953\"],[0.7777777777777778,\"#fb9f3a\"],[0.8888888888888888,\"#fdca26\"],[1.0,\"#f0f921\"]],\"type\":\"heatmapgl\"}],\"heatmap\":[{\"colorbar\":{\"outlinewidth\":0,\"ticks\":\"\"},\"colorscale\":[[0.0,\"#0d0887\"],[0.1111111111111111,\"#46039f\"],[0.2222222222222222,\"#7201a8\"],[0.3333333333333333,\"#9c179e\"],[0.4444444444444444,\"#bd3786\"],[0.5555555555555556,\"#d8576b\"],[0.6666666666666666,\"#ed7953\"],[0.7777777777777778,\"#fb9f3a\"],[0.8888888888888888,\"#fdca26\"],[1.0,\"#f0f921\"]],\"type\":\"heatmap\"}],\"histogram2dcontour\":[{\"colorbar\":{\"outlinewidth\":0,\"ticks\":\"\"},\"colorscale\":[[0.0,\"#0d0887\"],[0.1111111111111111,\"#46039f\"],[0.2222222222222222,\"#7201a8\"],[0.3333333333333333,\"#9c179e\"],[0.4444444444444444,\"#bd3786\"],[0.5555555555555556,\"#d8576b\"],[0.6666666666666666,\"#ed7953\"],[0.7777777777777778,\"#fb9f3a\"],[0.8888888888888888,\"#fdca26\"],[1.0,\"#f0f921\"]],\"type\":\"histogram2dcontour\"}],\"histogram2d\":[{\"colorbar\":{\"outlinewidth\":0,\"ticks\":\"\"},\"colorscale\":[[0.0,\"#0d0887\"],[0.1111111111111111,\"#46039f\"],[0.2222222222222222,\"#7201a8\"],[0.3333333333333333,\"#9c179e\"],[0.4444444444444444,\"#bd3786\"],[0.5555555555555556,\"#d8576b\"],[0.6666666666666666,\"#ed7953\"],[0.7777777777777778,\"#fb9f3a\"],[0.8888888888888888,\"#fdca26\"],[1.0,\"#f0f921\"]],\"type\":\"histogram2d\"}],\"histogram\":[{\"marker\":{\"pattern\":{\"fillmode\":\"overlay\",\"size\":10,\"solidity\":0.2}},\"type\":\"histogram\"}],\"mesh3d\":[{\"colorbar\":{\"outlinewidth\":0,\"ticks\":\"\"},\"type\":\"mesh3d\"}],\"parcoords\":[{\"line\":{\"colorbar\":{\"outlinewidth\":0,\"ticks\":\"\"}},\"type\":\"parcoords\"}],\"pie\":[{\"automargin\":true,\"type\":\"pie\"}],\"scatter3d\":[{\"line\":{\"colorbar\":{\"outlinewidth\":0,\"ticks\":\"\"}},\"marker\":{\"colorbar\":{\"outlinewidth\":0,\"ticks\":\"\"}},\"type\":\"scatter3d\"}],\"scattercarpet\":[{\"marker\":{\"colorbar\":{\"outlinewidth\":0,\"ticks\":\"\"}},\"type\":\"scattercarpet\"}],\"scattergeo\":[{\"marker\":{\"colorbar\":{\"outlinewidth\":0,\"ticks\":\"\"}},\"type\":\"scattergeo\"}],\"scattergl\":[{\"marker\":{\"colorbar\":{\"outlinewidth\":0,\"ticks\":\"\"}},\"type\":\"scattergl\"}],\"scattermapbox\":[{\"marker\":{\"colorbar\":{\"outlinewidth\":0,\"ticks\":\"\"}},\"type\":\"scattermapbox\"}],\"scatterpolargl\":[{\"marker\":{\"colorbar\":{\"outlinewidth\":0,\"ticks\":\"\"}},\"type\":\"scatterpolargl\"}],\"scatterpolar\":[{\"marker\":{\"colorbar\":{\"outlinewidth\":0,\"ticks\":\"\"}},\"type\":\"scatterpolar\"}],\"scatter\":[{\"fillpattern\":{\"fillmode\":\"overlay\",\"size\":10,\"solidity\":0.2},\"type\":\"scatter\"}],\"scatterternary\":[{\"marker\":{\"colorbar\":{\"outlinewidth\":0,\"ticks\":\"\"}},\"type\":\"scatterternary\"}],\"surface\":[{\"colorbar\":{\"outlinewidth\":0,\"ticks\":\"\"},\"colorscale\":[[0.0,\"#0d0887\"],[0.1111111111111111,\"#46039f\"],[0.2222222222222222,\"#7201a8\"],[0.3333333333333333,\"#9c179e\"],[0.4444444444444444,\"#bd3786\"],[0.5555555555555556,\"#d8576b\"],[0.6666666666666666,\"#ed7953\"],[0.7777777777777778,\"#fb9f3a\"],[0.8888888888888888,\"#fdca26\"],[1.0,\"#f0f921\"]],\"type\":\"surface\"}],\"table\":[{\"cells\":{\"fill\":{\"color\":\"#EBF0F8\"},\"line\":{\"color\":\"white\"}},\"header\":{\"fill\":{\"color\":\"#C8D4E3\"},\"line\":{\"color\":\"white\"}},\"type\":\"table\"}]},\"layout\":{\"annotationdefaults\":{\"arrowcolor\":\"#2a3f5f\",\"arrowhead\":0,\"arrowwidth\":1},\"autotypenumbers\":\"strict\",\"coloraxis\":{\"colorbar\":{\"outlinewidth\":0,\"ticks\":\"\"}},\"colorscale\":{\"diverging\":[[0,\"#8e0152\"],[0.1,\"#c51b7d\"],[0.2,\"#de77ae\"],[0.3,\"#f1b6da\"],[0.4,\"#fde0ef\"],[0.5,\"#f7f7f7\"],[0.6,\"#e6f5d0\"],[0.7,\"#b8e186\"],[0.8,\"#7fbc41\"],[0.9,\"#4d9221\"],[1,\"#276419\"]],\"sequential\":[[0.0,\"#0d0887\"],[0.1111111111111111,\"#46039f\"],[0.2222222222222222,\"#7201a8\"],[0.3333333333333333,\"#9c179e\"],[0.4444444444444444,\"#bd3786\"],[0.5555555555555556,\"#d8576b\"],[0.6666666666666666,\"#ed7953\"],[0.7777777777777778,\"#fb9f3a\"],[0.8888888888888888,\"#fdca26\"],[1.0,\"#f0f921\"]],\"sequentialminus\":[[0.0,\"#0d0887\"],[0.1111111111111111,\"#46039f\"],[0.2222222222222222,\"#7201a8\"],[0.3333333333333333,\"#9c179e\"],[0.4444444444444444,\"#bd3786\"],[0.5555555555555556,\"#d8576b\"],[0.6666666666666666,\"#ed7953\"],[0.7777777777777778,\"#fb9f3a\"],[0.8888888888888888,\"#fdca26\"],[1.0,\"#f0f921\"]]},\"colorway\":[\"#636efa\",\"#EF553B\",\"#00cc96\",\"#ab63fa\",\"#FFA15A\",\"#19d3f3\",\"#FF6692\",\"#B6E880\",\"#FF97FF\",\"#FECB52\"],\"font\":{\"color\":\"#2a3f5f\"},\"geo\":{\"bgcolor\":\"white\",\"lakecolor\":\"white\",\"landcolor\":\"white\",\"showlakes\":true,\"showland\":true,\"subunitcolor\":\"#C8D4E3\"},\"hoverlabel\":{\"align\":\"left\"},\"hovermode\":\"closest\",\"mapbox\":{\"style\":\"light\"},\"paper_bgcolor\":\"white\",\"plot_bgcolor\":\"white\",\"polar\":{\"angularaxis\":{\"gridcolor\":\"#EBF0F8\",\"linecolor\":\"#EBF0F8\",\"ticks\":\"\"},\"bgcolor\":\"white\",\"radialaxis\":{\"gridcolor\":\"#EBF0F8\",\"linecolor\":\"#EBF0F8\",\"ticks\":\"\"}},\"scene\":{\"xaxis\":{\"backgroundcolor\":\"white\",\"gridcolor\":\"#DFE8F3\",\"gridwidth\":2,\"linecolor\":\"#EBF0F8\",\"showbackground\":true,\"ticks\":\"\",\"zerolinecolor\":\"#EBF0F8\"},\"yaxis\":{\"backgroundcolor\":\"white\",\"gridcolor\":\"#DFE8F3\",\"gridwidth\":2,\"linecolor\":\"#EBF0F8\",\"showbackground\":true,\"ticks\":\"\",\"zerolinecolor\":\"#EBF0F8\"},\"zaxis\":{\"backgroundcolor\":\"white\",\"gridcolor\":\"#DFE8F3\",\"gridwidth\":2,\"linecolor\":\"#EBF0F8\",\"showbackground\":true,\"ticks\":\"\",\"zerolinecolor\":\"#EBF0F8\"}},\"shapedefaults\":{\"line\":{\"color\":\"#2a3f5f\"}},\"ternary\":{\"aaxis\":{\"gridcolor\":\"#DFE8F3\",\"linecolor\":\"#A2B1C6\",\"ticks\":\"\"},\"baxis\":{\"gridcolor\":\"#DFE8F3\",\"linecolor\":\"#A2B1C6\",\"ticks\":\"\"},\"bgcolor\":\"white\",\"caxis\":{\"gridcolor\":\"#DFE8F3\",\"linecolor\":\"#A2B1C6\",\"ticks\":\"\"}},\"title\":{\"x\":0.05},\"xaxis\":{\"automargin\":true,\"gridcolor\":\"#EBF0F8\",\"linecolor\":\"#EBF0F8\",\"ticks\":\"\",\"title\":{\"standoff\":15},\"zerolinecolor\":\"#EBF0F8\",\"zerolinewidth\":2},\"yaxis\":{\"automargin\":true,\"gridcolor\":\"#EBF0F8\",\"linecolor\":\"#EBF0F8\",\"ticks\":\"\",\"title\":{\"standoff\":15},\"zerolinecolor\":\"#EBF0F8\",\"zerolinewidth\":2}}},\"title\":{\"font\":{\"size\":22,\"color\":\"Black\"},\"text\":\"<b>Hierarchical Clustering\",\"x\":0.5,\"xanchor\":\"center\",\"yanchor\":\"top\"},\"hoverlabel\":{\"font\":{\"size\":16,\"family\":\"Rockwell\"},\"bgcolor\":\"white\"},\"plot_bgcolor\":\"#ECEFF1\"},                        {\"responsive\": true}                    ).then(function(){\n",
       "                            \n",
       "var gd = document.getElementById('228f0ea6-0b47-42b3-87f8-f398ce82e5f8');\n",
       "var x = new MutationObserver(function (mutations, observer) {{\n",
       "        var display = window.getComputedStyle(gd).display;\n",
       "        if (!display || display === 'none') {{\n",
       "            console.log([gd, 'removed!']);\n",
       "            Plotly.purge(gd);\n",
       "            observer.disconnect();\n",
       "        }}\n",
       "}});\n",
       "\n",
       "// Listen for the removal of the full notebook cells\n",
       "var notebookContainer = gd.closest('#notebook-container');\n",
       "if (notebookContainer) {{\n",
       "    x.observe(notebookContainer, {childList: true});\n",
       "}}\n",
       "\n",
       "// Listen for the clearing of the current output cell\n",
       "var outputEl = gd.closest('.output');\n",
       "if (outputEl) {{\n",
       "    x.observe(outputEl, {childList: true});\n",
       "}}\n",
       "\n",
       "                        })                };                });            </script>        </div>"
      ]
     },
     "metadata": {},
     "output_type": "display_data"
    }
   ],
   "source": [
    "topic_model.visualize_hierarchy(hierarchical_topics=hierarchical_topics)\n"
   ]
  },
  {
   "cell_type": "code",
   "execution_count": 488,
   "id": "aaa13132",
   "metadata": {},
   "outputs": [
    {
     "name": "stdout",
     "output_type": "stream",
     "text": [
      ".\n",
      "├─rights_toll roads_footpath_ashanti_layer\n",
      "│    ├─■──s1 gard_right wheels_pts_bernoullis principle_object greater ── Topic: 10\n",
      "│    └─rights way_england_toll roads_footpath_ashanti\n",
      "│         ├─■──toll roads_layer_macadam_tar_scales ── Topic: 8\n",
      "│         └─■──rights_england_ramblers_definitive_ashanti ── Topic: 9\n",
      "└─used_new_safety_pedestrian_roads\n",
      "     ├─used_new_bridge_speed_pedestrian\n",
      "     │    ├─new_transit_station_streetcars_avenue\n",
      "     │    │    ├─■──water_duluth_trails_built_tanana ── Topic: 2\n",
      "     │    │    └─■──streetcars_bridge_light rail_new_tram ── Topic: 3\n",
      "     │    └─used_safety_drivers_states_signs\n",
      "     │         ├─used_safety_new_signs_car\n",
      "     │         │    ├─■──used_pedestrian_sign_roads_limit ── Topic: 0\n",
      "     │         │    └─safety_rear_transport_standard_lights\n",
      "     │         │         ├─■──transport_prt_ring_cities_frontage roads ── Topic: 5\n",
      "     │         │         └─■──safety_standard_lights_available_volvo ── Topic: 1\n",
      "     │         └─■──suv_articles_july 2008_bridges_university ── Topic: 7\n",
      "     └─vehicles_airbag_automated_selfdriving_level\n",
      "          ├─■──airbag_pedestrians_coverage_electric_automated ── Topic: 4\n",
      "          └─■──acda_selfdriving_vehicles_safe speed_rule ── Topic: 6\n",
      "\n"
     ]
    }
   ],
   "source": [
    "tree = topic_model.get_topic_tree(hierarchical_topics)\n",
    "print(tree)"
   ]
  },
  {
   "cell_type": "markdown",
   "id": "0fddf343",
   "metadata": {},
   "source": [
    "## Guided Topic Modeling"
   ]
  },
  {
   "cell_type": "code",
   "execution_count": 463,
   "id": "5f50c3b7",
   "metadata": {},
   "outputs": [],
   "source": [
    "# get cluster seed\n",
    "cluster_seed = list(set(list(dict_of_idx[10].values()) + ['pedestrian']))"
   ]
  },
  {
   "cell_type": "code",
   "execution_count": 464,
   "id": "b971ee4c",
   "metadata": {},
   "outputs": [],
   "source": [
    "vectorizer_model = CountVectorizer(stop_words=\"english\", ngram_range=(1, 3))\n",
    "topic_model = BERTopic(vectorizer_model=vectorizer_model, diversity=0.8, \n",
    "                       seed_topic_list=[cluster_seed], nr_topics='auto')\n",
    "topics, probs = topic_model.fit_transform(cluster_data[10]['data'])"
   ]
  },
  {
   "cell_type": "code",
   "execution_count": 465,
   "id": "fbc78093",
   "metadata": {},
   "outputs": [
    {
     "data": {
      "text/html": [
       "<div>\n",
       "<style scoped>\n",
       "    .dataframe tbody tr th:only-of-type {\n",
       "        vertical-align: middle;\n",
       "    }\n",
       "\n",
       "    .dataframe tbody tr th {\n",
       "        vertical-align: top;\n",
       "    }\n",
       "\n",
       "    .dataframe thead th {\n",
       "        text-align: right;\n",
       "    }\n",
       "</style>\n",
       "<table border=\"1\" class=\"dataframe\">\n",
       "  <thead>\n",
       "    <tr style=\"text-align: right;\">\n",
       "      <th></th>\n",
       "      <th>Topic</th>\n",
       "      <th>Count</th>\n",
       "      <th>Name</th>\n",
       "    </tr>\n",
       "  </thead>\n",
       "  <tbody>\n",
       "    <tr>\n",
       "      <th>0</th>\n",
       "      <td>-1</td>\n",
       "      <td>1424</td>\n",
       "      <td>-1_traffic_used_new_park</td>\n",
       "    </tr>\n",
       "    <tr>\n",
       "      <th>1</th>\n",
       "      <td>0</td>\n",
       "      <td>825</td>\n",
       "      <td>0_streetcar_new_used_route</td>\n",
       "    </tr>\n",
       "    <tr>\n",
       "      <th>2</th>\n",
       "      <td>1</td>\n",
       "      <td>213</td>\n",
       "      <td>1_left_roundabouts_signpost_curve</td>\n",
       "    </tr>\n",
       "    <tr>\n",
       "      <th>3</th>\n",
       "      <td>2</td>\n",
       "      <td>157</td>\n",
       "      <td>2_selfdriving_technology_crash_sae</td>\n",
       "    </tr>\n",
       "    <tr>\n",
       "      <th>4</th>\n",
       "      <td>3</td>\n",
       "      <td>101</td>\n",
       "      <td>3_trim_ford_features_model year</td>\n",
       "    </tr>\n",
       "    <tr>\n",
       "      <th>...</th>\n",
       "      <td>...</td>\n",
       "      <td>...</td>\n",
       "      <td>...</td>\n",
       "    </tr>\n",
       "    <tr>\n",
       "      <th>70</th>\n",
       "      <td>69</td>\n",
       "      <td>12</td>\n",
       "      <td>69_notificationstolen_unlockclimate controls_c...</td>\n",
       "    </tr>\n",
       "    <tr>\n",
       "      <th>71</th>\n",
       "      <td>70</td>\n",
       "      <td>11</td>\n",
       "      <td>70_aheadroad closed_3kmcontinues mcontinues_20...</td>\n",
       "    </tr>\n",
       "    <tr>\n",
       "      <th>72</th>\n",
       "      <td>71</td>\n",
       "      <td>11</td>\n",
       "      <td>71_terminal_gates_yvr_domestic</td>\n",
       "    </tr>\n",
       "    <tr>\n",
       "      <th>73</th>\n",
       "      <td>72</td>\n",
       "      <td>10</td>\n",
       "      <td>72_numberroute_map_guiden_lane</td>\n",
       "    </tr>\n",
       "    <tr>\n",
       "      <th>74</th>\n",
       "      <td>73</td>\n",
       "      <td>10</td>\n",
       "      <td>73_distracted driving_texting_cell_handsfree</td>\n",
       "    </tr>\n",
       "  </tbody>\n",
       "</table>\n",
       "<p>75 rows × 3 columns</p>\n",
       "</div>"
      ],
      "text/plain": [
       "    Topic  Count                                               Name\n",
       "0      -1   1424                           -1_traffic_used_new_park\n",
       "1       0    825                         0_streetcar_new_used_route\n",
       "2       1    213                  1_left_roundabouts_signpost_curve\n",
       "3       2    157                 2_selfdriving_technology_crash_sae\n",
       "4       3    101                    3_trim_ford_features_model year\n",
       "..    ...    ...                                                ...\n",
       "70     69     12  69_notificationstolen_unlockclimate controls_c...\n",
       "71     70     11  70_aheadroad closed_3kmcontinues mcontinues_20...\n",
       "72     71     11                     71_terminal_gates_yvr_domestic\n",
       "73     72     10                     72_numberroute_map_guiden_lane\n",
       "74     73     10       73_distracted driving_texting_cell_handsfree\n",
       "\n",
       "[75 rows x 3 columns]"
      ]
     },
     "execution_count": 465,
     "metadata": {},
     "output_type": "execute_result"
    }
   ],
   "source": [
    "topic_model.get_topic_info()"
   ]
  },
  {
   "cell_type": "code",
   "execution_count": 466,
   "id": "07a91ae2",
   "metadata": {},
   "outputs": [
    {
     "name": "stdout",
     "output_type": "stream",
     "text": [
      "[14, 60, 58, 28, 32, 31, 3, 42, 50, 30]\n"
     ]
    }
   ],
   "source": [
    "ped_similar_topics_a, ped_similarity_a = topic_model.find_topics(\"vehicle\", top_n=10)\n",
    "print(ped_similar_topics_a)"
   ]
  },
  {
   "cell_type": "code",
   "execution_count": 467,
   "id": "788e2566",
   "metadata": {
    "scrolled": false
   },
   "outputs": [
    {
     "name": "stdout",
     "output_type": "stream",
     "text": [
      "14\n",
      "['suvs', 'sold', 'singapore', 'unibody', 'cherokee', 'economy', 'fourwheel', 'compact', 'crossover', 'average']\n",
      "\n",
      "\n",
      "60\n",
      "['hybrid', 'warning', 'electric vehicles', 'pedestrians', 'combustion', 'prius', 'audible', 'cabin', 'blind', 'avas']\n",
      "\n",
      "\n",
      "58\n",
      "['vehicle road user', 'user category', 'road', 'specified', 'plate indicating vehicles', 'unexpected change', 'indicating place', 'indicating unexpected', 'indicating end', 'stopping parking']\n",
      "\n",
      "\n",
      "28\n",
      "['airbag', 'occupants', 'occupant', 'standard', 'deployment', 'impact', 'sensors', 'sodium', 'chrysler', 'autoliv']\n",
      "\n",
      "\n",
      "32\n",
      "['volvo cars', 'championship', 'swedish', 's60', 'geely', 'martikn', 'announced', 'world', 'manufacturer', 'safety']\n",
      "\n",
      "\n",
      "31\n",
      "['school buses', 'chassis', 'blue bird', 'student', 'introduced', 'fullsize', 'states', 'stop', 'diesel', 'wayne']\n",
      "\n",
      "\n",
      "3\n",
      "['trim', 'ford', 'features', 'model year', 'sclass', 'new', 'generation', 'suspension', 'xlt', 'offered']\n",
      "\n",
      "\n",
      "42\n",
      "['human', 'data', 'dummies', 'hybrid iii', 'good', 'crash test', 'safety', 'suvs', 'wiaman', 'impacts']\n",
      "\n",
      "\n",
      "50\n",
      "['bumpers', 'passenger', 'reducing likelihood', 'lifeguard', 'energy', 'crumple zones', 'requirements', 'rigid', 'underride', 'early']\n",
      "\n",
      "\n",
      "30\n",
      "['emissions', 'effects', 'car', 'tdm', 'average', 'congestion', 'cities', 'increase', 'significant', 'shipping']\n",
      "\n",
      "\n"
     ]
    }
   ],
   "source": [
    "for t in ped_similar_topics_a:\n",
    "    l = []\n",
    "    print(t)\n",
    "    for el in topic_model.get_topic(t):\n",
    "        l.append(el[0])\n",
    "    print(l)\n",
    "#     print(ped_auto_model_a.get_topic(t))\n",
    "    print('\\n')"
   ]
  },
  {
   "cell_type": "code",
   "execution_count": null,
   "id": "561cf323",
   "metadata": {},
   "outputs": [],
   "source": []
  },
  {
   "cell_type": "markdown",
   "id": "558c3d23",
   "metadata": {},
   "source": [
    "# KeyBert"
   ]
  },
  {
   "cell_type": "code",
   "execution_count": 491,
   "id": "9b57a309",
   "metadata": {},
   "outputs": [],
   "source": [
    "from keybert import KeyBERT"
   ]
  },
  {
   "cell_type": "code",
   "execution_count": 492,
   "id": "9d087463",
   "metadata": {},
   "outputs": [],
   "source": [
    "kw_model = KeyBERT()\n",
    "keywords = kw_model.extract_keywords(cluster_data[10]['data'])"
   ]
  },
  {
   "cell_type": "code",
   "execution_count": 493,
   "id": "2b99047d",
   "metadata": {},
   "outputs": [],
   "source": [
    "vocabulary = [k[0] for keyword in keywords for k in keyword]\n",
    "vocabulary = list(set(vocabulary))"
   ]
  },
  {
   "cell_type": "code",
   "execution_count": 494,
   "id": "e982ca93",
   "metadata": {},
   "outputs": [],
   "source": [
    "vectorizer_model = CountVectorizer(stop_words=\"english\", ngram_range=(1, 3), vocabulary=vocabulary)\n"
   ]
  },
  {
   "cell_type": "code",
   "execution_count": 495,
   "id": "cd3d5f27",
   "metadata": {},
   "outputs": [],
   "source": [
    "topic_model = BERTopic(vectorizer_model=vectorizer_model, diversity=0.8, \n",
    "                       nr_topics='auto')"
   ]
  },
  {
   "cell_type": "code",
   "execution_count": 496,
   "id": "92120434",
   "metadata": {},
   "outputs": [
    {
     "name": "stderr",
     "output_type": "stream",
     "text": [
      "/home/xtest/.conda/envs/reai/lib/python3.9/site-packages/bertopic/vectorizers/_ctfidf.py:69: RuntimeWarning:\n",
      "\n",
      "divide by zero encountered in divide\n",
      "\n",
      "/home/xtest/.conda/envs/reai/lib/python3.9/site-packages/bertopic/vectorizers/_ctfidf.py:69: RuntimeWarning:\n",
      "\n",
      "divide by zero encountered in divide\n",
      "\n"
     ]
    }
   ],
   "source": [
    "topics, probs = topic_model.fit_transform(docs)\n"
   ]
  },
  {
   "cell_type": "code",
   "execution_count": 497,
   "id": "a6bb987a",
   "metadata": {},
   "outputs": [
    {
     "data": {
      "text/html": [
       "<div>\n",
       "<style scoped>\n",
       "    .dataframe tbody tr th:only-of-type {\n",
       "        vertical-align: middle;\n",
       "    }\n",
       "\n",
       "    .dataframe tbody tr th {\n",
       "        vertical-align: top;\n",
       "    }\n",
       "\n",
       "    .dataframe thead th {\n",
       "        text-align: right;\n",
       "    }\n",
       "</style>\n",
       "<table border=\"1\" class=\"dataframe\">\n",
       "  <thead>\n",
       "    <tr style=\"text-align: right;\">\n",
       "      <th></th>\n",
       "      <th>Topic</th>\n",
       "      <th>Count</th>\n",
       "      <th>Name</th>\n",
       "    </tr>\n",
       "  </thead>\n",
       "  <tbody>\n",
       "    <tr>\n",
       "      <th>0</th>\n",
       "      <td>-1</td>\n",
       "      <td>3891</td>\n",
       "      <td>-1_new_park_used_pedestrian</td>\n",
       "    </tr>\n",
       "    <tr>\n",
       "      <th>1</th>\n",
       "      <td>0</td>\n",
       "      <td>8096</td>\n",
       "      <td>0_road_new_used_station</td>\n",
       "    </tr>\n",
       "    <tr>\n",
       "      <th>2</th>\n",
       "      <td>1</td>\n",
       "      <td>115</td>\n",
       "      <td>1_displaystyle_equilibrium_paradox_tfrac</td>\n",
       "    </tr>\n",
       "    <tr>\n",
       "      <th>3</th>\n",
       "      <td>2</td>\n",
       "      <td>52</td>\n",
       "      <td>2_emissions_reduce_cooling_policies</td>\n",
       "    </tr>\n",
       "    <tr>\n",
       "      <th>4</th>\n",
       "      <td>3</td>\n",
       "      <td>46</td>\n",
       "      <td>3_velocity_acda_formula_stop</td>\n",
       "    </tr>\n",
       "    <tr>\n",
       "      <th>5</th>\n",
       "      <td>4</td>\n",
       "      <td>33</td>\n",
       "      <td>4_coordinates_folkestedetcoordinates_34_dutch</td>\n",
       "    </tr>\n",
       "    <tr>\n",
       "      <th>6</th>\n",
       "      <td>5</td>\n",
       "      <td>28</td>\n",
       "      <td>5_airbag_crash_occupants_safety</td>\n",
       "    </tr>\n",
       "    <tr>\n",
       "      <th>7</th>\n",
       "      <td>6</td>\n",
       "      <td>27</td>\n",
       "      <td>6_disabilities_access_election_devices</td>\n",
       "    </tr>\n",
       "    <tr>\n",
       "      <th>8</th>\n",
       "      <td>7</td>\n",
       "      <td>26</td>\n",
       "      <td>7_markerstate_highway_marker_state</td>\n",
       "    </tr>\n",
       "    <tr>\n",
       "      <th>9</th>\n",
       "      <td>8</td>\n",
       "      <td>22</td>\n",
       "      <td>8_audi_tdi_optional_20</td>\n",
       "    </tr>\n",
       "    <tr>\n",
       "      <th>10</th>\n",
       "      <td>9</td>\n",
       "      <td>21</td>\n",
       "      <td>9____</td>\n",
       "    </tr>\n",
       "    <tr>\n",
       "      <th>11</th>\n",
       "      <td>10</td>\n",
       "      <td>19</td>\n",
       "      <td>10_wikimedia_related_footpaths_station</td>\n",
       "    </tr>\n",
       "    <tr>\n",
       "      <th>12</th>\n",
       "      <td>11</td>\n",
       "      <td>19</td>\n",
       "      <td>11_asphalt_used_deposits_patent</td>\n",
       "    </tr>\n",
       "    <tr>\n",
       "      <th>13</th>\n",
       "      <td>12</td>\n",
       "      <td>16</td>\n",
       "      <td>12_map_numberroute_seagull_vietnam</td>\n",
       "    </tr>\n",
       "    <tr>\n",
       "      <th>14</th>\n",
       "      <td>13</td>\n",
       "      <td>15</td>\n",
       "      <td>13_chevron_bend_rightsharp_marker</td>\n",
       "    </tr>\n",
       "    <tr>\n",
       "      <th>15</th>\n",
       "      <td>14</td>\n",
       "      <td>14</td>\n",
       "      <td>14_parking_priority_dangers_perpendicular</td>\n",
       "    </tr>\n",
       "    <tr>\n",
       "      <th>16</th>\n",
       "      <td>15</td>\n",
       "      <td>13</td>\n",
       "      <td>15_external_template_internetarchivebot_notices</td>\n",
       "    </tr>\n",
       "  </tbody>\n",
       "</table>\n",
       "</div>"
      ],
      "text/plain": [
       "    Topic  Count                                             Name\n",
       "0      -1   3891                      -1_new_park_used_pedestrian\n",
       "1       0   8096                          0_road_new_used_station\n",
       "2       1    115         1_displaystyle_equilibrium_paradox_tfrac\n",
       "3       2     52              2_emissions_reduce_cooling_policies\n",
       "4       3     46                     3_velocity_acda_formula_stop\n",
       "5       4     33    4_coordinates_folkestedetcoordinates_34_dutch\n",
       "6       5     28                  5_airbag_crash_occupants_safety\n",
       "7       6     27           6_disabilities_access_election_devices\n",
       "8       7     26               7_markerstate_highway_marker_state\n",
       "9       8     22                           8_audi_tdi_optional_20\n",
       "10      9     21                                            9____\n",
       "11     10     19           10_wikimedia_related_footpaths_station\n",
       "12     11     19                  11_asphalt_used_deposits_patent\n",
       "13     12     16               12_map_numberroute_seagull_vietnam\n",
       "14     13     15                13_chevron_bend_rightsharp_marker\n",
       "15     14     14        14_parking_priority_dangers_perpendicular\n",
       "16     15     13  15_external_template_internetarchivebot_notices"
      ]
     },
     "execution_count": 497,
     "metadata": {},
     "output_type": "execute_result"
    }
   ],
   "source": [
    "topic_model.get_topic_info()"
   ]
  },
  {
   "cell_type": "code",
   "execution_count": 499,
   "id": "c6dfe14f",
   "metadata": {},
   "outputs": [
    {
     "name": "stdout",
     "output_type": "stream",
     "text": [
      "[8, 5, -1, 14, 3, 0, 11, 2, 13, 6, 15]\n"
     ]
    }
   ],
   "source": [
    "ped_similar_topics_a, ped_similarity_a = topic_model.find_topics(\"vehicle\", top_n=11)\n",
    "print(ped_similar_topics_a)"
   ]
  },
  {
   "cell_type": "code",
   "execution_count": 500,
   "id": "877980aa",
   "metadata": {},
   "outputs": [],
   "source": [
    "ped_similar_topics_a.remove(-1)"
   ]
  },
  {
   "cell_type": "code",
   "execution_count": 501,
   "id": "fc9db41f",
   "metadata": {},
   "outputs": [
    {
     "name": "stdout",
     "output_type": "stream",
     "text": [
      "8\n",
      "['audi', 'tdi', 'optional', '20', 'new', 'torque', 'turbocharged', 'seats', 'transmission', 'manual']\n",
      "\n",
      "\n",
      "5\n",
      "['airbag', 'crash', 'occupants', 'safety', 'collisions', 'sensors', 'standard', 'volvo', 'states', 'designed']\n",
      "\n",
      "\n",
      "14\n",
      "['parking', 'priority', 'dangers', 'perpendicular', 'toll', 'variant', 'prohibition', 'end', 'deformations', 'pollute']\n",
      "\n",
      "\n",
      "3\n",
      "['velocity', 'acda', 'formula', 'stop', 'driver', 'curve', 'maximum', 'average', 'headlight', 'intersection']\n",
      "\n",
      "\n",
      "0\n",
      "['road', 'new', 'used', 'station', 'south', 'national', 'united', 'crossing', 'time', 'tunnel']\n",
      "\n",
      "\n",
      "11\n",
      "['asphalt', 'used', 'deposits', 'patent', 'production', 'temperature', 'canada', 'method', 'ancient', 'million']\n",
      "\n",
      "\n",
      "2\n",
      "['emissions', 'reduce', 'cooling', 'policies', 'costs', 'trees', '2021', 'eu', 'wind', 'technologies']\n",
      "\n",
      "\n",
      "13\n",
      "['chevron', 'bend', 'rightsharp', 'marker', 'postreflexion', 'yellowblack', 'roadschevron', 'way', 'danger', 'plate']\n",
      "\n",
      "\n",
      "6\n",
      "['disabilities', 'access', 'election', 'devices', 'united', 'students', 'guidelines', 'adaptive', 'elderly', '508']\n",
      "\n",
      "\n",
      "15\n",
      "['external', 'template', 'internetarchivebot', 'notices', 'updated', 'article', 'merging', '2022', 'tower', 'footpath']\n",
      "\n",
      "\n"
     ]
    }
   ],
   "source": [
    "for t in ped_similar_topics_a:\n",
    "    l = []\n",
    "    print(t)\n",
    "    for el in topic_model.get_topic(t):\n",
    "        l.append(el[0])\n",
    "    print(l)\n",
    "#     print(ped_auto_model_a.get_topic(t))\n",
    "    print('\\n')"
   ]
  },
  {
   "cell_type": "code",
   "execution_count": null,
   "id": "3ca11bcc",
   "metadata": {},
   "outputs": [],
   "source": []
  },
  {
   "cell_type": "code",
   "execution_count": null,
   "id": "cf64afb9",
   "metadata": {},
   "outputs": [],
   "source": []
  },
  {
   "cell_type": "code",
   "execution_count": 317,
   "id": "ec7f6c59",
   "metadata": {},
   "outputs": [
    {
     "name": "stdout",
     "output_type": "stream",
     "text": [
      "bed 100\n",
      "zones 100\n",
      "west 100\n",
      "side 100\n",
      "zone 100\n",
      "south 100\n",
      "westbound 100\n",
      "southbound 100\n",
      "east-west 100\n",
      "mornings 100\n",
      "northbound 100\n",
      "carson 100\n",
      "morning 100\n",
      "auto-free zones 100\n",
      "eastbound 100\n",
      "north-south 100\n"
     ]
    }
   ],
   "source": [
    "unsorted_key = org_keys[7]\n",
    "root_dir = '/home/xtest/text_processing/data/wiki_texts/ped_pt'\n",
    "f_dict = dict()\n",
    "for k in unsorted_key:\n",
    "    f_names = [f.rsplit('/', 1)[1] for f in all_links[k]]\n",
    "    f_names = [f'{root_dir}/{f}.txt' for f in f_names if os.path.isfile(f'{root_dir}/{f}.txt')]\n",
    "    f_dict[k] = pd.DataFrame({'f_name': f_names})\n",
    "    print(k, len(f_names))\n"
   ]
  },
  {
   "cell_type": "code",
   "execution_count": 318,
   "id": "c3034628",
   "metadata": {},
   "outputs": [
    {
     "name": "stdout",
     "output_type": "stream",
     "text": [
      "bed 100\n",
      "zones 100\n",
      "west 100\n",
      "side 100\n",
      "zone 100\n",
      "south 100\n",
      "westbound 100\n",
      "southbound 100\n",
      "east-west 100\n",
      "mornings 100\n",
      "northbound 100\n",
      "carson 100\n",
      "morning 100\n",
      "auto-free zones 100\n",
      "eastbound 100\n",
      "north-south 100\n"
     ]
    }
   ],
   "source": [
    "sorted_key = []\n",
    "for k in sorted(f_dict, key=lambda k: len(f_dict[k])):\n",
    "    print(k, len(f_dict[k]))\n",
    "    sorted_key.append(k)"
   ]
  },
  {
   "cell_type": "code",
   "execution_count": 319,
   "id": "877e4061",
   "metadata": {},
   "outputs": [
    {
     "name": "stdout",
     "output_type": "stream",
     "text": [
      "['bed', 'zones', 'west', 'side', 'zone', 'south', 'westbound', 'southbound', 'east-west', 'mornings', 'northbound', 'carson', 'morning', 'auto-free zones', 'eastbound', 'north-south'] bed\n",
      "we are going to calc: zones - bed\n",
      "we are going to calc: west - bed\n",
      "we are going to calc: side - bed\n",
      "we are going to calc: zone - bed\n",
      "we are going to calc: south - bed\n",
      "we are going to calc: westbound - bed\n",
      "we are going to calc: southbound - bed\n",
      "we are going to calc: east-west - bed\n",
      "we are going to calc: mornings - bed\n",
      "we are going to calc: northbound - bed\n",
      "we are going to calc: carson - bed\n",
      "we are going to calc: morning - bed\n",
      "we are going to calc: auto-free zones - bed\n",
      "we are going to calc: eastbound - bed\n",
      "we are going to calc: north-south - bed\n",
      "['zones', 'west', 'side', 'zone', 'south', 'westbound', 'southbound', 'east-west', 'mornings', 'northbound', 'carson', 'morning', 'auto-free zones', 'eastbound', 'north-south'] zones\n",
      "we are going to calc: west - zones\n",
      "we are going to calc: side - zones\n",
      "we are going to calc: zone - zones\n",
      "we are going to calc: south - zones\n",
      "we are going to calc: westbound - zones\n",
      "we are going to calc: southbound - zones\n",
      "we are going to calc: east-west - zones\n",
      "we are going to calc: mornings - zones\n",
      "we are going to calc: northbound - zones\n",
      "we are going to calc: carson - zones\n",
      "we are going to calc: morning - zones\n",
      "we are going to calc: auto-free zones - zones\n",
      "we are going to calc: eastbound - zones\n",
      "we are going to calc: north-south - zones\n",
      "['west', 'side', 'zone', 'south', 'westbound', 'southbound', 'east-west', 'mornings', 'northbound', 'carson', 'morning', 'auto-free zones', 'eastbound', 'north-south'] west\n",
      "we are going to calc: side - west\n",
      "we are going to calc: zone - west\n",
      "we are going to calc: south - west\n",
      "we are going to calc: westbound - west\n",
      "we are going to calc: southbound - west\n",
      "we are going to calc: east-west - west\n",
      "we are going to calc: mornings - west\n",
      "we are going to calc: northbound - west\n",
      "we are going to calc: carson - west\n",
      "we are going to calc: morning - west\n",
      "we are going to calc: auto-free zones - west\n",
      "we are going to calc: eastbound - west\n",
      "we are going to calc: north-south - west\n",
      "['side', 'zone', 'south', 'westbound', 'southbound', 'east-west', 'mornings', 'northbound', 'carson', 'morning', 'auto-free zones', 'eastbound', 'north-south'] side\n",
      "we are going to calc: zone - side\n",
      "we are going to calc: south - side\n",
      "we are going to calc: westbound - side\n",
      "we are going to calc: southbound - side\n",
      "we are going to calc: east-west - side\n",
      "we are going to calc: mornings - side\n",
      "we are going to calc: northbound - side\n",
      "we are going to calc: carson - side\n",
      "we are going to calc: morning - side\n",
      "we are going to calc: auto-free zones - side\n",
      "we are going to calc: eastbound - side\n",
      "we are going to calc: north-south - side\n",
      "['zone', 'south', 'westbound', 'southbound', 'east-west', 'mornings', 'northbound', 'carson', 'morning', 'auto-free zones', 'eastbound', 'north-south'] zone\n",
      "we are going to calc: south - zone\n",
      "we are going to calc: westbound - zone\n",
      "we are going to calc: southbound - zone\n",
      "we are going to calc: east-west - zone\n",
      "we are going to calc: mornings - zone\n",
      "we are going to calc: northbound - zone\n",
      "we are going to calc: carson - zone\n",
      "we are going to calc: morning - zone\n",
      "we are going to calc: auto-free zones - zone\n",
      "we are going to calc: eastbound - zone\n",
      "we are going to calc: north-south - zone\n",
      "['south', 'westbound', 'southbound', 'east-west', 'mornings', 'northbound', 'carson', 'morning', 'auto-free zones', 'eastbound', 'north-south'] south\n",
      "we are going to calc: westbound - south\n",
      "we are going to calc: southbound - south\n",
      "we are going to calc: east-west - south\n",
      "we are going to calc: mornings - south\n",
      "we are going to calc: northbound - south\n",
      "we are going to calc: carson - south\n",
      "we are going to calc: morning - south\n",
      "we are going to calc: auto-free zones - south\n",
      "we are going to calc: eastbound - south\n",
      "we are going to calc: north-south - south\n",
      "['westbound', 'southbound', 'east-west', 'mornings', 'northbound', 'carson', 'morning', 'auto-free zones', 'eastbound', 'north-south'] westbound\n",
      "we are going to calc: southbound - westbound\n",
      "we are going to calc: east-west - westbound\n",
      "we are going to calc: mornings - westbound\n",
      "we are going to calc: northbound - westbound\n",
      "we are going to calc: carson - westbound\n",
      "we are going to calc: morning - westbound\n",
      "we are going to calc: auto-free zones - westbound\n",
      "we are going to calc: eastbound - westbound\n",
      "we are going to calc: north-south - westbound\n",
      "['southbound', 'east-west', 'mornings', 'northbound', 'carson', 'morning', 'auto-free zones', 'eastbound', 'north-south'] southbound\n",
      "we are going to calc: east-west - southbound\n",
      "we are going to calc: mornings - southbound\n",
      "we are going to calc: northbound - southbound\n",
      "we are going to calc: carson - southbound\n",
      "we are going to calc: morning - southbound\n",
      "we are going to calc: auto-free zones - southbound\n",
      "we are going to calc: eastbound - southbound\n",
      "we are going to calc: north-south - southbound\n",
      "['east-west', 'mornings', 'northbound', 'carson', 'morning', 'auto-free zones', 'eastbound', 'north-south'] east-west\n",
      "we are going to calc: mornings - east-west\n",
      "we are going to calc: northbound - east-west\n",
      "we are going to calc: carson - east-west\n",
      "we are going to calc: morning - east-west\n",
      "we are going to calc: auto-free zones - east-west\n",
      "we are going to calc: eastbound - east-west\n",
      "we are going to calc: north-south - east-west\n",
      "['mornings', 'northbound', 'carson', 'morning', 'auto-free zones', 'eastbound', 'north-south'] mornings\n",
      "we are going to calc: northbound - mornings\n",
      "we are going to calc: carson - mornings\n",
      "we are going to calc: morning - mornings\n",
      "we are going to calc: auto-free zones - mornings\n",
      "we are going to calc: eastbound - mornings\n",
      "we are going to calc: north-south - mornings\n",
      "['northbound', 'carson', 'morning', 'auto-free zones', 'eastbound', 'north-south'] northbound\n",
      "we are going to calc: carson - northbound\n",
      "we are going to calc: morning - northbound\n",
      "we are going to calc: auto-free zones - northbound\n",
      "we are going to calc: eastbound - northbound\n",
      "we are going to calc: north-south - northbound\n",
      "['carson', 'morning', 'auto-free zones', 'eastbound', 'north-south'] carson\n",
      "we are going to calc: morning - carson\n",
      "we are going to calc: auto-free zones - carson\n",
      "we are going to calc: eastbound - carson\n",
      "we are going to calc: north-south - carson\n",
      "['morning', 'auto-free zones', 'eastbound', 'north-south'] morning\n",
      "we are going to calc: auto-free zones - morning\n",
      "we are going to calc: eastbound - morning\n",
      "we are going to calc: north-south - morning\n",
      "['auto-free zones', 'eastbound', 'north-south'] auto-free zones\n",
      "we are going to calc: eastbound - auto-free zones\n",
      "we are going to calc: north-south - auto-free zones\n",
      "['eastbound', 'north-south'] eastbound\n",
      "we are going to calc: north-south - eastbound\n",
      "['north-south'] north-south\n"
     ]
    }
   ],
   "source": [
    "for idx, k in enumerate(sorted_key):\n",
    "    print(sorted_key[idx:], k)\n",
    "    for el in sorted_key[idx:]:\n",
    "        if el == k:\n",
    "            continue\n",
    "        print(f'we are going to calc: {el} - {k}')\n",
    "        f_dict[el] = df2_df1(f_dict[k], f_dict[el])\n",
    "#     break"
   ]
  },
  {
   "cell_type": "code",
   "execution_count": 320,
   "id": "92d3fe08",
   "metadata": {},
   "outputs": [
    {
     "name": "stdout",
     "output_type": "stream",
     "text": [
      "zone 13\n",
      "morning 13\n",
      "eastbound 29\n",
      "northbound 37\n",
      "auto-free zones 40\n",
      "east-west 42\n",
      "north-south 43\n",
      "mornings 62\n",
      "south 66\n",
      "southbound 69\n",
      "side 74\n",
      "west 84\n",
      "westbound 86\n",
      "carson 97\n",
      "zones 98\n",
      "bed 100\n"
     ]
    }
   ],
   "source": [
    "sorted_key = []\n",
    "for k in sorted(f_dict, key=lambda k: len(f_dict[k])):\n",
    "    print(k, len(f_dict[k]))\n",
    "    sorted_key.append(k)"
   ]
  },
  {
   "cell_type": "code",
   "execution_count": 321,
   "id": "5c0f6094",
   "metadata": {
    "scrolled": true
   },
   "outputs": [
    {
     "data": {
      "text/plain": [
       "['/home/xtest/text_processing/data/wiki_texts/ped_pt/Arroyo_(creek).txt',\n",
       " '/home/xtest/text_processing/data/wiki_texts/ped_pt/Tyne_cyclist_and_pedestrian_tunnels.txt',\n",
       " '/home/xtest/text_processing/data/wiki_texts/ped_pt/Hostile_architecture.txt',\n",
       " '/home/xtest/text_processing/data/wiki_texts/ped_pt/Rumble_strip.txt',\n",
       " '/home/xtest/text_processing/data/wiki_texts/ped_pt/Culvert.txt',\n",
       " '/home/xtest/text_processing/data/wiki_texts/ped_pt/Ada_Anderson.txt',\n",
       " '/home/xtest/text_processing/data/wiki_texts/ped_pt/Glossary_of_road_transport_terms.txt',\n",
       " '/home/xtest/text_processing/data/wiki_texts/ped_pt/Road_surface_marking.txt',\n",
       " '/home/xtest/text_processing/data/wiki_texts/ped_pt/Airbag.txt',\n",
       " '/home/xtest/text_processing/data/wiki_texts/ped_pt/Bumper_(car).txt',\n",
       " '/home/xtest/text_processing/data/wiki_texts/ped_pt/Smartphone_zombie.txt',\n",
       " '/home/xtest/text_processing/data/wiki_texts/ped_pt/Fullpower_Technologies.txt',\n",
       " '/home/xtest/text_processing/data/wiki_texts/ped_pt/Volume_One:_UnIndian_Songs.txt',\n",
       " '/home/xtest/text_processing/data/wiki_texts/ped_pt/Tunnels_underneath_the_River_Thames.txt',\n",
       " '/home/xtest/text_processing/data/wiki_texts/ped_pt/Chinyingi.txt',\n",
       " '/home/xtest/text_processing/data/wiki_texts/ped_pt/Farmleigh_Bridge.txt',\n",
       " '/home/xtest/text_processing/data/wiki_texts/ped_pt/Robert_Barclay_Allardice.txt',\n",
       " '/home/xtest/text_processing/data/wiki_texts/ped_pt/Rail_trail.txt',\n",
       " '/home/xtest/text_processing/data/wiki_texts/ped_pt/Bed_Bath_%26_Beyond.txt',\n",
       " '/home/xtest/text_processing/data/wiki_texts/ped_pt/Road_signs_in_Australia.txt',\n",
       " '/home/xtest/text_processing/data/wiki_texts/ped_pt/Lake_Hodges_Bridge.txt',\n",
       " '/home/xtest/text_processing/data/wiki_texts/ped_pt/Fulton_Street_(Brooklyn).txt',\n",
       " '/home/xtest/text_processing/data/wiki_texts/ped_pt/Bedroom_at_Arles.txt',\n",
       " '/home/xtest/text_processing/data/wiki_texts/ped_pt/Bisbee_Residential_Historic_District.txt',\n",
       " '/home/xtest/text_processing/data/wiki_texts/ped_pt/Office_Bridge.txt',\n",
       " '/home/xtest/text_processing/data/wiki_texts/ped_pt/Milton_Keynes_redway_system.txt',\n",
       " '/home/xtest/text_processing/data/wiki_texts/ped_pt/Lamar_Boulevard_Bridge.txt',\n",
       " '/home/xtest/text_processing/data/wiki_texts/ped_pt/Harahan_Bridge.txt',\n",
       " '/home/xtest/text_processing/data/wiki_texts/ped_pt/UPMC_Presbyterian.txt',\n",
       " '/home/xtest/text_processing/data/wiki_texts/ped_pt/Veterans_Affairs_Medical_Center_(Oregon).txt',\n",
       " '/home/xtest/text_processing/data/wiki_texts/ped_pt/Crossings_of_the_Yarra_River.txt',\n",
       " '/home/xtest/text_processing/data/wiki_texts/ped_pt/Road_signs_in_Norway.txt',\n",
       " '/home/xtest/text_processing/data/wiki_texts/ped_pt/WellStar_Kennestone_Regional_Medical_Center.txt',\n",
       " '/home/xtest/text_processing/data/wiki_texts/ped_pt/Countess_of_Chester_Hospital.txt',\n",
       " '/home/xtest/text_processing/data/wiki_texts/ped_pt/Derybasivska_Street.txt',\n",
       " '/home/xtest/text_processing/data/wiki_texts/ped_pt/Litter_(vehicle).txt',\n",
       " '/home/xtest/text_processing/data/wiki_texts/ped_pt/Death_of_Paulette_Gebara_Farah.txt',\n",
       " '/home/xtest/text_processing/data/wiki_texts/ped_pt/Matagarup_Bridge.txt',\n",
       " '/home/xtest/text_processing/data/wiki_texts/ped_pt/Mars_and_Venus_in_the_Bedroom.txt',\n",
       " '/home/xtest/text_processing/data/wiki_texts/ped_pt/Guard_rail.txt',\n",
       " '/home/xtest/text_processing/data/wiki_texts/ped_pt/Kohlfurther_Bridge.txt',\n",
       " '/home/xtest/text_processing/data/wiki_texts/ped_pt/King%27s_College_Hospital.txt',\n",
       " '/home/xtest/text_processing/data/wiki_texts/ped_pt/Pelvic_fracture.txt',\n",
       " '/home/xtest/text_processing/data/wiki_texts/ped_pt/Carfree_city.txt',\n",
       " '/home/xtest/text_processing/data/wiki_texts/ped_pt/Road_signs_in_Finland.txt',\n",
       " '/home/xtest/text_processing/data/wiki_texts/ped_pt/Woolwich_foot_tunnel.txt',\n",
       " '/home/xtest/text_processing/data/wiki_texts/ped_pt/Brooklyn_Bridge.txt',\n",
       " '/home/xtest/text_processing/data/wiki_texts/ped_pt/Road_surface.txt',\n",
       " '/home/xtest/text_processing/data/wiki_texts/ped_pt/American_Tobacco_Trail.txt',\n",
       " '/home/xtest/text_processing/data/wiki_texts/ped_pt/Fahrenheit_451.txt',\n",
       " '/home/xtest/text_processing/data/wiki_texts/ped_pt/Rotherhithe_Tunnel.txt',\n",
       " '/home/xtest/text_processing/data/wiki_texts/ped_pt/Trail.txt',\n",
       " '/home/xtest/text_processing/data/wiki_texts/ped_pt/Virginia_Capital_Trail.txt',\n",
       " '/home/xtest/text_processing/data/wiki_texts/ped_pt/Cortellucci_Vaughan_Hospital.txt',\n",
       " '/home/xtest/text_processing/data/wiki_texts/ped_pt/Road.txt',\n",
       " '/home/xtest/text_processing/data/wiki_texts/ped_pt/Mews.txt',\n",
       " '/home/xtest/text_processing/data/wiki_texts/ped_pt/Overlook_Medical_Center.txt',\n",
       " '/home/xtest/text_processing/data/wiki_texts/ped_pt/Nizami_Street.txt',\n",
       " '/home/xtest/text_processing/data/wiki_texts/ped_pt/List_of_bridge_failures.txt',\n",
       " '/home/xtest/text_processing/data/wiki_texts/ped_pt/Lijnbaan.txt',\n",
       " '/home/xtest/text_processing/data/wiki_texts/ped_pt/Fender_(vehicle).txt',\n",
       " '/home/xtest/text_processing/data/wiki_texts/ped_pt/Dodhara_Chandani_Bridge.txt',\n",
       " '/home/xtest/text_processing/data/wiki_texts/ped_pt/Tower_Subway.txt',\n",
       " '/home/xtest/text_processing/data/wiki_texts/ped_pt/History_of_cycling_infrastructure.txt',\n",
       " '/home/xtest/text_processing/data/wiki_texts/ped_pt/Moon_gate.txt',\n",
       " '/home/xtest/text_processing/data/wiki_texts/ped_pt/191st_Street_station.txt',\n",
       " '/home/xtest/text_processing/data/wiki_texts/ped_pt/Ponte_de_Aljezur.txt',\n",
       " '/home/xtest/text_processing/data/wiki_texts/ped_pt/Tornillo%E2%80%93Guadalupe_International_Bridge.txt',\n",
       " '/home/xtest/text_processing/data/wiki_texts/ped_pt/Grade_(slope).txt',\n",
       " '/home/xtest/text_processing/data/wiki_texts/ped_pt/Ford_(crossing).txt',\n",
       " '/home/xtest/text_processing/data/wiki_texts/ped_pt/Quaibr%C3%BCcke,_Z%C3%BCrich.txt',\n",
       " '/home/xtest/text_processing/data/wiki_texts/ped_pt/Milton%E2%80%93Madison_Bridge.txt',\n",
       " '/home/xtest/text_processing/data/wiki_texts/ped_pt/Cairns_Hospital.txt',\n",
       " '/home/xtest/text_processing/data/wiki_texts/ped_pt/San_Francisquito_Creek_(Santa_Clara_River_tributary).txt',\n",
       " '/home/xtest/text_processing/data/wiki_texts/ped_pt/Irr%C3%A9versible.txt',\n",
       " '/home/xtest/text_processing/data/wiki_texts/ped_pt/OSF_St._Joseph_Medical_Center.txt',\n",
       " '/home/xtest/text_processing/data/wiki_texts/ped_pt/List_of_rail_trails_in_Minnesota.txt',\n",
       " '/home/xtest/text_processing/data/wiki_texts/ped_pt/Norwottuck_Branch_Rail_Trail.txt',\n",
       " '/home/xtest/text_processing/data/wiki_texts/ped_pt/Skewed_Visions.txt',\n",
       " '/home/xtest/text_processing/data/wiki_texts/ped_pt/Beaumont_Health.txt',\n",
       " '/home/xtest/text_processing/data/wiki_texts/ped_pt/Pennsylvania_Avenue_Bridge_(1890).txt',\n",
       " '/home/xtest/text_processing/data/wiki_texts/ped_pt/Vodootvodny_Canal.txt',\n",
       " '/home/xtest/text_processing/data/wiki_texts/ped_pt/Hungerford_Bridge_and_Golden_Jubilee_Bridges.txt',\n",
       " '/home/xtest/text_processing/data/wiki_texts/ped_pt/Suburban_Hospital.txt',\n",
       " '/home/xtest/text_processing/data/wiki_texts/ped_pt/Boone_Hospital_Center.txt',\n",
       " '/home/xtest/text_processing/data/wiki_texts/ped_pt/Shoulder_(road).txt',\n",
       " '/home/xtest/text_processing/data/wiki_texts/ped_pt/Bangui.txt',\n",
       " '/home/xtest/text_processing/data/wiki_texts/ped_pt/Casa_del_Rey_Hotel.txt',\n",
       " '/home/xtest/text_processing/data/wiki_texts/ped_pt/Jurong_Community_Hospital.txt',\n",
       " '/home/xtest/text_processing/data/wiki_texts/ped_pt/Puente_de_Espa%C3%B1a.txt',\n",
       " '/home/xtest/text_processing/data/wiki_texts/ped_pt/Underwater_tunnel.txt',\n",
       " '/home/xtest/text_processing/data/wiki_texts/ped_pt/Waikato_Hospital.txt',\n",
       " '/home/xtest/text_processing/data/wiki_texts/ped_pt/St_Thomas%27_Hospital.txt',\n",
       " '/home/xtest/text_processing/data/wiki_texts/ped_pt/Camp_Koehler.txt',\n",
       " '/home/xtest/text_processing/data/wiki_texts/ped_pt/List_of_rail_trails_in_the_United_States.txt',\n",
       " '/home/xtest/text_processing/data/wiki_texts/ped_pt/Rio%E2%80%93Antirrio_Bridge.txt',\n",
       " '/home/xtest/text_processing/data/wiki_texts/ped_pt/Leeds_General_Infirmary.txt',\n",
       " '/home/xtest/text_processing/data/wiki_texts/ped_pt/Bell_Creek_(Southern_California).txt',\n",
       " '/home/xtest/text_processing/data/wiki_texts/ped_pt/Constitution_Plaza.txt',\n",
       " '/home/xtest/text_processing/data/wiki_texts/ped_pt/Duluth,_Georgia.txt']"
      ]
     },
     "execution_count": 321,
     "metadata": {},
     "output_type": "execute_result"
    }
   ],
   "source": [
    "f_dict['bed']['f_name'].tolist()"
   ]
  },
  {
   "cell_type": "code",
   "execution_count": null,
   "id": "73b87350",
   "metadata": {},
   "outputs": [],
   "source": []
  },
  {
   "cell_type": "code",
   "execution_count": null,
   "id": "fe76dfe3",
   "metadata": {},
   "outputs": [],
   "source": []
  },
  {
   "cell_type": "code",
   "execution_count": 195,
   "id": "d854eaeb",
   "metadata": {
    "scrolled": true
   },
   "outputs": [
    {
     "data": {
      "text/html": [
       "<div>\n",
       "<style scoped>\n",
       "    .dataframe tbody tr th:only-of-type {\n",
       "        vertical-align: middle;\n",
       "    }\n",
       "\n",
       "    .dataframe tbody tr th {\n",
       "        vertical-align: top;\n",
       "    }\n",
       "\n",
       "    .dataframe thead th {\n",
       "        text-align: right;\n",
       "    }\n",
       "</style>\n",
       "<table border=\"1\" class=\"dataframe\">\n",
       "  <thead>\n",
       "    <tr style=\"text-align: right;\">\n",
       "      <th></th>\n",
       "      <th>c_id</th>\n",
       "      <th>cluster</th>\n",
       "      <th>json_key</th>\n",
       "      <th>score</th>\n",
       "    </tr>\n",
       "  </thead>\n",
       "  <tbody>\n",
       "    <tr>\n",
       "      <th>4</th>\n",
       "      <td>4</td>\n",
       "      <td>[promenade, pedestrianize, thoroughfare, pedes...</td>\n",
       "      <td>[pedestrians, pedestriantraffic, pedestrianism...</td>\n",
       "      <td>0.708186</td>\n",
       "    </tr>\n",
       "    <tr>\n",
       "      <th>16</th>\n",
       "      <td>16</td>\n",
       "      <td>[walk frame, stroll, knucklewalk, forwalk, foo...</td>\n",
       "      <td>[walkabout, walk cane, stroll, intentional wal...</td>\n",
       "      <td>0.407751</td>\n",
       "    </tr>\n",
       "    <tr>\n",
       "      <th>8</th>\n",
       "      <td>8</td>\n",
       "      <td>[pelican crossing, cross, crossstreet, interfe...</td>\n",
       "      <td>[crosswalks, pelican crossing, crossing, cross...</td>\n",
       "      <td>0.400158</td>\n",
       "    </tr>\n",
       "    <tr>\n",
       "      <th>26</th>\n",
       "      <td>26</td>\n",
       "      <td>[rightofway, trafficwarden, dual carriageway, ...</td>\n",
       "      <td>[road rage, sidewalks, roadsurface, trafficcop...</td>\n",
       "      <td>0.349862</td>\n",
       "    </tr>\n",
       "    <tr>\n",
       "      <th>9</th>\n",
       "      <td>9</td>\n",
       "      <td>[travel, travel to destination, subway, bus, c...</td>\n",
       "      <td>[transportationsystem, bus-only, commuter trai...</td>\n",
       "      <td>0.338677</td>\n",
       "    </tr>\n",
       "    <tr>\n",
       "      <th>10</th>\n",
       "      <td>10</td>\n",
       "      <td>[trolleycar, car, vehicular traffic, seat belt...</td>\n",
       "      <td>[vehiculartraffic, car, trolleycar, seat belt,...</td>\n",
       "      <td>0.332366</td>\n",
       "    </tr>\n",
       "    <tr>\n",
       "      <th>20</th>\n",
       "      <td>20</td>\n",
       "      <td>[horse gait, bipedal, bicycle, trek, dave kuns...</td>\n",
       "      <td>[dave kunst, bimble, horse gait, bipedalism, t...</td>\n",
       "      <td>0.310068</td>\n",
       "    </tr>\n",
       "    <tr>\n",
       "      <th>17</th>\n",
       "      <td>17</td>\n",
       "      <td>[handicapped, advocacy, fatality, accident, ch...</td>\n",
       "      <td>[plaintiff, injuries, accident, charitable org...</td>\n",
       "      <td>0.297370</td>\n",
       "    </tr>\n",
       "    <tr>\n",
       "      <th>12</th>\n",
       "      <td>12</td>\n",
       "      <td>[motorist, driver, auto, passenger, carpooler,...</td>\n",
       "      <td>[drivearound, mobility scooter, nondriver, mot...</td>\n",
       "      <td>0.286285</td>\n",
       "    </tr>\n",
       "    <tr>\n",
       "      <th>27</th>\n",
       "      <td>27</td>\n",
       "      <td>[stomper, staggerer, wayfarer, stamper, hardsh...</td>\n",
       "      <td>[plodder, hiker, stomp, stomper, staggerer, tr...</td>\n",
       "      <td>0.284224</td>\n",
       "    </tr>\n",
       "    <tr>\n",
       "      <th>24</th>\n",
       "      <td>24</td>\n",
       "      <td>[passer, bystander, saunterer, passersby, ian ...</td>\n",
       "      <td>[saunter, saunterer, passometer, passable, pas...</td>\n",
       "      <td>0.280584</td>\n",
       "    </tr>\n",
       "    <tr>\n",
       "      <th>1</th>\n",
       "      <td>1</td>\n",
       "      <td>[underfoot, duck foot, feetless, footstep, foo...</td>\n",
       "      <td>[clubfoot, clawfooted, foot soldier, footwrap,...</td>\n",
       "      <td>0.275071</td>\n",
       "    </tr>\n",
       "    <tr>\n",
       "      <th>22</th>\n",
       "      <td>22</td>\n",
       "      <td>[step forward, step in, walk around, approach,...</td>\n",
       "      <td>[approach, use your leg, walk through, take ph...</td>\n",
       "      <td>0.271569</td>\n",
       "    </tr>\n",
       "    <tr>\n",
       "      <th>5</th>\n",
       "      <td>5</td>\n",
       "      <td>[at bat, three-lane, multilane, alley, interch...</td>\n",
       "      <td>[robinson, one-lane, interchanges, wards, alle...</td>\n",
       "      <td>0.271205</td>\n",
       "    </tr>\n",
       "    <tr>\n",
       "      <th>19</th>\n",
       "      <td>19</td>\n",
       "      <td>[olympic games, rush hour, urbanist, europe, y...</td>\n",
       "      <td>[yorks, change location, citys, area, urbanist...</td>\n",
       "      <td>0.263294</td>\n",
       "    </tr>\n",
       "    <tr>\n",
       "      <th>28</th>\n",
       "      <td>28</td>\n",
       "      <td>[trample, slogger, hamble, quadrupedally, esca...</td>\n",
       "      <td>[escalators, tram, trample, ramble, hamble, sl...</td>\n",
       "      <td>0.261921</td>\n",
       "    </tr>\n",
       "    <tr>\n",
       "      <th>0</th>\n",
       "      <td>0</td>\n",
       "      <td>[landscape, enjoy nature, solace, naturestrip,...</td>\n",
       "      <td>[solace, sheltered, mankind, enjoy nature, env...</td>\n",
       "      <td>0.247248</td>\n",
       "    </tr>\n",
       "    <tr>\n",
       "      <th>21</th>\n",
       "      <td>21</td>\n",
       "      <td>[night, character, exercise your dog, vagrant,...</td>\n",
       "      <td>[vagrant, soul, deaths, world, exercise your d...</td>\n",
       "      <td>0.244279</td>\n",
       "    </tr>\n",
       "    <tr>\n",
       "      <th>14</th>\n",
       "      <td>14</td>\n",
       "      <td>[underpass, queensboro bridge, bosporus bridge...</td>\n",
       "      <td>[overpass, floating bridge, queensboro bridge,...</td>\n",
       "      <td>0.243603</td>\n",
       "    </tr>\n",
       "    <tr>\n",
       "      <th>7</th>\n",
       "      <td>7</td>\n",
       "      <td>[south, bed, morning, carson, southbound, east...</td>\n",
       "      <td>[bed, zones, west, side, zone, south, westboun...</td>\n",
       "      <td>0.238520</td>\n",
       "    </tr>\n",
       "    <tr>\n",
       "      <th>3</th>\n",
       "      <td>3</td>\n",
       "      <td>[protect, pointduty, elevate, density, oncomin...</td>\n",
       "      <td>[frontage, gradatory, study, at-grade, purpose...</td>\n",
       "      <td>0.234967</td>\n",
       "    </tr>\n",
       "    <tr>\n",
       "      <th>23</th>\n",
       "      <td>23</td>\n",
       "      <td>[excursion, scenic, hike, go somewhere else, t...</td>\n",
       "      <td>[scenic, get somewhere, trips, tour, hike, enj...</td>\n",
       "      <td>0.233061</td>\n",
       "    </tr>\n",
       "    <tr>\n",
       "      <th>29</th>\n",
       "      <td>29</td>\n",
       "      <td>[passage, network, connection, limited-access,...</td>\n",
       "      <td>[traverse, shared use path, traversable, fence...</td>\n",
       "      <td>0.227658</td>\n",
       "    </tr>\n",
       "    <tr>\n",
       "      <th>2</th>\n",
       "      <td>2</td>\n",
       "      <td>[routine, reverie, childhood, constitutionaliz...</td>\n",
       "      <td>[obesity, behavior, ambulation, exercises, sho...</td>\n",
       "      <td>0.226398</td>\n",
       "    </tr>\n",
       "    <tr>\n",
       "      <th>11</th>\n",
       "      <td>11</td>\n",
       "      <td>[emphasis, prose, maindrag, verse, dress, unli...</td>\n",
       "      <td>[style, separation, attention, unobservant, fa...</td>\n",
       "      <td>0.217165</td>\n",
       "    </tr>\n",
       "    <tr>\n",
       "      <th>13</th>\n",
       "      <td>13</td>\n",
       "      <td>[sage, shank nag, playmate, person, sashay, gi...</td>\n",
       "      <td>[gibe, skateboards, rekick, sashay, sage, waul...</td>\n",
       "      <td>0.214822</td>\n",
       "    </tr>\n",
       "    <tr>\n",
       "      <th>6</th>\n",
       "      <td>6</td>\n",
       "      <td>[signal, duty, power, value, status, number, b...</td>\n",
       "      <td>[signals, boots, series, volumes, force, dista...</td>\n",
       "      <td>0.205784</td>\n",
       "    </tr>\n",
       "    <tr>\n",
       "      <th>15</th>\n",
       "      <td>15</td>\n",
       "      <td>[treadle, pedestrial, traipse, waddle, prosy, ...</td>\n",
       "      <td>[plod, taligrade, pattens, slink, treadle, fir...</td>\n",
       "      <td>0.198882</td>\n",
       "    </tr>\n",
       "    <tr>\n",
       "      <th>18</th>\n",
       "      <td>18</td>\n",
       "      <td>[fact, time, non, percent, crowd, way, sensati...</td>\n",
       "      <td>[fact, warnings, link, portion, effect, sensat...</td>\n",
       "      <td>0.180433</td>\n",
       "    </tr>\n",
       "    <tr>\n",
       "      <th>25</th>\n",
       "      <td>25</td>\n",
       "      <td>[servicearea, tetrapous, british english, pera...</td>\n",
       "      <td>[floozie, british english, flounce, taxistand,...</td>\n",
       "      <td>0.157614</td>\n",
       "    </tr>\n",
       "  </tbody>\n",
       "</table>\n",
       "</div>"
      ],
      "text/plain": [
       "    c_id                                            cluster  \\\n",
       "4      4  [promenade, pedestrianize, thoroughfare, pedes...   \n",
       "16    16  [walk frame, stroll, knucklewalk, forwalk, foo...   \n",
       "8      8  [pelican crossing, cross, crossstreet, interfe...   \n",
       "26    26  [rightofway, trafficwarden, dual carriageway, ...   \n",
       "9      9  [travel, travel to destination, subway, bus, c...   \n",
       "10    10  [trolleycar, car, vehicular traffic, seat belt...   \n",
       "20    20  [horse gait, bipedal, bicycle, trek, dave kuns...   \n",
       "17    17  [handicapped, advocacy, fatality, accident, ch...   \n",
       "12    12  [motorist, driver, auto, passenger, carpooler,...   \n",
       "27    27  [stomper, staggerer, wayfarer, stamper, hardsh...   \n",
       "24    24  [passer, bystander, saunterer, passersby, ian ...   \n",
       "1      1  [underfoot, duck foot, feetless, footstep, foo...   \n",
       "22    22  [step forward, step in, walk around, approach,...   \n",
       "5      5  [at bat, three-lane, multilane, alley, interch...   \n",
       "19    19  [olympic games, rush hour, urbanist, europe, y...   \n",
       "28    28  [trample, slogger, hamble, quadrupedally, esca...   \n",
       "0      0  [landscape, enjoy nature, solace, naturestrip,...   \n",
       "21    21  [night, character, exercise your dog, vagrant,...   \n",
       "14    14  [underpass, queensboro bridge, bosporus bridge...   \n",
       "7      7  [south, bed, morning, carson, southbound, east...   \n",
       "3      3  [protect, pointduty, elevate, density, oncomin...   \n",
       "23    23  [excursion, scenic, hike, go somewhere else, t...   \n",
       "29    29  [passage, network, connection, limited-access,...   \n",
       "2      2  [routine, reverie, childhood, constitutionaliz...   \n",
       "11    11  [emphasis, prose, maindrag, verse, dress, unli...   \n",
       "13    13  [sage, shank nag, playmate, person, sashay, gi...   \n",
       "6      6  [signal, duty, power, value, status, number, b...   \n",
       "15    15  [treadle, pedestrial, traipse, waddle, prosy, ...   \n",
       "18    18  [fact, time, non, percent, crowd, way, sensati...   \n",
       "25    25  [servicearea, tetrapous, british english, pera...   \n",
       "\n",
       "                                             json_key     score  \n",
       "4   [pedestrians, pedestriantraffic, pedestrianism...  0.708186  \n",
       "16  [walkabout, walk cane, stroll, intentional wal...  0.407751  \n",
       "8   [crosswalks, pelican crossing, crossing, cross...  0.400158  \n",
       "26  [road rage, sidewalks, roadsurface, trafficcop...  0.349862  \n",
       "9   [transportationsystem, bus-only, commuter trai...  0.338677  \n",
       "10  [vehiculartraffic, car, trolleycar, seat belt,...  0.332366  \n",
       "20  [dave kunst, bimble, horse gait, bipedalism, t...  0.310068  \n",
       "17  [plaintiff, injuries, accident, charitable org...  0.297370  \n",
       "12  [drivearound, mobility scooter, nondriver, mot...  0.286285  \n",
       "27  [plodder, hiker, stomp, stomper, staggerer, tr...  0.284224  \n",
       "24  [saunter, saunterer, passometer, passable, pas...  0.280584  \n",
       "1   [clubfoot, clawfooted, foot soldier, footwrap,...  0.275071  \n",
       "22  [approach, use your leg, walk through, take ph...  0.271569  \n",
       "5   [robinson, one-lane, interchanges, wards, alle...  0.271205  \n",
       "19  [yorks, change location, citys, area, urbanist...  0.263294  \n",
       "28  [escalators, tram, trample, ramble, hamble, sl...  0.261921  \n",
       "0   [solace, sheltered, mankind, enjoy nature, env...  0.247248  \n",
       "21  [vagrant, soul, deaths, world, exercise your d...  0.244279  \n",
       "14  [overpass, floating bridge, queensboro bridge,...  0.243603  \n",
       "7   [bed, zones, west, side, zone, south, westboun...  0.238520  \n",
       "3   [frontage, gradatory, study, at-grade, purpose...  0.234967  \n",
       "23  [scenic, get somewhere, trips, tour, hike, enj...  0.233061  \n",
       "29  [traverse, shared use path, traversable, fence...  0.227658  \n",
       "2   [obesity, behavior, ambulation, exercises, sho...  0.226398  \n",
       "11  [style, separation, attention, unobservant, fa...  0.217165  \n",
       "13  [gibe, skateboards, rekick, sashay, sage, waul...  0.214822  \n",
       "6   [signals, boots, series, volumes, force, dista...  0.205784  \n",
       "15  [plod, taligrade, pattens, slink, treadle, fir...  0.198882  \n",
       "18  [fact, warnings, link, portion, effect, sensat...  0.180433  \n",
       "25  [floozie, british english, flounce, taxistand,...  0.157614  "
      ]
     },
     "execution_count": 195,
     "metadata": {},
     "output_type": "execute_result"
    }
   ],
   "source": [
    "df_1 = pd.DataFrame({'c_id': c_id, 'cluster':labels, 'json_key':org_keys , 'score':avg_score})\n",
    "df_1 = df_1.sort_values(by=['score'], ascending=False)\n",
    "df_1"
   ]
  },
  {
   "cell_type": "code",
   "execution_count": 199,
   "id": "cfec5b31",
   "metadata": {},
   "outputs": [
    {
     "data": {
      "text/plain": [
       "30"
      ]
     },
     "execution_count": 199,
     "metadata": {},
     "output_type": "execute_result"
    }
   ],
   "source": [
    "len(org_keys)"
   ]
  },
  {
   "cell_type": "code",
   "execution_count": null,
   "id": "719b63d7",
   "metadata": {},
   "outputs": [],
   "source": [
    "\n",
    "file_names = [f.rsplit('/', 1)[1] for f in f_names]\n",
    "l_split, r_split = l.rsplit('/', 1)\n",
    "if r_split == '':\n",
    "    file_name = l_split.rsplit('/', 1)[1]\n",
    "else:\n",
    "    file_name = l.rsplit('/', 1)[1]\n",
    "if file_name + '.txt' not in file_names:\n",
    "    print(f\"retrive {l, file_name}\")\n",
    "    retrive(l, file_name, dataset=dataset)"
   ]
  },
  {
   "cell_type": "code",
   "execution_count": 208,
   "id": "148f63ca",
   "metadata": {},
   "outputs": [
    {
     "data": {
      "text/plain": [
       "True"
      ]
     },
     "execution_count": 208,
     "metadata": {},
     "output_type": "execute_result"
    }
   ],
   "source": [
    "file_name = 'Museum_Campus'\n",
    "os.path.isfile(f'/home/xtest/text_processing/data/wiki_texts/ped_pt/{file_name}.txt')"
   ]
  },
  {
   "cell_type": "code",
   "execution_count": 405,
   "id": "5dbf5f47",
   "metadata": {},
   "outputs": [],
   "source": [
    "root_dir = '/home/xtest/text_processing/data/wiki_texts/ped_pt'\n",
    "files = []\n",
    "for cls in org_keys:\n",
    "    f_names = []\n",
    "    for fn in cls:\n",
    "        f_names.extend(all_links[fn])\n",
    "    f_names = [f.rsplit('/', 1)[1] for f in f_names]\n",
    "    f_names = [f'{root_dir}/{f}.txt' for f in f_names if os.path.isfile(f'{root_dir}/{f}.txt')]\n",
    "    files.append(list(set(f_names)))"
   ]
  },
  {
   "cell_type": "code",
   "execution_count": 406,
   "id": "f4010784",
   "metadata": {},
   "outputs": [
    {
     "data": {
      "text/plain": [
       "['/home/xtest/text_processing/data/wiki_texts/ped_pt/Braess%27s_paradox.txt',\n",
       " '/home/xtest/text_processing/data/wiki_texts/ped_pt/Trolleybus.txt',\n",
       " '/home/xtest/text_processing/data/wiki_texts/ped_pt/Quinebaug_River.txt',\n",
       " '/home/xtest/text_processing/data/wiki_texts/ped_pt/Footbridge.txt',\n",
       " '/home/xtest/text_processing/data/wiki_texts/ped_pt/Road_signs_in_Russia.txt',\n",
       " '/home/xtest/text_processing/data/wiki_texts/ped_pt/Segregated%20cycle%20facilities.txt',\n",
       " '/home/xtest/text_processing/data/wiki_texts/ped_pt/Defensive_driving.txt',\n",
       " '/home/xtest/text_processing/data/wiki_texts/ped_pt/Risk_compensation.txt',\n",
       " '/home/xtest/text_processing/data/wiki_texts/ped_pt/Personal_rapid_transit.txt',\n",
       " '/home/xtest/text_processing/data/wiki_texts/ped_pt/Car.txt',\n",
       " '/home/xtest/text_processing/data/wiki_texts/ped_pt/Epidemiology_of_motor_vehicle_collisions.txt',\n",
       " '/home/xtest/text_processing/data/wiki_texts/ped_pt/501_Queen.txt',\n",
       " '/home/xtest/text_processing/data/wiki_texts/ped_pt/List_of_countries_by_traffic-related_death_rate.txt',\n",
       " '/home/xtest/text_processing/data/wiki_texts/ped_pt/All-way_stop.txt',\n",
       " '/home/xtest/text_processing/data/wiki_texts/ped_pt/Wascana_Centre.txt',\n",
       " '/home/xtest/text_processing/data/wiki_texts/ped_pt/EPCOT_(concept).txt',\n",
       " '/home/xtest/text_processing/data/wiki_texts/ped_pt/Augsburg_Eiskanal.txt',\n",
       " '/home/xtest/text_processing/data/wiki_texts/ped_pt/Bumper_(car).txt',\n",
       " '/home/xtest/text_processing/data/wiki_texts/ped_pt/Controlled-access_highway.txt',\n",
       " '/home/xtest/text_processing/data/wiki_texts/ped_pt/Road_signs_in_Norway.txt',\n",
       " '/home/xtest/text_processing/data/wiki_texts/ped_pt/Trolley_problem.txt',\n",
       " '/home/xtest/text_processing/data/wiki_texts/ped_pt/Pacific_Electric.txt',\n",
       " '/home/xtest/text_processing/data/wiki_texts/ped_pt/Automotive_city.txt',\n",
       " '/home/xtest/text_processing/data/wiki_texts/ped_pt/Ocoee_Whitewater_Center.txt',\n",
       " '/home/xtest/text_processing/data/wiki_texts/ped_pt/Autoliv.txt',\n",
       " '/home/xtest/text_processing/data/wiki_texts/ped_pt/Clyde_Tunnel.txt',\n",
       " '/home/xtest/text_processing/data/wiki_texts/ped_pt/Driving_in_the_United_Kingdom.txt',\n",
       " '/home/xtest/text_processing/data/wiki_texts/ped_pt/San_Francisco_Municipal_Railway_fleet.txt',\n",
       " '/home/xtest/text_processing/data/wiki_texts/ped_pt/Q58_(New_York_City_bus).txt',\n",
       " '/home/xtest/text_processing/data/wiki_texts/ped_pt/Roundabout.txt',\n",
       " '/home/xtest/text_processing/data/wiki_texts/ped_pt/Louise_McKinney_Riverfront_Park.txt',\n",
       " '/home/xtest/text_processing/data/wiki_texts/ped_pt/MAX_Light_Rail.txt',\n",
       " '/home/xtest/text_processing/data/wiki_texts/ped_pt/Transport_in_Winnipeg.txt',\n",
       " '/home/xtest/text_processing/data/wiki_texts/ped_pt/Effects_of_the_car_on_societies.txt',\n",
       " '/home/xtest/text_processing/data/wiki_texts/ped_pt/Frontal_protection_system.txt',\n",
       " '/home/xtest/text_processing/data/wiki_texts/ped_pt/Schanzengraben_Z%C3%BCrich.txt',\n",
       " '/home/xtest/text_processing/data/wiki_texts/ped_pt/Road_Traffic_Act_1934.txt',\n",
       " '/home/xtest/text_processing/data/wiki_texts/ped_pt/S_Line_(Utah_Transit_Authority).txt',\n",
       " '/home/xtest/text_processing/data/wiki_texts/ped_pt/King_Street_Transit_Priority_Corridor.txt',\n",
       " '/home/xtest/text_processing/data/wiki_texts/ped_pt/Toyota_Prius_(XW30).txt',\n",
       " '/home/xtest/text_processing/data/wiki_texts/ped_pt/Airbag.txt',\n",
       " '/home/xtest/text_processing/data/wiki_texts/ped_pt/Lee_Valley_White_Water_Centre.txt',\n",
       " '/home/xtest/text_processing/data/wiki_texts/ped_pt/Transportation_in_the_United_States.txt',\n",
       " '/home/xtest/text_processing/data/wiki_texts/ped_pt/Weir.txt',\n",
       " '/home/xtest/text_processing/data/wiki_texts/ped_pt/Mercedes-Benz_S-Class_(W221).txt',\n",
       " '/home/xtest/text_processing/data/wiki_texts/ped_pt/Everett%E2%80%93Snohomish_Interurban.txt',\n",
       " '/home/xtest/text_processing/data/wiki_texts/ped_pt/SEPTA_subway%E2%80%93surface_trolley_lines.txt',\n",
       " '/home/xtest/text_processing/data/wiki_texts/ped_pt/Volvo_Cars.txt',\n",
       " '/home/xtest/text_processing/data/wiki_texts/ped_pt/Connected_car.txt',\n",
       " '/home/xtest/text_processing/data/wiki_texts/ped_pt/Cart.txt',\n",
       " '/home/xtest/text_processing/data/wiki_texts/ped_pt/Kopu_Bridge.txt',\n",
       " '/home/xtest/text_processing/data/wiki_texts/ped_pt/Red_flag_traffic_laws.txt',\n",
       " '/home/xtest/text_processing/data/wiki_texts/ped_pt/List_of_motor_vehicle_deaths_in_Iceland_by_year.txt',\n",
       " '/home/xtest/text_processing/data/wiki_texts/ped_pt/Stop_and_yield_lines.txt',\n",
       " '/home/xtest/text_processing/data/wiki_texts/ped_pt/Portland_Streetcar.txt',\n",
       " '/home/xtest/text_processing/data/wiki_texts/ped_pt/M_Ocean_View.txt',\n",
       " '/home/xtest/text_processing/data/wiki_texts/ped_pt/Onkaparinga_River_Recreation_Park.txt',\n",
       " '/home/xtest/text_processing/data/wiki_texts/ped_pt/History_of_trams.txt',\n",
       " '/home/xtest/text_processing/data/wiki_texts/ped_pt/Savage_River_(Maryland).txt',\n",
       " '/home/xtest/text_processing/data/wiki_texts/ped_pt/Toronto_streetcar_system_rolling_stock.txt',\n",
       " '/home/xtest/text_processing/data/wiki_texts/ped_pt/Kunhadi.txt',\n",
       " '/home/xtest/text_processing/data/wiki_texts/ped_pt/Turn_on_red.txt',\n",
       " '/home/xtest/text_processing/data/wiki_texts/ped_pt/South_Bronx_Greenway.txt',\n",
       " '/home/xtest/text_processing/data/wiki_texts/ped_pt/Traffic_engineering_(transportation).txt',\n",
       " '/home/xtest/text_processing/data/wiki_texts/ped_pt/Westlake_Square.txt',\n",
       " '/home/xtest/text_processing/data/wiki_texts/ped_pt/Road_toll_(Australia_and_New_Zealand).txt',\n",
       " '/home/xtest/text_processing/data/wiki_texts/ped_pt/Main_Street_Line_(MATA_Trolley).txt',\n",
       " '/home/xtest/text_processing/data/wiki_texts/ped_pt/Humber_Bay_Arch_Bridge.txt',\n",
       " '/home/xtest/text_processing/data/wiki_texts/ped_pt/Skagway_River.txt',\n",
       " '/home/xtest/text_processing/data/wiki_texts/ped_pt/Land_transport.txt',\n",
       " '/home/xtest/text_processing/data/wiki_texts/ped_pt/Intelligent_speed_assistance.txt',\n",
       " '/home/xtest/text_processing/data/wiki_texts/ped_pt/Collision_avoidance_system.txt',\n",
       " '/home/xtest/text_processing/data/wiki_texts/ped_pt/Grossmont_Transit_Center.txt',\n",
       " '/home/xtest/text_processing/data/wiki_texts/ped_pt/Vehicle_regulation.txt',\n",
       " '/home/xtest/text_processing/data/wiki_texts/ped_pt/2-1_road.txt',\n",
       " '/home/xtest/text_processing/data/wiki_texts/ped_pt/DC_Streetcar.txt',\n",
       " '/home/xtest/text_processing/data/wiki_texts/ped_pt/Automotive_safety.txt',\n",
       " '/home/xtest/text_processing/data/wiki_texts/ped_pt/World%27s_Most_Amazing_Videos.txt',\n",
       " '/home/xtest/text_processing/data/wiki_texts/ped_pt/Death_of_Elaine_Herzberg.txt',\n",
       " '/home/xtest/text_processing/data/wiki_texts/ped_pt/Car-Free_Days.txt',\n",
       " '/home/xtest/text_processing/data/wiki_texts/ped_pt/Kicking_Horse_River.txt',\n",
       " '/home/xtest/text_processing/data/wiki_texts/ped_pt/Transportation_in_Connecticut.txt',\n",
       " '/home/xtest/text_processing/data/wiki_texts/ped_pt/Wheelchair.txt',\n",
       " '/home/xtest/text_processing/data/wiki_texts/ped_pt/Category:Transportation_in_the_United_States.txt',\n",
       " '/home/xtest/text_processing/data/wiki_texts/ped_pt/Insurance_Institute_for_Highway_Safety.txt',\n",
       " '/home/xtest/text_processing/data/wiki_texts/ped_pt/Longfellow_Bridge.txt',\n",
       " '/home/xtest/text_processing/data/wiki_texts/ped_pt/Bollard.txt',\n",
       " '/home/xtest/text_processing/data/wiki_texts/ped_pt/Active_mobility.txt',\n",
       " '/home/xtest/text_processing/data/wiki_texts/ped_pt/Benning_Road_Line.txt',\n",
       " '/home/xtest/text_processing/data/wiki_texts/ped_pt/List_of_motor_vehicle_deaths_in_Japan_by_year.txt',\n",
       " '/home/xtest/text_processing/data/wiki_texts/ped_pt/Talk%3AJohn_Ledyard.txt',\n",
       " '/home/xtest/text_processing/data/wiki_texts/ped_pt/Rumble_strip.txt',\n",
       " '/home/xtest/text_processing/data/wiki_texts/ped_pt/Ethan_Couch.txt',\n",
       " '/home/xtest/text_processing/data/wiki_texts/ped_pt/List_of_accidents_and_disasters_by_death_toll.txt',\n",
       " '/home/xtest/text_processing/data/wiki_texts/ped_pt/Tri_It.txt',\n",
       " '/home/xtest/text_processing/data/wiki_texts/ped_pt/Euro_NCAP.txt',\n",
       " '/home/xtest/text_processing/data/wiki_texts/ped_pt/Sydney_Coordinated_Adaptive_Traffic_System.txt',\n",
       " '/home/xtest/text_processing/data/wiki_texts/ped_pt/Glossary_of_British_terms_not_widely_used_in_the_United_States.txt',\n",
       " '/home/xtest/text_processing/data/wiki_texts/ped_pt/Wil-Cox_Bridge.txt',\n",
       " '/home/xtest/text_processing/data/wiki_texts/ped_pt/Pedestrian_detection.txt',\n",
       " '/home/xtest/text_processing/data/wiki_texts/ped_pt/Road_collision_types.txt',\n",
       " '/home/xtest/text_processing/data/wiki_texts/ped_pt/Toyota_Vitz.txt',\n",
       " '/home/xtest/text_processing/data/wiki_texts/ped_pt/Trolleybuses_in_Belgrade.txt',\n",
       " '/home/xtest/text_processing/data/wiki_texts/ped_pt/Toronto_Islands.txt',\n",
       " '/home/xtest/text_processing/data/wiki_texts/ped_pt/Milk_float.txt',\n",
       " '/home/xtest/text_processing/data/wiki_texts/ped_pt/Elevator.txt',\n",
       " '/home/xtest/text_processing/data/wiki_texts/ped_pt/Fender_(vehicle).txt',\n",
       " '/home/xtest/text_processing/data/wiki_texts/ped_pt/Pedestrian.txt',\n",
       " '/home/xtest/text_processing/data/wiki_texts/ped_pt/Road.txt',\n",
       " '/home/xtest/text_processing/data/wiki_texts/ped_pt/School_bus.txt',\n",
       " '/home/xtest/text_processing/data/wiki_texts/ped_pt/The_Forks,_Winnipeg.txt',\n",
       " '/home/xtest/text_processing/data/wiki_texts/ped_pt/Streetcar_suburb.txt',\n",
       " '/home/xtest/text_processing/data/wiki_texts/ped_pt/Shopping_cart.txt',\n",
       " '/home/xtest/text_processing/data/wiki_texts/ped_pt/Archive_2.txt',\n",
       " '/home/xtest/text_processing/data/wiki_texts/ped_pt/Peak_car.txt',\n",
       " '/home/xtest/text_processing/data/wiki_texts/ped_pt/List_of_disasters_in_Australia_by_death_toll.txt',\n",
       " '/home/xtest/text_processing/data/wiki_texts/ped_pt/List_of_automotive_superlatives.txt',\n",
       " '/home/xtest/text_processing/data/wiki_texts/ped_pt/Carwalking.txt',\n",
       " '/home/xtest/text_processing/data/wiki_texts/ped_pt/Road_signs_in_Poland.txt',\n",
       " '/home/xtest/text_processing/data/wiki_texts/ped_pt/Jay_Pritzker_Pavilion.txt',\n",
       " '/home/xtest/text_processing/data/wiki_texts/ped_pt/Lane.txt',\n",
       " '/home/xtest/text_processing/data/wiki_texts/ped_pt/Sidewalk.txt',\n",
       " '/home/xtest/text_processing/data/wiki_texts/ped_pt/Pedestrian_malls_in_the_United_States.txt',\n",
       " '/home/xtest/text_processing/data/wiki_texts/ped_pt/Mercedes-Benz_S-Class.txt',\n",
       " '/home/xtest/text_processing/data/wiki_texts/ped_pt/Smithfield_Street_Bridge.txt',\n",
       " '/home/xtest/text_processing/data/wiki_texts/ped_pt/Waltham_Common_Lock.txt',\n",
       " '/home/xtest/text_processing/data/wiki_texts/ped_pt/Footpath.txt',\n",
       " '/home/xtest/text_processing/data/wiki_texts/ped_pt/Traffic_in_Towns.txt',\n",
       " '/home/xtest/text_processing/data/wiki_texts/ped_pt/Luchemos_por_la_vida.txt',\n",
       " '/home/xtest/text_processing/data/wiki_texts/ped_pt/Brisbane_River.txt',\n",
       " '/home/xtest/text_processing/data/wiki_texts/ped_pt/Parking_brake.txt',\n",
       " '/home/xtest/text_processing/data/wiki_texts/ped_pt/List_of_car-free_places.txt',\n",
       " '/home/xtest/text_processing/data/wiki_texts/ped_pt/Jay_Cooke_State_Park.txt',\n",
       " '/home/xtest/text_processing/data/wiki_texts/ped_pt/Barton_Dam.txt',\n",
       " '/home/xtest/text_processing/data/wiki_texts/ped_pt/Ring_road.txt',\n",
       " '/home/xtest/text_processing/data/wiki_texts/ped_pt/The_Tridge_(Midland,_Michigan).txt',\n",
       " '/home/xtest/text_processing/data/wiki_texts/ped_pt/Traffic_island.txt',\n",
       " '/home/xtest/text_processing/data/wiki_texts/ped_pt/%C3%85parken.txt',\n",
       " '/home/xtest/text_processing/data/wiki_texts/ped_pt/Driving_etiquette.txt',\n",
       " '/home/xtest/text_processing/data/wiki_texts/ped_pt/Rood_Bridge_Park.txt',\n",
       " '/home/xtest/text_processing/data/wiki_texts/ped_pt/Plaka_Bridge.txt',\n",
       " '/home/xtest/text_processing/data/wiki_texts/ped_pt/POLAR_III.txt',\n",
       " '/home/xtest/text_processing/data/wiki_texts/ped_pt/Right_of_way.txt',\n",
       " '/home/xtest/text_processing/data/wiki_texts/ped_pt/Light_rail.txt',\n",
       " '/home/xtest/text_processing/data/wiki_texts/ped_pt/Level_of_service_(transportation).txt',\n",
       " '/home/xtest/text_processing/data/wiki_texts/ped_pt/History_of_traffic_lights.txt',\n",
       " '/home/xtest/text_processing/data/wiki_texts/ped_pt/Red_light_camera.txt',\n",
       " '/home/xtest/text_processing/data/wiki_texts/ped_pt/Sun_Link.txt',\n",
       " '/home/xtest/text_processing/data/wiki_texts/ped_pt/Schoharie_limousine_crash.txt',\n",
       " '/home/xtest/text_processing/data/wiki_texts/ped_pt/Tram_accident.txt',\n",
       " '/home/xtest/text_processing/data/wiki_texts/ped_pt/San_Ysidro_Port_of_Entry.txt',\n",
       " '/home/xtest/text_processing/data/wiki_texts/ped_pt/Doe_River.txt',\n",
       " '/home/xtest/text_processing/data/wiki_texts/ped_pt/Harbor_Drive_Pedestrian_Bridge.txt',\n",
       " '/home/xtest/text_processing/data/wiki_texts/ped_pt/Road_signs_in_Lithuania.txt',\n",
       " '/home/xtest/text_processing/data/wiki_texts/ped_pt/Pedestrian_railroad_safety_in_the_United_States.txt',\n",
       " '/home/xtest/text_processing/data/wiki_texts/ped_pt/Old_Town_Transit_Center.txt',\n",
       " '/home/xtest/text_processing/data/wiki_texts/ped_pt/Comparison_of_traffic_signs_in_English-speaking_territories.txt',\n",
       " '/home/xtest/text_processing/data/wiki_texts/ped_pt/Welland_Recreational_Waterway.txt',\n",
       " '/home/xtest/text_processing/data/wiki_texts/ped_pt/Metropolitan_Park_System_of_Greater_Boston.txt',\n",
       " '/home/xtest/text_processing/data/wiki_texts/ped_pt/Road_signs_in_Hong_Kong.txt',\n",
       " '/home/xtest/text_processing/data/wiki_texts/ped_pt/List_of_tram_accidents.txt',\n",
       " '/home/xtest/text_processing/data/wiki_texts/ped_pt/Street_hierarchy.txt',\n",
       " '/home/xtest/text_processing/data/wiki_texts/ped_pt/Tanana_Athabaskans.txt',\n",
       " '/home/xtest/text_processing/data/wiki_texts/ped_pt/Pedestrian_crash_avoidance_mitigation.txt',\n",
       " '/home/xtest/text_processing/data/wiki_texts/ped_pt/GAZ_Volga.txt',\n",
       " '/home/xtest/text_processing/data/wiki_texts/ped_pt/Winton_Woods.txt',\n",
       " '/home/xtest/text_processing/data/wiki_texts/ped_pt/Highway.txt',\n",
       " '/home/xtest/text_processing/data/wiki_texts/ped_pt/Glenmore_Reservoir.txt',\n",
       " '/home/xtest/text_processing/data/wiki_texts/ped_pt/Duder_Regional_Park.txt',\n",
       " '/home/xtest/text_processing/data/wiki_texts/ped_pt/National_Traffic_and_Motor_Vehicle_Safety_Act.txt',\n",
       " '/home/xtest/text_processing/data/wiki_texts/ped_pt/HAWK_beacon.txt',\n",
       " '/home/xtest/text_processing/data/wiki_texts/ped_pt/30th_Street_(San_Diego).txt',\n",
       " '/home/xtest/text_processing/data/wiki_texts/ped_pt/Automotive_lighting.txt',\n",
       " '/home/xtest/text_processing/data/wiki_texts/ped_pt/Subway_(underpass).txt',\n",
       " '/home/xtest/text_processing/data/wiki_texts/ped_pt/Complete_streets.txt',\n",
       " '/home/xtest/text_processing/data/wiki_texts/ped_pt/Category:Vehicle_safety_technologies.txt',\n",
       " '/home/xtest/text_processing/data/wiki_texts/ped_pt/Bde_Maka_Ska.txt',\n",
       " '/home/xtest/text_processing/data/wiki_texts/ped_pt/One-way_traffic.txt',\n",
       " '/home/xtest/text_processing/data/wiki_texts/ped_pt/Stanley_Park.txt',\n",
       " '/home/xtest/text_processing/data/wiki_texts/ped_pt/Category:Pedestrian_road_incident_deaths.txt',\n",
       " '/home/xtest/text_processing/data/wiki_texts/ped_pt/McCovey_Cove.txt',\n",
       " '/home/xtest/text_processing/data/wiki_texts/ped_pt/Traffic_collision.txt',\n",
       " '/home/xtest/text_processing/data/wiki_texts/ped_pt/Sunset_Tunnel.txt',\n",
       " '/home/xtest/text_processing/data/wiki_texts/ped_pt/Rhode_Island_Avenue_Trolley_Trail.txt',\n",
       " '/home/xtest/text_processing/data/wiki_texts/ped_pt/Death_of_Henry_H._Bliss.txt',\n",
       " '/home/xtest/text_processing/data/wiki_texts/ped_pt/Bharat_New_Vehicle_Safety_Assessment_Program.txt',\n",
       " '/home/xtest/text_processing/data/wiki_texts/ped_pt/Sunnyside_Amusement_Park.txt',\n",
       " '/home/xtest/text_processing/data/wiki_texts/ped_pt/Category:Pedestrian_malls.txt',\n",
       " '/home/xtest/text_processing/data/wiki_texts/ped_pt/Van_Ness_Bus_Rapid_Transit.txt',\n",
       " '/home/xtest/text_processing/data/wiki_texts/ped_pt/Casa_del_Rey_Hotel.txt',\n",
       " '/home/xtest/text_processing/data/wiki_texts/ped_pt/Glossary_of_road_transport_terms.txt',\n",
       " '/home/xtest/text_processing/data/wiki_texts/ped_pt/Pedestrian_safety_through_vehicle_design#Anatomy_of_a_pedestrian_crash.txt',\n",
       " '/home/xtest/text_processing/data/wiki_texts/ped_pt/Carfree_city.txt',\n",
       " '/home/xtest/text_processing/data/wiki_texts/ped_pt/Dead_end_(street).txt',\n",
       " '/home/xtest/text_processing/data/wiki_texts/ped_pt/L_Taraval.txt',\n",
       " '/home/xtest/text_processing/data/wiki_texts/ped_pt/Speed_limit.txt',\n",
       " '/home/xtest/text_processing/data/wiki_texts/ped_pt/Pedestrian_separation_structure.txt',\n",
       " '/home/xtest/text_processing/data/wiki_texts/ped_pt/Rickshaw_(disambiguation).txt',\n",
       " '/home/xtest/text_processing/data/wiki_texts/ped_pt/Transit_mall.txt',\n",
       " '/home/xtest/text_processing/data/wiki_texts/ped_pt/Death_of_Bridget_Driscoll.txt',\n",
       " '/home/xtest/text_processing/data/wiki_texts/ped_pt/Queensboro_Bridge.txt',\n",
       " '/home/xtest/text_processing/data/wiki_texts/ped_pt/Chadakoin_River.txt',\n",
       " '/home/xtest/text_processing/data/wiki_texts/ped_pt/Bridge_of_Flowers_(bridge).txt',\n",
       " '/home/xtest/text_processing/data/wiki_texts/ped_pt/Ichetucknee_Springs_State_Park.txt',\n",
       " '/home/xtest/text_processing/data/wiki_texts/ped_pt/Trolleybuses_in_San_Francisco.txt',\n",
       " '/home/xtest/text_processing/data/wiki_texts/ped_pt/Ford_Expedition.txt',\n",
       " '/home/xtest/text_processing/data/wiki_texts/ped_pt/Pedestrian_safety_through_vehicle_design#Reducing_pedestrian_injuries.txt',\n",
       " '/home/xtest/text_processing/data/wiki_texts/ped_pt/River_Dart.txt',\n",
       " '/home/xtest/text_processing/data/wiki_texts/ped_pt/NS_Line.txt',\n",
       " '/home/xtest/text_processing/data/wiki_texts/ped_pt/Unsafe_at_Any_Speed.txt',\n",
       " '/home/xtest/text_processing/data/wiki_texts/ped_pt/Car-free_movement.txt',\n",
       " '/home/xtest/text_processing/data/wiki_texts/ped_pt/Stroad.txt',\n",
       " '/home/xtest/text_processing/data/wiki_texts/ped_pt/Streetcars_in_New_Orleans.txt',\n",
       " '/home/xtest/text_processing/data/wiki_texts/ped_pt/Vehicle-ramming_attack.txt',\n",
       " '/home/xtest/text_processing/data/wiki_texts/ped_pt/Vancouver_International_Airport.txt',\n",
       " '/home/xtest/text_processing/data/wiki_texts/ped_pt/Gettysburg_Electric_Railway.txt',\n",
       " '/home/xtest/text_processing/data/wiki_texts/ped_pt/Clifton%E2%80%93Aldan_station.txt',\n",
       " '/home/xtest/text_processing/data/wiki_texts/ped_pt/Transportation_demand_management.txt',\n",
       " '/home/xtest/text_processing/data/wiki_texts/ped_pt/Hood_ornament.txt',\n",
       " '/home/xtest/text_processing/data/wiki_texts/ped_pt/A_Streetcar_Named_Marge.txt',\n",
       " '/home/xtest/text_processing/data/wiki_texts/ped_pt/Road_surface_marking.txt',\n",
       " '/home/xtest/text_processing/data/wiki_texts/ped_pt/Tipton_Station.txt',\n",
       " '/home/xtest/text_processing/data/wiki_texts/ped_pt/Vision_Zero.txt',\n",
       " '/home/xtest/text_processing/data/wiki_texts/ped_pt/Pedestrian_crossings_in_the_United_Kingdom.txt',\n",
       " '/home/xtest/text_processing/data/wiki_texts/ped_pt/Waddell%27s_triad.txt',\n",
       " '/home/xtest/text_processing/data/wiki_texts/ped_pt/High_Level_Bridge_(Edmonton).txt',\n",
       " '/home/xtest/text_processing/data/wiki_texts/ped_pt/North_Bay,_Ontario.txt',\n",
       " '/home/xtest/text_processing/data/wiki_texts/ped_pt/Ambulance.txt',\n",
       " '/home/xtest/text_processing/data/wiki_texts/ped_pt/Curb_extension.txt',\n",
       " '/home/xtest/text_processing/data/wiki_texts/ped_pt/Traffic_flow.txt',\n",
       " '/home/xtest/text_processing/data/wiki_texts/ped_pt/Advanced_driver-assistance_system.txt',\n",
       " '/home/xtest/text_processing/data/wiki_texts/ped_pt/Road_signs_in_Canada.txt',\n",
       " '/home/xtest/text_processing/data/wiki_texts/ped_pt/Traffic_calming.txt',\n",
       " '/home/xtest/text_processing/data/wiki_texts/ped_pt/Rankin_Bridge.txt',\n",
       " '/home/xtest/text_processing/data/wiki_texts/ped_pt/S-1_Gard.txt',\n",
       " '/home/xtest/text_processing/data/wiki_texts/ped_pt/KC_Streetcar.txt',\n",
       " '/home/xtest/text_processing/data/wiki_texts/ped_pt/Staged_crash.txt',\n",
       " '/home/xtest/text_processing/data/wiki_texts/ped_pt/City_to_Sea_Bridge.txt',\n",
       " '/home/xtest/text_processing/data/wiki_texts/ped_pt/Crash_(1996_film).txt',\n",
       " '/home/xtest/text_processing/data/wiki_texts/ped_pt/Cycling_infrastructure.txt',\n",
       " '/home/xtest/text_processing/data/wiki_texts/ped_pt/Electric_vehicle_warning_sounds.txt',\n",
       " '/home/xtest/text_processing/data/wiki_texts/ped_pt/Eastern_Parkway.txt',\n",
       " '/home/xtest/text_processing/data/wiki_texts/ped_pt/Road_signs_in_Austria.txt',\n",
       " '/home/xtest/text_processing/data/wiki_texts/ped_pt/Memphis_Suspension_Railway.txt',\n",
       " '/home/xtest/text_processing/data/wiki_texts/ped_pt/Traffic_law_in_the_United_States.txt',\n",
       " '/home/xtest/text_processing/data/wiki_texts/ped_pt/Str%C3%B8get.txt',\n",
       " '/home/xtest/text_processing/data/wiki_texts/ped_pt/Comparison_of_European_road_signs.txt',\n",
       " '/home/xtest/text_processing/data/wiki_texts/ped_pt/?title=Pedestrian_safety&redirect=no.txt',\n",
       " '/home/xtest/text_processing/data/wiki_texts/ped_pt/Electric_platform_truck.txt',\n",
       " '/home/xtest/text_processing/data/wiki_texts/ped_pt/Tailgating.txt',\n",
       " '/home/xtest/text_processing/data/wiki_texts/ped_pt/Ledyard_Bridge.txt',\n",
       " '/home/xtest/text_processing/data/wiki_texts/ped_pt/SAE_J3016?oldformat=true.txt',\n",
       " '/home/xtest/text_processing/data/wiki_texts/ped_pt/Crash_test_dummy.txt',\n",
       " '/home/xtest/text_processing/data/wiki_texts/ped_pt/Distracted_driving.txt',\n",
       " '/home/xtest/text_processing/data/wiki_texts/ped_pt/Starlight_Park.txt',\n",
       " '/home/xtest/text_processing/data/wiki_texts/ped_pt/Mont_Tremblant_Resort.txt',\n",
       " '/home/xtest/text_processing/data/wiki_texts/ped_pt/Dacia_Sandero.txt',\n",
       " '/home/xtest/text_processing/data/wiki_texts/ped_pt/Lincoln_Road.txt',\n",
       " '/home/xtest/text_processing/data/wiki_texts/ped_pt/Living_street.txt',\n",
       " '/home/xtest/text_processing/data/wiki_texts/ped_pt/Pedestrian_scramble.txt',\n",
       " '/home/xtest/text_processing/data/wiki_texts/ped_pt/Road_diet.txt',\n",
       " '/home/xtest/text_processing/data/wiki_texts/ped_pt/Summer_Street_Bridge_disaster.txt',\n",
       " '/home/xtest/text_processing/data/wiki_texts/ped_pt/Batiscan_River.txt',\n",
       " '/home/xtest/text_processing/data/wiki_texts/ped_pt/Road_safety_in_Europe.txt',\n",
       " '/home/xtest/text_processing/data/wiki_texts/ped_pt/Shared_space.txt',\n",
       " '/home/xtest/text_processing/data/wiki_texts/ped_pt/Filtered_permeability?oldformat=true.txt',\n",
       " '/home/xtest/text_processing/data/wiki_texts/ped_pt/Hudson_River_Park.txt',\n",
       " '/home/xtest/text_processing/data/wiki_texts/ped_pt/Pontevedra.txt',\n",
       " '/home/xtest/text_processing/data/wiki_texts/ped_pt/Permeability_(spatial_and_transport_planning).txt',\n",
       " '/home/xtest/text_processing/data/wiki_texts/ped_pt/Trams_in_Oranjestad.txt',\n",
       " '/home/xtest/text_processing/data/wiki_texts/ped_pt/15th_Street_station_(SEPTA).txt',\n",
       " '/home/xtest/text_processing/data/wiki_texts/ped_pt/Glenelg_River_(Victoria).txt',\n",
       " '/home/xtest/text_processing/data/wiki_texts/ped_pt/Eastern_Shore_Granite_Ridge.txt',\n",
       " '/home/xtest/text_processing/data/wiki_texts/ped_pt/Road_signs_in_Finland.txt',\n",
       " '/home/xtest/text_processing/data/wiki_texts/ped_pt/Road_hierarchy.txt',\n",
       " '/home/xtest/text_processing/data/wiki_texts/ped_pt/Safety_reflector.txt',\n",
       " '/home/xtest/text_processing/data/wiki_texts/ped_pt/List_of_traffic_collisions_(before_2000).txt',\n",
       " '/home/xtest/text_processing/data/wiki_texts/ped_pt/Vehicle_safety_technology.txt',\n",
       " '/home/xtest/text_processing/data/wiki_texts/ped_pt/Road_signs_in_Germany.txt',\n",
       " '/home/xtest/text_processing/data/wiki_texts/ped_pt/LaSalle_Street_Tunnel.txt',\n",
       " '/home/xtest/text_processing/data/wiki_texts/ped_pt/Transportation_in_Saskatchewan.txt',\n",
       " '/home/xtest/text_processing/data/wiki_texts/ped_pt/2017_Times_Square_car_attack.txt',\n",
       " '/home/xtest/text_processing/data/wiki_texts/ped_pt/de:s:en:Astoria.txt',\n",
       " '/home/xtest/text_processing/data/wiki_texts/ped_pt/Drive-through.txt',\n",
       " '/home/xtest/text_processing/data/wiki_texts/ped_pt/Five_Rivers_(Oregon).txt',\n",
       " '/home/xtest/text_processing/data/wiki_texts/ped_pt/Tram.txt',\n",
       " '/home/xtest/text_processing/data/wiki_texts/ped_pt/Hidden_headlamp.txt',\n",
       " '/home/xtest/text_processing/data/wiki_texts/ped_pt/Car-free.txt',\n",
       " '/home/xtest/text_processing/data/wiki_texts/ped_pt/Centro_Ybor_station.txt',\n",
       " '/home/xtest/text_processing/data/wiki_texts/ped_pt/Milwaukee_River.txt',\n",
       " '/home/xtest/text_processing/data/wiki_texts/ped_pt/Modal_share.txt',\n",
       " '/home/xtest/text_processing/data/wiki_texts/ped_pt/Waltham_Town_Lock.txt',\n",
       " '/home/xtest/text_processing/data/wiki_texts/ped_pt/Vehicular_cycling.txt',\n",
       " '/home/xtest/text_processing/data/wiki_texts/ped_pt/Graiseley_Electric_Vehicles.txt',\n",
       " '/home/xtest/text_processing/data/wiki_texts/ped_pt/Dooring.txt',\n",
       " '/home/xtest/text_processing/data/wiki_texts/ped_pt/Category_talk:Pedestrian_road_incident_deaths.txt',\n",
       " '/home/xtest/text_processing/data/wiki_texts/ped_pt/Talk%3ASeat_belt_legislation.txt',\n",
       " '/home/xtest/text_processing/data/wiki_texts/ped_pt/Multiple-vehicle_collision.txt',\n",
       " '/home/xtest/text_processing/data/wiki_texts/ped_pt/File:Ocoee_Whitewater_Center_panorama_without_water.png.txt',\n",
       " '/home/xtest/text_processing/data/wiki_texts/ped_pt/Canning_River_Regional_Park.txt',\n",
       " '/home/xtest/text_processing/data/wiki_texts/ped_pt/Child_harness.txt',\n",
       " '/home/xtest/text_processing/data/wiki_texts/ped_pt/Vehicular_homicide.txt',\n",
       " '/home/xtest/text_processing/data/wiki_texts/ped_pt/List_of_neighborhoods_in_Buffalo,_New_York.txt',\n",
       " '/home/xtest/text_processing/data/wiki_texts/ped_pt/Road_signs_in_Mauritius.txt',\n",
       " '/home/xtest/text_processing/data/wiki_texts/ped_pt/Credit_River.txt',\n",
       " '/home/xtest/text_processing/data/wiki_texts/ped_pt/The_Pedestrian.txt',\n",
       " '/home/xtest/text_processing/data/wiki_texts/ped_pt/Bronx_Kill.txt',\n",
       " '/home/xtest/text_processing/data/wiki_texts/ped_pt/Traffic_light.txt',\n",
       " '/home/xtest/text_processing/data/wiki_texts/ped_pt/Criticism_of_sport_utility_vehicles.txt',\n",
       " '/home/xtest/text_processing/data/wiki_texts/ped_pt/Pittsburgh,_Harmony,_Butler_and_New_Castle_Railway.txt',\n",
       " '/home/xtest/text_processing/data/wiki_texts/ped_pt/Work-related_road_safety_in_the_United_States.txt',\n",
       " '/home/xtest/text_processing/data/wiki_texts/ped_pt/Personal_transporter.txt',\n",
       " '/home/xtest/text_processing/data/wiki_texts/ped_pt/Shoulder_(road).txt',\n",
       " '/home/xtest/text_processing/data/wiki_texts/ped_pt/Girard_Avenue_Bridge.txt',\n",
       " '/home/xtest/text_processing/data/wiki_texts/ped_pt/Tees_Barrage_International_White_Water_Course.txt',\n",
       " '/home/xtest/text_processing/data/wiki_texts/ped_pt/Guerrilla_crosswalk.txt',\n",
       " '/home/xtest/text_processing/data/wiki_texts/ped_pt/Road_traffic_control_device.txt',\n",
       " '/home/xtest/text_processing/data/wiki_texts/ped_pt/Refuge_island.txt',\n",
       " '/home/xtest/text_processing/data/wiki_texts/ped_pt/Pueyrred%C3%B3n_Bridge.txt',\n",
       " '/home/xtest/text_processing/data/wiki_texts/ped_pt/San_Ysidro_Transit_Center.txt',\n",
       " '/home/xtest/text_processing/data/wiki_texts/ped_pt/Canal_de_San_Juan_metro_station.txt',\n",
       " '/home/xtest/text_processing/data/wiki_texts/ped_pt/Category:Traffic_law.txt',\n",
       " '/home/xtest/text_processing/data/wiki_texts/ped_pt/Admiral_Clarey_Bridge.txt',\n",
       " '/home/xtest/text_processing/data/wiki_texts/ped_pt/Issaquah_Valley_Trolley.txt',\n",
       " '/home/xtest/text_processing/data/wiki_texts/ped_pt/Riverside_Park_(Indianapolis).txt',\n",
       " '/home/xtest/text_processing/data/wiki_texts/ped_pt/Deep_River_Park,_North_Carolina.txt',\n",
       " '/home/xtest/text_processing/data/wiki_texts/ped_pt/Adrian_Hobbs.txt',\n",
       " '/home/xtest/text_processing/data/wiki_texts/ped_pt/Transport_accidents.txt',\n",
       " '/home/xtest/text_processing/data/wiki_texts/ped_pt/Pedestrian_safety_through_vehicle_design#Trams.txt',\n",
       " '/home/xtest/text_processing/data/wiki_texts/ped_pt/Maxus_T60.txt',\n",
       " '/home/xtest/text_processing/data/wiki_texts/ped_pt/Portneuf_Regional_Natural_Park.txt',\n",
       " '/home/xtest/text_processing/data/wiki_texts/ped_pt/BMW_C1.txt',\n",
       " '/home/xtest/text_processing/data/wiki_texts/ped_pt/Pedestrian_village.txt',\n",
       " '/home/xtest/text_processing/data/wiki_texts/ped_pt/Walkability.txt',\n",
       " '/home/xtest/text_processing/data/wiki_texts/ped_pt/Broadway_Bridge_(Portland,_Oregon).txt',\n",
       " '/home/xtest/text_processing/data/wiki_texts/ped_pt/Road_signs_in_Sweden.txt',\n",
       " '/home/xtest/text_processing/data/wiki_texts/ped_pt/Safety_in_numbers.txt',\n",
       " '/home/xtest/text_processing/data/wiki_texts/ped_pt/Acura_RL.txt',\n",
       " '/home/xtest/text_processing/data/wiki_texts/ped_pt/Trans_Canada_Trail.txt',\n",
       " '/home/xtest/text_processing/data/wiki_texts/ped_pt/Intersection_(road).txt',\n",
       " '/home/xtest/text_processing/data/wiki_texts/ped_pt/First_Hill_Streetcar.txt',\n",
       " '/home/xtest/text_processing/data/wiki_texts/ped_pt/Passenger_rail_terminology.txt',\n",
       " '/home/xtest/text_processing/data/wiki_texts/ped_pt/Ford_Maverick_(2022).txt',\n",
       " '/home/xtest/text_processing/data/wiki_texts/ped_pt/Stop_sign.txt',\n",
       " '/home/xtest/text_processing/data/wiki_texts/ped_pt/Traffic_obstruction.txt',\n",
       " '/home/xtest/text_processing/data/wiki_texts/ped_pt/Injury_prevention.txt',\n",
       " '/home/xtest/text_processing/data/wiki_texts/ped_pt/Car_dependency.txt',\n",
       " '/home/xtest/text_processing/data/wiki_texts/ped_pt/Experimental_Safety_Vehicle.txt',\n",
       " '/home/xtest/text_processing/data/wiki_texts/ped_pt/Muskegon_River.txt',\n",
       " '/home/xtest/text_processing/data/wiki_texts/ped_pt/512_St._Clair.txt',\n",
       " '/home/xtest/text_processing/data/wiki_texts/ped_pt/Pontoon_bridge.txt',\n",
       " '/home/xtest/text_processing/data/wiki_texts/ped_pt/File:PostcardNewYorkNY23rdStreetCirca1907.jpg.txt',\n",
       " '/home/xtest/text_processing/data/wiki_texts/ped_pt/Template:Road_types.txt',\n",
       " '/home/xtest/text_processing/data/wiki_texts/ped_pt/Richmond_Lock_and_Footbridge.txt',\n",
       " '/home/xtest/text_processing/data/wiki_texts/ped_pt/Driving_while_black.txt',\n",
       " '/home/xtest/text_processing/data/wiki_texts/ped_pt/Federal_Motor_Vehicle_Safety_Standards.txt',\n",
       " '/home/xtest/text_processing/data/wiki_texts/ped_pt/Types_of_road.txt',\n",
       " '/home/xtest/text_processing/data/wiki_texts/ped_pt/Pelican_crossing.txt',\n",
       " '/home/xtest/text_processing/data/wiki_texts/ped_pt/Random_checkpoint.txt',\n",
       " '/home/xtest/text_processing/data/wiki_texts/ped_pt/Driving_in_India.txt',\n",
       " '/home/xtest/text_processing/data/wiki_texts/ped_pt/37th_Street_station_(SEPTA).txt',\n",
       " '/home/xtest/text_processing/data/wiki_texts/ped_pt/Tukwila_International_Boulevard_station.txt',\n",
       " '/home/xtest/text_processing/data/wiki_texts/ped_pt/Vehicle-to-everything.txt',\n",
       " '/home/xtest/text_processing/data/wiki_texts/ped_pt/SEAT_Le%C3%B3n.txt',\n",
       " '/home/xtest/text_processing/data/wiki_texts/ped_pt/Mattapan_station.txt',\n",
       " '/home/xtest/text_processing/data/wiki_texts/ped_pt/Cedarburg_(town),_Wisconsin.txt',\n",
       " '/home/xtest/text_processing/data/wiki_texts/ped_pt/Motor_vehicle_fatality_rate_in_U.S._by_year.txt',\n",
       " '/home/xtest/text_processing/data/wiki_texts/ped_pt/Butler_station_(MBTA).txt',\n",
       " '/home/xtest/text_processing/data/wiki_texts/ped_pt/Chinyingi.txt',\n",
       " '/home/xtest/text_processing/data/wiki_texts/ped_pt/American_Automobile_Association.txt',\n",
       " '/home/xtest/text_processing/data/wiki_texts/ped_pt/North_Shore_Channel.txt',\n",
       " '/home/xtest/text_processing/data/wiki_texts/ped_pt/Pfrimm.txt',\n",
       " '/home/xtest/text_processing/data/wiki_texts/ped_pt/Streetcar_tunnels_in_Chicago.txt',\n",
       " '/home/xtest/text_processing/data/wiki_texts/ped_pt/White%27s_Ferry.txt',\n",
       " '/home/xtest/text_processing/data/wiki_texts/ped_pt/Tahquamenon_Falls.txt',\n",
       " '/home/xtest/text_processing/data/wiki_texts/ped_pt/Road_Traffic_Safety_Law_of_the_People%27s_Republic_of_China.txt',\n",
       " '/home/xtest/text_processing/data/wiki_texts/ped_pt/Queen_Street_Viaduct.txt',\n",
       " '/home/xtest/text_processing/data/wiki_texts/ped_pt/Street.txt',\n",
       " '/home/xtest/text_processing/data/wiki_texts/ped_pt/History_of_self-driving_cars.txt',\n",
       " '/home/xtest/text_processing/data/wiki_texts/ped_pt/Thornaby-on-Tees.txt',\n",
       " '/home/xtest/text_processing/data/wiki_texts/ped_pt/Passenger_vehicles_in_the_United_States.txt',\n",
       " '/home/xtest/text_processing/data/wiki_texts/ped_pt/Road_signs_in_Australia.txt',\n",
       " '/home/xtest/text_processing/data/wiki_texts/ped_pt/Frontage_road.txt',\n",
       " '/home/xtest/text_processing/data/wiki_texts/ped_pt/CityPlace,_Toronto.txt',\n",
       " '/home/xtest/text_processing/data/wiki_texts/ped_pt/Commons:category:Ichetucknee_Springs_State_Park.txt',\n",
       " '/home/xtest/text_processing/data/wiki_texts/ped_pt/Riverfront_Loop.txt',\n",
       " '/home/xtest/text_processing/data/wiki_texts/ped_pt/Talk%3ARisk_compensation.txt',\n",
       " '/home/xtest/text_processing/data/wiki_texts/ped_pt/Road_speed_limits_in_the_United_Kingdom.txt',\n",
       " '/home/xtest/text_processing/data/wiki_texts/ped_pt/514_Cherry.txt',\n",
       " '/home/xtest/text_processing/data/wiki_texts/ped_pt/Bethesda_Trolley_Trail.txt',\n",
       " '/home/xtest/text_processing/data/wiki_texts/ped_pt/Road_traffic_control.txt',\n",
       " '/home/xtest/text_processing/data/wiki_texts/ped_pt/Sudbury_and_Copper_Cliff_Suburban_Electric_Railway.txt',\n",
       " '/home/xtest/text_processing/data/wiki_texts/ped_pt/Honda_Legend.txt',\n",
       " '/home/xtest/text_processing/data/wiki_texts/ped_pt/Jaywalking.txt',\n",
       " '/home/xtest/text_processing/data/wiki_texts/ped_pt/Portland_Railroad_Company_Substation.txt',\n",
       " '/home/xtest/text_processing/data/wiki_texts/ped_pt/Homicidal_chauffeur_problem.txt',\n",
       " '/home/xtest/text_processing/data/wiki_texts/ped_pt/Private_transport.txt',\n",
       " '/home/xtest/text_processing/data/wiki_texts/ped_pt/Big_Sugar_Creek.txt',\n",
       " '/home/xtest/text_processing/data/wiki_texts/ped_pt/File:UCSD_Health_Station_Pedestrian_Bridge.jpg.txt',\n",
       " '/home/xtest/text_processing/data/wiki_texts/ped_pt/Michal_Martik%C3%A1n.txt',\n",
       " '/home/xtest/text_processing/data/wiki_texts/ped_pt/File:Aztec_Center.jpg.txt',\n",
       " '/home/xtest/text_processing/data/wiki_texts/ped_pt/Alternatives_to_car_use.txt',\n",
       " '/home/xtest/text_processing/data/wiki_texts/ped_pt/Steel_Bridge.txt',\n",
       " '/home/xtest/text_processing/data/wiki_texts/ped_pt/List_of_people_who_died_in_traffic_collisions.txt',\n",
       " '/home/xtest/text_processing/data/wiki_texts/ped_pt/File:Streetcar_and_pedestrians,_11th_Avenue,_1911.jpg.txt',\n",
       " '/home/xtest/text_processing/data/wiki_texts/ped_pt/Cranford,_New_Jersey.txt',\n",
       " '/home/xtest/text_processing/data/wiki_texts/ped_pt/Non-motorized_access_on_freeways.txt',\n",
       " '/home/xtest/text_processing/data/wiki_texts/ped_pt/Smart_Fortwo.txt',\n",
       " '/home/xtest/text_processing/data/wiki_texts/ped_pt/Road_transport.txt',\n",
       " '/home/xtest/text_processing/data/wiki_texts/ped_pt/Forklift.txt',\n",
       " '/home/xtest/text_processing/data/wiki_texts/ped_pt/Category:Low-importance_Streetcars_articles.txt',\n",
       " '/home/xtest/text_processing/data/wiki_texts/ped_pt/Vehicle_insurance_in_the_United_States.txt',\n",
       " '/home/xtest/text_processing/data/wiki_texts/ped_pt/Traffic_count.txt',\n",
       " '/home/xtest/text_processing/data/wiki_texts/ped_pt/Slip_lane.txt',\n",
       " '/home/xtest/text_processing/data/wiki_texts/ped_pt/Reeds_Lake.txt',\n",
       " '/home/xtest/text_processing/data/wiki_texts/ped_pt/Laughery_Creek.txt',\n",
       " '/home/xtest/text_processing/data/wiki_texts/ped_pt/Deborah_J._Glick.txt',\n",
       " '/home/xtest/text_processing/data/wiki_texts/ped_pt/Environmental_effects_of_transport.txt',\n",
       " '/home/xtest/text_processing/data/wiki_texts/ped_pt/Road_junction.txt',\n",
       " '/home/xtest/text_processing/data/wiki_texts/ped_pt/Driving_in_the_United_States.txt',\n",
       " '/home/xtest/text_processing/data/wiki_texts/ped_pt/Vehicle_blind_spot.txt',\n",
       " '/home/xtest/text_processing/data/wiki_texts/ped_pt/Pedestrian_safety_through_vehicle_design.txt',\n",
       " '/home/xtest/text_processing/data/wiki_texts/ped_pt/General_Pierce_Bridge.txt',\n",
       " '/home/xtest/text_processing/data/wiki_texts/ped_pt/Driving_in_Singapore.txt',\n",
       " '/home/xtest/text_processing/data/wiki_texts/ped_pt/File:Trolley_at_Arlington_stop_fr_Mt_Lebanon_Blvd_jeh.JPG.txt',\n",
       " '/home/xtest/text_processing/data/wiki_texts/ped_pt/A_and_B_Loop.txt',\n",
       " '/home/xtest/text_processing/data/wiki_texts/ped_pt/Neuqu%C3%A9n%E2%80%93Cipolletti_bridges.txt',\n",
       " '/home/xtest/text_processing/data/wiki_texts/ped_pt/Traffic_light_control_and_coordination.txt',\n",
       " '/home/xtest/text_processing/data/wiki_texts/ped_pt/Westerfolds_Park.txt',\n",
       " '/home/xtest/text_processing/data/wiki_texts/ped_pt/Killing_of_Philando_Castile.txt',\n",
       " '/home/xtest/text_processing/data/wiki_texts/ped_pt/Twin_City_Rapid_Transit_Company.txt',\n",
       " '/home/xtest/text_processing/data/wiki_texts/ped_pt/Traffic.txt',\n",
       " '/home/xtest/text_processing/data/wiki_texts/ped_pt/Belisha_beacon.txt',\n",
       " '/home/xtest/text_processing/data/wiki_texts/ped_pt/Pedestrian_zone.txt',\n",
       " '/home/xtest/text_processing/data/wiki_texts/ped_pt/Canal_Streetcar_Line.txt',\n",
       " '/home/xtest/text_processing/data/wiki_texts/ped_pt/Adaptive_cruise_control.txt',\n",
       " '/home/xtest/text_processing/data/wiki_texts/ped_pt/Pedestrian_crossing.txt',\n",
       " '/home/xtest/text_processing/data/wiki_texts/ped_pt/Traffic_barrier.txt',\n",
       " '/home/xtest/text_processing/data/wiki_texts/ped_pt/Transportation_in_South_Florida.txt',\n",
       " '/home/xtest/text_processing/data/wiki_texts/ped_pt/Crumple_zone.txt',\n",
       " '/home/xtest/text_processing/data/wiki_texts/ped_pt/Atlanta_Streetcar.txt',\n",
       " '/home/xtest/text_processing/data/wiki_texts/ped_pt/Helen,_Georgia.txt',\n",
       " '/home/xtest/text_processing/data/wiki_texts/ped_pt/Brooklyn_Dodgers.txt',\n",
       " '/home/xtest/text_processing/data/wiki_texts/ped_pt/Road_traffic_safety.txt',\n",
       " '/home/xtest/text_processing/data/wiki_texts/ped_pt/Duluth,_Minnesota.txt',\n",
       " '/home/xtest/text_processing/data/wiki_texts/ped_pt/Automotive_night_vision.txt',\n",
       " '/home/xtest/text_processing/data/wiki_texts/ped_pt/Road_signs_in_Italy.txt',\n",
       " '/home/xtest/text_processing/data/wiki_texts/ped_pt/Self-driving_car.txt',\n",
       " '/home/xtest/text_processing/data/wiki_texts/ped_pt/Lachine_Canal.txt',\n",
       " '/home/xtest/text_processing/data/wiki_texts/ped_pt/Queens_Boulevard.txt',\n",
       " '/home/xtest/text_processing/data/wiki_texts/ped_pt/Road_signs_in_Switzerland_and_Liechtenstein.txt',\n",
       " '/home/xtest/text_processing/data/wiki_texts/ped_pt/Trail.txt',\n",
       " '/home/xtest/text_processing/data/wiki_texts/ped_pt/Bidirectional_traffic.txt',\n",
       " '/home/xtest/text_processing/data/wiki_texts/ped_pt/Granville_Mall,_Vancouver.txt',\n",
       " '/home/xtest/text_processing/data/wiki_texts/ped_pt/Zebra_crossing.txt',\n",
       " '/home/xtest/text_processing/data/wiki_texts/ped_pt/Trolley_(horse-drawn).txt',\n",
       " '/home/xtest/text_processing/data/wiki_texts/ped_pt/Assured_clear_distance_ahead.txt',\n",
       " '/home/xtest/text_processing/data/wiki_texts/ped_pt/Higashi-Ikebukuro_runaway_car_accident.txt',\n",
       " '/home/xtest/text_processing/data/wiki_texts/ped_pt/Flexity_Outlook_(Toronto).txt',\n",
       " '/home/xtest/text_processing/data/wiki_texts/ped_pt/Road_surface.txt',\n",
       " '/home/xtest/text_processing/data/wiki_texts/ped_pt/Category:Pedestrian_safety.txt',\n",
       " '/home/xtest/text_processing/data/wiki_texts/ped_pt/Harbour_Island_People_Mover.txt',\n",
       " '/home/xtest/text_processing/data/wiki_texts/ped_pt/Road_signs_in_the_United_States.txt',\n",
       " '/home/xtest/text_processing/data/wiki_texts/ped_pt/Reported_Road_Casualties_Great_Britain.txt',\n",
       " '/home/xtest/text_processing/data/wiki_texts/ped_pt/Sport_utility_vehicle.txt',\n",
       " '/home/xtest/text_processing/data/wiki_texts/ped_pt/Transportation_safety_in_the_United_States.txt',\n",
       " '/home/xtest/text_processing/data/wiki_texts/ped_pt/John_Seigenthaler_Pedestrian_Bridge.txt',\n",
       " '/home/xtest/text_processing/data/wiki_texts/ped_pt/Michelle_Kosinski.txt',\n",
       " '/home/xtest/text_processing/data/wiki_texts/ped_pt/Road_space_rationing.txt',\n",
       " '/home/xtest/text_processing/data/wiki_texts/ped_pt/Protected_intersection.txt',\n",
       " '/home/xtest/text_processing/data/wiki_texts/ped_pt/Vision_Zero_(New_York_City).txt',\n",
       " '/home/xtest/text_processing/data/wiki_texts/ped_pt/Kemptville_Creek.txt',\n",
       " '/home/xtest/text_processing/data/wiki_texts/ped_pt/Rahway_River_Parkway.txt',\n",
       " '/home/xtest/text_processing/data/wiki_texts/ped_pt/Seat_belt_legislation.txt']"
      ]
     },
     "execution_count": 406,
     "metadata": {},
     "output_type": "execute_result"
    }
   ],
   "source": [
    "files[10]"
   ]
  },
  {
   "cell_type": "code",
   "execution_count": 213,
   "id": "715143f1",
   "metadata": {},
   "outputs": [
    {
     "name": "stdout",
     "output_type": "stream",
     "text": [
      "725\n",
      "1580\n",
      "1261\n",
      "1986\n",
      "410\n",
      "1442\n",
      "1598\n",
      "953\n",
      "437\n",
      "1086\n",
      "474\n",
      "1948\n",
      "864\n",
      "1044\n",
      "1066\n",
      "1311\n",
      "1465\n",
      "572\n",
      "1222\n",
      "1823\n",
      "584\n",
      "1599\n",
      "806\n",
      "953\n",
      "398\n",
      "1115\n",
      "1792\n",
      "1471\n",
      "553\n",
      "1584\n"
     ]
    }
   ],
   "source": [
    "for f in files:\n",
    "    print(len(f))"
   ]
  },
  {
   "cell_type": "code",
   "execution_count": 214,
   "id": "adaec6c7",
   "metadata": {
    "scrolled": true
   },
   "outputs": [
    {
     "data": {
      "text/html": [
       "<div>\n",
       "<style scoped>\n",
       "    .dataframe tbody tr th:only-of-type {\n",
       "        vertical-align: middle;\n",
       "    }\n",
       "\n",
       "    .dataframe tbody tr th {\n",
       "        vertical-align: top;\n",
       "    }\n",
       "\n",
       "    .dataframe thead th {\n",
       "        text-align: right;\n",
       "    }\n",
       "</style>\n",
       "<table border=\"1\" class=\"dataframe\">\n",
       "  <thead>\n",
       "    <tr style=\"text-align: right;\">\n",
       "      <th></th>\n",
       "      <th>c_id</th>\n",
       "      <th>cluster</th>\n",
       "      <th>json_key</th>\n",
       "      <th>files</th>\n",
       "      <th>score</th>\n",
       "    </tr>\n",
       "  </thead>\n",
       "  <tbody>\n",
       "    <tr>\n",
       "      <th>4</th>\n",
       "      <td>4</td>\n",
       "      <td>[promenade, pedestrianize, thoroughfare, pedes...</td>\n",
       "      <td>[pedestrians, pedestriantraffic, pedestrianism...</td>\n",
       "      <td>[/home/xtest/text_processing/data/wiki_tex...</td>\n",
       "      <td>0.708186</td>\n",
       "    </tr>\n",
       "    <tr>\n",
       "      <th>16</th>\n",
       "      <td>16</td>\n",
       "      <td>[walk frame, stroll, knucklewalk, forwalk, foo...</td>\n",
       "      <td>[walkabout, walk cane, stroll, intentional wal...</td>\n",
       "      <td>[/home/xtest/text_processing/data/wiki_tex...</td>\n",
       "      <td>0.407751</td>\n",
       "    </tr>\n",
       "    <tr>\n",
       "      <th>8</th>\n",
       "      <td>8</td>\n",
       "      <td>[pelican crossing, cross, crossstreet, interfe...</td>\n",
       "      <td>[crosswalks, pelican crossing, crossing, cross...</td>\n",
       "      <td>[/home/xtest/text_processing/data/wiki_tex...</td>\n",
       "      <td>0.400158</td>\n",
       "    </tr>\n",
       "    <tr>\n",
       "      <th>26</th>\n",
       "      <td>26</td>\n",
       "      <td>[rightofway, trafficwarden, dual carriageway, ...</td>\n",
       "      <td>[road rage, sidewalks, roadsurface, trafficcop...</td>\n",
       "      <td>[/home/xtest/text_processing/data/wiki_tex...</td>\n",
       "      <td>0.349862</td>\n",
       "    </tr>\n",
       "    <tr>\n",
       "      <th>9</th>\n",
       "      <td>9</td>\n",
       "      <td>[travel, travel to destination, subway, bus, c...</td>\n",
       "      <td>[transportationsystem, bus-only, commuter trai...</td>\n",
       "      <td>[/home/xtest/text_processing/data/wiki_tex...</td>\n",
       "      <td>0.338677</td>\n",
       "    </tr>\n",
       "    <tr>\n",
       "      <th>10</th>\n",
       "      <td>10</td>\n",
       "      <td>[trolleycar, car, vehicular traffic, seat belt...</td>\n",
       "      <td>[vehiculartraffic, car, trolleycar, seat belt,...</td>\n",
       "      <td>[/home/xtest/text_processing/data/wiki_tex...</td>\n",
       "      <td>0.332366</td>\n",
       "    </tr>\n",
       "    <tr>\n",
       "      <th>20</th>\n",
       "      <td>20</td>\n",
       "      <td>[horse gait, bipedal, bicycle, trek, dave kuns...</td>\n",
       "      <td>[dave kunst, bimble, horse gait, bipedalism, t...</td>\n",
       "      <td>[/home/xtest/text_processing/data/wiki_tex...</td>\n",
       "      <td>0.310068</td>\n",
       "    </tr>\n",
       "    <tr>\n",
       "      <th>17</th>\n",
       "      <td>17</td>\n",
       "      <td>[handicapped, advocacy, fatality, accident, ch...</td>\n",
       "      <td>[plaintiff, injuries, accident, charitable org...</td>\n",
       "      <td>[/home/xtest/text_processing/data/wiki_tex...</td>\n",
       "      <td>0.297370</td>\n",
       "    </tr>\n",
       "    <tr>\n",
       "      <th>12</th>\n",
       "      <td>12</td>\n",
       "      <td>[motorist, driver, auto, passenger, carpooler,...</td>\n",
       "      <td>[drivearound, mobility scooter, nondriver, mot...</td>\n",
       "      <td>[/home/xtest/text_processing/data/wiki_tex...</td>\n",
       "      <td>0.286285</td>\n",
       "    </tr>\n",
       "    <tr>\n",
       "      <th>27</th>\n",
       "      <td>27</td>\n",
       "      <td>[stomper, staggerer, wayfarer, stamper, hardsh...</td>\n",
       "      <td>[plodder, hiker, stomp, stomper, staggerer, tr...</td>\n",
       "      <td>[/home/xtest/text_processing/data/wiki_tex...</td>\n",
       "      <td>0.284224</td>\n",
       "    </tr>\n",
       "    <tr>\n",
       "      <th>24</th>\n",
       "      <td>24</td>\n",
       "      <td>[passer, bystander, saunterer, passersby, ian ...</td>\n",
       "      <td>[saunter, saunterer, passometer, passable, pas...</td>\n",
       "      <td>[/home/xtest/text_processing/data/wiki_tex...</td>\n",
       "      <td>0.280584</td>\n",
       "    </tr>\n",
       "    <tr>\n",
       "      <th>1</th>\n",
       "      <td>1</td>\n",
       "      <td>[underfoot, duck foot, feetless, footstep, foo...</td>\n",
       "      <td>[clubfoot, clawfooted, foot soldier, footwrap,...</td>\n",
       "      <td>[/home/xtest/text_processing/data/wiki_tex...</td>\n",
       "      <td>0.275071</td>\n",
       "    </tr>\n",
       "    <tr>\n",
       "      <th>22</th>\n",
       "      <td>22</td>\n",
       "      <td>[step forward, step in, walk around, approach,...</td>\n",
       "      <td>[approach, use your leg, walk through, take ph...</td>\n",
       "      <td>[/home/xtest/text_processing/data/wiki_tex...</td>\n",
       "      <td>0.271569</td>\n",
       "    </tr>\n",
       "    <tr>\n",
       "      <th>5</th>\n",
       "      <td>5</td>\n",
       "      <td>[at bat, three-lane, multilane, alley, interch...</td>\n",
       "      <td>[robinson, one-lane, interchanges, wards, alle...</td>\n",
       "      <td>[/home/xtest/text_processing/data/wiki_tex...</td>\n",
       "      <td>0.271205</td>\n",
       "    </tr>\n",
       "    <tr>\n",
       "      <th>19</th>\n",
       "      <td>19</td>\n",
       "      <td>[olympic games, rush hour, urbanist, europe, y...</td>\n",
       "      <td>[yorks, change location, citys, area, urbanist...</td>\n",
       "      <td>[/home/xtest/text_processing/data/wiki_tex...</td>\n",
       "      <td>0.263294</td>\n",
       "    </tr>\n",
       "    <tr>\n",
       "      <th>28</th>\n",
       "      <td>28</td>\n",
       "      <td>[trample, slogger, hamble, quadrupedally, esca...</td>\n",
       "      <td>[escalators, tram, trample, ramble, hamble, sl...</td>\n",
       "      <td>[/home/xtest/text_processing/data/wiki_tex...</td>\n",
       "      <td>0.261921</td>\n",
       "    </tr>\n",
       "    <tr>\n",
       "      <th>0</th>\n",
       "      <td>0</td>\n",
       "      <td>[landscape, enjoy nature, solace, naturestrip,...</td>\n",
       "      <td>[solace, sheltered, mankind, enjoy nature, env...</td>\n",
       "      <td>[/home/xtest/text_processing/data/wiki_tex...</td>\n",
       "      <td>0.247248</td>\n",
       "    </tr>\n",
       "    <tr>\n",
       "      <th>21</th>\n",
       "      <td>21</td>\n",
       "      <td>[night, character, exercise your dog, vagrant,...</td>\n",
       "      <td>[vagrant, soul, deaths, world, exercise your d...</td>\n",
       "      <td>[/home/xtest/text_processing/data/wiki_tex...</td>\n",
       "      <td>0.244279</td>\n",
       "    </tr>\n",
       "    <tr>\n",
       "      <th>14</th>\n",
       "      <td>14</td>\n",
       "      <td>[underpass, queensboro bridge, bosporus bridge...</td>\n",
       "      <td>[overpass, floating bridge, queensboro bridge,...</td>\n",
       "      <td>[/home/xtest/text_processing/data/wiki_tex...</td>\n",
       "      <td>0.243603</td>\n",
       "    </tr>\n",
       "    <tr>\n",
       "      <th>7</th>\n",
       "      <td>7</td>\n",
       "      <td>[south, bed, morning, carson, southbound, east...</td>\n",
       "      <td>[bed, zones, west, side, zone, south, westboun...</td>\n",
       "      <td>[/home/xtest/text_processing/data/wiki_tex...</td>\n",
       "      <td>0.238520</td>\n",
       "    </tr>\n",
       "    <tr>\n",
       "      <th>3</th>\n",
       "      <td>3</td>\n",
       "      <td>[protect, pointduty, elevate, density, oncomin...</td>\n",
       "      <td>[frontage, gradatory, study, at-grade, purpose...</td>\n",
       "      <td>[/home/xtest/text_processing/data/wiki_tex...</td>\n",
       "      <td>0.234967</td>\n",
       "    </tr>\n",
       "    <tr>\n",
       "      <th>23</th>\n",
       "      <td>23</td>\n",
       "      <td>[excursion, scenic, hike, go somewhere else, t...</td>\n",
       "      <td>[scenic, get somewhere, trips, tour, hike, enj...</td>\n",
       "      <td>[/home/xtest/text_processing/data/wiki_tex...</td>\n",
       "      <td>0.233061</td>\n",
       "    </tr>\n",
       "    <tr>\n",
       "      <th>29</th>\n",
       "      <td>29</td>\n",
       "      <td>[passage, network, connection, limited-access,...</td>\n",
       "      <td>[traverse, shared use path, traversable, fence...</td>\n",
       "      <td>[/home/xtest/text_processing/data/wiki_tex...</td>\n",
       "      <td>0.227658</td>\n",
       "    </tr>\n",
       "    <tr>\n",
       "      <th>2</th>\n",
       "      <td>2</td>\n",
       "      <td>[routine, reverie, childhood, constitutionaliz...</td>\n",
       "      <td>[obesity, behavior, ambulation, exercises, sho...</td>\n",
       "      <td>[/home/xtest/text_processing/data/wiki_tex...</td>\n",
       "      <td>0.226398</td>\n",
       "    </tr>\n",
       "    <tr>\n",
       "      <th>11</th>\n",
       "      <td>11</td>\n",
       "      <td>[emphasis, prose, maindrag, verse, dress, unli...</td>\n",
       "      <td>[style, separation, attention, unobservant, fa...</td>\n",
       "      <td>[/home/xtest/text_processing/data/wiki_tex...</td>\n",
       "      <td>0.217165</td>\n",
       "    </tr>\n",
       "    <tr>\n",
       "      <th>13</th>\n",
       "      <td>13</td>\n",
       "      <td>[sage, shank nag, playmate, person, sashay, gi...</td>\n",
       "      <td>[gibe, skateboards, rekick, sashay, sage, waul...</td>\n",
       "      <td>[/home/xtest/text_processing/data/wiki_tex...</td>\n",
       "      <td>0.214822</td>\n",
       "    </tr>\n",
       "    <tr>\n",
       "      <th>6</th>\n",
       "      <td>6</td>\n",
       "      <td>[signal, duty, power, value, status, number, b...</td>\n",
       "      <td>[signals, boots, series, volumes, force, dista...</td>\n",
       "      <td>[/home/xtest/text_processing/data/wiki_tex...</td>\n",
       "      <td>0.205784</td>\n",
       "    </tr>\n",
       "    <tr>\n",
       "      <th>15</th>\n",
       "      <td>15</td>\n",
       "      <td>[treadle, pedestrial, traipse, waddle, prosy, ...</td>\n",
       "      <td>[plod, taligrade, pattens, slink, treadle, fir...</td>\n",
       "      <td>[/home/xtest/text_processing/data/wiki_tex...</td>\n",
       "      <td>0.198882</td>\n",
       "    </tr>\n",
       "    <tr>\n",
       "      <th>18</th>\n",
       "      <td>18</td>\n",
       "      <td>[fact, time, non, percent, crowd, way, sensati...</td>\n",
       "      <td>[fact, warnings, link, portion, effect, sensat...</td>\n",
       "      <td>[/home/xtest/text_processing/data/wiki_tex...</td>\n",
       "      <td>0.180433</td>\n",
       "    </tr>\n",
       "    <tr>\n",
       "      <th>25</th>\n",
       "      <td>25</td>\n",
       "      <td>[servicearea, tetrapous, british english, pera...</td>\n",
       "      <td>[floozie, british english, flounce, taxistand,...</td>\n",
       "      <td>[/home/xtest/text_processing/data/wiki_tex...</td>\n",
       "      <td>0.157614</td>\n",
       "    </tr>\n",
       "  </tbody>\n",
       "</table>\n",
       "</div>"
      ],
      "text/plain": [
       "    c_id                                            cluster  \\\n",
       "4      4  [promenade, pedestrianize, thoroughfare, pedes...   \n",
       "16    16  [walk frame, stroll, knucklewalk, forwalk, foo...   \n",
       "8      8  [pelican crossing, cross, crossstreet, interfe...   \n",
       "26    26  [rightofway, trafficwarden, dual carriageway, ...   \n",
       "9      9  [travel, travel to destination, subway, bus, c...   \n",
       "10    10  [trolleycar, car, vehicular traffic, seat belt...   \n",
       "20    20  [horse gait, bipedal, bicycle, trek, dave kuns...   \n",
       "17    17  [handicapped, advocacy, fatality, accident, ch...   \n",
       "12    12  [motorist, driver, auto, passenger, carpooler,...   \n",
       "27    27  [stomper, staggerer, wayfarer, stamper, hardsh...   \n",
       "24    24  [passer, bystander, saunterer, passersby, ian ...   \n",
       "1      1  [underfoot, duck foot, feetless, footstep, foo...   \n",
       "22    22  [step forward, step in, walk around, approach,...   \n",
       "5      5  [at bat, three-lane, multilane, alley, interch...   \n",
       "19    19  [olympic games, rush hour, urbanist, europe, y...   \n",
       "28    28  [trample, slogger, hamble, quadrupedally, esca...   \n",
       "0      0  [landscape, enjoy nature, solace, naturestrip,...   \n",
       "21    21  [night, character, exercise your dog, vagrant,...   \n",
       "14    14  [underpass, queensboro bridge, bosporus bridge...   \n",
       "7      7  [south, bed, morning, carson, southbound, east...   \n",
       "3      3  [protect, pointduty, elevate, density, oncomin...   \n",
       "23    23  [excursion, scenic, hike, go somewhere else, t...   \n",
       "29    29  [passage, network, connection, limited-access,...   \n",
       "2      2  [routine, reverie, childhood, constitutionaliz...   \n",
       "11    11  [emphasis, prose, maindrag, verse, dress, unli...   \n",
       "13    13  [sage, shank nag, playmate, person, sashay, gi...   \n",
       "6      6  [signal, duty, power, value, status, number, b...   \n",
       "15    15  [treadle, pedestrial, traipse, waddle, prosy, ...   \n",
       "18    18  [fact, time, non, percent, crowd, way, sensati...   \n",
       "25    25  [servicearea, tetrapous, british english, pera...   \n",
       "\n",
       "                                             json_key  \\\n",
       "4   [pedestrians, pedestriantraffic, pedestrianism...   \n",
       "16  [walkabout, walk cane, stroll, intentional wal...   \n",
       "8   [crosswalks, pelican crossing, crossing, cross...   \n",
       "26  [road rage, sidewalks, roadsurface, trafficcop...   \n",
       "9   [transportationsystem, bus-only, commuter trai...   \n",
       "10  [vehiculartraffic, car, trolleycar, seat belt,...   \n",
       "20  [dave kunst, bimble, horse gait, bipedalism, t...   \n",
       "17  [plaintiff, injuries, accident, charitable org...   \n",
       "12  [drivearound, mobility scooter, nondriver, mot...   \n",
       "27  [plodder, hiker, stomp, stomper, staggerer, tr...   \n",
       "24  [saunter, saunterer, passometer, passable, pas...   \n",
       "1   [clubfoot, clawfooted, foot soldier, footwrap,...   \n",
       "22  [approach, use your leg, walk through, take ph...   \n",
       "5   [robinson, one-lane, interchanges, wards, alle...   \n",
       "19  [yorks, change location, citys, area, urbanist...   \n",
       "28  [escalators, tram, trample, ramble, hamble, sl...   \n",
       "0   [solace, sheltered, mankind, enjoy nature, env...   \n",
       "21  [vagrant, soul, deaths, world, exercise your d...   \n",
       "14  [overpass, floating bridge, queensboro bridge,...   \n",
       "7   [bed, zones, west, side, zone, south, westboun...   \n",
       "3   [frontage, gradatory, study, at-grade, purpose...   \n",
       "23  [scenic, get somewhere, trips, tour, hike, enj...   \n",
       "29  [traverse, shared use path, traversable, fence...   \n",
       "2   [obesity, behavior, ambulation, exercises, sho...   \n",
       "11  [style, separation, attention, unobservant, fa...   \n",
       "13  [gibe, skateboards, rekick, sashay, sage, waul...   \n",
       "6   [signals, boots, series, volumes, force, dista...   \n",
       "15  [plod, taligrade, pattens, slink, treadle, fir...   \n",
       "18  [fact, warnings, link, portion, effect, sensat...   \n",
       "25  [floozie, british english, flounce, taxistand,...   \n",
       "\n",
       "                                                files     score  \n",
       "4   [/home/xtest/text_processing/data/wiki_tex...  0.708186  \n",
       "16  [/home/xtest/text_processing/data/wiki_tex...  0.407751  \n",
       "8   [/home/xtest/text_processing/data/wiki_tex...  0.400158  \n",
       "26  [/home/xtest/text_processing/data/wiki_tex...  0.349862  \n",
       "9   [/home/xtest/text_processing/data/wiki_tex...  0.338677  \n",
       "10  [/home/xtest/text_processing/data/wiki_tex...  0.332366  \n",
       "20  [/home/xtest/text_processing/data/wiki_tex...  0.310068  \n",
       "17  [/home/xtest/text_processing/data/wiki_tex...  0.297370  \n",
       "12  [/home/xtest/text_processing/data/wiki_tex...  0.286285  \n",
       "27  [/home/xtest/text_processing/data/wiki_tex...  0.284224  \n",
       "24  [/home/xtest/text_processing/data/wiki_tex...  0.280584  \n",
       "1   [/home/xtest/text_processing/data/wiki_tex...  0.275071  \n",
       "22  [/home/xtest/text_processing/data/wiki_tex...  0.271569  \n",
       "5   [/home/xtest/text_processing/data/wiki_tex...  0.271205  \n",
       "19  [/home/xtest/text_processing/data/wiki_tex...  0.263294  \n",
       "28  [/home/xtest/text_processing/data/wiki_tex...  0.261921  \n",
       "0   [/home/xtest/text_processing/data/wiki_tex...  0.247248  \n",
       "21  [/home/xtest/text_processing/data/wiki_tex...  0.244279  \n",
       "14  [/home/xtest/text_processing/data/wiki_tex...  0.243603  \n",
       "7   [/home/xtest/text_processing/data/wiki_tex...  0.238520  \n",
       "3   [/home/xtest/text_processing/data/wiki_tex...  0.234967  \n",
       "23  [/home/xtest/text_processing/data/wiki_tex...  0.233061  \n",
       "29  [/home/xtest/text_processing/data/wiki_tex...  0.227658  \n",
       "2   [/home/xtest/text_processing/data/wiki_tex...  0.226398  \n",
       "11  [/home/xtest/text_processing/data/wiki_tex...  0.217165  \n",
       "13  [/home/xtest/text_processing/data/wiki_tex...  0.214822  \n",
       "6   [/home/xtest/text_processing/data/wiki_tex...  0.205784  \n",
       "15  [/home/xtest/text_processing/data/wiki_tex...  0.198882  \n",
       "18  [/home/xtest/text_processing/data/wiki_tex...  0.180433  \n",
       "25  [/home/xtest/text_processing/data/wiki_tex...  0.157614  "
      ]
     },
     "execution_count": 214,
     "metadata": {},
     "output_type": "execute_result"
    }
   ],
   "source": [
    "df_1 = pd.DataFrame({'c_id': c_id, 'cluster':labels, 'json_key':org_keys, 'files':files, 'score':avg_score})\n",
    "df_1 = df_1.sort_values(by=['score'], ascending=False)\n",
    "df_1"
   ]
  },
  {
   "cell_type": "code",
   "execution_count": 215,
   "id": "80721925",
   "metadata": {},
   "outputs": [],
   "source": [
    "df_1.to_pickle(f'ped_cluster.pk')"
   ]
  },
  {
   "cell_type": "code",
   "execution_count": 216,
   "id": "94a43f24",
   "metadata": {},
   "outputs": [],
   "source": [
    "def concatenate_chunks(string_list, chunk_size):\n",
    "    if chunk_size > len(string_list):\n",
    "        return [\" \".join(string_list)]\n",
    "    else:\n",
    "        chunks = []\n",
    "        for i in range(0, len(string_list), chunk_size):\n",
    "            chunk = \"\".join(string_list[i:i + chunk_size])\n",
    "            chunks.append(chunk)\n",
    "        return chunks"
   ]
  },
  {
   "cell_type": "code",
   "execution_count": 218,
   "id": "0de2579e",
   "metadata": {},
   "outputs": [],
   "source": [
    "edit_line = \"Our editors will review what you’ve submitted and determine whether to revise the article\""
   ]
  },
  {
   "cell_type": "code",
   "execution_count": 418,
   "id": "aafdd204",
   "metadata": {},
   "outputs": [
    {
     "data": {
      "text/plain": [
       "474"
      ]
     },
     "execution_count": 418,
     "metadata": {},
     "output_type": "execute_result"
    }
   ],
   "source": [
    "len(new_f)"
   ]
  },
  {
   "cell_type": "code",
   "execution_count": 407,
   "id": "aa45260b",
   "metadata": {},
   "outputs": [],
   "source": [
    "new_f = list(set(files[10]))\n",
    "docs_p = []\n",
    "for fn in new_f:\n",
    "    with open(fn, \"r\") as rf:\n",
    "        fl = rf.read().splitlines()\n",
    "        fl = [l.replace(edit_line, \" \") if edit_line in l else l for l in fl]\n",
    "        fl = [l.strip() for l in fl  if l != '']\n",
    "        nl = concatenate_chunks(fl, 5)\n",
    "        docs_p.extend(nl)"
   ]
  },
  {
   "cell_type": "code",
   "execution_count": 423,
   "id": "f33b109b",
   "metadata": {},
   "outputs": [
    {
     "data": {
      "text/plain": [
       "4634"
      ]
     },
     "execution_count": 423,
     "metadata": {},
     "output_type": "execute_result"
    }
   ],
   "source": [
    "len(docs_p)"
   ]
  },
  {
   "cell_type": "code",
   "execution_count": 408,
   "id": "9eed2ae8",
   "metadata": {},
   "outputs": [
    {
     "name": "stdout",
     "output_type": "stream",
     "text": [
      "[['trolleycar', 'car', 'vehicular traffic', 'seat belt', 'vehicle', 'vehiculartraffic', 'vehicular', 'canoe', 'travel by car', 'vehiculation', 'automobile']]\n"
     ]
    }
   ],
   "source": [
    "print([labels[10] ])"
   ]
  },
  {
   "cell_type": "code",
   "execution_count": 409,
   "id": "893251cc",
   "metadata": {},
   "outputs": [],
   "source": [
    "vectorizer_model = CountVectorizer(stop_words=\"english\", ngram_range=(1, 3))"
   ]
  },
  {
   "cell_type": "code",
   "execution_count": 410,
   "id": "cd910707",
   "metadata": {},
   "outputs": [],
   "source": [
    "topic_model = BERTopic(vectorizer_model=vectorizer_model, diversity=0.8, \n",
    "                       seed_topic_list=[['trolleycar', 'car', 'vehicular traffic', 'seat belt', \n",
    "                                         'vehicle', 'vehiculartraffic', 'vehicular', 'canoe', \n",
    "                                         'travel by car', 'vehiculation', 'automobile']], nr_topics='auto')"
   ]
  },
  {
   "cell_type": "code",
   "execution_count": 412,
   "id": "c40585fb",
   "metadata": {},
   "outputs": [],
   "source": [
    "topics, probs = topic_model.fit_transform(docs_p)"
   ]
  },
  {
   "cell_type": "code",
   "execution_count": 413,
   "id": "398d8348",
   "metadata": {
    "scrolled": true
   },
   "outputs": [
    {
     "data": {
      "text/html": [
       "<div>\n",
       "<style scoped>\n",
       "    .dataframe tbody tr th:only-of-type {\n",
       "        vertical-align: middle;\n",
       "    }\n",
       "\n",
       "    .dataframe tbody tr th {\n",
       "        vertical-align: top;\n",
       "    }\n",
       "\n",
       "    .dataframe thead th {\n",
       "        text-align: right;\n",
       "    }\n",
       "</style>\n",
       "<table border=\"1\" class=\"dataframe\">\n",
       "  <thead>\n",
       "    <tr style=\"text-align: right;\">\n",
       "      <th></th>\n",
       "      <th>Topic</th>\n",
       "      <th>Count</th>\n",
       "      <th>Name</th>\n",
       "    </tr>\n",
       "  </thead>\n",
       "  <tbody>\n",
       "    <tr>\n",
       "      <th>0</th>\n",
       "      <td>-1</td>\n",
       "      <td>1505</td>\n",
       "      <td>-1_used_new_safety_park</td>\n",
       "    </tr>\n",
       "    <tr>\n",
       "      <th>1</th>\n",
       "      <td>0</td>\n",
       "      <td>406</td>\n",
       "      <td>0_transit_avenue_new_station</td>\n",
       "    </tr>\n",
       "    <tr>\n",
       "      <th>2</th>\n",
       "      <td>1</td>\n",
       "      <td>132</td>\n",
       "      <td>1_left_yellow_stop_straight</td>\n",
       "    </tr>\n",
       "    <tr>\n",
       "      <th>3</th>\n",
       "      <td>2</td>\n",
       "      <td>128</td>\n",
       "      <td>2_ford_trim_available_xlt</td>\n",
       "    </tr>\n",
       "    <tr>\n",
       "      <th>4</th>\n",
       "      <td>3</td>\n",
       "      <td>94</td>\n",
       "      <td>3_weight_entry_prohibition_used</td>\n",
       "    </tr>\n",
       "    <tr>\n",
       "      <th>...</th>\n",
       "      <td>...</td>\n",
       "      <td>...</td>\n",
       "      <td>...</td>\n",
       "    </tr>\n",
       "    <tr>\n",
       "      <th>88</th>\n",
       "      <td>87</td>\n",
       "      <td>11</td>\n",
       "      <td>87_alaskan_ngi_potlatch_lower</td>\n",
       "    </tr>\n",
       "    <tr>\n",
       "      <th>89</th>\n",
       "      <td>88</td>\n",
       "      <td>11</td>\n",
       "      <td>88_zoning_private_dependency_american</td>\n",
       "    </tr>\n",
       "    <tr>\n",
       "      <th>90</th>\n",
       "      <td>89</td>\n",
       "      <td>10</td>\n",
       "      <td>89_path_compulsory track pedestrians_und_used ...</td>\n",
       "    </tr>\n",
       "    <tr>\n",
       "      <th>91</th>\n",
       "      <td>90</td>\n",
       "      <td>10</td>\n",
       "      <td>90_isa_vehicle_systems_beacons</td>\n",
       "    </tr>\n",
       "    <tr>\n",
       "      <th>92</th>\n",
       "      <td>91</td>\n",
       "      <td>10</td>\n",
       "      <td>91_terminal_yvr_domestic_vancouver airport</td>\n",
       "    </tr>\n",
       "  </tbody>\n",
       "</table>\n",
       "<p>93 rows × 3 columns</p>\n",
       "</div>"
      ],
      "text/plain": [
       "    Topic  Count                                               Name\n",
       "0      -1   1505                            -1_used_new_safety_park\n",
       "1       0    406                       0_transit_avenue_new_station\n",
       "2       1    132                        1_left_yellow_stop_straight\n",
       "3       2    128                          2_ford_trim_available_xlt\n",
       "4       3     94                    3_weight_entry_prohibition_used\n",
       "..    ...    ...                                                ...\n",
       "88     87     11                      87_alaskan_ngi_potlatch_lower\n",
       "89     88     11              88_zoning_private_dependency_american\n",
       "90     89     10  89_path_compulsory track pedestrians_und_used ...\n",
       "91     90     10                     90_isa_vehicle_systems_beacons\n",
       "92     91     10         91_terminal_yvr_domestic_vancouver airport\n",
       "\n",
       "[93 rows x 3 columns]"
      ]
     },
     "execution_count": 413,
     "metadata": {},
     "output_type": "execute_result"
    }
   ],
   "source": [
    "topic_model.get_topic_info()"
   ]
  },
  {
   "cell_type": "code",
   "execution_count": 452,
   "id": "83c30079",
   "metadata": {},
   "outputs": [
    {
     "name": "stdout",
     "output_type": "stream",
     "text": [
      "[7, 1, 6, 10, 4, 5, 0, 3, 2, 8]\n"
     ]
    }
   ],
   "source": [
    "ped_similar_topics_a, ped_similarity_a = topic_model.find_topics(\"vehicle\", top_n=10)\n",
    "print(ped_similar_topics_a)"
   ]
  },
  {
   "cell_type": "code",
   "execution_count": 453,
   "id": "24df7fbd",
   "metadata": {
    "scrolled": true
   },
   "outputs": [
    {
     "name": "stdout",
     "output_type": "stream",
     "text": [
      "7\n",
      "['suv', 'articles', 'july 2008', 'bridges', 'university', 'headlamps', 'unibody', 'infobox', 'selfdriving', 'fourwheel']\n",
      "\n",
      "\n",
      "1\n",
      "['safety', 'standard', 'lights', 'available', 'volvo', 'models', 'elevators', 'bus', 'expedition', 'states']\n",
      "\n",
      "\n",
      "6\n",
      "['acda', 'selfdriving', 'vehicles', 'safe speed', 'rule', 'rojas', 'clear distance', 'automation', 'assured', 'sight']\n",
      "\n",
      "\n",
      "10\n",
      "['s1 gard', 'right wheels', 'pts', 'bernoullis principle', 'object greater', 'pedestrians killed motor', 'involving rear right', 'wheels transit buses', 'curved', 'category']\n",
      "\n",
      "\n",
      "4\n",
      "['airbag', 'pedestrians', 'coverage', 'electric', 'automated', 'selfdriving', 'states', 'tram', 'warning', 'impact']\n",
      "\n",
      "\n",
      "5\n",
      "['transport', 'prt', 'ring', 'cities', 'frontage roads', 'hierarchy', 'active', 'emissions', 'cyclists', 'public']\n",
      "\n",
      "\n",
      "0\n",
      "['used', 'pedestrian', 'sign', 'roads', 'limit', 'right', 'red', 'safety', 'united', 'signals']\n",
      "\n",
      "\n",
      "3\n",
      "['streetcars', 'bridge', 'light rail', 'new', 'tram', 'ttc', 'tracks', 'san', 'began', 'systems']\n",
      "\n",
      "\n",
      "2\n",
      "['water', 'duluth', 'trails', 'built', 'tanana', 'pontoon', 'canal', 'centre', 'airport', 'point']\n",
      "\n",
      "\n",
      "8\n",
      "['toll roads', 'layer', 'macadam', 'tar', 'scales', 'stones', 'subbase', 'telford', 'truckers', 'roman']\n",
      "\n",
      "\n"
     ]
    }
   ],
   "source": [
    "for t in ped_similar_topics_a:\n",
    "    l = []\n",
    "    print(t)\n",
    "    for el in topic_model.get_topic(t):\n",
    "        l.append(el[0])\n",
    "    print(l)\n",
    "#     print(ped_auto_model_a.get_topic(t))\n",
    "    print('\\n')"
   ]
  },
  {
   "cell_type": "code",
   "execution_count": 285,
   "id": "9a15c166",
   "metadata": {},
   "outputs": [],
   "source": [
    "from sklearn.datasets import fetch_20newsgroups\n",
    "\n",
    "data = fetch_20newsgroups(subset='all',  remove=('headers', 'footers', 'quotes'))\n",
    "docs = data[\"data\"]\n",
    "categories = data[\"target\"]\n",
    "category_names = data[\"target_names\"]"
   ]
  },
  {
   "cell_type": "code",
   "execution_count": 292,
   "id": "4e2e8ac4",
   "metadata": {},
   "outputs": [
    {
     "data": {
      "text/plain": [
       "list"
      ]
     },
     "execution_count": 292,
     "metadata": {},
     "output_type": "execute_result"
    }
   ],
   "source": [
    "type(data[\"data\"])"
   ]
  },
  {
   "cell_type": "code",
   "execution_count": 293,
   "id": "cf407731",
   "metadata": {},
   "outputs": [
    {
     "data": {
      "text/plain": [
       "\"\\n\\nI am sure some bashers of Pens fans are pretty confused about the lack\\nof any kind of posts about the recent Pens massacre of the Devils. Actually,\\nI am  bit puzzled too and a bit relieved. However, I am going to put an end\\nto non-PIttsburghers' relief with a bit of praise for the Pens. Man, they\\nare killing those Devils worse than I thought. Jagr just showed you why\\nhe is much better than his regular season stats. He is also a lot\\nfo fun to watch in the playoffs. Bowman should let JAgr have a lot of\\nfun in the next couple of games since the Pens are going to beat the pulp out of Jersey anyway. I was very disappointed not to see the Islanders lose the final\\nregular season game.          PENS RULE!!!\\n\\n\""
      ]
     },
     "execution_count": 293,
     "metadata": {},
     "output_type": "execute_result"
    }
   ],
   "source": [
    "data[\"data\"][0]"
   ]
  },
  {
   "cell_type": "code",
   "execution_count": 294,
   "id": "06a35e96",
   "metadata": {},
   "outputs": [
    {
     "data": {
      "text/plain": [
       "'alt.atheism'"
      ]
     },
     "execution_count": 294,
     "metadata": {},
     "output_type": "execute_result"
    }
   ],
   "source": [
    "category_names[0]"
   ]
  },
  {
   "cell_type": "code",
   "execution_count": 287,
   "id": "9a1a57c4",
   "metadata": {},
   "outputs": [
    {
     "data": {
      "text/plain": [
       "18846"
      ]
     },
     "execution_count": 287,
     "metadata": {},
     "output_type": "execute_result"
    }
   ],
   "source": [
    "len(categories)"
   ]
  },
  {
   "cell_type": "code",
   "execution_count": 288,
   "id": "6d7021f6",
   "metadata": {},
   "outputs": [
    {
     "data": {
      "text/plain": [
       "array([10,  3, 17, ...,  3,  1,  7])"
      ]
     },
     "execution_count": 288,
     "metadata": {},
     "output_type": "execute_result"
    }
   ],
   "source": [
    "categories"
   ]
  },
  {
   "cell_type": "code",
   "execution_count": 286,
   "id": "390f6e88",
   "metadata": {},
   "outputs": [
    {
     "data": {
      "text/plain": [
       "18846"
      ]
     },
     "execution_count": 286,
     "metadata": {},
     "output_type": "execute_result"
    }
   ],
   "source": [
    "len(docs)"
   ]
  },
  {
   "cell_type": "code",
   "execution_count": 283,
   "id": "a6a4a287",
   "metadata": {},
   "outputs": [],
   "source": [
    "topic_model = BERTopic(vectorizer_model=vectorizer_model, diversity=0.8\n",
    "                       , nr_topics='auto')"
   ]
  },
  {
   "cell_type": "code",
   "execution_count": 284,
   "id": "e3021c95",
   "metadata": {},
   "outputs": [
    {
     "ename": "ValueError",
     "evalue": "Length of x = 5917, length of y = 12, while it must be equal.",
     "output_type": "error",
     "traceback": [
      "\u001b[0;31m---------------------------------------------------------------------------\u001b[0m",
      "\u001b[0;31mValueError\u001b[0m                                Traceback (most recent call last)",
      "Cell \u001b[0;32mIn[284], line 1\u001b[0m\n\u001b[0;32m----> 1\u001b[0m topics, probs \u001b[38;5;241m=\u001b[39m \u001b[43mtopic_model\u001b[49m\u001b[38;5;241;43m.\u001b[39;49m\u001b[43mfit_transform\u001b[49m\u001b[43m(\u001b[49m\u001b[43mdocs_p\u001b[49m\u001b[43m,\u001b[49m\u001b[43m \u001b[49m\u001b[43my\u001b[49m\u001b[38;5;241;43m=\u001b[39;49m\u001b[43mlabels\u001b[49m\u001b[43m[\u001b[49m\u001b[38;5;241;43m0\u001b[39;49m\u001b[43m]\u001b[49m\u001b[43m)\u001b[49m\n",
      "File \u001b[0;32m~/.conda/envs/reai/lib/python3.9/site-packages/bertopic/_bertopic.py:351\u001b[0m, in \u001b[0;36mBERTopic.fit_transform\u001b[0;34m(self, documents, embeddings, y)\u001b[0m\n\u001b[1;32m    349\u001b[0m \u001b[38;5;28;01mif\u001b[39;00m \u001b[38;5;28mself\u001b[39m\u001b[38;5;241m.\u001b[39mseed_topic_list \u001b[38;5;129;01mis\u001b[39;00m \u001b[38;5;129;01mnot\u001b[39;00m \u001b[38;5;28;01mNone\u001b[39;00m \u001b[38;5;129;01mand\u001b[39;00m \u001b[38;5;28mself\u001b[39m\u001b[38;5;241m.\u001b[39membedding_model \u001b[38;5;129;01mis\u001b[39;00m \u001b[38;5;129;01mnot\u001b[39;00m \u001b[38;5;28;01mNone\u001b[39;00m:\n\u001b[1;32m    350\u001b[0m     y, embeddings \u001b[38;5;241m=\u001b[39m \u001b[38;5;28mself\u001b[39m\u001b[38;5;241m.\u001b[39m_guided_topic_modeling(embeddings)\n\u001b[0;32m--> 351\u001b[0m umap_embeddings \u001b[38;5;241m=\u001b[39m \u001b[38;5;28;43mself\u001b[39;49m\u001b[38;5;241;43m.\u001b[39;49m\u001b[43m_reduce_dimensionality\u001b[49m\u001b[43m(\u001b[49m\u001b[43membeddings\u001b[49m\u001b[43m,\u001b[49m\u001b[43m \u001b[49m\u001b[43my\u001b[49m\u001b[43m)\u001b[49m\n\u001b[1;32m    353\u001b[0m \u001b[38;5;66;03m# Cluster reduced embeddings\u001b[39;00m\n\u001b[1;32m    354\u001b[0m documents, probabilities \u001b[38;5;241m=\u001b[39m \u001b[38;5;28mself\u001b[39m\u001b[38;5;241m.\u001b[39m_cluster_embeddings(umap_embeddings, documents, y\u001b[38;5;241m=\u001b[39my)\n",
      "File \u001b[0;32m~/.conda/envs/reai/lib/python3.9/site-packages/bertopic/_bertopic.py:2827\u001b[0m, in \u001b[0;36mBERTopic._reduce_dimensionality\u001b[0;34m(self, embeddings, y, partial_fit)\u001b[0m\n\u001b[1;32m   2824\u001b[0m \u001b[38;5;66;03m# Regular fit\u001b[39;00m\n\u001b[1;32m   2825\u001b[0m \u001b[38;5;28;01melse\u001b[39;00m:\n\u001b[1;32m   2826\u001b[0m     \u001b[38;5;28;01mtry\u001b[39;00m:\n\u001b[0;32m-> 2827\u001b[0m         \u001b[38;5;28;43mself\u001b[39;49m\u001b[38;5;241;43m.\u001b[39;49m\u001b[43mumap_model\u001b[49m\u001b[38;5;241;43m.\u001b[39;49m\u001b[43mfit\u001b[49m\u001b[43m(\u001b[49m\u001b[43membeddings\u001b[49m\u001b[43m,\u001b[49m\u001b[43m \u001b[49m\u001b[43my\u001b[49m\u001b[38;5;241;43m=\u001b[39;49m\u001b[43my\u001b[49m\u001b[43m)\u001b[49m\n\u001b[1;32m   2828\u001b[0m     \u001b[38;5;28;01mexcept\u001b[39;00m \u001b[38;5;167;01mTypeError\u001b[39;00m:\n\u001b[1;32m   2829\u001b[0m         logger\u001b[38;5;241m.\u001b[39minfo(\u001b[38;5;124m\"\u001b[39m\u001b[38;5;124mThe dimensionality reduction algorithm did not contain the `y` parameter and\u001b[39m\u001b[38;5;124m\"\u001b[39m\n\u001b[1;32m   2830\u001b[0m                     \u001b[38;5;124m\"\u001b[39m\u001b[38;5;124m therefore the `y` parameter was not used\u001b[39m\u001b[38;5;124m\"\u001b[39m)\n",
      "File \u001b[0;32m~/.conda/envs/reai/lib/python3.9/site-packages/umap/umap_.py:2576\u001b[0m, in \u001b[0;36mUMAP.fit\u001b[0;34m(self, X, y)\u001b[0m\n\u001b[1;32m   2574\u001b[0m len_X \u001b[38;5;241m=\u001b[39m \u001b[38;5;28mlen\u001b[39m(X) \u001b[38;5;28;01mif\u001b[39;00m \u001b[38;5;129;01mnot\u001b[39;00m \u001b[38;5;28mself\u001b[39m\u001b[38;5;241m.\u001b[39m_sparse_data \u001b[38;5;28;01melse\u001b[39;00m X\u001b[38;5;241m.\u001b[39mshape[\u001b[38;5;241m0\u001b[39m]\n\u001b[1;32m   2575\u001b[0m \u001b[38;5;28;01mif\u001b[39;00m len_X \u001b[38;5;241m!=\u001b[39m \u001b[38;5;28mlen\u001b[39m(y):\n\u001b[0;32m-> 2576\u001b[0m     \u001b[38;5;28;01mraise\u001b[39;00m \u001b[38;5;167;01mValueError\u001b[39;00m(\n\u001b[1;32m   2577\u001b[0m         \u001b[38;5;124m\"\u001b[39m\u001b[38;5;124mLength of x = \u001b[39m\u001b[38;5;132;01m{len_x}\u001b[39;00m\u001b[38;5;124m, length of y = \u001b[39m\u001b[38;5;132;01m{len_y}\u001b[39;00m\u001b[38;5;124m, while it must be equal.\u001b[39m\u001b[38;5;124m\"\u001b[39m\u001b[38;5;241m.\u001b[39mformat(\n\u001b[1;32m   2578\u001b[0m             len_x\u001b[38;5;241m=\u001b[39mlen_X, len_y\u001b[38;5;241m=\u001b[39m\u001b[38;5;28mlen\u001b[39m(y)\n\u001b[1;32m   2579\u001b[0m         )\n\u001b[1;32m   2580\u001b[0m     )\n\u001b[1;32m   2581\u001b[0m \u001b[38;5;28;01mif\u001b[39;00m \u001b[38;5;28mself\u001b[39m\u001b[38;5;241m.\u001b[39mtarget_metric \u001b[38;5;241m==\u001b[39m \u001b[38;5;124m\"\u001b[39m\u001b[38;5;124mstring\u001b[39m\u001b[38;5;124m\"\u001b[39m:\n\u001b[1;32m   2582\u001b[0m     y_ \u001b[38;5;241m=\u001b[39m y[index]\n",
      "\u001b[0;31mValueError\u001b[0m: Length of x = 5917, length of y = 12, while it must be equal."
     ]
    }
   ],
   "source": [
    "topics, probs = topic_model.fit_transform(docs_p, y=labels[0])"
   ]
  },
  {
   "cell_type": "code",
   "execution_count": null,
   "id": "0f6fc8d5",
   "metadata": {},
   "outputs": [],
   "source": []
  }
 ],
 "metadata": {
  "kernelspec": {
   "display_name": "Python 3 (ipykernel)",
   "language": "python",
   "name": "python3"
  },
  "language_info": {
   "codemirror_mode": {
    "name": "ipython",
    "version": 3
   },
   "file_extension": ".py",
   "mimetype": "text/x-python",
   "name": "python",
   "nbconvert_exporter": "python",
   "pygments_lexer": "ipython3",
   "version": "3.8.16"
  }
 },
 "nbformat": 4,
 "nbformat_minor": 5
}
