{
 "cells": [
  {
   "cell_type": "code",
   "execution_count": 3,
   "id": "75620a3f",
   "metadata": {},
   "outputs": [
    {
     "name": "stdout",
     "output_type": "stream",
     "text": [
      "/home/xtest/lavis/LAVIS\n",
      "app\t\t\t    CODEOWNERS\t  lavis.egg-info  requirements-dev.txt\r\n",
      "assets\t\t\t    dataset_card  LICENSE.txt\t  run_scripts\r\n",
      "cache\t\t\t    docs\t  MANIFEST.in\t  SECURITY.md\r\n",
      "coco_karpathy_test_gt.json  evaluate.py   projects\t  setup.py\r\n",
      "coco_karpathy_val_gt.json   examples\t  __pycache__\t  tests\r\n",
      "CODE_OF_CONDUCT.md\t    lavis\t  README.md\t  train.py\r\n"
     ]
    }
   ],
   "source": [
    "%cd LAVIS\n",
    "!ls"
   ]
  },
  {
   "cell_type": "code",
   "execution_count": 6,
   "id": "52c71549",
   "metadata": {
    "scrolled": false
   },
   "outputs": [
    {
     "name": "stdout",
     "output_type": "stream",
     "text": [
      "Traceback (most recent call last):\n",
      "  File \"train.py\", line 103, in <module>\n",
      "    main()\n",
      "  File \"train.py\", line 81, in main\n",
      "    cfg = Config(parse_args())\n",
      "  File \"/home/xtest/lavis/LAVIS/lavis/common/config.py\", line 29, in __init__\n",
      "    runner_config = self.build_runner_config(config)\n",
      "  File \"/home/xtest/lavis/LAVIS/lavis/common/config.py\", line 85, in build_runner_config\n",
      "    return {\"run\": config.run}\n",
      "  File \"/home/xtest/.conda/envs/lavis/lib/python3.8/site-packages/omegaconf/dictconfig.py\", line 355, in __getattr__\n",
      "    self._format_and_raise(\n",
      "  File \"/home/xtest/.conda/envs/lavis/lib/python3.8/site-packages/omegaconf/base.py\", line 231, in _format_and_raise\n",
      "    format_and_raise(\n",
      "  File \"/home/xtest/.conda/envs/lavis/lib/python3.8/site-packages/omegaconf/_utils.py\", line 900, in format_and_raise\n",
      "    _raise(ex, cause)\n",
      "  File \"/home/xtest/.conda/envs/lavis/lib/python3.8/site-packages/omegaconf/_utils.py\", line 798, in _raise\n",
      "    raise ex.with_traceback(sys.exc_info()[2])  # set env var OC_CAUSE=1 for full trace\n",
      "  File \"/home/xtest/.conda/envs/lavis/lib/python3.8/site-packages/omegaconf/dictconfig.py\", line 351, in __getattr__\n",
      "    return self._get_impl(\n",
      "  File \"/home/xtest/.conda/envs/lavis/lib/python3.8/site-packages/omegaconf/dictconfig.py\", line 442, in _get_impl\n",
      "    node = self._get_child(\n",
      "  File \"/home/xtest/.conda/envs/lavis/lib/python3.8/site-packages/omegaconf/basecontainer.py\", line 73, in _get_child\n",
      "    child = self._get_node(\n",
      "  File \"/home/xtest/.conda/envs/lavis/lib/python3.8/site-packages/omegaconf/dictconfig.py\", line 480, in _get_node\n",
      "    raise ConfigKeyError(f\"Missing key {key!s}\")\n",
      "omegaconf.errors.ConfigAttributeError: Missing key run\n",
      "    full_key: run\n",
      "    object_type=dict\n"
     ]
    }
   ],
   "source": [
    "!python -m torch.distributed.run --nproc_per_node=2 train.py --cfg-path lavis/configs/models/blip_itm_base.yaml"
   ]
  },
  {
   "cell_type": "code",
   "execution_count": 4,
   "id": "206bc569",
   "metadata": {},
   "outputs": [
    {
     "name": "stdout",
     "output_type": "stream",
     "text": [
      "app\t\t\t    CODEOWNERS\t  lavis.egg-info  requirements-dev.txt\r\n",
      "assets\t\t\t    dataset_card  LICENSE.txt\t  run_scripts\r\n",
      "cache\t\t\t    docs\t  MANIFEST.in\t  SECURITY.md\r\n",
      "coco_karpathy_test_gt.json  evaluate.py   projects\t  setup.py\r\n",
      "coco_karpathy_val_gt.json   examples\t  __pycache__\t  tests\r\n",
      "CODE_OF_CONDUCT.md\t    lavis\t  README.md\t  train.py\r\n"
     ]
    }
   ],
   "source": [
    "! ls"
   ]
  },
  {
   "cell_type": "code",
   "execution_count": 1,
   "id": "80b74d70",
   "metadata": {},
   "outputs": [],
   "source": [
    "%pycat /home/xtest/lavis/LAVIS/lavis/configs/models/blip_itm_base.yaml"
   ]
  },
  {
   "cell_type": "code",
   "execution_count": null,
   "id": "cc324539",
   "metadata": {},
   "outputs": [],
   "source": []
  }
 ],
 "metadata": {
  "kernelspec": {
   "display_name": "Python 3 (ipykernel)",
   "language": "python",
   "name": "python3"
  },
  "language_info": {
   "codemirror_mode": {
    "name": "ipython",
    "version": 3
   },
   "file_extension": ".py",
   "mimetype": "text/x-python",
   "name": "python",
   "nbconvert_exporter": "python",
   "pygments_lexer": "ipython3",
   "version": "3.8.13"
  }
 },
 "nbformat": 4,
 "nbformat_minor": 5
}
