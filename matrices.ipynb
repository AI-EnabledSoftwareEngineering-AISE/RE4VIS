{
 "cells": [
  {
   "cell_type": "code",
   "execution_count": 53,
   "id": "fb6322c5",
   "metadata": {},
   "outputs": [],
   "source": [
    "import numpy as np\n",
    "from sklearn.decomposition import TruncatedSVD\n",
    "from sklearn.metrics.pairwise import cosine_similarity\n",
    "from numpy.linalg import norm\n",
    "\n",
    "# Define two matrices with different shapes\n",
    "matrix1 = np.array([[1, 2], [3, 4], [5, 6]])\n",
    "matrix2 = np.array([[1, 2, 3], [4, 5, 6]])\n",
    "\n",
    "# Apply SVD to obtain a lower-dimensional representation of the matrices\n",
    "n_components = 2  # number of components to keep\n",
    "svd = TruncatedSVD(n_components=n_components)\n",
    "matrix1_transformed = svd.fit_transform(matrix1)\n",
    "matrix2_transformed = svd.fit_transform(matrix2)\n",
    "\n",
    "# Compute cosine similarity between the transformed matrices\n",
    "similarity_matrix = cosine_similarity(matrix1_transformed, matrix2_transformed)\n"
   ]
  },
  {
   "cell_type": "code",
   "execution_count": 13,
   "id": "fef64cf5",
   "metadata": {},
   "outputs": [
    {
     "data": {
      "text/plain": [
       "array([[0.99991642, 0.97165678],\n",
       "       [0.98610042, 0.99827168],\n",
       "       [0.97629697, 0.99997139]])"
      ]
     },
     "execution_count": 13,
     "metadata": {},
     "output_type": "execute_result"
    }
   ],
   "source": [
    "similarity_matrix"
   ]
  },
  {
   "cell_type": "code",
   "execution_count": 14,
   "id": "5837acbc",
   "metadata": {},
   "outputs": [
    {
     "data": {
      "text/plain": [
       "(3, 2)"
      ]
     },
     "execution_count": 14,
     "metadata": {},
     "output_type": "execute_result"
    }
   ],
   "source": [
    "matrix1.shape"
   ]
  },
  {
   "cell_type": "code",
   "execution_count": 15,
   "id": "43388ee2",
   "metadata": {},
   "outputs": [
    {
     "data": {
      "text/plain": [
       "(2, 3)"
      ]
     },
     "execution_count": 15,
     "metadata": {},
     "output_type": "execute_result"
    }
   ],
   "source": [
    "matrix2.shape"
   ]
  },
  {
   "cell_type": "code",
   "execution_count": 16,
   "id": "f1977838",
   "metadata": {},
   "outputs": [
    {
     "data": {
      "text/plain": [
       "(3, 2)"
      ]
     },
     "execution_count": 16,
     "metadata": {},
     "output_type": "execute_result"
    }
   ],
   "source": [
    "similarity_matrix.shape"
   ]
  },
  {
   "cell_type": "code",
   "execution_count": 19,
   "id": "d64670c9",
   "metadata": {},
   "outputs": [
    {
     "name": "stdout",
     "output_type": "stream",
     "text": [
      "Matrix1 element [1 2] and Matrix2 element [1 2 3] have a similarity score of 0.9999164221029999.\n",
      "Matrix1 element [1 2] and Matrix2 element [4 5 6] have a similarity score of 0.9716567842088734.\n",
      "Matrix1 element [3 4] and Matrix2 element [1 2 3] have a similarity score of 0.98610041936458.\n",
      "Matrix1 element [3 4] and Matrix2 element [4 5 6] have a similarity score of 0.9982716843917039.\n",
      "Matrix1 element [5 6] and Matrix2 element [1 2 3] have a similarity score of 0.9762969710849807.\n",
      "Matrix1 element [5 6] and Matrix2 element [4 5 6] have a similarity score of 0.9999713898673188.\n"
     ]
    }
   ],
   "source": [
    "import numpy as np\n",
    "from sklearn.decomposition import TruncatedSVD\n",
    "from sklearn.metrics.pairwise import cosine_similarity\n",
    "\n",
    "# Define two matrices with different shapes\n",
    "matrix1 = np.array([[1, 2], [3, 4], [5, 6]])\n",
    "matrix2 = np.array([[1, 2, 3], [4, 5, 6]])\n",
    "\n",
    "# Apply SVD to obtain a lower-dimensional representation of the matrices\n",
    "n_components = 2  # number of components to keep\n",
    "svd = TruncatedSVD(n_components=n_components)\n",
    "matrix1_transformed = svd.fit_transform(matrix1)\n",
    "matrix2_transformed = svd.fit_transform(matrix2)\n",
    "\n",
    "# Compute cosine similarity between the transformed matrices\n",
    "similarity_matrix = cosine_similarity(matrix1_transformed, matrix2_transformed)\n",
    "\n",
    "# Iterate over the similarity matrix and retrieve corresponding elements from matrix1 and matrix2\n",
    "for i in range(similarity_matrix.shape[0]):\n",
    "    for j in range(similarity_matrix.shape[1]):\n",
    "        # Retrieve the indices of the corresponding elements in matrix1 and matrix2\n",
    "        matrix1_index = i\n",
    "        matrix2_index = j\n",
    "\n",
    "        # Retrieve the corresponding elements from matrix1 and matrix2\n",
    "        matrix1_element = matrix1[matrix1_index]\n",
    "        matrix2_element = matrix2[matrix2_index]\n",
    "\n",
    "        # Print the corresponding elements and their similarity score\n",
    "        similarity_score = similarity_matrix[i, j]\n",
    "        print(f\"Matrix1 element {matrix1_element} and Matrix2 element {matrix2_element} have a similarity score of {similarity_score}.\")"
   ]
  },
  {
   "cell_type": "code",
   "execution_count": 28,
   "id": "b318779e",
   "metadata": {},
   "outputs": [
    {
     "name": "stdout",
     "output_type": "stream",
     "text": [
      "Matrix1 element [1 2] and Matrix2 element [1 2 3] have a similarity score of 0.9999164221029997.\n",
      "Matrix1 element [1 2] and Matrix2 element [4 5 6] have a similarity score of 0.9716567842088734.\n",
      "Matrix1 element [3 4] and Matrix2 element [1 2 3] have a similarity score of 0.9861004193645797.\n",
      "Matrix1 element [3 4] and Matrix2 element [4 5 6] have a similarity score of 0.9982716843917037.\n",
      "Matrix1 element [5 6] and Matrix2 element [1 2 3] have a similarity score of 0.9762969710849806.\n",
      "Matrix1 element [5 6] and Matrix2 element [4 5 6] have a similarity score of 0.9999713898673188.\n"
     ]
    }
   ],
   "source": [
    "import numpy as np\n",
    "from sklearn.decomposition import TruncatedSVD\n",
    "from sklearn.metrics.pairwise import cosine_similarity\n",
    "\n",
    "# Define two matrices with different shapes\n",
    "matrix1 = np.array([[1, 2], [3, 4], [5, 6]])\n",
    "matrix2 = np.array([[1, 2, 3], [4, 5, 6]])\n",
    "\n",
    "# Apply SVD to obtain a lower-dimensional representation of the matrices\n",
    "n_components = 2  # number of components to keep\n",
    "svd = TruncatedSVD(n_components=n_components)\n",
    "matrix1_transformed = svd.fit_transform(matrix1)\n",
    "matrix2_transformed = svd.fit_transform(matrix2)\n",
    "\n",
    "# Compute cosine similarity between the transformed matrices\n",
    "similarity_matrix = cosine_similarity(matrix1_transformed, matrix2_transformed)\n",
    "\n",
    "# Iterate over the similarity matrix and retrieve corresponding elements from matrix1 and matrix2\n",
    "for i, row in enumerate(similarity_matrix):\n",
    "    for j, score in enumerate(row):\n",
    "        # Retrieve the corresponding elements from matrix1 and matrix2\n",
    "        matrix1_element = matrix1[i]\n",
    "        matrix2_element = matrix2[j]\n",
    "\n",
    "        # Print the corresponding elements and their similarity score\n",
    "        print(f\"Matrix1 element {matrix1_element} and Matrix2 element {matrix2_element} have a similarity score of {score}.\")\n"
   ]
  },
  {
   "cell_type": "code",
   "execution_count": 24,
   "id": "fbc0a0f5",
   "metadata": {},
   "outputs": [
    {
     "data": {
      "text/plain": [
       "[]"
      ]
     },
     "execution_count": 24,
     "metadata": {},
     "output_type": "execute_result"
    }
   ],
   "source": [
    "valid_pairs"
   ]
  },
  {
   "cell_type": "code",
   "execution_count": 27,
   "id": "dd8b585f",
   "metadata": {},
   "outputs": [
    {
     "data": {
      "text/plain": [
       "array([1, 2])"
      ]
     },
     "execution_count": 27,
     "metadata": {},
     "output_type": "execute_result"
    }
   ],
   "source": [
    "matrix1[0]"
   ]
  },
  {
   "cell_type": "code",
   "execution_count": 26,
   "id": "e115882d",
   "metadata": {},
   "outputs": [
    {
     "data": {
      "text/plain": [
       "2"
      ]
     },
     "execution_count": 26,
     "metadata": {},
     "output_type": "execute_result"
    }
   ],
   "source": [
    "len(matrix1[0])"
   ]
  },
  {
   "cell_type": "code",
   "execution_count": 25,
   "id": "42064442",
   "metadata": {},
   "outputs": [
    {
     "data": {
      "text/plain": [
       "3"
      ]
     },
     "execution_count": 25,
     "metadata": {},
     "output_type": "execute_result"
    }
   ],
   "source": [
    "len(matrix2[0])"
   ]
  },
  {
   "cell_type": "code",
   "execution_count": 29,
   "id": "4be2dd81",
   "metadata": {},
   "outputs": [
    {
     "ename": "ValueError",
     "evalue": "Incompatible dimension for X and Y matrices: X.shape[1] == 3 while Y.shape[1] == 2",
     "output_type": "error",
     "traceback": [
      "\u001b[0;31m---------------------------------------------------------------------------\u001b[0m",
      "\u001b[0;31mValueError\u001b[0m                                Traceback (most recent call last)",
      "Input \u001b[0;32mIn [29]\u001b[0m, in \u001b[0;36m<cell line: 12>\u001b[0;34m()\u001b[0m\n\u001b[1;32m     20\u001b[0m column2 \u001b[38;5;241m=\u001b[39m column2\u001b[38;5;241m.\u001b[39mreshape(\u001b[38;5;241m1\u001b[39m, \u001b[38;5;241m-\u001b[39m\u001b[38;5;241m1\u001b[39m)\n\u001b[1;32m     22\u001b[0m \u001b[38;5;66;03m# compute the cosine similarity between the two columns\u001b[39;00m\n\u001b[0;32m---> 23\u001b[0m score \u001b[38;5;241m=\u001b[39m \u001b[43mcosine_similarity\u001b[49m\u001b[43m(\u001b[49m\u001b[43mcolumn1\u001b[49m\u001b[43m,\u001b[49m\u001b[43m \u001b[49m\u001b[43mcolumn2\u001b[49m\u001b[43m)\u001b[49m[\u001b[38;5;241m0\u001b[39m][\u001b[38;5;241m0\u001b[39m]\n\u001b[1;32m     25\u001b[0m \u001b[38;5;66;03m# add the similarity score to the list\u001b[39;00m\n\u001b[1;32m     26\u001b[0m similarity_scores\u001b[38;5;241m.\u001b[39mappend((i, j, score))\n",
      "File \u001b[0;32m~/.conda/envs/lavis/lib/python3.8/site-packages/sklearn/metrics/pairwise.py:1377\u001b[0m, in \u001b[0;36mcosine_similarity\u001b[0;34m(X, Y, dense_output)\u001b[0m\n\u001b[1;32m   1342\u001b[0m \u001b[38;5;124;03m\"\"\"Compute cosine similarity between samples in X and Y.\u001b[39;00m\n\u001b[1;32m   1343\u001b[0m \n\u001b[1;32m   1344\u001b[0m \u001b[38;5;124;03mCosine similarity, or the cosine kernel, computes similarity as the\u001b[39;00m\n\u001b[0;32m   (...)\u001b[0m\n\u001b[1;32m   1373\u001b[0m \u001b[38;5;124;03m    Returns the cosine similarity between samples in X and Y.\u001b[39;00m\n\u001b[1;32m   1374\u001b[0m \u001b[38;5;124;03m\"\"\"\u001b[39;00m\n\u001b[1;32m   1375\u001b[0m \u001b[38;5;66;03m# to avoid recursive import\u001b[39;00m\n\u001b[0;32m-> 1377\u001b[0m X, Y \u001b[38;5;241m=\u001b[39m \u001b[43mcheck_pairwise_arrays\u001b[49m\u001b[43m(\u001b[49m\u001b[43mX\u001b[49m\u001b[43m,\u001b[49m\u001b[43m \u001b[49m\u001b[43mY\u001b[49m\u001b[43m)\u001b[49m\n\u001b[1;32m   1379\u001b[0m X_normalized \u001b[38;5;241m=\u001b[39m normalize(X, copy\u001b[38;5;241m=\u001b[39m\u001b[38;5;28;01mTrue\u001b[39;00m)\n\u001b[1;32m   1380\u001b[0m \u001b[38;5;28;01mif\u001b[39;00m X \u001b[38;5;129;01mis\u001b[39;00m Y:\n",
      "File \u001b[0;32m~/.conda/envs/lavis/lib/python3.8/site-packages/sklearn/metrics/pairwise.py:180\u001b[0m, in \u001b[0;36mcheck_pairwise_arrays\u001b[0;34m(X, Y, precomputed, dtype, accept_sparse, force_all_finite, copy)\u001b[0m\n\u001b[1;32m    174\u001b[0m         \u001b[38;5;28;01mraise\u001b[39;00m \u001b[38;5;167;01mValueError\u001b[39;00m(\n\u001b[1;32m    175\u001b[0m             \u001b[38;5;124m\"\u001b[39m\u001b[38;5;124mPrecomputed metric requires shape \u001b[39m\u001b[38;5;124m\"\u001b[39m\n\u001b[1;32m    176\u001b[0m             \u001b[38;5;124m\"\u001b[39m\u001b[38;5;124m(n_queries, n_indexed). Got (\u001b[39m\u001b[38;5;132;01m%d\u001b[39;00m\u001b[38;5;124m, \u001b[39m\u001b[38;5;132;01m%d\u001b[39;00m\u001b[38;5;124m) \u001b[39m\u001b[38;5;124m\"\u001b[39m\n\u001b[1;32m    177\u001b[0m             \u001b[38;5;124m\"\u001b[39m\u001b[38;5;124mfor \u001b[39m\u001b[38;5;132;01m%d\u001b[39;00m\u001b[38;5;124m indexed.\u001b[39m\u001b[38;5;124m\"\u001b[39m \u001b[38;5;241m%\u001b[39m (X\u001b[38;5;241m.\u001b[39mshape[\u001b[38;5;241m0\u001b[39m], X\u001b[38;5;241m.\u001b[39mshape[\u001b[38;5;241m1\u001b[39m], Y\u001b[38;5;241m.\u001b[39mshape[\u001b[38;5;241m0\u001b[39m])\n\u001b[1;32m    178\u001b[0m         )\n\u001b[1;32m    179\u001b[0m \u001b[38;5;28;01melif\u001b[39;00m X\u001b[38;5;241m.\u001b[39mshape[\u001b[38;5;241m1\u001b[39m] \u001b[38;5;241m!=\u001b[39m Y\u001b[38;5;241m.\u001b[39mshape[\u001b[38;5;241m1\u001b[39m]:\n\u001b[0;32m--> 180\u001b[0m     \u001b[38;5;28;01mraise\u001b[39;00m \u001b[38;5;167;01mValueError\u001b[39;00m(\n\u001b[1;32m    181\u001b[0m         \u001b[38;5;124m\"\u001b[39m\u001b[38;5;124mIncompatible dimension for X and Y matrices: \u001b[39m\u001b[38;5;124m\"\u001b[39m\n\u001b[1;32m    182\u001b[0m         \u001b[38;5;124m\"\u001b[39m\u001b[38;5;124mX.shape[1] == \u001b[39m\u001b[38;5;132;01m%d\u001b[39;00m\u001b[38;5;124m while Y.shape[1] == \u001b[39m\u001b[38;5;132;01m%d\u001b[39;00m\u001b[38;5;124m\"\u001b[39m \u001b[38;5;241m%\u001b[39m (X\u001b[38;5;241m.\u001b[39mshape[\u001b[38;5;241m1\u001b[39m], Y\u001b[38;5;241m.\u001b[39mshape[\u001b[38;5;241m1\u001b[39m])\n\u001b[1;32m    183\u001b[0m     )\n\u001b[1;32m    185\u001b[0m \u001b[38;5;28;01mreturn\u001b[39;00m X, Y\n",
      "\u001b[0;31mValueError\u001b[0m: Incompatible dimension for X and Y matrices: X.shape[1] == 3 while Y.shape[1] == 2"
     ]
    }
   ],
   "source": [
    "import numpy as np\n",
    "from sklearn.metrics.pairwise import cosine_similarity\n",
    "\n",
    "# define two matrices with different shapes\n",
    "matrix1 = np.array([[1, 2], [3, 4], [5, 6]])\n",
    "matrix2 = np.array([[1, 2, 3], [4, 5, 6]])\n",
    "\n",
    "# initialize an empty list to store the similarity scores\n",
    "similarity_scores = []\n",
    "\n",
    "# compute the similarity between each pair of columns\n",
    "for i in range(matrix1.shape[1]):\n",
    "    for j in range(matrix2.shape[1]):\n",
    "        # select the i-th column from matrix1 and the j-th column from matrix2\n",
    "        column1 = matrix1[:, i]\n",
    "        column2 = matrix2[:, j]\n",
    "\n",
    "        # reshape the columns to have a compatible shape for cosine_similarity\n",
    "        column1 = column1.reshape(1, -1)\n",
    "        column2 = column2.reshape(1, -1)\n",
    "\n",
    "        # compute the cosine similarity between the two columns\n",
    "        score = cosine_similarity(column1, column2)[0][0]\n",
    "\n",
    "        # add the similarity score to the list\n",
    "        similarity_scores.append((i, j, score))\n",
    "\n",
    "# print the similarity scores\n",
    "for score in similarity_scores:\n",
    "    print(f\"Similarity between column {score[0]} of matrix1 and column {score[1]} of matrix2: {score[2]}\")\n"
   ]
  },
  {
   "cell_type": "code",
   "execution_count": 30,
   "id": "1f0bb8b2",
   "metadata": {},
   "outputs": [
    {
     "name": "stdout",
     "output_type": "stream",
     "text": [
      "Similarity score between element [1 2] in matrix1 and element [1 2 3] in matrix2 is 0.9999164221029999\n",
      "Similarity score between element [1 2] in matrix1 and element [4 5 6] in matrix2 is 0.9716567842088734\n",
      "Similarity score between element [3 4] in matrix1 and element [1 2 3] in matrix2 is 0.98610041936458\n",
      "Similarity score between element [3 4] in matrix1 and element [4 5 6] in matrix2 is 0.9982716843917039\n",
      "Similarity score between element [5 6] in matrix1 and element [1 2 3] in matrix2 is 0.9762969710849806\n",
      "Similarity score between element [5 6] in matrix1 and element [4 5 6] in matrix2 is 0.9999713898673187\n"
     ]
    }
   ],
   "source": [
    "import numpy as np\n",
    "from sklearn.decomposition import TruncatedSVD\n",
    "from sklearn.metrics.pairwise import cosine_similarity\n",
    "\n",
    "# Define two matrices with different number of columns\n",
    "matrix1 = np.array([[1, 2], [3, 4], [5, 6]])\n",
    "matrix2 = np.array([[1, 2, 3], [4, 5, 6]])\n",
    "\n",
    "# Apply SVD to reduce the dimensionality of the matrices to a common number of dimensions\n",
    "n_components = 2\n",
    "svd = TruncatedSVD(n_components=n_components)\n",
    "matrix1_reduced = svd.fit_transform(matrix1)\n",
    "matrix2_reduced = svd.fit_transform(matrix2)\n",
    "\n",
    "# Compute cosine similarity between the pairs of elements in the original matrices\n",
    "similarity_scores = np.zeros((matrix1.shape[0], matrix2.shape[0])) # initialize similarity scores matrix\n",
    "for i in range(matrix1.shape[0]):\n",
    "    for j in range(matrix2.shape[0]):\n",
    "        similarity_scores[i,j] = cosine_similarity([matrix1_reduced[i]], [matrix2_reduced[j]])\n",
    "\n",
    "# Print the similarity scores pair by pair in the original matrices\n",
    "for i in range(matrix1.shape[0]):\n",
    "    for j in range(matrix2.shape[0]):\n",
    "        print(f\"Similarity score between element {matrix1[i]} in matrix1 and element {matrix2[j]} in matrix2 is {similarity_scores[i,j]}\")\n"
   ]
  },
  {
   "cell_type": "code",
   "execution_count": 32,
   "id": "e54f8629",
   "metadata": {},
   "outputs": [
    {
     "name": "stdout",
     "output_type": "stream",
     "text": [
      "Similarity score between element 1 in matrix1 and element 1 in matrix2 is [[0.99991642]]\n"
     ]
    }
   ],
   "source": [
    "import numpy as np\n",
    "from sklearn.decomposition import TruncatedSVD\n",
    "from sklearn.metrics.pairwise import cosine_similarity\n",
    "\n",
    "# Define two matrices with different number of columns\n",
    "matrix1 = np.array([[1, 2], [3, 4], [5, 6]])\n",
    "matrix2 = np.array([[1, 2, 3], [4, 5, 6]])\n",
    "\n",
    "# Apply SVD to reduce the dimensionality of the matrices to a common number of dimensions\n",
    "n_components = 2\n",
    "svd = TruncatedSVD(n_components=n_components)\n",
    "matrix1_reduced = svd.fit_transform(matrix1)\n",
    "matrix2_reduced = svd.fit_transform(matrix2)\n",
    "\n",
    "# Compute cosine similarity between the two specified elements\n",
    "similarity_score = cosine_similarity([matrix1_reduced[0]], [matrix2_reduced[0]])\n",
    "\n",
    "# Print the similarity score between the two specified elements\n",
    "print(f\"Similarity score between element {matrix1[0][0]} in matrix1 and element {matrix2[0][0]} in matrix2 is {similarity_score}\")\n"
   ]
  },
  {
   "cell_type": "code",
   "execution_count": 33,
   "id": "198a2371",
   "metadata": {},
   "outputs": [
    {
     "name": "stdout",
     "output_type": "stream",
     "text": [
      "Similarity score between element 1 in matrix1 and element 1 in matrix2 is 0.9999164221029998\n",
      "Similarity score between element 1 in matrix1 and element 4 in matrix2 is 0.9716567842088734\n",
      "Similarity score between element 3 in matrix1 and element 1 in matrix2 is 0.98610041936458\n",
      "Similarity score between element 3 in matrix1 and element 4 in matrix2 is 0.9982716843917039\n",
      "Similarity score between element 5 in matrix1 and element 1 in matrix2 is 0.9762969710849806\n",
      "Similarity score between element 5 in matrix1 and element 4 in matrix2 is 0.9999713898673187\n"
     ]
    }
   ],
   "source": [
    "import numpy as np\n",
    "from sklearn.decomposition import TruncatedSVD\n",
    "from sklearn.metrics.pairwise import cosine_similarity\n",
    "\n",
    "# Define two matrices with different number of columns\n",
    "matrix1 = np.array([[1, 2], [3, 4], [5, 6]])\n",
    "matrix2 = np.array([[1, 2, 3], [4, 5, 6]])\n",
    "\n",
    "# Apply SVD to reduce the dimensionality of the matrices to a common number of dimensions\n",
    "n_components = 2\n",
    "svd = TruncatedSVD(n_components=n_components)\n",
    "matrix1_reduced = svd.fit_transform(matrix1)\n",
    "matrix2_reduced = svd.fit_transform(matrix2)\n",
    "\n",
    "# Compute cosine similarity between all pairs of elements\n",
    "similarity_matrix = cosine_similarity(matrix1_reduced, matrix2_reduced)\n",
    "\n",
    "# Print the similarity scores for all pairs of elements\n",
    "for i in range(matrix1.shape[0]):\n",
    "    for j in range(matrix2.shape[0]):\n",
    "        similarity_score = similarity_matrix[i][j]\n",
    "        print(f\"Similarity score between element {matrix1[i][0]} in matrix1 and element {matrix2[j][0]} in matrix2 is {similarity_score}\")\n"
   ]
  },
  {
   "cell_type": "code",
   "execution_count": 34,
   "id": "8c604b38",
   "metadata": {},
   "outputs": [
    {
     "name": "stdout",
     "output_type": "stream",
     "text": [
      "Similarity score between element [1 2] in matrix1 and element [1 2 3] in matrix2 is 0.9999164221029998\n",
      "Similarity score between element [1 2] in matrix1 and element [4 5 6] in matrix2 is 0.9716567842088734\n",
      "Similarity score between element [3 4] in matrix1 and element [1 2 3] in matrix2 is 0.98610041936458\n",
      "Similarity score between element [3 4] in matrix1 and element [4 5 6] in matrix2 is 0.9982716843917039\n",
      "Similarity score between element [5 6] in matrix1 and element [1 2 3] in matrix2 is 0.9762969710849806\n",
      "Similarity score between element [5 6] in matrix1 and element [4 5 6] in matrix2 is 0.9999713898673187\n"
     ]
    }
   ],
   "source": [
    "import numpy as np\n",
    "from sklearn.decomposition import TruncatedSVD\n",
    "from sklearn.metrics.pairwise import cosine_similarity\n",
    "\n",
    "# Define two matrices with different number of columns\n",
    "matrix1 = np.array([[1, 2], [3, 4], [5, 6]])\n",
    "matrix2 = np.array([[1, 2, 3], [4, 5, 6]])\n",
    "\n",
    "# Apply SVD to reduce the dimensionality of the matrices to a common number of dimensions\n",
    "n_components = 2\n",
    "svd = TruncatedSVD(n_components=n_components)\n",
    "matrix1_reduced = svd.fit_transform(matrix1)\n",
    "matrix2_reduced = svd.fit_transform(matrix2)\n",
    "\n",
    "# Compute cosine similarity between all pairs of elements\n",
    "similarity_matrix = cosine_similarity(matrix1_reduced, matrix2_reduced)\n",
    "\n",
    "# Print the similarity scores for all pairs of elements\n",
    "for i in range(matrix1.shape[0]):\n",
    "    for j in range(matrix2.shape[0]):\n",
    "        similarity_score = similarity_matrix[i][j]\n",
    "        print(f\"Similarity score between element {matrix1[i]} in matrix1 and element {matrix2[j]} in matrix2 is {similarity_score}\")\n"
   ]
  },
  {
   "cell_type": "code",
   "execution_count": 35,
   "id": "71a6d5eb",
   "metadata": {},
   "outputs": [
    {
     "name": "stdout",
     "output_type": "stream",
     "text": [
      "[[0.97618706 0.99654576 1.        ]\n",
      " [0.92163538 0.96561576 0.98386991]\n",
      " [0.90055164 0.95103407 0.97341717]]\n",
      "The history saving thread hit an unexpected error (OperationalError('database or disk is full')).History will not be written to the database.\n"
     ]
    }
   ],
   "source": [
    "from sklearn.metrics.pairwise import cosine_similarity\n",
    "import numpy as np\n",
    "\n",
    "matrix1 = np.array([[1, 2], [3, 4], [5, 6]])\n",
    "matrix2 = np.array([[1, 2, 3], [4, 5, 6]])\n",
    "\n",
    "# initialize similarity matrix with zeros\n",
    "similarity_matrix = np.zeros((matrix1.shape[0], matrix2.shape[1]))\n",
    "\n",
    "for i in range(matrix1.shape[0]):\n",
    "    for j in range(matrix2.shape[1]):\n",
    "        # compute cosine similarity between ith row of matrix1 and jth column of matrix2\n",
    "        similarity_matrix[i][j] = cosine_similarity([matrix1[i]], [matrix2[:,j]])[0,0]\n",
    "\n",
    "print(similarity_matrix)"
   ]
  },
  {
   "cell_type": "code",
   "execution_count": 38,
   "id": "8facc7e8",
   "metadata": {},
   "outputs": [
    {
     "name": "stdout",
     "output_type": "stream",
     "text": [
      "[[1. 1. 1. 1. 1. 1.]\n",
      " [1. 1. 1. 1. 1. 1.]\n",
      " [1. 1. 1. 1. 1. 1.]\n",
      " [1. 1. 1. 1. 1. 1.]\n",
      " [1. 1. 1. 1. 1. 1.]\n",
      " [1. 1. 1. 1. 1. 1.]]\n"
     ]
    }
   ],
   "source": [
    "import numpy as np\n",
    "from sklearn.metrics.pairwise import cosine_similarity\n",
    "\n",
    "matrix1 = np.array([[1, 2], [3, 4], [5, 6]])\n",
    "matrix2 = np.array([[1, 2, 3], [4, 5, 6]])\n",
    "\n",
    "similarity_matrix = np.zeros((matrix1.shape[0] * matrix1.shape[1], matrix2.shape[0] * matrix2.shape[1]))\n",
    "\n",
    "for i in range(matrix1.shape[0]):\n",
    "    for j in range(matrix1.shape[1]):\n",
    "        # Get the (i, j)-th element of matrix1 and reshape it to a column vector\n",
    "        vector1 = matrix1[i, j].reshape(-1, 1)\n",
    "        for k in range(matrix2.shape[0]):\n",
    "            for l in range(matrix2.shape[1]):\n",
    "                # Get the (k, l)-th element of matrix2 and reshape it to a row vector\n",
    "                vector2 = matrix2[k, l].reshape(1, -1)\n",
    "                # Compute the cosine similarity between vector1 and vector2\n",
    "                similarity_matrix[i * matrix1.shape[1] + j, k * matrix2.shape[1] + l] = cosine_similarity(vector1, vector2)\n",
    "\n",
    "# Print the similarity matrix\n",
    "print(similarity_matrix)\n"
   ]
  },
  {
   "cell_type": "code",
   "execution_count": 41,
   "id": "98e55cf3",
   "metadata": {},
   "outputs": [
    {
     "data": {
      "text/plain": [
       "array([[1]])"
      ]
     },
     "execution_count": 41,
     "metadata": {},
     "output_type": "execute_result"
    }
   ],
   "source": [
    "vector1 = matrix1[0, 0].reshape(-1, 1)\n",
    "vector1"
   ]
  },
  {
   "cell_type": "code",
   "execution_count": 44,
   "id": "99508545",
   "metadata": {},
   "outputs": [
    {
     "data": {
      "text/plain": [
       "array([[2]])"
      ]
     },
     "execution_count": 44,
     "metadata": {},
     "output_type": "execute_result"
    }
   ],
   "source": [
    "vector2 = matrix2[0, 1].reshape(1, -1)\n",
    "vector2"
   ]
  },
  {
   "cell_type": "code",
   "execution_count": 47,
   "id": "55ca88f7",
   "metadata": {},
   "outputs": [
    {
     "data": {
      "text/plain": [
       "array([[1.]])"
      ]
     },
     "execution_count": 47,
     "metadata": {},
     "output_type": "execute_result"
    }
   ],
   "source": [
    "cosine_similarity([[1]], [[2]])"
   ]
  },
  {
   "cell_type": "code",
   "execution_count": 49,
   "id": "c1b825d7",
   "metadata": {},
   "outputs": [
    {
     "name": "stdout",
     "output_type": "stream",
     "text": [
      "1.0\n"
     ]
    }
   ],
   "source": [
    "from sklearn.metrics.pairwise import cosine_similarity\n",
    "\n",
    "a = [1]\n",
    "b = [5]\n",
    "cos_sim = cosine_similarity([a], [b])\n",
    "print(cos_sim[0][0])  # Output: 0.9999999999999998"
   ]
  },
  {
   "cell_type": "code",
   "execution_count": 51,
   "id": "b71d0648",
   "metadata": {},
   "outputs": [
    {
     "name": "stdout",
     "output_type": "stream",
     "text": [
      "1.0\n"
     ]
    }
   ],
   "source": [
    "a = 1\n",
    "b = 5\n",
    "\n",
    "cosine_similarity = a * b / (abs(a) * abs(b))\n",
    "print(cosine_similarity)"
   ]
  },
  {
   "cell_type": "code",
   "execution_count": 54,
   "id": "39e53c12",
   "metadata": {},
   "outputs": [
    {
     "data": {
      "text/plain": [
       "1.0"
      ]
     },
     "execution_count": 54,
     "metadata": {},
     "output_type": "execute_result"
    }
   ],
   "source": [
    "cosine = np.dot(a,b)/(norm(a)*norm(b))\n",
    "cosine"
   ]
  },
  {
   "cell_type": "code",
   "execution_count": null,
   "id": "06f3365a",
   "metadata": {},
   "outputs": [],
   "source": []
  }
 ],
 "metadata": {
  "kernelspec": {
   "display_name": "Python 3 (ipykernel)",
   "language": "python",
   "name": "python3"
  },
  "language_info": {
   "codemirror_mode": {
    "name": "ipython",
    "version": 3
   },
   "file_extension": ".py",
   "mimetype": "text/x-python",
   "name": "python",
   "nbconvert_exporter": "python",
   "pygments_lexer": "ipython3",
   "version": "3.8.13"
  }
 },
 "nbformat": 4,
 "nbformat_minor": 5
}
