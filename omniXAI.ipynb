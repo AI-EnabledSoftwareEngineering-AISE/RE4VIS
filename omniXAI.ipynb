{
 "cells": [
  {
   "cell_type": "code",
   "execution_count": 1,
   "id": "92c7fb4e",
   "metadata": {},
   "outputs": [],
   "source": [
    "# This default renderer is used for sphinx docs only. Please delete this cell in IPython.\n",
    "import plotly.io as pio\n",
    "pio.renderers.default = \"png\""
   ]
  },
  {
   "cell_type": "code",
   "execution_count": 2,
   "id": "d618152c",
   "metadata": {},
   "outputs": [],
   "source": [
    "\n",
    "import os\n",
    "import torch\n",
    "import unittest\n",
    "import numpy as np\n",
    "from PIL import Image as PilImage\n",
    "from omnixai.data.text import Text\n",
    "from omnixai.data.image import Image\n",
    "from omnixai.data.multi_inputs import MultiInputs\n",
    "from omnixai.preprocessing.image import Resize\n",
    "from omnixai.explainers.vision_language.specific.gradcam import GradCAM\n",
    "\n",
    "from lavis.models import BlipITM\n",
    "from lavis.processors import load_processor"
   ]
  },
  {
   "cell_type": "code",
   "execution_count": 17,
   "id": "534648ee",
   "metadata": {},
   "outputs": [],
   "source": [
    "from lavis.models import load_model_and_preprocess"
   ]
  },
  {
   "cell_type": "code",
   "execution_count": 9,
   "id": "4c4f8af6",
   "metadata": {},
   "outputs": [],
   "source": [
    "from lavis.models import load_model"
   ]
  },
  {
   "cell_type": "code",
   "execution_count": 3,
   "id": "001889e7",
   "metadata": {},
   "outputs": [],
   "source": [
    "image = Resize(size=480).transform(\n",
    "    Image(PilImage.open(\"/home/xtest/lavis/LAVIS/cache/heat/images/test/7099.jpg\").convert(\"RGB\")))\n",
    "text = Text(\"a pedestrian crosses the road in front of a line of cars.\")\n",
    "inputs = MultiInputs(image=image, text=text)"
   ]
  },
  {
   "cell_type": "code",
   "execution_count": 5,
   "id": "65049110",
   "metadata": {},
   "outputs": [],
   "source": [
    "ckp_path = \\\n",
    "    \"/home/xtest/lavis/LAVIS/lavis/output/BLIP/Retrieval_COCO/20221129121/checkpoint_best.pth\""
   ]
  },
  {
   "cell_type": "code",
   "execution_count": 6,
   "id": "c98a411f",
   "metadata": {},
   "outputs": [],
   "source": [
    "device = torch.device(\"cuda\" if torch.cuda.is_available() else \"cpu\")"
   ]
  },
  {
   "cell_type": "code",
   "execution_count": 7,
   "id": "569de41c",
   "metadata": {},
   "outputs": [],
   "source": [
    "# model = load_model(name=\"blip_caption\", model_type=\"base_coco\", is_eval=True, device=device, checkpoint=ckp_path)"
   ]
  },
  {
   "cell_type": "code",
   "execution_count": 10,
   "id": "fee4ba6c",
   "metadata": {},
   "outputs": [],
   "source": [
    "# model = load_model(\n",
    "#         name=\"blip_image_text_matching\", model_type=\"base\", is_eval=True, device=device, checkpoint=ckp_path\n",
    "#     )"
   ]
  },
  {
   "cell_type": "code",
   "execution_count": 18,
   "id": "6018e802",
   "metadata": {},
   "outputs": [],
   "source": [
    "model, image_processor, text_processors = load_model_and_preprocess(\"blip_image_text_matching\", \"base\", device=device, is_eval=True)"
   ]
  },
  {
   "cell_type": "code",
   "execution_count": 19,
   "id": "944370a2",
   "metadata": {},
   "outputs": [],
   "source": [
    "# model = BlipITM(pretrained=pretrained_path, vit=\"base\")\n",
    "# image_processor = load_processor(\"blip_image_eval\").build(image_size=384)\n",
    "# text_processor = load_processor(\"blip_caption\")\n",
    "tokenizer = BlipITM.init_tokenizer()"
   ]
  },
  {
   "cell_type": "code",
   "execution_count": 20,
   "id": "8390ec7b",
   "metadata": {},
   "outputs": [],
   "source": [
    "def preprocess(x: MultiInputs):\n",
    "    images = torch.stack([image_processor(z.to_pil()) for z in x.image])\n",
    "    texts = [text_processor(z) for z in x.text.values]\n",
    "    return images, texts"
   ]
  },
  {
   "cell_type": "code",
   "execution_count": 22,
   "id": "265c6a6e",
   "metadata": {},
   "outputs": [
    {
     "ename": "TypeError",
     "evalue": "'BertAttention' object is not iterable",
     "output_type": "error",
     "traceback": [
      "\u001b[0;31m---------------------------------------------------------------------------\u001b[0m",
      "\u001b[0;31mTypeError\u001b[0m                                 Traceback (most recent call last)",
      "Input \u001b[0;32mIn [22]\u001b[0m, in \u001b[0;36m<cell line: 1>\u001b[0;34m()\u001b[0m\n\u001b[0;32m----> 1\u001b[0m \u001b[38;5;28;01mfor\u001b[39;00m el \u001b[38;5;129;01min\u001b[39;00m model\u001b[38;5;241m.\u001b[39mtext_encoder\u001b[38;5;241m.\u001b[39mbase_model\u001b[38;5;241m.\u001b[39mbase_model\u001b[38;5;241m.\u001b[39mencoder\u001b[38;5;241m.\u001b[39mlayer[\u001b[38;5;241m6\u001b[39m]\u001b[38;5;241m.\u001b[39mcrossattention:\n\u001b[1;32m      2\u001b[0m     \u001b[38;5;28mprint\u001b[39m(el)\n",
      "\u001b[0;31mTypeError\u001b[0m: 'BertAttention' object is not iterable"
     ]
    }
   ],
   "source": [
    "for el in model.text_encoder.base_model.base_model.encoder.layer[6].crossattention:\n",
    "    print(el)"
   ]
  },
  {
   "cell_type": "code",
   "execution_count": 21,
   "id": "4cd2286d",
   "metadata": {},
   "outputs": [
    {
     "ename": "AttributeError",
     "evalue": "'BertSelfAttention' object has no attribute 'attention_probs_layer'",
     "output_type": "error",
     "traceback": [
      "\u001b[0;31m---------------------------------------------------------------------------\u001b[0m",
      "\u001b[0;31mAttributeError\u001b[0m                            Traceback (most recent call last)",
      "Input \u001b[0;32mIn [21]\u001b[0m, in \u001b[0;36m<cell line: 1>\u001b[0;34m()\u001b[0m\n\u001b[1;32m      1\u001b[0m explainer \u001b[38;5;241m=\u001b[39m GradCAM(\n\u001b[1;32m      2\u001b[0m     model\u001b[38;5;241m=\u001b[39mmodel,\n\u001b[0;32m----> 3\u001b[0m     target_layer\u001b[38;5;241m=\u001b[39m\u001b[43mmodel\u001b[49m\u001b[38;5;241;43m.\u001b[39;49m\u001b[43mtext_encoder\u001b[49m\u001b[38;5;241;43m.\u001b[39;49m\u001b[43mbase_model\u001b[49m\u001b[38;5;241;43m.\u001b[39;49m\u001b[43mbase_model\u001b[49m\u001b[38;5;241;43m.\u001b[39;49m\u001b[43mencoder\u001b[49m\u001b[38;5;241;43m.\u001b[39;49m\u001b[43mlayer\u001b[49m\u001b[43m[\u001b[49m\u001b[38;5;241;43m6\u001b[39;49m\u001b[43m]\u001b[49m\u001b[38;5;241;43m.\u001b[39;49m\n\u001b[1;32m      4\u001b[0m \u001b[43m        \u001b[49m\u001b[43mcrossattention\u001b[49m\u001b[38;5;241;43m.\u001b[39;49m\u001b[43mself\u001b[49m\u001b[38;5;241;43m.\u001b[39;49m\u001b[43mattention_probs_layer\u001b[49m,\n\u001b[1;32m      5\u001b[0m     preprocess_function\u001b[38;5;241m=\u001b[39mpreprocess,\n\u001b[1;32m      6\u001b[0m     tokenizer\u001b[38;5;241m=\u001b[39mtokenizer,\n\u001b[1;32m      7\u001b[0m     loss_function\u001b[38;5;241m=\u001b[39m\u001b[38;5;28;01mlambda\u001b[39;00m outputs: outputs[:, \u001b[38;5;241m1\u001b[39m]\u001b[38;5;241m.\u001b[39msum()\n\u001b[1;32m      8\u001b[0m )\n",
      "File \u001b[0;32m~/.conda/envs/lavis/lib/python3.8/site-packages/torch/nn/modules/module.py:1177\u001b[0m, in \u001b[0;36mModule.__getattr__\u001b[0;34m(self, name)\u001b[0m\n\u001b[1;32m   1175\u001b[0m     \u001b[38;5;28;01mif\u001b[39;00m name \u001b[38;5;129;01min\u001b[39;00m modules:\n\u001b[1;32m   1176\u001b[0m         \u001b[38;5;28;01mreturn\u001b[39;00m modules[name]\n\u001b[0;32m-> 1177\u001b[0m \u001b[38;5;28;01mraise\u001b[39;00m \u001b[38;5;167;01mAttributeError\u001b[39;00m(\u001b[38;5;124m\"\u001b[39m\u001b[38;5;124m'\u001b[39m\u001b[38;5;132;01m{}\u001b[39;00m\u001b[38;5;124m'\u001b[39m\u001b[38;5;124m object has no attribute \u001b[39m\u001b[38;5;124m'\u001b[39m\u001b[38;5;132;01m{}\u001b[39;00m\u001b[38;5;124m'\u001b[39m\u001b[38;5;124m\"\u001b[39m\u001b[38;5;241m.\u001b[39mformat(\n\u001b[1;32m   1178\u001b[0m     \u001b[38;5;28mtype\u001b[39m(\u001b[38;5;28mself\u001b[39m)\u001b[38;5;241m.\u001b[39m\u001b[38;5;18m__name__\u001b[39m, name))\n",
      "\u001b[0;31mAttributeError\u001b[0m: 'BertSelfAttention' object has no attribute 'attention_probs_layer'"
     ]
    }
   ],
   "source": [
    "explainer = GradCAM(\n",
    "    model=model,\n",
    "    target_layer=model.text_encoder.base_model.base_model.encoder.layer[6].\n",
    "        crossattention.self.attention_probs_layer,\n",
    "    preprocess_function=preprocess,\n",
    "    tokenizer=tokenizer,\n",
    "    loss_function=lambda outputs: outputs[:, 1].sum()\n",
    ")"
   ]
  },
  {
   "cell_type": "code",
   "execution_count": 15,
   "id": "e0b28f22",
   "metadata": {},
   "outputs": [
    {
     "ename": "TypeError",
     "evalue": "__init__() got an unexpected keyword argument 'pretrained'",
     "output_type": "error",
     "traceback": [
      "\u001b[0;31m---------------------------------------------------------------------------\u001b[0m",
      "\u001b[0;31mTypeError\u001b[0m                                 Traceback (most recent call last)",
      "Input \u001b[0;32mIn [15]\u001b[0m, in \u001b[0;36m<cell line: 3>\u001b[0;34m()\u001b[0m\n\u001b[1;32m      1\u001b[0m pretrained_path \u001b[38;5;241m=\u001b[39m \\\n\u001b[1;32m      2\u001b[0m     \u001b[38;5;124m\"\u001b[39m\u001b[38;5;124mhttps://storage.googleapis.com/sfr-vision-language-research/BLIP/models/model_base_retrieval_coco.pth\u001b[39m\u001b[38;5;124m\"\u001b[39m\n\u001b[0;32m----> 3\u001b[0m model \u001b[38;5;241m=\u001b[39m \u001b[43mBlipITM\u001b[49m\u001b[43m(\u001b[49m\u001b[43mpretrained\u001b[49m\u001b[38;5;241;43m=\u001b[39;49m\u001b[43mpretrained_path\u001b[49m\u001b[43m,\u001b[49m\u001b[43m \u001b[49m\u001b[43mvit\u001b[49m\u001b[38;5;241;43m=\u001b[39;49m\u001b[38;5;124;43m\"\u001b[39;49m\u001b[38;5;124;43mbase\u001b[39;49m\u001b[38;5;124;43m\"\u001b[39;49m\u001b[43m)\u001b[49m\n\u001b[1;32m      4\u001b[0m image_processor \u001b[38;5;241m=\u001b[39m load_processor(\u001b[38;5;124m\"\u001b[39m\u001b[38;5;124mblip_image_eval\u001b[39m\u001b[38;5;124m\"\u001b[39m)\u001b[38;5;241m.\u001b[39mbuild(image_size\u001b[38;5;241m=\u001b[39m\u001b[38;5;241m384\u001b[39m)\n\u001b[1;32m      5\u001b[0m text_processor \u001b[38;5;241m=\u001b[39m load_processor(\u001b[38;5;124m\"\u001b[39m\u001b[38;5;124mblip_caption\u001b[39m\u001b[38;5;124m\"\u001b[39m)\n",
      "\u001b[0;31mTypeError\u001b[0m: __init__() got an unexpected keyword argument 'pretrained'"
     ]
    }
   ],
   "source": [
    "pretrained_path = \\\n",
    "    \"https://storage.googleapis.com/sfr-vision-language-research/BLIP/models/model_base_retrieval_coco.pth\"\n",
    "model = BlipITM(pretrained=pretrained_path, vit=\"base\")\n",
    "image_processor = load_processor(\"blip_image_eval\").build(image_size=384)\n",
    "text_processor = load_processor(\"blip_caption\")\n",
    "tokenizer = BlipITM.init_tokenizer()"
   ]
  },
  {
   "cell_type": "code",
   "execution_count": null,
   "id": "726f8dbb",
   "metadata": {},
   "outputs": [],
   "source": []
  }
 ],
 "metadata": {
  "kernelspec": {
   "display_name": "Python 3 (ipykernel)",
   "language": "python",
   "name": "python3"
  },
  "language_info": {
   "codemirror_mode": {
    "name": "ipython",
    "version": 3
   },
   "file_extension": ".py",
   "mimetype": "text/x-python",
   "name": "python",
   "nbconvert_exporter": "python",
   "pygments_lexer": "ipython3",
   "version": "3.8.13"
  }
 },
 "nbformat": 4,
 "nbformat_minor": 5
}
