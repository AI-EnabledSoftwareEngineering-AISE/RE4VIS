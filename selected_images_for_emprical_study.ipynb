{
 "cells": [
  {
   "cell_type": "markdown",
   "metadata": {},
   "source": [
    "# Pedestrian images"
   ]
  },
  {
   "cell_type": "code",
   "execution_count": 5,
   "metadata": {},
   "outputs": [],
   "source": [
    "# not well coverd topics sample\n",
    "t1 = [\"bystander\", \"scooter\", \"elevator\", \"vehicle\", \"ambulance\"]\n",
    "t1_img_ids = [1205, 3520, 217, 1708, 1234, 2418, 236, 1038, 3109, 2282, 2717, 1165, 3487, 1943, 135, 1380, 3486, 2248, 167, 1711, 878, 1983, 133, 1112, 182, 1300, 2299, 2868, 2374, 996, 2, 2281, 3056, 989, 3822, 997, 2082, 2388, 116, 243, 2907, 1847, 3239, 2751, 2134, 16, 308, 1275, 2732, 2913, 2441, 2061, 2311, 2690, 3597, 980, 1998, 2716, 275, 3799, 957, 95, 2348, 3472, 384, 3104, 3604, 3242, 2841, 2763, 2613, 2320, 2729, 53, 255, 2984, 3668, 414, 3823, 2975, 2790, 33, 2066, 183, 2279, 72, 975, 190, 932, 1853, 2968, 3073, 2368, 3442, 2786, 2934, 110, 3605, 3323, 2798]"
   ]
  },
  {
   "cell_type": "code",
   "execution_count": 4,
   "metadata": {},
   "outputs": [
    {
     "name": "stdout",
     "output_type": "stream",
     "text": [
      "[1205, 3520, 217, 1708, 1234, 2418, 236, 1038, 3109, 2282, 2717, 1165, 3487, 1943, 135, 1380, 3486, 2248, 167, 1711, 878, 1983, 133, 1112, 182, 1300, 2299, 2868, 2374, 996, 2, 2281, 3056, 989, 3822, 997, 2082, 2388, 116, 243, 2907, 1847, 3239, 2751, 2134, 16, 308, 1275, 2732, 2913, 2441, 2061, 2311, 2690, 3597, 980, 1998, 2716, 275, 3799, 957, 95, 2348, 3472, 384, 3104, 3604, 3242, 2841, 2763, 2613, 2320, 2729, 53, 255, 2984, 3668, 414, 3823, 2975, 2790, 33, 2066, 183, 2279, 72, 975, 190, 932, 1853, 2968, 3073, 2368, 3442, 2786, 2934, 110, 3605, 3323, 2798]\n"
     ]
    }
   ],
   "source": [
    "print(t1_img_ids)"
   ]
  },
  {
   "cell_type": "code",
   "execution_count": 9,
   "metadata": {},
   "outputs": [],
   "source": [
    "t2 = [\"pedestrianised\", \"city\", \"mall\", \"zone\", \"active\"]\n",
    "t2_img_ids = [2652, 1998, 2393, 2347, 3042, 924, 3603, 2738, 710, 2700, 877, 3695, 463, 1711, 460, 919, 2061, 521, 2082, 2717, 37, 3858, 894, 2059, 2052, 994, 2209, 990, 1020, 3243, 3396, 843, 997, 1983, 43, 2164, 2834, 2947, 455, 3117, 735, 221, 2776, 317, 2517, 3455, 870, 3486, 9, 1563, 2704, 287, 3413, 1215, 66, 913, 759, 249, 3118, 2875, 3471, 3495, 95, 2449, 2079, 974, 767, 2085, 1031, 2051, 1692, 3097, 3470, 46, 2623, 2158, 3390, 119, 2591, 2723, 3767, 38, 2484, 2749, 795, 3239, 487, 2514, 914, 817, 3054, 2012, 2157, 3722, 2962, 337, 1767, 2595, 2015, 1734]"
   ]
  },
  {
   "cell_type": "code",
   "execution_count": 10,
   "metadata": {},
   "outputs": [
    {
     "name": "stdout",
     "output_type": "stream",
     "text": [
      "[2652, 1998, 2393, 2347, 3042, 924, 3603, 2738, 710, 2700, 877, 3695, 463, 1711, 460, 919, 2061, 521, 2082, 2717, 37, 3858, 894, 2059, 2052, 994, 2209, 990, 1020, 3243, 3396, 843, 997, 1983, 43, 2164, 2834, 2947, 455, 3117, 735, 221, 2776, 317, 2517, 3455, 870, 3486, 9, 1563, 2704, 287, 3413, 1215, 66, 913, 759, 249, 3118, 2875, 3471, 3495, 95, 2449, 2079, 974, 767, 2085, 1031, 2051, 1692, 3097, 3470, 46, 2623, 2158, 3390, 119, 2591, 2723, 3767, 38, 2484, 2749, 795, 3239, 487, 2514, 914, 817, 3054, 2012, 2157, 3722, 2962, 337, 1767, 2595, 2015, 1734]\n"
     ]
    }
   ],
   "source": [
    "print(t2_img_ids)"
   ]
  },
  {
   "cell_type": "code",
   "execution_count": 13,
   "metadata": {},
   "outputs": [],
   "source": [
    "t3 = [\"transit\", \"station\", \"underground\", \"railway\", \"northgate\"]\n",
    "t3_img_ids = [2901, 178, 530, 3170, 157, 3688, 429, 2209, 631, 3121, 3078, 3455, 292, 1243, 533, 3054, 346, 670, 591, 1249, 454, 111, 461, 830, 215, 2022, 1206, 232, 1089, 2035, 95, 497, 2875, 318, 241, 583, 55, 2984, 894, 407, 2643, 3165, 490, 967, 3390, 2021, 2832, 3463, 2554, 3148, 3128, 1996, 293, 227, 3061, 527, 1158, 179, 2164, 440, 2868, 2023, 2926, 2591, 2124, 526, 2046, 462, 37, 2861, 3744, 170, 299, 3201, 595, 401, 321, 297, 1101, 2871, 327, 46, 506, 3687, 570, 549, 3140, 3087, 3264, 593, 545, 735, 2776, 592, 3508, 211, 1149, 2685, 3699, 3132]"
   ]
  },
  {
   "cell_type": "code",
   "execution_count": 14,
   "metadata": {},
   "outputs": [
    {
     "name": "stdout",
     "output_type": "stream",
     "text": [
      "[2901, 178, 530, 3170, 157, 3688, 429, 2209, 631, 3121, 3078, 3455, 292, 1243, 533, 3054, 346, 670, 591, 1249, 454, 111, 461, 830, 215, 2022, 1206, 232, 1089, 2035, 95, 497, 2875, 318, 241, 583, 55, 2984, 894, 407, 2643, 3165, 490, 967, 3390, 2021, 2832, 3463, 2554, 3148, 3128, 1996, 293, 227, 3061, 527, 1158, 179, 2164, 440, 2868, 2023, 2926, 2591, 2124, 526, 2046, 462, 37, 2861, 3744, 170, 299, 3201, 595, 401, 321, 297, 1101, 2871, 327, 46, 506, 3687, 570, 549, 3140, 3087, 3264, 593, 545, 735, 2776, 592, 3508, 211, 1149, 2685, 3699, 3132]\n"
     ]
    }
   ],
   "source": [
    "print(t3_img_ids)"
   ]
  },
  {
   "cell_type": "code",
   "execution_count": 15,
   "metadata": {},
   "outputs": [
    {
     "data": {
      "text/plain": [
       "275"
      ]
     },
     "execution_count": 15,
     "metadata": {},
     "output_type": "execute_result"
    }
   ],
   "source": [
    "all_img_ids = list(set(t1_img_ids + t2_img_ids + t3_img_ids))\n",
    "len(all_img_ids)"
   ]
  },
  {
   "cell_type": "code",
   "execution_count": 17,
   "metadata": {},
   "outputs": [],
   "source": [
    "base_path = \"/home/xtest/projects/ped_all/images/\"\n",
    "# create a list of all images path by enumerating all_img_ids and adding them to base_path\n",
    "all_img_paths = [base_path + str(img_id) + \".jpg\" for img_id in all_img_ids]\n",
    "# print(all_img_paths)"
   ]
  },
  {
   "cell_type": "code",
   "execution_count": 18,
   "metadata": {},
   "outputs": [],
   "source": [
    "import shutil\n",
    "dest_path = \"/home/xtest/projects/ped_all/test1_subset\"\n",
    "# copy all images to dest_path\n",
    "for img_path in all_img_paths:\n",
    "    shutil.copy(img_path, dest_path)  \n"
   ]
  },
  {
   "cell_type": "markdown",
   "metadata": {},
   "source": [
    "# Aircraft"
   ]
  },
  {
   "cell_type": "code",
   "execution_count": 24,
   "metadata": {},
   "outputs": [],
   "source": [
    "a1 = [\n",
    "                        \"kite\",\n",
    "                        \"balloon\",\n",
    "                        \"fixed wing\",\n",
    "                        \"glider\",\n",
    "                        \"2008 utc reply\"\n",
    "                    ]\n",
    "a1_img_ids = [3824, 2786, 3828, 188, 1466, 349, 140, 4482, 593, 247, 109, 275, 228, 3886, 4490, 480, 3888, 130, 160, 100, 106, 206, 117, 738, 686, 451, 487, 4649, 251, 4257, 1993, 261, 3355, 3816, 221, 233, 550, 1441, 243, 4626, 52, 3973, 4484, 4619, 455, 129, 2016, 646, 578, 616, 141, 254, 2017, 203, 2092, 3900, 3807, 2201, 1117, 1919, 3800, 2985, 3826, 499, 1965, 1192, 4574, 626, 833, 225, 1872, 4470, 4468, 3266, 1267, 1596, 4607, 978, 4509, 3020, 1840, 1244, 166, 584, 855, 4009, 1548, 299, 44, 2267, 1930, 4550, 1031, 93, 95, 3178, 796, 1961, 3827, 2081]"
   ]
  },
  {
   "cell_type": "code",
   "execution_count": 27,
   "metadata": {},
   "outputs": [],
   "source": [
    "a2 = [\n",
    "                        \"air national guard\",\n",
    "                        \"use\",\n",
    "                        \"bomber\",\n",
    "                        \"national\",\n",
    "                        \"unit\"\n",
    "                    ]\n",
    "a2_img_ids = [499, 1022, 4427, 3402, 4464, 404, 3436, 3518, 3990, 2889, 1862, 2920, 1225, 3653, 4003, 4446, 577, 3324, 706, 944, 335, 4428, 20, 484, 3124, 2905, 3167, 1078, 4329, 44, 3009, 3902, 678, 4373, 814, 1133, 3483, 3545, 3627, 86, 4682, 1872, 3082, 616, 4358, 4, 3793, 35, 3357, 3872, 3762, 1270, 379, 378, 402, 4574, 3787, 1919, 3726, 2885, 1961, 2973, 2884, 3112, 893, 45, 3115, 4129, 3295, 646, 3474, 871, 1302, 804, 2121, 1005, 552, 610, 1843, 2017, 3195, 64, 1355, 3249, 1478, 945, 80, 1451, 370, 4150, 3916, 384, 4619, 918, 2715, 656, 2984, 1139, 193, 2911]"
   ]
  },
  {
   "cell_type": "code",
   "execution_count": 26,
   "metadata": {},
   "outputs": [
    {
     "name": "stdout",
     "output_type": "stream",
     "text": [
      "[499, 1022, 4427, 3402, 4464, 404, 3436, 3518, 3990, 2889, 1862, 2920, 1225, 3653, 4003, 4446, 577, 3324, 706, 944, 335, 4428, 20, 484, 3124, 2905, 3167, 1078, 4329, 44, 3009, 3902, 678, 4373, 814, 1133, 3483, 3545, 3627, 86, 4682, 1872, 3082, 616, 4358, 4, 3793, 35, 3357, 3872, 3762, 1270, 379, 378, 402, 4574, 3787, 1919, 3726, 2885, 1961, 2973, 2884, 3112, 893, 45, 3115, 4129, 3295, 646, 3474, 871, 1302, 804, 2121, 1005, 552, 610, 1843, 2017, 3195, 64, 1355, 3249, 1478, 945, 80, 1451, 370, 4150, 3916, 384, 4619, 918, 2715, 656, 2984, 1139, 193, 2911]\n"
     ]
    }
   ],
   "source": [
    "print(a2_img_ids)   "
   ]
  },
  {
   "cell_type": "code",
   "execution_count": 30,
   "metadata": {},
   "outputs": [],
   "source": [
    "# bad coverage data\n",
    "a3 = [\n",
    "                        \"bypass\",\n",
    "                        \"flow\",\n",
    "                        \"temperature\",\n",
    "                        \"pratt whitney\",\n",
    "                        \"pressure\"\n",
    "                    ]\n",
    "a3_img_ids = [275, 1965, 2051, 3565, 565, 4320, 2135, 2108, 1968, 3535, 2140, 455, 1959, 3848, 616, 328, 2763, 4369, 618, 3648, 2100, 514, 4484, 3583, 597, 1355, 141, 4588, 4446, 3432, 3474, 1466, 1561, 1880, 3750, 106, 3564, 1179, 4682, 1019, 3049, 284, 3266, 3462, 2981, 3973, 3641, 3329, 4456, 3676, 1972, 3844, 499, 604, 3863, 978, 577, 833, 3990, 3902, 1798, 4241, 1187, 3411, 2983, 953, 2847, 3532, 130, 4329, 2090, 2153, 3374, 3538, 330, 2126, 380, 179, 4645, 486, 3264, 2905, 1033, 3250, 3409, 3104, 2079, 3415, 3164, 3864, 4577, 4508, 2955, 3324, 3721, 4069, 738, 1861, 4481, 619]"
   ]
  },
  {
   "cell_type": "code",
   "execution_count": 31,
   "metadata": {},
   "outputs": [
    {
     "data": {
      "text/plain": [
       "265"
      ]
     },
     "execution_count": 31,
     "metadata": {},
     "output_type": "execute_result"
    }
   ],
   "source": [
    "all_img_ids_av = list(set(a1_img_ids + a2_img_ids + a3_img_ids))\n",
    "len(all_img_ids_av)\n"
   ]
  },
  {
   "cell_type": "code",
   "execution_count": 32,
   "metadata": {},
   "outputs": [],
   "source": [
    "av_base_path = \"/home/xtest/projects/av_all/images/\"\n",
    "# create a list of all images path by enumerating all_img_ids_av and adding them to av_base_path\n",
    "all_img_paths_av = [av_base_path + str(img_id) + \".jpg\" for img_id in all_img_ids_av]"
   ]
  },
  {
   "cell_type": "code",
   "execution_count": 33,
   "metadata": {},
   "outputs": [],
   "source": [
    "dest_path = \"/home/xtest/projects/av_all/av_subset\"\n",
    "# copy all images to dest_path\n",
    "for img_path in all_img_paths_av:\n",
    "    shutil.copy(img_path, dest_path)  "
   ]
  },
  {
   "cell_type": "markdown",
   "metadata": {},
   "source": [
    "# answer"
   ]
  },
  {
   "cell_type": "code",
   "execution_count": 1,
   "metadata": {},
   "outputs": [],
   "source": [
    "real_names = \"\"\"Removed\"\"\""
   ]
  },
  {
   "cell_type": "code",
   "execution_count": 10,
   "metadata": {},
   "outputs": [],
   "source": [
    "# annonomized names in each line and map them to some random number\n",
    "# 1. read the names from real_names variable\n",
    "# 2. split the names by new line\n",
    "# 3. create a dictionary with key as the name and value as a random number\n",
    "# 4. replace the names with the random number\n",
    "# 5. save the new names in a list to export to a column of csv file\n",
    "import random\n",
    "import string\n",
    "import re\n",
    "import csv"
   ]
  },
  {
   "cell_type": "code",
   "execution_count": null,
   "metadata": {},
   "outputs": [],
   "source": [
    "\n",
    "s = real_names.split(\"\\n\")\n",
    "# print(s)\n",
    "d = {}\n",
    "for name in s:\n",
    "    d[name] = ''.join(random.choices(string.ascii_uppercase + string.digits, k=8))\n",
    "# print(d)\n",
    "# print(d.keys())\n",
    "# print(d.values())\n",
    "# print item in order that they are in real_names variable\n",
    "for name in s:\n",
    "    print(name, d[name])\n",
    "\n",
    "# print(d.items())\n",
    "\n",
    "# save key and value in a csv file\n",
    "\n",
    "with open('participants_aircraft.csv', 'w') as csv_file:  \n",
    "    writer = csv.writer(csv_file)\n",
    "    for key, value in d.items():\n",
    "       writer.writerow([key, value])\n",
    "\n"
   ]
  },
  {
   "cell_type": "code",
   "execution_count": null,
   "metadata": {},
   "outputs": [],
   "source": [
    "pedestrian_participants = \"\"\"removed\"\"\"\n",
    "s = pedestrian_participants.split(\"\\n\")\n",
    "# print(s)\n",
    "d = {}\n",
    "for name in s:\n",
    "    d[name] = ''.join(random.choices(string.ascii_uppercase + string.digits, k=8))\n",
    "# print(d)\n",
    "# print(d.keys())\n",
    "# print(d.values())\n",
    "\n",
    "for name in s:\n",
    "    print(name, d[name])\n",
    "\n",
    "\n",
    "with open('participants_pedestrian.csv', 'w') as csv_file:  \n",
    "    writer = csv.writer(csv_file)\n",
    "    for key, value in d.items():\n",
    "       writer.writerow([key, value])"
   ]
  }
 ],
 "metadata": {
  "kernelspec": {
   "display_name": "lavis",
   "language": "python",
   "name": "python3"
  },
  "language_info": {
   "codemirror_mode": {
    "name": "ipython",
    "version": 3
   },
   "file_extension": ".py",
   "mimetype": "text/x-python",
   "name": "python",
   "nbconvert_exporter": "python",
   "pygments_lexer": "ipython3",
   "version": "3.8.16"
  },
  "orig_nbformat": 4
 },
 "nbformat": 4,
 "nbformat_minor": 2
}
