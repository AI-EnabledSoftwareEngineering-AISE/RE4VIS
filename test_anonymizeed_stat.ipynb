{
 "cells": [
  {
   "cell_type": "code",
   "execution_count": 1,
   "metadata": {},
   "outputs": [],
   "source": [
    "import re\n",
    "import pandas as pd\n",
    "import csv\n",
    "from urllib.parse import quote"
   ]
  },
  {
   "cell_type": "markdown",
   "metadata": {},
   "source": [
    "# Pedestrian"
   ]
  },
  {
   "cell_type": "code",
   "execution_count": 4,
   "metadata": {},
   "outputs": [
    {
     "name": "stdout",
     "output_type": "stream",
     "text": [
      "['Timestamp', 'Please enter your First and Last Name', 'Education? (University, Degree ...)', 'Years of experience in software development', 'Years of Experience in Industry', 'Types of Systems worked with (which domain e.g: Medical, Tech and etc. )', 'Question 1: Are you using visAISE to answer this section? (Please specify whether you are using the tool or not. If you are supposed to use visAISE, I kindly request that you access our tools using the following address:  [Requirements Specifications for AIS Vision-based Perception - Pedestrian]. However, if you should not use the tool for this section, please  [use this link to view the images] instead. Your cooperation is greatly appreciated.)', 'Question 2: How well did you understand concept variant 1 described above, either through retrieved images in the tool or by manually finding it in the dataset?', 'Question 3: What percentage of the images either through retrieved images in the visAISE tool or by manually finding do you believe accurately depict that variant? Please provide a percentage estimate for each concept variant, using a scale of 1 to 10, where 1 represents \"0-10%\" and 10 represents \"91-100%.\"', 'Question 4: How much time, on average, did it take you to analyze and assess this concept variant? Record the time taken for each concept assessment, in minutes.', 'Question 1: Are you using visAISE to answer this section? (Please specify whether you are using the tool or not. If you are supposed to use visAISE, I kindly request that you access our tools using the following address:  [Requirements Specifications for AIS Vision-based Perception - Pedestrian]. However, if you should not use the tool for this section, please  [use this link to view the images] instead. Your cooperation is greatly appreciated.)', 'Question 2: How well did you understand concept variant 2 described above, either through retrieved images in the tool or by manually finding it in the dataset?', 'Question 3: What percentage of the images either through retrieved images in the visAISE tool or by manually finding do you believe accurately depict that variant? Please provide a percentage estimate for each concept variant, using a scale of 1 to 10, where 1 represents \"0-10%\" and 10 represents \"91-100%.\"', 'Question 4: How much time, on average, did it take you to analyze and assess this concept variant? Record the time taken for each concept assessment, in minutes.', 'Question 1: Are you using visAISE to answer this section? (Please specify whether you are using the tool or not. If you are supposed to use visAISE, I kindly request that you access our tools using the following address:  [Requirements Specifications for AIS Vision-based Perception - Pedestrian]. However, if you should not use the tool for this section, please  [use this link to view the images] instead. Your cooperation is greatly appreciated.)', 'Question 2: How well did you understand concept variant 3 described above, either through retrieved images in the tool or by manually finding it in the dataset?', 'Question 3: What percentage of the images either through retrieved images in the visAISE tool or by manually finding do you believe accurately depict that variant? Please provide a percentage estimate for each concept variant, using a scale of 1 to 10, where 1 represents \"0-10%\" and 10 represents \"91-100%.\"', 'Question 4: How much time, on average, did it take you to analyze and assess this concept variant? Record the time taken for each concept assessment, in minutes.', 'Question 1: To what extent did you find the provided dataset representations in tool clear and easy to understand?', 'Question 2: To what extent do you think the use of vizAISE helped you to better understand the dataset?', \"Question 3: How comfortable were you with navigating the tool's interface during the task?\", 'Question 4: To what extent do you think the use of visAISE helped you in identifying the underrepresented variants more effectively than if you were to assess the dataset manually?', 'Question 5: To what extent do you think the use of visAISE, specifically the augmentation from online datasets, and linked features helped you understand the rationale of the change?', 'Question 6: Would you consider using this visualization tool in your future dataset analysis tasks?', 'Question 7: Did you encounter any challenges or difficulties in identifying the underrepresented concept variants? If yes, please specify.', \"Question 8: Please share any additional feedback, suggestions, or insights you have regarding the tool's usability, effectiveness, or potential areas for improvement.\"]\n"
     ]
    }
   ],
   "source": [
    "# open test.csv file\n",
    "# header is the first row, keep it header varible and read the rest\n",
    "\n",
    "with open('ped_test.csv', 'r') as f:\n",
    "    reader = csv.reader(f)\n",
    "    header = next(reader)\n",
    "    data = [row for row in reader]\n",
    "# print header\n",
    "print(header)\n",
    "\n"
   ]
  },
  {
   "cell_type": "code",
   "execution_count": 22,
   "metadata": {},
   "outputs": [
    {
     "data": {
      "text/plain": [
       "'Timestamp'"
      ]
     },
     "execution_count": 22,
     "metadata": {},
     "output_type": "execute_result"
    }
   ],
   "source": [
    "#remove timestamp from header and data\n",
    "for row in data:\n",
    "    row.pop(0)\n",
    "header.pop(0)"
   ]
  },
  {
   "cell_type": "code",
   "execution_count": 23,
   "metadata": {},
   "outputs": [],
   "source": [
    "list_of_links = []\n",
    "for data_1 in data:\n",
    "    sample_link = \"\"\"https://docs.google.com/forms/d/e/1FAIpQLSehnYXoXxjxcr5CM757u2GKP2KNpcYF0B8te8RcO3ccyGUonA/viewform?usp=pp_url&entry.1533067892=t1+x1&entry.75952468=t2&entry.1504275618=t3&entry.1086062394=t4&entry.349748918=t5&entry.83499645=Yes&entry.1259450664=1&entry.2131194762=1&entry.465472354=1&entry.1596096319=Yes&entry.1091771499=1&entry.1559684315=1&entry.479603624=1&entry.2057345672=Yes&entry.2115832627=1&entry.1505214318=1&entry.33730306=1&entry.1039248229=Very+easy&entry.1594355609=Very+helpful&entry.2005802697=Very+comfortable&entry.781768819=Very+helpful&entry.830724702=Very+helpful&entry.1380670412=Very+unlikely&entry.1239224858=t6&entry.108809019=t9+x9\"\"\"\n",
    "\n",
    "    sample_link = re.sub(r'(&entry\\.\\d+=)([^&]+)', r'\\1XFOND', sample_link)\n",
    "    xfond_count = sample_link.count('XFOND')\n",
    "\n",
    "    if xfond_count != len(data_1):\n",
    "        print(data_1)\n",
    "        raise ValueError(\"The count of 'XFOND' does not match the length of data_1\")\n",
    "\n",
    "    # Replace 'XFOND' with elements from data_1\n",
    "    for i, item in enumerate(data_1):\n",
    "        sample_link = re.sub(r'XFOND', quote(item), sample_link, count=1)\n",
    "    list_of_links.append(sample_link)"
   ]
  },
  {
   "cell_type": "code",
   "execution_count": 24,
   "metadata": {},
   "outputs": [
    {
     "name": "stdout",
     "output_type": "stream",
     "text": [
      "1 https://docs.google.com/forms/d/e/1FAIpQLSehnYXoXxjxcr5CM757u2GKP2KNpcYF0B8te8RcO3ccyGUonA/viewform?usp=pp_url&entry.1533067892=7YDHSLNM&entry.75952468=Northern%20Illinois%20University%2C%20Masters&entry.1504275618=2&entry.1086062394=2&entry.349748918=Tech&entry.83499645=Yes&entry.1259450664=10&entry.2131194762=9&entry.465472354=2&entry.1596096319=Yes&entry.1091771499=10&entry.1559684315=10&entry.479603624=1&entry.2057345672=Yes&entry.2115832627=10&entry.1505214318=9&entry.33730306=2&entry.1039248229=Very%20easy&entry.1594355609=Helpful&entry.2005802697=Very%20comfortable&entry.781768819=Very%20helpful&entry.830724702=Very%20helpful&entry.1380670412=Likely&entry.1239224858=&entry.108809019=\n",
      "\n",
      "2 https://docs.google.com/forms/d/e/1FAIpQLSehnYXoXxjxcr5CM757u2GKP2KNpcYF0B8te8RcO3ccyGUonA/viewform?usp=pp_url&entry.1533067892=2IHTVE2L&entry.75952468=northern%20illinois%20university%2C%20%20MS%2C%20CSE&entry.1504275618=0&entry.1086062394=1&entry.349748918=Data%20science&entry.83499645=No&entry.1259450664=6&entry.2131194762=8&entry.465472354=4&entry.1596096319=Yes&entry.1091771499=8&entry.1559684315=7&entry.479603624=2&entry.2057345672=No&entry.2115832627=5&entry.1505214318=4&entry.33730306=4&entry.1039248229=Easy&entry.1594355609=Very%20helpful&entry.2005802697=Very%20comfortable&entry.781768819=Very%20helpful&entry.830724702=Helpful&entry.1380670412=Very%20likely&entry.1239224858=it%27s%20hard%20to%20identify%20without%20tool&entry.108809019=\n",
      "\n",
      "3 https://docs.google.com/forms/d/e/1FAIpQLSehnYXoXxjxcr5CM757u2GKP2KNpcYF0B8te8RcO3ccyGUonA/viewform?usp=pp_url&entry.1533067892=JWZ91KHC&entry.75952468=NIU%20Computer%20Science%20%28Graduate%29&entry.1504275618=0&entry.1086062394=2&entry.349748918=Car%20Manufacturing%2C%20Programming&entry.83499645=Yes&entry.1259450664=9&entry.2131194762=9&entry.465472354=2&entry.1596096319=No&entry.1091771499=9&entry.1559684315=8&entry.479603624=6&entry.2057345672=Yes&entry.2115832627=10&entry.1505214318=10&entry.33730306=4&entry.1039248229=Easy&entry.1594355609=Very%20helpful&entry.2005802697=Comfortable&entry.781768819=Very%20helpful&entry.830724702=Helpful&entry.1380670412=Likely&entry.1239224858=No&entry.108809019=\n",
      "\n",
      "4 https://docs.google.com/forms/d/e/1FAIpQLSehnYXoXxjxcr5CM757u2GKP2KNpcYF0B8te8RcO3ccyGUonA/viewform?usp=pp_url&entry.1533067892=DA6CFYTV&entry.75952468=Master%27s%20in%20Computer%20Science%20%20at%20Northern%20Illinois%20University&entry.1504275618=1.5&entry.1086062394=1.5&entry.349748918=Tech&entry.83499645=No&entry.1259450664=6&entry.2131194762=8&entry.465472354=10%2B&entry.1596096319=Yes&entry.1091771499=8&entry.1559684315=9&entry.479603624=6&entry.2057345672=No&entry.2115832627=7&entry.1505214318=6&entry.33730306=8&entry.1039248229=Easy&entry.1594355609=Helpful&entry.2005802697=Comfortable&entry.781768819=Very%20helpful&entry.830724702=Helpful&entry.1380670412=Likely&entry.1239224858=It%20is%20difficult%20to%20identify%20manually%2C%20as%20we%20need%20to%20identify%20which%20image%20represents%20which%20variant.&entry.108809019=\n",
      "\n",
      "5 https://docs.google.com/forms/d/e/1FAIpQLSehnYXoXxjxcr5CM757u2GKP2KNpcYF0B8te8RcO3ccyGUonA/viewform?usp=pp_url&entry.1533067892=9T7EC4BZ&entry.75952468=Masters%20in%20Computer%20Science%2C%20Northern%20Illinois%20University&entry.1504275618=1.5&entry.1086062394=1.5&entry.349748918=Front%20end%20development&entry.83499645=No&entry.1259450664=8&entry.2131194762=9&entry.465472354=6&entry.1596096319=Yes&entry.1091771499=9&entry.1559684315=9&entry.479603624=6&entry.2057345672=No&entry.2115832627=8&entry.1505214318=6&entry.33730306=4&entry.1039248229=Easy&entry.1594355609=Very%20helpful&entry.2005802697=Comfortable&entry.781768819=Very%20helpful&entry.830724702=Helpful&entry.1380670412=Likely&entry.1239224858=no&entry.108809019=the%20scroll%20for%20all%20the%20images%20does%20not%20fit%20the%20screen%2C%20manually%20having%20to%20move%20up%20and%20down%20is%20less%20userfriendly\n",
      "\n",
      "6 https://docs.google.com/forms/d/e/1FAIpQLSehnYXoXxjxcr5CM757u2GKP2KNpcYF0B8te8RcO3ccyGUonA/viewform?usp=pp_url&entry.1533067892=SGI5TIYO&entry.75952468=Northern%20Illinois%20University%2C%20Masters&entry.1504275618=2&entry.1086062394=1.5&entry.349748918=Banking&entry.83499645=No&entry.1259450664=8&entry.2131194762=8&entry.465472354=8&entry.1596096319=Yes&entry.1091771499=8&entry.1559684315=9&entry.479603624=2&entry.2057345672=No&entry.2115832627=9&entry.1505214318=8&entry.33730306=8&entry.1039248229=Very%20easy&entry.1594355609=Helpful&entry.2005802697=Comfortable&entry.781768819=Helpful&entry.830724702=Helpful&entry.1380670412=Very%20likely&entry.1239224858=&entry.108809019=\n",
      "\n",
      "7 https://docs.google.com/forms/d/e/1FAIpQLSehnYXoXxjxcr5CM757u2GKP2KNpcYF0B8te8RcO3ccyGUonA/viewform?usp=pp_url&entry.1533067892=NM2YD5NX&entry.75952468=Graduate&entry.1504275618=6&entry.1086062394=1&entry.349748918=Tech&entry.83499645=Yes&entry.1259450664=9&entry.2131194762=8&entry.465472354=10%2B&entry.1596096319=No&entry.1091771499=7&entry.1559684315=9&entry.479603624=4&entry.2057345672=Yes&entry.2115832627=10&entry.1505214318=10&entry.33730306=2&entry.1039248229=Easy&entry.1594355609=Helpful&entry.2005802697=Comfortable&entry.781768819=Helpful&entry.830724702=Helpful&entry.1380670412=Likely&entry.1239224858=Scrolling%20up%20or%20down%20the%20images%20in%20vizAISE%20would%20sometimes%20scroll%20the%20description%20of%20the%20image%20if%20the%20mouse%20happened%20to%20be%20near%20the%20description%27s%20scroll%20bar.&entry.108809019=Maybe%20have%20the%20whole%20description%20show%20underneath%20the%20image%2C%20even%20if%20it%20may%20take%20more%20space%20vertically.%20If%20the%20images%20don%27t%20need%20to%20be%20horizontally%20level%2C%20then%20empty%20vertical%20space%20from%20shorter%20descriptions%20could%20be%20vertically%20moved%20in%20from%20the%20next%20images%20%28with%20descriptions%29%20to%20fill%20those%20voids.\n",
      "\n",
      "8 https://docs.google.com/forms/d/e/1FAIpQLSehnYXoXxjxcr5CM757u2GKP2KNpcYF0B8te8RcO3ccyGUonA/viewform?usp=pp_url&entry.1533067892=7OW6R6HO&entry.75952468=NIU&entry.1504275618=2&entry.1086062394=2&entry.349748918=Insurance&entry.83499645=Yes&entry.1259450664=7&entry.2131194762=7&entry.465472354=2&entry.1596096319=Yes&entry.1091771499=7&entry.1559684315=7&entry.479603624=2&entry.2057345672=Yes&entry.2115832627=7&entry.1505214318=7&entry.33730306=4&entry.1039248229=Easy&entry.1594355609=Helpful&entry.2005802697=Comfortable&entry.781768819=Helpful&entry.830724702=Helpful&entry.1380670412=Likely&entry.1239224858=No&entry.108809019=%20it%20is%20very%20helpful\n",
      "\n",
      "9 https://docs.google.com/forms/d/e/1FAIpQLSehnYXoXxjxcr5CM757u2GKP2KNpcYF0B8te8RcO3ccyGUonA/viewform?usp=pp_url&entry.1533067892=SII4ON8C&entry.75952468=NIU%20MSCS&entry.1504275618=N/A&entry.1086062394=1&entry.349748918=Technical&entry.83499645=Yes&entry.1259450664=7&entry.2131194762=7&entry.465472354=10%2B&entry.1596096319=Yes&entry.1091771499=7&entry.1559684315=7&entry.479603624=10%2B&entry.2057345672=Yes&entry.2115832627=7&entry.1505214318=7&entry.33730306=10%2B&entry.1039248229=Easy&entry.1594355609=Helpful&entry.2005802697=Comfortable&entry.781768819=Helpful&entry.830724702=Helpful&entry.1380670412=Neutral&entry.1239224858=No&entry.108809019=\n",
      "\n",
      "10 https://docs.google.com/forms/d/e/1FAIpQLSehnYXoXxjxcr5CM757u2GKP2KNpcYF0B8te8RcO3ccyGUonA/viewform?usp=pp_url&entry.1533067892=4K1ABTCX&entry.75952468=NIU%2C%20Master%27s%20in%20CS&entry.1504275618=0&entry.1086062394=12%20months&entry.349748918=Tech&entry.83499645=No&entry.1259450664=3&entry.2131194762=&entry.465472354=&entry.1596096319=Yes&entry.1091771499=9&entry.1559684315=8&entry.479603624=2&entry.2057345672=No&entry.2115832627=9&entry.1505214318=8&entry.33730306=2&entry.1039248229=Very%20easy&entry.1594355609=Very%20helpful&entry.2005802697=Very%20comfortable&entry.781768819=Very%20helpful&entry.830724702=Very%20helpful&entry.1380670412=Likely&entry.1239224858=&entry.108809019=\n",
      "\n",
      "11 https://docs.google.com/forms/d/e/1FAIpQLSehnYXoXxjxcr5CM757u2GKP2KNpcYF0B8te8RcO3ccyGUonA/viewform?usp=pp_url&entry.1533067892=YRGQI1ZT&entry.75952468=NIU%2C%20Ms%20CS&entry.1504275618=10&entry.1086062394=N/A&entry.349748918=Technical&entry.83499645=Yes&entry.1259450664=7&entry.2131194762=7&entry.465472354=4&entry.1596096319=Yes&entry.1091771499=6&entry.1559684315=7&entry.479603624=4&entry.2057345672=Yes&entry.2115832627=7&entry.1505214318=7&entry.33730306=4&entry.1039248229=Easy&entry.1594355609=Very%20helpful&entry.2005802697=Very%20comfortable&entry.781768819=Helpful&entry.830724702=Helpful&entry.1380670412=Likely&entry.1239224858=No&entry.108809019=\n",
      "\n",
      "12 https://docs.google.com/forms/d/e/1FAIpQLSehnYXoXxjxcr5CM757u2GKP2KNpcYF0B8te8RcO3ccyGUonA/viewform?usp=pp_url&entry.1533067892=X4NY89GT&entry.75952468=NIU%2C%20MS%20in%20CS&entry.1504275618=1.1&entry.1086062394=1.1&entry.349748918=Tech&entry.83499645=Yes&entry.1259450664=9&entry.2131194762=10&entry.465472354=6&entry.1596096319=Yes&entry.1091771499=9&entry.1559684315=9&entry.479603624=6&entry.2057345672=No&entry.2115832627=10&entry.1505214318=9&entry.33730306=6&entry.1039248229=Very%20easy&entry.1594355609=Helpful&entry.2005802697=Somewhat%20Comfortable&entry.781768819=Helpful&entry.830724702=Helpful&entry.1380670412=Very%20likely&entry.1239224858=NO&entry.108809019=\n",
      "\n",
      "13 https://docs.google.com/forms/d/e/1FAIpQLSehnYXoXxjxcr5CM757u2GKP2KNpcYF0B8te8RcO3ccyGUonA/viewform?usp=pp_url&entry.1533067892=MLV9TGVE&entry.75952468=Bachelor%20of%20Engineering&entry.1504275618=0&entry.1086062394=0&entry.349748918=0&entry.83499645=Yes&entry.1259450664=9&entry.2131194762=8&entry.465472354=6&entry.1596096319=Yes&entry.1091771499=7&entry.1559684315=8&entry.479603624=6&entry.2057345672=Yes&entry.2115832627=9&entry.1505214318=9&entry.33730306=10%2B&entry.1039248229=Easy&entry.1594355609=Helpful&entry.2005802697=Somewhat%20Comfortable&entry.781768819=Helpful&entry.830724702=Helpful&entry.1380670412=Likely&entry.1239224858=No&entry.108809019=Explainability%2C%20Real-time%20Updates\n",
      "\n",
      "14 https://docs.google.com/forms/d/e/1FAIpQLSehnYXoXxjxcr5CM757u2GKP2KNpcYF0B8te8RcO3ccyGUonA/viewform?usp=pp_url&entry.1533067892=FLOE1S7D&entry.75952468=NIU%20Masters&entry.1504275618=0&entry.1086062394=0&entry.349748918=technical&entry.83499645=No&entry.1259450664=9&entry.2131194762=10&entry.465472354=6&entry.1596096319=No&entry.1091771499=10&entry.1559684315=9&entry.479603624=6&entry.2057345672=Yes&entry.2115832627=10&entry.1505214318=10&entry.33730306=2&entry.1039248229=Easy&entry.1594355609=Very%20helpful&entry.2005802697=Very%20comfortable&entry.781768819=Very%20helpful&entry.830724702=Very%20helpful&entry.1380670412=Likely&entry.1239224858=by%20%20doing%20manually%20there%20is%20a%20problem%20of%20confusion%20due%20to%20similarity%20of%20locations.%20technically%20everything%20alright.&entry.108809019=really%20good%20application%20\n",
      "\n",
      "15 https://docs.google.com/forms/d/e/1FAIpQLSehnYXoXxjxcr5CM757u2GKP2KNpcYF0B8te8RcO3ccyGUonA/viewform?usp=pp_url&entry.1533067892=7DODLWHP&entry.75952468=Northern%20Illinois%20University%20%2C%20Masters%20in%20Computer%20Science%20&entry.1504275618=2&entry.1086062394=2&entry.349748918=Automation%20Products&entry.83499645=Yes&entry.1259450664=9&entry.2131194762=9&entry.465472354=4&entry.1596096319=Yes&entry.1091771499=9&entry.1559684315=9&entry.479603624=4&entry.2057345672=Yes&entry.2115832627=9&entry.1505214318=9&entry.33730306=6&entry.1039248229=Easy&entry.1594355609=Helpful&entry.2005802697=Comfortable&entry.781768819=Helpful&entry.830724702=Helpful&entry.1380670412=Very%20likely&entry.1239224858=No&entry.108809019=\n",
      "\n",
      "16 https://docs.google.com/forms/d/e/1FAIpQLSehnYXoXxjxcr5CM757u2GKP2KNpcYF0B8te8RcO3ccyGUonA/viewform?usp=pp_url&entry.1533067892=ZBR6TZL3&entry.75952468=Masters&entry.1504275618=3&entry.1086062394=&entry.349748918=Software%20development%20&entry.83499645=Yes&entry.1259450664=9&entry.2131194762=9&entry.465472354=4&entry.1596096319=No&entry.1091771499=8&entry.1559684315=8&entry.479603624=6&entry.2057345672=No&entry.2115832627=8&entry.1505214318=8&entry.33730306=6&entry.1039248229=Very%20easy&entry.1594355609=Very%20helpful&entry.2005802697=Very%20comfortable&entry.781768819=Very%20helpful&entry.830724702=Helpful&entry.1380670412=Very%20likely&entry.1239224858=No&entry.108809019=\n",
      "\n",
      "17 https://docs.google.com/forms/d/e/1FAIpQLSehnYXoXxjxcr5CM757u2GKP2KNpcYF0B8te8RcO3ccyGUonA/viewform?usp=pp_url&entry.1533067892=Z85EGI03&entry.75952468=Northern%20Illinois%20University%2C%20Master%27s%20in%20CS&entry.1504275618=0&entry.1086062394=0&entry.349748918=Tech&entry.83499645=No&entry.1259450664=8&entry.2131194762=2&entry.465472354=4&entry.1596096319=No&entry.1091771499=8&entry.1559684315=2&entry.479603624=4&entry.2057345672=Yes&entry.2115832627=9&entry.1505214318=10&entry.33730306=2&entry.1039248229=Very%20easy&entry.1594355609=Very%20helpful&entry.2005802697=Comfortable&entry.781768819=Very%20helpful&entry.830724702=Very%20helpful&entry.1380670412=Very%20likely&entry.1239224858=no&entry.108809019=\n",
      "\n",
      "18 https://docs.google.com/forms/d/e/1FAIpQLSehnYXoXxjxcr5CM757u2GKP2KNpcYF0B8te8RcO3ccyGUonA/viewform?usp=pp_url&entry.1533067892=RAQES0UP&entry.75952468=Masters%20in%20Computer%20Science&entry.1504275618=&entry.1086062394=&entry.349748918=Tech&entry.83499645=Yes&entry.1259450664=7&entry.2131194762=6&entry.465472354=2&entry.1596096319=Yes&entry.1091771499=7&entry.1559684315=7&entry.479603624=2&entry.2057345672=Yes&entry.2115832627=8&entry.1505214318=7&entry.33730306=2&entry.1039248229=Easy&entry.1594355609=Helpful&entry.2005802697=Somewhat%20Comfortable&entry.781768819=Helpful&entry.830724702=Don%E2%80%99t%20know&entry.1380670412=Neutral&entry.1239224858=no&entry.108809019=Good%2Cbut%20it%20would%20be%20very%20helpful%20if%20you%20explain%20more%20in%20the%20google%20form\n",
      "\n",
      "19 https://docs.google.com/forms/d/e/1FAIpQLSehnYXoXxjxcr5CM757u2GKP2KNpcYF0B8te8RcO3ccyGUonA/viewform?usp=pp_url&entry.1533067892=USWK66RU&entry.75952468=Northern%20Illinois%20University%2C%20Masters%20in%20Computer%20Science&entry.1504275618=2.5&entry.1086062394=2.5&entry.349748918=Tech&entry.83499645=No&entry.1259450664=2&entry.2131194762=3&entry.465472354=4&entry.1596096319=No&entry.1091771499=4&entry.1559684315=4&entry.479603624=2&entry.2057345672=Yes&entry.2115832627=10&entry.1505214318=10&entry.33730306=1&entry.1039248229=Very%20easy&entry.1594355609=Helpful&entry.2005802697=Very%20comfortable&entry.781768819=Very%20helpful&entry.830724702=Very%20helpful&entry.1380670412=Likely&entry.1239224858=Images%20by%20the%20tool%20explains%20the%20variant%20very%20well%2C%20only%20for%20very%20few%20of%20the%20images%20I%20had%20to%20read%20the%20description%20written%20on%20the%20image%20%20to%20get%20what%20it%20is%20about.%20&entry.108809019=I%20see%20within%20one%20single%20collection%20%28for%20example%20urban%20mobility%29%20there%20are%20different%20types%20of%20images%20like%2C%20railway%20junctions%2C%20bus%20stations%2C%20pedestrian%20walkways.%20Maybe%20grouping%20them%20within%20a%20collection%20would%20be%20helpful%20to%20identify%20the%20different%20ideas%20better.%20\n",
      "\n",
      "20 https://docs.google.com/forms/d/e/1FAIpQLSehnYXoXxjxcr5CM757u2GKP2KNpcYF0B8te8RcO3ccyGUonA/viewform?usp=pp_url&entry.1533067892=U46OQOOT&entry.75952468=&entry.1504275618=&entry.1086062394=&entry.349748918=&entry.83499645=Yes&entry.1259450664=8&entry.2131194762=8&entry.465472354=6&entry.1596096319=No&entry.1091771499=8&entry.1559684315=8&entry.479603624=8&entry.2057345672=No&entry.2115832627=8&entry.1505214318=7&entry.33730306=10%2B&entry.1039248229=Easy&entry.1594355609=Helpful&entry.2005802697=Comfortable&entry.781768819=Helpful&entry.830724702=Don%E2%80%99t%20know&entry.1380670412=Very%20likely&entry.1239224858=&entry.108809019=\n",
      "\n",
      "21 https://docs.google.com/forms/d/e/1FAIpQLSehnYXoXxjxcr5CM757u2GKP2KNpcYF0B8te8RcO3ccyGUonA/viewform?usp=pp_url&entry.1533067892=E4BIVDCO&entry.75952468=Northern%20Illinois%20University%2C%20MS&entry.1504275618=3&entry.1086062394=3&entry.349748918=Tech%20%28Telecommunications%29&entry.83499645=No&entry.1259450664=9&entry.2131194762=10&entry.465472354=4&entry.1596096319=No&entry.1091771499=10&entry.1559684315=10&entry.479603624=2&entry.2057345672=Yes&entry.2115832627=10&entry.1505214318=10&entry.33730306=2&entry.1039248229=Very%20easy&entry.1594355609=Helpful&entry.2005802697=Comfortable&entry.781768819=Helpful&entry.830724702=Very%20helpful&entry.1380670412=Likely&entry.1239224858=&entry.108809019=Because%20my%20laptop%20screen%20is%20not%20that%20big%2C%20I%20had%20to%20zoom%20the%20Observable%20webpage%20and%20once%20I%20zoomed%20the%20whole%20page%20was%20kind%20of%20reset%20so%20I%20lost%20track%20of%20the%20images%20I%20already%20had%20checked.%20Also%20the%20visible%20raw%20codes%20were%20a%20little%20bit%20distracting%20for%20me.\n",
      "\n",
      "22 https://docs.google.com/forms/d/e/1FAIpQLSehnYXoXxjxcr5CM757u2GKP2KNpcYF0B8te8RcO3ccyGUonA/viewform?usp=pp_url&entry.1533067892=PJXYT528&entry.75952468=NIU%2C%20Ms.CS&entry.1504275618=0&entry.1086062394=2&entry.349748918=Medical%20and%20Tech&entry.83499645=No&entry.1259450664=9&entry.2131194762=8&entry.465472354=6&entry.1596096319=Yes&entry.1091771499=10&entry.1559684315=9&entry.479603624=4&entry.2057345672=No&entry.2115832627=9&entry.1505214318=8&entry.33730306=6&entry.1039248229=Easy&entry.1594355609=Helpful&entry.2005802697=Very%20comfortable&entry.781768819=Very%20helpful&entry.830724702=Helpful&entry.1380670412=Very%20likely&entry.1239224858=The%20initial%20dataset%20identification%20is%20not%20done%20by%20the%20consumer/user%20instead%20it%20is%20mentioned%20in%20this%20questionnaire.%20So%20it%20is%20little%20difficult%20to%20direct%20to%20the%20accurate%20dataset%20which%20we%20are%20searching%20for.%20It%20could%20have%20been%20made%20little%20more%20clear%20to%20the%20user%2C%20so%20that%20user%20finds%20the%20tool%20more%20helpful.&entry.108809019=The%20tool%20is%20pretty%20good%20to%20use%20and%20analyze%20the%20datasets%20and%20its%20very%20user%20friendly%20too.\n",
      "\n",
      "23 https://docs.google.com/forms/d/e/1FAIpQLSehnYXoXxjxcr5CM757u2GKP2KNpcYF0B8te8RcO3ccyGUonA/viewform?usp=pp_url&entry.1533067892=QJRV35HU&entry.75952468=NIU%2C%20Ms.CS&entry.1504275618=0&entry.1086062394=2&entry.349748918=Tech-Salesforce&entry.83499645=Yes&entry.1259450664=10&entry.2131194762=9&entry.465472354=4&entry.1596096319=No&entry.1091771499=9&entry.1559684315=8&entry.479603624=6&entry.2057345672=Yes&entry.2115832627=9&entry.1505214318=9&entry.33730306=4&entry.1039248229=Very%20easy&entry.1594355609=Very%20helpful&entry.2005802697=Very%20comfortable&entry.781768819=Very%20helpful&entry.830724702=Very%20helpful&entry.1380670412=Very%20likely&entry.1239224858=&entry.108809019=\n",
      "\n"
     ]
    }
   ],
   "source": [
    "for i, link in enumerate(list_of_links):\n",
    "    print(i+1, link)\n",
    "    print() "
   ]
  },
  {
   "cell_type": "markdown",
   "metadata": {},
   "source": [
    "# Aircraft"
   ]
  },
  {
   "cell_type": "code",
   "execution_count": 26,
   "metadata": {},
   "outputs": [
    {
     "name": "stdout",
     "output_type": "stream",
     "text": [
      "['Timestamp', 'Please enter your First and Last Name', 'Education? (University, Degree ...)', 'Years of experience in software development', 'Years of Experience in Industry', 'Types of Systems worked with (which domain e.g: Medical, Tech and etc. )', 'Question 1: Are you using visAISE to answer this section? (Please specify whether you are using the tool or not. If you are supposed to use visAISE, I kindly request that you access our tools using the following address: [Requirements Specifications for AIS Vision-based Perception - Aircraft]. However, if you should not use the tool for this section, please [use this link to view the images]  instead. Your cooperation is greatly appreciated.)', 'Question 2: How well did you understand concept variant 1 described above, either through retrieved images in the tool or by manually finding it in the dataset?', 'Question 3: What percentage of the images either through retrieved images in the visAISE tool or by manually finding do you believe accurately depict that variant? Please provide a percentage estimate for each concept variant, using a scale of 1 to 10, where 1 represents \"0-10%\" and 10 represents \"91-100%.\"', 'Question 4: How much time, on average, did it take you to analyze and assess this concept variant? Record the time taken for each concept assessment, in minutes.', 'Question 1: Are you using visAISE to answer this section? (Please specify whether you are using the tool or not. If you are supposed to use visAISE, I kindly request that you access our tools using the following address: [Requirements Specifications for AIS Vision-based Perception - Aircraft]. However, if you should not use the tool for this section, please [use this link to view the images]  instead. Your cooperation is greatly appreciated.) \\n', 'Question 2: How well did you understand concept variant 2 described above, either through retrieved images in the tool or by manually finding it in the dataset?', 'Question 3: What percentage of the images either through retrieved images in the visAISE tool or by manually finding do you believe accurately depict that variant? Please provide a percentage estimate for each concept variant, using a scale of 1 to 10, where 1 represents \"0-10%\" and 10 represents \"91-100%.\"', 'Question 4: How much time, on average, did it take you to analyze and assess this concept variant? Record the time taken for each concept assessment, in minutes.', 'Question 1: Are you using visAISE to answer this section? (Please specify whether you are using the tool or not. If you are supposed to use visAISE, I kindly request that you access our tools using the following address: [Requirements Specifications for AIS Vision-based Perception - Aircraft]. However, if you should not use the tool for this section, please [use this link to view the images]  instead. Your cooperation is greatly appreciated.)', 'Question 2: How well did you understand concept variant 3 described above, either through retrieved images in the tool or by manually finding it in the dataset?', 'Question 3: What percentage of the images either through retrieved images in the visAISE tool or by manually finding do you believe accurately depict that variant? Please provide a percentage estimate for each concept variant, using a scale of 1 to 10, where 1 represents \"0-10%\" and 10 represents \"91-100%.\"', 'Question 4: How much time, on average, did it take you to analyze and assess this concept variant? Record the time taken for each concept assessment, in minutes.', 'Question 1: To what extent did you find the provided dataset representations in tool clear and easy to understand?', 'Question 2: To what extent do you think the use of vizAISE helped you to better understand the dataset?', \"Question 3: How comfortable were you with navigating the tool's interface during the task?\", 'Question 4: To what extent do you think the use of visAISE helped you in identifying the underrepresented variants more effectively than if you were to assess the dataset manually?', 'Question 5: To what extent do you think the use of visAISE, specifically the augmentation from online datasets, and linked features helped you understand the rationale of the change?', 'Question 6: Would you consider using this visualization tool in your future dataset analysis tasks?', 'Question 7: Did you encounter any challenges or difficulties in identifying the underrepresented concept variants? If yes, please specify.', \"Question 8: Please share any additional feedback, suggestions, or insights you have regarding the tool's usability, effectiveness, or potential areas for improvement.\"]\n"
     ]
    }
   ],
   "source": [
    "# open test.csv file\n",
    "# header is the first row, keep it header varible and read the rest\n",
    "\n",
    "with open('air_test.csv', 'r') as f:\n",
    "    reader = csv.reader(f)\n",
    "    header = next(reader)\n",
    "    data = [row for row in reader]\n",
    "# print header\n",
    "print(header)"
   ]
  },
  {
   "cell_type": "code",
   "execution_count": 27,
   "metadata": {},
   "outputs": [
    {
     "data": {
      "text/plain": [
       "'Timestamp'"
      ]
     },
     "execution_count": 27,
     "metadata": {},
     "output_type": "execute_result"
    }
   ],
   "source": [
    "#remove timestamp from header and data\n",
    "for row in data:\n",
    "    row.pop(0)\n",
    "header.pop(0)"
   ]
  },
  {
   "cell_type": "code",
   "execution_count": 28,
   "metadata": {},
   "outputs": [],
   "source": [
    "list_of_links = []\n",
    "for data_1 in data:\n",
    "    sample_link = \"\"\"https://docs.google.com/forms/d/e/1FAIpQLSev3H22se8MB-nPxHatg3vHO7odCZwly9tj4Ro4x8taQFLybA/viewform?usp=pp_url&entry.1533067892=t1&entry.75952468=t&entry.1504275618=t&entry.1086062394=t&entry.349748918=t&entry.2086070600=Yes&entry.1259450664=1&entry.2131194762=1&entry.465472354=1&entry.683951344=Yes&entry.1091771499=1&entry.1559684315=1&entry.479603624=1&entry.529608083=Yes&entry.2115832627=1&entry.1505214318=1&entry.33730306=1&entry.1039248229=Very+easy&entry.1594355609=Very+helpful&entry.2005802697=Very+comfortable&entry.781768819=Very+helpful&entry.830724702=Very+helpful&entry.1380670412=Very+unlikely&entry.1239224858=t&entry.108809019=t\"\"\"\n",
    "\n",
    "    sample_link = re.sub(r'(&entry\\.\\d+=)([^&]+)', r'\\1XFOND', sample_link)\n",
    "    xfond_count = sample_link.count('XFOND')\n",
    "\n",
    "    if xfond_count != len(data_1):\n",
    "        print(data_1)\n",
    "        raise ValueError(\"The count of 'XFOND' does not match the length of data_1\")\n",
    "\n",
    "    # Replace 'XFOND' with elements from data_1\n",
    "    for i, item in enumerate(data_1):\n",
    "        sample_link = re.sub(r'XFOND', quote(item), sample_link, count=1)\n",
    "    list_of_links.append(sample_link)"
   ]
  },
  {
   "cell_type": "code",
   "execution_count": 29,
   "metadata": {},
   "outputs": [
    {
     "name": "stdout",
     "output_type": "stream",
     "text": [
      "1 https://docs.google.com/forms/d/e/1FAIpQLSev3H22se8MB-nPxHatg3vHO7odCZwly9tj4Ro4x8taQFLybA/viewform?usp=pp_url&entry.1533067892=J87GNRIE&entry.75952468=Northern%20Illinois%20university%2C%20Masters&entry.1504275618=2&entry.1086062394=1.5&entry.349748918=Banking&entry.2086070600=Yes&entry.1259450664=8&entry.2131194762=9&entry.465472354=4&entry.683951344=No&entry.1091771499=7&entry.1559684315=7&entry.479603624=10%2B&entry.529608083=Yes&entry.2115832627=9&entry.1505214318=7&entry.33730306=6&entry.1039248229=Very%20easy&entry.1594355609=Very%20helpful&entry.2005802697=Comfortable&entry.781768819=Very%20helpful&entry.830724702=Helpful&entry.1380670412=Very%20likely&entry.1239224858=No&entry.108809019=\n",
      "\n",
      "2 https://docs.google.com/forms/d/e/1FAIpQLSev3H22se8MB-nPxHatg3vHO7odCZwly9tj4Ro4x8taQFLybA/viewform?usp=pp_url&entry.1533067892=T0WQX9PG&entry.75952468=Northern%20Illinois%20University%20%2CMaster%27s&entry.1504275618=2&entry.1086062394=2&entry.349748918=Tech&entry.2086070600=Yes&entry.1259450664=10&entry.2131194762=9&entry.465472354=2&entry.683951344=Yes&entry.1091771499=10&entry.1559684315=9&entry.479603624=4&entry.529608083=Yes&entry.2115832627=10&entry.1505214318=8&entry.33730306=2&entry.1039248229=Very%20easy&entry.1594355609=Very%20helpful&entry.2005802697=Very%20comfortable&entry.781768819=Very%20helpful&entry.830724702=Very%20helpful&entry.1380670412=Very%20likely&entry.1239224858=&entry.108809019=\n",
      "\n",
      "3 https://docs.google.com/forms/d/e/1FAIpQLSev3H22se8MB-nPxHatg3vHO7odCZwly9tj4Ro4x8taQFLybA/viewform?usp=pp_url&entry.1533067892=WTUG282J&entry.75952468=Northern%20Illinois%20University%2C%20Masters%20in%20Computer%20Science&entry.1504275618=1.1&entry.1086062394=1.1&entry.349748918=Tech&entry.2086070600=No&entry.1259450664=8&entry.2131194762=9&entry.465472354=10%2B&entry.683951344=Yes&entry.1091771499=9&entry.1559684315=10&entry.479603624=10%2B&entry.529608083=No&entry.2115832627=9&entry.1505214318=9&entry.33730306=8&entry.1039248229=Easy&entry.1594355609=Helpful&entry.2005802697=Comfortable&entry.781768819=Very%20helpful&entry.830724702=Helpful&entry.1380670412=Very%20likely&entry.1239224858=NO&entry.108809019=\n",
      "\n",
      "4 https://docs.google.com/forms/d/e/1FAIpQLSev3H22se8MB-nPxHatg3vHO7odCZwly9tj4Ro4x8taQFLybA/viewform?usp=pp_url&entry.1533067892=9P3BLX1X&entry.75952468=NIU%2C%20Computer%20Science%20%28Graduate%29&entry.1504275618=0&entry.1086062394=2&entry.349748918=Car%20Manufacturing&entry.2086070600=No&entry.1259450664=9&entry.2131194762=8&entry.465472354=4&entry.683951344=Yes&entry.1091771499=8&entry.1559684315=9&entry.479603624=4&entry.529608083=No&entry.2115832627=9&entry.1505214318=9&entry.33730306=4&entry.1039248229=Easy&entry.1594355609=Helpful&entry.2005802697=Comfortable&entry.781768819=Helpful&entry.830724702=Helpful&entry.1380670412=Likely&entry.1239224858=No&entry.108809019=\n",
      "\n",
      "5 https://docs.google.com/forms/d/e/1FAIpQLSev3H22se8MB-nPxHatg3vHO7odCZwly9tj4Ro4x8taQFLybA/viewform?usp=pp_url&entry.1533067892=F0A201JX&entry.75952468=NIU%20MSCS&entry.1504275618=N/A&entry.1086062394=1%20year&entry.349748918=Technical&entry.2086070600=Yes&entry.1259450664=7&entry.2131194762=7&entry.465472354=10%2B&entry.683951344=Yes&entry.1091771499=7&entry.1559684315=7&entry.479603624=10%2B&entry.529608083=Yes&entry.2115832627=7&entry.1505214318=7&entry.33730306=10%2B&entry.1039248229=Easy&entry.1594355609=Helpful&entry.2005802697=Somewhat%20Comfortable&entry.781768819=Helpful&entry.830724702=Helpful&entry.1380670412=Neutral&entry.1239224858=&entry.108809019=\n",
      "\n",
      "6 https://docs.google.com/forms/d/e/1FAIpQLSev3H22se8MB-nPxHatg3vHO7odCZwly9tj4Ro4x8taQFLybA/viewform?usp=pp_url&entry.1533067892=IP98IXX1&entry.75952468=%20northern%20illinois%20university%2C%20CSE&entry.1504275618=0&entry.1086062394=1&entry.349748918=data%20science&entry.2086070600=Yes&entry.1259450664=8&entry.2131194762=9&entry.465472354=2&entry.683951344=No&entry.1091771499=8&entry.1559684315=8&entry.479603624=4&entry.529608083=Yes&entry.2115832627=8&entry.1505214318=5&entry.33730306=1&entry.1039248229=Easy&entry.1594355609=Very%20helpful&entry.2005802697=Very%20comfortable&entry.781768819=Very%20helpful&entry.830724702=Helpful&entry.1380670412=Very%20likely&entry.1239224858=&entry.108809019=\n",
      "\n",
      "7 https://docs.google.com/forms/d/e/1FAIpQLSev3H22se8MB-nPxHatg3vHO7odCZwly9tj4Ro4x8taQFLybA/viewform?usp=pp_url&entry.1533067892=0BYK56AE&entry.75952468=Niu%2C%20Ms%20CS&entry.1504275618=10%20months&entry.1086062394=0&entry.349748918=Technical&entry.2086070600=Yes&entry.1259450664=7&entry.2131194762=6&entry.465472354=6&entry.683951344=Yes&entry.1091771499=7&entry.1559684315=7&entry.479603624=4&entry.529608083=Yes&entry.2115832627=7&entry.1505214318=6&entry.33730306=4&entry.1039248229=Easy&entry.1594355609=Very%20helpful&entry.2005802697=Very%20comfortable&entry.781768819=Very%20helpful&entry.830724702=Helpful&entry.1380670412=Likely&entry.1239224858=No&entry.108809019=\n",
      "\n",
      "8 https://docs.google.com/forms/d/e/1FAIpQLSev3H22se8MB-nPxHatg3vHO7odCZwly9tj4Ro4x8taQFLybA/viewform?usp=pp_url&entry.1533067892=4TOZRLD1&entry.75952468=Northern%20Illinois%20University&entry.1504275618=2%20years&entry.1086062394=2%20years&entry.349748918=Insurance&entry.2086070600=Yes&entry.1259450664=7&entry.2131194762=7&entry.465472354=4&entry.683951344=Yes&entry.1091771499=7&entry.1559684315=7&entry.479603624=4&entry.529608083=Yes&entry.2115832627=7&entry.1505214318=7&entry.33730306=2&entry.1039248229=Easy&entry.1594355609=Helpful&entry.2005802697=Somewhat%20Comfortable&entry.781768819=Helpful&entry.830724702=Helpful&entry.1380670412=Neutral&entry.1239224858=No&entry.108809019=%20it%20is%20very%20helpful\n",
      "\n",
      "9 https://docs.google.com/forms/d/e/1FAIpQLSev3H22se8MB-nPxHatg3vHO7odCZwly9tj4Ro4x8taQFLybA/viewform?usp=pp_url&entry.1533067892=E1798LT6&entry.75952468=Northern%20Illinois%20University%2C%20Master%27s%20in%20CS&entry.1504275618=0&entry.1086062394=12%20months&entry.349748918=Tech&entry.2086070600=Yes&entry.1259450664=9&entry.2131194762=8&entry.465472354=2&entry.683951344=No&entry.1091771499=9&entry.1559684315=7&entry.479603624=2&entry.529608083=Yes&entry.2115832627=9&entry.1505214318=9&entry.33730306=1&entry.1039248229=Easy&entry.1594355609=Very%20helpful&entry.2005802697=Comfortable&entry.781768819=Helpful&entry.830724702=Helpful&entry.1380670412=Likely&entry.1239224858=using%20tool%20makes%20easy&entry.108809019=\n",
      "\n",
      "10 https://docs.google.com/forms/d/e/1FAIpQLSev3H22se8MB-nPxHatg3vHO7odCZwly9tj4Ro4x8taQFLybA/viewform?usp=pp_url&entry.1533067892=DFZE2AIP&entry.75952468=Master%27s%20in%20Computer%20Science%20%20at%20Northern%20Illinois%20University&entry.1504275618=1.5&entry.1086062394=1.5&entry.349748918=Tech&entry.2086070600=Yes&entry.1259450664=9&entry.2131194762=9&entry.465472354=4&entry.683951344=No&entry.1091771499=8&entry.1559684315=7&entry.479603624=10%2B&entry.529608083=Yes&entry.2115832627=8&entry.1505214318=8&entry.33730306=4&entry.1039248229=Easy&entry.1594355609=Very%20helpful&entry.2005802697=Comfortable&entry.781768819=Helpful&entry.830724702=Helpful&entry.1380670412=Likely&entry.1239224858=the%20images%20and%20names%20of%20variant%20propulsion%20elements%20are%20a%20bit%20difficult%20to%20identify&entry.108809019=\n",
      "\n",
      "11 https://docs.google.com/forms/d/e/1FAIpQLSev3H22se8MB-nPxHatg3vHO7odCZwly9tj4Ro4x8taQFLybA/viewform?usp=pp_url&entry.1533067892=XX3YGPTH&entry.75952468=Graduate&entry.1504275618=6&entry.1086062394=1&entry.349748918=Tech&entry.2086070600=No&entry.1259450664=7&entry.2131194762=7&entry.465472354=1&entry.683951344=Yes&entry.1091771499=9&entry.1559684315=9&entry.479603624=4&entry.529608083=No&entry.2115832627=7&entry.1505214318=2&entry.33730306=4&entry.1039248229=Easy&entry.1594355609=Helpful&entry.2005802697=Comfortable&entry.781768819=Helpful&entry.830724702=Helpful&entry.1380670412=Likely&entry.1239224858=&entry.108809019=Setting%20the%20manual%20images%20in%20OneDrive%20to%20Tiles%20made%20it%20much%20faster%20and%20easier%20to%20view%20the%20images%20than%20in%20the%20visAISE%2C%20but%20hard%20or%20impossible%20to%20understand%20the%20context%20of%20each%20image%20without%20the%20visAISE%20descriptions.\n",
      "\n",
      "12 https://docs.google.com/forms/d/e/1FAIpQLSev3H22se8MB-nPxHatg3vHO7odCZwly9tj4Ro4x8taQFLybA/viewform?usp=pp_url&entry.1533067892=16D93W77&entry.75952468=Masters%20in%20Computer%20Science%2C%20Northern%20Illinois%20University&entry.1504275618=1.5&entry.1086062394=1.5&entry.349748918=front%20end%20development&entry.2086070600=Yes&entry.1259450664=8&entry.2131194762=8&entry.465472354=4&entry.683951344=No&entry.1091771499=8&entry.1559684315=6&entry.479603624=4&entry.529608083=&entry.2115832627=7&entry.1505214318=6&entry.33730306=4&entry.1039248229=Easy&entry.1594355609=Helpful&entry.2005802697=Comfortable&entry.781768819=Helpful&entry.830724702=Helpful&entry.1380670412=Likely&entry.1239224858=no&entry.108809019=the%20scroll%20for%20the%20images%20is%20not%20fitting%20the%20screen%2C%20it%20makes%20it%20difficult%20to%20scroll%20twice\n",
      "\n",
      "13 https://docs.google.com/forms/d/e/1FAIpQLSev3H22se8MB-nPxHatg3vHO7odCZwly9tj4Ro4x8taQFLybA/viewform?usp=pp_url&entry.1533067892=1LBH6O6J&entry.75952468=NIU%20Masters&entry.1504275618=0&entry.1086062394=0&entry.349748918=technology&entry.2086070600=No&entry.1259450664=10&entry.2131194762=7&entry.465472354=8&entry.683951344=No&entry.1091771499=10&entry.1559684315=7&entry.479603624=8&entry.529608083=Yes&entry.2115832627=10&entry.1505214318=10&entry.33730306=4&entry.1039248229=Easy&entry.1594355609=Helpful&entry.2005802697=Comfortable&entry.781768819=Very%20helpful&entry.830724702=Helpful&entry.1380670412=Likely&entry.1239224858=no&entry.108809019=similarities%20in%20pictures%20due%20to%20terms%20like%20protesters%20and%20airport%20shows%20both%20airport%20protest%20and%20railway%20protest%2C%20it%20might%20be%20right%20but%20i%20had%20a%20doubt%20based%20on%20my%20knowledge%20%20%20\n",
      "\n",
      "14 https://docs.google.com/forms/d/e/1FAIpQLSev3H22se8MB-nPxHatg3vHO7odCZwly9tj4Ro4x8taQFLybA/viewform?usp=pp_url&entry.1533067892=H5B12HGG&entry.75952468=Bachelors%20of%20Engineering&entry.1504275618=&entry.1086062394=0&entry.349748918=0&entry.2086070600=Yes&entry.1259450664=9&entry.2131194762=9&entry.465472354=10%2B&entry.683951344=Yes&entry.1091771499=8&entry.1559684315=7&entry.479603624=10%2B&entry.529608083=Yes&entry.2115832627=9&entry.1505214318=9&entry.33730306=10%2B&entry.1039248229=Not%20easy&entry.1594355609=Helpful&entry.2005802697=Somewhat%20Comfortable&entry.781768819=Helpful&entry.830724702=Helpful&entry.1380670412=Neutral&entry.1239224858=No&entry.108809019=User%20Education\n",
      "\n",
      "15 https://docs.google.com/forms/d/e/1FAIpQLSev3H22se8MB-nPxHatg3vHO7odCZwly9tj4Ro4x8taQFLybA/viewform?usp=pp_url&entry.1533067892=4UVV403S&entry.75952468=Northern%20Illinois%20University%20%2C%20Masters&entry.1504275618=2&entry.1086062394=2&entry.349748918=Automation%20security%20products&entry.2086070600=No&entry.1259450664=8&entry.2131194762=8&entry.465472354=4&entry.683951344=No&entry.1091771499=8&entry.1559684315=8&entry.479603624=4&entry.529608083=Yes&entry.2115832627=9&entry.1505214318=9&entry.33730306=4&entry.1039248229=Easy&entry.1594355609=Helpful&entry.2005802697=Comfortable&entry.781768819=Helpful&entry.830724702=Helpful&entry.1380670412=Unlikely&entry.1239224858=No&entry.108809019=\n",
      "\n",
      "16 https://docs.google.com/forms/d/e/1FAIpQLSev3H22se8MB-nPxHatg3vHO7odCZwly9tj4Ro4x8taQFLybA/viewform?usp=pp_url&entry.1533067892=9ME69DVG&entry.75952468=Masters&entry.1504275618=3&entry.1086062394=&entry.349748918=Software%20development%20&entry.2086070600=No&entry.1259450664=7&entry.2131194762=7&entry.465472354=6&entry.683951344=Yes&entry.1091771499=10&entry.1559684315=9&entry.479603624=4&entry.529608083=No&entry.2115832627=7&entry.1505214318=7&entry.33730306=6&entry.1039248229=Very%20easy&entry.1594355609=Very%20helpful&entry.2005802697=Very%20comfortable&entry.781768819=Very%20helpful&entry.830724702=Helpful&entry.1380670412=Very%20likely&entry.1239224858=&entry.108809019=\n",
      "\n",
      "17 https://docs.google.com/forms/d/e/1FAIpQLSev3H22se8MB-nPxHatg3vHO7odCZwly9tj4Ro4x8taQFLybA/viewform?usp=pp_url&entry.1533067892=F7A5A3H4&entry.75952468=&entry.1504275618=&entry.1086062394=&entry.349748918=&entry.2086070600=Yes&entry.1259450664=9&entry.2131194762=8&entry.465472354=6&entry.683951344=No&entry.1091771499=8&entry.1559684315=8&entry.479603624=8&entry.529608083=No&entry.2115832627=7&entry.1505214318=9&entry.33730306=4&entry.1039248229=Easy&entry.1594355609=Helpful&entry.2005802697=Comfortable&entry.781768819=Helpful&entry.830724702=Helpful&entry.1380670412=Very%20likely&entry.1239224858=&entry.108809019=\n",
      "\n",
      "18 https://docs.google.com/forms/d/e/1FAIpQLSev3H22se8MB-nPxHatg3vHO7odCZwly9tj4Ro4x8taQFLybA/viewform?usp=pp_url&entry.1533067892=DINOV3BP&entry.75952468=Masters%20in%20Computer%20sccience&entry.1504275618=&entry.1086062394=&entry.349748918=Tech&entry.2086070600=Yes&entry.1259450664=5&entry.2131194762=7&entry.465472354=2&entry.683951344=Yes&entry.1091771499=5&entry.1559684315=9&entry.479603624=1&entry.529608083=Yes&entry.2115832627=6&entry.1505214318=6&entry.33730306=2&entry.1039248229=Easy&entry.1594355609=Helpful&entry.2005802697=Comfortable&entry.781768819=Not%20helpful&entry.830724702=Helpful&entry.1380670412=Neutral&entry.1239224858=No&entry.108809019=Good\n",
      "\n",
      "19 https://docs.google.com/forms/d/e/1FAIpQLSev3H22se8MB-nPxHatg3vHO7odCZwly9tj4Ro4x8taQFLybA/viewform?usp=pp_url&entry.1533067892=RXHPSHVV&entry.75952468=Northern%20Illinois%20University%2C%20MS&entry.1504275618=3&entry.1086062394=3&entry.349748918=Tech%20%28Telecommunications%29&entry.2086070600=No&entry.1259450664=9&entry.2131194762=8&entry.465472354=2&entry.683951344=Yes&entry.1091771499=10&entry.1559684315=10&entry.479603624=1&entry.529608083=No&entry.2115832627=9&entry.1505214318=9&entry.33730306=2&entry.1039248229=Easy&entry.1594355609=Helpful&entry.2005802697=Comfortable&entry.781768819=Helpful&entry.830724702=Helpful&entry.1380670412=Likely&entry.1239224858=&entry.108809019=\n",
      "\n",
      "20 https://docs.google.com/forms/d/e/1FAIpQLSev3H22se8MB-nPxHatg3vHO7odCZwly9tj4Ro4x8taQFLybA/viewform?usp=pp_url&entry.1533067892=KBX5FDV3&entry.75952468=Northern%20Illinois%20University%2C%20Master%27s%20in%20CS&entry.1504275618=0&entry.1086062394=0&entry.349748918=Tech&entry.2086070600=No&entry.1259450664=9&entry.2131194762=9&entry.465472354=4&entry.683951344=No&entry.1091771499=9&entry.1559684315=2&entry.479603624=2&entry.529608083=Yes&entry.2115832627=9&entry.1505214318=9&entry.33730306=2&entry.1039248229=Easy&entry.1594355609=Helpful&entry.2005802697=Comfortable&entry.781768819=Very%20helpful&entry.830724702=Helpful&entry.1380670412=Very%20likely&entry.1239224858=NO&entry.108809019=Using%20the%20tool%20was%20a%20lot%20more%20easier%20than%20looking%20at%20the%20manual%20and%20searching%20for%20the%20images.%20This%20tool%20saves%20a%20lot%20of%20time%20to%20go%20through%20the%20related%20data%20compared%20to%20searching%20the%20data%20manually.%20Finally%20I%20say%20that%20the%20tool%20is%20helpful.\n",
      "\n",
      "21 https://docs.google.com/forms/d/e/1FAIpQLSev3H22se8MB-nPxHatg3vHO7odCZwly9tj4Ro4x8taQFLybA/viewform?usp=pp_url&entry.1533067892=N5CYZFH8&entry.75952468=NIU%2C%20Ms.CS&entry.1504275618=0&entry.1086062394=2&entry.349748918=Tech-Salesforce&entry.2086070600=No&entry.1259450664=8&entry.2131194762=8&entry.465472354=8&entry.683951344=No&entry.1091771499=8&entry.1559684315=9&entry.479603624=8&entry.529608083=Yes&entry.2115832627=9&entry.1505214318=10&entry.33730306=4&entry.1039248229=Very%20easy&entry.1594355609=Very%20helpful&entry.2005802697=Very%20comfortable&entry.781768819=Very%20helpful&entry.830724702=Very%20helpful&entry.1380670412=Very%20likely&entry.1239224858=&entry.108809019=\n",
      "\n",
      "22 https://docs.google.com/forms/d/e/1FAIpQLSev3H22se8MB-nPxHatg3vHO7odCZwly9tj4Ro4x8taQFLybA/viewform?usp=pp_url&entry.1533067892=4QEUK8ML&entry.75952468=Northern%20Illinois%20University%2C%20Masters%20in%20CS&entry.1504275618=2.5&entry.1086062394=2.5&entry.349748918=Tech&entry.2086070600=No&entry.1259450664=10&entry.2131194762=9&entry.465472354=1&entry.683951344=Yes&entry.1091771499=9&entry.1559684315=10&entry.479603624=2&entry.529608083=No&entry.2115832627=2&entry.1505214318=2&entry.33730306=2&entry.1039248229=Easy&entry.1594355609=Helpful&entry.2005802697=Very%20comfortable&entry.781768819=Very%20helpful&entry.830724702=Helpful&entry.1380670412=Likely&entry.1239224858=&entry.108809019=\n",
      "\n",
      "23 https://docs.google.com/forms/d/e/1FAIpQLSev3H22se8MB-nPxHatg3vHO7odCZwly9tj4Ro4x8taQFLybA/viewform?usp=pp_url&entry.1533067892=HRF1CR09&entry.75952468=NIU%2CMS.CS&entry.1504275618=0&entry.1086062394=2&entry.349748918=Medical%2C%20Tech%2C%20Software%20testing&entry.2086070600=Yes&entry.1259450664=9&entry.2131194762=9&entry.465472354=4&entry.683951344=No&entry.1091771499=9&entry.1559684315=8&entry.479603624=6&entry.529608083=No&entry.2115832627=9&entry.1505214318=9&entry.33730306=6&entry.1039248229=Very%20easy&entry.1594355609=Very%20helpful&entry.2005802697=Very%20comfortable&entry.781768819=Very%20helpful&entry.830724702=Very%20helpful&entry.1380670412=Very%20likely&entry.1239224858=&entry.108809019=\n",
      "\n"
     ]
    }
   ],
   "source": [
    "for i, link in enumerate(list_of_links):\n",
    "    print(i+1, link)\n",
    "    print() "
   ]
  },
  {
   "cell_type": "markdown",
   "metadata": {},
   "source": [
    "# Goup the data"
   ]
  },
  {
   "cell_type": "code",
   "execution_count": null,
   "metadata": {},
   "outputs": [],
   "source": [
    "def get_links(input_link, variant_df):\n",
    "    list_of_links = []\n",
    "    for i, row in enumerate(variant_df.values):\n",
    "        sample_link = input_link\n",
    "        sample_link = re.sub(r'(&entry\\.\\d+=)([^&]+)', r'\\1XFOND', sample_link)\n",
    "        xfond_count = sample_link.count('XFOND')\n",
    "\n",
    "        data_1 = list(row[1:])\n",
    "        # chnage nan to empty string\n",
    "        data_1 = ['' if str(x) == 'nan' else x for x in data_1]\n",
    "        # print(data_1)\n",
    "        if xfond_count != len(data_1):\n",
    "            # print(data_1)\n",
    "            raise ValueError(\"The count of 'XFOND' does not match the length of data_1\")\n",
    "\n",
    "        # Replace 'XFOND' with elements from data_1\n",
    "        for i, item in enumerate(data_1):\n",
    "            sample_link = re.sub(r'XFOND', quote(str(item)), sample_link, count=1)\n",
    "        list_of_links.append(sample_link)\n",
    "        # print(i + 1, row)\n",
    "        # print()\n",
    "    return list_of_links"
   ]
  },
  {
   "cell_type": "code",
   "execution_count": 8,
   "metadata": {},
   "outputs": [],
   "source": [
    "# refortmat the dataframes\n",
    "def get_variant(df, variant, idx=1):\n",
    "    yes_df = df.groupby(variant).get_group('Yes')\n",
    "    no_df = df.groupby(variant).get_group('No')\n",
    "    tool_df = yes_df[[f'variant{idx} Q1', f'variant{idx} Q2', f'variant{idx} Q3']]\n",
    "    notool_df = no_df[[f'variant{idx} Q1', f'variant{idx} Q2', f'variant{idx} Q3']]\n",
    "    # rename columns\n",
    "    tool_df.rename(columns={f'variant{idx} Q1': 'Q1', f'variant{idx} Q2': 'Q2', f'variant{idx} Q3': 'Q3'}, inplace=True)\n",
    "    notool_df.rename(columns={f'variant{idx} Q1': 'NQ1', f'variant{idx} Q2': 'NQ2', f'variant{idx} Q3': 'NQ3'}, inplace=True)\n",
    "    # replace cell values of 10+ with 10\n",
    "    tool_df.replace('10+', 10, inplace=True)\n",
    "    notool_df.replace('10+', 10, inplace=True)\n",
    "    # drop rows with nan values\n",
    "    tool_df.dropna(inplace=True)\n",
    "    notool_df.dropna(inplace=True)\n",
    "    # convert to float\n",
    "    tool_df = tool_df.astype(float)\n",
    "    notool_df = notool_df.astype(float)\n",
    "    # reset index\n",
    "    tool_df.reset_index(inplace=True, drop=True)\n",
    "    notool_df.reset_index(inplace=True, drop=True)\n",
    "    # describe table with 2 decimal places and reindex it as ['min', 'max', 'mean', 'std', '25%', '50%', '75%']\n",
    "    tool_df_desc = tool_df.describe().round(2).reindex(['min', 'max', 'mean', 'std', '25%', '50%', '75%', 'count'])\n",
    "    notool_df_desc = notool_df.describe().round(2).reindex(['min', 'max', 'mean', 'std', '25%', '50%', '75%', 'count'])\n",
    "    # concat tool_df_desc and notool_df_desc with order of columns ad order Q1 NQ1 Q2 NQ2 Q3 NQ3\n",
    "    # desc_df = pd.concat([tool_df_desc, notool_df_desc], axis=1)\n",
    "    # desc_df.columns = ['Q1', 'NQ1', 'Q2', 'NQ2', 'Q3', 'NQ3']\n",
    "    desc_df = pd.concat([tool_df_desc['Q1'], notool_df_desc['NQ1'], tool_df_desc['Q2'], notool_df_desc['NQ2'], tool_df_desc['Q3'], notool_df_desc['NQ3']], axis=1)\n",
    "    return desc_df\n",
    "    "
   ]
  },
  {
   "cell_type": "markdown",
   "metadata": {},
   "source": [
    "## pedestrian"
   ]
  },
  {
   "cell_type": "code",
   "execution_count": 9,
   "metadata": {},
   "outputs": [],
   "source": [
    "# read csv file into dataframe\n",
    "ped_df = pd.read_csv('ped_test.csv')\n",
    "# find all the columns which have Question 1: in their name\n",
    "q1_cols = [col for col in ped_df.columns if 'Question 1: Are you using' in col]\n",
    "# change name of columns in q1_cols to variant + index + 1\n",
    "for i, col in enumerate(q1_cols):\n",
    "    ped_df.rename(columns={col: 'variant' + str(i + 1)}, inplace=True)\n",
    "\n",
    "# ped_df.head()"
   ]
  },
  {
   "cell_type": "code",
   "execution_count": 10,
   "metadata": {},
   "outputs": [],
   "source": [
    "q2_cols = [col for col in ped_df.columns if 'Question 2: How well did' in col]\n",
    "for i, col in enumerate(q2_cols):\n",
    "    ped_df.rename(columns={col: 'variant' + str(i + 1)+ ' Q1'}, inplace=True)\n",
    "\n",
    "q3_cols = [col for col in ped_df.columns if 'Question 3: What percentage of' in col]\n",
    "for i, col in enumerate(q3_cols):\n",
    "    ped_df.rename(columns={col: 'variant' + str(i + 1)+ ' Q2'}, inplace=True)\n",
    "\n",
    "q4_cols = [col for col in ped_df.columns if 'Question 4: How much time' in col]\n",
    "for i, col in enumerate(q4_cols):\n",
    "    ped_df.rename(columns={col: 'variant' + str(i + 1)+ ' Q3'}, inplace=True)"
   ]
  },
  {
   "cell_type": "code",
   "execution_count": 6,
   "metadata": {},
   "outputs": [
    {
     "data": {
      "text/plain": [
       "Index(['Timestamp', 'Please enter your First and Last Name',\n",
       "       'Education? (University, Degree ...)',\n",
       "       'Years of experience in software development',\n",
       "       'Years of Experience in Industry',\n",
       "       'Types of Systems worked with (which domain e.g: Medical, Tech and etc. )',\n",
       "       'variant1', 'variant1 Q1', 'variant1 Q2', 'variant1 Q3', 'variant2',\n",
       "       'variant2 Q1', 'variant2 Q2', 'variant2 Q3', 'variant3', 'variant3 Q1',\n",
       "       'variant3 Q2', 'variant3 Q3',\n",
       "       'Question 1: To what extent did you find the provided dataset representations in tool clear and easy to understand?',\n",
       "       'Question 2: To what extent do you think the use of vizAISE helped you to better understand the dataset?',\n",
       "       'Question 3: How comfortable were you with navigating the tool's interface during the task?',\n",
       "       'Question 4: To what extent do you think the use of visAISE helped you in identifying the underrepresented variants more effectively than if you were to assess the dataset manually?',\n",
       "       'Question 5: To what extent do you think the use of visAISE, specifically the augmentation from online datasets, and linked features helped you understand the rationale of the change?',\n",
       "       'Question 6: Would you consider using this visualization tool in your future dataset analysis tasks?',\n",
       "       'Question 7: Did you encounter any challenges or difficulties in identifying the underrepresented concept variants? If yes, please specify.',\n",
       "       'Question 8: Please share any additional feedback, suggestions, or insights you have regarding the tool's usability, effectiveness, or potential areas for improvement.'],\n",
       "      dtype='object')"
      ]
     },
     "execution_count": 6,
     "metadata": {},
     "output_type": "execute_result"
    }
   ],
   "source": [
    "# get columns names\n",
    "ped_df.columns"
   ]
  },
  {
   "cell_type": "code",
   "execution_count": 39,
   "metadata": {},
   "outputs": [],
   "source": [
    "# group by variant 1 value and have to seprate dataframes BASED on variant values\n",
    "variant1_df_yes = ped_df.groupby('variant1').get_group('Yes')\n",
    "variant2_df_yes = ped_df.groupby('variant2').get_group('Yes')\n",
    "variant3_df_yes = ped_df.groupby('variant3').get_group('Yes')\n",
    "variant1_df_no = ped_df.groupby('variant1').get_group('No')\n",
    "variant2_df_no = ped_df.groupby('variant2').get_group('No')\n",
    "variant3_df_no = ped_df.groupby('variant3').get_group('No')"
   ]
  },
  {
   "cell_type": "markdown",
   "metadata": {},
   "source": [
    "### populate the table"
   ]
  },
  {
   "cell_type": "markdown",
   "metadata": {},
   "source": [
    "#### table 1"
   ]
  },
  {
   "cell_type": "code",
   "execution_count": 161,
   "metadata": {},
   "outputs": [],
   "source": []
  },
  {
   "cell_type": "code",
   "execution_count": 11,
   "metadata": {},
   "outputs": [
    {
     "name": "stderr",
     "output_type": "stream",
     "text": [
      "/tmp/ipykernel_1396051/2946220034.py:8: SettingWithCopyWarning: \n",
      "A value is trying to be set on a copy of a slice from a DataFrame\n",
      "\n",
      "See the caveats in the documentation: https://pandas.pydata.org/pandas-docs/stable/user_guide/indexing.html#returning-a-view-versus-a-copy\n",
      "  tool_df.rename(columns={f'variant{idx} Q1': 'Q1', f'variant{idx} Q2': 'Q2', f'variant{idx} Q3': 'Q3'}, inplace=True)\n",
      "/tmp/ipykernel_1396051/2946220034.py:9: SettingWithCopyWarning: \n",
      "A value is trying to be set on a copy of a slice from a DataFrame\n",
      "\n",
      "See the caveats in the documentation: https://pandas.pydata.org/pandas-docs/stable/user_guide/indexing.html#returning-a-view-versus-a-copy\n",
      "  notool_df.rename(columns={f'variant{idx} Q1': 'NQ1', f'variant{idx} Q2': 'NQ2', f'variant{idx} Q3': 'NQ3'}, inplace=True)\n",
      "/tmp/ipykernel_1396051/2946220034.py:11: SettingWithCopyWarning: \n",
      "A value is trying to be set on a copy of a slice from a DataFrame\n",
      "\n",
      "See the caveats in the documentation: https://pandas.pydata.org/pandas-docs/stable/user_guide/indexing.html#returning-a-view-versus-a-copy\n",
      "  tool_df.replace('10+', 10, inplace=True)\n",
      "/tmp/ipykernel_1396051/2946220034.py:12: SettingWithCopyWarning: \n",
      "A value is trying to be set on a copy of a slice from a DataFrame\n",
      "\n",
      "See the caveats in the documentation: https://pandas.pydata.org/pandas-docs/stable/user_guide/indexing.html#returning-a-view-versus-a-copy\n",
      "  notool_df.replace('10+', 10, inplace=True)\n",
      "/tmp/ipykernel_1396051/2946220034.py:14: SettingWithCopyWarning: \n",
      "A value is trying to be set on a copy of a slice from a DataFrame\n",
      "\n",
      "See the caveats in the documentation: https://pandas.pydata.org/pandas-docs/stable/user_guide/indexing.html#returning-a-view-versus-a-copy\n",
      "  tool_df.dropna(inplace=True)\n",
      "/tmp/ipykernel_1396051/2946220034.py:15: SettingWithCopyWarning: \n",
      "A value is trying to be set on a copy of a slice from a DataFrame\n",
      "\n",
      "See the caveats in the documentation: https://pandas.pydata.org/pandas-docs/stable/user_guide/indexing.html#returning-a-view-versus-a-copy\n",
      "  notool_df.dropna(inplace=True)\n"
     ]
    },
    {
     "data": {
      "text/html": [
       "<div>\n",
       "<style scoped>\n",
       "    .dataframe tbody tr th:only-of-type {\n",
       "        vertical-align: middle;\n",
       "    }\n",
       "\n",
       "    .dataframe tbody tr th {\n",
       "        vertical-align: top;\n",
       "    }\n",
       "\n",
       "    .dataframe thead th {\n",
       "        text-align: right;\n",
       "    }\n",
       "</style>\n",
       "<table border=\"1\" class=\"dataframe\">\n",
       "  <thead>\n",
       "    <tr style=\"text-align: right;\">\n",
       "      <th></th>\n",
       "      <th>Q1</th>\n",
       "      <th>NQ1</th>\n",
       "      <th>Q2</th>\n",
       "      <th>NQ2</th>\n",
       "      <th>Q3</th>\n",
       "      <th>NQ3</th>\n",
       "    </tr>\n",
       "  </thead>\n",
       "  <tbody>\n",
       "    <tr>\n",
       "      <th>min</th>\n",
       "      <td>7.00</td>\n",
       "      <td>2.00</td>\n",
       "      <td>6.00</td>\n",
       "      <td>2.00</td>\n",
       "      <td>2.00</td>\n",
       "      <td>4.00</td>\n",
       "    </tr>\n",
       "    <tr>\n",
       "      <th>max</th>\n",
       "      <td>10.00</td>\n",
       "      <td>9.00</td>\n",
       "      <td>10.00</td>\n",
       "      <td>10.00</td>\n",
       "      <td>10.00</td>\n",
       "      <td>10.00</td>\n",
       "    </tr>\n",
       "    <tr>\n",
       "      <th>mean</th>\n",
       "      <td>8.46</td>\n",
       "      <td>7.22</td>\n",
       "      <td>8.15</td>\n",
       "      <td>7.33</td>\n",
       "      <td>4.77</td>\n",
       "      <td>5.78</td>\n",
       "    </tr>\n",
       "    <tr>\n",
       "      <th>std</th>\n",
       "      <td>1.13</td>\n",
       "      <td>2.28</td>\n",
       "      <td>1.14</td>\n",
       "      <td>2.87</td>\n",
       "      <td>2.77</td>\n",
       "      <td>2.11</td>\n",
       "    </tr>\n",
       "    <tr>\n",
       "      <th>25%</th>\n",
       "      <td>7.00</td>\n",
       "      <td>6.00</td>\n",
       "      <td>7.00</td>\n",
       "      <td>8.00</td>\n",
       "      <td>2.00</td>\n",
       "      <td>4.00</td>\n",
       "    </tr>\n",
       "    <tr>\n",
       "      <th>50%</th>\n",
       "      <td>9.00</td>\n",
       "      <td>8.00</td>\n",
       "      <td>8.00</td>\n",
       "      <td>8.00</td>\n",
       "      <td>4.00</td>\n",
       "      <td>6.00</td>\n",
       "    </tr>\n",
       "    <tr>\n",
       "      <th>75%</th>\n",
       "      <td>9.00</td>\n",
       "      <td>9.00</td>\n",
       "      <td>9.00</td>\n",
       "      <td>9.00</td>\n",
       "      <td>6.00</td>\n",
       "      <td>6.00</td>\n",
       "    </tr>\n",
       "    <tr>\n",
       "      <th>count</th>\n",
       "      <td>13.00</td>\n",
       "      <td>9.00</td>\n",
       "      <td>13.00</td>\n",
       "      <td>9.00</td>\n",
       "      <td>13.00</td>\n",
       "      <td>9.00</td>\n",
       "    </tr>\n",
       "  </tbody>\n",
       "</table>\n",
       "</div>"
      ],
      "text/plain": [
       "          Q1   NQ1     Q2    NQ2     Q3    NQ3\n",
       "min     7.00  2.00   6.00   2.00   2.00   4.00\n",
       "max    10.00  9.00  10.00  10.00  10.00  10.00\n",
       "mean    8.46  7.22   8.15   7.33   4.77   5.78\n",
       "std     1.13  2.28   1.14   2.87   2.77   2.11\n",
       "25%     7.00  6.00   7.00   8.00   2.00   4.00\n",
       "50%     9.00  8.00   8.00   8.00   4.00   6.00\n",
       "75%     9.00  9.00   9.00   9.00   6.00   6.00\n",
       "count  13.00  9.00  13.00   9.00  13.00   9.00"
      ]
     },
     "execution_count": 11,
     "metadata": {},
     "output_type": "execute_result"
    }
   ],
   "source": [
    "desc = get_variant(ped_df, 'variant1', idx=1)\n",
    "desc.to_csv('table1.csv', index=True, header=True, float_format='%.2f')\n",
    "desc"
   ]
  },
  {
   "cell_type": "markdown",
   "metadata": {},
   "source": [
    "#### Table 2"
   ]
  },
  {
   "cell_type": "code",
   "execution_count": 12,
   "metadata": {},
   "outputs": [
    {
     "name": "stderr",
     "output_type": "stream",
     "text": [
      "/tmp/ipykernel_1396051/2946220034.py:8: SettingWithCopyWarning: \n",
      "A value is trying to be set on a copy of a slice from a DataFrame\n",
      "\n",
      "See the caveats in the documentation: https://pandas.pydata.org/pandas-docs/stable/user_guide/indexing.html#returning-a-view-versus-a-copy\n",
      "  tool_df.rename(columns={f'variant{idx} Q1': 'Q1', f'variant{idx} Q2': 'Q2', f'variant{idx} Q3': 'Q3'}, inplace=True)\n",
      "/tmp/ipykernel_1396051/2946220034.py:9: SettingWithCopyWarning: \n",
      "A value is trying to be set on a copy of a slice from a DataFrame\n",
      "\n",
      "See the caveats in the documentation: https://pandas.pydata.org/pandas-docs/stable/user_guide/indexing.html#returning-a-view-versus-a-copy\n",
      "  notool_df.rename(columns={f'variant{idx} Q1': 'NQ1', f'variant{idx} Q2': 'NQ2', f'variant{idx} Q3': 'NQ3'}, inplace=True)\n",
      "/tmp/ipykernel_1396051/2946220034.py:11: SettingWithCopyWarning: \n",
      "A value is trying to be set on a copy of a slice from a DataFrame\n",
      "\n",
      "See the caveats in the documentation: https://pandas.pydata.org/pandas-docs/stable/user_guide/indexing.html#returning-a-view-versus-a-copy\n",
      "  tool_df.replace('10+', 10, inplace=True)\n",
      "/tmp/ipykernel_1396051/2946220034.py:12: SettingWithCopyWarning: \n",
      "A value is trying to be set on a copy of a slice from a DataFrame\n",
      "\n",
      "See the caveats in the documentation: https://pandas.pydata.org/pandas-docs/stable/user_guide/indexing.html#returning-a-view-versus-a-copy\n",
      "  notool_df.replace('10+', 10, inplace=True)\n",
      "/tmp/ipykernel_1396051/2946220034.py:14: SettingWithCopyWarning: \n",
      "A value is trying to be set on a copy of a slice from a DataFrame\n",
      "\n",
      "See the caveats in the documentation: https://pandas.pydata.org/pandas-docs/stable/user_guide/indexing.html#returning-a-view-versus-a-copy\n",
      "  tool_df.dropna(inplace=True)\n",
      "/tmp/ipykernel_1396051/2946220034.py:15: SettingWithCopyWarning: \n",
      "A value is trying to be set on a copy of a slice from a DataFrame\n",
      "\n",
      "See the caveats in the documentation: https://pandas.pydata.org/pandas-docs/stable/user_guide/indexing.html#returning-a-view-versus-a-copy\n",
      "  notool_df.dropna(inplace=True)\n"
     ]
    },
    {
     "data": {
      "text/html": [
       "<div>\n",
       "<style scoped>\n",
       "    .dataframe tbody tr th:only-of-type {\n",
       "        vertical-align: middle;\n",
       "    }\n",
       "\n",
       "    .dataframe tbody tr th {\n",
       "        vertical-align: top;\n",
       "    }\n",
       "\n",
       "    .dataframe thead th {\n",
       "        text-align: right;\n",
       "    }\n",
       "</style>\n",
       "<table border=\"1\" class=\"dataframe\">\n",
       "  <thead>\n",
       "    <tr style=\"text-align: right;\">\n",
       "      <th></th>\n",
       "      <th>Q1</th>\n",
       "      <th>NQ1</th>\n",
       "      <th>Q2</th>\n",
       "      <th>NQ2</th>\n",
       "      <th>Q3</th>\n",
       "      <th>NQ3</th>\n",
       "    </tr>\n",
       "  </thead>\n",
       "  <tbody>\n",
       "    <tr>\n",
       "      <th>min</th>\n",
       "      <td>6.00</td>\n",
       "      <td>4.00</td>\n",
       "      <td>7.00</td>\n",
       "      <td>2.00</td>\n",
       "      <td>1.00</td>\n",
       "      <td>2.00</td>\n",
       "    </tr>\n",
       "    <tr>\n",
       "      <th>max</th>\n",
       "      <td>10.00</td>\n",
       "      <td>10.00</td>\n",
       "      <td>10.00</td>\n",
       "      <td>10.00</td>\n",
       "      <td>10.00</td>\n",
       "      <td>8.00</td>\n",
       "    </tr>\n",
       "    <tr>\n",
       "      <th>mean</th>\n",
       "      <td>8.14</td>\n",
       "      <td>8.11</td>\n",
       "      <td>8.21</td>\n",
       "      <td>7.33</td>\n",
       "      <td>4.07</td>\n",
       "      <td>4.89</td>\n",
       "    </tr>\n",
       "    <tr>\n",
       "      <th>std</th>\n",
       "      <td>1.23</td>\n",
       "      <td>1.83</td>\n",
       "      <td>1.05</td>\n",
       "      <td>2.60</td>\n",
       "      <td>2.50</td>\n",
       "      <td>2.03</td>\n",
       "    </tr>\n",
       "    <tr>\n",
       "      <th>25%</th>\n",
       "      <td>7.00</td>\n",
       "      <td>8.00</td>\n",
       "      <td>7.00</td>\n",
       "      <td>8.00</td>\n",
       "      <td>2.00</td>\n",
       "      <td>4.00</td>\n",
       "    </tr>\n",
       "    <tr>\n",
       "      <th>50%</th>\n",
       "      <td>8.00</td>\n",
       "      <td>8.00</td>\n",
       "      <td>8.50</td>\n",
       "      <td>8.00</td>\n",
       "      <td>4.00</td>\n",
       "      <td>6.00</td>\n",
       "    </tr>\n",
       "    <tr>\n",
       "      <th>75%</th>\n",
       "      <td>9.00</td>\n",
       "      <td>9.00</td>\n",
       "      <td>9.00</td>\n",
       "      <td>9.00</td>\n",
       "      <td>6.00</td>\n",
       "      <td>6.00</td>\n",
       "    </tr>\n",
       "    <tr>\n",
       "      <th>count</th>\n",
       "      <td>14.00</td>\n",
       "      <td>9.00</td>\n",
       "      <td>14.00</td>\n",
       "      <td>9.00</td>\n",
       "      <td>14.00</td>\n",
       "      <td>9.00</td>\n",
       "    </tr>\n",
       "  </tbody>\n",
       "</table>\n",
       "</div>"
      ],
      "text/plain": [
       "          Q1    NQ1     Q2    NQ2     Q3   NQ3\n",
       "min     6.00   4.00   7.00   2.00   1.00  2.00\n",
       "max    10.00  10.00  10.00  10.00  10.00  8.00\n",
       "mean    8.14   8.11   8.21   7.33   4.07  4.89\n",
       "std     1.23   1.83   1.05   2.60   2.50  2.03\n",
       "25%     7.00   8.00   7.00   8.00   2.00  4.00\n",
       "50%     8.00   8.00   8.50   8.00   4.00  6.00\n",
       "75%     9.00   9.00   9.00   9.00   6.00  6.00\n",
       "count  14.00   9.00  14.00   9.00  14.00  9.00"
      ]
     },
     "execution_count": 12,
     "metadata": {},
     "output_type": "execute_result"
    }
   ],
   "source": [
    "desc2 = get_variant(ped_df, 'variant2', idx=2)\n",
    "desc2.to_csv('table2.csv', index=True, header=True, float_format='%.2f')\n",
    "desc2"
   ]
  },
  {
   "cell_type": "markdown",
   "metadata": {},
   "source": [
    "### Table3"
   ]
  },
  {
   "cell_type": "code",
   "execution_count": 13,
   "metadata": {},
   "outputs": [
    {
     "name": "stderr",
     "output_type": "stream",
     "text": [
      "/tmp/ipykernel_1396051/2946220034.py:8: SettingWithCopyWarning: \n",
      "A value is trying to be set on a copy of a slice from a DataFrame\n",
      "\n",
      "See the caveats in the documentation: https://pandas.pydata.org/pandas-docs/stable/user_guide/indexing.html#returning-a-view-versus-a-copy\n",
      "  tool_df.rename(columns={f'variant{idx} Q1': 'Q1', f'variant{idx} Q2': 'Q2', f'variant{idx} Q3': 'Q3'}, inplace=True)\n",
      "/tmp/ipykernel_1396051/2946220034.py:9: SettingWithCopyWarning: \n",
      "A value is trying to be set on a copy of a slice from a DataFrame\n",
      "\n",
      "See the caveats in the documentation: https://pandas.pydata.org/pandas-docs/stable/user_guide/indexing.html#returning-a-view-versus-a-copy\n",
      "  notool_df.rename(columns={f'variant{idx} Q1': 'NQ1', f'variant{idx} Q2': 'NQ2', f'variant{idx} Q3': 'NQ3'}, inplace=True)\n",
      "/tmp/ipykernel_1396051/2946220034.py:11: SettingWithCopyWarning: \n",
      "A value is trying to be set on a copy of a slice from a DataFrame\n",
      "\n",
      "See the caveats in the documentation: https://pandas.pydata.org/pandas-docs/stable/user_guide/indexing.html#returning-a-view-versus-a-copy\n",
      "  tool_df.replace('10+', 10, inplace=True)\n",
      "/tmp/ipykernel_1396051/2946220034.py:12: SettingWithCopyWarning: \n",
      "A value is trying to be set on a copy of a slice from a DataFrame\n",
      "\n",
      "See the caveats in the documentation: https://pandas.pydata.org/pandas-docs/stable/user_guide/indexing.html#returning-a-view-versus-a-copy\n",
      "  notool_df.replace('10+', 10, inplace=True)\n",
      "/tmp/ipykernel_1396051/2946220034.py:14: SettingWithCopyWarning: \n",
      "A value is trying to be set on a copy of a slice from a DataFrame\n",
      "\n",
      "See the caveats in the documentation: https://pandas.pydata.org/pandas-docs/stable/user_guide/indexing.html#returning-a-view-versus-a-copy\n",
      "  tool_df.dropna(inplace=True)\n",
      "/tmp/ipykernel_1396051/2946220034.py:15: SettingWithCopyWarning: \n",
      "A value is trying to be set on a copy of a slice from a DataFrame\n",
      "\n",
      "See the caveats in the documentation: https://pandas.pydata.org/pandas-docs/stable/user_guide/indexing.html#returning-a-view-versus-a-copy\n",
      "  notool_df.dropna(inplace=True)\n"
     ]
    },
    {
     "data": {
      "text/html": [
       "<div>\n",
       "<style scoped>\n",
       "    .dataframe tbody tr th:only-of-type {\n",
       "        vertical-align: middle;\n",
       "    }\n",
       "\n",
       "    .dataframe tbody tr th {\n",
       "        vertical-align: top;\n",
       "    }\n",
       "\n",
       "    .dataframe thead th {\n",
       "        text-align: right;\n",
       "    }\n",
       "</style>\n",
       "<table border=\"1\" class=\"dataframe\">\n",
       "  <thead>\n",
       "    <tr style=\"text-align: right;\">\n",
       "      <th></th>\n",
       "      <th>Q1</th>\n",
       "      <th>NQ1</th>\n",
       "      <th>Q2</th>\n",
       "      <th>NQ2</th>\n",
       "      <th>Q3</th>\n",
       "      <th>NQ3</th>\n",
       "    </tr>\n",
       "  </thead>\n",
       "  <tbody>\n",
       "    <tr>\n",
       "      <th>min</th>\n",
       "      <td>7.00</td>\n",
       "      <td>5.00</td>\n",
       "      <td>7.00</td>\n",
       "      <td>4.00</td>\n",
       "      <td>1.00</td>\n",
       "      <td>2.00</td>\n",
       "    </tr>\n",
       "    <tr>\n",
       "      <th>max</th>\n",
       "      <td>10.00</td>\n",
       "      <td>10.00</td>\n",
       "      <td>10.00</td>\n",
       "      <td>9.00</td>\n",
       "      <td>10.00</td>\n",
       "      <td>10.00</td>\n",
       "    </tr>\n",
       "    <tr>\n",
       "      <th>mean</th>\n",
       "      <td>8.93</td>\n",
       "      <td>8.11</td>\n",
       "      <td>8.86</td>\n",
       "      <td>7.11</td>\n",
       "      <td>3.93</td>\n",
       "      <td>6.00</td>\n",
       "    </tr>\n",
       "    <tr>\n",
       "      <th>std</th>\n",
       "      <td>1.21</td>\n",
       "      <td>1.45</td>\n",
       "      <td>1.29</td>\n",
       "      <td>1.54</td>\n",
       "      <td>2.89</td>\n",
       "      <td>2.45</td>\n",
       "    </tr>\n",
       "    <tr>\n",
       "      <th>25%</th>\n",
       "      <td>8.25</td>\n",
       "      <td>8.00</td>\n",
       "      <td>7.50</td>\n",
       "      <td>6.00</td>\n",
       "      <td>2.00</td>\n",
       "      <td>4.00</td>\n",
       "    </tr>\n",
       "    <tr>\n",
       "      <th>50%</th>\n",
       "      <td>9.00</td>\n",
       "      <td>8.00</td>\n",
       "      <td>9.00</td>\n",
       "      <td>8.00</td>\n",
       "      <td>3.00</td>\n",
       "      <td>6.00</td>\n",
       "    </tr>\n",
       "    <tr>\n",
       "      <th>75%</th>\n",
       "      <td>10.00</td>\n",
       "      <td>9.00</td>\n",
       "      <td>10.00</td>\n",
       "      <td>8.00</td>\n",
       "      <td>4.00</td>\n",
       "      <td>8.00</td>\n",
       "    </tr>\n",
       "    <tr>\n",
       "      <th>count</th>\n",
       "      <td>14.00</td>\n",
       "      <td>9.00</td>\n",
       "      <td>14.00</td>\n",
       "      <td>9.00</td>\n",
       "      <td>14.00</td>\n",
       "      <td>9.00</td>\n",
       "    </tr>\n",
       "  </tbody>\n",
       "</table>\n",
       "</div>"
      ],
      "text/plain": [
       "          Q1    NQ1     Q2   NQ2     Q3    NQ3\n",
       "min     7.00   5.00   7.00  4.00   1.00   2.00\n",
       "max    10.00  10.00  10.00  9.00  10.00  10.00\n",
       "mean    8.93   8.11   8.86  7.11   3.93   6.00\n",
       "std     1.21   1.45   1.29  1.54   2.89   2.45\n",
       "25%     8.25   8.00   7.50  6.00   2.00   4.00\n",
       "50%     9.00   8.00   9.00  8.00   3.00   6.00\n",
       "75%    10.00   9.00  10.00  8.00   4.00   8.00\n",
       "count  14.00   9.00  14.00  9.00  14.00   9.00"
      ]
     },
     "execution_count": 13,
     "metadata": {},
     "output_type": "execute_result"
    }
   ],
   "source": [
    "desc3 = get_variant(ped_df, 'variant3', idx=3)\n",
    "desc3.to_csv('table3.csv', index=True, header=True, float_format='%.2f')\n",
    "desc3"
   ]
  },
  {
   "cell_type": "markdown",
   "metadata": {},
   "source": [
    "### Create google link"
   ]
  },
  {
   "cell_type": "code",
   "execution_count": 28,
   "metadata": {},
   "outputs": [
    {
     "name": "stdout",
     "output_type": "stream",
     "text": [
      "1 https://docs.google.com/forms/d/e/1FAIpQLSfIH5yBRFYGgIS6-kiuLXuvEIt2iD65nDu6yOkHNn6gb3SP8A/viewform?usp=pp_url&entry.1533067892=7YDHSLNM&entry.75952468=Northern%20Illinois%20University%2C%20Masters&entry.1504275618=2.0&entry.1086062394=2&entry.349748918=Tech&entry.83499645=Yes&entry.1259450664=10&entry.2131194762=9.0&entry.465472354=2&entry.1596096319=Yes&entry.1091771499=10&entry.1559684315=10&entry.479603624=1&entry.2057345672=Yes&entry.2115832627=10&entry.1505214318=9&entry.33730306=2&entry.1039248229=Very%20easy&entry.1594355609=Helpful&entry.2005802697=Very%20comfortable&entry.781768819=Very%20helpful&entry.830724702=Very%20helpful&entry.1380670412=Likely&entry.1239224858=&entry.108809019=\n",
      "2 https://docs.google.com/forms/d/e/1FAIpQLSfIH5yBRFYGgIS6-kiuLXuvEIt2iD65nDu6yOkHNn6gb3SP8A/viewform?usp=pp_url&entry.1533067892=JWZ91KHC&entry.75952468=NIU%20Computer%20Science%20%28Graduate%29&entry.1504275618=0.0&entry.1086062394=2&entry.349748918=Car%20Manufacturing%2C%20Programming&entry.83499645=Yes&entry.1259450664=9&entry.2131194762=9.0&entry.465472354=2&entry.1596096319=No&entry.1091771499=9&entry.1559684315=8&entry.479603624=6&entry.2057345672=Yes&entry.2115832627=10&entry.1505214318=10&entry.33730306=4&entry.1039248229=Easy&entry.1594355609=Very%20helpful&entry.2005802697=Comfortable&entry.781768819=Very%20helpful&entry.830724702=Helpful&entry.1380670412=Likely&entry.1239224858=No&entry.108809019=\n",
      "3 https://docs.google.com/forms/d/e/1FAIpQLSfIH5yBRFYGgIS6-kiuLXuvEIt2iD65nDu6yOkHNn6gb3SP8A/viewform?usp=pp_url&entry.1533067892=NM2YD5NX&entry.75952468=Graduate&entry.1504275618=6.0&entry.1086062394=1&entry.349748918=Tech&entry.83499645=Yes&entry.1259450664=9&entry.2131194762=8.0&entry.465472354=10%2B&entry.1596096319=No&entry.1091771499=7&entry.1559684315=9&entry.479603624=4&entry.2057345672=Yes&entry.2115832627=10&entry.1505214318=10&entry.33730306=2&entry.1039248229=Easy&entry.1594355609=Helpful&entry.2005802697=Comfortable&entry.781768819=Helpful&entry.830724702=Helpful&entry.1380670412=Likely&entry.1239224858=Scrolling%20up%20or%20down%20the%20images%20in%20vizAISE%20would%20sometimes%20scroll%20the%20description%20of%20the%20image%20if%20the%20mouse%20happened%20to%20be%20near%20the%20description%27s%20scroll%20bar.&entry.108809019=Maybe%20have%20the%20whole%20description%20show%20underneath%20the%20image%2C%20even%20if%20it%20may%20take%20more%20space%20vertically.%20If%20the%20images%20don%27t%20need%20to%20be%20horizontally%20level%2C%20then%20empty%20vertical%20space%20from%20shorter%20descriptions%20could%20be%20vertically%20moved%20in%20from%20the%20next%20images%20%28with%20descriptions%29%20to%20fill%20those%20voids.\n",
      "4 https://docs.google.com/forms/d/e/1FAIpQLSfIH5yBRFYGgIS6-kiuLXuvEIt2iD65nDu6yOkHNn6gb3SP8A/viewform?usp=pp_url&entry.1533067892=7OW6R6HO&entry.75952468=NIU&entry.1504275618=2.0&entry.1086062394=2&entry.349748918=Insurance&entry.83499645=Yes&entry.1259450664=7&entry.2131194762=7.0&entry.465472354=2&entry.1596096319=Yes&entry.1091771499=7&entry.1559684315=7&entry.479603624=2&entry.2057345672=Yes&entry.2115832627=7&entry.1505214318=7&entry.33730306=4&entry.1039248229=Easy&entry.1594355609=Helpful&entry.2005802697=Comfortable&entry.781768819=Helpful&entry.830724702=Helpful&entry.1380670412=Likely&entry.1239224858=No&entry.108809019=%20it%20is%20very%20helpful\n",
      "5 https://docs.google.com/forms/d/e/1FAIpQLSfIH5yBRFYGgIS6-kiuLXuvEIt2iD65nDu6yOkHNn6gb3SP8A/viewform?usp=pp_url&entry.1533067892=SII4ON8C&entry.75952468=NIU%20MSCS&entry.1504275618=&entry.1086062394=1&entry.349748918=Technical&entry.83499645=Yes&entry.1259450664=7&entry.2131194762=7.0&entry.465472354=10%2B&entry.1596096319=Yes&entry.1091771499=7&entry.1559684315=7&entry.479603624=10%2B&entry.2057345672=Yes&entry.2115832627=7&entry.1505214318=7&entry.33730306=10%2B&entry.1039248229=Easy&entry.1594355609=Helpful&entry.2005802697=Comfortable&entry.781768819=Helpful&entry.830724702=Helpful&entry.1380670412=Neutral&entry.1239224858=No&entry.108809019=\n",
      "6 https://docs.google.com/forms/d/e/1FAIpQLSfIH5yBRFYGgIS6-kiuLXuvEIt2iD65nDu6yOkHNn6gb3SP8A/viewform?usp=pp_url&entry.1533067892=YRGQI1ZT&entry.75952468=NIU%2C%20Ms%20CS&entry.1504275618=10.0&entry.1086062394=&entry.349748918=Technical&entry.83499645=Yes&entry.1259450664=7&entry.2131194762=7.0&entry.465472354=4&entry.1596096319=Yes&entry.1091771499=6&entry.1559684315=7&entry.479603624=4&entry.2057345672=Yes&entry.2115832627=7&entry.1505214318=7&entry.33730306=4&entry.1039248229=Easy&entry.1594355609=Very%20helpful&entry.2005802697=Very%20comfortable&entry.781768819=Helpful&entry.830724702=Helpful&entry.1380670412=Likely&entry.1239224858=No&entry.108809019=\n",
      "7 https://docs.google.com/forms/d/e/1FAIpQLSfIH5yBRFYGgIS6-kiuLXuvEIt2iD65nDu6yOkHNn6gb3SP8A/viewform?usp=pp_url&entry.1533067892=X4NY89GT&entry.75952468=NIU%2C%20MS%20in%20CS&entry.1504275618=1.1&entry.1086062394=1.1&entry.349748918=Tech&entry.83499645=Yes&entry.1259450664=9&entry.2131194762=10.0&entry.465472354=6&entry.1596096319=Yes&entry.1091771499=9&entry.1559684315=9&entry.479603624=6&entry.2057345672=No&entry.2115832627=10&entry.1505214318=9&entry.33730306=6&entry.1039248229=Very%20easy&entry.1594355609=Helpful&entry.2005802697=Somewhat%20Comfortable&entry.781768819=Helpful&entry.830724702=Helpful&entry.1380670412=Very%20likely&entry.1239224858=NO&entry.108809019=\n",
      "8 https://docs.google.com/forms/d/e/1FAIpQLSfIH5yBRFYGgIS6-kiuLXuvEIt2iD65nDu6yOkHNn6gb3SP8A/viewform?usp=pp_url&entry.1533067892=MLV9TGVE&entry.75952468=Bachelor%20of%20Engineering&entry.1504275618=0.0&entry.1086062394=0&entry.349748918=0&entry.83499645=Yes&entry.1259450664=9&entry.2131194762=8.0&entry.465472354=6&entry.1596096319=Yes&entry.1091771499=7&entry.1559684315=8&entry.479603624=6&entry.2057345672=Yes&entry.2115832627=9&entry.1505214318=9&entry.33730306=10%2B&entry.1039248229=Easy&entry.1594355609=Helpful&entry.2005802697=Somewhat%20Comfortable&entry.781768819=Helpful&entry.830724702=Helpful&entry.1380670412=Likely&entry.1239224858=No&entry.108809019=Explainability%2C%20Real-time%20Updates\n",
      "9 https://docs.google.com/forms/d/e/1FAIpQLSfIH5yBRFYGgIS6-kiuLXuvEIt2iD65nDu6yOkHNn6gb3SP8A/viewform?usp=pp_url&entry.1533067892=7DODLWHP&entry.75952468=Northern%20Illinois%20University%20%2C%20Masters%20in%20Computer%20Science%20&entry.1504275618=2.0&entry.1086062394=2&entry.349748918=Automation%20Products&entry.83499645=Yes&entry.1259450664=9&entry.2131194762=9.0&entry.465472354=4&entry.1596096319=Yes&entry.1091771499=9&entry.1559684315=9&entry.479603624=4&entry.2057345672=Yes&entry.2115832627=9&entry.1505214318=9&entry.33730306=6&entry.1039248229=Easy&entry.1594355609=Helpful&entry.2005802697=Comfortable&entry.781768819=Helpful&entry.830724702=Helpful&entry.1380670412=Very%20likely&entry.1239224858=No&entry.108809019=\n",
      "10 https://docs.google.com/forms/d/e/1FAIpQLSfIH5yBRFYGgIS6-kiuLXuvEIt2iD65nDu6yOkHNn6gb3SP8A/viewform?usp=pp_url&entry.1533067892=ZBR6TZL3&entry.75952468=Masters&entry.1504275618=3.0&entry.1086062394=&entry.349748918=Software%20development%20&entry.83499645=Yes&entry.1259450664=9&entry.2131194762=9.0&entry.465472354=4&entry.1596096319=No&entry.1091771499=8&entry.1559684315=8&entry.479603624=6&entry.2057345672=No&entry.2115832627=8&entry.1505214318=8&entry.33730306=6&entry.1039248229=Very%20easy&entry.1594355609=Very%20helpful&entry.2005802697=Very%20comfortable&entry.781768819=Very%20helpful&entry.830724702=Helpful&entry.1380670412=Very%20likely&entry.1239224858=No&entry.108809019=\n",
      "11 https://docs.google.com/forms/d/e/1FAIpQLSfIH5yBRFYGgIS6-kiuLXuvEIt2iD65nDu6yOkHNn6gb3SP8A/viewform?usp=pp_url&entry.1533067892=RAQES0UP&entry.75952468=Masters%20in%20Computer%20Science&entry.1504275618=&entry.1086062394=&entry.349748918=Tech&entry.83499645=Yes&entry.1259450664=7&entry.2131194762=6.0&entry.465472354=2&entry.1596096319=Yes&entry.1091771499=7&entry.1559684315=7&entry.479603624=2&entry.2057345672=Yes&entry.2115832627=8&entry.1505214318=7&entry.33730306=2&entry.1039248229=Easy&entry.1594355609=Helpful&entry.2005802697=Somewhat%20Comfortable&entry.781768819=Helpful&entry.830724702=Don%E2%80%99t%20know&entry.1380670412=Neutral&entry.1239224858=no&entry.108809019=Good%2Cbut%20it%20would%20be%20very%20helpful%20if%20you%20explain%20more%20in%20the%20google%20form\n",
      "12 https://docs.google.com/forms/d/e/1FAIpQLSfIH5yBRFYGgIS6-kiuLXuvEIt2iD65nDu6yOkHNn6gb3SP8A/viewform?usp=pp_url&entry.1533067892=U46OQOOT&entry.75952468=&entry.1504275618=&entry.1086062394=&entry.349748918=&entry.83499645=Yes&entry.1259450664=8&entry.2131194762=8.0&entry.465472354=6&entry.1596096319=No&entry.1091771499=8&entry.1559684315=8&entry.479603624=8&entry.2057345672=No&entry.2115832627=8&entry.1505214318=7&entry.33730306=10%2B&entry.1039248229=Easy&entry.1594355609=Helpful&entry.2005802697=Comfortable&entry.781768819=Helpful&entry.830724702=Don%E2%80%99t%20know&entry.1380670412=Very%20likely&entry.1239224858=&entry.108809019=\n",
      "13 https://docs.google.com/forms/d/e/1FAIpQLSfIH5yBRFYGgIS6-kiuLXuvEIt2iD65nDu6yOkHNn6gb3SP8A/viewform?usp=pp_url&entry.1533067892=QJRV35HU&entry.75952468=NIU%2C%20Ms.CS&entry.1504275618=0.0&entry.1086062394=2&entry.349748918=Tech-Salesforce&entry.83499645=Yes&entry.1259450664=10&entry.2131194762=9.0&entry.465472354=4&entry.1596096319=No&entry.1091771499=9&entry.1559684315=8&entry.479603624=6&entry.2057345672=Yes&entry.2115832627=9&entry.1505214318=9&entry.33730306=4&entry.1039248229=Very%20easy&entry.1594355609=Very%20helpful&entry.2005802697=Very%20comfortable&entry.781768819=Very%20helpful&entry.830724702=Very%20helpful&entry.1380670412=Very%20likely&entry.1239224858=&entry.108809019=\n"
     ]
    }
   ],
   "source": [
    "l1 = \"\"\"https://docs.google.com/forms/d/e/1FAIpQLSfIH5yBRFYGgIS6-kiuLXuvEIt2iD65nDu6yOkHNn6gb3SP8A/viewform?usp=pp_url&entry.1533067892=t&entry.75952468=t&entry.1504275618=t&entry.1086062394=t&entry.349748918=t&entry.83499645=Yes&entry.1259450664=1&entry.2131194762=1&entry.465472354=1&entry.1596096319=Yes&entry.1091771499=1&entry.1559684315=1&entry.479603624=1&entry.2057345672=Yes&entry.2115832627=1&entry.1505214318=1&entry.33730306=1&entry.1039248229=Very+easy&entry.1594355609=Very+helpful&entry.2005802697=Very+comfortable&entry.781768819=Very+helpful&entry.830724702=Very+helpful&entry.1380670412=Very+unlikely&entry.1239224858=t&entry.108809019=t\"\"\"\n",
    "list_of_links_var1_yes = get_links(l1, variant1_df_yes)\n",
    "for i, el in enumerate(list_of_links_var1_yes):\n",
    "     print(i + 1, el)"
   ]
  },
  {
   "cell_type": "code",
   "execution_count": null,
   "metadata": {},
   "outputs": [],
   "source": [
    "# enumrate over variant1_df_yes and priint each row\n",
    "list_of_links = []\n",
    "for i, row in enumerate(variant1_df_yes.values):\n",
    "    sample_link = \"\"\"https://docs.google.com/forms/d/e/1FAIpQLSfIH5yBRFYGgIS6-kiuLXuvEIt2iD65nDu6yOkHNn6gb3SP8A/viewform?usp=pp_url&entry.1533067892=t&entry.75952468=t&entry.1504275618=t&entry.1086062394=t&entry.349748918=t&entry.83499645=Yes&entry.1259450664=1&entry.2131194762=1&entry.465472354=1&entry.1596096319=Yes&entry.1091771499=1&entry.1559684315=1&entry.479603624=1&entry.2057345672=Yes&entry.2115832627=1&entry.1505214318=1&entry.33730306=1&entry.1039248229=Very+easy&entry.1594355609=Very+helpful&entry.2005802697=Very+comfortable&entry.781768819=Very+helpful&entry.830724702=Very+helpful&entry.1380670412=Very+unlikely&entry.1239224858=t&entry.108809019=t\"\"\"\n",
    "    \n",
    "    sample_link = re.sub(r'(&entry\\.\\d+=)([^&]+)', r'\\1XFOND', sample_link)\n",
    "    xfond_count = sample_link.count('XFOND')\n",
    "\n",
    "    data_1 = list(row[1:])\n",
    "    # chnage nan to empty string\n",
    "    data_1 = ['' if str(x) == 'nan' else x for x in data_1]\n",
    "    print(data_1)\n",
    "    if xfond_count != len(data_1):\n",
    "        # print(data_1)\n",
    "        raise ValueError(\"The count of 'XFOND' does not match the length of data_1\")\n",
    "\n",
    "    # Replace 'XFOND' with elements from data_1\n",
    "    for i, item in enumerate(data_1):\n",
    "        sample_link = re.sub(r'XFOND', quote(str(item)), sample_link, count=1)\n",
    "    list_of_links.append(sample_link)\n",
    "    # print(i + 1, row)\n",
    "    # print()"
   ]
  },
  {
   "cell_type": "code",
   "execution_count": 11,
   "metadata": {},
   "outputs": [
    {
     "name": "stdout",
     "output_type": "stream",
     "text": [
      "1 https://docs.google.com/forms/d/e/1FAIpQLSfIH5yBRFYGgIS6-kiuLXuvEIt2iD65nDu6yOkHNn6gb3SP8A/viewform?usp=pp_url&entry.1533067892=7YDHSLNM&entry.75952468=Northern%20Illinois%20University%2C%20Masters&entry.1504275618=2.0&entry.1086062394=2&entry.349748918=Tech&entry.83499645=Yes&entry.1259450664=10&entry.2131194762=9.0&entry.465472354=2&entry.1596096319=Yes&entry.1091771499=10&entry.1559684315=10&entry.479603624=1&entry.2057345672=Yes&entry.2115832627=10&entry.1505214318=9&entry.33730306=2&entry.1039248229=Very%20easy&entry.1594355609=Helpful&entry.2005802697=Very%20comfortable&entry.781768819=Very%20helpful&entry.830724702=Very%20helpful&entry.1380670412=Likely&entry.1239224858=&entry.108809019=\n",
      "2 https://docs.google.com/forms/d/e/1FAIpQLSfIH5yBRFYGgIS6-kiuLXuvEIt2iD65nDu6yOkHNn6gb3SP8A/viewform?usp=pp_url&entry.1533067892=JWZ91KHC&entry.75952468=NIU%20Computer%20Science%20%28Graduate%29&entry.1504275618=0.0&entry.1086062394=2&entry.349748918=Car%20Manufacturing%2C%20Programming&entry.83499645=Yes&entry.1259450664=9&entry.2131194762=9.0&entry.465472354=2&entry.1596096319=No&entry.1091771499=9&entry.1559684315=8&entry.479603624=6&entry.2057345672=Yes&entry.2115832627=10&entry.1505214318=10&entry.33730306=4&entry.1039248229=Easy&entry.1594355609=Very%20helpful&entry.2005802697=Comfortable&entry.781768819=Very%20helpful&entry.830724702=Helpful&entry.1380670412=Likely&entry.1239224858=No&entry.108809019=\n",
      "3 https://docs.google.com/forms/d/e/1FAIpQLSfIH5yBRFYGgIS6-kiuLXuvEIt2iD65nDu6yOkHNn6gb3SP8A/viewform?usp=pp_url&entry.1533067892=NM2YD5NX&entry.75952468=Graduate&entry.1504275618=6.0&entry.1086062394=1&entry.349748918=Tech&entry.83499645=Yes&entry.1259450664=9&entry.2131194762=8.0&entry.465472354=10%2B&entry.1596096319=No&entry.1091771499=7&entry.1559684315=9&entry.479603624=4&entry.2057345672=Yes&entry.2115832627=10&entry.1505214318=10&entry.33730306=2&entry.1039248229=Easy&entry.1594355609=Helpful&entry.2005802697=Comfortable&entry.781768819=Helpful&entry.830724702=Helpful&entry.1380670412=Likely&entry.1239224858=Scrolling%20up%20or%20down%20the%20images%20in%20vizAISE%20would%20sometimes%20scroll%20the%20description%20of%20the%20image%20if%20the%20mouse%20happened%20to%20be%20near%20the%20description%27s%20scroll%20bar.&entry.108809019=Maybe%20have%20the%20whole%20description%20show%20underneath%20the%20image%2C%20even%20if%20it%20may%20take%20more%20space%20vertically.%20If%20the%20images%20don%27t%20need%20to%20be%20horizontally%20level%2C%20then%20empty%20vertical%20space%20from%20shorter%20descriptions%20could%20be%20vertically%20moved%20in%20from%20the%20next%20images%20%28with%20descriptions%29%20to%20fill%20those%20voids.\n",
      "4 https://docs.google.com/forms/d/e/1FAIpQLSfIH5yBRFYGgIS6-kiuLXuvEIt2iD65nDu6yOkHNn6gb3SP8A/viewform?usp=pp_url&entry.1533067892=7OW6R6HO&entry.75952468=NIU&entry.1504275618=2.0&entry.1086062394=2&entry.349748918=Insurance&entry.83499645=Yes&entry.1259450664=7&entry.2131194762=7.0&entry.465472354=2&entry.1596096319=Yes&entry.1091771499=7&entry.1559684315=7&entry.479603624=2&entry.2057345672=Yes&entry.2115832627=7&entry.1505214318=7&entry.33730306=4&entry.1039248229=Easy&entry.1594355609=Helpful&entry.2005802697=Comfortable&entry.781768819=Helpful&entry.830724702=Helpful&entry.1380670412=Likely&entry.1239224858=No&entry.108809019=%20it%20is%20very%20helpful\n",
      "5 https://docs.google.com/forms/d/e/1FAIpQLSfIH5yBRFYGgIS6-kiuLXuvEIt2iD65nDu6yOkHNn6gb3SP8A/viewform?usp=pp_url&entry.1533067892=SII4ON8C&entry.75952468=NIU%20MSCS&entry.1504275618=&entry.1086062394=1&entry.349748918=Technical&entry.83499645=Yes&entry.1259450664=7&entry.2131194762=7.0&entry.465472354=10%2B&entry.1596096319=Yes&entry.1091771499=7&entry.1559684315=7&entry.479603624=10%2B&entry.2057345672=Yes&entry.2115832627=7&entry.1505214318=7&entry.33730306=10%2B&entry.1039248229=Easy&entry.1594355609=Helpful&entry.2005802697=Comfortable&entry.781768819=Helpful&entry.830724702=Helpful&entry.1380670412=Neutral&entry.1239224858=No&entry.108809019=\n",
      "6 https://docs.google.com/forms/d/e/1FAIpQLSfIH5yBRFYGgIS6-kiuLXuvEIt2iD65nDu6yOkHNn6gb3SP8A/viewform?usp=pp_url&entry.1533067892=YRGQI1ZT&entry.75952468=NIU%2C%20Ms%20CS&entry.1504275618=10.0&entry.1086062394=&entry.349748918=Technical&entry.83499645=Yes&entry.1259450664=7&entry.2131194762=7.0&entry.465472354=4&entry.1596096319=Yes&entry.1091771499=6&entry.1559684315=7&entry.479603624=4&entry.2057345672=Yes&entry.2115832627=7&entry.1505214318=7&entry.33730306=4&entry.1039248229=Easy&entry.1594355609=Very%20helpful&entry.2005802697=Very%20comfortable&entry.781768819=Helpful&entry.830724702=Helpful&entry.1380670412=Likely&entry.1239224858=No&entry.108809019=\n",
      "7 https://docs.google.com/forms/d/e/1FAIpQLSfIH5yBRFYGgIS6-kiuLXuvEIt2iD65nDu6yOkHNn6gb3SP8A/viewform?usp=pp_url&entry.1533067892=X4NY89GT&entry.75952468=NIU%2C%20MS%20in%20CS&entry.1504275618=1.1&entry.1086062394=1.1&entry.349748918=Tech&entry.83499645=Yes&entry.1259450664=9&entry.2131194762=10.0&entry.465472354=6&entry.1596096319=Yes&entry.1091771499=9&entry.1559684315=9&entry.479603624=6&entry.2057345672=No&entry.2115832627=10&entry.1505214318=9&entry.33730306=6&entry.1039248229=Very%20easy&entry.1594355609=Helpful&entry.2005802697=Somewhat%20Comfortable&entry.781768819=Helpful&entry.830724702=Helpful&entry.1380670412=Very%20likely&entry.1239224858=NO&entry.108809019=\n",
      "8 https://docs.google.com/forms/d/e/1FAIpQLSfIH5yBRFYGgIS6-kiuLXuvEIt2iD65nDu6yOkHNn6gb3SP8A/viewform?usp=pp_url&entry.1533067892=MLV9TGVE&entry.75952468=Bachelor%20of%20Engineering&entry.1504275618=0.0&entry.1086062394=0&entry.349748918=0&entry.83499645=Yes&entry.1259450664=9&entry.2131194762=8.0&entry.465472354=6&entry.1596096319=Yes&entry.1091771499=7&entry.1559684315=8&entry.479603624=6&entry.2057345672=Yes&entry.2115832627=9&entry.1505214318=9&entry.33730306=10%2B&entry.1039248229=Easy&entry.1594355609=Helpful&entry.2005802697=Somewhat%20Comfortable&entry.781768819=Helpful&entry.830724702=Helpful&entry.1380670412=Likely&entry.1239224858=No&entry.108809019=Explainability%2C%20Real-time%20Updates\n",
      "9 https://docs.google.com/forms/d/e/1FAIpQLSfIH5yBRFYGgIS6-kiuLXuvEIt2iD65nDu6yOkHNn6gb3SP8A/viewform?usp=pp_url&entry.1533067892=7DODLWHP&entry.75952468=Northern%20Illinois%20University%20%2C%20Masters%20in%20Computer%20Science%20&entry.1504275618=2.0&entry.1086062394=2&entry.349748918=Automation%20Products&entry.83499645=Yes&entry.1259450664=9&entry.2131194762=9.0&entry.465472354=4&entry.1596096319=Yes&entry.1091771499=9&entry.1559684315=9&entry.479603624=4&entry.2057345672=Yes&entry.2115832627=9&entry.1505214318=9&entry.33730306=6&entry.1039248229=Easy&entry.1594355609=Helpful&entry.2005802697=Comfortable&entry.781768819=Helpful&entry.830724702=Helpful&entry.1380670412=Very%20likely&entry.1239224858=No&entry.108809019=\n",
      "10 https://docs.google.com/forms/d/e/1FAIpQLSfIH5yBRFYGgIS6-kiuLXuvEIt2iD65nDu6yOkHNn6gb3SP8A/viewform?usp=pp_url&entry.1533067892=ZBR6TZL3&entry.75952468=Masters&entry.1504275618=3.0&entry.1086062394=&entry.349748918=Software%20development%20&entry.83499645=Yes&entry.1259450664=9&entry.2131194762=9.0&entry.465472354=4&entry.1596096319=No&entry.1091771499=8&entry.1559684315=8&entry.479603624=6&entry.2057345672=No&entry.2115832627=8&entry.1505214318=8&entry.33730306=6&entry.1039248229=Very%20easy&entry.1594355609=Very%20helpful&entry.2005802697=Very%20comfortable&entry.781768819=Very%20helpful&entry.830724702=Helpful&entry.1380670412=Very%20likely&entry.1239224858=No&entry.108809019=\n",
      "11 https://docs.google.com/forms/d/e/1FAIpQLSfIH5yBRFYGgIS6-kiuLXuvEIt2iD65nDu6yOkHNn6gb3SP8A/viewform?usp=pp_url&entry.1533067892=RAQES0UP&entry.75952468=Masters%20in%20Computer%20Science&entry.1504275618=&entry.1086062394=&entry.349748918=Tech&entry.83499645=Yes&entry.1259450664=7&entry.2131194762=6.0&entry.465472354=2&entry.1596096319=Yes&entry.1091771499=7&entry.1559684315=7&entry.479603624=2&entry.2057345672=Yes&entry.2115832627=8&entry.1505214318=7&entry.33730306=2&entry.1039248229=Easy&entry.1594355609=Helpful&entry.2005802697=Somewhat%20Comfortable&entry.781768819=Helpful&entry.830724702=Don%E2%80%99t%20know&entry.1380670412=Neutral&entry.1239224858=no&entry.108809019=Good%2Cbut%20it%20would%20be%20very%20helpful%20if%20you%20explain%20more%20in%20the%20google%20form\n",
      "12 https://docs.google.com/forms/d/e/1FAIpQLSfIH5yBRFYGgIS6-kiuLXuvEIt2iD65nDu6yOkHNn6gb3SP8A/viewform?usp=pp_url&entry.1533067892=U46OQOOT&entry.75952468=&entry.1504275618=&entry.1086062394=&entry.349748918=&entry.83499645=Yes&entry.1259450664=8&entry.2131194762=8.0&entry.465472354=6&entry.1596096319=No&entry.1091771499=8&entry.1559684315=8&entry.479603624=8&entry.2057345672=No&entry.2115832627=8&entry.1505214318=7&entry.33730306=10%2B&entry.1039248229=Easy&entry.1594355609=Helpful&entry.2005802697=Comfortable&entry.781768819=Helpful&entry.830724702=Don%E2%80%99t%20know&entry.1380670412=Very%20likely&entry.1239224858=&entry.108809019=\n",
      "13 https://docs.google.com/forms/d/e/1FAIpQLSfIH5yBRFYGgIS6-kiuLXuvEIt2iD65nDu6yOkHNn6gb3SP8A/viewform?usp=pp_url&entry.1533067892=QJRV35HU&entry.75952468=NIU%2C%20Ms.CS&entry.1504275618=0.0&entry.1086062394=2&entry.349748918=Tech-Salesforce&entry.83499645=Yes&entry.1259450664=10&entry.2131194762=9.0&entry.465472354=4&entry.1596096319=No&entry.1091771499=9&entry.1559684315=8&entry.479603624=6&entry.2057345672=Yes&entry.2115832627=9&entry.1505214318=9&entry.33730306=4&entry.1039248229=Very%20easy&entry.1594355609=Very%20helpful&entry.2005802697=Very%20comfortable&entry.781768819=Very%20helpful&entry.830724702=Very%20helpful&entry.1380670412=Very%20likely&entry.1239224858=&entry.108809019=\n"
     ]
    }
   ],
   "source": [
    "for i, el in enumerate(list_of_links):\n",
    "    print(i + 1, el)"
   ]
  },
  {
   "cell_type": "code",
   "execution_count": null,
   "metadata": {},
   "outputs": [],
   "source": []
  },
  {
   "cell_type": "code",
   "execution_count": 13,
   "metadata": {},
   "outputs": [
    {
     "name": "stdout",
     "output_type": "stream",
     "text": [
      "1 https://docs.google.com/forms/d/e/1FAIpQLSdsrXIbkxPPCjFNYJeRnPa8CvEnV3AbIsBntoWUuUDLODph5w/viewform?usp=pp_url&entry.1533067892=7YDHSLNM&entry.75952468=Northern%20Illinois%20University%2C%20Masters&entry.1504275618=2.0&entry.1086062394=2&entry.349748918=Tech&entry.83499645=Yes&entry.1259450664=10&entry.2131194762=9.0&entry.465472354=2&entry.1596096319=Yes&entry.1091771499=10&entry.1559684315=10&entry.479603624=1&entry.2057345672=Yes&entry.2115832627=10&entry.1505214318=9&entry.33730306=2&entry.1039248229=Very%20easy&entry.1594355609=Helpful&entry.2005802697=Very%20comfortable&entry.781768819=Very%20helpful&entry.830724702=Very%20helpful&entry.1380670412=Likely&entry.1239224858=&entry.108809019=\n",
      "2 https://docs.google.com/forms/d/e/1FAIpQLSdsrXIbkxPPCjFNYJeRnPa8CvEnV3AbIsBntoWUuUDLODph5w/viewform?usp=pp_url&entry.1533067892=2IHTVE2L&entry.75952468=northern%20illinois%20university%2C%20%20MS%2C%20CSE&entry.1504275618=0.0&entry.1086062394=1&entry.349748918=Data%20science&entry.83499645=No&entry.1259450664=6&entry.2131194762=8.0&entry.465472354=4&entry.1596096319=Yes&entry.1091771499=8&entry.1559684315=7&entry.479603624=2&entry.2057345672=No&entry.2115832627=5&entry.1505214318=4&entry.33730306=4&entry.1039248229=Easy&entry.1594355609=Very%20helpful&entry.2005802697=Very%20comfortable&entry.781768819=Very%20helpful&entry.830724702=Helpful&entry.1380670412=Very%20likely&entry.1239224858=it%27s%20hard%20to%20identify%20without%20tool&entry.108809019=\n",
      "3 https://docs.google.com/forms/d/e/1FAIpQLSdsrXIbkxPPCjFNYJeRnPa8CvEnV3AbIsBntoWUuUDLODph5w/viewform?usp=pp_url&entry.1533067892=DA6CFYTV&entry.75952468=Master%27s%20in%20Computer%20Science%20%20at%20Northern%20Illinois%20University&entry.1504275618=1.5&entry.1086062394=1.5&entry.349748918=Tech&entry.83499645=No&entry.1259450664=6&entry.2131194762=8.0&entry.465472354=10%2B&entry.1596096319=Yes&entry.1091771499=8&entry.1559684315=9&entry.479603624=6&entry.2057345672=No&entry.2115832627=7&entry.1505214318=6&entry.33730306=8&entry.1039248229=Easy&entry.1594355609=Helpful&entry.2005802697=Comfortable&entry.781768819=Very%20helpful&entry.830724702=Helpful&entry.1380670412=Likely&entry.1239224858=It%20is%20difficult%20to%20identify%20manually%2C%20as%20we%20need%20to%20identify%20which%20image%20represents%20which%20variant.&entry.108809019=\n",
      "4 https://docs.google.com/forms/d/e/1FAIpQLSdsrXIbkxPPCjFNYJeRnPa8CvEnV3AbIsBntoWUuUDLODph5w/viewform?usp=pp_url&entry.1533067892=9T7EC4BZ&entry.75952468=Masters%20in%20Computer%20Science%2C%20Northern%20Illinois%20University&entry.1504275618=1.5&entry.1086062394=1.5&entry.349748918=Front%20end%20development&entry.83499645=No&entry.1259450664=8&entry.2131194762=9.0&entry.465472354=6&entry.1596096319=Yes&entry.1091771499=9&entry.1559684315=9&entry.479603624=6&entry.2057345672=No&entry.2115832627=8&entry.1505214318=6&entry.33730306=4&entry.1039248229=Easy&entry.1594355609=Very%20helpful&entry.2005802697=Comfortable&entry.781768819=Very%20helpful&entry.830724702=Helpful&entry.1380670412=Likely&entry.1239224858=no&entry.108809019=the%20scroll%20for%20all%20the%20images%20does%20not%20fit%20the%20screen%2C%20manually%20having%20to%20move%20up%20and%20down%20is%20less%20userfriendly\n",
      "5 https://docs.google.com/forms/d/e/1FAIpQLSdsrXIbkxPPCjFNYJeRnPa8CvEnV3AbIsBntoWUuUDLODph5w/viewform?usp=pp_url&entry.1533067892=SGI5TIYO&entry.75952468=Northern%20Illinois%20University%2C%20Masters&entry.1504275618=2.0&entry.1086062394=1.5&entry.349748918=Banking&entry.83499645=No&entry.1259450664=8&entry.2131194762=8.0&entry.465472354=8&entry.1596096319=Yes&entry.1091771499=8&entry.1559684315=9&entry.479603624=2&entry.2057345672=No&entry.2115832627=9&entry.1505214318=8&entry.33730306=8&entry.1039248229=Very%20easy&entry.1594355609=Helpful&entry.2005802697=Comfortable&entry.781768819=Helpful&entry.830724702=Helpful&entry.1380670412=Very%20likely&entry.1239224858=&entry.108809019=\n",
      "6 https://docs.google.com/forms/d/e/1FAIpQLSdsrXIbkxPPCjFNYJeRnPa8CvEnV3AbIsBntoWUuUDLODph5w/viewform?usp=pp_url&entry.1533067892=7OW6R6HO&entry.75952468=NIU&entry.1504275618=2.0&entry.1086062394=2&entry.349748918=Insurance&entry.83499645=Yes&entry.1259450664=7&entry.2131194762=7.0&entry.465472354=2&entry.1596096319=Yes&entry.1091771499=7&entry.1559684315=7&entry.479603624=2&entry.2057345672=Yes&entry.2115832627=7&entry.1505214318=7&entry.33730306=4&entry.1039248229=Easy&entry.1594355609=Helpful&entry.2005802697=Comfortable&entry.781768819=Helpful&entry.830724702=Helpful&entry.1380670412=Likely&entry.1239224858=No&entry.108809019=%20it%20is%20very%20helpful\n",
      "7 https://docs.google.com/forms/d/e/1FAIpQLSdsrXIbkxPPCjFNYJeRnPa8CvEnV3AbIsBntoWUuUDLODph5w/viewform?usp=pp_url&entry.1533067892=SII4ON8C&entry.75952468=NIU%20MSCS&entry.1504275618=&entry.1086062394=1&entry.349748918=Technical&entry.83499645=Yes&entry.1259450664=7&entry.2131194762=7.0&entry.465472354=10%2B&entry.1596096319=Yes&entry.1091771499=7&entry.1559684315=7&entry.479603624=10%2B&entry.2057345672=Yes&entry.2115832627=7&entry.1505214318=7&entry.33730306=10%2B&entry.1039248229=Easy&entry.1594355609=Helpful&entry.2005802697=Comfortable&entry.781768819=Helpful&entry.830724702=Helpful&entry.1380670412=Neutral&entry.1239224858=No&entry.108809019=\n",
      "8 https://docs.google.com/forms/d/e/1FAIpQLSdsrXIbkxPPCjFNYJeRnPa8CvEnV3AbIsBntoWUuUDLODph5w/viewform?usp=pp_url&entry.1533067892=4K1ABTCX&entry.75952468=NIU%2C%20Master%27s%20in%20CS&entry.1504275618=0.0&entry.1086062394=12%20months&entry.349748918=Tech&entry.83499645=No&entry.1259450664=3&entry.2131194762=&entry.465472354=&entry.1596096319=Yes&entry.1091771499=9&entry.1559684315=8&entry.479603624=2&entry.2057345672=No&entry.2115832627=9&entry.1505214318=8&entry.33730306=2&entry.1039248229=Very%20easy&entry.1594355609=Very%20helpful&entry.2005802697=Very%20comfortable&entry.781768819=Very%20helpful&entry.830724702=Very%20helpful&entry.1380670412=Likely&entry.1239224858=&entry.108809019=\n",
      "9 https://docs.google.com/forms/d/e/1FAIpQLSdsrXIbkxPPCjFNYJeRnPa8CvEnV3AbIsBntoWUuUDLODph5w/viewform?usp=pp_url&entry.1533067892=YRGQI1ZT&entry.75952468=NIU%2C%20Ms%20CS&entry.1504275618=10.0&entry.1086062394=&entry.349748918=Technical&entry.83499645=Yes&entry.1259450664=7&entry.2131194762=7.0&entry.465472354=4&entry.1596096319=Yes&entry.1091771499=6&entry.1559684315=7&entry.479603624=4&entry.2057345672=Yes&entry.2115832627=7&entry.1505214318=7&entry.33730306=4&entry.1039248229=Easy&entry.1594355609=Very%20helpful&entry.2005802697=Very%20comfortable&entry.781768819=Helpful&entry.830724702=Helpful&entry.1380670412=Likely&entry.1239224858=No&entry.108809019=\n",
      "10 https://docs.google.com/forms/d/e/1FAIpQLSdsrXIbkxPPCjFNYJeRnPa8CvEnV3AbIsBntoWUuUDLODph5w/viewform?usp=pp_url&entry.1533067892=X4NY89GT&entry.75952468=NIU%2C%20MS%20in%20CS&entry.1504275618=1.1&entry.1086062394=1.1&entry.349748918=Tech&entry.83499645=Yes&entry.1259450664=9&entry.2131194762=10.0&entry.465472354=6&entry.1596096319=Yes&entry.1091771499=9&entry.1559684315=9&entry.479603624=6&entry.2057345672=No&entry.2115832627=10&entry.1505214318=9&entry.33730306=6&entry.1039248229=Very%20easy&entry.1594355609=Helpful&entry.2005802697=Somewhat%20Comfortable&entry.781768819=Helpful&entry.830724702=Helpful&entry.1380670412=Very%20likely&entry.1239224858=NO&entry.108809019=\n",
      "11 https://docs.google.com/forms/d/e/1FAIpQLSdsrXIbkxPPCjFNYJeRnPa8CvEnV3AbIsBntoWUuUDLODph5w/viewform?usp=pp_url&entry.1533067892=MLV9TGVE&entry.75952468=Bachelor%20of%20Engineering&entry.1504275618=0.0&entry.1086062394=0&entry.349748918=0&entry.83499645=Yes&entry.1259450664=9&entry.2131194762=8.0&entry.465472354=6&entry.1596096319=Yes&entry.1091771499=7&entry.1559684315=8&entry.479603624=6&entry.2057345672=Yes&entry.2115832627=9&entry.1505214318=9&entry.33730306=10%2B&entry.1039248229=Easy&entry.1594355609=Helpful&entry.2005802697=Somewhat%20Comfortable&entry.781768819=Helpful&entry.830724702=Helpful&entry.1380670412=Likely&entry.1239224858=No&entry.108809019=Explainability%2C%20Real-time%20Updates\n",
      "12 https://docs.google.com/forms/d/e/1FAIpQLSdsrXIbkxPPCjFNYJeRnPa8CvEnV3AbIsBntoWUuUDLODph5w/viewform?usp=pp_url&entry.1533067892=7DODLWHP&entry.75952468=Northern%20Illinois%20University%20%2C%20Masters%20in%20Computer%20Science%20&entry.1504275618=2.0&entry.1086062394=2&entry.349748918=Automation%20Products&entry.83499645=Yes&entry.1259450664=9&entry.2131194762=9.0&entry.465472354=4&entry.1596096319=Yes&entry.1091771499=9&entry.1559684315=9&entry.479603624=4&entry.2057345672=Yes&entry.2115832627=9&entry.1505214318=9&entry.33730306=6&entry.1039248229=Easy&entry.1594355609=Helpful&entry.2005802697=Comfortable&entry.781768819=Helpful&entry.830724702=Helpful&entry.1380670412=Very%20likely&entry.1239224858=No&entry.108809019=\n",
      "13 https://docs.google.com/forms/d/e/1FAIpQLSdsrXIbkxPPCjFNYJeRnPa8CvEnV3AbIsBntoWUuUDLODph5w/viewform?usp=pp_url&entry.1533067892=RAQES0UP&entry.75952468=Masters%20in%20Computer%20Science&entry.1504275618=&entry.1086062394=&entry.349748918=Tech&entry.83499645=Yes&entry.1259450664=7&entry.2131194762=6.0&entry.465472354=2&entry.1596096319=Yes&entry.1091771499=7&entry.1559684315=7&entry.479603624=2&entry.2057345672=Yes&entry.2115832627=8&entry.1505214318=7&entry.33730306=2&entry.1039248229=Easy&entry.1594355609=Helpful&entry.2005802697=Somewhat%20Comfortable&entry.781768819=Helpful&entry.830724702=Don%E2%80%99t%20know&entry.1380670412=Neutral&entry.1239224858=no&entry.108809019=Good%2Cbut%20it%20would%20be%20very%20helpful%20if%20you%20explain%20more%20in%20the%20google%20form\n",
      "14 https://docs.google.com/forms/d/e/1FAIpQLSdsrXIbkxPPCjFNYJeRnPa8CvEnV3AbIsBntoWUuUDLODph5w/viewform?usp=pp_url&entry.1533067892=PJXYT528&entry.75952468=NIU%2C%20Ms.CS&entry.1504275618=0.0&entry.1086062394=2&entry.349748918=Medical%20and%20Tech&entry.83499645=No&entry.1259450664=9&entry.2131194762=8.0&entry.465472354=6&entry.1596096319=Yes&entry.1091771499=10&entry.1559684315=9&entry.479603624=4&entry.2057345672=No&entry.2115832627=9&entry.1505214318=8&entry.33730306=6&entry.1039248229=Easy&entry.1594355609=Helpful&entry.2005802697=Very%20comfortable&entry.781768819=Very%20helpful&entry.830724702=Helpful&entry.1380670412=Very%20likely&entry.1239224858=The%20initial%20dataset%20identification%20is%20not%20done%20by%20the%20consumer/user%20instead%20it%20is%20mentioned%20in%20this%20questionnaire.%20So%20it%20is%20little%20difficult%20to%20direct%20to%20the%20accurate%20dataset%20which%20we%20are%20searching%20for.%20It%20could%20have%20been%20made%20little%20more%20clear%20to%20the%20user%2C%20so%20that%20user%20finds%20the%20tool%20more%20helpful.&entry.108809019=The%20tool%20is%20pretty%20good%20to%20use%20and%20analyze%20the%20datasets%20and%20its%20very%20user%20friendly%20too.\n"
     ]
    }
   ],
   "source": [
    "list_of_links = []\n",
    "for i, row in enumerate(variant2_df_yes.values):\n",
    "    sample_link = \"\"\"https://docs.google.com/forms/d/e/1FAIpQLSdsrXIbkxPPCjFNYJeRnPa8CvEnV3AbIsBntoWUuUDLODph5w/viewform?usp=pp_url&entry.1533067892=t&entry.75952468=t&entry.1504275618=t&entry.1086062394=t&entry.349748918=t&entry.83499645=Yes&entry.1259450664=1&entry.2131194762=1&entry.465472354=1&entry.1596096319=Yes&entry.1091771499=1&entry.1559684315=1&entry.479603624=1&entry.2057345672=Yes&entry.2115832627=1&entry.1505214318=1&entry.33730306=1&entry.1039248229=Very+easy&entry.1594355609=Very+helpful&entry.2005802697=Very+comfortable&entry.781768819=Very+helpful&entry.830724702=Very+helpful&entry.1380670412=Very+unlikely&entry.1239224858=t&entry.108809019=t\"\"\"\n",
    "    sample_link = re.sub(r'(&entry\\.\\d+=)([^&]+)', r'\\1XFOND', sample_link)\n",
    "    xfond_count = sample_link.count('XFOND')\n",
    "\n",
    "    data_1 = list(row[1:])\n",
    "    # chnage nan to empty string\n",
    "    data_1 = ['' if str(x) == 'nan' else x for x in data_1]\n",
    "    # print(data_1)\n",
    "    if xfond_count != len(data_1):\n",
    "        # print(data_1)\n",
    "        raise ValueError(\"The count of 'XFOND' does not match the length of data_1\")\n",
    "\n",
    "    # Replace 'XFOND' with elements from data_1\n",
    "    for i, item in enumerate(data_1):\n",
    "        sample_link = re.sub(r'XFOND', quote(str(item)), sample_link, count=1)\n",
    "    list_of_links.append(sample_link)\n",
    "    # print(i + 1, row)\n",
    "    # print()\n",
    "for i, el in enumerate(list_of_links):\n",
    "     print(i + 1, el)"
   ]
  },
  {
   "cell_type": "code",
   "execution_count": 7,
   "metadata": {},
   "outputs": [
    {
     "name": "stdout",
     "output_type": "stream",
     "text": [
      "1    https://docs.google.com/forms/d/e/1FAIpQLSeluhxn1zw894B_JzcFOo8apSb_A5St2igptHkIwZ6VWIj5wg/viewform?usp=pp_url&entry.1533067892=7YDHSLNM&entry.75952468=Northern%20Illinois%20University%2C%20Masters&entry.1504275618=2.0&entry.1086062394=2&entry.349748918=Tech&entry.83499645=Yes&entry.1259450664=10&entry.2131194762=9.0&entry.465472354=2&entry.1596096319=Yes&entry.1091771499=10&entry.1559684315=10&entry.479603624=1&entry.2057345672=Yes&entry.2115832627=10&entry.1505214318=9&entry.33730306=2&entry.1039248229=Very%20easy&entry.1594355609=Helpful&entry.2005802697=Very%20comfortable&entry.781768819=Very%20helpful&entry.830724702=Very%20helpful&entry.1380670412=Likely&entry.1239224858=&entry.108809019=\n",
      "2    https://docs.google.com/forms/d/e/1FAIpQLSeluhxn1zw894B_JzcFOo8apSb_A5St2igptHkIwZ6VWIj5wg/viewform?usp=pp_url&entry.1533067892=JWZ91KHC&entry.75952468=NIU%20Computer%20Science%20%28Graduate%29&entry.1504275618=0.0&entry.1086062394=2&entry.349748918=Car%20Manufacturing%2C%20Programming&entry.83499645=Yes&entry.1259450664=9&entry.2131194762=9.0&entry.465472354=2&entry.1596096319=No&entry.1091771499=9&entry.1559684315=8&entry.479603624=6&entry.2057345672=Yes&entry.2115832627=10&entry.1505214318=10&entry.33730306=4&entry.1039248229=Easy&entry.1594355609=Very%20helpful&entry.2005802697=Comfortable&entry.781768819=Very%20helpful&entry.830724702=Helpful&entry.1380670412=Likely&entry.1239224858=No&entry.108809019=\n",
      "3    https://docs.google.com/forms/d/e/1FAIpQLSeluhxn1zw894B_JzcFOo8apSb_A5St2igptHkIwZ6VWIj5wg/viewform?usp=pp_url&entry.1533067892=NM2YD5NX&entry.75952468=Graduate&entry.1504275618=6.0&entry.1086062394=1&entry.349748918=Tech&entry.83499645=Yes&entry.1259450664=9&entry.2131194762=8.0&entry.465472354=10%2B&entry.1596096319=No&entry.1091771499=7&entry.1559684315=9&entry.479603624=4&entry.2057345672=Yes&entry.2115832627=10&entry.1505214318=10&entry.33730306=2&entry.1039248229=Easy&entry.1594355609=Helpful&entry.2005802697=Comfortable&entry.781768819=Helpful&entry.830724702=Helpful&entry.1380670412=Likely&entry.1239224858=Scrolling%20up%20or%20down%20the%20images%20in%20vizAISE%20would%20sometimes%20scroll%20the%20description%20of%20the%20image%20if%20the%20mouse%20happened%20to%20be%20near%20the%20description%27s%20scroll%20bar.&entry.108809019=Maybe%20have%20the%20whole%20description%20show%20underneath%20the%20image%2C%20even%20if%20it%20may%20take%20more%20space%20vertically.%20If%20the%20images%20don%27t%20need%20to%20be%20horizontally%20level%2C%20then%20empty%20vertical%20space%20from%20shorter%20descriptions%20could%20be%20vertically%20moved%20in%20from%20the%20next%20images%20%28with%20descriptions%29%20to%20fill%20those%20voids.\n",
      "4    https://docs.google.com/forms/d/e/1FAIpQLSeluhxn1zw894B_JzcFOo8apSb_A5St2igptHkIwZ6VWIj5wg/viewform?usp=pp_url&entry.1533067892=7OW6R6HO&entry.75952468=NIU&entry.1504275618=2.0&entry.1086062394=2&entry.349748918=Insurance&entry.83499645=Yes&entry.1259450664=7&entry.2131194762=7.0&entry.465472354=2&entry.1596096319=Yes&entry.1091771499=7&entry.1559684315=7&entry.479603624=2&entry.2057345672=Yes&entry.2115832627=7&entry.1505214318=7&entry.33730306=4&entry.1039248229=Easy&entry.1594355609=Helpful&entry.2005802697=Comfortable&entry.781768819=Helpful&entry.830724702=Helpful&entry.1380670412=Likely&entry.1239224858=No&entry.108809019=%20it%20is%20very%20helpful\n",
      "5    https://docs.google.com/forms/d/e/1FAIpQLSeluhxn1zw894B_JzcFOo8apSb_A5St2igptHkIwZ6VWIj5wg/viewform?usp=pp_url&entry.1533067892=SII4ON8C&entry.75952468=NIU%20MSCS&entry.1504275618=&entry.1086062394=1&entry.349748918=Technical&entry.83499645=Yes&entry.1259450664=7&entry.2131194762=7.0&entry.465472354=10%2B&entry.1596096319=Yes&entry.1091771499=7&entry.1559684315=7&entry.479603624=10%2B&entry.2057345672=Yes&entry.2115832627=7&entry.1505214318=7&entry.33730306=10%2B&entry.1039248229=Easy&entry.1594355609=Helpful&entry.2005802697=Comfortable&entry.781768819=Helpful&entry.830724702=Helpful&entry.1380670412=Neutral&entry.1239224858=No&entry.108809019=\n",
      "6    https://docs.google.com/forms/d/e/1FAIpQLSeluhxn1zw894B_JzcFOo8apSb_A5St2igptHkIwZ6VWIj5wg/viewform?usp=pp_url&entry.1533067892=YRGQI1ZT&entry.75952468=NIU%2C%20Ms%20CS&entry.1504275618=10.0&entry.1086062394=&entry.349748918=Technical&entry.83499645=Yes&entry.1259450664=7&entry.2131194762=7.0&entry.465472354=4&entry.1596096319=Yes&entry.1091771499=6&entry.1559684315=7&entry.479603624=4&entry.2057345672=Yes&entry.2115832627=7&entry.1505214318=7&entry.33730306=4&entry.1039248229=Easy&entry.1594355609=Very%20helpful&entry.2005802697=Very%20comfortable&entry.781768819=Helpful&entry.830724702=Helpful&entry.1380670412=Likely&entry.1239224858=No&entry.108809019=\n",
      "7    https://docs.google.com/forms/d/e/1FAIpQLSeluhxn1zw894B_JzcFOo8apSb_A5St2igptHkIwZ6VWIj5wg/viewform?usp=pp_url&entry.1533067892=MLV9TGVE&entry.75952468=Bachelor%20of%20Engineering&entry.1504275618=0.0&entry.1086062394=0&entry.349748918=0&entry.83499645=Yes&entry.1259450664=9&entry.2131194762=8.0&entry.465472354=6&entry.1596096319=Yes&entry.1091771499=7&entry.1559684315=8&entry.479603624=6&entry.2057345672=Yes&entry.2115832627=9&entry.1505214318=9&entry.33730306=10%2B&entry.1039248229=Easy&entry.1594355609=Helpful&entry.2005802697=Somewhat%20Comfortable&entry.781768819=Helpful&entry.830724702=Helpful&entry.1380670412=Likely&entry.1239224858=No&entry.108809019=Explainability%2C%20Real-time%20Updates\n",
      "8    https://docs.google.com/forms/d/e/1FAIpQLSeluhxn1zw894B_JzcFOo8apSb_A5St2igptHkIwZ6VWIj5wg/viewform?usp=pp_url&entry.1533067892=FLOE1S7D&entry.75952468=NIU%20Masters&entry.1504275618=0.0&entry.1086062394=0&entry.349748918=technical&entry.83499645=No&entry.1259450664=9&entry.2131194762=10.0&entry.465472354=6&entry.1596096319=No&entry.1091771499=10&entry.1559684315=9&entry.479603624=6&entry.2057345672=Yes&entry.2115832627=10&entry.1505214318=10&entry.33730306=2&entry.1039248229=Easy&entry.1594355609=Very%20helpful&entry.2005802697=Very%20comfortable&entry.781768819=Very%20helpful&entry.830724702=Very%20helpful&entry.1380670412=Likely&entry.1239224858=by%20%20doing%20manually%20there%20is%20a%20problem%20of%20confusion%20due%20to%20similarity%20of%20locations.%20technically%20everything%20alright.&entry.108809019=really%20good%20application%20\n",
      "9    https://docs.google.com/forms/d/e/1FAIpQLSeluhxn1zw894B_JzcFOo8apSb_A5St2igptHkIwZ6VWIj5wg/viewform?usp=pp_url&entry.1533067892=7DODLWHP&entry.75952468=Northern%20Illinois%20University%20%2C%20Masters%20in%20Computer%20Science%20&entry.1504275618=2.0&entry.1086062394=2&entry.349748918=Automation%20Products&entry.83499645=Yes&entry.1259450664=9&entry.2131194762=9.0&entry.465472354=4&entry.1596096319=Yes&entry.1091771499=9&entry.1559684315=9&entry.479603624=4&entry.2057345672=Yes&entry.2115832627=9&entry.1505214318=9&entry.33730306=6&entry.1039248229=Easy&entry.1594355609=Helpful&entry.2005802697=Comfortable&entry.781768819=Helpful&entry.830724702=Helpful&entry.1380670412=Very%20likely&entry.1239224858=No&entry.108809019=\n",
      "10    https://docs.google.com/forms/d/e/1FAIpQLSeluhxn1zw894B_JzcFOo8apSb_A5St2igptHkIwZ6VWIj5wg/viewform?usp=pp_url&entry.1533067892=Z85EGI03&entry.75952468=Northern%20Illinois%20University%2C%20Master%27s%20in%20CS&entry.1504275618=0.0&entry.1086062394=0&entry.349748918=Tech&entry.83499645=No&entry.1259450664=8&entry.2131194762=2.0&entry.465472354=4&entry.1596096319=No&entry.1091771499=8&entry.1559684315=2&entry.479603624=4&entry.2057345672=Yes&entry.2115832627=9&entry.1505214318=10&entry.33730306=2&entry.1039248229=Very%20easy&entry.1594355609=Very%20helpful&entry.2005802697=Comfortable&entry.781768819=Very%20helpful&entry.830724702=Very%20helpful&entry.1380670412=Very%20likely&entry.1239224858=no&entry.108809019=\n",
      "11    https://docs.google.com/forms/d/e/1FAIpQLSeluhxn1zw894B_JzcFOo8apSb_A5St2igptHkIwZ6VWIj5wg/viewform?usp=pp_url&entry.1533067892=RAQES0UP&entry.75952468=Masters%20in%20Computer%20Science&entry.1504275618=&entry.1086062394=&entry.349748918=Tech&entry.83499645=Yes&entry.1259450664=7&entry.2131194762=6.0&entry.465472354=2&entry.1596096319=Yes&entry.1091771499=7&entry.1559684315=7&entry.479603624=2&entry.2057345672=Yes&entry.2115832627=8&entry.1505214318=7&entry.33730306=2&entry.1039248229=Easy&entry.1594355609=Helpful&entry.2005802697=Somewhat%20Comfortable&entry.781768819=Helpful&entry.830724702=Don%E2%80%99t%20know&entry.1380670412=Neutral&entry.1239224858=no&entry.108809019=Good%2Cbut%20it%20would%20be%20very%20helpful%20if%20you%20explain%20more%20in%20the%20google%20form\n",
      "12    https://docs.google.com/forms/d/e/1FAIpQLSeluhxn1zw894B_JzcFOo8apSb_A5St2igptHkIwZ6VWIj5wg/viewform?usp=pp_url&entry.1533067892=USWK66RU&entry.75952468=Northern%20Illinois%20University%2C%20Masters%20in%20Computer%20Science&entry.1504275618=2.5&entry.1086062394=2.5&entry.349748918=Tech&entry.83499645=No&entry.1259450664=2&entry.2131194762=3.0&entry.465472354=4&entry.1596096319=No&entry.1091771499=4&entry.1559684315=4&entry.479603624=2&entry.2057345672=Yes&entry.2115832627=10&entry.1505214318=10&entry.33730306=1&entry.1039248229=Very%20easy&entry.1594355609=Helpful&entry.2005802697=Very%20comfortable&entry.781768819=Very%20helpful&entry.830724702=Very%20helpful&entry.1380670412=Likely&entry.1239224858=Images%20by%20the%20tool%20explains%20the%20variant%20very%20well%2C%20only%20for%20very%20few%20of%20the%20images%20I%20had%20to%20read%20the%20description%20written%20on%20the%20image%20%20to%20get%20what%20it%20is%20about.%20&entry.108809019=I%20see%20within%20one%20single%20collection%20%28for%20example%20urban%20mobility%29%20there%20are%20different%20types%20of%20images%20like%2C%20railway%20junctions%2C%20bus%20stations%2C%20pedestrian%20walkways.%20Maybe%20grouping%20them%20within%20a%20collection%20would%20be%20helpful%20to%20identify%20the%20different%20ideas%20better.%20\n",
      "13    https://docs.google.com/forms/d/e/1FAIpQLSeluhxn1zw894B_JzcFOo8apSb_A5St2igptHkIwZ6VWIj5wg/viewform?usp=pp_url&entry.1533067892=E4BIVDCO&entry.75952468=Northern%20Illinois%20University%2C%20MS&entry.1504275618=3.0&entry.1086062394=3&entry.349748918=Tech%20%28Telecommunications%29&entry.83499645=No&entry.1259450664=9&entry.2131194762=10.0&entry.465472354=4&entry.1596096319=No&entry.1091771499=10&entry.1559684315=10&entry.479603624=2&entry.2057345672=Yes&entry.2115832627=10&entry.1505214318=10&entry.33730306=2&entry.1039248229=Very%20easy&entry.1594355609=Helpful&entry.2005802697=Comfortable&entry.781768819=Helpful&entry.830724702=Very%20helpful&entry.1380670412=Likely&entry.1239224858=&entry.108809019=Because%20my%20laptop%20screen%20is%20not%20that%20big%2C%20I%20had%20to%20zoom%20the%20Observable%20webpage%20and%20once%20I%20zoomed%20the%20whole%20page%20was%20kind%20of%20reset%20so%20I%20lost%20track%20of%20the%20images%20I%20already%20had%20checked.%20Also%20the%20visible%20raw%20codes%20were%20a%20little%20bit%20distracting%20for%20me.\n",
      "14    https://docs.google.com/forms/d/e/1FAIpQLSeluhxn1zw894B_JzcFOo8apSb_A5St2igptHkIwZ6VWIj5wg/viewform?usp=pp_url&entry.1533067892=QJRV35HU&entry.75952468=NIU%2C%20Ms.CS&entry.1504275618=0.0&entry.1086062394=2&entry.349748918=Tech-Salesforce&entry.83499645=Yes&entry.1259450664=10&entry.2131194762=9.0&entry.465472354=4&entry.1596096319=No&entry.1091771499=9&entry.1559684315=8&entry.479603624=6&entry.2057345672=Yes&entry.2115832627=9&entry.1505214318=9&entry.33730306=4&entry.1039248229=Very%20easy&entry.1594355609=Very%20helpful&entry.2005802697=Very%20comfortable&entry.781768819=Very%20helpful&entry.830724702=Very%20helpful&entry.1380670412=Very%20likely&entry.1239224858=&entry.108809019=\n"
     ]
    }
   ],
   "source": [
    "list_of_links = []\n",
    "for i, row in enumerate(variant3_df_yes.values):\n",
    "    sample_link = \"\"\"https://docs.google.com/forms/d/e/1FAIpQLSeluhxn1zw894B_JzcFOo8apSb_A5St2igptHkIwZ6VWIj5wg/viewform?usp=pp_url&entry.1533067892=t&entry.75952468=t&entry.1504275618=t&entry.1086062394=t&entry.349748918=t&entry.83499645=Yes&entry.1259450664=1&entry.2131194762=1&entry.465472354=1&entry.1596096319=Yes&entry.1091771499=1&entry.1559684315=1&entry.479603624=1&entry.2057345672=Yes&entry.2115832627=1&entry.1505214318=1&entry.33730306=1&entry.1039248229=Very+easy&entry.1594355609=Very+helpful&entry.2005802697=Very+comfortable&entry.781768819=Very+helpful&entry.830724702=Very+helpful&entry.1380670412=Very+unlikely&entry.1239224858=t&entry.108809019=t\"\"\"\n",
    "    sample_link = re.sub(r'(&entry\\.\\d+=)([^&]+)', r'\\1XFOND', sample_link)\n",
    "    xfond_count = sample_link.count('XFOND')\n",
    "\n",
    "    data_1 = list(row[1:])\n",
    "    # chnage nan to empty string\n",
    "    data_1 = ['' if str(x) == 'nan' else x for x in data_1]\n",
    "    # print(data_1)\n",
    "    if xfond_count != len(data_1):\n",
    "        # print(data_1)\n",
    "        raise ValueError(\"The count of 'XFOND' does not match the length of data_1\")\n",
    "\n",
    "    # Replace 'XFOND' with elements from data_1\n",
    "    for i, item in enumerate(data_1):\n",
    "        sample_link = re.sub(r'XFOND', quote(str(item)), sample_link, count=1)\n",
    "    list_of_links.append(sample_link)\n",
    "    # print(i + 1, row)\n",
    "    # print()\n",
    "for i, el in enumerate(list_of_links):\n",
    "     print(i + 1, el)"
   ]
  },
  {
   "cell_type": "code",
   "execution_count": 8,
   "metadata": {},
   "outputs": [
    {
     "name": "stdout",
     "output_type": "stream",
     "text": [
      "1 https://docs.google.com/forms/d/e/1FAIpQLSeuhxCAbbsNozQv4o3RvEbqJ-tTHBARB-q048XcAVvzc8wiVw/viewform?usp=pp_url&entry.1533067892=2IHTVE2L&entry.75952468=northern%20illinois%20university%2C%20%20MS%2C%20CSE&entry.1504275618=0.0&entry.1086062394=1&entry.349748918=Data%20science&entry.83499645=No&entry.1259450664=6&entry.2131194762=8.0&entry.465472354=4&entry.1596096319=Yes&entry.1091771499=8&entry.1559684315=7&entry.479603624=2&entry.2057345672=No&entry.2115832627=5&entry.1505214318=4&entry.33730306=4&entry.1039248229=Easy&entry.1594355609=Very%20helpful&entry.2005802697=Very%20comfortable&entry.781768819=Very%20helpful&entry.830724702=Helpful&entry.1380670412=Very%20likely&entry.1239224858=it%27s%20hard%20to%20identify%20without%20tool&entry.108809019=\n",
      "2 https://docs.google.com/forms/d/e/1FAIpQLSeuhxCAbbsNozQv4o3RvEbqJ-tTHBARB-q048XcAVvzc8wiVw/viewform?usp=pp_url&entry.1533067892=DA6CFYTV&entry.75952468=Master%27s%20in%20Computer%20Science%20%20at%20Northern%20Illinois%20University&entry.1504275618=1.5&entry.1086062394=1.5&entry.349748918=Tech&entry.83499645=No&entry.1259450664=6&entry.2131194762=8.0&entry.465472354=10%2B&entry.1596096319=Yes&entry.1091771499=8&entry.1559684315=9&entry.479603624=6&entry.2057345672=No&entry.2115832627=7&entry.1505214318=6&entry.33730306=8&entry.1039248229=Easy&entry.1594355609=Helpful&entry.2005802697=Comfortable&entry.781768819=Very%20helpful&entry.830724702=Helpful&entry.1380670412=Likely&entry.1239224858=It%20is%20difficult%20to%20identify%20manually%2C%20as%20we%20need%20to%20identify%20which%20image%20represents%20which%20variant.&entry.108809019=\n",
      "3 https://docs.google.com/forms/d/e/1FAIpQLSeuhxCAbbsNozQv4o3RvEbqJ-tTHBARB-q048XcAVvzc8wiVw/viewform?usp=pp_url&entry.1533067892=9T7EC4BZ&entry.75952468=Masters%20in%20Computer%20Science%2C%20Northern%20Illinois%20University&entry.1504275618=1.5&entry.1086062394=1.5&entry.349748918=Front%20end%20development&entry.83499645=No&entry.1259450664=8&entry.2131194762=9.0&entry.465472354=6&entry.1596096319=Yes&entry.1091771499=9&entry.1559684315=9&entry.479603624=6&entry.2057345672=No&entry.2115832627=8&entry.1505214318=6&entry.33730306=4&entry.1039248229=Easy&entry.1594355609=Very%20helpful&entry.2005802697=Comfortable&entry.781768819=Very%20helpful&entry.830724702=Helpful&entry.1380670412=Likely&entry.1239224858=no&entry.108809019=the%20scroll%20for%20all%20the%20images%20does%20not%20fit%20the%20screen%2C%20manually%20having%20to%20move%20up%20and%20down%20is%20less%20userfriendly\n",
      "4 https://docs.google.com/forms/d/e/1FAIpQLSeuhxCAbbsNozQv4o3RvEbqJ-tTHBARB-q048XcAVvzc8wiVw/viewform?usp=pp_url&entry.1533067892=SGI5TIYO&entry.75952468=Northern%20Illinois%20University%2C%20Masters&entry.1504275618=2.0&entry.1086062394=1.5&entry.349748918=Banking&entry.83499645=No&entry.1259450664=8&entry.2131194762=8.0&entry.465472354=8&entry.1596096319=Yes&entry.1091771499=8&entry.1559684315=9&entry.479603624=2&entry.2057345672=No&entry.2115832627=9&entry.1505214318=8&entry.33730306=8&entry.1039248229=Very%20easy&entry.1594355609=Helpful&entry.2005802697=Comfortable&entry.781768819=Helpful&entry.830724702=Helpful&entry.1380670412=Very%20likely&entry.1239224858=&entry.108809019=\n",
      "5 https://docs.google.com/forms/d/e/1FAIpQLSeuhxCAbbsNozQv4o3RvEbqJ-tTHBARB-q048XcAVvzc8wiVw/viewform?usp=pp_url&entry.1533067892=4K1ABTCX&entry.75952468=NIU%2C%20Master%27s%20in%20CS&entry.1504275618=0.0&entry.1086062394=12%20months&entry.349748918=Tech&entry.83499645=No&entry.1259450664=3&entry.2131194762=&entry.465472354=&entry.1596096319=Yes&entry.1091771499=9&entry.1559684315=8&entry.479603624=2&entry.2057345672=No&entry.2115832627=9&entry.1505214318=8&entry.33730306=2&entry.1039248229=Very%20easy&entry.1594355609=Very%20helpful&entry.2005802697=Very%20comfortable&entry.781768819=Very%20helpful&entry.830724702=Very%20helpful&entry.1380670412=Likely&entry.1239224858=&entry.108809019=\n",
      "6 https://docs.google.com/forms/d/e/1FAIpQLSeuhxCAbbsNozQv4o3RvEbqJ-tTHBARB-q048XcAVvzc8wiVw/viewform?usp=pp_url&entry.1533067892=FLOE1S7D&entry.75952468=NIU%20Masters&entry.1504275618=0.0&entry.1086062394=0&entry.349748918=technical&entry.83499645=No&entry.1259450664=9&entry.2131194762=10.0&entry.465472354=6&entry.1596096319=No&entry.1091771499=10&entry.1559684315=9&entry.479603624=6&entry.2057345672=Yes&entry.2115832627=10&entry.1505214318=10&entry.33730306=2&entry.1039248229=Easy&entry.1594355609=Very%20helpful&entry.2005802697=Very%20comfortable&entry.781768819=Very%20helpful&entry.830724702=Very%20helpful&entry.1380670412=Likely&entry.1239224858=by%20%20doing%20manually%20there%20is%20a%20problem%20of%20confusion%20due%20to%20similarity%20of%20locations.%20technically%20everything%20alright.&entry.108809019=really%20good%20application%20\n",
      "7 https://docs.google.com/forms/d/e/1FAIpQLSeuhxCAbbsNozQv4o3RvEbqJ-tTHBARB-q048XcAVvzc8wiVw/viewform?usp=pp_url&entry.1533067892=Z85EGI03&entry.75952468=Northern%20Illinois%20University%2C%20Master%27s%20in%20CS&entry.1504275618=0.0&entry.1086062394=0&entry.349748918=Tech&entry.83499645=No&entry.1259450664=8&entry.2131194762=2.0&entry.465472354=4&entry.1596096319=No&entry.1091771499=8&entry.1559684315=2&entry.479603624=4&entry.2057345672=Yes&entry.2115832627=9&entry.1505214318=10&entry.33730306=2&entry.1039248229=Very%20easy&entry.1594355609=Very%20helpful&entry.2005802697=Comfortable&entry.781768819=Very%20helpful&entry.830724702=Very%20helpful&entry.1380670412=Very%20likely&entry.1239224858=no&entry.108809019=\n",
      "8 https://docs.google.com/forms/d/e/1FAIpQLSeuhxCAbbsNozQv4o3RvEbqJ-tTHBARB-q048XcAVvzc8wiVw/viewform?usp=pp_url&entry.1533067892=USWK66RU&entry.75952468=Northern%20Illinois%20University%2C%20Masters%20in%20Computer%20Science&entry.1504275618=2.5&entry.1086062394=2.5&entry.349748918=Tech&entry.83499645=No&entry.1259450664=2&entry.2131194762=3.0&entry.465472354=4&entry.1596096319=No&entry.1091771499=4&entry.1559684315=4&entry.479603624=2&entry.2057345672=Yes&entry.2115832627=10&entry.1505214318=10&entry.33730306=1&entry.1039248229=Very%20easy&entry.1594355609=Helpful&entry.2005802697=Very%20comfortable&entry.781768819=Very%20helpful&entry.830724702=Very%20helpful&entry.1380670412=Likely&entry.1239224858=Images%20by%20the%20tool%20explains%20the%20variant%20very%20well%2C%20only%20for%20very%20few%20of%20the%20images%20I%20had%20to%20read%20the%20description%20written%20on%20the%20image%20%20to%20get%20what%20it%20is%20about.%20&entry.108809019=I%20see%20within%20one%20single%20collection%20%28for%20example%20urban%20mobility%29%20there%20are%20different%20types%20of%20images%20like%2C%20railway%20junctions%2C%20bus%20stations%2C%20pedestrian%20walkways.%20Maybe%20grouping%20them%20within%20a%20collection%20would%20be%20helpful%20to%20identify%20the%20different%20ideas%20better.%20\n",
      "9 https://docs.google.com/forms/d/e/1FAIpQLSeuhxCAbbsNozQv4o3RvEbqJ-tTHBARB-q048XcAVvzc8wiVw/viewform?usp=pp_url&entry.1533067892=E4BIVDCO&entry.75952468=Northern%20Illinois%20University%2C%20MS&entry.1504275618=3.0&entry.1086062394=3&entry.349748918=Tech%20%28Telecommunications%29&entry.83499645=No&entry.1259450664=9&entry.2131194762=10.0&entry.465472354=4&entry.1596096319=No&entry.1091771499=10&entry.1559684315=10&entry.479603624=2&entry.2057345672=Yes&entry.2115832627=10&entry.1505214318=10&entry.33730306=2&entry.1039248229=Very%20easy&entry.1594355609=Helpful&entry.2005802697=Comfortable&entry.781768819=Helpful&entry.830724702=Very%20helpful&entry.1380670412=Likely&entry.1239224858=&entry.108809019=Because%20my%20laptop%20screen%20is%20not%20that%20big%2C%20I%20had%20to%20zoom%20the%20Observable%20webpage%20and%20once%20I%20zoomed%20the%20whole%20page%20was%20kind%20of%20reset%20so%20I%20lost%20track%20of%20the%20images%20I%20already%20had%20checked.%20Also%20the%20visible%20raw%20codes%20were%20a%20little%20bit%20distracting%20for%20me.\n",
      "10 https://docs.google.com/forms/d/e/1FAIpQLSeuhxCAbbsNozQv4o3RvEbqJ-tTHBARB-q048XcAVvzc8wiVw/viewform?usp=pp_url&entry.1533067892=PJXYT528&entry.75952468=NIU%2C%20Ms.CS&entry.1504275618=0.0&entry.1086062394=2&entry.349748918=Medical%20and%20Tech&entry.83499645=No&entry.1259450664=9&entry.2131194762=8.0&entry.465472354=6&entry.1596096319=Yes&entry.1091771499=10&entry.1559684315=9&entry.479603624=4&entry.2057345672=No&entry.2115832627=9&entry.1505214318=8&entry.33730306=6&entry.1039248229=Easy&entry.1594355609=Helpful&entry.2005802697=Very%20comfortable&entry.781768819=Very%20helpful&entry.830724702=Helpful&entry.1380670412=Very%20likely&entry.1239224858=The%20initial%20dataset%20identification%20is%20not%20done%20by%20the%20consumer/user%20instead%20it%20is%20mentioned%20in%20this%20questionnaire.%20So%20it%20is%20little%20difficult%20to%20direct%20to%20the%20accurate%20dataset%20which%20we%20are%20searching%20for.%20It%20could%20have%20been%20made%20little%20more%20clear%20to%20the%20user%2C%20so%20that%20user%20finds%20the%20tool%20more%20helpful.&entry.108809019=The%20tool%20is%20pretty%20good%20to%20use%20and%20analyze%20the%20datasets%20and%20its%20very%20user%20friendly%20too.\n"
     ]
    }
   ],
   "source": [
    "list_of_links = []\n",
    "for i, row in enumerate(variant1_df_no.values):\n",
    "    sample_link = \"\"\"https://docs.google.com/forms/d/e/1FAIpQLSeuhxCAbbsNozQv4o3RvEbqJ-tTHBARB-q048XcAVvzc8wiVw/viewform?usp=pp_url&entry.1533067892=t&entry.75952468=t&entry.1504275618=t&entry.1086062394=t&entry.349748918=t&entry.83499645=Yes&entry.1259450664=1&entry.2131194762=1&entry.465472354=1&entry.1596096319=Yes&entry.1091771499=1&entry.1559684315=1&entry.479603624=1&entry.2057345672=Yes&entry.2115832627=1&entry.1505214318=1&entry.33730306=1&entry.1039248229=Very+easy&entry.1594355609=Very+helpful&entry.2005802697=Very+comfortable&entry.781768819=Very+helpful&entry.830724702=Very+helpful&entry.1380670412=Very+unlikely&entry.1239224858=t&entry.108809019=t\"\"\"\n",
    "\n",
    "    sample_link = re.sub(r'(&entry\\.\\d+=)([^&]+)', r'\\1XFOND', sample_link)\n",
    "    xfond_count = sample_link.count('XFOND')\n",
    "\n",
    "    data_1 = list(row[1:])\n",
    "    # chnage nan to empty string\n",
    "    data_1 = ['' if str(x) == 'nan' else x for x in data_1]\n",
    "    # print(data_1)\n",
    "    if xfond_count != len(data_1):\n",
    "        # print(data_1)\n",
    "        raise ValueError(\"The count of 'XFOND' does not match the length of data_1\")\n",
    "\n",
    "    # Replace 'XFOND' with elements from data_1\n",
    "    for i, item in enumerate(data_1):\n",
    "        sample_link = re.sub(r'XFOND', quote(str(item)), sample_link, count=1)\n",
    "    list_of_links.append(sample_link)\n",
    "    # print(i + 1, row)\n",
    "    # print()\n",
    "for i, el in enumerate(list_of_links):\n",
    "     print(i + 1, el)"
   ]
  },
  {
   "cell_type": "code",
   "execution_count": 10,
   "metadata": {},
   "outputs": [
    {
     "name": "stdout",
     "output_type": "stream",
     "text": [
      "1 https://docs.google.com/forms/d/e/1FAIpQLSe_7q-9YCQ7gRLLoqA0CDR161PDUtKEoPqVpLidF_GK0BlliA/viewform?usp=pp_url&entry.1533067892=JWZ91KHC&entry.75952468=NIU%20Computer%20Science%20%28Graduate%29&entry.1504275618=0.0&entry.1086062394=2&entry.349748918=Car%20Manufacturing%2C%20Programming&entry.83499645=Yes&entry.1259450664=9&entry.2131194762=9.0&entry.465472354=2&entry.1596096319=No&entry.1091771499=9&entry.1559684315=8&entry.479603624=6&entry.2057345672=Yes&entry.2115832627=10&entry.1505214318=10&entry.33730306=4&entry.1039248229=Easy&entry.1594355609=Very%20helpful&entry.2005802697=Comfortable&entry.781768819=Very%20helpful&entry.830724702=Helpful&entry.1380670412=Likely&entry.1239224858=No&entry.108809019=\n",
      "2 https://docs.google.com/forms/d/e/1FAIpQLSe_7q-9YCQ7gRLLoqA0CDR161PDUtKEoPqVpLidF_GK0BlliA/viewform?usp=pp_url&entry.1533067892=NM2YD5NX&entry.75952468=Graduate&entry.1504275618=6.0&entry.1086062394=1&entry.349748918=Tech&entry.83499645=Yes&entry.1259450664=9&entry.2131194762=8.0&entry.465472354=10%2B&entry.1596096319=No&entry.1091771499=7&entry.1559684315=9&entry.479603624=4&entry.2057345672=Yes&entry.2115832627=10&entry.1505214318=10&entry.33730306=2&entry.1039248229=Easy&entry.1594355609=Helpful&entry.2005802697=Comfortable&entry.781768819=Helpful&entry.830724702=Helpful&entry.1380670412=Likely&entry.1239224858=Scrolling%20up%20or%20down%20the%20images%20in%20vizAISE%20would%20sometimes%20scroll%20the%20description%20of%20the%20image%20if%20the%20mouse%20happened%20to%20be%20near%20the%20description%27s%20scroll%20bar.&entry.108809019=Maybe%20have%20the%20whole%20description%20show%20underneath%20the%20image%2C%20even%20if%20it%20may%20take%20more%20space%20vertically.%20If%20the%20images%20don%27t%20need%20to%20be%20horizontally%20level%2C%20then%20empty%20vertical%20space%20from%20shorter%20descriptions%20could%20be%20vertically%20moved%20in%20from%20the%20next%20images%20%28with%20descriptions%29%20to%20fill%20those%20voids.\n",
      "3 https://docs.google.com/forms/d/e/1FAIpQLSe_7q-9YCQ7gRLLoqA0CDR161PDUtKEoPqVpLidF_GK0BlliA/viewform?usp=pp_url&entry.1533067892=FLOE1S7D&entry.75952468=NIU%20Masters&entry.1504275618=0.0&entry.1086062394=0&entry.349748918=technical&entry.83499645=No&entry.1259450664=9&entry.2131194762=10.0&entry.465472354=6&entry.1596096319=No&entry.1091771499=10&entry.1559684315=9&entry.479603624=6&entry.2057345672=Yes&entry.2115832627=10&entry.1505214318=10&entry.33730306=2&entry.1039248229=Easy&entry.1594355609=Very%20helpful&entry.2005802697=Very%20comfortable&entry.781768819=Very%20helpful&entry.830724702=Very%20helpful&entry.1380670412=Likely&entry.1239224858=by%20%20doing%20manually%20there%20is%20a%20problem%20of%20confusion%20due%20to%20similarity%20of%20locations.%20technically%20everything%20alright.&entry.108809019=really%20good%20application%20\n",
      "4 https://docs.google.com/forms/d/e/1FAIpQLSe_7q-9YCQ7gRLLoqA0CDR161PDUtKEoPqVpLidF_GK0BlliA/viewform?usp=pp_url&entry.1533067892=ZBR6TZL3&entry.75952468=Masters&entry.1504275618=3.0&entry.1086062394=&entry.349748918=Software%20development%20&entry.83499645=Yes&entry.1259450664=9&entry.2131194762=9.0&entry.465472354=4&entry.1596096319=No&entry.1091771499=8&entry.1559684315=8&entry.479603624=6&entry.2057345672=No&entry.2115832627=8&entry.1505214318=8&entry.33730306=6&entry.1039248229=Very%20easy&entry.1594355609=Very%20helpful&entry.2005802697=Very%20comfortable&entry.781768819=Very%20helpful&entry.830724702=Helpful&entry.1380670412=Very%20likely&entry.1239224858=No&entry.108809019=\n",
      "5 https://docs.google.com/forms/d/e/1FAIpQLSe_7q-9YCQ7gRLLoqA0CDR161PDUtKEoPqVpLidF_GK0BlliA/viewform?usp=pp_url&entry.1533067892=Z85EGI03&entry.75952468=Northern%20Illinois%20University%2C%20Master%27s%20in%20CS&entry.1504275618=0.0&entry.1086062394=0&entry.349748918=Tech&entry.83499645=No&entry.1259450664=8&entry.2131194762=2.0&entry.465472354=4&entry.1596096319=No&entry.1091771499=8&entry.1559684315=2&entry.479603624=4&entry.2057345672=Yes&entry.2115832627=9&entry.1505214318=10&entry.33730306=2&entry.1039248229=Very%20easy&entry.1594355609=Very%20helpful&entry.2005802697=Comfortable&entry.781768819=Very%20helpful&entry.830724702=Very%20helpful&entry.1380670412=Very%20likely&entry.1239224858=no&entry.108809019=\n",
      "6 https://docs.google.com/forms/d/e/1FAIpQLSe_7q-9YCQ7gRLLoqA0CDR161PDUtKEoPqVpLidF_GK0BlliA/viewform?usp=pp_url&entry.1533067892=USWK66RU&entry.75952468=Northern%20Illinois%20University%2C%20Masters%20in%20Computer%20Science&entry.1504275618=2.5&entry.1086062394=2.5&entry.349748918=Tech&entry.83499645=No&entry.1259450664=2&entry.2131194762=3.0&entry.465472354=4&entry.1596096319=No&entry.1091771499=4&entry.1559684315=4&entry.479603624=2&entry.2057345672=Yes&entry.2115832627=10&entry.1505214318=10&entry.33730306=1&entry.1039248229=Very%20easy&entry.1594355609=Helpful&entry.2005802697=Very%20comfortable&entry.781768819=Very%20helpful&entry.830724702=Very%20helpful&entry.1380670412=Likely&entry.1239224858=Images%20by%20the%20tool%20explains%20the%20variant%20very%20well%2C%20only%20for%20very%20few%20of%20the%20images%20I%20had%20to%20read%20the%20description%20written%20on%20the%20image%20%20to%20get%20what%20it%20is%20about.%20&entry.108809019=I%20see%20within%20one%20single%20collection%20%28for%20example%20urban%20mobility%29%20there%20are%20different%20types%20of%20images%20like%2C%20railway%20junctions%2C%20bus%20stations%2C%20pedestrian%20walkways.%20Maybe%20grouping%20them%20within%20a%20collection%20would%20be%20helpful%20to%20identify%20the%20different%20ideas%20better.%20\n",
      "7 https://docs.google.com/forms/d/e/1FAIpQLSe_7q-9YCQ7gRLLoqA0CDR161PDUtKEoPqVpLidF_GK0BlliA/viewform?usp=pp_url&entry.1533067892=U46OQOOT&entry.75952468=&entry.1504275618=&entry.1086062394=&entry.349748918=&entry.83499645=Yes&entry.1259450664=8&entry.2131194762=8.0&entry.465472354=6&entry.1596096319=No&entry.1091771499=8&entry.1559684315=8&entry.479603624=8&entry.2057345672=No&entry.2115832627=8&entry.1505214318=7&entry.33730306=10%2B&entry.1039248229=Easy&entry.1594355609=Helpful&entry.2005802697=Comfortable&entry.781768819=Helpful&entry.830724702=Don%E2%80%99t%20know&entry.1380670412=Very%20likely&entry.1239224858=&entry.108809019=\n",
      "8 https://docs.google.com/forms/d/e/1FAIpQLSe_7q-9YCQ7gRLLoqA0CDR161PDUtKEoPqVpLidF_GK0BlliA/viewform?usp=pp_url&entry.1533067892=E4BIVDCO&entry.75952468=Northern%20Illinois%20University%2C%20MS&entry.1504275618=3.0&entry.1086062394=3&entry.349748918=Tech%20%28Telecommunications%29&entry.83499645=No&entry.1259450664=9&entry.2131194762=10.0&entry.465472354=4&entry.1596096319=No&entry.1091771499=10&entry.1559684315=10&entry.479603624=2&entry.2057345672=Yes&entry.2115832627=10&entry.1505214318=10&entry.33730306=2&entry.1039248229=Very%20easy&entry.1594355609=Helpful&entry.2005802697=Comfortable&entry.781768819=Helpful&entry.830724702=Very%20helpful&entry.1380670412=Likely&entry.1239224858=&entry.108809019=Because%20my%20laptop%20screen%20is%20not%20that%20big%2C%20I%20had%20to%20zoom%20the%20Observable%20webpage%20and%20once%20I%20zoomed%20the%20whole%20page%20was%20kind%20of%20reset%20so%20I%20lost%20track%20of%20the%20images%20I%20already%20had%20checked.%20Also%20the%20visible%20raw%20codes%20were%20a%20little%20bit%20distracting%20for%20me.\n",
      "9 https://docs.google.com/forms/d/e/1FAIpQLSe_7q-9YCQ7gRLLoqA0CDR161PDUtKEoPqVpLidF_GK0BlliA/viewform?usp=pp_url&entry.1533067892=QJRV35HU&entry.75952468=NIU%2C%20Ms.CS&entry.1504275618=0.0&entry.1086062394=2&entry.349748918=Tech-Salesforce&entry.83499645=Yes&entry.1259450664=10&entry.2131194762=9.0&entry.465472354=4&entry.1596096319=No&entry.1091771499=9&entry.1559684315=8&entry.479603624=6&entry.2057345672=Yes&entry.2115832627=9&entry.1505214318=9&entry.33730306=4&entry.1039248229=Very%20easy&entry.1594355609=Very%20helpful&entry.2005802697=Very%20comfortable&entry.781768819=Very%20helpful&entry.830724702=Very%20helpful&entry.1380670412=Very%20likely&entry.1239224858=&entry.108809019=\n"
     ]
    }
   ],
   "source": [
    "list_of_links = []\n",
    "for i, row in enumerate(variant2_df_no.values):\n",
    "    sample_link = \"\"\"https://docs.google.com/forms/d/e/1FAIpQLSe_7q-9YCQ7gRLLoqA0CDR161PDUtKEoPqVpLidF_GK0BlliA/viewform?usp=pp_url&entry.1533067892=t&entry.75952468=t&entry.1504275618=t&entry.1086062394=t&entry.349748918=t&entry.83499645=Yes&entry.1259450664=1&entry.2131194762=1&entry.465472354=1&entry.1596096319=Yes&entry.1091771499=1&entry.1559684315=1&entry.479603624=1&entry.2057345672=Yes&entry.2115832627=1&entry.1505214318=1&entry.33730306=1&entry.1039248229=Very+easy&entry.1594355609=Very+helpful&entry.2005802697=Very+comfortable&entry.781768819=Very+helpful&entry.830724702=Very+helpful&entry.1380670412=Very+unlikely&entry.1239224858=t&entry.108809019=t\"\"\"\n",
    "    sample_link = re.sub(r'(&entry\\.\\d+=)([^&]+)', r'\\1XFOND', sample_link)\n",
    "    xfond_count = sample_link.count('XFOND')\n",
    "\n",
    "    data_1 = list(row[1:])\n",
    "    # chnage nan to empty string\n",
    "    data_1 = ['' if str(x) == 'nan' else x for x in data_1]\n",
    "    # print(data_1)\n",
    "    if xfond_count != len(data_1):\n",
    "        # print(data_1)\n",
    "        raise ValueError(\"The count of 'XFOND' does not match the length of data_1\")\n",
    "\n",
    "    # Replace 'XFOND' with elements from data_1\n",
    "    for i, item in enumerate(data_1):\n",
    "        sample_link = re.sub(r'XFOND', quote(str(item)), sample_link, count=1)\n",
    "    list_of_links.append(sample_link)\n",
    "    # print(i + 1, row)\n",
    "    # print()\n",
    "for i, el in enumerate(list_of_links):\n",
    "     print(i + 1, el)"
   ]
  },
  {
   "cell_type": "code",
   "execution_count": 11,
   "metadata": {},
   "outputs": [
    {
     "name": "stdout",
     "output_type": "stream",
     "text": [
      "1 https://docs.google.com/forms/d/e/1FAIpQLSdkmZu6w83O38SsRC28VmPtZXvl4mpXe61oW1vXLjSDR9F1wQ/viewform?usp=pp_url&entry.1533067892=2IHTVE2L&entry.75952468=northern%20illinois%20university%2C%20%20MS%2C%20CSE&entry.1504275618=0.0&entry.1086062394=1&entry.349748918=Data%20science&entry.83499645=No&entry.1259450664=6&entry.2131194762=8.0&entry.465472354=4&entry.1596096319=Yes&entry.1091771499=8&entry.1559684315=7&entry.479603624=2&entry.2057345672=No&entry.2115832627=5&entry.1505214318=4&entry.33730306=4&entry.1039248229=Easy&entry.1594355609=Very%20helpful&entry.2005802697=Very%20comfortable&entry.781768819=Very%20helpful&entry.830724702=Helpful&entry.1380670412=Very%20likely&entry.1239224858=it%27s%20hard%20to%20identify%20without%20tool&entry.108809019=\n",
      "2 https://docs.google.com/forms/d/e/1FAIpQLSdkmZu6w83O38SsRC28VmPtZXvl4mpXe61oW1vXLjSDR9F1wQ/viewform?usp=pp_url&entry.1533067892=DA6CFYTV&entry.75952468=Master%27s%20in%20Computer%20Science%20%20at%20Northern%20Illinois%20University&entry.1504275618=1.5&entry.1086062394=1.5&entry.349748918=Tech&entry.83499645=No&entry.1259450664=6&entry.2131194762=8.0&entry.465472354=10%2B&entry.1596096319=Yes&entry.1091771499=8&entry.1559684315=9&entry.479603624=6&entry.2057345672=No&entry.2115832627=7&entry.1505214318=6&entry.33730306=8&entry.1039248229=Easy&entry.1594355609=Helpful&entry.2005802697=Comfortable&entry.781768819=Very%20helpful&entry.830724702=Helpful&entry.1380670412=Likely&entry.1239224858=It%20is%20difficult%20to%20identify%20manually%2C%20as%20we%20need%20to%20identify%20which%20image%20represents%20which%20variant.&entry.108809019=\n",
      "3 https://docs.google.com/forms/d/e/1FAIpQLSdkmZu6w83O38SsRC28VmPtZXvl4mpXe61oW1vXLjSDR9F1wQ/viewform?usp=pp_url&entry.1533067892=9T7EC4BZ&entry.75952468=Masters%20in%20Computer%20Science%2C%20Northern%20Illinois%20University&entry.1504275618=1.5&entry.1086062394=1.5&entry.349748918=Front%20end%20development&entry.83499645=No&entry.1259450664=8&entry.2131194762=9.0&entry.465472354=6&entry.1596096319=Yes&entry.1091771499=9&entry.1559684315=9&entry.479603624=6&entry.2057345672=No&entry.2115832627=8&entry.1505214318=6&entry.33730306=4&entry.1039248229=Easy&entry.1594355609=Very%20helpful&entry.2005802697=Comfortable&entry.781768819=Very%20helpful&entry.830724702=Helpful&entry.1380670412=Likely&entry.1239224858=no&entry.108809019=the%20scroll%20for%20all%20the%20images%20does%20not%20fit%20the%20screen%2C%20manually%20having%20to%20move%20up%20and%20down%20is%20less%20userfriendly\n",
      "4 https://docs.google.com/forms/d/e/1FAIpQLSdkmZu6w83O38SsRC28VmPtZXvl4mpXe61oW1vXLjSDR9F1wQ/viewform?usp=pp_url&entry.1533067892=SGI5TIYO&entry.75952468=Northern%20Illinois%20University%2C%20Masters&entry.1504275618=2.0&entry.1086062394=1.5&entry.349748918=Banking&entry.83499645=No&entry.1259450664=8&entry.2131194762=8.0&entry.465472354=8&entry.1596096319=Yes&entry.1091771499=8&entry.1559684315=9&entry.479603624=2&entry.2057345672=No&entry.2115832627=9&entry.1505214318=8&entry.33730306=8&entry.1039248229=Very%20easy&entry.1594355609=Helpful&entry.2005802697=Comfortable&entry.781768819=Helpful&entry.830724702=Helpful&entry.1380670412=Very%20likely&entry.1239224858=&entry.108809019=\n",
      "5 https://docs.google.com/forms/d/e/1FAIpQLSdkmZu6w83O38SsRC28VmPtZXvl4mpXe61oW1vXLjSDR9F1wQ/viewform?usp=pp_url&entry.1533067892=4K1ABTCX&entry.75952468=NIU%2C%20Master%27s%20in%20CS&entry.1504275618=0.0&entry.1086062394=12%20months&entry.349748918=Tech&entry.83499645=No&entry.1259450664=3&entry.2131194762=&entry.465472354=&entry.1596096319=Yes&entry.1091771499=9&entry.1559684315=8&entry.479603624=2&entry.2057345672=No&entry.2115832627=9&entry.1505214318=8&entry.33730306=2&entry.1039248229=Very%20easy&entry.1594355609=Very%20helpful&entry.2005802697=Very%20comfortable&entry.781768819=Very%20helpful&entry.830724702=Very%20helpful&entry.1380670412=Likely&entry.1239224858=&entry.108809019=\n",
      "6 https://docs.google.com/forms/d/e/1FAIpQLSdkmZu6w83O38SsRC28VmPtZXvl4mpXe61oW1vXLjSDR9F1wQ/viewform?usp=pp_url&entry.1533067892=X4NY89GT&entry.75952468=NIU%2C%20MS%20in%20CS&entry.1504275618=1.1&entry.1086062394=1.1&entry.349748918=Tech&entry.83499645=Yes&entry.1259450664=9&entry.2131194762=10.0&entry.465472354=6&entry.1596096319=Yes&entry.1091771499=9&entry.1559684315=9&entry.479603624=6&entry.2057345672=No&entry.2115832627=10&entry.1505214318=9&entry.33730306=6&entry.1039248229=Very%20easy&entry.1594355609=Helpful&entry.2005802697=Somewhat%20Comfortable&entry.781768819=Helpful&entry.830724702=Helpful&entry.1380670412=Very%20likely&entry.1239224858=NO&entry.108809019=\n",
      "7 https://docs.google.com/forms/d/e/1FAIpQLSdkmZu6w83O38SsRC28VmPtZXvl4mpXe61oW1vXLjSDR9F1wQ/viewform?usp=pp_url&entry.1533067892=ZBR6TZL3&entry.75952468=Masters&entry.1504275618=3.0&entry.1086062394=&entry.349748918=Software%20development%20&entry.83499645=Yes&entry.1259450664=9&entry.2131194762=9.0&entry.465472354=4&entry.1596096319=No&entry.1091771499=8&entry.1559684315=8&entry.479603624=6&entry.2057345672=No&entry.2115832627=8&entry.1505214318=8&entry.33730306=6&entry.1039248229=Very%20easy&entry.1594355609=Very%20helpful&entry.2005802697=Very%20comfortable&entry.781768819=Very%20helpful&entry.830724702=Helpful&entry.1380670412=Very%20likely&entry.1239224858=No&entry.108809019=\n",
      "8 https://docs.google.com/forms/d/e/1FAIpQLSdkmZu6w83O38SsRC28VmPtZXvl4mpXe61oW1vXLjSDR9F1wQ/viewform?usp=pp_url&entry.1533067892=U46OQOOT&entry.75952468=&entry.1504275618=&entry.1086062394=&entry.349748918=&entry.83499645=Yes&entry.1259450664=8&entry.2131194762=8.0&entry.465472354=6&entry.1596096319=No&entry.1091771499=8&entry.1559684315=8&entry.479603624=8&entry.2057345672=No&entry.2115832627=8&entry.1505214318=7&entry.33730306=10%2B&entry.1039248229=Easy&entry.1594355609=Helpful&entry.2005802697=Comfortable&entry.781768819=Helpful&entry.830724702=Don%E2%80%99t%20know&entry.1380670412=Very%20likely&entry.1239224858=&entry.108809019=\n",
      "9 https://docs.google.com/forms/d/e/1FAIpQLSdkmZu6w83O38SsRC28VmPtZXvl4mpXe61oW1vXLjSDR9F1wQ/viewform?usp=pp_url&entry.1533067892=PJXYT528&entry.75952468=NIU%2C%20Ms.CS&entry.1504275618=0.0&entry.1086062394=2&entry.349748918=Medical%20and%20Tech&entry.83499645=No&entry.1259450664=9&entry.2131194762=8.0&entry.465472354=6&entry.1596096319=Yes&entry.1091771499=10&entry.1559684315=9&entry.479603624=4&entry.2057345672=No&entry.2115832627=9&entry.1505214318=8&entry.33730306=6&entry.1039248229=Easy&entry.1594355609=Helpful&entry.2005802697=Very%20comfortable&entry.781768819=Very%20helpful&entry.830724702=Helpful&entry.1380670412=Very%20likely&entry.1239224858=The%20initial%20dataset%20identification%20is%20not%20done%20by%20the%20consumer/user%20instead%20it%20is%20mentioned%20in%20this%20questionnaire.%20So%20it%20is%20little%20difficult%20to%20direct%20to%20the%20accurate%20dataset%20which%20we%20are%20searching%20for.%20It%20could%20have%20been%20made%20little%20more%20clear%20to%20the%20user%2C%20so%20that%20user%20finds%20the%20tool%20more%20helpful.&entry.108809019=The%20tool%20is%20pretty%20good%20to%20use%20and%20analyze%20the%20datasets%20and%20its%20very%20user%20friendly%20too.\n"
     ]
    }
   ],
   "source": [
    "list_of_links = []\n",
    "for i, row in enumerate(variant3_df_no.values):\n",
    "    sample_link = \"\"\"https://docs.google.com/forms/d/e/1FAIpQLSdkmZu6w83O38SsRC28VmPtZXvl4mpXe61oW1vXLjSDR9F1wQ/viewform?usp=pp_url&entry.1533067892=t&entry.75952468=t&entry.1504275618=t&entry.1086062394=t&entry.349748918=t&entry.83499645=Yes&entry.1259450664=1&entry.2131194762=1&entry.465472354=1&entry.1596096319=Yes&entry.1091771499=1&entry.1559684315=1&entry.479603624=1&entry.2057345672=Yes&entry.2115832627=1&entry.1505214318=1&entry.33730306=1&entry.1039248229=Very+easy&entry.1594355609=Very+helpful&entry.2005802697=Very+comfortable&entry.781768819=Very+helpful&entry.830724702=Very+helpful&entry.1380670412=Very+unlikely&entry.1239224858=t&entry.108809019=t\"\"\"\n",
    "    sample_link = re.sub(r'(&entry\\.\\d+=)([^&]+)', r'\\1XFOND', sample_link)\n",
    "    xfond_count = sample_link.count('XFOND')\n",
    "\n",
    "    data_1 = list(row[1:])\n",
    "    # chnage nan to empty string\n",
    "    data_1 = ['' if str(x) == 'nan' else x for x in data_1]\n",
    "    # print(data_1)\n",
    "    if xfond_count != len(data_1):\n",
    "        # print(data_1)\n",
    "        raise ValueError(\"The count of 'XFOND' does not match the length of data_1\")\n",
    "\n",
    "    # Replace 'XFOND' with elements from data_1\n",
    "    for i, item in enumerate(data_1):\n",
    "        sample_link = re.sub(r'XFOND', quote(str(item)), sample_link, count=1)\n",
    "    list_of_links.append(sample_link)\n",
    "    # print(i + 1, row)\n",
    "    # print()\n",
    "for i, el in enumerate(list_of_links):\n",
    "     print(i + 1, el)"
   ]
  },
  {
   "cell_type": "markdown",
   "metadata": {},
   "source": [
    "## AirCraft"
   ]
  },
  {
   "cell_type": "code",
   "execution_count": 14,
   "metadata": {},
   "outputs": [],
   "source": [
    "# read csv file into dataframe\n",
    "air_df = pd.read_csv('air_test.csv')\n",
    "# find all the columns which have Question 1: in their name\n",
    "q1_cols = [col for col in air_df.columns if 'Question 1: Are you using' in col]\n",
    "# change name of columns in q1_cols to variant + index + 1\n",
    "for i, col in enumerate(q1_cols):\n",
    "    air_df.rename(columns={col: 'variant' + str(i + 1)}, inplace=True)\n"
   ]
  },
  {
   "cell_type": "code",
   "execution_count": 15,
   "metadata": {},
   "outputs": [],
   "source": [
    "q2_cols = [col for col in air_df.columns if 'Question 2: How well did' in col]\n",
    "for i, col in enumerate(q2_cols):\n",
    "    air_df.rename(columns={col: 'variant' + str(i + 1)+ ' Q1'}, inplace=True)\n",
    "\n",
    "q3_cols = [col for col in air_df.columns if 'Question 3: What percentage of' in col]\n",
    "for i, col in enumerate(q3_cols):\n",
    "    air_df.rename(columns={col: 'variant' + str(i + 1)+ ' Q2'}, inplace=True)\n",
    "\n",
    "q4_cols = [col for col in air_df.columns if 'Question 4: How much time' in col]\n",
    "for i, col in enumerate(q4_cols):\n",
    "    air_df.rename(columns={col: 'variant' + str(i + 1)+ ' Q3'}, inplace=True)"
   ]
  },
  {
   "cell_type": "code",
   "execution_count": 168,
   "metadata": {},
   "outputs": [
    {
     "data": {
      "text/plain": [
       "Index(['Timestamp', 'Please enter your First and Last Name',\n",
       "       'Education? (University, Degree ...)',\n",
       "       'Years of experience in software development',\n",
       "       'Years of Experience in Industry',\n",
       "       'Types of Systems worked with (which domain e.g: Medical, Tech and etc. )',\n",
       "       'variant1', 'variant1 Q1', 'variant1 Q2', 'variant1 Q3', 'variant2',\n",
       "       'variant2 Q1', 'variant2 Q2', 'variant2 Q3', 'variant3', 'variant3 Q1',\n",
       "       'variant3 Q2', 'variant3 Q3',\n",
       "       'Question 1: To what extent did you find the provided dataset representations in tool clear and easy to understand?',\n",
       "       'Question 2: To what extent do you think the use of vizAISE helped you to better understand the dataset?',\n",
       "       'Question 3: How comfortable were you with navigating the tool's interface during the task?',\n",
       "       'Question 4: To what extent do you think the use of visAISE helped you in identifying the underrepresented variants more effectively than if you were to assess the dataset manually?',\n",
       "       'Question 5: To what extent do you think the use of visAISE, specifically the augmentation from online datasets, and linked features helped you understand the rationale of the change?',\n",
       "       'Question 6: Would you consider using this visualization tool in your future dataset analysis tasks?',\n",
       "       'Question 7: Did you encounter any challenges or difficulties in identifying the underrepresented concept variants? If yes, please specify.',\n",
       "       'Question 8: Please share any additional feedback, suggestions, or insights you have regarding the tool's usability, effectiveness, or potential areas for improvement.'],\n",
       "      dtype='object')"
      ]
     },
     "execution_count": 168,
     "metadata": {},
     "output_type": "execute_result"
    }
   ],
   "source": [
    "air_df.columns"
   ]
  },
  {
   "cell_type": "code",
   "execution_count": null,
   "metadata": {},
   "outputs": [],
   "source": [
    "# group by variant 1 value and have to seprate dataframes BASED on variant values\n",
    "variant1_df_yes = air_df.groupby('variant1').get_group('Yes')\n",
    "variant2_df_yes = air_df.groupby('variant2').get_group('Yes')\n",
    "variant3_df_yes = air_df.groupby('variant3').get_group('Yes')\n",
    "variant1_df_no = air_df.groupby('variant1').get_group('No')\n",
    "variant2_df_no = air_df.groupby('variant2').get_group('No')\n",
    "variant3_df_no = air_df.groupby('variant3').get_group('No')"
   ]
  },
  {
   "cell_type": "markdown",
   "metadata": {},
   "source": [
    "### Aircraft tables"
   ]
  },
  {
   "cell_type": "code",
   "execution_count": 16,
   "metadata": {},
   "outputs": [
    {
     "name": "stderr",
     "output_type": "stream",
     "text": [
      "/tmp/ipykernel_1396051/2946220034.py:8: SettingWithCopyWarning: \n",
      "A value is trying to be set on a copy of a slice from a DataFrame\n",
      "\n",
      "See the caveats in the documentation: https://pandas.pydata.org/pandas-docs/stable/user_guide/indexing.html#returning-a-view-versus-a-copy\n",
      "  tool_df.rename(columns={f'variant{idx} Q1': 'Q1', f'variant{idx} Q2': 'Q2', f'variant{idx} Q3': 'Q3'}, inplace=True)\n",
      "/tmp/ipykernel_1396051/2946220034.py:9: SettingWithCopyWarning: \n",
      "A value is trying to be set on a copy of a slice from a DataFrame\n",
      "\n",
      "See the caveats in the documentation: https://pandas.pydata.org/pandas-docs/stable/user_guide/indexing.html#returning-a-view-versus-a-copy\n",
      "  notool_df.rename(columns={f'variant{idx} Q1': 'NQ1', f'variant{idx} Q2': 'NQ2', f'variant{idx} Q3': 'NQ3'}, inplace=True)\n",
      "/tmp/ipykernel_1396051/2946220034.py:11: SettingWithCopyWarning: \n",
      "A value is trying to be set on a copy of a slice from a DataFrame\n",
      "\n",
      "See the caveats in the documentation: https://pandas.pydata.org/pandas-docs/stable/user_guide/indexing.html#returning-a-view-versus-a-copy\n",
      "  tool_df.replace('10+', 10, inplace=True)\n",
      "/tmp/ipykernel_1396051/2946220034.py:12: SettingWithCopyWarning: \n",
      "A value is trying to be set on a copy of a slice from a DataFrame\n",
      "\n",
      "See the caveats in the documentation: https://pandas.pydata.org/pandas-docs/stable/user_guide/indexing.html#returning-a-view-versus-a-copy\n",
      "  notool_df.replace('10+', 10, inplace=True)\n",
      "/tmp/ipykernel_1396051/2946220034.py:14: SettingWithCopyWarning: \n",
      "A value is trying to be set on a copy of a slice from a DataFrame\n",
      "\n",
      "See the caveats in the documentation: https://pandas.pydata.org/pandas-docs/stable/user_guide/indexing.html#returning-a-view-versus-a-copy\n",
      "  tool_df.dropna(inplace=True)\n",
      "/tmp/ipykernel_1396051/2946220034.py:15: SettingWithCopyWarning: \n",
      "A value is trying to be set on a copy of a slice from a DataFrame\n",
      "\n",
      "See the caveats in the documentation: https://pandas.pydata.org/pandas-docs/stable/user_guide/indexing.html#returning-a-view-versus-a-copy\n",
      "  notool_df.dropna(inplace=True)\n"
     ]
    },
    {
     "data": {
      "text/html": [
       "<div>\n",
       "<style scoped>\n",
       "    .dataframe tbody tr th:only-of-type {\n",
       "        vertical-align: middle;\n",
       "    }\n",
       "\n",
       "    .dataframe tbody tr th {\n",
       "        vertical-align: top;\n",
       "    }\n",
       "\n",
       "    .dataframe thead th {\n",
       "        text-align: right;\n",
       "    }\n",
       "</style>\n",
       "<table border=\"1\" class=\"dataframe\">\n",
       "  <thead>\n",
       "    <tr style=\"text-align: right;\">\n",
       "      <th></th>\n",
       "      <th>Q1</th>\n",
       "      <th>NQ1</th>\n",
       "      <th>Q2</th>\n",
       "      <th>NQ2</th>\n",
       "      <th>Q3</th>\n",
       "      <th>NQ3</th>\n",
       "    </tr>\n",
       "  </thead>\n",
       "  <tbody>\n",
       "    <tr>\n",
       "      <th>min</th>\n",
       "      <td>5.00</td>\n",
       "      <td>7.00</td>\n",
       "      <td>6.00</td>\n",
       "      <td>7.00</td>\n",
       "      <td>2.00</td>\n",
       "      <td>1.00</td>\n",
       "    </tr>\n",
       "    <tr>\n",
       "      <th>max</th>\n",
       "      <td>10.00</td>\n",
       "      <td>10.00</td>\n",
       "      <td>9.00</td>\n",
       "      <td>9.00</td>\n",
       "      <td>10.00</td>\n",
       "      <td>10.00</td>\n",
       "    </tr>\n",
       "    <tr>\n",
       "      <th>mean</th>\n",
       "      <td>8.08</td>\n",
       "      <td>8.50</td>\n",
       "      <td>8.08</td>\n",
       "      <td>8.00</td>\n",
       "      <td>4.62</td>\n",
       "      <td>4.80</td>\n",
       "    </tr>\n",
       "    <tr>\n",
       "      <th>std</th>\n",
       "      <td>1.32</td>\n",
       "      <td>1.08</td>\n",
       "      <td>1.04</td>\n",
       "      <td>0.82</td>\n",
       "      <td>2.75</td>\n",
       "      <td>3.12</td>\n",
       "    </tr>\n",
       "    <tr>\n",
       "      <th>25%</th>\n",
       "      <td>7.00</td>\n",
       "      <td>8.00</td>\n",
       "      <td>7.00</td>\n",
       "      <td>7.25</td>\n",
       "      <td>2.00</td>\n",
       "      <td>2.50</td>\n",
       "    </tr>\n",
       "    <tr>\n",
       "      <th>50%</th>\n",
       "      <td>8.00</td>\n",
       "      <td>8.50</td>\n",
       "      <td>8.00</td>\n",
       "      <td>8.00</td>\n",
       "      <td>4.00</td>\n",
       "      <td>4.00</td>\n",
       "    </tr>\n",
       "    <tr>\n",
       "      <th>75%</th>\n",
       "      <td>9.00</td>\n",
       "      <td>9.00</td>\n",
       "      <td>9.00</td>\n",
       "      <td>8.75</td>\n",
       "      <td>6.00</td>\n",
       "      <td>7.50</td>\n",
       "    </tr>\n",
       "    <tr>\n",
       "      <th>count</th>\n",
       "      <td>13.00</td>\n",
       "      <td>10.00</td>\n",
       "      <td>13.00</td>\n",
       "      <td>10.00</td>\n",
       "      <td>13.00</td>\n",
       "      <td>10.00</td>\n",
       "    </tr>\n",
       "  </tbody>\n",
       "</table>\n",
       "</div>"
      ],
      "text/plain": [
       "          Q1    NQ1     Q2    NQ2     Q3    NQ3\n",
       "min     5.00   7.00   6.00   7.00   2.00   1.00\n",
       "max    10.00  10.00   9.00   9.00  10.00  10.00\n",
       "mean    8.08   8.50   8.08   8.00   4.62   4.80\n",
       "std     1.32   1.08   1.04   0.82   2.75   3.12\n",
       "25%     7.00   8.00   7.00   7.25   2.00   2.50\n",
       "50%     8.00   8.50   8.00   8.00   4.00   4.00\n",
       "75%     9.00   9.00   9.00   8.75   6.00   7.50\n",
       "count  13.00  10.00  13.00  10.00  13.00  10.00"
      ]
     },
     "execution_count": 16,
     "metadata": {},
     "output_type": "execute_result"
    }
   ],
   "source": [
    "desc1 = get_variant(air_df, 'variant1', idx=1)\n",
    "desc1.to_csv('table4.csv', index=True, header=True, float_format='%.2f')\n",
    "desc1"
   ]
  },
  {
   "cell_type": "code",
   "execution_count": 131,
   "metadata": {},
   "outputs": [
    {
     "data": {
      "text/html": [
       "<div>\n",
       "<style scoped>\n",
       "    .dataframe tbody tr th:only-of-type {\n",
       "        vertical-align: middle;\n",
       "    }\n",
       "\n",
       "    .dataframe tbody tr th {\n",
       "        vertical-align: top;\n",
       "    }\n",
       "\n",
       "    .dataframe thead th {\n",
       "        text-align: right;\n",
       "    }\n",
       "</style>\n",
       "<table border=\"1\" class=\"dataframe\">\n",
       "  <thead>\n",
       "    <tr style=\"text-align: right;\">\n",
       "      <th></th>\n",
       "      <th>Q1</th>\n",
       "      <th>Q2</th>\n",
       "      <th>Q3</th>\n",
       "    </tr>\n",
       "  </thead>\n",
       "  <tbody>\n",
       "    <tr>\n",
       "      <th>0</th>\n",
       "      <td>8</td>\n",
       "      <td>9</td>\n",
       "      <td>4</td>\n",
       "    </tr>\n",
       "    <tr>\n",
       "      <th>1</th>\n",
       "      <td>10</td>\n",
       "      <td>9</td>\n",
       "      <td>2</td>\n",
       "    </tr>\n",
       "    <tr>\n",
       "      <th>4</th>\n",
       "      <td>7</td>\n",
       "      <td>7</td>\n",
       "      <td>10</td>\n",
       "    </tr>\n",
       "    <tr>\n",
       "      <th>5</th>\n",
       "      <td>8</td>\n",
       "      <td>9</td>\n",
       "      <td>2</td>\n",
       "    </tr>\n",
       "    <tr>\n",
       "      <th>6</th>\n",
       "      <td>7</td>\n",
       "      <td>6</td>\n",
       "      <td>6</td>\n",
       "    </tr>\n",
       "    <tr>\n",
       "      <th>7</th>\n",
       "      <td>7</td>\n",
       "      <td>7</td>\n",
       "      <td>4</td>\n",
       "    </tr>\n",
       "    <tr>\n",
       "      <th>8</th>\n",
       "      <td>9</td>\n",
       "      <td>8</td>\n",
       "      <td>2</td>\n",
       "    </tr>\n",
       "    <tr>\n",
       "      <th>9</th>\n",
       "      <td>9</td>\n",
       "      <td>9</td>\n",
       "      <td>4</td>\n",
       "    </tr>\n",
       "    <tr>\n",
       "      <th>11</th>\n",
       "      <td>8</td>\n",
       "      <td>8</td>\n",
       "      <td>4</td>\n",
       "    </tr>\n",
       "    <tr>\n",
       "      <th>13</th>\n",
       "      <td>9</td>\n",
       "      <td>9</td>\n",
       "      <td>10</td>\n",
       "    </tr>\n",
       "    <tr>\n",
       "      <th>16</th>\n",
       "      <td>9</td>\n",
       "      <td>8</td>\n",
       "      <td>6</td>\n",
       "    </tr>\n",
       "    <tr>\n",
       "      <th>17</th>\n",
       "      <td>5</td>\n",
       "      <td>7</td>\n",
       "      <td>2</td>\n",
       "    </tr>\n",
       "    <tr>\n",
       "      <th>22</th>\n",
       "      <td>9</td>\n",
       "      <td>9</td>\n",
       "      <td>4</td>\n",
       "    </tr>\n",
       "  </tbody>\n",
       "</table>\n",
       "</div>"
      ],
      "text/plain": [
       "    Q1  Q2  Q3\n",
       "0    8   9   4\n",
       "1   10   9   2\n",
       "4    7   7  10\n",
       "5    8   9   2\n",
       "6    7   6   6\n",
       "7    7   7   4\n",
       "8    9   8   2\n",
       "9    9   9   4\n",
       "11   8   8   4\n",
       "13   9   9  10\n",
       "16   9   8   6\n",
       "17   5   7   2\n",
       "22   9   9   4"
      ]
     },
     "execution_count": 131,
     "metadata": {},
     "output_type": "execute_result"
    }
   ],
   "source": [
    "variant1_df_yes = air_df.groupby('variant1').get_group('Yes')\n",
    "variant1_df_yes = variant1_df_yes[['variant1 Q1', 'variant1 Q2', 'variant1 Q3']]\n",
    "variant1_df_yes.rename(columns={'variant1 Q1': 'Q1', 'variant1 Q2': 'Q2', 'variant1 Q3': 'Q3'}, inplace=True)\n",
    "variant1_df_yes.replace('10+', 10, inplace=True)\n",
    "variant1_df_yes"
   ]
  },
  {
   "cell_type": "code",
   "execution_count": 133,
   "metadata": {},
   "outputs": [
    {
     "data": {
      "text/plain": [
       "13"
      ]
     },
     "execution_count": 133,
     "metadata": {},
     "output_type": "execute_result"
    }
   ],
   "source": [
    "len(variant1_df_yes)"
   ]
  },
  {
   "cell_type": "code",
   "execution_count": 132,
   "metadata": {},
   "outputs": [
    {
     "data": {
      "text/html": [
       "<div>\n",
       "<style scoped>\n",
       "    .dataframe tbody tr th:only-of-type {\n",
       "        vertical-align: middle;\n",
       "    }\n",
       "\n",
       "    .dataframe tbody tr th {\n",
       "        vertical-align: top;\n",
       "    }\n",
       "\n",
       "    .dataframe thead th {\n",
       "        text-align: right;\n",
       "    }\n",
       "</style>\n",
       "<table border=\"1\" class=\"dataframe\">\n",
       "  <thead>\n",
       "    <tr style=\"text-align: right;\">\n",
       "      <th></th>\n",
       "      <th>NQ1</th>\n",
       "      <th>NQ2</th>\n",
       "      <th>NQ3</th>\n",
       "    </tr>\n",
       "  </thead>\n",
       "  <tbody>\n",
       "    <tr>\n",
       "      <th>2</th>\n",
       "      <td>8</td>\n",
       "      <td>9</td>\n",
       "      <td>10</td>\n",
       "    </tr>\n",
       "    <tr>\n",
       "      <th>3</th>\n",
       "      <td>9</td>\n",
       "      <td>8</td>\n",
       "      <td>4</td>\n",
       "    </tr>\n",
       "    <tr>\n",
       "      <th>10</th>\n",
       "      <td>7</td>\n",
       "      <td>7</td>\n",
       "      <td>1</td>\n",
       "    </tr>\n",
       "    <tr>\n",
       "      <th>12</th>\n",
       "      <td>10</td>\n",
       "      <td>7</td>\n",
       "      <td>8</td>\n",
       "    </tr>\n",
       "    <tr>\n",
       "      <th>14</th>\n",
       "      <td>8</td>\n",
       "      <td>8</td>\n",
       "      <td>4</td>\n",
       "    </tr>\n",
       "    <tr>\n",
       "      <th>15</th>\n",
       "      <td>7</td>\n",
       "      <td>7</td>\n",
       "      <td>6</td>\n",
       "    </tr>\n",
       "    <tr>\n",
       "      <th>18</th>\n",
       "      <td>9</td>\n",
       "      <td>8</td>\n",
       "      <td>2</td>\n",
       "    </tr>\n",
       "    <tr>\n",
       "      <th>19</th>\n",
       "      <td>9</td>\n",
       "      <td>9</td>\n",
       "      <td>4</td>\n",
       "    </tr>\n",
       "    <tr>\n",
       "      <th>20</th>\n",
       "      <td>8</td>\n",
       "      <td>8</td>\n",
       "      <td>8</td>\n",
       "    </tr>\n",
       "    <tr>\n",
       "      <th>21</th>\n",
       "      <td>10</td>\n",
       "      <td>9</td>\n",
       "      <td>1</td>\n",
       "    </tr>\n",
       "  </tbody>\n",
       "</table>\n",
       "</div>"
      ],
      "text/plain": [
       "    NQ1  NQ2 NQ3\n",
       "2     8    9  10\n",
       "3     9    8   4\n",
       "10    7    7   1\n",
       "12   10    7   8\n",
       "14    8    8   4\n",
       "15    7    7   6\n",
       "18    9    8   2\n",
       "19    9    9   4\n",
       "20    8    8   8\n",
       "21   10    9   1"
      ]
     },
     "execution_count": 132,
     "metadata": {},
     "output_type": "execute_result"
    }
   ],
   "source": [
    "variant1_df_no = air_df.groupby('variant1').get_group('No')\n",
    "variant1_df_no = variant1_df_no[['variant1 Q1', 'variant1 Q2', 'variant1 Q3']]\n",
    "variant1_df_no.rename(columns={'variant1 Q1': 'NQ1', 'variant1 Q2': 'NQ2', 'variant1 Q3': 'NQ3'}, inplace=True)\n",
    "variant1_df_no.replace('10+', 10, inplace=True)\n",
    "variant1_df_no"
   ]
  },
  {
   "cell_type": "code",
   "execution_count": 134,
   "metadata": {},
   "outputs": [
    {
     "data": {
      "text/plain": [
       "10"
      ]
     },
     "execution_count": 134,
     "metadata": {},
     "output_type": "execute_result"
    }
   ],
   "source": [
    "len(variant1_df_no)"
   ]
  },
  {
   "cell_type": "code",
   "execution_count": 127,
   "metadata": {},
   "outputs": [],
   "source": [
    "import numpy as np"
   ]
  },
  {
   "cell_type": "code",
   "execution_count": 129,
   "metadata": {},
   "outputs": [
    {
     "name": "stdout",
     "output_type": "stream",
     "text": [
      "q1_mean:  8.076923076923077\n",
      "q2_mean:  8.076923076923077\n",
      "q3_mean:  4.615384615384615\n"
     ]
    }
   ],
   "source": [
    "q1 = [8, 10,7,8,7,7,9,9,8,9,9,5,9]\n",
    "q2 = [9,9,7,9,6,7,8,9,8,9,8,7,9]\n",
    "q3 = [4,2,10,2,6,4,2,4,4,10,6,2,4]\n",
    "# get mean of q1, q2, q3\n",
    "q1_mean = np.mean(q1)\n",
    "q2_mean = np.mean(q2)\n",
    "q3_mean = np.mean(q3)\n",
    "# get std of q1, q2, q3\n",
    "q1_std = np.std(q1)\n",
    "q2_std = np.std(q2)\n",
    "q3_std = np.std(q3)\n",
    "# print mean and std of q1, q2, q3\n",
    "print('q1_mean: ', q1_mean)\n",
    "print('q2_mean: ', q2_mean)\n",
    "print('q3_mean: ', q3_mean)"
   ]
  },
  {
   "cell_type": "code",
   "execution_count": 135,
   "metadata": {},
   "outputs": [
    {
     "name": "stdout",
     "output_type": "stream",
     "text": [
      "nq1_mean:  8.5\n",
      "nq2_mean:  8.0\n",
      "nq3_mean:  4.8\n"
     ]
    }
   ],
   "source": [
    "nq1 = [7,10,8,9,8,7,9,9,8,10]\n",
    "nq2 = [7,7,9,8,8,7,8,9,8,9]\n",
    "nq3 = [1,8,10,4,4,6,2,4,8,1]\n",
    "# get mean of nq1, nq2, nq3\n",
    "nq1_mean = np.mean(nq1)\n",
    "nq2_mean = np.mean(nq2)\n",
    "nq3_mean = np.mean(nq3)\n",
    "# print mean and std of nq1, nq2, nq3\n",
    "print('nq1_mean: ', nq1_mean)\n",
    "print('nq2_mean: ', nq2_mean)\n",
    "print('nq3_mean: ', nq3_mean)\n"
   ]
  },
  {
   "cell_type": "code",
   "execution_count": 137,
   "metadata": {},
   "outputs": [
    {
     "data": {
      "text/html": [
       "<div>\n",
       "<style scoped>\n",
       "    .dataframe tbody tr th:only-of-type {\n",
       "        vertical-align: middle;\n",
       "    }\n",
       "\n",
       "    .dataframe tbody tr th {\n",
       "        vertical-align: top;\n",
       "    }\n",
       "\n",
       "    .dataframe thead th {\n",
       "        text-align: right;\n",
       "    }\n",
       "</style>\n",
       "<table border=\"1\" class=\"dataframe\">\n",
       "  <thead>\n",
       "    <tr style=\"text-align: right;\">\n",
       "      <th></th>\n",
       "      <th>Q1</th>\n",
       "      <th>Q2</th>\n",
       "      <th>Q3</th>\n",
       "    </tr>\n",
       "  </thead>\n",
       "  <tbody>\n",
       "    <tr>\n",
       "      <th>1</th>\n",
       "      <td>10.0</td>\n",
       "      <td>9.0</td>\n",
       "      <td>2.0</td>\n",
       "    </tr>\n",
       "    <tr>\n",
       "      <th>2</th>\n",
       "      <td>8.0</td>\n",
       "      <td>9.0</td>\n",
       "      <td>10.0</td>\n",
       "    </tr>\n",
       "    <tr>\n",
       "      <th>3</th>\n",
       "      <td>9.0</td>\n",
       "      <td>8.0</td>\n",
       "      <td>4.0</td>\n",
       "    </tr>\n",
       "    <tr>\n",
       "      <th>4</th>\n",
       "      <td>7.0</td>\n",
       "      <td>7.0</td>\n",
       "      <td>10.0</td>\n",
       "    </tr>\n",
       "    <tr>\n",
       "      <th>6</th>\n",
       "      <td>7.0</td>\n",
       "      <td>6.0</td>\n",
       "      <td>6.0</td>\n",
       "    </tr>\n",
       "    <tr>\n",
       "      <th>7</th>\n",
       "      <td>7.0</td>\n",
       "      <td>7.0</td>\n",
       "      <td>4.0</td>\n",
       "    </tr>\n",
       "    <tr>\n",
       "      <th>10</th>\n",
       "      <td>7.0</td>\n",
       "      <td>7.0</td>\n",
       "      <td>1.0</td>\n",
       "    </tr>\n",
       "    <tr>\n",
       "      <th>13</th>\n",
       "      <td>9.0</td>\n",
       "      <td>9.0</td>\n",
       "      <td>10.0</td>\n",
       "    </tr>\n",
       "    <tr>\n",
       "      <th>15</th>\n",
       "      <td>7.0</td>\n",
       "      <td>7.0</td>\n",
       "      <td>6.0</td>\n",
       "    </tr>\n",
       "    <tr>\n",
       "      <th>17</th>\n",
       "      <td>5.0</td>\n",
       "      <td>7.0</td>\n",
       "      <td>2.0</td>\n",
       "    </tr>\n",
       "    <tr>\n",
       "      <th>18</th>\n",
       "      <td>9.0</td>\n",
       "      <td>8.0</td>\n",
       "      <td>2.0</td>\n",
       "    </tr>\n",
       "    <tr>\n",
       "      <th>21</th>\n",
       "      <td>10.0</td>\n",
       "      <td>9.0</td>\n",
       "      <td>1.0</td>\n",
       "    </tr>\n",
       "  </tbody>\n",
       "</table>\n",
       "</div>"
      ],
      "text/plain": [
       "      Q1   Q2    Q3\n",
       "1   10.0  9.0   2.0\n",
       "2    8.0  9.0  10.0\n",
       "3    9.0  8.0   4.0\n",
       "4    7.0  7.0  10.0\n",
       "6    7.0  6.0   6.0\n",
       "7    7.0  7.0   4.0\n",
       "10   7.0  7.0   1.0\n",
       "13   9.0  9.0  10.0\n",
       "15   7.0  7.0   6.0\n",
       "17   5.0  7.0   2.0\n",
       "18   9.0  8.0   2.0\n",
       "21  10.0  9.0   1.0"
      ]
     },
     "execution_count": 137,
     "metadata": {},
     "output_type": "execute_result"
    }
   ],
   "source": [
    "variant2_df_yes = air_df.groupby('variant2').get_group('Yes')\n",
    "variant2_df_yes = variant2_df_yes[['variant1 Q1', 'variant1 Q2', 'variant1 Q3']]\n",
    "variant2_df_yes.rename(columns={'variant1 Q1': 'Q1', 'variant1 Q2': 'Q2', 'variant1 Q3': 'Q3'}, inplace=True)\n",
    "variant2_df_yes.replace('10+', 10, inplace=True)\n",
    "variant2_df_yes.dropna(inplace=True)\n",
    "variant2_df_yes = variant2_df_yes.astype(float)\n",
    "variant2_df_yes"
   ]
  },
  {
   "cell_type": "code",
   "execution_count": 141,
   "metadata": {},
   "outputs": [
    {
     "data": {
      "text/html": [
       "<div>\n",
       "<style scoped>\n",
       "    .dataframe tbody tr th:only-of-type {\n",
       "        vertical-align: middle;\n",
       "    }\n",
       "\n",
       "    .dataframe tbody tr th {\n",
       "        vertical-align: top;\n",
       "    }\n",
       "\n",
       "    .dataframe thead th {\n",
       "        text-align: right;\n",
       "    }\n",
       "</style>\n",
       "<table border=\"1\" class=\"dataframe\">\n",
       "  <thead>\n",
       "    <tr style=\"text-align: right;\">\n",
       "      <th></th>\n",
       "      <th>Q1</th>\n",
       "      <th>Q2</th>\n",
       "      <th>Q3</th>\n",
       "    </tr>\n",
       "  </thead>\n",
       "  <tbody>\n",
       "    <tr>\n",
       "      <th>min</th>\n",
       "      <td>5.00</td>\n",
       "      <td>6.00</td>\n",
       "      <td>1.00</td>\n",
       "    </tr>\n",
       "    <tr>\n",
       "      <th>max</th>\n",
       "      <td>10.00</td>\n",
       "      <td>9.00</td>\n",
       "      <td>10.00</td>\n",
       "    </tr>\n",
       "    <tr>\n",
       "      <th>mean</th>\n",
       "      <td>7.92</td>\n",
       "      <td>7.75</td>\n",
       "      <td>4.83</td>\n",
       "    </tr>\n",
       "    <tr>\n",
       "      <th>std</th>\n",
       "      <td>1.51</td>\n",
       "      <td>1.06</td>\n",
       "      <td>3.54</td>\n",
       "    </tr>\n",
       "    <tr>\n",
       "      <th>25%</th>\n",
       "      <td>7.00</td>\n",
       "      <td>7.00</td>\n",
       "      <td>2.00</td>\n",
       "    </tr>\n",
       "    <tr>\n",
       "      <th>50%</th>\n",
       "      <td>7.50</td>\n",
       "      <td>7.50</td>\n",
       "      <td>4.00</td>\n",
       "    </tr>\n",
       "    <tr>\n",
       "      <th>75%</th>\n",
       "      <td>9.00</td>\n",
       "      <td>9.00</td>\n",
       "      <td>7.00</td>\n",
       "    </tr>\n",
       "  </tbody>\n",
       "</table>\n",
       "</div>"
      ],
      "text/plain": [
       "         Q1    Q2     Q3\n",
       "min    5.00  6.00   1.00\n",
       "max   10.00  9.00  10.00\n",
       "mean   7.92  7.75   4.83\n",
       "std    1.51  1.06   3.54\n",
       "25%    7.00  7.00   2.00\n",
       "50%    7.50  7.50   4.00\n",
       "75%    9.00  9.00   7.00"
      ]
     },
     "execution_count": 141,
     "metadata": {},
     "output_type": "execute_result"
    }
   ],
   "source": [
    "variant2_df_yes.describe().round(2).reindex(['min', 'max', 'mean', 'std', '25%', '50%', '75%'])"
   ]
  },
  {
   "cell_type": "code",
   "execution_count": 140,
   "metadata": {},
   "outputs": [
    {
     "data": {
      "text/html": [
       "<div>\n",
       "<style scoped>\n",
       "    .dataframe tbody tr th:only-of-type {\n",
       "        vertical-align: middle;\n",
       "    }\n",
       "\n",
       "    .dataframe tbody tr th {\n",
       "        vertical-align: top;\n",
       "    }\n",
       "\n",
       "    .dataframe thead th {\n",
       "        text-align: right;\n",
       "    }\n",
       "</style>\n",
       "<table border=\"1\" class=\"dataframe\">\n",
       "  <thead>\n",
       "    <tr style=\"text-align: right;\">\n",
       "      <th></th>\n",
       "      <th>NQ1</th>\n",
       "      <th>NQ2</th>\n",
       "      <th>NQ3</th>\n",
       "    </tr>\n",
       "  </thead>\n",
       "  <tbody>\n",
       "    <tr>\n",
       "      <th>0</th>\n",
       "      <td>8.0</td>\n",
       "      <td>9.0</td>\n",
       "      <td>4.0</td>\n",
       "    </tr>\n",
       "    <tr>\n",
       "      <th>5</th>\n",
       "      <td>8.0</td>\n",
       "      <td>9.0</td>\n",
       "      <td>2.0</td>\n",
       "    </tr>\n",
       "    <tr>\n",
       "      <th>8</th>\n",
       "      <td>9.0</td>\n",
       "      <td>8.0</td>\n",
       "      <td>2.0</td>\n",
       "    </tr>\n",
       "    <tr>\n",
       "      <th>9</th>\n",
       "      <td>9.0</td>\n",
       "      <td>9.0</td>\n",
       "      <td>4.0</td>\n",
       "    </tr>\n",
       "    <tr>\n",
       "      <th>11</th>\n",
       "      <td>8.0</td>\n",
       "      <td>8.0</td>\n",
       "      <td>4.0</td>\n",
       "    </tr>\n",
       "    <tr>\n",
       "      <th>12</th>\n",
       "      <td>10.0</td>\n",
       "      <td>7.0</td>\n",
       "      <td>8.0</td>\n",
       "    </tr>\n",
       "    <tr>\n",
       "      <th>14</th>\n",
       "      <td>8.0</td>\n",
       "      <td>8.0</td>\n",
       "      <td>4.0</td>\n",
       "    </tr>\n",
       "    <tr>\n",
       "      <th>16</th>\n",
       "      <td>9.0</td>\n",
       "      <td>8.0</td>\n",
       "      <td>6.0</td>\n",
       "    </tr>\n",
       "    <tr>\n",
       "      <th>19</th>\n",
       "      <td>9.0</td>\n",
       "      <td>9.0</td>\n",
       "      <td>4.0</td>\n",
       "    </tr>\n",
       "    <tr>\n",
       "      <th>20</th>\n",
       "      <td>8.0</td>\n",
       "      <td>8.0</td>\n",
       "      <td>8.0</td>\n",
       "    </tr>\n",
       "    <tr>\n",
       "      <th>22</th>\n",
       "      <td>9.0</td>\n",
       "      <td>9.0</td>\n",
       "      <td>4.0</td>\n",
       "    </tr>\n",
       "  </tbody>\n",
       "</table>\n",
       "</div>"
      ],
      "text/plain": [
       "     NQ1  NQ2  NQ3\n",
       "0    8.0  9.0  4.0\n",
       "5    8.0  9.0  2.0\n",
       "8    9.0  8.0  2.0\n",
       "9    9.0  9.0  4.0\n",
       "11   8.0  8.0  4.0\n",
       "12  10.0  7.0  8.0\n",
       "14   8.0  8.0  4.0\n",
       "16   9.0  8.0  6.0\n",
       "19   9.0  9.0  4.0\n",
       "20   8.0  8.0  8.0\n",
       "22   9.0  9.0  4.0"
      ]
     },
     "execution_count": 140,
     "metadata": {},
     "output_type": "execute_result"
    }
   ],
   "source": [
    "variant2_df_no = air_df.groupby('variant2').get_group('No')\n",
    "variant2_df_no = variant2_df_no[['variant1 Q1', 'variant1 Q2', 'variant1 Q3']]\n",
    "variant2_df_no.rename(columns={'variant1 Q1': 'NQ1', 'variant1 Q2': 'NQ2', 'variant1 Q3': 'NQ3'}, inplace=True)\n",
    "variant2_df_no.replace('10+', 10, inplace=True)\n",
    "variant2_df_no.dropna(inplace=True)\n",
    "variant2_df_no = variant2_df_no.astype(float)\n",
    "variant2_df_no"
   ]
  },
  {
   "cell_type": "code",
   "execution_count": 142,
   "metadata": {},
   "outputs": [
    {
     "data": {
      "text/html": [
       "<div>\n",
       "<style scoped>\n",
       "    .dataframe tbody tr th:only-of-type {\n",
       "        vertical-align: middle;\n",
       "    }\n",
       "\n",
       "    .dataframe tbody tr th {\n",
       "        vertical-align: top;\n",
       "    }\n",
       "\n",
       "    .dataframe thead th {\n",
       "        text-align: right;\n",
       "    }\n",
       "</style>\n",
       "<table border=\"1\" class=\"dataframe\">\n",
       "  <thead>\n",
       "    <tr style=\"text-align: right;\">\n",
       "      <th></th>\n",
       "      <th>NQ1</th>\n",
       "      <th>NQ2</th>\n",
       "      <th>NQ3</th>\n",
       "    </tr>\n",
       "  </thead>\n",
       "  <tbody>\n",
       "    <tr>\n",
       "      <th>min</th>\n",
       "      <td>8.00</td>\n",
       "      <td>7.00</td>\n",
       "      <td>2.00</td>\n",
       "    </tr>\n",
       "    <tr>\n",
       "      <th>max</th>\n",
       "      <td>10.00</td>\n",
       "      <td>9.00</td>\n",
       "      <td>8.00</td>\n",
       "    </tr>\n",
       "    <tr>\n",
       "      <th>mean</th>\n",
       "      <td>8.64</td>\n",
       "      <td>8.36</td>\n",
       "      <td>4.55</td>\n",
       "    </tr>\n",
       "    <tr>\n",
       "      <th>std</th>\n",
       "      <td>0.67</td>\n",
       "      <td>0.67</td>\n",
       "      <td>2.02</td>\n",
       "    </tr>\n",
       "    <tr>\n",
       "      <th>25%</th>\n",
       "      <td>8.00</td>\n",
       "      <td>8.00</td>\n",
       "      <td>4.00</td>\n",
       "    </tr>\n",
       "    <tr>\n",
       "      <th>50%</th>\n",
       "      <td>9.00</td>\n",
       "      <td>8.00</td>\n",
       "      <td>4.00</td>\n",
       "    </tr>\n",
       "    <tr>\n",
       "      <th>75%</th>\n",
       "      <td>9.00</td>\n",
       "      <td>9.00</td>\n",
       "      <td>5.00</td>\n",
       "    </tr>\n",
       "  </tbody>\n",
       "</table>\n",
       "</div>"
      ],
      "text/plain": [
       "        NQ1   NQ2   NQ3\n",
       "min    8.00  7.00  2.00\n",
       "max   10.00  9.00  8.00\n",
       "mean   8.64  8.36  4.55\n",
       "std    0.67  0.67  2.02\n",
       "25%    8.00  8.00  4.00\n",
       "50%    9.00  8.00  4.00\n",
       "75%    9.00  9.00  5.00"
      ]
     },
     "execution_count": 142,
     "metadata": {},
     "output_type": "execute_result"
    }
   ],
   "source": [
    "variant2_df_no.describe().round(2).reindex(['min', 'max', 'mean', 'std', '25%', '50%', '75%'])"
   ]
  },
  {
   "cell_type": "code",
   "execution_count": 17,
   "metadata": {},
   "outputs": [
    {
     "name": "stderr",
     "output_type": "stream",
     "text": [
      "/tmp/ipykernel_1396051/2946220034.py:8: SettingWithCopyWarning: \n",
      "A value is trying to be set on a copy of a slice from a DataFrame\n",
      "\n",
      "See the caveats in the documentation: https://pandas.pydata.org/pandas-docs/stable/user_guide/indexing.html#returning-a-view-versus-a-copy\n",
      "  tool_df.rename(columns={f'variant{idx} Q1': 'Q1', f'variant{idx} Q2': 'Q2', f'variant{idx} Q3': 'Q3'}, inplace=True)\n",
      "/tmp/ipykernel_1396051/2946220034.py:9: SettingWithCopyWarning: \n",
      "A value is trying to be set on a copy of a slice from a DataFrame\n",
      "\n",
      "See the caveats in the documentation: https://pandas.pydata.org/pandas-docs/stable/user_guide/indexing.html#returning-a-view-versus-a-copy\n",
      "  notool_df.rename(columns={f'variant{idx} Q1': 'NQ1', f'variant{idx} Q2': 'NQ2', f'variant{idx} Q3': 'NQ3'}, inplace=True)\n",
      "/tmp/ipykernel_1396051/2946220034.py:11: SettingWithCopyWarning: \n",
      "A value is trying to be set on a copy of a slice from a DataFrame\n",
      "\n",
      "See the caveats in the documentation: https://pandas.pydata.org/pandas-docs/stable/user_guide/indexing.html#returning-a-view-versus-a-copy\n",
      "  tool_df.replace('10+', 10, inplace=True)\n",
      "/tmp/ipykernel_1396051/2946220034.py:12: SettingWithCopyWarning: \n",
      "A value is trying to be set on a copy of a slice from a DataFrame\n",
      "\n",
      "See the caveats in the documentation: https://pandas.pydata.org/pandas-docs/stable/user_guide/indexing.html#returning-a-view-versus-a-copy\n",
      "  notool_df.replace('10+', 10, inplace=True)\n",
      "/tmp/ipykernel_1396051/2946220034.py:14: SettingWithCopyWarning: \n",
      "A value is trying to be set on a copy of a slice from a DataFrame\n",
      "\n",
      "See the caveats in the documentation: https://pandas.pydata.org/pandas-docs/stable/user_guide/indexing.html#returning-a-view-versus-a-copy\n",
      "  tool_df.dropna(inplace=True)\n",
      "/tmp/ipykernel_1396051/2946220034.py:15: SettingWithCopyWarning: \n",
      "A value is trying to be set on a copy of a slice from a DataFrame\n",
      "\n",
      "See the caveats in the documentation: https://pandas.pydata.org/pandas-docs/stable/user_guide/indexing.html#returning-a-view-versus-a-copy\n",
      "  notool_df.dropna(inplace=True)\n"
     ]
    },
    {
     "data": {
      "text/html": [
       "<div>\n",
       "<style scoped>\n",
       "    .dataframe tbody tr th:only-of-type {\n",
       "        vertical-align: middle;\n",
       "    }\n",
       "\n",
       "    .dataframe tbody tr th {\n",
       "        vertical-align: top;\n",
       "    }\n",
       "\n",
       "    .dataframe thead th {\n",
       "        text-align: right;\n",
       "    }\n",
       "</style>\n",
       "<table border=\"1\" class=\"dataframe\">\n",
       "  <thead>\n",
       "    <tr style=\"text-align: right;\">\n",
       "      <th></th>\n",
       "      <th>Q1</th>\n",
       "      <th>NQ1</th>\n",
       "      <th>Q2</th>\n",
       "      <th>NQ2</th>\n",
       "      <th>Q3</th>\n",
       "      <th>NQ3</th>\n",
       "    </tr>\n",
       "  </thead>\n",
       "  <tbody>\n",
       "    <tr>\n",
       "      <th>min</th>\n",
       "      <td>5.00</td>\n",
       "      <td>7.00</td>\n",
       "      <td>7.00</td>\n",
       "      <td>2.00</td>\n",
       "      <td>1.00</td>\n",
       "      <td>2.00</td>\n",
       "    </tr>\n",
       "    <tr>\n",
       "      <th>max</th>\n",
       "      <td>10.00</td>\n",
       "      <td>10.00</td>\n",
       "      <td>10.00</td>\n",
       "      <td>9.00</td>\n",
       "      <td>10.00</td>\n",
       "      <td>10.00</td>\n",
       "    </tr>\n",
       "    <tr>\n",
       "      <th>mean</th>\n",
       "      <td>8.25</td>\n",
       "      <td>8.36</td>\n",
       "      <td>8.58</td>\n",
       "      <td>7.00</td>\n",
       "      <td>4.83</td>\n",
       "      <td>6.00</td>\n",
       "    </tr>\n",
       "    <tr>\n",
       "      <th>std</th>\n",
       "      <td>1.54</td>\n",
       "      <td>0.81</td>\n",
       "      <td>1.24</td>\n",
       "      <td>1.84</td>\n",
       "      <td>3.33</td>\n",
       "      <td>2.97</td>\n",
       "    </tr>\n",
       "    <tr>\n",
       "      <th>25%</th>\n",
       "      <td>7.00</td>\n",
       "      <td>8.00</td>\n",
       "      <td>7.00</td>\n",
       "      <td>7.00</td>\n",
       "      <td>3.50</td>\n",
       "      <td>4.00</td>\n",
       "    </tr>\n",
       "    <tr>\n",
       "      <th>50%</th>\n",
       "      <td>8.50</td>\n",
       "      <td>8.00</td>\n",
       "      <td>9.00</td>\n",
       "      <td>7.00</td>\n",
       "      <td>4.00</td>\n",
       "      <td>6.00</td>\n",
       "    </tr>\n",
       "    <tr>\n",
       "      <th>75%</th>\n",
       "      <td>9.25</td>\n",
       "      <td>9.00</td>\n",
       "      <td>9.25</td>\n",
       "      <td>8.00</td>\n",
       "      <td>5.50</td>\n",
       "      <td>8.00</td>\n",
       "    </tr>\n",
       "    <tr>\n",
       "      <th>count</th>\n",
       "      <td>12.00</td>\n",
       "      <td>11.00</td>\n",
       "      <td>12.00</td>\n",
       "      <td>11.00</td>\n",
       "      <td>12.00</td>\n",
       "      <td>11.00</td>\n",
       "    </tr>\n",
       "  </tbody>\n",
       "</table>\n",
       "</div>"
      ],
      "text/plain": [
       "          Q1    NQ1     Q2    NQ2     Q3    NQ3\n",
       "min     5.00   7.00   7.00   2.00   1.00   2.00\n",
       "max    10.00  10.00  10.00   9.00  10.00  10.00\n",
       "mean    8.25   8.36   8.58   7.00   4.83   6.00\n",
       "std     1.54   0.81   1.24   1.84   3.33   2.97\n",
       "25%     7.00   8.00   7.00   7.00   3.50   4.00\n",
       "50%     8.50   8.00   9.00   7.00   4.00   6.00\n",
       "75%     9.25   9.00   9.25   8.00   5.50   8.00\n",
       "count  12.00  11.00  12.00  11.00  12.00  11.00"
      ]
     },
     "execution_count": 17,
     "metadata": {},
     "output_type": "execute_result"
    }
   ],
   "source": [
    "desc2 = get_variant(air_df, 'variant2', idx=2)\n",
    "desc2.to_csv('table5.csv', index=True, header=True, float_format='%.2f')\n",
    "desc2"
   ]
  },
  {
   "cell_type": "code",
   "execution_count": 151,
   "metadata": {},
   "outputs": [
    {
     "data": {
      "text/html": [
       "<div>\n",
       "<style scoped>\n",
       "    .dataframe tbody tr th:only-of-type {\n",
       "        vertical-align: middle;\n",
       "    }\n",
       "\n",
       "    .dataframe tbody tr th {\n",
       "        vertical-align: top;\n",
       "    }\n",
       "\n",
       "    .dataframe thead th {\n",
       "        text-align: right;\n",
       "    }\n",
       "</style>\n",
       "<table border=\"1\" class=\"dataframe\">\n",
       "  <thead>\n",
       "    <tr style=\"text-align: right;\">\n",
       "      <th></th>\n",
       "      <th>Q1</th>\n",
       "      <th>Q2</th>\n",
       "      <th>Q3</th>\n",
       "    </tr>\n",
       "  </thead>\n",
       "  <tbody>\n",
       "    <tr>\n",
       "      <th>0</th>\n",
       "      <td>9.0</td>\n",
       "      <td>7.0</td>\n",
       "      <td>6.0</td>\n",
       "    </tr>\n",
       "    <tr>\n",
       "      <th>1</th>\n",
       "      <td>10.0</td>\n",
       "      <td>8.0</td>\n",
       "      <td>2.0</td>\n",
       "    </tr>\n",
       "    <tr>\n",
       "      <th>4</th>\n",
       "      <td>7.0</td>\n",
       "      <td>7.0</td>\n",
       "      <td>10.0</td>\n",
       "    </tr>\n",
       "    <tr>\n",
       "      <th>5</th>\n",
       "      <td>8.0</td>\n",
       "      <td>5.0</td>\n",
       "      <td>1.0</td>\n",
       "    </tr>\n",
       "    <tr>\n",
       "      <th>6</th>\n",
       "      <td>7.0</td>\n",
       "      <td>6.0</td>\n",
       "      <td>4.0</td>\n",
       "    </tr>\n",
       "    <tr>\n",
       "      <th>7</th>\n",
       "      <td>7.0</td>\n",
       "      <td>7.0</td>\n",
       "      <td>2.0</td>\n",
       "    </tr>\n",
       "    <tr>\n",
       "      <th>8</th>\n",
       "      <td>9.0</td>\n",
       "      <td>9.0</td>\n",
       "      <td>1.0</td>\n",
       "    </tr>\n",
       "    <tr>\n",
       "      <th>9</th>\n",
       "      <td>8.0</td>\n",
       "      <td>8.0</td>\n",
       "      <td>4.0</td>\n",
       "    </tr>\n",
       "    <tr>\n",
       "      <th>12</th>\n",
       "      <td>10.0</td>\n",
       "      <td>10.0</td>\n",
       "      <td>4.0</td>\n",
       "    </tr>\n",
       "    <tr>\n",
       "      <th>13</th>\n",
       "      <td>9.0</td>\n",
       "      <td>9.0</td>\n",
       "      <td>10.0</td>\n",
       "    </tr>\n",
       "    <tr>\n",
       "      <th>14</th>\n",
       "      <td>9.0</td>\n",
       "      <td>9.0</td>\n",
       "      <td>4.0</td>\n",
       "    </tr>\n",
       "    <tr>\n",
       "      <th>17</th>\n",
       "      <td>6.0</td>\n",
       "      <td>6.0</td>\n",
       "      <td>2.0</td>\n",
       "    </tr>\n",
       "    <tr>\n",
       "      <th>19</th>\n",
       "      <td>9.0</td>\n",
       "      <td>9.0</td>\n",
       "      <td>2.0</td>\n",
       "    </tr>\n",
       "    <tr>\n",
       "      <th>20</th>\n",
       "      <td>9.0</td>\n",
       "      <td>10.0</td>\n",
       "      <td>4.0</td>\n",
       "    </tr>\n",
       "  </tbody>\n",
       "</table>\n",
       "</div>"
      ],
      "text/plain": [
       "      Q1    Q2    Q3\n",
       "0    9.0   7.0   6.0\n",
       "1   10.0   8.0   2.0\n",
       "4    7.0   7.0  10.0\n",
       "5    8.0   5.0   1.0\n",
       "6    7.0   6.0   4.0\n",
       "7    7.0   7.0   2.0\n",
       "8    9.0   9.0   1.0\n",
       "9    8.0   8.0   4.0\n",
       "12  10.0  10.0   4.0\n",
       "13   9.0   9.0  10.0\n",
       "14   9.0   9.0   4.0\n",
       "17   6.0   6.0   2.0\n",
       "19   9.0   9.0   2.0\n",
       "20   9.0  10.0   4.0"
      ]
     },
     "execution_count": 151,
     "metadata": {},
     "output_type": "execute_result"
    }
   ],
   "source": [
    "variant2_df_yes = air_df.groupby('variant3').get_group('Yes')\n",
    "variant2_df_yes = variant2_df_yes[['variant3 Q1', 'variant3 Q2', 'variant3 Q3']]\n",
    "variant2_df_yes.rename(columns={'variant3 Q1': 'Q1', 'variant3 Q2': 'Q2', 'variant3 Q3': 'Q3'}, inplace=True)\n",
    "variant2_df_yes.replace('10+', 10, inplace=True)\n",
    "variant2_df_yes.dropna(inplace=True)\n",
    "variant2_df_yes = variant2_df_yes.astype(float)\n",
    "variant2_df_yes"
   ]
  },
  {
   "cell_type": "code",
   "execution_count": 152,
   "metadata": {},
   "outputs": [
    {
     "data": {
      "text/html": [
       "<div>\n",
       "<style scoped>\n",
       "    .dataframe tbody tr th:only-of-type {\n",
       "        vertical-align: middle;\n",
       "    }\n",
       "\n",
       "    .dataframe tbody tr th {\n",
       "        vertical-align: top;\n",
       "    }\n",
       "\n",
       "    .dataframe thead th {\n",
       "        text-align: right;\n",
       "    }\n",
       "</style>\n",
       "<table border=\"1\" class=\"dataframe\">\n",
       "  <thead>\n",
       "    <tr style=\"text-align: right;\">\n",
       "      <th></th>\n",
       "      <th>NQ1</th>\n",
       "      <th>NQ2</th>\n",
       "      <th>NQ3</th>\n",
       "    </tr>\n",
       "  </thead>\n",
       "  <tbody>\n",
       "    <tr>\n",
       "      <th>2</th>\n",
       "      <td>9.0</td>\n",
       "      <td>9.0</td>\n",
       "      <td>8.0</td>\n",
       "    </tr>\n",
       "    <tr>\n",
       "      <th>3</th>\n",
       "      <td>9.0</td>\n",
       "      <td>9.0</td>\n",
       "      <td>4.0</td>\n",
       "    </tr>\n",
       "    <tr>\n",
       "      <th>10</th>\n",
       "      <td>7.0</td>\n",
       "      <td>2.0</td>\n",
       "      <td>4.0</td>\n",
       "    </tr>\n",
       "    <tr>\n",
       "      <th>15</th>\n",
       "      <td>7.0</td>\n",
       "      <td>7.0</td>\n",
       "      <td>6.0</td>\n",
       "    </tr>\n",
       "    <tr>\n",
       "      <th>16</th>\n",
       "      <td>7.0</td>\n",
       "      <td>9.0</td>\n",
       "      <td>4.0</td>\n",
       "    </tr>\n",
       "    <tr>\n",
       "      <th>18</th>\n",
       "      <td>9.0</td>\n",
       "      <td>9.0</td>\n",
       "      <td>2.0</td>\n",
       "    </tr>\n",
       "    <tr>\n",
       "      <th>21</th>\n",
       "      <td>2.0</td>\n",
       "      <td>2.0</td>\n",
       "      <td>2.0</td>\n",
       "    </tr>\n",
       "    <tr>\n",
       "      <th>22</th>\n",
       "      <td>9.0</td>\n",
       "      <td>9.0</td>\n",
       "      <td>6.0</td>\n",
       "    </tr>\n",
       "  </tbody>\n",
       "</table>\n",
       "</div>"
      ],
      "text/plain": [
       "    NQ1  NQ2  NQ3\n",
       "2   9.0  9.0  8.0\n",
       "3   9.0  9.0  4.0\n",
       "10  7.0  2.0  4.0\n",
       "15  7.0  7.0  6.0\n",
       "16  7.0  9.0  4.0\n",
       "18  9.0  9.0  2.0\n",
       "21  2.0  2.0  2.0\n",
       "22  9.0  9.0  6.0"
      ]
     },
     "execution_count": 152,
     "metadata": {},
     "output_type": "execute_result"
    }
   ],
   "source": [
    "variant2_df_no = air_df.groupby('variant3').get_group('No')\n",
    "variant2_df_no = variant2_df_no[['variant3 Q1', 'variant3 Q2', 'variant3 Q3']]\n",
    "variant2_df_no.rename(columns={'variant3 Q1': 'NQ1', 'variant3 Q2': 'NQ2', 'variant3 Q3': 'NQ3'}, inplace=True)\n",
    "variant2_df_no.replace('10+', 10, inplace=True)\n",
    "variant2_df_no.dropna(inplace=True)\n",
    "variant2_df_no = variant2_df_no.astype(float)\n",
    "variant2_df_no"
   ]
  },
  {
   "cell_type": "code",
   "execution_count": 146,
   "metadata": {},
   "outputs": [
    {
     "data": {
      "text/plain": [
       "8"
      ]
     },
     "execution_count": 146,
     "metadata": {},
     "output_type": "execute_result"
    }
   ],
   "source": [
    "len(variant2_df_no)"
   ]
  },
  {
   "cell_type": "code",
   "execution_count": 18,
   "metadata": {},
   "outputs": [
    {
     "name": "stderr",
     "output_type": "stream",
     "text": [
      "/tmp/ipykernel_1396051/2946220034.py:8: SettingWithCopyWarning: \n",
      "A value is trying to be set on a copy of a slice from a DataFrame\n",
      "\n",
      "See the caveats in the documentation: https://pandas.pydata.org/pandas-docs/stable/user_guide/indexing.html#returning-a-view-versus-a-copy\n",
      "  tool_df.rename(columns={f'variant{idx} Q1': 'Q1', f'variant{idx} Q2': 'Q2', f'variant{idx} Q3': 'Q3'}, inplace=True)\n",
      "/tmp/ipykernel_1396051/2946220034.py:9: SettingWithCopyWarning: \n",
      "A value is trying to be set on a copy of a slice from a DataFrame\n",
      "\n",
      "See the caveats in the documentation: https://pandas.pydata.org/pandas-docs/stable/user_guide/indexing.html#returning-a-view-versus-a-copy\n",
      "  notool_df.rename(columns={f'variant{idx} Q1': 'NQ1', f'variant{idx} Q2': 'NQ2', f'variant{idx} Q3': 'NQ3'}, inplace=True)\n",
      "/tmp/ipykernel_1396051/2946220034.py:11: SettingWithCopyWarning: \n",
      "A value is trying to be set on a copy of a slice from a DataFrame\n",
      "\n",
      "See the caveats in the documentation: https://pandas.pydata.org/pandas-docs/stable/user_guide/indexing.html#returning-a-view-versus-a-copy\n",
      "  tool_df.replace('10+', 10, inplace=True)\n",
      "/tmp/ipykernel_1396051/2946220034.py:12: SettingWithCopyWarning: \n",
      "A value is trying to be set on a copy of a slice from a DataFrame\n",
      "\n",
      "See the caveats in the documentation: https://pandas.pydata.org/pandas-docs/stable/user_guide/indexing.html#returning-a-view-versus-a-copy\n",
      "  notool_df.replace('10+', 10, inplace=True)\n",
      "/tmp/ipykernel_1396051/2946220034.py:14: SettingWithCopyWarning: \n",
      "A value is trying to be set on a copy of a slice from a DataFrame\n",
      "\n",
      "See the caveats in the documentation: https://pandas.pydata.org/pandas-docs/stable/user_guide/indexing.html#returning-a-view-versus-a-copy\n",
      "  tool_df.dropna(inplace=True)\n",
      "/tmp/ipykernel_1396051/2946220034.py:15: SettingWithCopyWarning: \n",
      "A value is trying to be set on a copy of a slice from a DataFrame\n",
      "\n",
      "See the caveats in the documentation: https://pandas.pydata.org/pandas-docs/stable/user_guide/indexing.html#returning-a-view-versus-a-copy\n",
      "  notool_df.dropna(inplace=True)\n"
     ]
    },
    {
     "data": {
      "text/html": [
       "<div>\n",
       "<style scoped>\n",
       "    .dataframe tbody tr th:only-of-type {\n",
       "        vertical-align: middle;\n",
       "    }\n",
       "\n",
       "    .dataframe tbody tr th {\n",
       "        vertical-align: top;\n",
       "    }\n",
       "\n",
       "    .dataframe thead th {\n",
       "        text-align: right;\n",
       "    }\n",
       "</style>\n",
       "<table border=\"1\" class=\"dataframe\">\n",
       "  <thead>\n",
       "    <tr style=\"text-align: right;\">\n",
       "      <th></th>\n",
       "      <th>Q1</th>\n",
       "      <th>NQ1</th>\n",
       "      <th>Q2</th>\n",
       "      <th>NQ2</th>\n",
       "      <th>Q3</th>\n",
       "      <th>NQ3</th>\n",
       "    </tr>\n",
       "  </thead>\n",
       "  <tbody>\n",
       "    <tr>\n",
       "      <th>min</th>\n",
       "      <td>6.00</td>\n",
       "      <td>2.00</td>\n",
       "      <td>5.00</td>\n",
       "      <td>2.00</td>\n",
       "      <td>1.00</td>\n",
       "      <td>2.00</td>\n",
       "    </tr>\n",
       "    <tr>\n",
       "      <th>max</th>\n",
       "      <td>10.00</td>\n",
       "      <td>9.00</td>\n",
       "      <td>10.00</td>\n",
       "      <td>9.00</td>\n",
       "      <td>10.00</td>\n",
       "      <td>8.00</td>\n",
       "    </tr>\n",
       "    <tr>\n",
       "      <th>mean</th>\n",
       "      <td>8.36</td>\n",
       "      <td>7.38</td>\n",
       "      <td>7.86</td>\n",
       "      <td>7.00</td>\n",
       "      <td>4.00</td>\n",
       "      <td>4.50</td>\n",
       "    </tr>\n",
       "    <tr>\n",
       "      <th>std</th>\n",
       "      <td>1.22</td>\n",
       "      <td>2.39</td>\n",
       "      <td>1.56</td>\n",
       "      <td>3.16</td>\n",
       "      <td>2.91</td>\n",
       "      <td>2.07</td>\n",
       "    </tr>\n",
       "    <tr>\n",
       "      <th>25%</th>\n",
       "      <td>7.25</td>\n",
       "      <td>7.00</td>\n",
       "      <td>7.00</td>\n",
       "      <td>5.75</td>\n",
       "      <td>2.00</td>\n",
       "      <td>3.50</td>\n",
       "    </tr>\n",
       "    <tr>\n",
       "      <th>50%</th>\n",
       "      <td>9.00</td>\n",
       "      <td>8.00</td>\n",
       "      <td>8.00</td>\n",
       "      <td>9.00</td>\n",
       "      <td>4.00</td>\n",
       "      <td>4.00</td>\n",
       "    </tr>\n",
       "    <tr>\n",
       "      <th>75%</th>\n",
       "      <td>9.00</td>\n",
       "      <td>9.00</td>\n",
       "      <td>9.00</td>\n",
       "      <td>9.00</td>\n",
       "      <td>4.00</td>\n",
       "      <td>6.00</td>\n",
       "    </tr>\n",
       "    <tr>\n",
       "      <th>count</th>\n",
       "      <td>14.00</td>\n",
       "      <td>8.00</td>\n",
       "      <td>14.00</td>\n",
       "      <td>8.00</td>\n",
       "      <td>14.00</td>\n",
       "      <td>8.00</td>\n",
       "    </tr>\n",
       "  </tbody>\n",
       "</table>\n",
       "</div>"
      ],
      "text/plain": [
       "          Q1   NQ1     Q2   NQ2     Q3   NQ3\n",
       "min     6.00  2.00   5.00  2.00   1.00  2.00\n",
       "max    10.00  9.00  10.00  9.00  10.00  8.00\n",
       "mean    8.36  7.38   7.86  7.00   4.00  4.50\n",
       "std     1.22  2.39   1.56  3.16   2.91  2.07\n",
       "25%     7.25  7.00   7.00  5.75   2.00  3.50\n",
       "50%     9.00  8.00   8.00  9.00   4.00  4.00\n",
       "75%     9.00  9.00   9.00  9.00   4.00  6.00\n",
       "count  14.00  8.00  14.00  8.00  14.00  8.00"
      ]
     },
     "execution_count": 18,
     "metadata": {},
     "output_type": "execute_result"
    }
   ],
   "source": [
    "desc3 = get_variant(air_df, 'variant3', idx=3)\n",
    "desc3.to_csv('table6.csv', index=True, header=True, float_format='%.2f')\n",
    "desc3"
   ]
  },
  {
   "cell_type": "markdown",
   "metadata": {},
   "source": [
    "# qualatitive\n"
   ]
  },
  {
   "cell_type": "code",
   "execution_count": 19,
   "metadata": {},
   "outputs": [
    {
     "data": {
      "text/plain": [
       "46"
      ]
     },
     "execution_count": 19,
     "metadata": {},
     "output_type": "execute_result"
    }
   ],
   "source": [
    "# read csv file into dataframe\n",
    "air_df = pd.read_csv('air_test.csv')\n",
    "ped_df = pd.read_csv('ped_test.csv')\n",
    "# concat air_df and ped_df\n",
    "air_ped_df = pd.concat([air_df, ped_df], axis=0)\n",
    "len(air_ped_df)"
   ]
  },
  {
   "cell_type": "code",
   "execution_count": 20,
   "metadata": {},
   "outputs": [],
   "source": [
    "q1_cols = [col for col in air_ped_df.columns if 'Question 1: Are you using' in col]\n",
    "# change name of columns in q1_cols to variant + index + 1\n",
    "for i, col in enumerate(q1_cols):\n",
    "    air_ped_df.rename(columns={col: 'variant' + str(i + 1)}, inplace=True)\n",
    "q2_cols = [col for col in air_ped_df.columns if 'Question 2: How well did' in col]\n",
    "for i, col in enumerate(q2_cols):\n",
    "    air_ped_df.rename(columns={col: 'variant' + str(i + 1)+ ' Q1'}, inplace=True)\n",
    "\n",
    "q3_cols = [col for col in air_ped_df.columns if 'Question 3: What percentage of' in col]\n",
    "for i, col in enumerate(q3_cols):\n",
    "    air_ped_df.rename(columns={col: 'variant' + str(i + 1)+ ' Q2'}, inplace=True)\n",
    "\n",
    "q4_cols = [col for col in air_ped_df.columns if 'Question 4: How much time' in col]\n",
    "for i, col in enumerate(q4_cols):\n",
    "    air_ped_df.rename(columns={col: 'variant' + str(i + 1)+ ' Q3'}, inplace=True)"
   ]
  },
  {
   "cell_type": "code",
   "execution_count": 177,
   "metadata": {},
   "outputs": [],
   "source": [
    "q5_cols = [col for col in air_ped_df.columns if 'Question ' in col]\n",
    "for i, col in enumerate(q5_cols):\n",
    "    air_ped_df.rename(columns={col: 'qualitative' + str(i + 1)}, inplace=True)"
   ]
  },
  {
   "cell_type": "code",
   "execution_count": 178,
   "metadata": {},
   "outputs": [
    {
     "data": {
      "text/plain": [
       "Index(['Timestamp', 'Please enter your First and Last Name',\n",
       "       'Education? (University, Degree ...)',\n",
       "       'Years of experience in software development',\n",
       "       'Years of Experience in Industry',\n",
       "       'Types of Systems worked with (which domain e.g: Medical, Tech and etc. )',\n",
       "       'variant1', 'variant1 Q1', 'variant1 Q2', 'variant1 Q3', 'variant2',\n",
       "       'variant2 Q1', 'variant2 Q2', 'variant2 Q3', 'variant3', 'variant3 Q1',\n",
       "       'variant3 Q2', 'variant3 Q3', 'qualitative1', 'qualitative2',\n",
       "       'qualitative3', 'qualitative4', 'qualitative5', 'qualitative6',\n",
       "       'qualitative7', 'qualitative8', 'variant4', 'variant5', 'variant6'],\n",
       "      dtype='object')"
      ]
     },
     "execution_count": 178,
     "metadata": {},
     "output_type": "execute_result"
    }
   ],
   "source": [
    "air_ped_df.columns"
   ]
  },
  {
   "cell_type": "code",
   "execution_count": 180,
   "metadata": {},
   "outputs": [
    {
     "data": {
      "text/plain": [
       "46"
      ]
     },
     "execution_count": 180,
     "metadata": {},
     "output_type": "execute_result"
    }
   ],
   "source": [
    "qualitative_df = air_ped_df[['qualitative1', 'qualitative2', \n",
    "                             'qualitative3', 'qualitative4', 'qualitative5', 'qualitative6']]\n",
    "len(qualitative_df)"
   ]
  },
  {
   "cell_type": "code",
   "execution_count": 181,
   "metadata": {},
   "outputs": [
    {
     "data": {
      "text/html": [
       "<div>\n",
       "<style scoped>\n",
       "    .dataframe tbody tr th:only-of-type {\n",
       "        vertical-align: middle;\n",
       "    }\n",
       "\n",
       "    .dataframe tbody tr th {\n",
       "        vertical-align: top;\n",
       "    }\n",
       "\n",
       "    .dataframe thead th {\n",
       "        text-align: right;\n",
       "    }\n",
       "</style>\n",
       "<table border=\"1\" class=\"dataframe\">\n",
       "  <thead>\n",
       "    <tr style=\"text-align: right;\">\n",
       "      <th></th>\n",
       "      <th>qualitative1</th>\n",
       "      <th>qualitative2</th>\n",
       "      <th>qualitative3</th>\n",
       "      <th>qualitative4</th>\n",
       "      <th>qualitative5</th>\n",
       "      <th>qualitative6</th>\n",
       "    </tr>\n",
       "  </thead>\n",
       "  <tbody>\n",
       "    <tr>\n",
       "      <th>0</th>\n",
       "      <td>Very easy</td>\n",
       "      <td>Very helpful</td>\n",
       "      <td>Comfortable</td>\n",
       "      <td>Very helpful</td>\n",
       "      <td>Helpful</td>\n",
       "      <td>Very likely</td>\n",
       "    </tr>\n",
       "    <tr>\n",
       "      <th>1</th>\n",
       "      <td>Very easy</td>\n",
       "      <td>Very helpful</td>\n",
       "      <td>Very comfortable</td>\n",
       "      <td>Very helpful</td>\n",
       "      <td>Very helpful</td>\n",
       "      <td>Very likely</td>\n",
       "    </tr>\n",
       "    <tr>\n",
       "      <th>2</th>\n",
       "      <td>Easy</td>\n",
       "      <td>Helpful</td>\n",
       "      <td>Comfortable</td>\n",
       "      <td>Very helpful</td>\n",
       "      <td>Helpful</td>\n",
       "      <td>Very likely</td>\n",
       "    </tr>\n",
       "    <tr>\n",
       "      <th>3</th>\n",
       "      <td>Easy</td>\n",
       "      <td>Helpful</td>\n",
       "      <td>Comfortable</td>\n",
       "      <td>Helpful</td>\n",
       "      <td>Helpful</td>\n",
       "      <td>Likely</td>\n",
       "    </tr>\n",
       "    <tr>\n",
       "      <th>4</th>\n",
       "      <td>Easy</td>\n",
       "      <td>Helpful</td>\n",
       "      <td>Somewhat Comfortable</td>\n",
       "      <td>Helpful</td>\n",
       "      <td>Helpful</td>\n",
       "      <td>Neutral</td>\n",
       "    </tr>\n",
       "  </tbody>\n",
       "</table>\n",
       "</div>"
      ],
      "text/plain": [
       "  qualitative1  qualitative2          qualitative3  qualitative4  \\\n",
       "0    Very easy  Very helpful           Comfortable  Very helpful   \n",
       "1    Very easy  Very helpful      Very comfortable  Very helpful   \n",
       "2         Easy       Helpful           Comfortable  Very helpful   \n",
       "3         Easy       Helpful           Comfortable       Helpful   \n",
       "4         Easy       Helpful  Somewhat Comfortable       Helpful   \n",
       "\n",
       "   qualitative5 qualitative6  \n",
       "0       Helpful  Very likely  \n",
       "1  Very helpful  Very likely  \n",
       "2       Helpful  Very likely  \n",
       "3       Helpful       Likely  \n",
       "4       Helpful      Neutral  "
      ]
     },
     "execution_count": 181,
     "metadata": {},
     "output_type": "execute_result"
    }
   ],
   "source": [
    "qualitative_df.head()"
   ]
  },
  {
   "cell_type": "code",
   "execution_count": 182,
   "metadata": {},
   "outputs": [
    {
     "data": {
      "text/plain": [
       "Easy         0.673913\n",
       "Very easy    0.304348\n",
       "Not easy     0.021739\n",
       "Name: qualitative1, dtype: float64"
      ]
     },
     "execution_count": 182,
     "metadata": {},
     "output_type": "execute_result"
    }
   ],
   "source": [
    "# get percentage of each value in qualitative1\n",
    "qualitative1_count = qualitative_df['qualitative1'].value_counts()\n",
    "qualitative1_count = qualitative1_count / len(qualitative_df)\n",
    "qualitative1_count"
   ]
  },
  {
   "cell_type": "code",
   "execution_count": 183,
   "metadata": {},
   "outputs": [
    {
     "data": {
      "text/plain": [
       "Helpful         0.608696\n",
       "Very helpful    0.391304\n",
       "Name: qualitative2, dtype: float64"
      ]
     },
     "execution_count": 183,
     "metadata": {},
     "output_type": "execute_result"
    }
   ],
   "source": [
    "qualitative1_count = qualitative_df['qualitative2'].value_counts()\n",
    "qualitative1_count = qualitative1_count / len(qualitative_df)\n",
    "qualitative1_count"
   ]
  },
  {
   "cell_type": "code",
   "execution_count": 184,
   "metadata": {},
   "outputs": [
    {
     "data": {
      "text/plain": [
       "Comfortable             0.521739\n",
       "Very comfortable        0.347826\n",
       "Somewhat Comfortable    0.130435\n",
       "Name: qualitative3, dtype: float64"
      ]
     },
     "execution_count": 184,
     "metadata": {},
     "output_type": "execute_result"
    }
   ],
   "source": [
    "qualitative1_count = qualitative_df['qualitative3'].value_counts()\n",
    "qualitative1_count = qualitative1_count / len(qualitative_df)\n",
    "qualitative1_count"
   ]
  },
  {
   "cell_type": "code",
   "execution_count": 185,
   "metadata": {},
   "outputs": [
    {
     "data": {
      "text/plain": [
       "Very helpful    0.500000\n",
       "Helpful         0.478261\n",
       "Not helpful     0.021739\n",
       "Name: qualitative4, dtype: float64"
      ]
     },
     "execution_count": 185,
     "metadata": {},
     "output_type": "execute_result"
    }
   ],
   "source": [
    "qualitative1_count = qualitative_df['qualitative4'].value_counts()\n",
    "qualitative1_count = qualitative1_count / len(qualitative_df)\n",
    "qualitative1_count"
   ]
  },
  {
   "cell_type": "code",
   "execution_count": 186,
   "metadata": {},
   "outputs": [
    {
     "data": {
      "text/plain": [
       "Helpful         0.739130\n",
       "Very helpful    0.217391\n",
       "Don’t know      0.043478\n",
       "Name: qualitative5, dtype: float64"
      ]
     },
     "execution_count": 186,
     "metadata": {},
     "output_type": "execute_result"
    }
   ],
   "source": [
    "qualitative1_count = qualitative_df['qualitative5'].value_counts()\n",
    "qualitative1_count = qualitative1_count / len(qualitative_df)\n",
    "qualitative1_count"
   ]
  },
  {
   "cell_type": "code",
   "execution_count": 187,
   "metadata": {},
   "outputs": [
    {
     "data": {
      "text/plain": [
       "Likely         0.456522\n",
       "Very likely    0.391304\n",
       "Neutral        0.130435\n",
       "Unlikely       0.021739\n",
       "Name: qualitative6, dtype: float64"
      ]
     },
     "execution_count": 187,
     "metadata": {},
     "output_type": "execute_result"
    }
   ],
   "source": [
    "qualitative1_count = qualitative_df['qualitative6'].value_counts()\n",
    "qualitative1_count = qualitative1_count / len(qualitative_df)\n",
    "qualitative1_count"
   ]
  },
  {
   "cell_type": "code",
   "execution_count": null,
   "metadata": {},
   "outputs": [],
   "source": []
  },
  {
   "cell_type": "code",
   "execution_count": 17,
   "metadata": {},
   "outputs": [
    {
     "name": "stdout",
     "output_type": "stream",
     "text": [
      "1 https://docs.google.com/forms/d/e/1FAIpQLSd9zG4t6WDPVz_24B7Tz21sta9q5LbaeLdYp1g1t3RDc2D0UQ/viewform?usp=pp_url&entry.1533067892=J87GNRIE&entry.75952468=Northern%20Illinois%20university%2C%20Masters&entry.1504275618=2&entry.1086062394=1.5&entry.349748918=Banking&entry.2086070600=Yes&entry.1259450664=8&entry.2131194762=9&entry.465472354=4&entry.683951344=No&entry.1091771499=7&entry.1559684315=7&entry.479603624=10%2B&entry.529608083=Yes&entry.2115832627=9&entry.1505214318=7&entry.33730306=6&entry.1039248229=Very%20easy&entry.1594355609=Very%20helpful&entry.2005802697=Comfortable&entry.781768819=Very%20helpful&entry.830724702=Helpful&entry.1380670412=Very%20likely&entry.1239224858=No&entry.108809019=\n",
      "2 https://docs.google.com/forms/d/e/1FAIpQLSd9zG4t6WDPVz_24B7Tz21sta9q5LbaeLdYp1g1t3RDc2D0UQ/viewform?usp=pp_url&entry.1533067892=T0WQX9PG&entry.75952468=Northern%20Illinois%20University%20%2CMaster%27s&entry.1504275618=2&entry.1086062394=2&entry.349748918=Tech&entry.2086070600=Yes&entry.1259450664=10&entry.2131194762=9&entry.465472354=2&entry.683951344=Yes&entry.1091771499=10&entry.1559684315=9&entry.479603624=4&entry.529608083=Yes&entry.2115832627=10&entry.1505214318=8&entry.33730306=2&entry.1039248229=Very%20easy&entry.1594355609=Very%20helpful&entry.2005802697=Very%20comfortable&entry.781768819=Very%20helpful&entry.830724702=Very%20helpful&entry.1380670412=Very%20likely&entry.1239224858=&entry.108809019=\n",
      "3 https://docs.google.com/forms/d/e/1FAIpQLSd9zG4t6WDPVz_24B7Tz21sta9q5LbaeLdYp1g1t3RDc2D0UQ/viewform?usp=pp_url&entry.1533067892=F0A201JX&entry.75952468=NIU%20MSCS&entry.1504275618=&entry.1086062394=1%20year&entry.349748918=Technical&entry.2086070600=Yes&entry.1259450664=7&entry.2131194762=7&entry.465472354=10%2B&entry.683951344=Yes&entry.1091771499=7&entry.1559684315=7&entry.479603624=10%2B&entry.529608083=Yes&entry.2115832627=7&entry.1505214318=7&entry.33730306=10%2B&entry.1039248229=Easy&entry.1594355609=Helpful&entry.2005802697=Somewhat%20Comfortable&entry.781768819=Helpful&entry.830724702=Helpful&entry.1380670412=Neutral&entry.1239224858=&entry.108809019=\n",
      "4 https://docs.google.com/forms/d/e/1FAIpQLSd9zG4t6WDPVz_24B7Tz21sta9q5LbaeLdYp1g1t3RDc2D0UQ/viewform?usp=pp_url&entry.1533067892=IP98IXX1&entry.75952468=%20northern%20illinois%20university%2C%20CSE&entry.1504275618=0&entry.1086062394=1&entry.349748918=data%20science&entry.2086070600=Yes&entry.1259450664=8&entry.2131194762=9&entry.465472354=2&entry.683951344=No&entry.1091771499=8&entry.1559684315=8&entry.479603624=4&entry.529608083=Yes&entry.2115832627=8&entry.1505214318=5&entry.33730306=1&entry.1039248229=Easy&entry.1594355609=Very%20helpful&entry.2005802697=Very%20comfortable&entry.781768819=Very%20helpful&entry.830724702=Helpful&entry.1380670412=Very%20likely&entry.1239224858=&entry.108809019=\n",
      "5 https://docs.google.com/forms/d/e/1FAIpQLSd9zG4t6WDPVz_24B7Tz21sta9q5LbaeLdYp1g1t3RDc2D0UQ/viewform?usp=pp_url&entry.1533067892=0BYK56AE&entry.75952468=Niu%2C%20Ms%20CS&entry.1504275618=10%20months&entry.1086062394=0&entry.349748918=Technical&entry.2086070600=Yes&entry.1259450664=7&entry.2131194762=6&entry.465472354=6&entry.683951344=Yes&entry.1091771499=7&entry.1559684315=7&entry.479603624=4&entry.529608083=Yes&entry.2115832627=7&entry.1505214318=6&entry.33730306=4&entry.1039248229=Easy&entry.1594355609=Very%20helpful&entry.2005802697=Very%20comfortable&entry.781768819=Very%20helpful&entry.830724702=Helpful&entry.1380670412=Likely&entry.1239224858=No&entry.108809019=\n",
      "6 https://docs.google.com/forms/d/e/1FAIpQLSd9zG4t6WDPVz_24B7Tz21sta9q5LbaeLdYp1g1t3RDc2D0UQ/viewform?usp=pp_url&entry.1533067892=4TOZRLD1&entry.75952468=Northern%20Illinois%20University&entry.1504275618=2%20years&entry.1086062394=2%20years&entry.349748918=Insurance&entry.2086070600=Yes&entry.1259450664=7&entry.2131194762=7&entry.465472354=4&entry.683951344=Yes&entry.1091771499=7&entry.1559684315=7&entry.479603624=4&entry.529608083=Yes&entry.2115832627=7&entry.1505214318=7&entry.33730306=2&entry.1039248229=Easy&entry.1594355609=Helpful&entry.2005802697=Somewhat%20Comfortable&entry.781768819=Helpful&entry.830724702=Helpful&entry.1380670412=Neutral&entry.1239224858=No&entry.108809019=%20it%20is%20very%20helpful\n",
      "7 https://docs.google.com/forms/d/e/1FAIpQLSd9zG4t6WDPVz_24B7Tz21sta9q5LbaeLdYp1g1t3RDc2D0UQ/viewform?usp=pp_url&entry.1533067892=E1798LT6&entry.75952468=Northern%20Illinois%20University%2C%20Master%27s%20in%20CS&entry.1504275618=0&entry.1086062394=12%20months&entry.349748918=Tech&entry.2086070600=Yes&entry.1259450664=9&entry.2131194762=8&entry.465472354=2&entry.683951344=No&entry.1091771499=9&entry.1559684315=7&entry.479603624=2&entry.529608083=Yes&entry.2115832627=9&entry.1505214318=9&entry.33730306=1&entry.1039248229=Easy&entry.1594355609=Very%20helpful&entry.2005802697=Comfortable&entry.781768819=Helpful&entry.830724702=Helpful&entry.1380670412=Likely&entry.1239224858=using%20tool%20makes%20easy&entry.108809019=\n",
      "8 https://docs.google.com/forms/d/e/1FAIpQLSd9zG4t6WDPVz_24B7Tz21sta9q5LbaeLdYp1g1t3RDc2D0UQ/viewform?usp=pp_url&entry.1533067892=DFZE2AIP&entry.75952468=Master%27s%20in%20Computer%20Science%20%20at%20Northern%20Illinois%20University&entry.1504275618=1.5&entry.1086062394=1.5&entry.349748918=Tech&entry.2086070600=Yes&entry.1259450664=9&entry.2131194762=9&entry.465472354=4&entry.683951344=No&entry.1091771499=8&entry.1559684315=7&entry.479603624=10%2B&entry.529608083=Yes&entry.2115832627=8&entry.1505214318=8&entry.33730306=4&entry.1039248229=Easy&entry.1594355609=Very%20helpful&entry.2005802697=Comfortable&entry.781768819=Helpful&entry.830724702=Helpful&entry.1380670412=Likely&entry.1239224858=the%20images%20and%20names%20of%20variant%20propulsion%20elements%20are%20a%20bit%20difficult%20to%20identify&entry.108809019=\n",
      "9 https://docs.google.com/forms/d/e/1FAIpQLSd9zG4t6WDPVz_24B7Tz21sta9q5LbaeLdYp1g1t3RDc2D0UQ/viewform?usp=pp_url&entry.1533067892=16D93W77&entry.75952468=Masters%20in%20Computer%20Science%2C%20Northern%20Illinois%20University&entry.1504275618=1.5&entry.1086062394=1.5&entry.349748918=front%20end%20development&entry.2086070600=Yes&entry.1259450664=8&entry.2131194762=8&entry.465472354=4&entry.683951344=No&entry.1091771499=8&entry.1559684315=6&entry.479603624=4&entry.529608083=&entry.2115832627=7&entry.1505214318=6&entry.33730306=4&entry.1039248229=Easy&entry.1594355609=Helpful&entry.2005802697=Comfortable&entry.781768819=Helpful&entry.830724702=Helpful&entry.1380670412=Likely&entry.1239224858=no&entry.108809019=the%20scroll%20for%20the%20images%20is%20not%20fitting%20the%20screen%2C%20it%20makes%20it%20difficult%20to%20scroll%20twice\n",
      "10 https://docs.google.com/forms/d/e/1FAIpQLSd9zG4t6WDPVz_24B7Tz21sta9q5LbaeLdYp1g1t3RDc2D0UQ/viewform?usp=pp_url&entry.1533067892=H5B12HGG&entry.75952468=Bachelors%20of%20Engineering&entry.1504275618=&entry.1086062394=0&entry.349748918=0&entry.2086070600=Yes&entry.1259450664=9&entry.2131194762=9&entry.465472354=10%2B&entry.683951344=Yes&entry.1091771499=8&entry.1559684315=7&entry.479603624=10%2B&entry.529608083=Yes&entry.2115832627=9&entry.1505214318=9&entry.33730306=10%2B&entry.1039248229=Not%20easy&entry.1594355609=Helpful&entry.2005802697=Somewhat%20Comfortable&entry.781768819=Helpful&entry.830724702=Helpful&entry.1380670412=Neutral&entry.1239224858=No&entry.108809019=User%20Education\n",
      "11 https://docs.google.com/forms/d/e/1FAIpQLSd9zG4t6WDPVz_24B7Tz21sta9q5LbaeLdYp1g1t3RDc2D0UQ/viewform?usp=pp_url&entry.1533067892=F7A5A3H4&entry.75952468=&entry.1504275618=&entry.1086062394=&entry.349748918=&entry.2086070600=Yes&entry.1259450664=9&entry.2131194762=8&entry.465472354=6&entry.683951344=No&entry.1091771499=8&entry.1559684315=8&entry.479603624=8&entry.529608083=No&entry.2115832627=7&entry.1505214318=9&entry.33730306=4&entry.1039248229=Easy&entry.1594355609=Helpful&entry.2005802697=Comfortable&entry.781768819=Helpful&entry.830724702=Helpful&entry.1380670412=Very%20likely&entry.1239224858=&entry.108809019=\n",
      "12 https://docs.google.com/forms/d/e/1FAIpQLSd9zG4t6WDPVz_24B7Tz21sta9q5LbaeLdYp1g1t3RDc2D0UQ/viewform?usp=pp_url&entry.1533067892=DINOV3BP&entry.75952468=Masters%20in%20Computer%20sccience&entry.1504275618=&entry.1086062394=&entry.349748918=Tech&entry.2086070600=Yes&entry.1259450664=5&entry.2131194762=7&entry.465472354=2&entry.683951344=Yes&entry.1091771499=5&entry.1559684315=9&entry.479603624=1&entry.529608083=Yes&entry.2115832627=6&entry.1505214318=6&entry.33730306=2&entry.1039248229=Easy&entry.1594355609=Helpful&entry.2005802697=Comfortable&entry.781768819=Not%20helpful&entry.830724702=Helpful&entry.1380670412=Neutral&entry.1239224858=No&entry.108809019=Good\n",
      "13 https://docs.google.com/forms/d/e/1FAIpQLSd9zG4t6WDPVz_24B7Tz21sta9q5LbaeLdYp1g1t3RDc2D0UQ/viewform?usp=pp_url&entry.1533067892=HRF1CR09&entry.75952468=NIU%2CMS.CS&entry.1504275618=0&entry.1086062394=2&entry.349748918=Medical%2C%20Tech%2C%20Software%20testing&entry.2086070600=Yes&entry.1259450664=9&entry.2131194762=9&entry.465472354=4&entry.683951344=No&entry.1091771499=9&entry.1559684315=8&entry.479603624=6&entry.529608083=No&entry.2115832627=9&entry.1505214318=9&entry.33730306=6&entry.1039248229=Very%20easy&entry.1594355609=Very%20helpful&entry.2005802697=Very%20comfortable&entry.781768819=Very%20helpful&entry.830724702=Very%20helpful&entry.1380670412=Very%20likely&entry.1239224858=&entry.108809019=\n"
     ]
    }
   ],
   "source": [
    "l1 = \"\"\"https://docs.google.com/forms/d/e/1FAIpQLSd9zG4t6WDPVz_24B7Tz21sta9q5LbaeLdYp1g1t3RDc2D0UQ/viewform?usp=pp_url&entry.1533067892=t&entry.75952468=t&entry.1504275618=t&entry.1086062394=t&entry.349748918=t&entry.2086070600=Yes&entry.1259450664=1&entry.2131194762=1&entry.465472354=1&entry.683951344=Yes&entry.1091771499=1&entry.1559684315=1&entry.479603624=1&entry.529608083=Yes&entry.2115832627=1&entry.1505214318=1&entry.33730306=1&entry.1039248229=Very+easy&entry.1594355609=Very+helpful&entry.2005802697=Very+comfortable&entry.781768819=Very+helpful&entry.830724702=Very+helpful&entry.1380670412=Very+unlikely&entry.1239224858=t&entry.108809019=t\"\"\"\n",
    "list_of_links_var1_yes = get_links(l1, variant1_df_yes)\n",
    "for i, el in enumerate(list_of_links_var1_yes):\n",
    "     print(i + 1, el)"
   ]
  },
  {
   "cell_type": "code",
   "execution_count": 18,
   "metadata": {},
   "outputs": [
    {
     "name": "stdout",
     "output_type": "stream",
     "text": [
      "1 https://docs.google.com/forms/d/e/1FAIpQLSe6apvogq5mUHRWMqH6oeamkky3ea7C2NOoufePevnzveBoNQ/viewform?usp=pp_url&entry.1533067892=T0WQX9PG&entry.75952468=Northern%20Illinois%20University%20%2CMaster%27s&entry.1504275618=2&entry.1086062394=2&entry.349748918=Tech&entry.2086070600=Yes&entry.1259450664=10&entry.2131194762=9&entry.465472354=2&entry.683951344=Yes&entry.1091771499=10&entry.1559684315=9&entry.479603624=4&entry.529608083=Yes&entry.2115832627=10&entry.1505214318=8&entry.33730306=2&entry.1039248229=Very%20easy&entry.1594355609=Very%20helpful&entry.2005802697=Very%20comfortable&entry.781768819=Very%20helpful&entry.830724702=Very%20helpful&entry.1380670412=Very%20likely&entry.1239224858=&entry.108809019=\n",
      "2 https://docs.google.com/forms/d/e/1FAIpQLSe6apvogq5mUHRWMqH6oeamkky3ea7C2NOoufePevnzveBoNQ/viewform?usp=pp_url&entry.1533067892=WTUG282J&entry.75952468=Northern%20Illinois%20University%2C%20Masters%20in%20Computer%20Science&entry.1504275618=1.1&entry.1086062394=1.1&entry.349748918=Tech&entry.2086070600=No&entry.1259450664=8&entry.2131194762=9&entry.465472354=10%2B&entry.683951344=Yes&entry.1091771499=9&entry.1559684315=10&entry.479603624=10%2B&entry.529608083=No&entry.2115832627=9&entry.1505214318=9&entry.33730306=8&entry.1039248229=Easy&entry.1594355609=Helpful&entry.2005802697=Comfortable&entry.781768819=Very%20helpful&entry.830724702=Helpful&entry.1380670412=Very%20likely&entry.1239224858=NO&entry.108809019=\n",
      "3 https://docs.google.com/forms/d/e/1FAIpQLSe6apvogq5mUHRWMqH6oeamkky3ea7C2NOoufePevnzveBoNQ/viewform?usp=pp_url&entry.1533067892=9P3BLX1X&entry.75952468=NIU%2C%20Computer%20Science%20%28Graduate%29&entry.1504275618=0&entry.1086062394=2&entry.349748918=Car%20Manufacturing&entry.2086070600=No&entry.1259450664=9&entry.2131194762=8&entry.465472354=4&entry.683951344=Yes&entry.1091771499=8&entry.1559684315=9&entry.479603624=4&entry.529608083=No&entry.2115832627=9&entry.1505214318=9&entry.33730306=4&entry.1039248229=Easy&entry.1594355609=Helpful&entry.2005802697=Comfortable&entry.781768819=Helpful&entry.830724702=Helpful&entry.1380670412=Likely&entry.1239224858=No&entry.108809019=\n",
      "4 https://docs.google.com/forms/d/e/1FAIpQLSe6apvogq5mUHRWMqH6oeamkky3ea7C2NOoufePevnzveBoNQ/viewform?usp=pp_url&entry.1533067892=F0A201JX&entry.75952468=NIU%20MSCS&entry.1504275618=&entry.1086062394=1%20year&entry.349748918=Technical&entry.2086070600=Yes&entry.1259450664=7&entry.2131194762=7&entry.465472354=10%2B&entry.683951344=Yes&entry.1091771499=7&entry.1559684315=7&entry.479603624=10%2B&entry.529608083=Yes&entry.2115832627=7&entry.1505214318=7&entry.33730306=10%2B&entry.1039248229=Easy&entry.1594355609=Helpful&entry.2005802697=Somewhat%20Comfortable&entry.781768819=Helpful&entry.830724702=Helpful&entry.1380670412=Neutral&entry.1239224858=&entry.108809019=\n",
      "5 https://docs.google.com/forms/d/e/1FAIpQLSe6apvogq5mUHRWMqH6oeamkky3ea7C2NOoufePevnzveBoNQ/viewform?usp=pp_url&entry.1533067892=0BYK56AE&entry.75952468=Niu%2C%20Ms%20CS&entry.1504275618=10%20months&entry.1086062394=0&entry.349748918=Technical&entry.2086070600=Yes&entry.1259450664=7&entry.2131194762=6&entry.465472354=6&entry.683951344=Yes&entry.1091771499=7&entry.1559684315=7&entry.479603624=4&entry.529608083=Yes&entry.2115832627=7&entry.1505214318=6&entry.33730306=4&entry.1039248229=Easy&entry.1594355609=Very%20helpful&entry.2005802697=Very%20comfortable&entry.781768819=Very%20helpful&entry.830724702=Helpful&entry.1380670412=Likely&entry.1239224858=No&entry.108809019=\n",
      "6 https://docs.google.com/forms/d/e/1FAIpQLSe6apvogq5mUHRWMqH6oeamkky3ea7C2NOoufePevnzveBoNQ/viewform?usp=pp_url&entry.1533067892=4TOZRLD1&entry.75952468=Northern%20Illinois%20University&entry.1504275618=2%20years&entry.1086062394=2%20years&entry.349748918=Insurance&entry.2086070600=Yes&entry.1259450664=7&entry.2131194762=7&entry.465472354=4&entry.683951344=Yes&entry.1091771499=7&entry.1559684315=7&entry.479603624=4&entry.529608083=Yes&entry.2115832627=7&entry.1505214318=7&entry.33730306=2&entry.1039248229=Easy&entry.1594355609=Helpful&entry.2005802697=Somewhat%20Comfortable&entry.781768819=Helpful&entry.830724702=Helpful&entry.1380670412=Neutral&entry.1239224858=No&entry.108809019=%20it%20is%20very%20helpful\n",
      "7 https://docs.google.com/forms/d/e/1FAIpQLSe6apvogq5mUHRWMqH6oeamkky3ea7C2NOoufePevnzveBoNQ/viewform?usp=pp_url&entry.1533067892=XX3YGPTH&entry.75952468=Graduate&entry.1504275618=6&entry.1086062394=1&entry.349748918=Tech&entry.2086070600=No&entry.1259450664=7&entry.2131194762=7&entry.465472354=1&entry.683951344=Yes&entry.1091771499=9&entry.1559684315=9&entry.479603624=4&entry.529608083=No&entry.2115832627=7&entry.1505214318=2&entry.33730306=4&entry.1039248229=Easy&entry.1594355609=Helpful&entry.2005802697=Comfortable&entry.781768819=Helpful&entry.830724702=Helpful&entry.1380670412=Likely&entry.1239224858=&entry.108809019=Setting%20the%20manual%20images%20in%20OneDrive%20to%20Tiles%20made%20it%20much%20faster%20and%20easier%20to%20view%20the%20images%20than%20in%20the%20visAISE%2C%20but%20hard%20or%20impossible%20to%20understand%20the%20context%20of%20each%20image%20without%20the%20visAISE%20descriptions.\n",
      "8 https://docs.google.com/forms/d/e/1FAIpQLSe6apvogq5mUHRWMqH6oeamkky3ea7C2NOoufePevnzveBoNQ/viewform?usp=pp_url&entry.1533067892=H5B12HGG&entry.75952468=Bachelors%20of%20Engineering&entry.1504275618=&entry.1086062394=0&entry.349748918=0&entry.2086070600=Yes&entry.1259450664=9&entry.2131194762=9&entry.465472354=10%2B&entry.683951344=Yes&entry.1091771499=8&entry.1559684315=7&entry.479603624=10%2B&entry.529608083=Yes&entry.2115832627=9&entry.1505214318=9&entry.33730306=10%2B&entry.1039248229=Not%20easy&entry.1594355609=Helpful&entry.2005802697=Somewhat%20Comfortable&entry.781768819=Helpful&entry.830724702=Helpful&entry.1380670412=Neutral&entry.1239224858=No&entry.108809019=User%20Education\n",
      "9 https://docs.google.com/forms/d/e/1FAIpQLSe6apvogq5mUHRWMqH6oeamkky3ea7C2NOoufePevnzveBoNQ/viewform?usp=pp_url&entry.1533067892=9ME69DVG&entry.75952468=Masters&entry.1504275618=3&entry.1086062394=&entry.349748918=Software%20development%20&entry.2086070600=No&entry.1259450664=7&entry.2131194762=7&entry.465472354=6&entry.683951344=Yes&entry.1091771499=10&entry.1559684315=9&entry.479603624=4&entry.529608083=No&entry.2115832627=7&entry.1505214318=7&entry.33730306=6&entry.1039248229=Very%20easy&entry.1594355609=Very%20helpful&entry.2005802697=Very%20comfortable&entry.781768819=Very%20helpful&entry.830724702=Helpful&entry.1380670412=Very%20likely&entry.1239224858=&entry.108809019=\n",
      "10 https://docs.google.com/forms/d/e/1FAIpQLSe6apvogq5mUHRWMqH6oeamkky3ea7C2NOoufePevnzveBoNQ/viewform?usp=pp_url&entry.1533067892=DINOV3BP&entry.75952468=Masters%20in%20Computer%20sccience&entry.1504275618=&entry.1086062394=&entry.349748918=Tech&entry.2086070600=Yes&entry.1259450664=5&entry.2131194762=7&entry.465472354=2&entry.683951344=Yes&entry.1091771499=5&entry.1559684315=9&entry.479603624=1&entry.529608083=Yes&entry.2115832627=6&entry.1505214318=6&entry.33730306=2&entry.1039248229=Easy&entry.1594355609=Helpful&entry.2005802697=Comfortable&entry.781768819=Not%20helpful&entry.830724702=Helpful&entry.1380670412=Neutral&entry.1239224858=No&entry.108809019=Good\n",
      "11 https://docs.google.com/forms/d/e/1FAIpQLSe6apvogq5mUHRWMqH6oeamkky3ea7C2NOoufePevnzveBoNQ/viewform?usp=pp_url&entry.1533067892=RXHPSHVV&entry.75952468=Northern%20Illinois%20University%2C%20MS&entry.1504275618=3&entry.1086062394=3&entry.349748918=Tech%20%28Telecommunications%29&entry.2086070600=No&entry.1259450664=9&entry.2131194762=8&entry.465472354=2&entry.683951344=Yes&entry.1091771499=10&entry.1559684315=10&entry.479603624=1&entry.529608083=No&entry.2115832627=9&entry.1505214318=9&entry.33730306=2&entry.1039248229=Easy&entry.1594355609=Helpful&entry.2005802697=Comfortable&entry.781768819=Helpful&entry.830724702=Helpful&entry.1380670412=Likely&entry.1239224858=&entry.108809019=\n",
      "12 https://docs.google.com/forms/d/e/1FAIpQLSe6apvogq5mUHRWMqH6oeamkky3ea7C2NOoufePevnzveBoNQ/viewform?usp=pp_url&entry.1533067892=4QEUK8ML&entry.75952468=Northern%20Illinois%20University%2C%20Masters%20in%20CS&entry.1504275618=2.5&entry.1086062394=2.5&entry.349748918=Tech&entry.2086070600=No&entry.1259450664=10&entry.2131194762=9&entry.465472354=1&entry.683951344=Yes&entry.1091771499=9&entry.1559684315=10&entry.479603624=2&entry.529608083=No&entry.2115832627=2&entry.1505214318=2&entry.33730306=2&entry.1039248229=Easy&entry.1594355609=Helpful&entry.2005802697=Very%20comfortable&entry.781768819=Very%20helpful&entry.830724702=Helpful&entry.1380670412=Likely&entry.1239224858=&entry.108809019=\n"
     ]
    }
   ],
   "source": [
    "l2 = \"\"\"https://docs.google.com/forms/d/e/1FAIpQLSe6apvogq5mUHRWMqH6oeamkky3ea7C2NOoufePevnzveBoNQ/viewform?usp=pp_url&entry.1533067892=t&entry.75952468=t&entry.1504275618=t&entry.1086062394=t&entry.349748918=t&entry.2086070600=Yes&entry.1259450664=1&entry.2131194762=1&entry.465472354=1&entry.683951344=Yes&entry.1091771499=1&entry.1559684315=1&entry.479603624=1&entry.529608083=Yes&entry.2115832627=1&entry.1505214318=1&entry.33730306=1&entry.1039248229=Very+easy&entry.1594355609=Very+helpful&entry.2005802697=Very+comfortable&entry.781768819=Very+helpful&entry.830724702=Very+helpful&entry.1380670412=Very+unlikely&entry.1239224858=t&entry.108809019=t\"\"\"\n",
    "list_of_links_var2_yes = get_links(l2, variant2_df_yes)\n",
    "for i, el in enumerate(list_of_links_var2_yes):\n",
    "     print(i + 1, el)"
   ]
  },
  {
   "cell_type": "code",
   "execution_count": 19,
   "metadata": {},
   "outputs": [
    {
     "name": "stdout",
     "output_type": "stream",
     "text": [
      "1 https://docs.google.com/forms/d/e/1FAIpQLSdHibccmtY8St5pYwFo2_J8okeSHOXbEJGqGVTPyO6Oc7b9cg/viewform?usp=pp_url&entry.1533067892=J87GNRIE&entry.75952468=Northern%20Illinois%20university%2C%20Masters&entry.1504275618=2&entry.1086062394=1.5&entry.349748918=Banking&entry.2086070600=Yes&entry.1259450664=8&entry.2131194762=9&entry.465472354=4&entry.683951344=No&entry.1091771499=7&entry.1559684315=7&entry.479603624=10%2B&entry.529608083=Yes&entry.2115832627=9&entry.1505214318=7&entry.33730306=6&entry.1039248229=Very%20easy&entry.1594355609=Very%20helpful&entry.2005802697=Comfortable&entry.781768819=Very%20helpful&entry.830724702=Helpful&entry.1380670412=Very%20likely&entry.1239224858=No&entry.108809019=\n",
      "2 https://docs.google.com/forms/d/e/1FAIpQLSdHibccmtY8St5pYwFo2_J8okeSHOXbEJGqGVTPyO6Oc7b9cg/viewform?usp=pp_url&entry.1533067892=T0WQX9PG&entry.75952468=Northern%20Illinois%20University%20%2CMaster%27s&entry.1504275618=2&entry.1086062394=2&entry.349748918=Tech&entry.2086070600=Yes&entry.1259450664=10&entry.2131194762=9&entry.465472354=2&entry.683951344=Yes&entry.1091771499=10&entry.1559684315=9&entry.479603624=4&entry.529608083=Yes&entry.2115832627=10&entry.1505214318=8&entry.33730306=2&entry.1039248229=Very%20easy&entry.1594355609=Very%20helpful&entry.2005802697=Very%20comfortable&entry.781768819=Very%20helpful&entry.830724702=Very%20helpful&entry.1380670412=Very%20likely&entry.1239224858=&entry.108809019=\n",
      "3 https://docs.google.com/forms/d/e/1FAIpQLSdHibccmtY8St5pYwFo2_J8okeSHOXbEJGqGVTPyO6Oc7b9cg/viewform?usp=pp_url&entry.1533067892=F0A201JX&entry.75952468=NIU%20MSCS&entry.1504275618=&entry.1086062394=1%20year&entry.349748918=Technical&entry.2086070600=Yes&entry.1259450664=7&entry.2131194762=7&entry.465472354=10%2B&entry.683951344=Yes&entry.1091771499=7&entry.1559684315=7&entry.479603624=10%2B&entry.529608083=Yes&entry.2115832627=7&entry.1505214318=7&entry.33730306=10%2B&entry.1039248229=Easy&entry.1594355609=Helpful&entry.2005802697=Somewhat%20Comfortable&entry.781768819=Helpful&entry.830724702=Helpful&entry.1380670412=Neutral&entry.1239224858=&entry.108809019=\n",
      "4 https://docs.google.com/forms/d/e/1FAIpQLSdHibccmtY8St5pYwFo2_J8okeSHOXbEJGqGVTPyO6Oc7b9cg/viewform?usp=pp_url&entry.1533067892=IP98IXX1&entry.75952468=%20northern%20illinois%20university%2C%20CSE&entry.1504275618=0&entry.1086062394=1&entry.349748918=data%20science&entry.2086070600=Yes&entry.1259450664=8&entry.2131194762=9&entry.465472354=2&entry.683951344=No&entry.1091771499=8&entry.1559684315=8&entry.479603624=4&entry.529608083=Yes&entry.2115832627=8&entry.1505214318=5&entry.33730306=1&entry.1039248229=Easy&entry.1594355609=Very%20helpful&entry.2005802697=Very%20comfortable&entry.781768819=Very%20helpful&entry.830724702=Helpful&entry.1380670412=Very%20likely&entry.1239224858=&entry.108809019=\n",
      "5 https://docs.google.com/forms/d/e/1FAIpQLSdHibccmtY8St5pYwFo2_J8okeSHOXbEJGqGVTPyO6Oc7b9cg/viewform?usp=pp_url&entry.1533067892=0BYK56AE&entry.75952468=Niu%2C%20Ms%20CS&entry.1504275618=10%20months&entry.1086062394=0&entry.349748918=Technical&entry.2086070600=Yes&entry.1259450664=7&entry.2131194762=6&entry.465472354=6&entry.683951344=Yes&entry.1091771499=7&entry.1559684315=7&entry.479603624=4&entry.529608083=Yes&entry.2115832627=7&entry.1505214318=6&entry.33730306=4&entry.1039248229=Easy&entry.1594355609=Very%20helpful&entry.2005802697=Very%20comfortable&entry.781768819=Very%20helpful&entry.830724702=Helpful&entry.1380670412=Likely&entry.1239224858=No&entry.108809019=\n",
      "6 https://docs.google.com/forms/d/e/1FAIpQLSdHibccmtY8St5pYwFo2_J8okeSHOXbEJGqGVTPyO6Oc7b9cg/viewform?usp=pp_url&entry.1533067892=4TOZRLD1&entry.75952468=Northern%20Illinois%20University&entry.1504275618=2%20years&entry.1086062394=2%20years&entry.349748918=Insurance&entry.2086070600=Yes&entry.1259450664=7&entry.2131194762=7&entry.465472354=4&entry.683951344=Yes&entry.1091771499=7&entry.1559684315=7&entry.479603624=4&entry.529608083=Yes&entry.2115832627=7&entry.1505214318=7&entry.33730306=2&entry.1039248229=Easy&entry.1594355609=Helpful&entry.2005802697=Somewhat%20Comfortable&entry.781768819=Helpful&entry.830724702=Helpful&entry.1380670412=Neutral&entry.1239224858=No&entry.108809019=%20it%20is%20very%20helpful\n",
      "7 https://docs.google.com/forms/d/e/1FAIpQLSdHibccmtY8St5pYwFo2_J8okeSHOXbEJGqGVTPyO6Oc7b9cg/viewform?usp=pp_url&entry.1533067892=E1798LT6&entry.75952468=Northern%20Illinois%20University%2C%20Master%27s%20in%20CS&entry.1504275618=0&entry.1086062394=12%20months&entry.349748918=Tech&entry.2086070600=Yes&entry.1259450664=9&entry.2131194762=8&entry.465472354=2&entry.683951344=No&entry.1091771499=9&entry.1559684315=7&entry.479603624=2&entry.529608083=Yes&entry.2115832627=9&entry.1505214318=9&entry.33730306=1&entry.1039248229=Easy&entry.1594355609=Very%20helpful&entry.2005802697=Comfortable&entry.781768819=Helpful&entry.830724702=Helpful&entry.1380670412=Likely&entry.1239224858=using%20tool%20makes%20easy&entry.108809019=\n",
      "8 https://docs.google.com/forms/d/e/1FAIpQLSdHibccmtY8St5pYwFo2_J8okeSHOXbEJGqGVTPyO6Oc7b9cg/viewform?usp=pp_url&entry.1533067892=DFZE2AIP&entry.75952468=Master%27s%20in%20Computer%20Science%20%20at%20Northern%20Illinois%20University&entry.1504275618=1.5&entry.1086062394=1.5&entry.349748918=Tech&entry.2086070600=Yes&entry.1259450664=9&entry.2131194762=9&entry.465472354=4&entry.683951344=No&entry.1091771499=8&entry.1559684315=7&entry.479603624=10%2B&entry.529608083=Yes&entry.2115832627=8&entry.1505214318=8&entry.33730306=4&entry.1039248229=Easy&entry.1594355609=Very%20helpful&entry.2005802697=Comfortable&entry.781768819=Helpful&entry.830724702=Helpful&entry.1380670412=Likely&entry.1239224858=the%20images%20and%20names%20of%20variant%20propulsion%20elements%20are%20a%20bit%20difficult%20to%20identify&entry.108809019=\n",
      "9 https://docs.google.com/forms/d/e/1FAIpQLSdHibccmtY8St5pYwFo2_J8okeSHOXbEJGqGVTPyO6Oc7b9cg/viewform?usp=pp_url&entry.1533067892=1LBH6O6J&entry.75952468=NIU%20Masters&entry.1504275618=0&entry.1086062394=0&entry.349748918=technology&entry.2086070600=No&entry.1259450664=10&entry.2131194762=7&entry.465472354=8&entry.683951344=No&entry.1091771499=10&entry.1559684315=7&entry.479603624=8&entry.529608083=Yes&entry.2115832627=10&entry.1505214318=10&entry.33730306=4&entry.1039248229=Easy&entry.1594355609=Helpful&entry.2005802697=Comfortable&entry.781768819=Very%20helpful&entry.830724702=Helpful&entry.1380670412=Likely&entry.1239224858=no&entry.108809019=similarities%20in%20pictures%20due%20to%20terms%20like%20protesters%20and%20airport%20shows%20both%20airport%20protest%20and%20railway%20protest%2C%20it%20might%20be%20right%20but%20i%20had%20a%20doubt%20based%20on%20my%20knowledge%20%20%20\n",
      "10 https://docs.google.com/forms/d/e/1FAIpQLSdHibccmtY8St5pYwFo2_J8okeSHOXbEJGqGVTPyO6Oc7b9cg/viewform?usp=pp_url&entry.1533067892=H5B12HGG&entry.75952468=Bachelors%20of%20Engineering&entry.1504275618=&entry.1086062394=0&entry.349748918=0&entry.2086070600=Yes&entry.1259450664=9&entry.2131194762=9&entry.465472354=10%2B&entry.683951344=Yes&entry.1091771499=8&entry.1559684315=7&entry.479603624=10%2B&entry.529608083=Yes&entry.2115832627=9&entry.1505214318=9&entry.33730306=10%2B&entry.1039248229=Not%20easy&entry.1594355609=Helpful&entry.2005802697=Somewhat%20Comfortable&entry.781768819=Helpful&entry.830724702=Helpful&entry.1380670412=Neutral&entry.1239224858=No&entry.108809019=User%20Education\n",
      "11 https://docs.google.com/forms/d/e/1FAIpQLSdHibccmtY8St5pYwFo2_J8okeSHOXbEJGqGVTPyO6Oc7b9cg/viewform?usp=pp_url&entry.1533067892=4UVV403S&entry.75952468=Northern%20Illinois%20University%20%2C%20Masters&entry.1504275618=2&entry.1086062394=2&entry.349748918=Automation%20security%20products&entry.2086070600=No&entry.1259450664=8&entry.2131194762=8&entry.465472354=4&entry.683951344=No&entry.1091771499=8&entry.1559684315=8&entry.479603624=4&entry.529608083=Yes&entry.2115832627=9&entry.1505214318=9&entry.33730306=4&entry.1039248229=Easy&entry.1594355609=Helpful&entry.2005802697=Comfortable&entry.781768819=Helpful&entry.830724702=Helpful&entry.1380670412=Unlikely&entry.1239224858=No&entry.108809019=\n",
      "12 https://docs.google.com/forms/d/e/1FAIpQLSdHibccmtY8St5pYwFo2_J8okeSHOXbEJGqGVTPyO6Oc7b9cg/viewform?usp=pp_url&entry.1533067892=DINOV3BP&entry.75952468=Masters%20in%20Computer%20sccience&entry.1504275618=&entry.1086062394=&entry.349748918=Tech&entry.2086070600=Yes&entry.1259450664=5&entry.2131194762=7&entry.465472354=2&entry.683951344=Yes&entry.1091771499=5&entry.1559684315=9&entry.479603624=1&entry.529608083=Yes&entry.2115832627=6&entry.1505214318=6&entry.33730306=2&entry.1039248229=Easy&entry.1594355609=Helpful&entry.2005802697=Comfortable&entry.781768819=Not%20helpful&entry.830724702=Helpful&entry.1380670412=Neutral&entry.1239224858=No&entry.108809019=Good\n",
      "13 https://docs.google.com/forms/d/e/1FAIpQLSdHibccmtY8St5pYwFo2_J8okeSHOXbEJGqGVTPyO6Oc7b9cg/viewform?usp=pp_url&entry.1533067892=KBX5FDV3&entry.75952468=Northern%20Illinois%20University%2C%20Master%27s%20in%20CS&entry.1504275618=0&entry.1086062394=0&entry.349748918=Tech&entry.2086070600=No&entry.1259450664=9&entry.2131194762=9&entry.465472354=4&entry.683951344=No&entry.1091771499=9&entry.1559684315=2&entry.479603624=2&entry.529608083=Yes&entry.2115832627=9&entry.1505214318=9&entry.33730306=2&entry.1039248229=Easy&entry.1594355609=Helpful&entry.2005802697=Comfortable&entry.781768819=Very%20helpful&entry.830724702=Helpful&entry.1380670412=Very%20likely&entry.1239224858=NO&entry.108809019=Using%20the%20tool%20was%20a%20lot%20more%20easier%20than%20looking%20at%20the%20manual%20and%20searching%20for%20the%20images.%20This%20tool%20saves%20a%20lot%20of%20time%20to%20go%20through%20the%20related%20data%20compared%20to%20searching%20the%20data%20manually.%20Finally%20I%20say%20that%20the%20tool%20is%20helpful.\n",
      "14 https://docs.google.com/forms/d/e/1FAIpQLSdHibccmtY8St5pYwFo2_J8okeSHOXbEJGqGVTPyO6Oc7b9cg/viewform?usp=pp_url&entry.1533067892=N5CYZFH8&entry.75952468=NIU%2C%20Ms.CS&entry.1504275618=0&entry.1086062394=2&entry.349748918=Tech-Salesforce&entry.2086070600=No&entry.1259450664=8&entry.2131194762=8&entry.465472354=8&entry.683951344=No&entry.1091771499=8&entry.1559684315=9&entry.479603624=8&entry.529608083=Yes&entry.2115832627=9&entry.1505214318=10&entry.33730306=4&entry.1039248229=Very%20easy&entry.1594355609=Very%20helpful&entry.2005802697=Very%20comfortable&entry.781768819=Very%20helpful&entry.830724702=Very%20helpful&entry.1380670412=Very%20likely&entry.1239224858=&entry.108809019=\n"
     ]
    }
   ],
   "source": [
    "l3 = \"\"\"https://docs.google.com/forms/d/e/1FAIpQLSdHibccmtY8St5pYwFo2_J8okeSHOXbEJGqGVTPyO6Oc7b9cg/viewform?usp=pp_url&entry.1533067892=t&entry.75952468=t&entry.1504275618=t&entry.1086062394=t&entry.349748918=t&entry.2086070600=Yes&entry.1259450664=1&entry.2131194762=1&entry.465472354=1&entry.683951344=Yes&entry.1091771499=1&entry.1559684315=1&entry.479603624=1&entry.529608083=Yes&entry.2115832627=1&entry.1505214318=1&entry.33730306=1&entry.1039248229=Very+easy&entry.1594355609=Very+helpful&entry.2005802697=Very+comfortable&entry.781768819=Very+helpful&entry.830724702=Very+helpful&entry.1380670412=Very+unlikely&entry.1239224858=t&entry.108809019=t\"\"\"\n",
    "list_of_links_var3_yes = get_links(l3, variant3_df_yes)\n",
    "for i, el in enumerate(list_of_links_var3_yes):\n",
    "     print(i + 1, el)"
   ]
  },
  {
   "cell_type": "code",
   "execution_count": 23,
   "metadata": {},
   "outputs": [
    {
     "name": "stdout",
     "output_type": "stream",
     "text": [
      "1 https://docs.google.com/forms/d/e/1FAIpQLSdHtB31TnHKc_7SE7eN0HqQMQdbO0mzQ9V0ABqbaztJSvz3iw/viewform?usp=pp_url&entry.1533067892=WTUG282J&entry.75952468=Northern%20Illinois%20University%2C%20Masters%20in%20Computer%20Science&entry.1504275618=1.1&entry.1086062394=1.1&entry.349748918=Tech&entry.2086070600=No&entry.1259450664=8&entry.2131194762=9&entry.465472354=10%2B&entry.683951344=Yes&entry.1091771499=9&entry.1559684315=10&entry.479603624=10%2B&entry.529608083=No&entry.2115832627=9&entry.1505214318=9&entry.33730306=8&entry.1039248229=Easy&entry.1594355609=Helpful&entry.2005802697=Comfortable&entry.781768819=Very%20helpful&entry.830724702=Helpful&entry.1380670412=Very%20likely&entry.1239224858=NO&entry.108809019=\n",
      "2 https://docs.google.com/forms/d/e/1FAIpQLSdHtB31TnHKc_7SE7eN0HqQMQdbO0mzQ9V0ABqbaztJSvz3iw/viewform?usp=pp_url&entry.1533067892=9P3BLX1X&entry.75952468=NIU%2C%20Computer%20Science%20%28Graduate%29&entry.1504275618=0&entry.1086062394=2&entry.349748918=Car%20Manufacturing&entry.2086070600=No&entry.1259450664=9&entry.2131194762=8&entry.465472354=4&entry.683951344=Yes&entry.1091771499=8&entry.1559684315=9&entry.479603624=4&entry.529608083=No&entry.2115832627=9&entry.1505214318=9&entry.33730306=4&entry.1039248229=Easy&entry.1594355609=Helpful&entry.2005802697=Comfortable&entry.781768819=Helpful&entry.830724702=Helpful&entry.1380670412=Likely&entry.1239224858=No&entry.108809019=\n",
      "3 https://docs.google.com/forms/d/e/1FAIpQLSdHtB31TnHKc_7SE7eN0HqQMQdbO0mzQ9V0ABqbaztJSvz3iw/viewform?usp=pp_url&entry.1533067892=XX3YGPTH&entry.75952468=Graduate&entry.1504275618=6&entry.1086062394=1&entry.349748918=Tech&entry.2086070600=No&entry.1259450664=7&entry.2131194762=7&entry.465472354=1&entry.683951344=Yes&entry.1091771499=9&entry.1559684315=9&entry.479603624=4&entry.529608083=No&entry.2115832627=7&entry.1505214318=2&entry.33730306=4&entry.1039248229=Easy&entry.1594355609=Helpful&entry.2005802697=Comfortable&entry.781768819=Helpful&entry.830724702=Helpful&entry.1380670412=Likely&entry.1239224858=&entry.108809019=Setting%20the%20manual%20images%20in%20OneDrive%20to%20Tiles%20made%20it%20much%20faster%20and%20easier%20to%20view%20the%20images%20than%20in%20the%20visAISE%2C%20but%20hard%20or%20impossible%20to%20understand%20the%20context%20of%20each%20image%20without%20the%20visAISE%20descriptions.\n",
      "4 https://docs.google.com/forms/d/e/1FAIpQLSdHtB31TnHKc_7SE7eN0HqQMQdbO0mzQ9V0ABqbaztJSvz3iw/viewform?usp=pp_url&entry.1533067892=1LBH6O6J&entry.75952468=NIU%20Masters&entry.1504275618=0&entry.1086062394=0&entry.349748918=technology&entry.2086070600=No&entry.1259450664=10&entry.2131194762=7&entry.465472354=8&entry.683951344=No&entry.1091771499=10&entry.1559684315=7&entry.479603624=8&entry.529608083=Yes&entry.2115832627=10&entry.1505214318=10&entry.33730306=4&entry.1039248229=Easy&entry.1594355609=Helpful&entry.2005802697=Comfortable&entry.781768819=Very%20helpful&entry.830724702=Helpful&entry.1380670412=Likely&entry.1239224858=no&entry.108809019=similarities%20in%20pictures%20due%20to%20terms%20like%20protesters%20and%20airport%20shows%20both%20airport%20protest%20and%20railway%20protest%2C%20it%20might%20be%20right%20but%20i%20had%20a%20doubt%20based%20on%20my%20knowledge%20%20%20\n",
      "5 https://docs.google.com/forms/d/e/1FAIpQLSdHtB31TnHKc_7SE7eN0HqQMQdbO0mzQ9V0ABqbaztJSvz3iw/viewform?usp=pp_url&entry.1533067892=4UVV403S&entry.75952468=Northern%20Illinois%20University%20%2C%20Masters&entry.1504275618=2&entry.1086062394=2&entry.349748918=Automation%20security%20products&entry.2086070600=No&entry.1259450664=8&entry.2131194762=8&entry.465472354=4&entry.683951344=No&entry.1091771499=8&entry.1559684315=8&entry.479603624=4&entry.529608083=Yes&entry.2115832627=9&entry.1505214318=9&entry.33730306=4&entry.1039248229=Easy&entry.1594355609=Helpful&entry.2005802697=Comfortable&entry.781768819=Helpful&entry.830724702=Helpful&entry.1380670412=Unlikely&entry.1239224858=No&entry.108809019=\n",
      "6 https://docs.google.com/forms/d/e/1FAIpQLSdHtB31TnHKc_7SE7eN0HqQMQdbO0mzQ9V0ABqbaztJSvz3iw/viewform?usp=pp_url&entry.1533067892=9ME69DVG&entry.75952468=Masters&entry.1504275618=3&entry.1086062394=&entry.349748918=Software%20development%20&entry.2086070600=No&entry.1259450664=7&entry.2131194762=7&entry.465472354=6&entry.683951344=Yes&entry.1091771499=10&entry.1559684315=9&entry.479603624=4&entry.529608083=No&entry.2115832627=7&entry.1505214318=7&entry.33730306=6&entry.1039248229=Very%20easy&entry.1594355609=Very%20helpful&entry.2005802697=Very%20comfortable&entry.781768819=Very%20helpful&entry.830724702=Helpful&entry.1380670412=Very%20likely&entry.1239224858=&entry.108809019=\n",
      "7 https://docs.google.com/forms/d/e/1FAIpQLSdHtB31TnHKc_7SE7eN0HqQMQdbO0mzQ9V0ABqbaztJSvz3iw/viewform?usp=pp_url&entry.1533067892=RXHPSHVV&entry.75952468=Northern%20Illinois%20University%2C%20MS&entry.1504275618=3&entry.1086062394=3&entry.349748918=Tech%20%28Telecommunications%29&entry.2086070600=No&entry.1259450664=9&entry.2131194762=8&entry.465472354=2&entry.683951344=Yes&entry.1091771499=10&entry.1559684315=10&entry.479603624=1&entry.529608083=No&entry.2115832627=9&entry.1505214318=9&entry.33730306=2&entry.1039248229=Easy&entry.1594355609=Helpful&entry.2005802697=Comfortable&entry.781768819=Helpful&entry.830724702=Helpful&entry.1380670412=Likely&entry.1239224858=&entry.108809019=\n",
      "8 https://docs.google.com/forms/d/e/1FAIpQLSdHtB31TnHKc_7SE7eN0HqQMQdbO0mzQ9V0ABqbaztJSvz3iw/viewform?usp=pp_url&entry.1533067892=KBX5FDV3&entry.75952468=Northern%20Illinois%20University%2C%20Master%27s%20in%20CS&entry.1504275618=0&entry.1086062394=0&entry.349748918=Tech&entry.2086070600=No&entry.1259450664=9&entry.2131194762=9&entry.465472354=4&entry.683951344=No&entry.1091771499=9&entry.1559684315=2&entry.479603624=2&entry.529608083=Yes&entry.2115832627=9&entry.1505214318=9&entry.33730306=2&entry.1039248229=Easy&entry.1594355609=Helpful&entry.2005802697=Comfortable&entry.781768819=Very%20helpful&entry.830724702=Helpful&entry.1380670412=Very%20likely&entry.1239224858=NO&entry.108809019=Using%20the%20tool%20was%20a%20lot%20more%20easier%20than%20looking%20at%20the%20manual%20and%20searching%20for%20the%20images.%20This%20tool%20saves%20a%20lot%20of%20time%20to%20go%20through%20the%20related%20data%20compared%20to%20searching%20the%20data%20manually.%20Finally%20I%20say%20that%20the%20tool%20is%20helpful.\n",
      "9 https://docs.google.com/forms/d/e/1FAIpQLSdHtB31TnHKc_7SE7eN0HqQMQdbO0mzQ9V0ABqbaztJSvz3iw/viewform?usp=pp_url&entry.1533067892=N5CYZFH8&entry.75952468=NIU%2C%20Ms.CS&entry.1504275618=0&entry.1086062394=2&entry.349748918=Tech-Salesforce&entry.2086070600=No&entry.1259450664=8&entry.2131194762=8&entry.465472354=8&entry.683951344=No&entry.1091771499=8&entry.1559684315=9&entry.479603624=8&entry.529608083=Yes&entry.2115832627=9&entry.1505214318=10&entry.33730306=4&entry.1039248229=Very%20easy&entry.1594355609=Very%20helpful&entry.2005802697=Very%20comfortable&entry.781768819=Very%20helpful&entry.830724702=Very%20helpful&entry.1380670412=Very%20likely&entry.1239224858=&entry.108809019=\n",
      "10 https://docs.google.com/forms/d/e/1FAIpQLSdHtB31TnHKc_7SE7eN0HqQMQdbO0mzQ9V0ABqbaztJSvz3iw/viewform?usp=pp_url&entry.1533067892=4QEUK8ML&entry.75952468=Northern%20Illinois%20University%2C%20Masters%20in%20CS&entry.1504275618=2.5&entry.1086062394=2.5&entry.349748918=Tech&entry.2086070600=No&entry.1259450664=10&entry.2131194762=9&entry.465472354=1&entry.683951344=Yes&entry.1091771499=9&entry.1559684315=10&entry.479603624=2&entry.529608083=No&entry.2115832627=2&entry.1505214318=2&entry.33730306=2&entry.1039248229=Easy&entry.1594355609=Helpful&entry.2005802697=Very%20comfortable&entry.781768819=Very%20helpful&entry.830724702=Helpful&entry.1380670412=Likely&entry.1239224858=&entry.108809019=\n"
     ]
    }
   ],
   "source": [
    "l1 = \"\"\"https://docs.google.com/forms/d/e/1FAIpQLSdHtB31TnHKc_7SE7eN0HqQMQdbO0mzQ9V0ABqbaztJSvz3iw/viewform?usp=pp_url&entry.1533067892=t&entry.75952468=t&entry.1504275618=t&entry.1086062394=t&entry.349748918=t&entry.2086070600=Yes&entry.1259450664=1&entry.2131194762=1&entry.465472354=1&entry.683951344=Yes&entry.1091771499=1&entry.1559684315=1&entry.479603624=1&entry.529608083=Yes&entry.2115832627=1&entry.1505214318=1&entry.33730306=1&entry.1039248229=Very+easy&entry.1594355609=Very+helpful&entry.2005802697=Very+comfortable&entry.781768819=Very+helpful&entry.830724702=Very+helpful&entry.1380670412=Very+unlikely&entry.1239224858=t&entry.108809019=t\"\"\"\n",
    "list_of_links_var1_no = get_links(l1, variant1_df_no)\n",
    "for i, el in enumerate(list_of_links_var1_no):\n",
    "     print(i + 1, el)"
   ]
  },
  {
   "cell_type": "code",
   "execution_count": 24,
   "metadata": {},
   "outputs": [
    {
     "name": "stdout",
     "output_type": "stream",
     "text": [
      "1 https://docs.google.com/forms/d/e/1FAIpQLSdipaP4hhpN0v47ZGVtOR7_l8oMRHT4tYR02gJgIs9eymDU2g/viewform?usp=pp_url&entry.1533067892=J87GNRIE&entry.75952468=Northern%20Illinois%20university%2C%20Masters&entry.1504275618=2&entry.1086062394=1.5&entry.349748918=Banking&entry.2086070600=Yes&entry.1259450664=8&entry.2131194762=9&entry.465472354=4&entry.683951344=No&entry.1091771499=7&entry.1559684315=7&entry.479603624=10%2B&entry.529608083=Yes&entry.2115832627=9&entry.1505214318=7&entry.33730306=6&entry.1039248229=Very%20easy&entry.1594355609=Very%20helpful&entry.2005802697=Comfortable&entry.781768819=Very%20helpful&entry.830724702=Helpful&entry.1380670412=Very%20likely&entry.1239224858=No&entry.108809019=\n",
      "2 https://docs.google.com/forms/d/e/1FAIpQLSdipaP4hhpN0v47ZGVtOR7_l8oMRHT4tYR02gJgIs9eymDU2g/viewform?usp=pp_url&entry.1533067892=IP98IXX1&entry.75952468=%20northern%20illinois%20university%2C%20CSE&entry.1504275618=0&entry.1086062394=1&entry.349748918=data%20science&entry.2086070600=Yes&entry.1259450664=8&entry.2131194762=9&entry.465472354=2&entry.683951344=No&entry.1091771499=8&entry.1559684315=8&entry.479603624=4&entry.529608083=Yes&entry.2115832627=8&entry.1505214318=5&entry.33730306=1&entry.1039248229=Easy&entry.1594355609=Very%20helpful&entry.2005802697=Very%20comfortable&entry.781768819=Very%20helpful&entry.830724702=Helpful&entry.1380670412=Very%20likely&entry.1239224858=&entry.108809019=\n",
      "3 https://docs.google.com/forms/d/e/1FAIpQLSdipaP4hhpN0v47ZGVtOR7_l8oMRHT4tYR02gJgIs9eymDU2g/viewform?usp=pp_url&entry.1533067892=E1798LT6&entry.75952468=Northern%20Illinois%20University%2C%20Master%27s%20in%20CS&entry.1504275618=0&entry.1086062394=12%20months&entry.349748918=Tech&entry.2086070600=Yes&entry.1259450664=9&entry.2131194762=8&entry.465472354=2&entry.683951344=No&entry.1091771499=9&entry.1559684315=7&entry.479603624=2&entry.529608083=Yes&entry.2115832627=9&entry.1505214318=9&entry.33730306=1&entry.1039248229=Easy&entry.1594355609=Very%20helpful&entry.2005802697=Comfortable&entry.781768819=Helpful&entry.830724702=Helpful&entry.1380670412=Likely&entry.1239224858=using%20tool%20makes%20easy&entry.108809019=\n",
      "4 https://docs.google.com/forms/d/e/1FAIpQLSdipaP4hhpN0v47ZGVtOR7_l8oMRHT4tYR02gJgIs9eymDU2g/viewform?usp=pp_url&entry.1533067892=DFZE2AIP&entry.75952468=Master%27s%20in%20Computer%20Science%20%20at%20Northern%20Illinois%20University&entry.1504275618=1.5&entry.1086062394=1.5&entry.349748918=Tech&entry.2086070600=Yes&entry.1259450664=9&entry.2131194762=9&entry.465472354=4&entry.683951344=No&entry.1091771499=8&entry.1559684315=7&entry.479603624=10%2B&entry.529608083=Yes&entry.2115832627=8&entry.1505214318=8&entry.33730306=4&entry.1039248229=Easy&entry.1594355609=Very%20helpful&entry.2005802697=Comfortable&entry.781768819=Helpful&entry.830724702=Helpful&entry.1380670412=Likely&entry.1239224858=the%20images%20and%20names%20of%20variant%20propulsion%20elements%20are%20a%20bit%20difficult%20to%20identify&entry.108809019=\n",
      "5 https://docs.google.com/forms/d/e/1FAIpQLSdipaP4hhpN0v47ZGVtOR7_l8oMRHT4tYR02gJgIs9eymDU2g/viewform?usp=pp_url&entry.1533067892=16D93W77&entry.75952468=Masters%20in%20Computer%20Science%2C%20Northern%20Illinois%20University&entry.1504275618=1.5&entry.1086062394=1.5&entry.349748918=front%20end%20development&entry.2086070600=Yes&entry.1259450664=8&entry.2131194762=8&entry.465472354=4&entry.683951344=No&entry.1091771499=8&entry.1559684315=6&entry.479603624=4&entry.529608083=&entry.2115832627=7&entry.1505214318=6&entry.33730306=4&entry.1039248229=Easy&entry.1594355609=Helpful&entry.2005802697=Comfortable&entry.781768819=Helpful&entry.830724702=Helpful&entry.1380670412=Likely&entry.1239224858=no&entry.108809019=the%20scroll%20for%20the%20images%20is%20not%20fitting%20the%20screen%2C%20it%20makes%20it%20difficult%20to%20scroll%20twice\n",
      "6 https://docs.google.com/forms/d/e/1FAIpQLSdipaP4hhpN0v47ZGVtOR7_l8oMRHT4tYR02gJgIs9eymDU2g/viewform?usp=pp_url&entry.1533067892=1LBH6O6J&entry.75952468=NIU%20Masters&entry.1504275618=0&entry.1086062394=0&entry.349748918=technology&entry.2086070600=No&entry.1259450664=10&entry.2131194762=7&entry.465472354=8&entry.683951344=No&entry.1091771499=10&entry.1559684315=7&entry.479603624=8&entry.529608083=Yes&entry.2115832627=10&entry.1505214318=10&entry.33730306=4&entry.1039248229=Easy&entry.1594355609=Helpful&entry.2005802697=Comfortable&entry.781768819=Very%20helpful&entry.830724702=Helpful&entry.1380670412=Likely&entry.1239224858=no&entry.108809019=similarities%20in%20pictures%20due%20to%20terms%20like%20protesters%20and%20airport%20shows%20both%20airport%20protest%20and%20railway%20protest%2C%20it%20might%20be%20right%20but%20i%20had%20a%20doubt%20based%20on%20my%20knowledge%20%20%20\n",
      "7 https://docs.google.com/forms/d/e/1FAIpQLSdipaP4hhpN0v47ZGVtOR7_l8oMRHT4tYR02gJgIs9eymDU2g/viewform?usp=pp_url&entry.1533067892=4UVV403S&entry.75952468=Northern%20Illinois%20University%20%2C%20Masters&entry.1504275618=2&entry.1086062394=2&entry.349748918=Automation%20security%20products&entry.2086070600=No&entry.1259450664=8&entry.2131194762=8&entry.465472354=4&entry.683951344=No&entry.1091771499=8&entry.1559684315=8&entry.479603624=4&entry.529608083=Yes&entry.2115832627=9&entry.1505214318=9&entry.33730306=4&entry.1039248229=Easy&entry.1594355609=Helpful&entry.2005802697=Comfortable&entry.781768819=Helpful&entry.830724702=Helpful&entry.1380670412=Unlikely&entry.1239224858=No&entry.108809019=\n",
      "8 https://docs.google.com/forms/d/e/1FAIpQLSdipaP4hhpN0v47ZGVtOR7_l8oMRHT4tYR02gJgIs9eymDU2g/viewform?usp=pp_url&entry.1533067892=F7A5A3H4&entry.75952468=&entry.1504275618=&entry.1086062394=&entry.349748918=&entry.2086070600=Yes&entry.1259450664=9&entry.2131194762=8&entry.465472354=6&entry.683951344=No&entry.1091771499=8&entry.1559684315=8&entry.479603624=8&entry.529608083=No&entry.2115832627=7&entry.1505214318=9&entry.33730306=4&entry.1039248229=Easy&entry.1594355609=Helpful&entry.2005802697=Comfortable&entry.781768819=Helpful&entry.830724702=Helpful&entry.1380670412=Very%20likely&entry.1239224858=&entry.108809019=\n",
      "9 https://docs.google.com/forms/d/e/1FAIpQLSdipaP4hhpN0v47ZGVtOR7_l8oMRHT4tYR02gJgIs9eymDU2g/viewform?usp=pp_url&entry.1533067892=KBX5FDV3&entry.75952468=Northern%20Illinois%20University%2C%20Master%27s%20in%20CS&entry.1504275618=0&entry.1086062394=0&entry.349748918=Tech&entry.2086070600=No&entry.1259450664=9&entry.2131194762=9&entry.465472354=4&entry.683951344=No&entry.1091771499=9&entry.1559684315=2&entry.479603624=2&entry.529608083=Yes&entry.2115832627=9&entry.1505214318=9&entry.33730306=2&entry.1039248229=Easy&entry.1594355609=Helpful&entry.2005802697=Comfortable&entry.781768819=Very%20helpful&entry.830724702=Helpful&entry.1380670412=Very%20likely&entry.1239224858=NO&entry.108809019=Using%20the%20tool%20was%20a%20lot%20more%20easier%20than%20looking%20at%20the%20manual%20and%20searching%20for%20the%20images.%20This%20tool%20saves%20a%20lot%20of%20time%20to%20go%20through%20the%20related%20data%20compared%20to%20searching%20the%20data%20manually.%20Finally%20I%20say%20that%20the%20tool%20is%20helpful.\n",
      "10 https://docs.google.com/forms/d/e/1FAIpQLSdipaP4hhpN0v47ZGVtOR7_l8oMRHT4tYR02gJgIs9eymDU2g/viewform?usp=pp_url&entry.1533067892=N5CYZFH8&entry.75952468=NIU%2C%20Ms.CS&entry.1504275618=0&entry.1086062394=2&entry.349748918=Tech-Salesforce&entry.2086070600=No&entry.1259450664=8&entry.2131194762=8&entry.465472354=8&entry.683951344=No&entry.1091771499=8&entry.1559684315=9&entry.479603624=8&entry.529608083=Yes&entry.2115832627=9&entry.1505214318=10&entry.33730306=4&entry.1039248229=Very%20easy&entry.1594355609=Very%20helpful&entry.2005802697=Very%20comfortable&entry.781768819=Very%20helpful&entry.830724702=Very%20helpful&entry.1380670412=Very%20likely&entry.1239224858=&entry.108809019=\n",
      "11 https://docs.google.com/forms/d/e/1FAIpQLSdipaP4hhpN0v47ZGVtOR7_l8oMRHT4tYR02gJgIs9eymDU2g/viewform?usp=pp_url&entry.1533067892=HRF1CR09&entry.75952468=NIU%2CMS.CS&entry.1504275618=0&entry.1086062394=2&entry.349748918=Medical%2C%20Tech%2C%20Software%20testing&entry.2086070600=Yes&entry.1259450664=9&entry.2131194762=9&entry.465472354=4&entry.683951344=No&entry.1091771499=9&entry.1559684315=8&entry.479603624=6&entry.529608083=No&entry.2115832627=9&entry.1505214318=9&entry.33730306=6&entry.1039248229=Very%20easy&entry.1594355609=Very%20helpful&entry.2005802697=Very%20comfortable&entry.781768819=Very%20helpful&entry.830724702=Very%20helpful&entry.1380670412=Very%20likely&entry.1239224858=&entry.108809019=\n"
     ]
    }
   ],
   "source": [
    "l1 = \"\"\"https://docs.google.com/forms/d/e/1FAIpQLSdipaP4hhpN0v47ZGVtOR7_l8oMRHT4tYR02gJgIs9eymDU2g/viewform?usp=pp_url&entry.1533067892=t&entry.75952468=t&entry.1504275618=t&entry.1086062394=t&entry.349748918=t&entry.2086070600=Yes&entry.1259450664=1&entry.2131194762=1&entry.465472354=1&entry.683951344=Yes&entry.1091771499=1&entry.1559684315=1&entry.479603624=1&entry.529608083=Yes&entry.2115832627=1&entry.1505214318=1&entry.33730306=1&entry.1039248229=Very+easy&entry.1594355609=Very+helpful&entry.2005802697=Very+comfortable&entry.781768819=Very+helpful&entry.830724702=Very+helpful&entry.1380670412=Very+unlikely&entry.1239224858=t&entry.108809019=t\"\"\"\n",
    "list_of_links_var2_no = get_links(l1, variant2_df_no)\n",
    "for i, el in enumerate(list_of_links_var2_no):\n",
    "     print(i + 1, el)"
   ]
  },
  {
   "cell_type": "code",
   "execution_count": 25,
   "metadata": {},
   "outputs": [
    {
     "name": "stdout",
     "output_type": "stream",
     "text": [
      "1 https://docs.google.com/forms/d/e/1FAIpQLSezfVXVqIStAnDgdXJhPtW8qyYFixqkAKPn60s5rntnMAYIYA/viewform?usp=pp_url&entry.1533067892=WTUG282J&entry.75952468=Northern%20Illinois%20University%2C%20Masters%20in%20Computer%20Science&entry.1504275618=1.1&entry.1086062394=1.1&entry.349748918=Tech&entry.2086070600=No&entry.1259450664=8&entry.2131194762=9&entry.465472354=10%2B&entry.683951344=Yes&entry.1091771499=9&entry.1559684315=10&entry.479603624=10%2B&entry.529608083=No&entry.2115832627=9&entry.1505214318=9&entry.33730306=8&entry.1039248229=Easy&entry.1594355609=Helpful&entry.2005802697=Comfortable&entry.781768819=Very%20helpful&entry.830724702=Helpful&entry.1380670412=Very%20likely&entry.1239224858=NO&entry.108809019=\n",
      "2 https://docs.google.com/forms/d/e/1FAIpQLSezfVXVqIStAnDgdXJhPtW8qyYFixqkAKPn60s5rntnMAYIYA/viewform?usp=pp_url&entry.1533067892=9P3BLX1X&entry.75952468=NIU%2C%20Computer%20Science%20%28Graduate%29&entry.1504275618=0&entry.1086062394=2&entry.349748918=Car%20Manufacturing&entry.2086070600=No&entry.1259450664=9&entry.2131194762=8&entry.465472354=4&entry.683951344=Yes&entry.1091771499=8&entry.1559684315=9&entry.479603624=4&entry.529608083=No&entry.2115832627=9&entry.1505214318=9&entry.33730306=4&entry.1039248229=Easy&entry.1594355609=Helpful&entry.2005802697=Comfortable&entry.781768819=Helpful&entry.830724702=Helpful&entry.1380670412=Likely&entry.1239224858=No&entry.108809019=\n",
      "3 https://docs.google.com/forms/d/e/1FAIpQLSezfVXVqIStAnDgdXJhPtW8qyYFixqkAKPn60s5rntnMAYIYA/viewform?usp=pp_url&entry.1533067892=XX3YGPTH&entry.75952468=Graduate&entry.1504275618=6&entry.1086062394=1&entry.349748918=Tech&entry.2086070600=No&entry.1259450664=7&entry.2131194762=7&entry.465472354=1&entry.683951344=Yes&entry.1091771499=9&entry.1559684315=9&entry.479603624=4&entry.529608083=No&entry.2115832627=7&entry.1505214318=2&entry.33730306=4&entry.1039248229=Easy&entry.1594355609=Helpful&entry.2005802697=Comfortable&entry.781768819=Helpful&entry.830724702=Helpful&entry.1380670412=Likely&entry.1239224858=&entry.108809019=Setting%20the%20manual%20images%20in%20OneDrive%20to%20Tiles%20made%20it%20much%20faster%20and%20easier%20to%20view%20the%20images%20than%20in%20the%20visAISE%2C%20but%20hard%20or%20impossible%20to%20understand%20the%20context%20of%20each%20image%20without%20the%20visAISE%20descriptions.\n",
      "4 https://docs.google.com/forms/d/e/1FAIpQLSezfVXVqIStAnDgdXJhPtW8qyYFixqkAKPn60s5rntnMAYIYA/viewform?usp=pp_url&entry.1533067892=9ME69DVG&entry.75952468=Masters&entry.1504275618=3&entry.1086062394=&entry.349748918=Software%20development%20&entry.2086070600=No&entry.1259450664=7&entry.2131194762=7&entry.465472354=6&entry.683951344=Yes&entry.1091771499=10&entry.1559684315=9&entry.479603624=4&entry.529608083=No&entry.2115832627=7&entry.1505214318=7&entry.33730306=6&entry.1039248229=Very%20easy&entry.1594355609=Very%20helpful&entry.2005802697=Very%20comfortable&entry.781768819=Very%20helpful&entry.830724702=Helpful&entry.1380670412=Very%20likely&entry.1239224858=&entry.108809019=\n",
      "5 https://docs.google.com/forms/d/e/1FAIpQLSezfVXVqIStAnDgdXJhPtW8qyYFixqkAKPn60s5rntnMAYIYA/viewform?usp=pp_url&entry.1533067892=F7A5A3H4&entry.75952468=&entry.1504275618=&entry.1086062394=&entry.349748918=&entry.2086070600=Yes&entry.1259450664=9&entry.2131194762=8&entry.465472354=6&entry.683951344=No&entry.1091771499=8&entry.1559684315=8&entry.479603624=8&entry.529608083=No&entry.2115832627=7&entry.1505214318=9&entry.33730306=4&entry.1039248229=Easy&entry.1594355609=Helpful&entry.2005802697=Comfortable&entry.781768819=Helpful&entry.830724702=Helpful&entry.1380670412=Very%20likely&entry.1239224858=&entry.108809019=\n",
      "6 https://docs.google.com/forms/d/e/1FAIpQLSezfVXVqIStAnDgdXJhPtW8qyYFixqkAKPn60s5rntnMAYIYA/viewform?usp=pp_url&entry.1533067892=RXHPSHVV&entry.75952468=Northern%20Illinois%20University%2C%20MS&entry.1504275618=3&entry.1086062394=3&entry.349748918=Tech%20%28Telecommunications%29&entry.2086070600=No&entry.1259450664=9&entry.2131194762=8&entry.465472354=2&entry.683951344=Yes&entry.1091771499=10&entry.1559684315=10&entry.479603624=1&entry.529608083=No&entry.2115832627=9&entry.1505214318=9&entry.33730306=2&entry.1039248229=Easy&entry.1594355609=Helpful&entry.2005802697=Comfortable&entry.781768819=Helpful&entry.830724702=Helpful&entry.1380670412=Likely&entry.1239224858=&entry.108809019=\n",
      "7 https://docs.google.com/forms/d/e/1FAIpQLSezfVXVqIStAnDgdXJhPtW8qyYFixqkAKPn60s5rntnMAYIYA/viewform?usp=pp_url&entry.1533067892=4QEUK8ML&entry.75952468=Northern%20Illinois%20University%2C%20Masters%20in%20CS&entry.1504275618=2.5&entry.1086062394=2.5&entry.349748918=Tech&entry.2086070600=No&entry.1259450664=10&entry.2131194762=9&entry.465472354=1&entry.683951344=Yes&entry.1091771499=9&entry.1559684315=10&entry.479603624=2&entry.529608083=No&entry.2115832627=2&entry.1505214318=2&entry.33730306=2&entry.1039248229=Easy&entry.1594355609=Helpful&entry.2005802697=Very%20comfortable&entry.781768819=Very%20helpful&entry.830724702=Helpful&entry.1380670412=Likely&entry.1239224858=&entry.108809019=\n",
      "8 https://docs.google.com/forms/d/e/1FAIpQLSezfVXVqIStAnDgdXJhPtW8qyYFixqkAKPn60s5rntnMAYIYA/viewform?usp=pp_url&entry.1533067892=HRF1CR09&entry.75952468=NIU%2CMS.CS&entry.1504275618=0&entry.1086062394=2&entry.349748918=Medical%2C%20Tech%2C%20Software%20testing&entry.2086070600=Yes&entry.1259450664=9&entry.2131194762=9&entry.465472354=4&entry.683951344=No&entry.1091771499=9&entry.1559684315=8&entry.479603624=6&entry.529608083=No&entry.2115832627=9&entry.1505214318=9&entry.33730306=6&entry.1039248229=Very%20easy&entry.1594355609=Very%20helpful&entry.2005802697=Very%20comfortable&entry.781768819=Very%20helpful&entry.830724702=Very%20helpful&entry.1380670412=Very%20likely&entry.1239224858=&entry.108809019=\n"
     ]
    }
   ],
   "source": [
    "l1 = \"\"\"https://docs.google.com/forms/d/e/1FAIpQLSezfVXVqIStAnDgdXJhPtW8qyYFixqkAKPn60s5rntnMAYIYA/viewform?usp=pp_url&entry.1533067892=t&entry.75952468=t&entry.1504275618=t&entry.1086062394=t&entry.349748918=t&entry.2086070600=Yes&entry.1259450664=1&entry.2131194762=1&entry.465472354=1&entry.683951344=Yes&entry.1091771499=1&entry.1559684315=1&entry.479603624=1&entry.529608083=Yes&entry.2115832627=1&entry.1505214318=1&entry.33730306=1&entry.1039248229=Very+easy&entry.1594355609=Very+helpful&entry.2005802697=Very+comfortable&entry.781768819=Very+helpful&entry.830724702=Very+helpful&entry.1380670412=Very+unlikely&entry.1239224858=t&entry.108809019=t\"\"\"\n",
    "list_of_links_var3_no = get_links(l1, variant3_df_no)\n",
    "for i, el in enumerate(list_of_links_var3_no):\n",
    "     print(i + 1, el)"
   ]
  }
 ],
 "metadata": {
  "kernelspec": {
   "display_name": "3.7",
   "language": "python",
   "name": "python3"
  },
  "language_info": {
   "codemirror_mode": {
    "name": "ipython",
    "version": 3
   },
   "file_extension": ".py",
   "mimetype": "text/x-python",
   "name": "python",
   "nbconvert_exporter": "python",
   "pygments_lexer": "ipython3",
   "version": "3.8.16"
  },
  "orig_nbformat": 4
 },
 "nbformat": 4,
 "nbformat_minor": 2
}
